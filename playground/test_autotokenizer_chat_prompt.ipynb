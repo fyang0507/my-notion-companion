{
 "cells": [
  {
   "cell_type": "markdown",
   "id": "fe06bb91-669b-4ae2-a662-9fcbafd980d1",
   "metadata": {},
   "source": [
    "# Test AutoTokenizer prompt template\n",
    "https://huggingface.co/docs/transformers/main/en/chat_templating"
   ]
  },
  {
   "cell_type": "code",
   "execution_count": 1,
   "id": "36bfad4e-eaea-4bfb-bfb6-abf8f4816cc4",
   "metadata": {},
   "outputs": [],
   "source": [
    "from transformers import AutoTokenizer"
   ]
  },
  {
   "cell_type": "markdown",
   "id": "bad43a12-4768-4de7-975e-066b6d11227c",
   "metadata": {},
   "source": [
    "HuggingFaceH4/zephyr-7b-beta\n",
    "\n",
    "Qwen/Qwen-7B-Chat\n",
    "\n",
    "01-ai/Yi-6B-Chat\n",
    "\n",
    "hfl/chinese-alpaca-2-7b\n",
    "\n",
    "baichuan-inc/Baichuan-7B"
   ]
  },
  {
   "cell_type": "code",
   "execution_count": 2,
   "id": "45b5d89c-ef9c-4396-a18b-8f3bb71f1629",
   "metadata": {},
   "outputs": [
    {
     "data": {
      "text/plain": [
       "'<|system|>\\nYou are a friendly chatbot who always responds in the style of a pirate</s>\\n<|user|>\\nHow many helicopters can a human eat in one sitting?</s>\\n<|assistant|>\\n'"
      ]
     },
     "execution_count": 2,
     "metadata": {},
     "output_type": "execute_result"
    }
   ],
   "source": [
    "t = AutoTokenizer.from_pretrained(\"HuggingFaceH4/zephyr-7b-beta\", trust_remote_code=True)\n",
    "\n",
    "messages = [\n",
    "    {\n",
    "        \"role\": \"system\",\n",
    "        \"content\": \"You are a friendly chatbot who always responds in the style of a pirate\",\n",
    "    },\n",
    "    {\"role\": \"user\", \"content\": \"How many helicopters can a human eat in one sitting?\"},\n",
    " ]\n",
    "tokenized_chat = t.apply_chat_template(messages, tokenize=False, add_generation_prompt=True)\n",
    "tokenized_chat"
   ]
  },
  {
   "cell_type": "code",
   "execution_count": 7,
   "id": "4e7b2e01-71b6-456d-a63d-e686553bc6bb",
   "metadata": {},
   "outputs": [
    {
     "data": {
      "text/plain": [
       "'<|im_start|>system\\nYou are a friendly chatbot who always responds in the style of a pirate<|im_end|>\\n<|im_start|>user\\nHow many helicopters can a human eat in one sitting?<|im_end|>\\n<|im_start|>assistant\\n'"
      ]
     },
     "execution_count": 7,
     "metadata": {},
     "output_type": "execute_result"
    }
   ],
   "source": [
    "t = AutoTokenizer.from_pretrained(\"Qwen/Qwen-7B-Chat\", trust_remote_code=True)\n",
    "\n",
    "messages = [\n",
    "    {\n",
    "        \"role\": \"system\",\n",
    "        \"content\": \"You are a friendly chatbot who always responds in the style of a pirate\",\n",
    "    },\n",
    "    {\"role\": \"user\", \"content\": \"How many helicopters can a human eat in one sitting?\"},\n",
    " ]\n",
    "tokenized_chat = t.apply_chat_template(messages, tokenize=False, add_generation_prompt=True)\n",
    "tokenized_chat"
   ]
  },
  {
   "cell_type": "code",
   "execution_count": 4,
   "id": "686b15f3-cc45-4d27-9731-a1430da50fe8",
   "metadata": {},
   "outputs": [
    {
     "data": {
      "text/plain": [
       "'<|im_start|>system\\nYou are a friendly chatbot who always responds in the style of a pirate<|im_end|>\\n<|im_start|>user\\nHow many helicopters can a human eat in one sitting?<|im_end|>\\n<|im_start|>assistant\\n'"
      ]
     },
     "execution_count": 4,
     "metadata": {},
     "output_type": "execute_result"
    }
   ],
   "source": [
    "t = AutoTokenizer.from_pretrained(\"01-ai/Yi-6B-Chat\", trust_remote_code=True)\n",
    "\n",
    "messages = [\n",
    "    {\n",
    "        \"role\": \"system\",\n",
    "        \"content\": \"You are a friendly chatbot who always responds in the style of a pirate\",\n",
    "    },\n",
    "    {\"role\": \"user\", \"content\": \"How many helicopters can a human eat in one sitting?\"},\n",
    " ]\n",
    "tokenized_chat = t.apply_chat_template(messages, tokenize=False, add_generation_prompt=True)\n",
    "tokenized_chat"
   ]
  },
  {
   "cell_type": "code",
   "execution_count": 5,
   "id": "df1abeae-82ad-4224-968e-1d7d7fc80b8a",
   "metadata": {
    "scrolled": true
   },
   "outputs": [
    {
     "name": "stderr",
     "output_type": "stream",
     "text": [
      "\n",
      "No chat template is defined for this tokenizer - using the default template for the LlamaTokenizerFast class. If the default is not appropriate for your model, please set `tokenizer.chat_template` to an appropriate template. See https://huggingface.co/docs/transformers/main/chat_templating for more information.\n",
      "\n"
     ]
    },
    {
     "data": {
      "text/plain": [
       "'<s>[INST] <<SYS>>\\nYou are a friendly chatbot who always responds in the style of a pirate\\n<</SYS>>\\n\\nHow many helicopters can a human eat in one sitting? [/INST]'"
      ]
     },
     "execution_count": 5,
     "metadata": {},
     "output_type": "execute_result"
    }
   ],
   "source": [
    "t = AutoTokenizer.from_pretrained(\"hfl/chinese-alpaca-2-7b\", trust_remote_code=True)\n",
    "\n",
    "messages = [\n",
    "    {\n",
    "        \"role\": \"system\",\n",
    "        \"content\": \"You are a friendly chatbot who always responds in the style of a pirate\",\n",
    "    },\n",
    "    {\"role\": \"user\", \"content\": \"How many helicopters can a human eat in one sitting?\"},\n",
    " ]\n",
    "tokenized_chat = t.apply_chat_template(messages, tokenize=False, add_generation_prompt=True)\n",
    "tokenized_chat"
   ]
  },
  {
   "cell_type": "code",
   "execution_count": 6,
   "id": "ae0abd68-f987-4f64-990f-7cd8ec6234ae",
   "metadata": {},
   "outputs": [
    {
     "data": {
      "text/plain": [
       "'<|im_start|>system\\nYou are a friendly chatbot who always responds in the style of a pirate<|im_end|>\\n<|im_start|>user\\nHow many helicopters can a human eat in one sitting?<|im_end|>\\n<|im_start|>assistant\\n'"
      ]
     },
     "execution_count": 6,
     "metadata": {},
     "output_type": "execute_result"
    }
   ],
   "source": [
    "t = AutoTokenizer.from_pretrained(\"baichuan-inc/Baichuan-7B\", trust_remote_code=True)\n",
    "\n",
    "messages = [\n",
    "    {\n",
    "        \"role\": \"system\",\n",
    "        \"content\": \"You are a friendly chatbot who always responds in the style of a pirate\",\n",
    "    },\n",
    "    {\"role\": \"user\", \"content\": \"How many helicopters can a human eat in one sitting?\"},\n",
    " ]\n",
    "tokenized_chat = t.apply_chat_template(messages, tokenize=False, add_generation_prompt=True)\n",
    "tokenized_chat"
   ]
  },
  {
   "cell_type": "code",
   "execution_count": null,
   "id": "689cf892-fedb-486a-bb47-7a8088fce1aa",
   "metadata": {},
   "outputs": [],
   "source": []
  }
 ],
 "metadata": {
  "kernelspec": {
   "display_name": "Python 3 (ipykernel)",
   "language": "python",
   "name": "python3"
  },
  "language_info": {
   "codemirror_mode": {
    "name": "ipython",
    "version": 3
   },
   "file_extension": ".py",
   "mimetype": "text/x-python",
   "name": "python",
   "nbconvert_exporter": "python",
   "pygments_lexer": "ipython3",
   "version": "3.11.7"
  }
 },
 "nbformat": 4,
 "nbformat_minor": 5
}
