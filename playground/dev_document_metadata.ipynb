{
 "cells": [
  {
   "cell_type": "code",
   "execution_count": 1,
   "id": "adfa2f55-5501-4e91-8614-eb498e5d1f27",
   "metadata": {},
   "outputs": [],
   "source": [
    "%load_ext autoreload\n",
    "%autoreload 2"
   ]
  },
  {
   "cell_type": "code",
   "execution_count": 2,
   "id": "ac9e45f8-f9f4-4561-a62b-6a3142b65ecf",
   "metadata": {},
   "outputs": [],
   "source": [
    "import sys\n",
    "sys.path.append('../')"
   ]
  },
  {
   "cell_type": "code",
   "execution_count": 4,
   "id": "a24cce9f-470b-488a-aeb4-6456a44f73ed",
   "metadata": {},
   "outputs": [],
   "source": [
    "import pickle\n",
    "with open('../data/notion.pkl', 'rb') as f:\n",
    "    docs = pickle.load(f)"
   ]
  },
  {
   "cell_type": "code",
   "execution_count": 6,
   "id": "5bcfaa92-7623-45bb-a8fe-c1f79f257889",
   "metadata": {},
   "outputs": [
    {
     "data": {
      "text/plain": [
       "226"
      ]
     },
     "execution_count": 6,
     "metadata": {},
     "output_type": "execute_result"
    }
   ],
   "source": [
    "len(docs)"
   ]
  },
  {
   "cell_type": "code",
   "execution_count": 19,
   "id": "457866ec-d2d6-4ec3-a8db-bdb9dc3e7715",
   "metadata": {},
   "outputs": [
    {
     "name": "stdout",
     "output_type": "stream",
     "text": [
      "文档1\n",
      "\n",
      "内容：\n",
      "人生四不捡：塔吊下边\n",
      "\n",
      "元数据：\n",
      "{'name': '笑死', 'id': '2303056b-72f1-4f9a-b377-cf6b12a0d424', 'source': '格言小集'}\n",
      "\n",
      "------------------------------\n",
      "\n",
      "文档2\n",
      "\n",
      "内容：\n",
      "\n",
      "名为太阳的溶剂\n",
      "\n",
      "\n",
      "\n",
      "元数据：\n",
      "{'name': '沃滋集朔德', 'id': '340f4781-1042-4534-b286-b758b0ca09a4', 'source': '格言小集'}\n",
      "\n",
      "------------------------------\n",
      "\n",
      "文档3\n",
      "\n",
      "内容：\n",
      "《周六下午的好天气》\n",
      "\n",
      "元数据：\n",
      "{'name': 'Misc.', 'id': '1b0b9f3a-5c82-4682-abb7-a66fa6854166', 'source': '格言小集'}\n",
      "\n",
      "-----------------------------\n"
     ]
    }
   ],
   "source": [
    "def format_doc_with_metadata(doc):\n",
    "    return \"内容：\\n\" + doc.page_content[:10] + \"\\n\\n元数据：\\n\" + str(doc.metadata)\n",
    "\n",
    "\n",
    "def format_docs(docs):\n",
    "    s = \"\"\n",
    "    for idx, doc in enumerate(docs):\n",
    "        s += f'文档{idx+1}\\n\\n'\n",
    "        s += format_doc_with_metadata(doc)\n",
    "        s += \"\\n\\n\\n\"\n",
    "\n",
    "    return s[:-3]\n",
    "\n",
    "print(format_docs(docs[:3]))"
   ]
  },
  {
   "cell_type": "code",
   "execution_count": null,
   "id": "45dc8d60-070c-4aea-947e-6cadc1fbd801",
   "metadata": {},
   "outputs": [],
   "source": []
  }
 ],
 "metadata": {
  "kernelspec": {
   "display_name": "Python 3 (ipykernel)",
   "language": "python",
   "name": "python3"
  },
  "language_info": {
   "codemirror_mode": {
    "name": "ipython",
    "version": 3
   },
   "file_extension": ".py",
   "mimetype": "text/x-python",
   "name": "python",
   "nbconvert_exporter": "python",
   "pygments_lexer": "ipython3",
   "version": "3.12.2"
  }
 },
 "nbformat": 4,
 "nbformat_minor": 5
}
