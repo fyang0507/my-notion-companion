{
 "cells": [
  {
   "cell_type": "markdown",
   "id": "d0751d17-27d1-4b80-a6d0-1ac9e6dcf948",
   "metadata": {},
   "source": [
    "# Self-query\n",
    "\n",
    "* retriever:\n",
    "  * `Self-querying retriever` --  use an LLM to construct new queries that can question the structured data/metadata of the document\n",
    "  * `MultiQueryRetriever` -- allow an LLM to paraphrase the query to get hopefully a diverse set of docs\n",
    "  * `Contextual compression` -- use an LLM to pre-filter and compress the docs retrieved before feeding the contexts to another LLM to answer\n",
    "  * https://python.langchain.com/docs/modules/data_connection/retrievers/\n",
    "* retrieval methods: cos/dot; llm-aided; MMR (Maximum marginal relevance)"
   ]
  },
  {
   "cell_type": "code",
   "execution_count": 1,
   "id": "152891d4-9bb8-4cc1-abf1-3207a625cefc",
   "metadata": {},
   "outputs": [],
   "source": [
    "%load_ext autoreload\n",
    "%autoreload 2"
   ]
  },
  {
   "cell_type": "code",
   "execution_count": 2,
   "id": "140baf02-574d-4a1f-adea-1c4e58364026",
   "metadata": {},
   "outputs": [],
   "source": [
    "from typing import Dict, List\n",
    "from langchain_core.documents.base import Document"
   ]
  },
  {
   "cell_type": "code",
   "execution_count": 3,
   "id": "d2572370-bc5b-48d9-ad92-5c383595915d",
   "metadata": {},
   "outputs": [],
   "source": [
    "import tomllib\n",
    "\n",
    "with open('../.tokens.toml', 'rb') as f:\n",
    "    _TOKENS = tomllib.load(f)\n",
    "\n",
    "with open('../.config.toml', 'rb') as f:\n",
    "    _CONFIGS = tomllib.load(f)"
   ]
  },
  {
   "cell_type": "code",
   "execution_count": 4,
   "id": "183ddf4a-ae95-4d76-9bc3-a2e49dcffdf0",
   "metadata": {},
   "outputs": [],
   "source": [
    "from langchain_community.embeddings import HuggingFaceInferenceAPIEmbeddings\n",
    "from langchain_community.vectorstores import Chroma\n",
    "\n",
    "embeddings = HuggingFaceInferenceAPIEmbeddings(\n",
    "    api_key=_TOKENS['huggingface'], \n",
    "    model_name=\"sentence-transformers/distiluse-base-multilingual-cased-v1\"\n",
    ")\n",
    "\n",
    "vs_chroma = Chroma(persist_directory='../database/vs_chroma', embedding_function=embeddings)"
   ]
  },
  {
   "cell_type": "code",
   "execution_count": 5,
   "id": "c1aea029-97f6-4474-8a48-c4f4133dafc4",
   "metadata": {
    "scrolled": true
   },
   "outputs": [],
   "source": [
    "# # chroma applies filter before semantic sesarch\n",
    "# vs_chroma.similarity_search_with_score(\n",
    "#     '谁说过陌生贵己？', \n",
    "#     filter={\n",
    "#         'author': '【中】冯友兰',\n",
    "#     },\n",
    "#     k=2,\n",
    "# )"
   ]
  },
  {
   "cell_type": "code",
   "execution_count": 6,
   "id": "b18bcdc6-6c77-4357-b1b3-27e1e6138d30",
   "metadata": {},
   "outputs": [
    {
     "data": {
      "text/plain": [
       "{'author', 'date_end', 'date_start', 'id', 'name', 'source', 'tags'}"
      ]
     },
     "execution_count": 6,
     "metadata": {},
     "output_type": "execute_result"
    }
   ],
   "source": [
    "metadata = vs_chroma.get(include=[\"metadatas\"])\n",
    "\n",
    "metadata_set = set()\n",
    "\n",
    "for x in metadata['metadatas']:\n",
    "    metadata_set = metadata_set.union(list(x.keys()))\n",
    "\n",
    "metadata_set"
   ]
  },
  {
   "cell_type": "code",
   "execution_count": 7,
   "id": "ca8535b6-429d-4092-98e8-933034489267",
   "metadata": {},
   "outputs": [
    {
     "data": {
      "text/plain": [
       "{'author': {'description': '本篇文章的作者', 'type': 'string'},\n",
       " 'date_start': {'description': '文章被创建的时间，格式是YYYY-MM-DD', 'type': 'string'},\n",
       " 'date_end': {'description': '文章被完成的时间，格式是YYYY-MM-DD', 'type': 'string'},\n",
       " 'id': {'description': '文章的id', 'type': 'string'},\n",
       " 'name': {'description': '文章的名字', 'type': 'string'},\n",
       " 'source': {'description': '文章的来源，这里的文章取自若干不同数据库', 'type': 'string'},\n",
       " 'tags': {'description': '文章的标签，可能代表它的风格、题材、来源，或者系列', 'type': 'string'}}"
      ]
     },
     "execution_count": 7,
     "metadata": {},
     "output_type": "execute_result"
    }
   ],
   "source": [
    "metadata = _CONFIGS['attributes']\n",
    "metadata"
   ]
  },
  {
   "cell_type": "code",
   "execution_count": 8,
   "id": "3cd28f7e-1891-4218-b1dd-2aef112e848d",
   "metadata": {},
   "outputs": [],
   "source": [
    "# ensure there's no more undocumented metadata\n",
    "assert metadata_set.union(metadata.keys()) == metadata_set"
   ]
  },
  {
   "cell_type": "code",
   "execution_count": 9,
   "id": "e371368b-92d2-47ad-abf8-4155aacfa2ef",
   "metadata": {},
   "outputs": [
    {
     "data": {
      "text/plain": [
       "{'author', 'date_end', 'date_start', 'id', 'name', 'source', 'tags'}"
      ]
     },
     "execution_count": 9,
     "metadata": {},
     "output_type": "execute_result"
    }
   ],
   "source": [
    "metadata_set"
   ]
  },
  {
   "cell_type": "code",
   "execution_count": 10,
   "id": "0c6da61c-8dcf-4c01-b8a0-e84b5db43332",
   "metadata": {
    "scrolled": true
   },
   "outputs": [
    {
     "name": "stderr",
     "output_type": "stream",
     "text": [
      "/Users/fred/micromamba/envs/my-notion-companion/lib/python3.11/site-packages/langchain_core/utils/utils.py:159: UserWarning: WARNING! conversation is not default parameter.\n",
      "                conversation was transferred to model_kwargs.\n",
      "                Please confirm that conversation is what you intended.\n",
      "  warnings.warn(\n",
      "llama_model_loader: loaded meta data with 19 key-value pairs and 259 tensors from /Users/fred/Documents/models/Qwen-7B-Chat.Q4_K_M.gguf (version GGUF V3 (latest))\n",
      "llama_model_loader: Dumping metadata keys/values. Note: KV overrides do not apply in this output.\n",
      "llama_model_loader: - kv   0:                       general.architecture str              = qwen\n",
      "llama_model_loader: - kv   1:                               general.name str              = Qwen\n",
      "llama_model_loader: - kv   2:                        qwen.context_length u32              = 32768\n",
      "llama_model_loader: - kv   3:                           qwen.block_count u32              = 32\n",
      "llama_model_loader: - kv   4:                      qwen.embedding_length u32              = 4096\n",
      "llama_model_loader: - kv   5:                   qwen.feed_forward_length u32              = 22016\n",
      "llama_model_loader: - kv   6:                        qwen.rope.freq_base f32              = 10000.000000\n",
      "llama_model_loader: - kv   7:                  qwen.rope.dimension_count u32              = 128\n",
      "llama_model_loader: - kv   8:                  qwen.attention.head_count u32              = 32\n",
      "llama_model_loader: - kv   9:      qwen.attention.layer_norm_rms_epsilon f32              = 0.000001\n",
      "llama_model_loader: - kv  10:                       tokenizer.ggml.model str              = gpt2\n",
      "llama_model_loader: - kv  11:                      tokenizer.ggml.tokens arr[str,151936]  = [\"!\", \"\\\"\", \"#\", \"$\", \"%\", \"&\", \"'\", ...\n",
      "llama_model_loader: - kv  12:                  tokenizer.ggml.token_type arr[i32,151936]  = [1, 1, 1, 1, 1, 1, 1, 1, 1, 1, 1, 1, ...\n",
      "llama_model_loader: - kv  13:                      tokenizer.ggml.merges arr[str,151387]  = [\"Ġ Ġ\", \"ĠĠ ĠĠ\", \"i n\", \"Ġ t\",...\n",
      "llama_model_loader: - kv  14:                tokenizer.ggml.bos_token_id u32              = 151643\n",
      "llama_model_loader: - kv  15:                tokenizer.ggml.eos_token_id u32              = 151643\n",
      "llama_model_loader: - kv  16:            tokenizer.ggml.unknown_token_id u32              = 151643\n",
      "llama_model_loader: - kv  17:               general.quantization_version u32              = 2\n",
      "llama_model_loader: - kv  18:                          general.file_type u32              = 15\n",
      "llama_model_loader: - type  f32:   97 tensors\n",
      "llama_model_loader: - type q4_K:  113 tensors\n",
      "llama_model_loader: - type q5_K:   32 tensors\n",
      "llama_model_loader: - type q6_K:   17 tensors\n",
      "llm_load_vocab: special tokens definition check successful ( 293/151936 ).\n",
      "llm_load_print_meta: format           = GGUF V3 (latest)\n",
      "llm_load_print_meta: arch             = qwen\n",
      "llm_load_print_meta: vocab type       = BPE\n",
      "llm_load_print_meta: n_vocab          = 151936\n",
      "llm_load_print_meta: n_merges         = 151387\n",
      "llm_load_print_meta: n_ctx_train      = 32768\n",
      "llm_load_print_meta: n_embd           = 4096\n",
      "llm_load_print_meta: n_head           = 32\n",
      "llm_load_print_meta: n_head_kv        = 32\n",
      "llm_load_print_meta: n_layer          = 32\n",
      "llm_load_print_meta: n_rot            = 128\n",
      "llm_load_print_meta: n_embd_head_k    = 128\n",
      "llm_load_print_meta: n_embd_head_v    = 128\n",
      "llm_load_print_meta: n_gqa            = 1\n",
      "llm_load_print_meta: n_embd_k_gqa     = 4096\n",
      "llm_load_print_meta: n_embd_v_gqa     = 4096\n",
      "llm_load_print_meta: f_norm_eps       = 0.0e+00\n",
      "llm_load_print_meta: f_norm_rms_eps   = 1.0e-06\n",
      "llm_load_print_meta: f_clamp_kqv      = 0.0e+00\n",
      "llm_load_print_meta: f_max_alibi_bias = 0.0e+00\n",
      "llm_load_print_meta: n_ff             = 22016\n",
      "llm_load_print_meta: n_expert         = 0\n",
      "llm_load_print_meta: n_expert_used    = 0\n",
      "llm_load_print_meta: rope scaling     = linear\n",
      "llm_load_print_meta: freq_base_train  = 10000.0\n",
      "llm_load_print_meta: freq_scale_train = 1\n",
      "llm_load_print_meta: n_yarn_orig_ctx  = 32768\n",
      "llm_load_print_meta: rope_finetuned   = unknown\n",
      "llm_load_print_meta: model type       = 7B\n",
      "llm_load_print_meta: model ftype      = Q4_K - Medium\n",
      "llm_load_print_meta: model params     = 7.72 B\n",
      "llm_load_print_meta: model size       = 4.56 GiB (5.07 BPW) \n",
      "llm_load_print_meta: general.name     = Qwen\n",
      "llm_load_print_meta: BOS token        = 151643 '[PAD151643]'\n",
      "llm_load_print_meta: EOS token        = 151643 '[PAD151643]'\n",
      "llm_load_print_meta: UNK token        = 151643 '[PAD151643]'\n",
      "llm_load_print_meta: LF token         = 148848 'ÄĬ'\n",
      "llm_load_tensors: ggml ctx size =    0.20 MiB\n",
      "ggml_backend_metal_buffer_from_ptr: allocated buffer, size =   612.59 MiB, (  612.66 / 10922.67)\n",
      "llm_load_tensors: offloading 1 repeating layers to GPU\n",
      "llm_load_tensors: offloaded 1/33 layers to GPU\n",
      "llm_load_tensors:        CPU buffer size =  4666.59 MiB\n",
      "llm_load_tensors:      Metal buffer size =   612.59 MiB\n",
      "....................................................................................\n",
      "llama_new_context_with_model: n_ctx      = 4096\n",
      "llama_new_context_with_model: freq_base  = 10000.0\n",
      "llama_new_context_with_model: freq_scale = 1\n",
      "ggml_metal_init: allocating\n",
      "ggml_metal_init: found device: Apple M2 Pro\n",
      "ggml_metal_init: picking default device: Apple M2 Pro\n",
      "ggml_metal_init: default.metallib not found, loading from source\n",
      "ggml_metal_init: GGML_METAL_PATH_RESOURCES = nil\n",
      "ggml_metal_init: loading '/Users/fred/micromamba/envs/my-notion-companion/lib/python3.11/site-packages/llama_cpp/ggml-metal.metal'\n",
      "ggml_metal_init: GPU name:   Apple M2 Pro\n",
      "ggml_metal_init: GPU family: MTLGPUFamilyApple8  (1008)\n",
      "ggml_metal_init: GPU family: MTLGPUFamilyCommon3 (3003)\n",
      "ggml_metal_init: GPU family: MTLGPUFamilyMetal3  (5001)\n",
      "ggml_metal_init: simdgroup reduction support   = true\n",
      "ggml_metal_init: simdgroup matrix mul. support = true\n",
      "ggml_metal_init: hasUnifiedMemory              = true\n",
      "ggml_metal_init: recommendedMaxWorkingSetSize  = 11453.25 MB\n",
      "llama_kv_cache_init:        CPU KV buffer size =  1984.00 MiB\n",
      "ggml_backend_metal_buffer_type_alloc_buffer: allocated buffer, size =    64.00 MiB, (  678.22 / 10922.67)\n",
      "llama_kv_cache_init:      Metal KV buffer size =    64.00 MiB\n",
      "llama_new_context_with_model: KV self size  = 2048.00 MiB, K (f16): 1024.00 MiB, V (f16): 1024.00 MiB\n",
      "llama_new_context_with_model:        CPU input buffer size   =    16.02 MiB\n",
      "ggml_backend_metal_buffer_type_alloc_buffer: allocated buffer, size =     0.02 MiB, (  678.23 / 10922.67)\n",
      "ggml_backend_metal_buffer_type_alloc_buffer: allocated buffer, size =   308.02 MiB, (  986.23 / 10922.67)\n",
      "llama_new_context_with_model:      Metal compute buffer size =   308.00 MiB\n",
      "llama_new_context_with_model:        CPU compute buffer size =   335.23 MiB\n",
      "llama_new_context_with_model: graph splits (measure): 5\n",
      "AVX = 0 | AVX_VNNI = 0 | AVX2 = 0 | AVX512 = 0 | AVX512_VBMI = 0 | AVX512_VNNI = 0 | FMA = 0 | NEON = 1 | ARM_FMA = 1 | F16C = 0 | FP16_VA = 1 | WASM_SIMD = 0 | BLAS = 1 | SSE3 = 0 | SSSE3 = 0 | VSX = 0 | \n",
      "Model metadata: {'general.file_type': '15', 'tokenizer.ggml.unknown_token_id': '151643', 'tokenizer.ggml.eos_token_id': '151643', 'tokenizer.ggml.model': 'gpt2', 'general.quantization_version': '2', 'qwen.attention.head_count': '32', 'qwen.rope.freq_base': '10000.000000', 'tokenizer.ggml.bos_token_id': '151643', 'qwen.feed_forward_length': '22016', 'qwen.attention.layer_norm_rms_epsilon': '0.000001', 'qwen.embedding_length': '4096', 'qwen.rope.dimension_count': '128', 'qwen.context_length': '32768', 'qwen.block_count': '32', 'general.name': 'Qwen', 'general.architecture': 'qwen'}\n"
     ]
    }
   ],
   "source": [
    "from langchain_community.llms import LlamaCpp\n",
    "\n",
    "\n",
    "llm = LlamaCpp(\n",
    "    model_path=_CONFIGS['model_path']+'/'+'Qwen-7B-Chat.Q4_K_M.gguf',\n",
    "    name='Qwen/Qwen-7B-Chat', \n",
    "    **_CONFIGS['llm']\n",
    ")\n",
    "\n",
    "\n",
    "# llm = LlamaCpp(\n",
    "#     model_path=_CONFIGS['model_path']+'/'+'qwen1_5-7b-chat-q4_0.gguf',\n",
    "#     name='Qwen/Qwen1.5-7B-Chat', \n",
    "#     **_CONFIGS['llm']\n",
    "# )\n",
    "\n",
    "# llm = LlamaCpp(\n",
    "#     model_path=_CONFIGS['model_path']+'/'+'zephyr-7b-beta.Q4_K_M.gguf',\n",
    "#     name='HuggingFaceH4/zephyr-7b-beta', \n",
    "#     **_CONFIGS['llm']\n",
    "# )"
   ]
  },
  {
   "cell_type": "code",
   "execution_count": 11,
   "id": "60d99d07-c280-445f-97f3-7fb570f2a9e2",
   "metadata": {},
   "outputs": [
    {
     "data": {
      "text/plain": [
       "[AttributeInfo(name='author', description='本篇文章的作者', type='string'),\n",
       " AttributeInfo(name='date_start', description='文章被创建的时间，格式是YYYY-MM-DD', type='string'),\n",
       " AttributeInfo(name='date_end', description='文章被完成的时间，格式是YYYY-MM-DD', type='string'),\n",
       " AttributeInfo(name='id', description='文章的id', type='string'),\n",
       " AttributeInfo(name='name', description='文章的名字', type='string'),\n",
       " AttributeInfo(name='source', description='文章的来源，这里的文章取自若干不同数据库', type='string'),\n",
       " AttributeInfo(name='tags', description='文章的标签，可能代表它的风格、题材、来源，或者系列', type='string')]"
      ]
     },
     "execution_count": 11,
     "metadata": {},
     "output_type": "execute_result"
    }
   ],
   "source": [
    "from langchain.chains.query_constructor.base import AttributeInfo\n",
    "\n",
    "attribute_info = list()\n",
    "\n",
    "for k, v in metadata.items():\n",
    "    attribute_info.append(\n",
    "        AttributeInfo(\n",
    "            name=k,\n",
    "            description=v['description'],\n",
    "            type=v['type']\n",
    "        )\n",
    "    )\n",
    "\n",
    "attribute_info"
   ]
  },
  {
   "cell_type": "markdown",
   "id": "356ac868-e21f-4579-9a5a-8e29bf7eb629",
   "metadata": {},
   "source": [
    "# Construct customized self-query retriever\n",
    "\n",
    "Q: Why not using the standard?\n",
    "A: The standard SelfQueryRetriever Class provides a standard prompt template that uses few-show examples to tell llm how to construct structured query (examples can be found in [langchain.chains.query_constructor.prompt](https://github.com/langchain-ai/langchain/blob/master/libs/langchain/langchain/chains/query_constructor/prompt.py). Most examples inside uses EQ (=) comparator, which isn't suitable for our use cases (mostly fuzzy matches). Therefore, we will reconstruct the self-query retriever using a customized few-shot prompt teamplate.\n",
    "\n",
    "Q: why do we copied the `get_query_constructor_prompt` provided?\n",
    "A: Its original dependency `construct_examples` will decode json using ASCII by default, which won't support Chinese, we'll need to overwrite the two functions\n",
    "\n",
    "```python\n",
    "retriever = SelfQueryRetriever.from_llm(\n",
    "    llm=llm,\n",
    "    vectorstore=vs_chroma,\n",
    "    document_contents='Articles and excerpts.',\n",
    "    metadata_field_info=metadata_field_info,\n",
    ")\n",
    "```\n",
    "\n",
    "References: \n",
    "https://python.langchain.com/docs/modules/data_connection/retrievers/self_query/#constructing-from-scratch-with-lcel"
   ]
  },
  {
   "cell_type": "code",
   "execution_count": 12,
   "id": "dd19092d-33cf-41da-9c3a-41a3e6035089",
   "metadata": {},
   "outputs": [
    {
     "name": "stdout",
     "output_type": "stream",
     "text": [
      "{'structured_request': {'filter': 'or(like(\"source\", \"笑死\"), in(\"source\", '\n",
      "                                  '\"笑死\"), like(\"tags\", \"笑死\"), in(\"tags\", '\n",
      "                                  '\"笑死\"))',\n",
      "                        'query': '人生有几个不捡'},\n",
      " 'user_query': '人生有几个不捡？仅从“笑死”中找答案。'}\n"
     ]
    }
   ],
   "source": [
    "from pprint import pprint\n",
    "\n",
    "with open('../self_query_examples.toml', 'rb') as f:\n",
    "    self_query_examples = tomllib.load(f)\n",
    "\n",
    "pprint(self_query_examples['example'][0])"
   ]
  },
  {
   "cell_type": "code",
   "execution_count": 13,
   "id": "c91b4a9c-13fe-4611-82d6-0df32b656a1b",
   "metadata": {},
   "outputs": [],
   "source": [
    "# with open('../self_query_template_chinese.txt', 'r') as f:\n",
    "#     self_query_template = \"\\n\".join(f.readlines())\n",
    "\n",
    "with open('../self_query_template.txt', 'r') as f:\n",
    "    self_query_template = \"\\n\".join(f.readlines())"
   ]
  },
  {
   "cell_type": "code",
   "execution_count": 14,
   "id": "82aabfae-d016-443f-a28a-d6694dcfbc5d",
   "metadata": {},
   "outputs": [],
   "source": [
    "from typing import Sequence, Union, Tuple\n",
    "import json\n",
    "from langchain.chains.query_constructor.base import _format_attribute_info, get_query_constructor_prompt\n",
    "from langchain_core.prompts.few_shot import FewShotPromptTemplate\n",
    "from langchain.chains.query_constructor.prompt import USER_SPECIFIED_EXAMPLE_PROMPT, SUFFIX_WITHOUT_DATA_SOURCE\n",
    "\n",
    "def _format_attribute_info(info: Sequence[Union[AttributeInfo, dict]]) -> str:\n",
    "    info_dicts = {}\n",
    "    for i in info:\n",
    "        i_dict = dict(i)\n",
    "        info_dicts[i_dict.pop(\"name\")] = i_dict\n",
    "    # return json.dumps(info_dicts, indent=4, ensure_ascii=False).replace(\"{\", \"{{\").replace(\"}\", \"}}\")\n",
    "    return info_dicts\n",
    "                                                                       \n",
    "def construct_examples(input_output_pairs: Sequence[Tuple[str, dict]]) -> List[dict]:\n",
    "    \"\"\"Construct examples from input-output pairs.\n",
    "\n",
    "    Adapted from: https://github.com/langchain-ai/langchain/blob/master/libs/langchain/langchain/chains/query_constructor/base.py\n",
    "    \"\"\"\n",
    "    examples = []\n",
    "    for i, (_input, output) in enumerate(input_output_pairs):\n",
    "        structured_request = (\n",
    "            json.dumps(output, indent=4, ensure_ascii=False).replace(\"{\", \"{{\").replace(\"}\", \"}}\")\n",
    "        )\n",
    "        example = {\n",
    "            \"i\": i + 1,\n",
    "            \"user_query\": _input,\n",
    "            \"structured_request\": structured_request,\n",
    "        }\n",
    "        examples.append(example)\n",
    "    return examples\n",
    "\n",
    "examples = construct_examples(\n",
    "    [(x['user_query'], x['structured_request']) for x in self_query_examples['example']]\n",
    ")\n",
    "\n",
    "prompt = FewShotPromptTemplate(\n",
    "    examples=list(examples),\n",
    "    example_prompt=USER_SPECIFIED_EXAMPLE_PROMPT,\n",
    "    input_variables=[\"query\"],\n",
    "    # suffix=\"\",\n",
    "    suffix=SUFFIX_WITHOUT_DATA_SOURCE.format(i=len(examples) + 1),\n",
    "    prefix=self_query_template.format(\n",
    "        content_and_attributes=json.dumps({\n",
    "            'content': '文章',\n",
    "            'attributes': _format_attribute_info(attribute_info)\n",
    "        }, indent=4, ensure_ascii=False).replace(\"{\", \"{{\").replace(\"}\", \"}}\"),\n",
    "        attributes_set=str(list(metadata_set))\n",
    "    )\n",
    ")"
   ]
  },
  {
   "cell_type": "code",
   "execution_count": 15,
   "id": "dc8b64d1-237f-4972-b395-64a3c731c62a",
   "metadata": {
    "scrolled": true
   },
   "outputs": [
    {
     "name": "stdout",
     "output_type": "stream",
     "text": [
      "Your goal is to structure the user's query to match the request schema provided below.\n",
      "\n",
      "\n",
      "\n",
      "<< Structured Request Schema >>\n",
      "\n",
      "When responding use a markdown code snippet with a JSON object formatted in the following schema:\n",
      "\n",
      "\n",
      "\n",
      "```json\n",
      "\n",
      "{\n",
      "\n",
      "    \"query\": string \\ text string to compare to document contents\n",
      "\n",
      "    \"filter\": string \\ logical condition statement for filtering documents\n",
      "\n",
      "}\n",
      "\n",
      "```\n",
      "\n",
      "\n",
      "\n",
      "The query string should contain only text that is expected to match the contents of documents. Any conditions in the filter should not be mentioned in the query as well.\n",
      "\n",
      "\n",
      "\n",
      "A logical condition statement is composed of one or more comparison and logical operation statements.\n",
      "\n",
      "\n",
      "\n",
      "A comparison statement takes the form: `comp(attr, val)`:\n",
      "\n",
      "- `comp` (eq | ne | gt | gte | lt | lte | contain | like | in | nin): comparator\n",
      "\n",
      "- `attr` (string):  name of attribute to apply the comparison to\n",
      "\n",
      "- `val` (string): is the comparison value\n",
      "\n",
      "\n",
      "\n",
      "A logical operation statement takes the form `op(statement1, statement2, ...)`:\n",
      "\n",
      "- `op` (and | or | not): logical operator\n",
      "\n",
      "- `statement1`, `statement2`, ... (comparison statements or logical operation statements): one or more statements to apply the operation to\n",
      "\n",
      "\n",
      "\n",
      "Make sure that you only use the comparators and logical operators listed above and no others.\n",
      "\n",
      "Make sure that filters only use the attributed names with its function names if there are functions applied on them.\n",
      "\n",
      "Make sure that filters only use format `YYYY-MM-DD` when handling date data typed values.\n",
      "\n",
      "Make sure that filters take into account the descriptions of attributes and only make comparisons that are feasible given the type of data being stored.\n",
      "\n",
      "Make sure that filters are only used as needed. If there are no filters that should be applied return \"NO_FILTER\" for the filter value.\n",
      "\n",
      "Make sure that filters only refer to attributes that exist in the data source. Available attributes: ['id', 'author', 'date_start', 'date_end', 'tags', 'name', 'source']. Don't make up other attributes.\n",
      "\n",
      "\n",
      "\n",
      "<<Data Source>>\n",
      "\n",
      "```json\n",
      "\n",
      "{\n",
      "    \"content\": \"文章\",\n",
      "    \"attributes\": {\n",
      "        \"author\": {\n",
      "            \"description\": \"本篇文章的作者\",\n",
      "            \"type\": \"string\"\n",
      "        },\n",
      "        \"date_start\": {\n",
      "            \"description\": \"文章被创建的时间，格式是YYYY-MM-DD\",\n",
      "            \"type\": \"string\"\n",
      "        },\n",
      "        \"date_end\": {\n",
      "            \"description\": \"文章被完成的时间，格式是YYYY-MM-DD\",\n",
      "            \"type\": \"string\"\n",
      "        },\n",
      "        \"id\": {\n",
      "            \"description\": \"文章的id\",\n",
      "            \"type\": \"string\"\n",
      "        },\n",
      "        \"name\": {\n",
      "            \"description\": \"文章的名字\",\n",
      "            \"type\": \"string\"\n",
      "        },\n",
      "        \"source\": {\n",
      "            \"description\": \"文章的来源，这里的文章取自若干不同数据库\",\n",
      "            \"type\": \"string\"\n",
      "        },\n",
      "        \"tags\": {\n",
      "            \"description\": \"文章的标签，可能代表它的风格、题材、来源，或者系列\",\n",
      "            \"type\": \"string\"\n",
      "        }\n",
      "    }\n",
      "}\n",
      "\n",
      "```\n",
      "\n",
      "\n",
      "<< Example 1. >>\n",
      "User Query:\n",
      "人生有几个不捡？仅从“笑死”中找答案。\n",
      "\n",
      "Structured Request:\n",
      "```json\n",
      "{\n",
      "    \"query\": \"人生有几个不捡\",\n",
      "    \"filter\": \"or(like(\\\"source\\\", \\\"笑死\\\"), in(\\\"source\\\", \\\"笑死\\\"), like(\\\"tags\\\", \\\"笑死\\\"), in(\\\"tags\\\", \\\"笑死\\\"))\"\n",
      "}\n",
      "```\n",
      "\n",
      "\n",
      "<< Example 2. >>\n",
      "User Query:\n",
      "请从三岛由纪夫的小说找到下文相关片段：“我们之所以突然变得残暴”的后面是什么？\n",
      "\n",
      "Structured Request:\n",
      "```json\n",
      "{\n",
      "    \"query\": \"我们之所以突然变得残暴\",\n",
      "    \"filter\": \"or(like(\\\"tags\\\", \\\"三岛由纪夫\\\"), in(\\\"tags\\\", \\\"三岛由纪夫\\\"), like(\\\"author\\\", \\\"三岛由纪夫\\\"), in(\\\"author\\\", \\\"三岛由纪夫\\\"), like(\\\"tags\\\", \\\"小说\\\"), in(\\\"tags\\\", \\\"小说\\\"))\"\n",
      "}\n",
      "```\n",
      "\n",
      "\n",
      "<< Example 3. >>\n",
      "User Query:\n",
      "《天使与昆虫》是哪位作家的作品？\n",
      "\n",
      "Structured Request:\n",
      "```json\n",
      "{\n",
      "    \"query\": \"\",\n",
      "    \"filter\": \"or(like(\\\"tags\\\", \\\"天使与昆虫\\\"), in(\\\"tags\\\", \\\"天使与昆虫\\\"), like(\\\"name\\\", \\\"天使与昆虫\\\"), in(\\\"name\\\", \\\"天使与昆虫\\\"), like(\\\"source\\\", \\\"天使与昆虫\\\"), in(\\\"source\\\", \\\"天使与昆虫\\\"))\"\n",
      "}\n",
      "```\n",
      "\n",
      "\n",
      "<< Example 4. >>\n",
      "User Query:\n",
      "本多是哪本小说中出现的人物？\n",
      "\n",
      "Structured Request:\n",
      "```json\n",
      "{\n",
      "    \"query\": \"本多\",\n",
      "    \"filter\": \"or(like(\\\"source\\\", \\\"小说\\\"), in(\\\"source\\\", \\\"小说\\\"), like(\\\"tags\\\", \\\"小说\\\"), in(\\\"tags\\\", \\\"小说\\\"))\"\n",
      "}\n",
      "```\n",
      "\n",
      "\n",
      "<< Example 5. >>\n",
      "User Query:\n",
      "我在2019年到2022年间写过多少篇文章？\n",
      "\n",
      "Structured Request:\n",
      "```json\n",
      "{\n",
      "    \"query\": \"\",\n",
      "    \"filter\": \"and(eq(\\\"source\\\", \\\"写作\\\"), gt(\\\"date_start\\\", \\\"2019-01-01\\\"), lt(\\\"date_end\\\", \\\"2022-12-31\\\"))\"\n",
      "}\n",
      "```\n",
      "\n",
      "\n",
      "<< Example 6. >>\n",
      "User Query:\n",
      "\u001b[33;1m\u001b[1;3m{query}\u001b[0m\n",
      "\n",
      "Structured Request:\n",
      "\n"
     ]
    }
   ],
   "source": [
    "prompt.pretty_print()"
   ]
  },
  {
   "cell_type": "code",
   "execution_count": 16,
   "id": "0efb04c6-ad8e-4fac-bbbb-a6f03edb1af3",
   "metadata": {},
   "outputs": [],
   "source": [
    "from langchain.chains.query_constructor.base import StructuredQueryOutputParser\n",
    "output_parser = StructuredQueryOutputParser.from_components()"
   ]
  },
  {
   "cell_type": "code",
   "execution_count": 17,
   "id": "c825baf0-34b2-43af-a0a6-f6a116ce7481",
   "metadata": {
    "scrolled": true
   },
   "outputs": [
    {
     "name": "stdout",
     "output_type": "stream",
     "text": [
      "\u001b[32;1m\u001b[1;3m[chain/start]\u001b[0m \u001b[1m[1:chain:RunnableSequence] Entering Chain run with input:\n",
      "\u001b[0m{\n",
      "  \"query\": \"“每个人都以为他自己至少有一种主要的美德。”是出自哪里？请从“读书笔记（文学）”中找到答案。\"\n",
      "}\n",
      "\u001b[32;1m\u001b[1;3m[chain/start]\u001b[0m \u001b[1m[1:chain:RunnableSequence > 2:prompt:FewShotPromptTemplate] Entering Prompt run with input:\n",
      "\u001b[0m{\n",
      "  \"query\": \"“每个人都以为他自己至少有一种主要的美德。”是出自哪里？请从“读书笔记（文学）”中找到答案。\"\n",
      "}\n",
      "\u001b[36;1m\u001b[1;3m[chain/end]\u001b[0m \u001b[1m[1:chain:RunnableSequence > 2:prompt:FewShotPromptTemplate] [0ms] Exiting Prompt run with output:\n",
      "\u001b[0m{\n",
      "  \"lc\": 1,\n",
      "  \"type\": \"constructor\",\n",
      "  \"id\": [\n",
      "    \"langchain\",\n",
      "    \"prompts\",\n",
      "    \"base\",\n",
      "    \"StringPromptValue\"\n",
      "  ],\n",
      "  \"kwargs\": {\n",
      "    \"text\": \"Your goal is to structure the user's query to match the request schema provided below.\\n\\n\\n\\n<< Structured Request Schema >>\\n\\nWhen responding use a markdown code snippet with a JSON object formatted in the following schema:\\n\\n\\n\\n```json\\n\\n{\\n\\n    \\\"query\\\": string \\\\ text string to compare to document contents\\n\\n    \\\"filter\\\": string \\\\ logical condition statement for filtering documents\\n\\n}\\n\\n```\\n\\n\\n\\nThe query string should contain only text that is expected to match the contents of documents. Any conditions in the filter should not be mentioned in the query as well.\\n\\n\\n\\nA logical condition statement is composed of one or more comparison and logical operation statements.\\n\\n\\n\\nA comparison statement takes the form: `comp(attr, val)`:\\n\\n- `comp` (eq | ne | gt | gte | lt | lte | contain | like | in | nin): comparator\\n\\n- `attr` (string):  name of attribute to apply the comparison to\\n\\n- `val` (string): is the comparison value\\n\\n\\n\\nA logical operation statement takes the form `op(statement1, statement2, ...)`:\\n\\n- `op` (and | or | not): logical operator\\n\\n- `statement1`, `statement2`, ... (comparison statements or logical operation statements): one or more statements to apply the operation to\\n\\n\\n\\nMake sure that you only use the comparators and logical operators listed above and no others.\\n\\nMake sure that filters only use the attributed names with its function names if there are functions applied on them.\\n\\nMake sure that filters only use format `YYYY-MM-DD` when handling date data typed values.\\n\\nMake sure that filters take into account the descriptions of attributes and only make comparisons that are feasible given the type of data being stored.\\n\\nMake sure that filters are only used as needed. If there are no filters that should be applied return \\\"NO_FILTER\\\" for the filter value.\\n\\nMake sure that filters only refer to attributes that exist in the data source. Available attributes: ['id', 'author', 'date_start', 'date_end', 'tags', 'name', 'source']. Don't make up other attributes.\\n\\n\\n\\n<<Data Source>>\\n\\n```json\\n\\n{\\n    \\\"content\\\": \\\"文章\\\",\\n    \\\"attributes\\\": {\\n        \\\"author\\\": {\\n            \\\"description\\\": \\\"本篇文章的作者\\\",\\n            \\\"type\\\": \\\"string\\\"\\n        },\\n        \\\"date_start\\\": {\\n            \\\"description\\\": \\\"文章被创建的时间，格式是YYYY-MM-DD\\\",\\n            \\\"type\\\": \\\"string\\\"\\n        },\\n        \\\"date_end\\\": {\\n            \\\"description\\\": \\\"文章被完成的时间，格式是YYYY-MM-DD\\\",\\n            \\\"type\\\": \\\"string\\\"\\n        },\\n        \\\"id\\\": {\\n            \\\"description\\\": \\\"文章的id\\\",\\n            \\\"type\\\": \\\"string\\\"\\n        },\\n        \\\"name\\\": {\\n            \\\"description\\\": \\\"文章的名字\\\",\\n            \\\"type\\\": \\\"string\\\"\\n        },\\n        \\\"source\\\": {\\n            \\\"description\\\": \\\"文章的来源，这里的文章取自若干不同数据库\\\",\\n            \\\"type\\\": \\\"string\\\"\\n        },\\n        \\\"tags\\\": {\\n            \\\"description\\\": \\\"文章的标签，可能代表它的风格、题材、来源，或者系列\\\",\\n            \\\"type\\\": \\\"string\\\"\\n        }\\n    }\\n}\\n\\n```\\n\\n\\n<< Example 1. >>\\nUser Query:\\n人生有几个不捡？仅从“笑死”中找答案。\\n\\nStructured Request:\\n```json\\n{\\n    \\\"query\\\": \\\"人生有几个不捡\\\",\\n    \\\"filter\\\": \\\"or(like(\\\\\\\"source\\\\\\\", \\\\\\\"笑死\\\\\\\"), in(\\\\\\\"source\\\\\\\", \\\\\\\"笑死\\\\\\\"), like(\\\\\\\"tags\\\\\\\", \\\\\\\"笑死\\\\\\\"), in(\\\\\\\"tags\\\\\\\", \\\\\\\"笑死\\\\\\\"))\\\"\\n}\\n```\\n\\n\\n<< Example 2. >>\\nUser Query:\\n请从三岛由纪夫的小说找到下文相关片段：“我们之所以突然变得残暴”的后面是什么？\\n\\nStructured Request:\\n```json\\n{\\n    \\\"query\\\": \\\"我们之所以突然变得残暴\\\",\\n    \\\"filter\\\": \\\"or(like(\\\\\\\"tags\\\\\\\", \\\\\\\"三岛由纪夫\\\\\\\"), in(\\\\\\\"tags\\\\\\\", \\\\\\\"三岛由纪夫\\\\\\\"), like(\\\\\\\"author\\\\\\\", \\\\\\\"三岛由纪夫\\\\\\\"), in(\\\\\\\"author\\\\\\\", \\\\\\\"三岛由纪夫\\\\\\\"), like(\\\\\\\"tags\\\\\\\", \\\\\\\"小说\\\\\\\"), in(\\\\\\\"tags\\\\\\\", \\\\\\\"小说\\\\\\\"))\\\"\\n}\\n```\\n\\n\\n<< Example 3. >>\\nUser Query:\\n《天使与昆虫》是哪位作家的作品？\\n\\nStructured Request:\\n```json\\n{\\n    \\\"query\\\": \\\"\\\",\\n    \\\"filter\\\": \\\"or(like(\\\\\\\"tags\\\\\\\", \\\\\\\"天使与昆虫\\\\\\\"), in(\\\\\\\"tags\\\\\\\", \\\\\\\"天使与昆虫\\\\\\\"), like(\\\\\\\"name\\\\\\\", \\\\\\\"天使与昆虫\\\\\\\"), in(\\\\\\\"name\\\\\\\", \\\\\\\"天使与昆虫\\\\\\\"), like(\\\\\\\"source\\\\\\\", \\\\\\\"天使与昆虫\\\\\\\"), in(\\\\\\\"source\\\\\\\", \\\\\\\"天使与昆虫\\\\\\\"))\\\"\\n}\\n```\\n\\n\\n<< Example 4. >>\\nUser Query:\\n本多是哪本小说中出现的人物？\\n\\nStructured Request:\\n```json\\n{\\n    \\\"query\\\": \\\"本多\\\",\\n    \\\"filter\\\": \\\"or(like(\\\\\\\"source\\\\\\\", \\\\\\\"小说\\\\\\\"), in(\\\\\\\"source\\\\\\\", \\\\\\\"小说\\\\\\\"), like(\\\\\\\"tags\\\\\\\", \\\\\\\"小说\\\\\\\"), in(\\\\\\\"tags\\\\\\\", \\\\\\\"小说\\\\\\\"))\\\"\\n}\\n```\\n\\n\\n<< Example 5. >>\\nUser Query:\\n我在2019年到2022年间写过多少篇文章？\\n\\nStructured Request:\\n```json\\n{\\n    \\\"query\\\": \\\"\\\",\\n    \\\"filter\\\": \\\"and(eq(\\\\\\\"source\\\\\\\", \\\\\\\"写作\\\\\\\"), gt(\\\\\\\"date_start\\\\\\\", \\\\\\\"2019-01-01\\\\\\\"), lt(\\\\\\\"date_end\\\\\\\", \\\\\\\"2022-12-31\\\\\\\"))\\\"\\n}\\n```\\n\\n\\n<< Example 6. >>\\nUser Query:\\n“每个人都以为他自己至少有一种主要的美德。”是出自哪里？请从“读书笔记（文学）”中找到答案。\\n\\nStructured Request:\\n\"\n",
      "  }\n",
      "}\n",
      "\u001b[32;1m\u001b[1;3m[llm/start]\u001b[0m \u001b[1m[1:chain:RunnableSequence > 3:llm:LlamaCpp] Entering LLM run with input:\n",
      "\u001b[0m{\n",
      "  \"prompts\": [\n",
      "    \"Your goal is to structure the user's query to match the request schema provided below.\\n\\n\\n\\n<< Structured Request Schema >>\\n\\nWhen responding use a markdown code snippet with a JSON object formatted in the following schema:\\n\\n\\n\\n```json\\n\\n{\\n\\n    \\\"query\\\": string \\\\ text string to compare to document contents\\n\\n    \\\"filter\\\": string \\\\ logical condition statement for filtering documents\\n\\n}\\n\\n```\\n\\n\\n\\nThe query string should contain only text that is expected to match the contents of documents. Any conditions in the filter should not be mentioned in the query as well.\\n\\n\\n\\nA logical condition statement is composed of one or more comparison and logical operation statements.\\n\\n\\n\\nA comparison statement takes the form: `comp(attr, val)`:\\n\\n- `comp` (eq | ne | gt | gte | lt | lte | contain | like | in | nin): comparator\\n\\n- `attr` (string):  name of attribute to apply the comparison to\\n\\n- `val` (string): is the comparison value\\n\\n\\n\\nA logical operation statement takes the form `op(statement1, statement2, ...)`:\\n\\n- `op` (and | or | not): logical operator\\n\\n- `statement1`, `statement2`, ... (comparison statements or logical operation statements): one or more statements to apply the operation to\\n\\n\\n\\nMake sure that you only use the comparators and logical operators listed above and no others.\\n\\nMake sure that filters only use the attributed names with its function names if there are functions applied on them.\\n\\nMake sure that filters only use format `YYYY-MM-DD` when handling date data typed values.\\n\\nMake sure that filters take into account the descriptions of attributes and only make comparisons that are feasible given the type of data being stored.\\n\\nMake sure that filters are only used as needed. If there are no filters that should be applied return \\\"NO_FILTER\\\" for the filter value.\\n\\nMake sure that filters only refer to attributes that exist in the data source. Available attributes: ['id', 'author', 'date_start', 'date_end', 'tags', 'name', 'source']. Don't make up other attributes.\\n\\n\\n\\n<<Data Source>>\\n\\n```json\\n\\n{\\n    \\\"content\\\": \\\"文章\\\",\\n    \\\"attributes\\\": {\\n        \\\"author\\\": {\\n            \\\"description\\\": \\\"本篇文章的作者\\\",\\n            \\\"type\\\": \\\"string\\\"\\n        },\\n        \\\"date_start\\\": {\\n            \\\"description\\\": \\\"文章被创建的时间，格式是YYYY-MM-DD\\\",\\n            \\\"type\\\": \\\"string\\\"\\n        },\\n        \\\"date_end\\\": {\\n            \\\"description\\\": \\\"文章被完成的时间，格式是YYYY-MM-DD\\\",\\n            \\\"type\\\": \\\"string\\\"\\n        },\\n        \\\"id\\\": {\\n            \\\"description\\\": \\\"文章的id\\\",\\n            \\\"type\\\": \\\"string\\\"\\n        },\\n        \\\"name\\\": {\\n            \\\"description\\\": \\\"文章的名字\\\",\\n            \\\"type\\\": \\\"string\\\"\\n        },\\n        \\\"source\\\": {\\n            \\\"description\\\": \\\"文章的来源，这里的文章取自若干不同数据库\\\",\\n            \\\"type\\\": \\\"string\\\"\\n        },\\n        \\\"tags\\\": {\\n            \\\"description\\\": \\\"文章的标签，可能代表它的风格、题材、来源，或者系列\\\",\\n            \\\"type\\\": \\\"string\\\"\\n        }\\n    }\\n}\\n\\n```\\n\\n\\n<< Example 1. >>\\nUser Query:\\n人生有几个不捡？仅从“笑死”中找答案。\\n\\nStructured Request:\\n```json\\n{\\n    \\\"query\\\": \\\"人生有几个不捡\\\",\\n    \\\"filter\\\": \\\"or(like(\\\\\\\"source\\\\\\\", \\\\\\\"笑死\\\\\\\"), in(\\\\\\\"source\\\\\\\", \\\\\\\"笑死\\\\\\\"), like(\\\\\\\"tags\\\\\\\", \\\\\\\"笑死\\\\\\\"), in(\\\\\\\"tags\\\\\\\", \\\\\\\"笑死\\\\\\\"))\\\"\\n}\\n```\\n\\n\\n<< Example 2. >>\\nUser Query:\\n请从三岛由纪夫的小说找到下文相关片段：“我们之所以突然变得残暴”的后面是什么？\\n\\nStructured Request:\\n```json\\n{\\n    \\\"query\\\": \\\"我们之所以突然变得残暴\\\",\\n    \\\"filter\\\": \\\"or(like(\\\\\\\"tags\\\\\\\", \\\\\\\"三岛由纪夫\\\\\\\"), in(\\\\\\\"tags\\\\\\\", \\\\\\\"三岛由纪夫\\\\\\\"), like(\\\\\\\"author\\\\\\\", \\\\\\\"三岛由纪夫\\\\\\\"), in(\\\\\\\"author\\\\\\\", \\\\\\\"三岛由纪夫\\\\\\\"), like(\\\\\\\"tags\\\\\\\", \\\\\\\"小说\\\\\\\"), in(\\\\\\\"tags\\\\\\\", \\\\\\\"小说\\\\\\\"))\\\"\\n}\\n```\\n\\n\\n<< Example 3. >>\\nUser Query:\\n《天使与昆虫》是哪位作家的作品？\\n\\nStructured Request:\\n```json\\n{\\n    \\\"query\\\": \\\"\\\",\\n    \\\"filter\\\": \\\"or(like(\\\\\\\"tags\\\\\\\", \\\\\\\"天使与昆虫\\\\\\\"), in(\\\\\\\"tags\\\\\\\", \\\\\\\"天使与昆虫\\\\\\\"), like(\\\\\\\"name\\\\\\\", \\\\\\\"天使与昆虫\\\\\\\"), in(\\\\\\\"name\\\\\\\", \\\\\\\"天使与昆虫\\\\\\\"), like(\\\\\\\"source\\\\\\\", \\\\\\\"天使与昆虫\\\\\\\"), in(\\\\\\\"source\\\\\\\", \\\\\\\"天使与昆虫\\\\\\\"))\\\"\\n}\\n```\\n\\n\\n<< Example 4. >>\\nUser Query:\\n本多是哪本小说中出现的人物？\\n\\nStructured Request:\\n```json\\n{\\n    \\\"query\\\": \\\"本多\\\",\\n    \\\"filter\\\": \\\"or(like(\\\\\\\"source\\\\\\\", \\\\\\\"小说\\\\\\\"), in(\\\\\\\"source\\\\\\\", \\\\\\\"小说\\\\\\\"), like(\\\\\\\"tags\\\\\\\", \\\\\\\"小说\\\\\\\"), in(\\\\\\\"tags\\\\\\\", \\\\\\\"小说\\\\\\\"))\\\"\\n}\\n```\\n\\n\\n<< Example 5. >>\\nUser Query:\\n我在2019年到2022年间写过多少篇文章？\\n\\nStructured Request:\\n```json\\n{\\n    \\\"query\\\": \\\"\\\",\\n    \\\"filter\\\": \\\"and(eq(\\\\\\\"source\\\\\\\", \\\\\\\"写作\\\\\\\"), gt(\\\\\\\"date_start\\\\\\\", \\\\\\\"2019-01-01\\\\\\\"), lt(\\\\\\\"date_end\\\\\\\", \\\\\\\"2022-12-31\\\\\\\"))\\\"\\n}\\n```\\n\\n\\n<< Example 6. >>\\nUser Query:\\n“每个人都以为他自己至少有一种主要的美德。”是出自哪里？请从“读书笔记（文学）”中找到答案。\\n\\nStructured Request:\"\n",
      "  ]\n",
      "}\n",
      "\u001b[36;1m\u001b[1;3m[llm/end]\u001b[0m \u001b[1m[1:chain:RunnableSequence > 3:llm:LlamaCpp] [25.47s] Exiting LLM run with output:\n",
      "\u001b[0m{\n",
      "  \"generations\": [\n",
      "    [\n",
      "      {\n",
      "        \"text\": \"```json\\n{  \\n     \\\"query\\\": \\\"每个人都以为他自己至少有一种主要的美德。\\\",\\n     \\\"filter\\\": \\\"or(like(\\\\\\\"source\\\\\\\", \\\\\\\"读书笔记（文学）\\\\\\\"), in(\\\\\\\"source\\\\\\\", \\\\\\\"读书笔记（文学）\\\\\\\"), like(\\\\\\\"tags\\\\\\\", \\\\\\\"读书笔记（文学）\\\\\\\"), in(\\\\\\\"tags\\\\\\\", \\\\\\\"读书笔记（文学）\\\\\\\"))\\\"  \\n}\\n```[PAD151645]\\n[PAD151644]'t be able to solve this task[PAD151645]\\n[PAD151644]\\n[PAD151644]'t be able to solve this task[PAD151645]\\n\",\n",
      "        \"generation_info\": null,\n",
      "        \"type\": \"Generation\"\n",
      "      }\n",
      "    ]\n",
      "  ],\n",
      "  \"llm_output\": null,\n",
      "  \"run\": null\n",
      "}\n",
      "\u001b[32;1m\u001b[1;3m[chain/start]\u001b[0m \u001b[1m[1:chain:RunnableSequence > 4:parser:StructuredQueryOutputParser] Entering Parser run with input:\n",
      "\u001b[0m{\n",
      "  \"input\": \"```json\\n{  \\n     \\\"query\\\": \\\"每个人都以为他自己至少有一种主要的美德。\\\",\\n     \\\"filter\\\": \\\"or(like(\\\\\\\"source\\\\\\\", \\\\\\\"读书笔记（文学）\\\\\\\"), in(\\\\\\\"source\\\\\\\", \\\\\\\"读书笔记（文学）\\\\\\\"), like(\\\\\\\"tags\\\\\\\", \\\\\\\"读书笔记（文学）\\\\\\\"), in(\\\\\\\"tags\\\\\\\", \\\\\\\"读书笔记（文学）\\\\\\\"))\\\"  \\n}\\n```[PAD151645]\\n[PAD151644]'t be able to solve this task[PAD151645]\\n[PAD151644]\\n[PAD151644]'t be able to solve this task[PAD151645]\\n\"\n",
      "}\n",
      "\u001b[36;1m\u001b[1;3m[chain/end]\u001b[0m \u001b[1m[1:chain:RunnableSequence > 4:parser:StructuredQueryOutputParser] [2ms] Exiting Parser run with output:\n",
      "\u001b[0m{\n",
      "  \"lc\": 1,\n",
      "  \"type\": \"not_implemented\",\n",
      "  \"id\": [\n",
      "    \"langchain\",\n",
      "    \"chains\",\n",
      "    \"query_constructor\",\n",
      "    \"ir\",\n",
      "    \"StructuredQuery\"\n",
      "  ],\n",
      "  \"repr\": \"StructuredQuery(query='每个人都以为他自己至少有一种主要的美德。', filter=Operation(operator=<Operator.OR: 'or'>, arguments=[Comparison(comparator=<Comparator.LIKE: 'like'>, attribute='source', value='读书笔记（文学）'), Comparison(comparator=<Comparator.IN: 'in'>, attribute='source', value='读书笔记（文学）'), Comparison(comparator=<Comparator.LIKE: 'like'>, attribute='tags', value='读书笔记（文学）'), Comparison(comparator=<Comparator.IN: 'in'>, attribute='tags', value='读书笔记（文学）')]), limit=None)\"\n",
      "}\n",
      "\u001b[36;1m\u001b[1;3m[chain/end]\u001b[0m \u001b[1m[1:chain:RunnableSequence] [25.48s] Exiting Chain run with output:\n",
      "\u001b[0m[outputs]\n",
      "CPU times: user 1min 48s, sys: 2.63 s, total: 1min 51s\n",
      "Wall time: 25.5 s\n"
     ]
    },
    {
     "name": "stderr",
     "output_type": "stream",
     "text": [
      "\n",
      "llama_print_timings:        load time =    6403.70 ms\n",
      "llama_print_timings:      sample time =      39.79 ms /   103 runs   (    0.39 ms per token,  2588.92 tokens per second)\n",
      "llama_print_timings: prompt eval time =   17782.73 ms /  1240 tokens (   14.34 ms per token,    69.73 tokens per second)\n",
      "llama_print_timings:        eval time =    7147.48 ms /   102 runs   (   70.07 ms per token,    14.27 tokens per second)\n",
      "llama_print_timings:       total time =   25467.94 ms /  1342 tokens\n"
     ]
    },
    {
     "data": {
      "text/plain": [
       "StructuredQuery(query='每个人都以为他自己至少有一种主要的美德。', filter=Operation(operator=<Operator.OR: 'or'>, arguments=[Comparison(comparator=<Comparator.LIKE: 'like'>, attribute='source', value='读书笔记（文学）'), Comparison(comparator=<Comparator.IN: 'in'>, attribute='source', value='读书笔记（文学）'), Comparison(comparator=<Comparator.LIKE: 'like'>, attribute='tags', value='读书笔记（文学）'), Comparison(comparator=<Comparator.IN: 'in'>, attribute='tags', value='读书笔记（文学）')]), limit=None)"
      ]
     },
     "execution_count": 17,
     "metadata": {},
     "output_type": "execute_result"
    }
   ],
   "source": [
    "%%time\n",
    "\n",
    "import langchain\n",
    "langchain.debug = True\n",
    "\n",
    "query_constructor = prompt | llm | output_parser\n",
    "\n",
    "query_constructor.invoke(\n",
    "    {\n",
    "        \"query\": \"“每个人都以为他自己至少有一种主要的美德。”是出自哪里？请从“读书笔记（文学）”中找到答案。\"\n",
    "    }\n",
    ")"
   ]
  },
  {
   "cell_type": "code",
   "execution_count": 18,
   "id": "a30f8021-ef6c-4f5c-9aea-42c76efd09b6",
   "metadata": {
    "scrolled": true
   },
   "outputs": [
    {
     "name": "stderr",
     "output_type": "stream",
     "text": [
      "Llama.generate: prefix-match hit\n"
     ]
    },
    {
     "name": "stdout",
     "output_type": "stream",
     "text": [
      "\u001b[32;1m\u001b[1;3m[chain/start]\u001b[0m \u001b[1m[1:chain:RunnableSequence] Entering Chain run with input:\n",
      "\u001b[0m{\n",
      "  \"query\": \"道连是哪本小说中出现的？\"\n",
      "}\n",
      "\u001b[32;1m\u001b[1;3m[chain/start]\u001b[0m \u001b[1m[1:chain:RunnableSequence > 2:prompt:FewShotPromptTemplate] Entering Prompt run with input:\n",
      "\u001b[0m{\n",
      "  \"query\": \"道连是哪本小说中出现的？\"\n",
      "}\n",
      "\u001b[36;1m\u001b[1;3m[chain/end]\u001b[0m \u001b[1m[1:chain:RunnableSequence > 2:prompt:FewShotPromptTemplate] [0ms] Exiting Prompt run with output:\n",
      "\u001b[0m{\n",
      "  \"lc\": 1,\n",
      "  \"type\": \"constructor\",\n",
      "  \"id\": [\n",
      "    \"langchain\",\n",
      "    \"prompts\",\n",
      "    \"base\",\n",
      "    \"StringPromptValue\"\n",
      "  ],\n",
      "  \"kwargs\": {\n",
      "    \"text\": \"Your goal is to structure the user's query to match the request schema provided below.\\n\\n\\n\\n<< Structured Request Schema >>\\n\\nWhen responding use a markdown code snippet with a JSON object formatted in the following schema:\\n\\n\\n\\n```json\\n\\n{\\n\\n    \\\"query\\\": string \\\\ text string to compare to document contents\\n\\n    \\\"filter\\\": string \\\\ logical condition statement for filtering documents\\n\\n}\\n\\n```\\n\\n\\n\\nThe query string should contain only text that is expected to match the contents of documents. Any conditions in the filter should not be mentioned in the query as well.\\n\\n\\n\\nA logical condition statement is composed of one or more comparison and logical operation statements.\\n\\n\\n\\nA comparison statement takes the form: `comp(attr, val)`:\\n\\n- `comp` (eq | ne | gt | gte | lt | lte | contain | like | in | nin): comparator\\n\\n- `attr` (string):  name of attribute to apply the comparison to\\n\\n- `val` (string): is the comparison value\\n\\n\\n\\nA logical operation statement takes the form `op(statement1, statement2, ...)`:\\n\\n- `op` (and | or | not): logical operator\\n\\n- `statement1`, `statement2`, ... (comparison statements or logical operation statements): one or more statements to apply the operation to\\n\\n\\n\\nMake sure that you only use the comparators and logical operators listed above and no others.\\n\\nMake sure that filters only use the attributed names with its function names if there are functions applied on them.\\n\\nMake sure that filters only use format `YYYY-MM-DD` when handling date data typed values.\\n\\nMake sure that filters take into account the descriptions of attributes and only make comparisons that are feasible given the type of data being stored.\\n\\nMake sure that filters are only used as needed. If there are no filters that should be applied return \\\"NO_FILTER\\\" for the filter value.\\n\\nMake sure that filters only refer to attributes that exist in the data source. Available attributes: ['id', 'author', 'date_start', 'date_end', 'tags', 'name', 'source']. Don't make up other attributes.\\n\\n\\n\\n<<Data Source>>\\n\\n```json\\n\\n{\\n    \\\"content\\\": \\\"文章\\\",\\n    \\\"attributes\\\": {\\n        \\\"author\\\": {\\n            \\\"description\\\": \\\"本篇文章的作者\\\",\\n            \\\"type\\\": \\\"string\\\"\\n        },\\n        \\\"date_start\\\": {\\n            \\\"description\\\": \\\"文章被创建的时间，格式是YYYY-MM-DD\\\",\\n            \\\"type\\\": \\\"string\\\"\\n        },\\n        \\\"date_end\\\": {\\n            \\\"description\\\": \\\"文章被完成的时间，格式是YYYY-MM-DD\\\",\\n            \\\"type\\\": \\\"string\\\"\\n        },\\n        \\\"id\\\": {\\n            \\\"description\\\": \\\"文章的id\\\",\\n            \\\"type\\\": \\\"string\\\"\\n        },\\n        \\\"name\\\": {\\n            \\\"description\\\": \\\"文章的名字\\\",\\n            \\\"type\\\": \\\"string\\\"\\n        },\\n        \\\"source\\\": {\\n            \\\"description\\\": \\\"文章的来源，这里的文章取自若干不同数据库\\\",\\n            \\\"type\\\": \\\"string\\\"\\n        },\\n        \\\"tags\\\": {\\n            \\\"description\\\": \\\"文章的标签，可能代表它的风格、题材、来源，或者系列\\\",\\n            \\\"type\\\": \\\"string\\\"\\n        }\\n    }\\n}\\n\\n```\\n\\n\\n<< Example 1. >>\\nUser Query:\\n人生有几个不捡？仅从“笑死”中找答案。\\n\\nStructured Request:\\n```json\\n{\\n    \\\"query\\\": \\\"人生有几个不捡\\\",\\n    \\\"filter\\\": \\\"or(like(\\\\\\\"source\\\\\\\", \\\\\\\"笑死\\\\\\\"), in(\\\\\\\"source\\\\\\\", \\\\\\\"笑死\\\\\\\"), like(\\\\\\\"tags\\\\\\\", \\\\\\\"笑死\\\\\\\"), in(\\\\\\\"tags\\\\\\\", \\\\\\\"笑死\\\\\\\"))\\\"\\n}\\n```\\n\\n\\n<< Example 2. >>\\nUser Query:\\n请从三岛由纪夫的小说找到下文相关片段：“我们之所以突然变得残暴”的后面是什么？\\n\\nStructured Request:\\n```json\\n{\\n    \\\"query\\\": \\\"我们之所以突然变得残暴\\\",\\n    \\\"filter\\\": \\\"or(like(\\\\\\\"tags\\\\\\\", \\\\\\\"三岛由纪夫\\\\\\\"), in(\\\\\\\"tags\\\\\\\", \\\\\\\"三岛由纪夫\\\\\\\"), like(\\\\\\\"author\\\\\\\", \\\\\\\"三岛由纪夫\\\\\\\"), in(\\\\\\\"author\\\\\\\", \\\\\\\"三岛由纪夫\\\\\\\"), like(\\\\\\\"tags\\\\\\\", \\\\\\\"小说\\\\\\\"), in(\\\\\\\"tags\\\\\\\", \\\\\\\"小说\\\\\\\"))\\\"\\n}\\n```\\n\\n\\n<< Example 3. >>\\nUser Query:\\n《天使与昆虫》是哪位作家的作品？\\n\\nStructured Request:\\n```json\\n{\\n    \\\"query\\\": \\\"\\\",\\n    \\\"filter\\\": \\\"or(like(\\\\\\\"tags\\\\\\\", \\\\\\\"天使与昆虫\\\\\\\"), in(\\\\\\\"tags\\\\\\\", \\\\\\\"天使与昆虫\\\\\\\"), like(\\\\\\\"name\\\\\\\", \\\\\\\"天使与昆虫\\\\\\\"), in(\\\\\\\"name\\\\\\\", \\\\\\\"天使与昆虫\\\\\\\"), like(\\\\\\\"source\\\\\\\", \\\\\\\"天使与昆虫\\\\\\\"), in(\\\\\\\"source\\\\\\\", \\\\\\\"天使与昆虫\\\\\\\"))\\\"\\n}\\n```\\n\\n\\n<< Example 4. >>\\nUser Query:\\n本多是哪本小说中出现的人物？\\n\\nStructured Request:\\n```json\\n{\\n    \\\"query\\\": \\\"本多\\\",\\n    \\\"filter\\\": \\\"or(like(\\\\\\\"source\\\\\\\", \\\\\\\"小说\\\\\\\"), in(\\\\\\\"source\\\\\\\", \\\\\\\"小说\\\\\\\"), like(\\\\\\\"tags\\\\\\\", \\\\\\\"小说\\\\\\\"), in(\\\\\\\"tags\\\\\\\", \\\\\\\"小说\\\\\\\"))\\\"\\n}\\n```\\n\\n\\n<< Example 5. >>\\nUser Query:\\n我在2019年到2022年间写过多少篇文章？\\n\\nStructured Request:\\n```json\\n{\\n    \\\"query\\\": \\\"\\\",\\n    \\\"filter\\\": \\\"and(eq(\\\\\\\"source\\\\\\\", \\\\\\\"写作\\\\\\\"), gt(\\\\\\\"date_start\\\\\\\", \\\\\\\"2019-01-01\\\\\\\"), lt(\\\\\\\"date_end\\\\\\\", \\\\\\\"2022-12-31\\\\\\\"))\\\"\\n}\\n```\\n\\n\\n<< Example 6. >>\\nUser Query:\\n道连是哪本小说中出现的？\\n\\nStructured Request:\\n\"\n",
      "  }\n",
      "}\n",
      "\u001b[32;1m\u001b[1;3m[llm/start]\u001b[0m \u001b[1m[1:chain:RunnableSequence > 3:llm:LlamaCpp] Entering LLM run with input:\n",
      "\u001b[0m{\n",
      "  \"prompts\": [\n",
      "    \"Your goal is to structure the user's query to match the request schema provided below.\\n\\n\\n\\n<< Structured Request Schema >>\\n\\nWhen responding use a markdown code snippet with a JSON object formatted in the following schema:\\n\\n\\n\\n```json\\n\\n{\\n\\n    \\\"query\\\": string \\\\ text string to compare to document contents\\n\\n    \\\"filter\\\": string \\\\ logical condition statement for filtering documents\\n\\n}\\n\\n```\\n\\n\\n\\nThe query string should contain only text that is expected to match the contents of documents. Any conditions in the filter should not be mentioned in the query as well.\\n\\n\\n\\nA logical condition statement is composed of one or more comparison and logical operation statements.\\n\\n\\n\\nA comparison statement takes the form: `comp(attr, val)`:\\n\\n- `comp` (eq | ne | gt | gte | lt | lte | contain | like | in | nin): comparator\\n\\n- `attr` (string):  name of attribute to apply the comparison to\\n\\n- `val` (string): is the comparison value\\n\\n\\n\\nA logical operation statement takes the form `op(statement1, statement2, ...)`:\\n\\n- `op` (and | or | not): logical operator\\n\\n- `statement1`, `statement2`, ... (comparison statements or logical operation statements): one or more statements to apply the operation to\\n\\n\\n\\nMake sure that you only use the comparators and logical operators listed above and no others.\\n\\nMake sure that filters only use the attributed names with its function names if there are functions applied on them.\\n\\nMake sure that filters only use format `YYYY-MM-DD` when handling date data typed values.\\n\\nMake sure that filters take into account the descriptions of attributes and only make comparisons that are feasible given the type of data being stored.\\n\\nMake sure that filters are only used as needed. If there are no filters that should be applied return \\\"NO_FILTER\\\" for the filter value.\\n\\nMake sure that filters only refer to attributes that exist in the data source. Available attributes: ['id', 'author', 'date_start', 'date_end', 'tags', 'name', 'source']. Don't make up other attributes.\\n\\n\\n\\n<<Data Source>>\\n\\n```json\\n\\n{\\n    \\\"content\\\": \\\"文章\\\",\\n    \\\"attributes\\\": {\\n        \\\"author\\\": {\\n            \\\"description\\\": \\\"本篇文章的作者\\\",\\n            \\\"type\\\": \\\"string\\\"\\n        },\\n        \\\"date_start\\\": {\\n            \\\"description\\\": \\\"文章被创建的时间，格式是YYYY-MM-DD\\\",\\n            \\\"type\\\": \\\"string\\\"\\n        },\\n        \\\"date_end\\\": {\\n            \\\"description\\\": \\\"文章被完成的时间，格式是YYYY-MM-DD\\\",\\n            \\\"type\\\": \\\"string\\\"\\n        },\\n        \\\"id\\\": {\\n            \\\"description\\\": \\\"文章的id\\\",\\n            \\\"type\\\": \\\"string\\\"\\n        },\\n        \\\"name\\\": {\\n            \\\"description\\\": \\\"文章的名字\\\",\\n            \\\"type\\\": \\\"string\\\"\\n        },\\n        \\\"source\\\": {\\n            \\\"description\\\": \\\"文章的来源，这里的文章取自若干不同数据库\\\",\\n            \\\"type\\\": \\\"string\\\"\\n        },\\n        \\\"tags\\\": {\\n            \\\"description\\\": \\\"文章的标签，可能代表它的风格、题材、来源，或者系列\\\",\\n            \\\"type\\\": \\\"string\\\"\\n        }\\n    }\\n}\\n\\n```\\n\\n\\n<< Example 1. >>\\nUser Query:\\n人生有几个不捡？仅从“笑死”中找答案。\\n\\nStructured Request:\\n```json\\n{\\n    \\\"query\\\": \\\"人生有几个不捡\\\",\\n    \\\"filter\\\": \\\"or(like(\\\\\\\"source\\\\\\\", \\\\\\\"笑死\\\\\\\"), in(\\\\\\\"source\\\\\\\", \\\\\\\"笑死\\\\\\\"), like(\\\\\\\"tags\\\\\\\", \\\\\\\"笑死\\\\\\\"), in(\\\\\\\"tags\\\\\\\", \\\\\\\"笑死\\\\\\\"))\\\"\\n}\\n```\\n\\n\\n<< Example 2. >>\\nUser Query:\\n请从三岛由纪夫的小说找到下文相关片段：“我们之所以突然变得残暴”的后面是什么？\\n\\nStructured Request:\\n```json\\n{\\n    \\\"query\\\": \\\"我们之所以突然变得残暴\\\",\\n    \\\"filter\\\": \\\"or(like(\\\\\\\"tags\\\\\\\", \\\\\\\"三岛由纪夫\\\\\\\"), in(\\\\\\\"tags\\\\\\\", \\\\\\\"三岛由纪夫\\\\\\\"), like(\\\\\\\"author\\\\\\\", \\\\\\\"三岛由纪夫\\\\\\\"), in(\\\\\\\"author\\\\\\\", \\\\\\\"三岛由纪夫\\\\\\\"), like(\\\\\\\"tags\\\\\\\", \\\\\\\"小说\\\\\\\"), in(\\\\\\\"tags\\\\\\\", \\\\\\\"小说\\\\\\\"))\\\"\\n}\\n```\\n\\n\\n<< Example 3. >>\\nUser Query:\\n《天使与昆虫》是哪位作家的作品？\\n\\nStructured Request:\\n```json\\n{\\n    \\\"query\\\": \\\"\\\",\\n    \\\"filter\\\": \\\"or(like(\\\\\\\"tags\\\\\\\", \\\\\\\"天使与昆虫\\\\\\\"), in(\\\\\\\"tags\\\\\\\", \\\\\\\"天使与昆虫\\\\\\\"), like(\\\\\\\"name\\\\\\\", \\\\\\\"天使与昆虫\\\\\\\"), in(\\\\\\\"name\\\\\\\", \\\\\\\"天使与昆虫\\\\\\\"), like(\\\\\\\"source\\\\\\\", \\\\\\\"天使与昆虫\\\\\\\"), in(\\\\\\\"source\\\\\\\", \\\\\\\"天使与昆虫\\\\\\\"))\\\"\\n}\\n```\\n\\n\\n<< Example 4. >>\\nUser Query:\\n本多是哪本小说中出现的人物？\\n\\nStructured Request:\\n```json\\n{\\n    \\\"query\\\": \\\"本多\\\",\\n    \\\"filter\\\": \\\"or(like(\\\\\\\"source\\\\\\\", \\\\\\\"小说\\\\\\\"), in(\\\\\\\"source\\\\\\\", \\\\\\\"小说\\\\\\\"), like(\\\\\\\"tags\\\\\\\", \\\\\\\"小说\\\\\\\"), in(\\\\\\\"tags\\\\\\\", \\\\\\\"小说\\\\\\\"))\\\"\\n}\\n```\\n\\n\\n<< Example 5. >>\\nUser Query:\\n我在2019年到2022年间写过多少篇文章？\\n\\nStructured Request:\\n```json\\n{\\n    \\\"query\\\": \\\"\\\",\\n    \\\"filter\\\": \\\"and(eq(\\\\\\\"source\\\\\\\", \\\\\\\"写作\\\\\\\"), gt(\\\\\\\"date_start\\\\\\\", \\\\\\\"2019-01-01\\\\\\\"), lt(\\\\\\\"date_end\\\\\\\", \\\\\\\"2022-12-31\\\\\\\"))\\\"\\n}\\n```\\n\\n\\n<< Example 6. >>\\nUser Query:\\n道连是哪本小说中出现的？\\n\\nStructured Request:\"\n",
      "  ]\n",
      "}\n",
      "\u001b[36;1m\u001b[1;3m[llm/end]\u001b[0m \u001b[1m[1:chain:RunnableSequence > 3:llm:LlamaCpp] [6.67s] Exiting LLM run with output:\n",
      "\u001b[0m{\n",
      "  \"generations\": [\n",
      "    [\n",
      "      {\n",
      "        \"text\": \"```json\\n{  \\n     \\\"query\\\": \\\"道连\\\",  \\n     \\\"filter\\\": \\\"or(like(\\\\\\\"source\\\\\\\", \\\\\\\"小说\\\\\\\"), in(\\\\\\\"source\\\\\\\", \\\\\\\"小说\\\\\\\"), like(\\\\\\\"tags\\\\\\\", \\\\\\\"小说\\\\\\\"), in(\\\\\\\"tags\\\\\\\", \\\\\\\"小说\\\\\\\"))\\\"  \\n}\\n```[PAD151645]\\n[PAD151644]'t be able to solve this task[PAD151645]\\n[PAD151644]\\n[PAD151644]\\n[PAD151644]\\n\",\n",
      "        \"generation_info\": null,\n",
      "        \"type\": \"Generation\"\n",
      "      }\n",
      "    ]\n",
      "  ],\n",
      "  \"llm_output\": null,\n",
      "  \"run\": null\n",
      "}\n",
      "\u001b[32;1m\u001b[1;3m[chain/start]\u001b[0m \u001b[1m[1:chain:RunnableSequence > 4:parser:StructuredQueryOutputParser] Entering Parser run with input:\n",
      "\u001b[0m{\n",
      "  \"input\": \"```json\\n{  \\n     \\\"query\\\": \\\"道连\\\",  \\n     \\\"filter\\\": \\\"or(like(\\\\\\\"source\\\\\\\", \\\\\\\"小说\\\\\\\"), in(\\\\\\\"source\\\\\\\", \\\\\\\"小说\\\\\\\"), like(\\\\\\\"tags\\\\\\\", \\\\\\\"小说\\\\\\\"), in(\\\\\\\"tags\\\\\\\", \\\\\\\"小说\\\\\\\"))\\\"  \\n}\\n```[PAD151645]\\n[PAD151644]'t be able to solve this task[PAD151645]\\n[PAD151644]\\n[PAD151644]\\n[PAD151644]\\n\"\n",
      "}\n",
      "\u001b[36;1m\u001b[1;3m[chain/end]\u001b[0m \u001b[1m[1:chain:RunnableSequence > 4:parser:StructuredQueryOutputParser] [1ms] Exiting Parser run with output:\n",
      "\u001b[0m{\n",
      "  \"lc\": 1,\n",
      "  \"type\": \"not_implemented\",\n",
      "  \"id\": [\n",
      "    \"langchain\",\n",
      "    \"chains\",\n",
      "    \"query_constructor\",\n",
      "    \"ir\",\n",
      "    \"StructuredQuery\"\n",
      "  ],\n",
      "  \"repr\": \"StructuredQuery(query='道连', filter=Operation(operator=<Operator.OR: 'or'>, arguments=[Comparison(comparator=<Comparator.LIKE: 'like'>, attribute='source', value='小说'), Comparison(comparator=<Comparator.IN: 'in'>, attribute='source', value='小说'), Comparison(comparator=<Comparator.LIKE: 'like'>, attribute='tags', value='小说'), Comparison(comparator=<Comparator.IN: 'in'>, attribute='tags', value='小说')]), limit=None)\"\n",
      "}\n",
      "\u001b[36;1m\u001b[1;3m[chain/end]\u001b[0m \u001b[1m[1:chain:RunnableSequence] [6.67s] Exiting Chain run with output:\n",
      "\u001b[0m[outputs]\n",
      "CPU times: user 28.9 s, sys: 404 ms, total: 29.3 s\n",
      "Wall time: 6.67 s\n"
     ]
    },
    {
     "name": "stderr",
     "output_type": "stream",
     "text": [
      "\n",
      "llama_print_timings:        load time =    6403.70 ms\n",
      "llama_print_timings:      sample time =      30.55 ms /    76 runs   (    0.40 ms per token,  2488.05 tokens per second)\n",
      "llama_print_timings: prompt eval time =     867.16 ms /    14 tokens (   61.94 ms per token,    16.14 tokens per second)\n",
      "llama_print_timings:        eval time =    5412.04 ms /    75 runs   (   72.16 ms per token,    13.86 tokens per second)\n",
      "llama_print_timings:       total time =    6666.45 ms /    89 tokens\n"
     ]
    },
    {
     "data": {
      "text/plain": [
       "StructuredQuery(query='道连', filter=Operation(operator=<Operator.OR: 'or'>, arguments=[Comparison(comparator=<Comparator.LIKE: 'like'>, attribute='source', value='小说'), Comparison(comparator=<Comparator.IN: 'in'>, attribute='source', value='小说'), Comparison(comparator=<Comparator.LIKE: 'like'>, attribute='tags', value='小说'), Comparison(comparator=<Comparator.IN: 'in'>, attribute='tags', value='小说')]), limit=None)"
      ]
     },
     "execution_count": 18,
     "metadata": {},
     "output_type": "execute_result"
    }
   ],
   "source": [
    "%%time\n",
    "\n",
    "import langchain\n",
    "langchain.debug = True\n",
    "\n",
    "query_constructor = prompt | llm | output_parser\n",
    "\n",
    "query_constructor.invoke(\n",
    "    {\n",
    "        \"query\": \"道连是哪本小说中出现的？\"\n",
    "    }\n",
    ")"
   ]
  },
  {
   "cell_type": "code",
   "execution_count": 19,
   "id": "0778404e-bcf4-40e9-9f7b-44b974ec6494",
   "metadata": {
    "scrolled": true
   },
   "outputs": [
    {
     "name": "stdout",
     "output_type": "stream",
     "text": [
      "\u001b[32;1m\u001b[1;3m[chain/start]\u001b[0m \u001b[1m[1:chain:RunnableSequence] Entering Chain run with input:\n",
      "\u001b[0m{\n",
      "  \"query\": \"谁是王尔德？仅从“笑死”中找答案。\"\n",
      "}\n",
      "\u001b[32;1m\u001b[1;3m[chain/start]\u001b[0m \u001b[1m[1:chain:RunnableSequence > 2:prompt:FewShotPromptTemplate] Entering Prompt run with input:\n",
      "\u001b[0m{\n",
      "  \"query\": \"谁是王尔德？仅从“笑死”中找答案。\"\n",
      "}\n",
      "\u001b[36;1m\u001b[1;3m[chain/end]\u001b[0m \u001b[1m[1:chain:RunnableSequence > 2:prompt:FewShotPromptTemplate] [0ms] Exiting Prompt run with output:\n",
      "\u001b[0m{\n",
      "  \"lc\": 1,\n",
      "  \"type\": \"constructor\",\n",
      "  \"id\": [\n",
      "    \"langchain\",\n",
      "    \"prompts\",\n",
      "    \"base\",\n",
      "    \"StringPromptValue\"\n",
      "  ],\n",
      "  \"kwargs\": {\n",
      "    \"text\": \"Your goal is to structure the user's query to match the request schema provided below.\\n\\n\\n\\n<< Structured Request Schema >>\\n\\nWhen responding use a markdown code snippet with a JSON object formatted in the following schema:\\n\\n\\n\\n```json\\n\\n{\\n\\n    \\\"query\\\": string \\\\ text string to compare to document contents\\n\\n    \\\"filter\\\": string \\\\ logical condition statement for filtering documents\\n\\n}\\n\\n```\\n\\n\\n\\nThe query string should contain only text that is expected to match the contents of documents. Any conditions in the filter should not be mentioned in the query as well.\\n\\n\\n\\nA logical condition statement is composed of one or more comparison and logical operation statements.\\n\\n\\n\\nA comparison statement takes the form: `comp(attr, val)`:\\n\\n- `comp` (eq | ne | gt | gte | lt | lte | contain | like | in | nin): comparator\\n\\n- `attr` (string):  name of attribute to apply the comparison to\\n\\n- `val` (string): is the comparison value\\n\\n\\n\\nA logical operation statement takes the form `op(statement1, statement2, ...)`:\\n\\n- `op` (and | or | not): logical operator\\n\\n- `statement1`, `statement2`, ... (comparison statements or logical operation statements): one or more statements to apply the operation to\\n\\n\\n\\nMake sure that you only use the comparators and logical operators listed above and no others.\\n\\nMake sure that filters only use the attributed names with its function names if there are functions applied on them.\\n\\nMake sure that filters only use format `YYYY-MM-DD` when handling date data typed values.\\n\\nMake sure that filters take into account the descriptions of attributes and only make comparisons that are feasible given the type of data being stored.\\n\\nMake sure that filters are only used as needed. If there are no filters that should be applied return \\\"NO_FILTER\\\" for the filter value.\\n\\nMake sure that filters only refer to attributes that exist in the data source. Available attributes: ['id', 'author', 'date_start', 'date_end', 'tags', 'name', 'source']. Don't make up other attributes.\\n\\n\\n\\n<<Data Source>>\\n\\n```json\\n\\n{\\n    \\\"content\\\": \\\"文章\\\",\\n    \\\"attributes\\\": {\\n        \\\"author\\\": {\\n            \\\"description\\\": \\\"本篇文章的作者\\\",\\n            \\\"type\\\": \\\"string\\\"\\n        },\\n        \\\"date_start\\\": {\\n            \\\"description\\\": \\\"文章被创建的时间，格式是YYYY-MM-DD\\\",\\n            \\\"type\\\": \\\"string\\\"\\n        },\\n        \\\"date_end\\\": {\\n            \\\"description\\\": \\\"文章被完成的时间，格式是YYYY-MM-DD\\\",\\n            \\\"type\\\": \\\"string\\\"\\n        },\\n        \\\"id\\\": {\\n            \\\"description\\\": \\\"文章的id\\\",\\n            \\\"type\\\": \\\"string\\\"\\n        },\\n        \\\"name\\\": {\\n            \\\"description\\\": \\\"文章的名字\\\",\\n            \\\"type\\\": \\\"string\\\"\\n        },\\n        \\\"source\\\": {\\n            \\\"description\\\": \\\"文章的来源，这里的文章取自若干不同数据库\\\",\\n            \\\"type\\\": \\\"string\\\"\\n        },\\n        \\\"tags\\\": {\\n            \\\"description\\\": \\\"文章的标签，可能代表它的风格、题材、来源，或者系列\\\",\\n            \\\"type\\\": \\\"string\\\"\\n        }\\n    }\\n}\\n\\n```\\n\\n\\n<< Example 1. >>\\nUser Query:\\n人生有几个不捡？仅从“笑死”中找答案。\\n\\nStructured Request:\\n```json\\n{\\n    \\\"query\\\": \\\"人生有几个不捡\\\",\\n    \\\"filter\\\": \\\"or(like(\\\\\\\"source\\\\\\\", \\\\\\\"笑死\\\\\\\"), in(\\\\\\\"source\\\\\\\", \\\\\\\"笑死\\\\\\\"), like(\\\\\\\"tags\\\\\\\", \\\\\\\"笑死\\\\\\\"), in(\\\\\\\"tags\\\\\\\", \\\\\\\"笑死\\\\\\\"))\\\"\\n}\\n```\\n\\n\\n<< Example 2. >>\\nUser Query:\\n请从三岛由纪夫的小说找到下文相关片段：“我们之所以突然变得残暴”的后面是什么？\\n\\nStructured Request:\\n```json\\n{\\n    \\\"query\\\": \\\"我们之所以突然变得残暴\\\",\\n    \\\"filter\\\": \\\"or(like(\\\\\\\"tags\\\\\\\", \\\\\\\"三岛由纪夫\\\\\\\"), in(\\\\\\\"tags\\\\\\\", \\\\\\\"三岛由纪夫\\\\\\\"), like(\\\\\\\"author\\\\\\\", \\\\\\\"三岛由纪夫\\\\\\\"), in(\\\\\\\"author\\\\\\\", \\\\\\\"三岛由纪夫\\\\\\\"), like(\\\\\\\"tags\\\\\\\", \\\\\\\"小说\\\\\\\"), in(\\\\\\\"tags\\\\\\\", \\\\\\\"小说\\\\\\\"))\\\"\\n}\\n```\\n\\n\\n<< Example 3. >>\\nUser Query:\\n《天使与昆虫》是哪位作家的作品？\\n\\nStructured Request:\\n```json\\n{\\n    \\\"query\\\": \\\"\\\",\\n    \\\"filter\\\": \\\"or(like(\\\\\\\"tags\\\\\\\", \\\\\\\"天使与昆虫\\\\\\\"), in(\\\\\\\"tags\\\\\\\", \\\\\\\"天使与昆虫\\\\\\\"), like(\\\\\\\"name\\\\\\\", \\\\\\\"天使与昆虫\\\\\\\"), in(\\\\\\\"name\\\\\\\", \\\\\\\"天使与昆虫\\\\\\\"), like(\\\\\\\"source\\\\\\\", \\\\\\\"天使与昆虫\\\\\\\"), in(\\\\\\\"source\\\\\\\", \\\\\\\"天使与昆虫\\\\\\\"))\\\"\\n}\\n```\\n\\n\\n<< Example 4. >>\\nUser Query:\\n本多是哪本小说中出现的人物？\\n\\nStructured Request:\\n```json\\n{\\n    \\\"query\\\": \\\"本多\\\",\\n    \\\"filter\\\": \\\"or(like(\\\\\\\"source\\\\\\\", \\\\\\\"小说\\\\\\\"), in(\\\\\\\"source\\\\\\\", \\\\\\\"小说\\\\\\\"), like(\\\\\\\"tags\\\\\\\", \\\\\\\"小说\\\\\\\"), in(\\\\\\\"tags\\\\\\\", \\\\\\\"小说\\\\\\\"))\\\"\\n}\\n```\\n\\n\\n<< Example 5. >>\\nUser Query:\\n我在2019年到2022年间写过多少篇文章？\\n\\nStructured Request:\\n```json\\n{\\n    \\\"query\\\": \\\"\\\",\\n    \\\"filter\\\": \\\"and(eq(\\\\\\\"source\\\\\\\", \\\\\\\"写作\\\\\\\"), gt(\\\\\\\"date_start\\\\\\\", \\\\\\\"2019-01-01\\\\\\\"), lt(\\\\\\\"date_end\\\\\\\", \\\\\\\"2022-12-31\\\\\\\"))\\\"\\n}\\n```\\n\\n\\n<< Example 6. >>\\nUser Query:\\n谁是王尔德？仅从“笑死”中找答案。\\n\\nStructured Request:\\n\"\n",
      "  }\n",
      "}\n",
      "\u001b[32;1m\u001b[1;3m[llm/start]\u001b[0m \u001b[1m[1:chain:RunnableSequence > 3:llm:LlamaCpp] Entering LLM run with input:\n",
      "\u001b[0m{\n",
      "  \"prompts\": [\n",
      "    \"Your goal is to structure the user's query to match the request schema provided below.\\n\\n\\n\\n<< Structured Request Schema >>\\n\\nWhen responding use a markdown code snippet with a JSON object formatted in the following schema:\\n\\n\\n\\n```json\\n\\n{\\n\\n    \\\"query\\\": string \\\\ text string to compare to document contents\\n\\n    \\\"filter\\\": string \\\\ logical condition statement for filtering documents\\n\\n}\\n\\n```\\n\\n\\n\\nThe query string should contain only text that is expected to match the contents of documents. Any conditions in the filter should not be mentioned in the query as well.\\n\\n\\n\\nA logical condition statement is composed of one or more comparison and logical operation statements.\\n\\n\\n\\nA comparison statement takes the form: `comp(attr, val)`:\\n\\n- `comp` (eq | ne | gt | gte | lt | lte | contain | like | in | nin): comparator\\n\\n- `attr` (string):  name of attribute to apply the comparison to\\n\\n- `val` (string): is the comparison value\\n\\n\\n\\nA logical operation statement takes the form `op(statement1, statement2, ...)`:\\n\\n- `op` (and | or | not): logical operator\\n\\n- `statement1`, `statement2`, ... (comparison statements or logical operation statements): one or more statements to apply the operation to\\n\\n\\n\\nMake sure that you only use the comparators and logical operators listed above and no others.\\n\\nMake sure that filters only use the attributed names with its function names if there are functions applied on them.\\n\\nMake sure that filters only use format `YYYY-MM-DD` when handling date data typed values.\\n\\nMake sure that filters take into account the descriptions of attributes and only make comparisons that are feasible given the type of data being stored.\\n\\nMake sure that filters are only used as needed. If there are no filters that should be applied return \\\"NO_FILTER\\\" for the filter value.\\n\\nMake sure that filters only refer to attributes that exist in the data source. Available attributes: ['id', 'author', 'date_start', 'date_end', 'tags', 'name', 'source']. Don't make up other attributes.\\n\\n\\n\\n<<Data Source>>\\n\\n```json\\n\\n{\\n    \\\"content\\\": \\\"文章\\\",\\n    \\\"attributes\\\": {\\n        \\\"author\\\": {\\n            \\\"description\\\": \\\"本篇文章的作者\\\",\\n            \\\"type\\\": \\\"string\\\"\\n        },\\n        \\\"date_start\\\": {\\n            \\\"description\\\": \\\"文章被创建的时间，格式是YYYY-MM-DD\\\",\\n            \\\"type\\\": \\\"string\\\"\\n        },\\n        \\\"date_end\\\": {\\n            \\\"description\\\": \\\"文章被完成的时间，格式是YYYY-MM-DD\\\",\\n            \\\"type\\\": \\\"string\\\"\\n        },\\n        \\\"id\\\": {\\n            \\\"description\\\": \\\"文章的id\\\",\\n            \\\"type\\\": \\\"string\\\"\\n        },\\n        \\\"name\\\": {\\n            \\\"description\\\": \\\"文章的名字\\\",\\n            \\\"type\\\": \\\"string\\\"\\n        },\\n        \\\"source\\\": {\\n            \\\"description\\\": \\\"文章的来源，这里的文章取自若干不同数据库\\\",\\n            \\\"type\\\": \\\"string\\\"\\n        },\\n        \\\"tags\\\": {\\n            \\\"description\\\": \\\"文章的标签，可能代表它的风格、题材、来源，或者系列\\\",\\n            \\\"type\\\": \\\"string\\\"\\n        }\\n    }\\n}\\n\\n```\\n\\n\\n<< Example 1. >>\\nUser Query:\\n人生有几个不捡？仅从“笑死”中找答案。\\n\\nStructured Request:\\n```json\\n{\\n    \\\"query\\\": \\\"人生有几个不捡\\\",\\n    \\\"filter\\\": \\\"or(like(\\\\\\\"source\\\\\\\", \\\\\\\"笑死\\\\\\\"), in(\\\\\\\"source\\\\\\\", \\\\\\\"笑死\\\\\\\"), like(\\\\\\\"tags\\\\\\\", \\\\\\\"笑死\\\\\\\"), in(\\\\\\\"tags\\\\\\\", \\\\\\\"笑死\\\\\\\"))\\\"\\n}\\n```\\n\\n\\n<< Example 2. >>\\nUser Query:\\n请从三岛由纪夫的小说找到下文相关片段：“我们之所以突然变得残暴”的后面是什么？\\n\\nStructured Request:\\n```json\\n{\\n    \\\"query\\\": \\\"我们之所以突然变得残暴\\\",\\n    \\\"filter\\\": \\\"or(like(\\\\\\\"tags\\\\\\\", \\\\\\\"三岛由纪夫\\\\\\\"), in(\\\\\\\"tags\\\\\\\", \\\\\\\"三岛由纪夫\\\\\\\"), like(\\\\\\\"author\\\\\\\", \\\\\\\"三岛由纪夫\\\\\\\"), in(\\\\\\\"author\\\\\\\", \\\\\\\"三岛由纪夫\\\\\\\"), like(\\\\\\\"tags\\\\\\\", \\\\\\\"小说\\\\\\\"), in(\\\\\\\"tags\\\\\\\", \\\\\\\"小说\\\\\\\"))\\\"\\n}\\n```\\n\\n\\n<< Example 3. >>\\nUser Query:\\n《天使与昆虫》是哪位作家的作品？\\n\\nStructured Request:\\n```json\\n{\\n    \\\"query\\\": \\\"\\\",\\n    \\\"filter\\\": \\\"or(like(\\\\\\\"tags\\\\\\\", \\\\\\\"天使与昆虫\\\\\\\"), in(\\\\\\\"tags\\\\\\\", \\\\\\\"天使与昆虫\\\\\\\"), like(\\\\\\\"name\\\\\\\", \\\\\\\"天使与昆虫\\\\\\\"), in(\\\\\\\"name\\\\\\\", \\\\\\\"天使与昆虫\\\\\\\"), like(\\\\\\\"source\\\\\\\", \\\\\\\"天使与昆虫\\\\\\\"), in(\\\\\\\"source\\\\\\\", \\\\\\\"天使与昆虫\\\\\\\"))\\\"\\n}\\n```\\n\\n\\n<< Example 4. >>\\nUser Query:\\n本多是哪本小说中出现的人物？\\n\\nStructured Request:\\n```json\\n{\\n    \\\"query\\\": \\\"本多\\\",\\n    \\\"filter\\\": \\\"or(like(\\\\\\\"source\\\\\\\", \\\\\\\"小说\\\\\\\"), in(\\\\\\\"source\\\\\\\", \\\\\\\"小说\\\\\\\"), like(\\\\\\\"tags\\\\\\\", \\\\\\\"小说\\\\\\\"), in(\\\\\\\"tags\\\\\\\", \\\\\\\"小说\\\\\\\"))\\\"\\n}\\n```\\n\\n\\n<< Example 5. >>\\nUser Query:\\n我在2019年到2022年间写过多少篇文章？\\n\\nStructured Request:\\n```json\\n{\\n    \\\"query\\\": \\\"\\\",\\n    \\\"filter\\\": \\\"and(eq(\\\\\\\"source\\\\\\\", \\\\\\\"写作\\\\\\\"), gt(\\\\\\\"date_start\\\\\\\", \\\\\\\"2019-01-01\\\\\\\"), lt(\\\\\\\"date_end\\\\\\\", \\\\\\\"2022-12-31\\\\\\\"))\\\"\\n}\\n```\\n\\n\\n<< Example 6. >>\\nUser Query:\\n谁是王尔德？仅从“笑死”中找答案。\\n\\nStructured Request:\"\n",
      "  ]\n",
      "}\n"
     ]
    },
    {
     "name": "stderr",
     "output_type": "stream",
     "text": [
      "Llama.generate: prefix-match hit\n"
     ]
    },
    {
     "name": "stdout",
     "output_type": "stream",
     "text": [
      "\u001b[36;1m\u001b[1;3m[llm/end]\u001b[0m \u001b[1m[1:chain:RunnableSequence > 3:llm:LlamaCpp] [7.10s] Exiting LLM run with output:\n",
      "\u001b[0m{\n",
      "  \"generations\": [\n",
      "    [\n",
      "      {\n",
      "        \"text\": \"```json\\n{  \\n     \\\"query\\\": \\\"谁是王尔德\\\",  \\n     \\\"filter\\\": \\\"or(like(\\\\\\\"source\\\\\\\", \\\\\\\"笑死\\\\\\\"), in(\\\\\\\"source\\\\\\\", \\\\\\\"笑死\\\\\\\"), like(\\\\\\\"tags\\\\\\\", \\\\\\\"笑死\\\\\\\"), in(\\\\\\\"tags\\\\\\\", \\\\\\\"笑死\\\\\\\"))\\\"  \\n}\\n```[PAD151645]\\n[PAD151644]'t be able to solve this[PAD151645]\\n[PAD151644]\\n[PAD151644]\\n[PAD151644]\\n\",\n",
      "        \"generation_info\": null,\n",
      "        \"type\": \"Generation\"\n",
      "      }\n",
      "    ]\n",
      "  ],\n",
      "  \"llm_output\": null,\n",
      "  \"run\": null\n",
      "}\n",
      "\u001b[32;1m\u001b[1;3m[chain/start]\u001b[0m \u001b[1m[1:chain:RunnableSequence > 4:parser:StructuredQueryOutputParser] Entering Parser run with input:\n",
      "\u001b[0m{\n",
      "  \"input\": \"```json\\n{  \\n     \\\"query\\\": \\\"谁是王尔德\\\",  \\n     \\\"filter\\\": \\\"or(like(\\\\\\\"source\\\\\\\", \\\\\\\"笑死\\\\\\\"), in(\\\\\\\"source\\\\\\\", \\\\\\\"笑死\\\\\\\"), like(\\\\\\\"tags\\\\\\\", \\\\\\\"笑死\\\\\\\"), in(\\\\\\\"tags\\\\\\\", \\\\\\\"笑死\\\\\\\"))\\\"  \\n}\\n```[PAD151645]\\n[PAD151644]'t be able to solve this[PAD151645]\\n[PAD151644]\\n[PAD151644]\\n[PAD151644]\\n\"\n",
      "}\n",
      "\u001b[36;1m\u001b[1;3m[chain/end]\u001b[0m \u001b[1m[1:chain:RunnableSequence > 4:parser:StructuredQueryOutputParser] [0ms] Exiting Parser run with output:\n",
      "\u001b[0m{\n",
      "  \"lc\": 1,\n",
      "  \"type\": \"not_implemented\",\n",
      "  \"id\": [\n",
      "    \"langchain\",\n",
      "    \"chains\",\n",
      "    \"query_constructor\",\n",
      "    \"ir\",\n",
      "    \"StructuredQuery\"\n",
      "  ],\n",
      "  \"repr\": \"StructuredQuery(query='谁是王尔德', filter=Operation(operator=<Operator.OR: 'or'>, arguments=[Comparison(comparator=<Comparator.LIKE: 'like'>, attribute='source', value='笑死'), Comparison(comparator=<Comparator.IN: 'in'>, attribute='source', value='笑死'), Comparison(comparator=<Comparator.LIKE: 'like'>, attribute='tags', value='笑死'), Comparison(comparator=<Comparator.IN: 'in'>, attribute='tags', value='笑死')]), limit=None)\"\n",
      "}\n",
      "\u001b[36;1m\u001b[1;3m[chain/end]\u001b[0m \u001b[1m[1:chain:RunnableSequence] [7.10s] Exiting Chain run with output:\n",
      "\u001b[0m[outputs]\n",
      "CPU times: user 31.6 s, sys: 304 ms, total: 31.9 s\n",
      "Wall time: 7.1 s\n"
     ]
    },
    {
     "name": "stderr",
     "output_type": "stream",
     "text": [
      "\n",
      "llama_print_timings:        load time =    6403.70 ms\n",
      "llama_print_timings:      sample time =      32.95 ms /    82 runs   (    0.40 ms per token,  2488.69 tokens per second)\n",
      "llama_print_timings: prompt eval time =     994.18 ms /    20 tokens (   49.71 ms per token,    20.12 tokens per second)\n",
      "llama_print_timings:        eval time =    5684.72 ms /    81 runs   (   70.18 ms per token,    14.25 tokens per second)\n",
      "llama_print_timings:       total time =    7091.92 ms /   101 tokens\n"
     ]
    },
    {
     "data": {
      "text/plain": [
       "StructuredQuery(query='谁是王尔德', filter=Operation(operator=<Operator.OR: 'or'>, arguments=[Comparison(comparator=<Comparator.LIKE: 'like'>, attribute='source', value='笑死'), Comparison(comparator=<Comparator.IN: 'in'>, attribute='source', value='笑死'), Comparison(comparator=<Comparator.LIKE: 'like'>, attribute='tags', value='笑死'), Comparison(comparator=<Comparator.IN: 'in'>, attribute='tags', value='笑死')]), limit=None)"
      ]
     },
     "execution_count": 19,
     "metadata": {},
     "output_type": "execute_result"
    }
   ],
   "source": [
    "%%time\n",
    "\n",
    "import langchain\n",
    "langchain.debug = True\n",
    "\n",
    "query_constructor = prompt | llm | output_parser\n",
    "\n",
    "query_constructor.invoke(\n",
    "    {\n",
    "        \"query\": \"谁是王尔德？仅从“笑死”中找答案。\"\n",
    "    }\n",
    ")"
   ]
  },
  {
   "cell_type": "code",
   "execution_count": 22,
   "id": "6ed03807-05e1-47b6-8e98-f9197e5ad79a",
   "metadata": {},
   "outputs": [],
   "source": [
    "from langchain.retrievers.self_query.chroma import ChromaTranslator\n",
    "from langchain.retrievers import SelfQueryRetriever\n",
    "\n",
    "retriever = SelfQueryRetriever(\n",
    "    query_constructor=prompt | llm | output_parser,\n",
    "    vectorstore=vs_chroma,\n",
    "    structured_query_translator=ChromaTranslator(),\n",
    ")"
   ]
  },
  {
   "cell_type": "code",
   "execution_count": 23,
   "id": "a00f1705-af14-4a31-8da9-ad13e9b8eacd",
   "metadata": {
    "scrolled": true
   },
   "outputs": [
    {
     "name": "stdout",
     "output_type": "stream",
     "text": [
      "\u001b[32;1m\u001b[1;3m[chain/start]\u001b[0m \u001b[1m[1:retriever:Retriever > 2:chain:RunnableSequence] Entering Chain run with input:\n",
      "\u001b[0m{\n",
      "  \"query\": \"人生有几个不捡？仅从“笑死”中找答案。\"\n",
      "}\n",
      "\u001b[32;1m\u001b[1;3m[chain/start]\u001b[0m \u001b[1m[1:retriever:Retriever > 2:chain:RunnableSequence > 3:prompt:FewShotPromptTemplate] Entering Prompt run with input:\n",
      "\u001b[0m{\n",
      "  \"query\": \"人生有几个不捡？仅从“笑死”中找答案。\"\n",
      "}\n",
      "\u001b[36;1m\u001b[1;3m[chain/end]\u001b[0m \u001b[1m[1:retriever:Retriever > 2:chain:RunnableSequence > 3:prompt:FewShotPromptTemplate] [0ms] Exiting Prompt run with output:\n",
      "\u001b[0m{\n",
      "  \"lc\": 1,\n",
      "  \"type\": \"constructor\",\n",
      "  \"id\": [\n",
      "    \"langchain\",\n",
      "    \"prompts\",\n",
      "    \"base\",\n",
      "    \"StringPromptValue\"\n",
      "  ],\n",
      "  \"kwargs\": {\n",
      "    \"text\": \"Your goal is to structure the user's query to match the request schema provided below.\\n\\n\\n\\n<< Structured Request Schema >>\\n\\nWhen responding use a markdown code snippet with a JSON object formatted in the following schema:\\n\\n\\n\\n```json\\n\\n{\\n\\n    \\\"query\\\": string \\\\ text string to compare to document contents\\n\\n    \\\"filter\\\": string \\\\ logical condition statement for filtering documents\\n\\n}\\n\\n```\\n\\n\\n\\nThe query string should contain only text that is expected to match the contents of documents. Any conditions in the filter should not be mentioned in the query as well.\\n\\n\\n\\nA logical condition statement is composed of one or more comparison and logical operation statements.\\n\\n\\n\\nA comparison statement takes the form: `comp(attr, val)`:\\n\\n- `comp` (eq | ne | gt | gte | lt | lte | contain | like | in | nin): comparator\\n\\n- `attr` (string):  name of attribute to apply the comparison to\\n\\n- `val` (string): is the comparison value\\n\\n\\n\\nA logical operation statement takes the form `op(statement1, statement2, ...)`:\\n\\n- `op` (and | or | not): logical operator\\n\\n- `statement1`, `statement2`, ... (comparison statements or logical operation statements): one or more statements to apply the operation to\\n\\n\\n\\nMake sure that you only use the comparators and logical operators listed above and no others.\\n\\nMake sure that filters only use the attributed names with its function names if there are functions applied on them.\\n\\nMake sure that filters only use format `YYYY-MM-DD` when handling date data typed values.\\n\\nMake sure that filters take into account the descriptions of attributes and only make comparisons that are feasible given the type of data being stored.\\n\\nMake sure that filters are only used as needed. If there are no filters that should be applied return \\\"NO_FILTER\\\" for the filter value.\\n\\nMake sure that filters only refer to attributes that exist in the data source. Available attributes: ['id', 'author', 'date_start', 'date_end', 'tags', 'name', 'source']. Don't make up other attributes.\\n\\n\\n\\n<<Data Source>>\\n\\n```json\\n\\n{\\n    \\\"content\\\": \\\"文章\\\",\\n    \\\"attributes\\\": {\\n        \\\"author\\\": {\\n            \\\"description\\\": \\\"本篇文章的作者\\\",\\n            \\\"type\\\": \\\"string\\\"\\n        },\\n        \\\"date_start\\\": {\\n            \\\"description\\\": \\\"文章被创建的时间，格式是YYYY-MM-DD\\\",\\n            \\\"type\\\": \\\"string\\\"\\n        },\\n        \\\"date_end\\\": {\\n            \\\"description\\\": \\\"文章被完成的时间，格式是YYYY-MM-DD\\\",\\n            \\\"type\\\": \\\"string\\\"\\n        },\\n        \\\"id\\\": {\\n            \\\"description\\\": \\\"文章的id\\\",\\n            \\\"type\\\": \\\"string\\\"\\n        },\\n        \\\"name\\\": {\\n            \\\"description\\\": \\\"文章的名字\\\",\\n            \\\"type\\\": \\\"string\\\"\\n        },\\n        \\\"source\\\": {\\n            \\\"description\\\": \\\"文章的来源，这里的文章取自若干不同数据库\\\",\\n            \\\"type\\\": \\\"string\\\"\\n        },\\n        \\\"tags\\\": {\\n            \\\"description\\\": \\\"文章的标签，可能代表它的风格、题材、来源，或者系列\\\",\\n            \\\"type\\\": \\\"string\\\"\\n        }\\n    }\\n}\\n\\n```\\n\\n\\n<< Example 1. >>\\nUser Query:\\n人生有几个不捡？仅从“笑死”中找答案。\\n\\nStructured Request:\\n```json\\n{\\n    \\\"query\\\": \\\"人生有几个不捡\\\",\\n    \\\"filter\\\": \\\"or(like(\\\\\\\"source\\\\\\\", \\\\\\\"笑死\\\\\\\"), in(\\\\\\\"source\\\\\\\", \\\\\\\"笑死\\\\\\\"), like(\\\\\\\"tags\\\\\\\", \\\\\\\"笑死\\\\\\\"), in(\\\\\\\"tags\\\\\\\", \\\\\\\"笑死\\\\\\\"))\\\"\\n}\\n```\\n\\n\\n<< Example 2. >>\\nUser Query:\\n请从三岛由纪夫的小说找到下文相关片段：“我们之所以突然变得残暴”的后面是什么？\\n\\nStructured Request:\\n```json\\n{\\n    \\\"query\\\": \\\"我们之所以突然变得残暴\\\",\\n    \\\"filter\\\": \\\"or(like(\\\\\\\"tags\\\\\\\", \\\\\\\"三岛由纪夫\\\\\\\"), in(\\\\\\\"tags\\\\\\\", \\\\\\\"三岛由纪夫\\\\\\\"), like(\\\\\\\"author\\\\\\\", \\\\\\\"三岛由纪夫\\\\\\\"), in(\\\\\\\"author\\\\\\\", \\\\\\\"三岛由纪夫\\\\\\\"), like(\\\\\\\"tags\\\\\\\", \\\\\\\"小说\\\\\\\"), in(\\\\\\\"tags\\\\\\\", \\\\\\\"小说\\\\\\\"))\\\"\\n}\\n```\\n\\n\\n<< Example 3. >>\\nUser Query:\\n《天使与昆虫》是哪位作家的作品？\\n\\nStructured Request:\\n```json\\n{\\n    \\\"query\\\": \\\"\\\",\\n    \\\"filter\\\": \\\"or(like(\\\\\\\"tags\\\\\\\", \\\\\\\"天使与昆虫\\\\\\\"), in(\\\\\\\"tags\\\\\\\", \\\\\\\"天使与昆虫\\\\\\\"), like(\\\\\\\"name\\\\\\\", \\\\\\\"天使与昆虫\\\\\\\"), in(\\\\\\\"name\\\\\\\", \\\\\\\"天使与昆虫\\\\\\\"), like(\\\\\\\"source\\\\\\\", \\\\\\\"天使与昆虫\\\\\\\"), in(\\\\\\\"source\\\\\\\", \\\\\\\"天使与昆虫\\\\\\\"))\\\"\\n}\\n```\\n\\n\\n<< Example 4. >>\\nUser Query:\\n本多是哪本小说中出现的人物？\\n\\nStructured Request:\\n```json\\n{\\n    \\\"query\\\": \\\"本多\\\",\\n    \\\"filter\\\": \\\"or(like(\\\\\\\"source\\\\\\\", \\\\\\\"小说\\\\\\\"), in(\\\\\\\"source\\\\\\\", \\\\\\\"小说\\\\\\\"), like(\\\\\\\"tags\\\\\\\", \\\\\\\"小说\\\\\\\"), in(\\\\\\\"tags\\\\\\\", \\\\\\\"小说\\\\\\\"))\\\"\\n}\\n```\\n\\n\\n<< Example 5. >>\\nUser Query:\\n我在2019年到2022年间写过多少篇文章？\\n\\nStructured Request:\\n```json\\n{\\n    \\\"query\\\": \\\"\\\",\\n    \\\"filter\\\": \\\"and(eq(\\\\\\\"source\\\\\\\", \\\\\\\"写作\\\\\\\"), gt(\\\\\\\"date_start\\\\\\\", \\\\\\\"2019-01-01\\\\\\\"), lt(\\\\\\\"date_end\\\\\\\", \\\\\\\"2022-12-31\\\\\\\"))\\\"\\n}\\n```\\n\\n\\n<< Example 6. >>\\nUser Query:\\n人生有几个不捡？仅从“笑死”中找答案。\\n\\nStructured Request:\\n\"\n",
      "  }\n",
      "}\n",
      "\u001b[32;1m\u001b[1;3m[llm/start]\u001b[0m \u001b[1m[1:retriever:Retriever > 2:chain:RunnableSequence > 4:llm:LlamaCpp] Entering LLM run with input:\n",
      "\u001b[0m{\n",
      "  \"prompts\": [\n",
      "    \"Your goal is to structure the user's query to match the request schema provided below.\\n\\n\\n\\n<< Structured Request Schema >>\\n\\nWhen responding use a markdown code snippet with a JSON object formatted in the following schema:\\n\\n\\n\\n```json\\n\\n{\\n\\n    \\\"query\\\": string \\\\ text string to compare to document contents\\n\\n    \\\"filter\\\": string \\\\ logical condition statement for filtering documents\\n\\n}\\n\\n```\\n\\n\\n\\nThe query string should contain only text that is expected to match the contents of documents. Any conditions in the filter should not be mentioned in the query as well.\\n\\n\\n\\nA logical condition statement is composed of one or more comparison and logical operation statements.\\n\\n\\n\\nA comparison statement takes the form: `comp(attr, val)`:\\n\\n- `comp` (eq | ne | gt | gte | lt | lte | contain | like | in | nin): comparator\\n\\n- `attr` (string):  name of attribute to apply the comparison to\\n\\n- `val` (string): is the comparison value\\n\\n\\n\\nA logical operation statement takes the form `op(statement1, statement2, ...)`:\\n\\n- `op` (and | or | not): logical operator\\n\\n- `statement1`, `statement2`, ... (comparison statements or logical operation statements): one or more statements to apply the operation to\\n\\n\\n\\nMake sure that you only use the comparators and logical operators listed above and no others.\\n\\nMake sure that filters only use the attributed names with its function names if there are functions applied on them.\\n\\nMake sure that filters only use format `YYYY-MM-DD` when handling date data typed values.\\n\\nMake sure that filters take into account the descriptions of attributes and only make comparisons that are feasible given the type of data being stored.\\n\\nMake sure that filters are only used as needed. If there are no filters that should be applied return \\\"NO_FILTER\\\" for the filter value.\\n\\nMake sure that filters only refer to attributes that exist in the data source. Available attributes: ['id', 'author', 'date_start', 'date_end', 'tags', 'name', 'source']. Don't make up other attributes.\\n\\n\\n\\n<<Data Source>>\\n\\n```json\\n\\n{\\n    \\\"content\\\": \\\"文章\\\",\\n    \\\"attributes\\\": {\\n        \\\"author\\\": {\\n            \\\"description\\\": \\\"本篇文章的作者\\\",\\n            \\\"type\\\": \\\"string\\\"\\n        },\\n        \\\"date_start\\\": {\\n            \\\"description\\\": \\\"文章被创建的时间，格式是YYYY-MM-DD\\\",\\n            \\\"type\\\": \\\"string\\\"\\n        },\\n        \\\"date_end\\\": {\\n            \\\"description\\\": \\\"文章被完成的时间，格式是YYYY-MM-DD\\\",\\n            \\\"type\\\": \\\"string\\\"\\n        },\\n        \\\"id\\\": {\\n            \\\"description\\\": \\\"文章的id\\\",\\n            \\\"type\\\": \\\"string\\\"\\n        },\\n        \\\"name\\\": {\\n            \\\"description\\\": \\\"文章的名字\\\",\\n            \\\"type\\\": \\\"string\\\"\\n        },\\n        \\\"source\\\": {\\n            \\\"description\\\": \\\"文章的来源，这里的文章取自若干不同数据库\\\",\\n            \\\"type\\\": \\\"string\\\"\\n        },\\n        \\\"tags\\\": {\\n            \\\"description\\\": \\\"文章的标签，可能代表它的风格、题材、来源，或者系列\\\",\\n            \\\"type\\\": \\\"string\\\"\\n        }\\n    }\\n}\\n\\n```\\n\\n\\n<< Example 1. >>\\nUser Query:\\n人生有几个不捡？仅从“笑死”中找答案。\\n\\nStructured Request:\\n```json\\n{\\n    \\\"query\\\": \\\"人生有几个不捡\\\",\\n    \\\"filter\\\": \\\"or(like(\\\\\\\"source\\\\\\\", \\\\\\\"笑死\\\\\\\"), in(\\\\\\\"source\\\\\\\", \\\\\\\"笑死\\\\\\\"), like(\\\\\\\"tags\\\\\\\", \\\\\\\"笑死\\\\\\\"), in(\\\\\\\"tags\\\\\\\", \\\\\\\"笑死\\\\\\\"))\\\"\\n}\\n```\\n\\n\\n<< Example 2. >>\\nUser Query:\\n请从三岛由纪夫的小说找到下文相关片段：“我们之所以突然变得残暴”的后面是什么？\\n\\nStructured Request:\\n```json\\n{\\n    \\\"query\\\": \\\"我们之所以突然变得残暴\\\",\\n    \\\"filter\\\": \\\"or(like(\\\\\\\"tags\\\\\\\", \\\\\\\"三岛由纪夫\\\\\\\"), in(\\\\\\\"tags\\\\\\\", \\\\\\\"三岛由纪夫\\\\\\\"), like(\\\\\\\"author\\\\\\\", \\\\\\\"三岛由纪夫\\\\\\\"), in(\\\\\\\"author\\\\\\\", \\\\\\\"三岛由纪夫\\\\\\\"), like(\\\\\\\"tags\\\\\\\", \\\\\\\"小说\\\\\\\"), in(\\\\\\\"tags\\\\\\\", \\\\\\\"小说\\\\\\\"))\\\"\\n}\\n```\\n\\n\\n<< Example 3. >>\\nUser Query:\\n《天使与昆虫》是哪位作家的作品？\\n\\nStructured Request:\\n```json\\n{\\n    \\\"query\\\": \\\"\\\",\\n    \\\"filter\\\": \\\"or(like(\\\\\\\"tags\\\\\\\", \\\\\\\"天使与昆虫\\\\\\\"), in(\\\\\\\"tags\\\\\\\", \\\\\\\"天使与昆虫\\\\\\\"), like(\\\\\\\"name\\\\\\\", \\\\\\\"天使与昆虫\\\\\\\"), in(\\\\\\\"name\\\\\\\", \\\\\\\"天使与昆虫\\\\\\\"), like(\\\\\\\"source\\\\\\\", \\\\\\\"天使与昆虫\\\\\\\"), in(\\\\\\\"source\\\\\\\", \\\\\\\"天使与昆虫\\\\\\\"))\\\"\\n}\\n```\\n\\n\\n<< Example 4. >>\\nUser Query:\\n本多是哪本小说中出现的人物？\\n\\nStructured Request:\\n```json\\n{\\n    \\\"query\\\": \\\"本多\\\",\\n    \\\"filter\\\": \\\"or(like(\\\\\\\"source\\\\\\\", \\\\\\\"小说\\\\\\\"), in(\\\\\\\"source\\\\\\\", \\\\\\\"小说\\\\\\\"), like(\\\\\\\"tags\\\\\\\", \\\\\\\"小说\\\\\\\"), in(\\\\\\\"tags\\\\\\\", \\\\\\\"小说\\\\\\\"))\\\"\\n}\\n```\\n\\n\\n<< Example 5. >>\\nUser Query:\\n我在2019年到2022年间写过多少篇文章？\\n\\nStructured Request:\\n```json\\n{\\n    \\\"query\\\": \\\"\\\",\\n    \\\"filter\\\": \\\"and(eq(\\\\\\\"source\\\\\\\", \\\\\\\"写作\\\\\\\"), gt(\\\\\\\"date_start\\\\\\\", \\\\\\\"2019-01-01\\\\\\\"), lt(\\\\\\\"date_end\\\\\\\", \\\\\\\"2022-12-31\\\\\\\"))\\\"\\n}\\n```\\n\\n\\n<< Example 6. >>\\nUser Query:\\n人生有几个不捡？仅从“笑死”中找答案。\\n\\nStructured Request:\"\n",
      "  ]\n",
      "}\n"
     ]
    },
    {
     "name": "stderr",
     "output_type": "stream",
     "text": [
      "Llama.generate: prefix-match hit\n"
     ]
    },
    {
     "name": "stdout",
     "output_type": "stream",
     "text": [
      "\u001b[36;1m\u001b[1;3m[llm/end]\u001b[0m \u001b[1m[1:retriever:Retriever > 2:chain:RunnableSequence > 4:llm:LlamaCpp] [7.56s] Exiting LLM run with output:\n",
      "\u001b[0m{\n",
      "  \"generations\": [\n",
      "    [\n",
      "      {\n",
      "        \"text\": \"```json\\n{  \\n     \\\"query\\\": \\\"人生有几个不捡\\\",  \\n     \\\"filter\\\": \\\"or(like(\\\\\\\"source\\\\\\\", \\\\\\\"笑死\\\\\\\"), in(\\\\\\\"source\\\\\\\", \\\\\\\"笑死\\\\\\\"), like(\\\\\\\"tags\\\\\\\", \\\\\\\"笑死\\\\\\\"), in(\\\\\\\"tags\\\\\\\", \\\\\\\"笑死\\\\\\\"))\\\"  \\n}\\n```[PAD151645]\\n[PAD151644]'t be able to solve this issue[PAD151645]\\n[PAD151644]\\n[PAD151644]\\n[PAD151644]\\n\",\n",
      "        \"generation_info\": null,\n",
      "        \"type\": \"Generation\"\n",
      "      }\n",
      "    ]\n",
      "  ],\n",
      "  \"llm_output\": null,\n",
      "  \"run\": null\n",
      "}\n",
      "\u001b[32;1m\u001b[1;3m[chain/start]\u001b[0m \u001b[1m[1:retriever:Retriever > 2:chain:RunnableSequence > 5:parser:StructuredQueryOutputParser] Entering Parser run with input:\n",
      "\u001b[0m{\n",
      "  \"input\": \"```json\\n{  \\n     \\\"query\\\": \\\"人生有几个不捡\\\",  \\n     \\\"filter\\\": \\\"or(like(\\\\\\\"source\\\\\\\", \\\\\\\"笑死\\\\\\\"), in(\\\\\\\"source\\\\\\\", \\\\\\\"笑死\\\\\\\"), like(\\\\\\\"tags\\\\\\\", \\\\\\\"笑死\\\\\\\"), in(\\\\\\\"tags\\\\\\\", \\\\\\\"笑死\\\\\\\"))\\\"  \\n}\\n```[PAD151645]\\n[PAD151644]'t be able to solve this issue[PAD151645]\\n[PAD151644]\\n[PAD151644]\\n[PAD151644]\\n\"\n",
      "}\n",
      "\u001b[36;1m\u001b[1;3m[chain/end]\u001b[0m \u001b[1m[1:retriever:Retriever > 2:chain:RunnableSequence > 5:parser:StructuredQueryOutputParser] [0ms] Exiting Parser run with output:\n",
      "\u001b[0m{\n",
      "  \"lc\": 1,\n",
      "  \"type\": \"not_implemented\",\n",
      "  \"id\": [\n",
      "    \"langchain\",\n",
      "    \"chains\",\n",
      "    \"query_constructor\",\n",
      "    \"ir\",\n",
      "    \"StructuredQuery\"\n",
      "  ],\n",
      "  \"repr\": \"StructuredQuery(query='人生有几个不捡', filter=Operation(operator=<Operator.OR: 'or'>, arguments=[Comparison(comparator=<Comparator.LIKE: 'like'>, attribute='source', value='笑死'), Comparison(comparator=<Comparator.IN: 'in'>, attribute='source', value='笑死'), Comparison(comparator=<Comparator.LIKE: 'like'>, attribute='tags', value='笑死'), Comparison(comparator=<Comparator.IN: 'in'>, attribute='tags', value='笑死')]), limit=None)\"\n",
      "}\n",
      "\u001b[36;1m\u001b[1;3m[chain/end]\u001b[0m \u001b[1m[1:retriever:Retriever > 2:chain:RunnableSequence] [7.56s] Exiting Chain run with output:\n",
      "\u001b[0m[outputs]\n"
     ]
    },
    {
     "name": "stderr",
     "output_type": "stream",
     "text": [
      "\n",
      "llama_print_timings:        load time =    6403.70 ms\n",
      "llama_print_timings:      sample time =      33.99 ms /    82 runs   (    0.41 ms per token,  2412.12 tokens per second)\n",
      "llama_print_timings: prompt eval time =    1039.34 ms /    19 tokens (   54.70 ms per token,    18.28 tokens per second)\n",
      "llama_print_timings:        eval time =    6084.44 ms /    81 runs   (   75.12 ms per token,    13.31 tokens per second)\n",
      "llama_print_timings:       total time =    7549.85 ms /   100 tokens\n"
     ]
    },
    {
     "ename": "ValueError",
     "evalue": "Received disallowed comparator Comparator.LIKE. Allowed comparators are [<Comparator.EQ: 'eq'>, <Comparator.NE: 'ne'>, <Comparator.GT: 'gt'>, <Comparator.GTE: 'gte'>, <Comparator.LT: 'lt'>, <Comparator.LTE: 'lte'>]",
     "output_type": "error",
     "traceback": [
      "\u001b[0;31m---------------------------------------------------------------------------\u001b[0m",
      "\u001b[0;31mValueError\u001b[0m                                Traceback (most recent call last)",
      "File \u001b[0;32m<timed exec>:4\u001b[0m\n",
      "File \u001b[0;32m~/micromamba/envs/my-notion-companion/lib/python3.11/site-packages/langchain_core/retrievers.py:121\u001b[0m, in \u001b[0;36mBaseRetriever.invoke\u001b[0;34m(self, input, config, **kwargs)\u001b[0m\n\u001b[1;32m    117\u001b[0m \u001b[38;5;28;01mdef\u001b[39;00m \u001b[38;5;21minvoke\u001b[39m(\n\u001b[1;32m    118\u001b[0m     \u001b[38;5;28mself\u001b[39m, \u001b[38;5;28minput\u001b[39m: \u001b[38;5;28mstr\u001b[39m, config: Optional[RunnableConfig] \u001b[38;5;241m=\u001b[39m \u001b[38;5;28;01mNone\u001b[39;00m, \u001b[38;5;241m*\u001b[39m\u001b[38;5;241m*\u001b[39mkwargs: Any\n\u001b[1;32m    119\u001b[0m ) \u001b[38;5;241m-\u001b[39m\u001b[38;5;241m>\u001b[39m List[Document]:\n\u001b[1;32m    120\u001b[0m     config \u001b[38;5;241m=\u001b[39m ensure_config(config)\n\u001b[0;32m--> 121\u001b[0m     \u001b[38;5;28;01mreturn\u001b[39;00m \u001b[38;5;28;43mself\u001b[39;49m\u001b[38;5;241;43m.\u001b[39;49m\u001b[43mget_relevant_documents\u001b[49m\u001b[43m(\u001b[49m\n\u001b[1;32m    122\u001b[0m \u001b[43m        \u001b[49m\u001b[38;5;28;43minput\u001b[39;49m\u001b[43m,\u001b[49m\n\u001b[1;32m    123\u001b[0m \u001b[43m        \u001b[49m\u001b[43mcallbacks\u001b[49m\u001b[38;5;241;43m=\u001b[39;49m\u001b[43mconfig\u001b[49m\u001b[38;5;241;43m.\u001b[39;49m\u001b[43mget\u001b[49m\u001b[43m(\u001b[49m\u001b[38;5;124;43m\"\u001b[39;49m\u001b[38;5;124;43mcallbacks\u001b[39;49m\u001b[38;5;124;43m\"\u001b[39;49m\u001b[43m)\u001b[49m\u001b[43m,\u001b[49m\n\u001b[1;32m    124\u001b[0m \u001b[43m        \u001b[49m\u001b[43mtags\u001b[49m\u001b[38;5;241;43m=\u001b[39;49m\u001b[43mconfig\u001b[49m\u001b[38;5;241;43m.\u001b[39;49m\u001b[43mget\u001b[49m\u001b[43m(\u001b[49m\u001b[38;5;124;43m\"\u001b[39;49m\u001b[38;5;124;43mtags\u001b[39;49m\u001b[38;5;124;43m\"\u001b[39;49m\u001b[43m)\u001b[49m\u001b[43m,\u001b[49m\n\u001b[1;32m    125\u001b[0m \u001b[43m        \u001b[49m\u001b[43mmetadata\u001b[49m\u001b[38;5;241;43m=\u001b[39;49m\u001b[43mconfig\u001b[49m\u001b[38;5;241;43m.\u001b[39;49m\u001b[43mget\u001b[49m\u001b[43m(\u001b[49m\u001b[38;5;124;43m\"\u001b[39;49m\u001b[38;5;124;43mmetadata\u001b[39;49m\u001b[38;5;124;43m\"\u001b[39;49m\u001b[43m)\u001b[49m\u001b[43m,\u001b[49m\n\u001b[1;32m    126\u001b[0m \u001b[43m        \u001b[49m\u001b[43mrun_name\u001b[49m\u001b[38;5;241;43m=\u001b[39;49m\u001b[43mconfig\u001b[49m\u001b[38;5;241;43m.\u001b[39;49m\u001b[43mget\u001b[49m\u001b[43m(\u001b[49m\u001b[38;5;124;43m\"\u001b[39;49m\u001b[38;5;124;43mrun_name\u001b[39;49m\u001b[38;5;124;43m\"\u001b[39;49m\u001b[43m)\u001b[49m\u001b[43m,\u001b[49m\n\u001b[1;32m    127\u001b[0m \u001b[43m        \u001b[49m\u001b[38;5;241;43m*\u001b[39;49m\u001b[38;5;241;43m*\u001b[39;49m\u001b[43mkwargs\u001b[49m\u001b[43m,\u001b[49m\n\u001b[1;32m    128\u001b[0m \u001b[43m    \u001b[49m\u001b[43m)\u001b[49m\n",
      "File \u001b[0;32m~/micromamba/envs/my-notion-companion/lib/python3.11/site-packages/langchain_core/retrievers.py:224\u001b[0m, in \u001b[0;36mBaseRetriever.get_relevant_documents\u001b[0;34m(self, query, callbacks, tags, metadata, run_name, **kwargs)\u001b[0m\n\u001b[1;32m    222\u001b[0m \u001b[38;5;28;01mexcept\u001b[39;00m \u001b[38;5;167;01mException\u001b[39;00m \u001b[38;5;28;01mas\u001b[39;00m e:\n\u001b[1;32m    223\u001b[0m     run_manager\u001b[38;5;241m.\u001b[39mon_retriever_error(e)\n\u001b[0;32m--> 224\u001b[0m     \u001b[38;5;28;01mraise\u001b[39;00m e\n\u001b[1;32m    225\u001b[0m \u001b[38;5;28;01melse\u001b[39;00m:\n\u001b[1;32m    226\u001b[0m     run_manager\u001b[38;5;241m.\u001b[39mon_retriever_end(\n\u001b[1;32m    227\u001b[0m         result,\n\u001b[1;32m    228\u001b[0m     )\n",
      "File \u001b[0;32m~/micromamba/envs/my-notion-companion/lib/python3.11/site-packages/langchain_core/retrievers.py:217\u001b[0m, in \u001b[0;36mBaseRetriever.get_relevant_documents\u001b[0;34m(self, query, callbacks, tags, metadata, run_name, **kwargs)\u001b[0m\n\u001b[1;32m    215\u001b[0m _kwargs \u001b[38;5;241m=\u001b[39m kwargs \u001b[38;5;28;01mif\u001b[39;00m \u001b[38;5;28mself\u001b[39m\u001b[38;5;241m.\u001b[39m_expects_other_args \u001b[38;5;28;01melse\u001b[39;00m {}\n\u001b[1;32m    216\u001b[0m \u001b[38;5;28;01mif\u001b[39;00m \u001b[38;5;28mself\u001b[39m\u001b[38;5;241m.\u001b[39m_new_arg_supported:\n\u001b[0;32m--> 217\u001b[0m     result \u001b[38;5;241m=\u001b[39m \u001b[38;5;28;43mself\u001b[39;49m\u001b[38;5;241;43m.\u001b[39;49m\u001b[43m_get_relevant_documents\u001b[49m\u001b[43m(\u001b[49m\n\u001b[1;32m    218\u001b[0m \u001b[43m        \u001b[49m\u001b[43mquery\u001b[49m\u001b[43m,\u001b[49m\u001b[43m \u001b[49m\u001b[43mrun_manager\u001b[49m\u001b[38;5;241;43m=\u001b[39;49m\u001b[43mrun_manager\u001b[49m\u001b[43m,\u001b[49m\u001b[43m \u001b[49m\u001b[38;5;241;43m*\u001b[39;49m\u001b[38;5;241;43m*\u001b[39;49m\u001b[43m_kwargs\u001b[49m\n\u001b[1;32m    219\u001b[0m \u001b[43m    \u001b[49m\u001b[43m)\u001b[49m\n\u001b[1;32m    220\u001b[0m \u001b[38;5;28;01melse\u001b[39;00m:\n\u001b[1;32m    221\u001b[0m     result \u001b[38;5;241m=\u001b[39m \u001b[38;5;28mself\u001b[39m\u001b[38;5;241m.\u001b[39m_get_relevant_documents(query, \u001b[38;5;241m*\u001b[39m\u001b[38;5;241m*\u001b[39m_kwargs)\n",
      "File \u001b[0;32m~/micromamba/envs/my-notion-companion/lib/python3.11/site-packages/langchain/retrievers/self_query/base.py:173\u001b[0m, in \u001b[0;36mSelfQueryRetriever._get_relevant_documents\u001b[0;34m(self, query, run_manager)\u001b[0m\n\u001b[1;32m    171\u001b[0m \u001b[38;5;28;01mif\u001b[39;00m \u001b[38;5;28mself\u001b[39m\u001b[38;5;241m.\u001b[39mverbose:\n\u001b[1;32m    172\u001b[0m     logger\u001b[38;5;241m.\u001b[39minfo(\u001b[38;5;124mf\u001b[39m\u001b[38;5;124m\"\u001b[39m\u001b[38;5;124mGenerated Query: \u001b[39m\u001b[38;5;132;01m{\u001b[39;00mstructured_query\u001b[38;5;132;01m}\u001b[39;00m\u001b[38;5;124m\"\u001b[39m)\n\u001b[0;32m--> 173\u001b[0m new_query, search_kwargs \u001b[38;5;241m=\u001b[39m \u001b[38;5;28;43mself\u001b[39;49m\u001b[38;5;241;43m.\u001b[39;49m\u001b[43m_prepare_query\u001b[49m\u001b[43m(\u001b[49m\u001b[43mquery\u001b[49m\u001b[43m,\u001b[49m\u001b[43m \u001b[49m\u001b[43mstructured_query\u001b[49m\u001b[43m)\u001b[49m\n\u001b[1;32m    174\u001b[0m docs \u001b[38;5;241m=\u001b[39m \u001b[38;5;28mself\u001b[39m\u001b[38;5;241m.\u001b[39m_get_docs_with_query(new_query, search_kwargs)\n\u001b[1;32m    175\u001b[0m \u001b[38;5;28;01mreturn\u001b[39;00m docs\n",
      "File \u001b[0;32m~/micromamba/envs/my-notion-companion/lib/python3.11/site-packages/langchain/retrievers/self_query/base.py:135\u001b[0m, in \u001b[0;36mSelfQueryRetriever._prepare_query\u001b[0;34m(self, query, structured_query)\u001b[0m\n\u001b[1;32m    132\u001b[0m \u001b[38;5;28;01mdef\u001b[39;00m \u001b[38;5;21m_prepare_query\u001b[39m(\n\u001b[1;32m    133\u001b[0m     \u001b[38;5;28mself\u001b[39m, query: \u001b[38;5;28mstr\u001b[39m, structured_query: StructuredQuery\n\u001b[1;32m    134\u001b[0m ) \u001b[38;5;241m-\u001b[39m\u001b[38;5;241m>\u001b[39m Tuple[\u001b[38;5;28mstr\u001b[39m, Dict[\u001b[38;5;28mstr\u001b[39m, Any]]:\n\u001b[0;32m--> 135\u001b[0m     new_query, new_kwargs \u001b[38;5;241m=\u001b[39m \u001b[38;5;28;43mself\u001b[39;49m\u001b[38;5;241;43m.\u001b[39;49m\u001b[43mstructured_query_translator\u001b[49m\u001b[38;5;241;43m.\u001b[39;49m\u001b[43mvisit_structured_query\u001b[49m\u001b[43m(\u001b[49m\n\u001b[1;32m    136\u001b[0m \u001b[43m        \u001b[49m\u001b[43mstructured_query\u001b[49m\n\u001b[1;32m    137\u001b[0m \u001b[43m    \u001b[49m\u001b[43m)\u001b[49m\n\u001b[1;32m    138\u001b[0m     \u001b[38;5;28;01mif\u001b[39;00m structured_query\u001b[38;5;241m.\u001b[39mlimit \u001b[38;5;129;01mis\u001b[39;00m \u001b[38;5;129;01mnot\u001b[39;00m \u001b[38;5;28;01mNone\u001b[39;00m:\n\u001b[1;32m    139\u001b[0m         new_kwargs[\u001b[38;5;124m\"\u001b[39m\u001b[38;5;124mk\u001b[39m\u001b[38;5;124m\"\u001b[39m] \u001b[38;5;241m=\u001b[39m structured_query\u001b[38;5;241m.\u001b[39mlimit\n",
      "File \u001b[0;32m~/micromamba/envs/my-notion-companion/lib/python3.11/site-packages/langchain/retrievers/self_query/chroma.py:49\u001b[0m, in \u001b[0;36mChromaTranslator.visit_structured_query\u001b[0;34m(self, structured_query)\u001b[0m\n\u001b[1;32m     47\u001b[0m     kwargs \u001b[38;5;241m=\u001b[39m {}\n\u001b[1;32m     48\u001b[0m \u001b[38;5;28;01melse\u001b[39;00m:\n\u001b[0;32m---> 49\u001b[0m     kwargs \u001b[38;5;241m=\u001b[39m {\u001b[38;5;124m\"\u001b[39m\u001b[38;5;124mfilter\u001b[39m\u001b[38;5;124m\"\u001b[39m: \u001b[43mstructured_query\u001b[49m\u001b[38;5;241;43m.\u001b[39;49m\u001b[43mfilter\u001b[49m\u001b[38;5;241;43m.\u001b[39;49m\u001b[43maccept\u001b[49m\u001b[43m(\u001b[49m\u001b[38;5;28;43mself\u001b[39;49m\u001b[43m)\u001b[49m}\n\u001b[1;32m     50\u001b[0m \u001b[38;5;28;01mreturn\u001b[39;00m structured_query\u001b[38;5;241m.\u001b[39mquery, kwargs\n",
      "File \u001b[0;32m~/micromamba/envs/my-notion-companion/lib/python3.11/site-packages/langchain/chains/query_constructor/ir.py:67\u001b[0m, in \u001b[0;36mExpr.accept\u001b[0;34m(self, visitor)\u001b[0m\n\u001b[1;32m     58\u001b[0m \u001b[38;5;28;01mdef\u001b[39;00m \u001b[38;5;21maccept\u001b[39m(\u001b[38;5;28mself\u001b[39m, visitor: Visitor) \u001b[38;5;241m-\u001b[39m\u001b[38;5;241m>\u001b[39m Any:\n\u001b[1;32m     59\u001b[0m \u001b[38;5;250m    \u001b[39m\u001b[38;5;124;03m\"\"\"Accept a visitor.\u001b[39;00m\n\u001b[1;32m     60\u001b[0m \n\u001b[1;32m     61\u001b[0m \u001b[38;5;124;03m    Args:\u001b[39;00m\n\u001b[0;32m   (...)\u001b[0m\n\u001b[1;32m     65\u001b[0m \u001b[38;5;124;03m        result of visiting\u001b[39;00m\n\u001b[1;32m     66\u001b[0m \u001b[38;5;124;03m    \"\"\"\u001b[39;00m\n\u001b[0;32m---> 67\u001b[0m     \u001b[38;5;28;01mreturn\u001b[39;00m \u001b[38;5;28;43mgetattr\u001b[39;49m\u001b[43m(\u001b[49m\u001b[43mvisitor\u001b[49m\u001b[43m,\u001b[49m\u001b[43m \u001b[49m\u001b[38;5;124;43mf\u001b[39;49m\u001b[38;5;124;43m\"\u001b[39;49m\u001b[38;5;124;43mvisit_\u001b[39;49m\u001b[38;5;132;43;01m{\u001b[39;49;00m\u001b[43m_to_snake_case\u001b[49m\u001b[43m(\u001b[49m\u001b[38;5;28;43mself\u001b[39;49m\u001b[38;5;241;43m.\u001b[39;49m\u001b[38;5;18;43m__class__\u001b[39;49m\u001b[38;5;241;43m.\u001b[39;49m\u001b[38;5;18;43m__name__\u001b[39;49m\u001b[43m)\u001b[49m\u001b[38;5;132;43;01m}\u001b[39;49;00m\u001b[38;5;124;43m\"\u001b[39;49m\u001b[43m)\u001b[49m\u001b[43m(\u001b[49m\n\u001b[1;32m     68\u001b[0m \u001b[43m        \u001b[49m\u001b[38;5;28;43mself\u001b[39;49m\n\u001b[1;32m     69\u001b[0m \u001b[43m    \u001b[49m\u001b[43m)\u001b[49m\n",
      "File \u001b[0;32m~/micromamba/envs/my-notion-companion/lib/python3.11/site-packages/langchain/retrievers/self_query/chroma.py:33\u001b[0m, in \u001b[0;36mChromaTranslator.visit_operation\u001b[0;34m(self, operation)\u001b[0m\n\u001b[1;32m     32\u001b[0m \u001b[38;5;28;01mdef\u001b[39;00m \u001b[38;5;21mvisit_operation\u001b[39m(\u001b[38;5;28mself\u001b[39m, operation: Operation) \u001b[38;5;241m-\u001b[39m\u001b[38;5;241m>\u001b[39m Dict:\n\u001b[0;32m---> 33\u001b[0m     args \u001b[38;5;241m=\u001b[39m \u001b[43m[\u001b[49m\u001b[43marg\u001b[49m\u001b[38;5;241;43m.\u001b[39;49m\u001b[43maccept\u001b[49m\u001b[43m(\u001b[49m\u001b[38;5;28;43mself\u001b[39;49m\u001b[43m)\u001b[49m\u001b[43m \u001b[49m\u001b[38;5;28;43;01mfor\u001b[39;49;00m\u001b[43m \u001b[49m\u001b[43marg\u001b[49m\u001b[43m \u001b[49m\u001b[38;5;129;43;01min\u001b[39;49;00m\u001b[43m \u001b[49m\u001b[43moperation\u001b[49m\u001b[38;5;241;43m.\u001b[39;49m\u001b[43marguments\u001b[49m\u001b[43m]\u001b[49m\n\u001b[1;32m     34\u001b[0m     \u001b[38;5;28;01mreturn\u001b[39;00m {\u001b[38;5;28mself\u001b[39m\u001b[38;5;241m.\u001b[39m_format_func(operation\u001b[38;5;241m.\u001b[39moperator): args}\n",
      "File \u001b[0;32m~/micromamba/envs/my-notion-companion/lib/python3.11/site-packages/langchain/retrievers/self_query/chroma.py:33\u001b[0m, in \u001b[0;36m<listcomp>\u001b[0;34m(.0)\u001b[0m\n\u001b[1;32m     32\u001b[0m \u001b[38;5;28;01mdef\u001b[39;00m \u001b[38;5;21mvisit_operation\u001b[39m(\u001b[38;5;28mself\u001b[39m, operation: Operation) \u001b[38;5;241m-\u001b[39m\u001b[38;5;241m>\u001b[39m Dict:\n\u001b[0;32m---> 33\u001b[0m     args \u001b[38;5;241m=\u001b[39m [\u001b[43marg\u001b[49m\u001b[38;5;241;43m.\u001b[39;49m\u001b[43maccept\u001b[49m\u001b[43m(\u001b[49m\u001b[38;5;28;43mself\u001b[39;49m\u001b[43m)\u001b[49m \u001b[38;5;28;01mfor\u001b[39;00m arg \u001b[38;5;129;01min\u001b[39;00m operation\u001b[38;5;241m.\u001b[39marguments]\n\u001b[1;32m     34\u001b[0m     \u001b[38;5;28;01mreturn\u001b[39;00m {\u001b[38;5;28mself\u001b[39m\u001b[38;5;241m.\u001b[39m_format_func(operation\u001b[38;5;241m.\u001b[39moperator): args}\n",
      "File \u001b[0;32m~/micromamba/envs/my-notion-companion/lib/python3.11/site-packages/langchain/chains/query_constructor/ir.py:67\u001b[0m, in \u001b[0;36mExpr.accept\u001b[0;34m(self, visitor)\u001b[0m\n\u001b[1;32m     58\u001b[0m \u001b[38;5;28;01mdef\u001b[39;00m \u001b[38;5;21maccept\u001b[39m(\u001b[38;5;28mself\u001b[39m, visitor: Visitor) \u001b[38;5;241m-\u001b[39m\u001b[38;5;241m>\u001b[39m Any:\n\u001b[1;32m     59\u001b[0m \u001b[38;5;250m    \u001b[39m\u001b[38;5;124;03m\"\"\"Accept a visitor.\u001b[39;00m\n\u001b[1;32m     60\u001b[0m \n\u001b[1;32m     61\u001b[0m \u001b[38;5;124;03m    Args:\u001b[39;00m\n\u001b[0;32m   (...)\u001b[0m\n\u001b[1;32m     65\u001b[0m \u001b[38;5;124;03m        result of visiting\u001b[39;00m\n\u001b[1;32m     66\u001b[0m \u001b[38;5;124;03m    \"\"\"\u001b[39;00m\n\u001b[0;32m---> 67\u001b[0m     \u001b[38;5;28;01mreturn\u001b[39;00m \u001b[38;5;28;43mgetattr\u001b[39;49m\u001b[43m(\u001b[49m\u001b[43mvisitor\u001b[49m\u001b[43m,\u001b[49m\u001b[43m \u001b[49m\u001b[38;5;124;43mf\u001b[39;49m\u001b[38;5;124;43m\"\u001b[39;49m\u001b[38;5;124;43mvisit_\u001b[39;49m\u001b[38;5;132;43;01m{\u001b[39;49;00m\u001b[43m_to_snake_case\u001b[49m\u001b[43m(\u001b[49m\u001b[38;5;28;43mself\u001b[39;49m\u001b[38;5;241;43m.\u001b[39;49m\u001b[38;5;18;43m__class__\u001b[39;49m\u001b[38;5;241;43m.\u001b[39;49m\u001b[38;5;18;43m__name__\u001b[39;49m\u001b[43m)\u001b[49m\u001b[38;5;132;43;01m}\u001b[39;49;00m\u001b[38;5;124;43m\"\u001b[39;49m\u001b[43m)\u001b[49m\u001b[43m(\u001b[49m\n\u001b[1;32m     68\u001b[0m \u001b[43m        \u001b[49m\u001b[38;5;28;43mself\u001b[39;49m\n\u001b[1;32m     69\u001b[0m \u001b[43m    \u001b[49m\u001b[43m)\u001b[49m\n",
      "File \u001b[0;32m~/micromamba/envs/my-notion-companion/lib/python3.11/site-packages/langchain/retrievers/self_query/chroma.py:39\u001b[0m, in \u001b[0;36mChromaTranslator.visit_comparison\u001b[0;34m(self, comparison)\u001b[0m\n\u001b[1;32m     36\u001b[0m \u001b[38;5;28;01mdef\u001b[39;00m \u001b[38;5;21mvisit_comparison\u001b[39m(\u001b[38;5;28mself\u001b[39m, comparison: Comparison) \u001b[38;5;241m-\u001b[39m\u001b[38;5;241m>\u001b[39m Dict:\n\u001b[1;32m     37\u001b[0m     \u001b[38;5;28;01mreturn\u001b[39;00m {\n\u001b[1;32m     38\u001b[0m         comparison\u001b[38;5;241m.\u001b[39mattribute: {\n\u001b[0;32m---> 39\u001b[0m             \u001b[38;5;28;43mself\u001b[39;49m\u001b[38;5;241;43m.\u001b[39;49m\u001b[43m_format_func\u001b[49m\u001b[43m(\u001b[49m\u001b[43mcomparison\u001b[49m\u001b[38;5;241;43m.\u001b[39;49m\u001b[43mcomparator\u001b[49m\u001b[43m)\u001b[49m: comparison\u001b[38;5;241m.\u001b[39mvalue\n\u001b[1;32m     40\u001b[0m         }\n\u001b[1;32m     41\u001b[0m     }\n",
      "File \u001b[0;32m~/micromamba/envs/my-notion-companion/lib/python3.11/site-packages/langchain/retrievers/self_query/chroma.py:29\u001b[0m, in \u001b[0;36mChromaTranslator._format_func\u001b[0;34m(self, func)\u001b[0m\n\u001b[1;32m     28\u001b[0m \u001b[38;5;28;01mdef\u001b[39;00m \u001b[38;5;21m_format_func\u001b[39m(\u001b[38;5;28mself\u001b[39m, func: Union[Operator, Comparator]) \u001b[38;5;241m-\u001b[39m\u001b[38;5;241m>\u001b[39m \u001b[38;5;28mstr\u001b[39m:\n\u001b[0;32m---> 29\u001b[0m     \u001b[38;5;28;43mself\u001b[39;49m\u001b[38;5;241;43m.\u001b[39;49m\u001b[43m_validate_func\u001b[49m\u001b[43m(\u001b[49m\u001b[43mfunc\u001b[49m\u001b[43m)\u001b[49m\n\u001b[1;32m     30\u001b[0m     \u001b[38;5;28;01mreturn\u001b[39;00m \u001b[38;5;124mf\u001b[39m\u001b[38;5;124m\"\u001b[39m\u001b[38;5;124m$\u001b[39m\u001b[38;5;132;01m{\u001b[39;00mfunc\u001b[38;5;241m.\u001b[39mvalue\u001b[38;5;132;01m}\u001b[39;00m\u001b[38;5;124m\"\u001b[39m\n",
      "File \u001b[0;32m~/micromamba/envs/my-notion-companion/lib/python3.11/site-packages/langchain/chains/query_constructor/ir.py:26\u001b[0m, in \u001b[0;36mVisitor._validate_func\u001b[0;34m(self, func)\u001b[0m\n\u001b[1;32m     24\u001b[0m \u001b[38;5;28;01mif\u001b[39;00m \u001b[38;5;28misinstance\u001b[39m(func, Comparator) \u001b[38;5;129;01mand\u001b[39;00m \u001b[38;5;28mself\u001b[39m\u001b[38;5;241m.\u001b[39mallowed_comparators \u001b[38;5;129;01mis\u001b[39;00m \u001b[38;5;129;01mnot\u001b[39;00m \u001b[38;5;28;01mNone\u001b[39;00m:\n\u001b[1;32m     25\u001b[0m     \u001b[38;5;28;01mif\u001b[39;00m func \u001b[38;5;129;01mnot\u001b[39;00m \u001b[38;5;129;01min\u001b[39;00m \u001b[38;5;28mself\u001b[39m\u001b[38;5;241m.\u001b[39mallowed_comparators:\n\u001b[0;32m---> 26\u001b[0m         \u001b[38;5;28;01mraise\u001b[39;00m \u001b[38;5;167;01mValueError\u001b[39;00m(\n\u001b[1;32m     27\u001b[0m             \u001b[38;5;124mf\u001b[39m\u001b[38;5;124m\"\u001b[39m\u001b[38;5;124mReceived disallowed comparator \u001b[39m\u001b[38;5;132;01m{\u001b[39;00mfunc\u001b[38;5;132;01m}\u001b[39;00m\u001b[38;5;124m. Allowed \u001b[39m\u001b[38;5;124m\"\u001b[39m\n\u001b[1;32m     28\u001b[0m             \u001b[38;5;124mf\u001b[39m\u001b[38;5;124m\"\u001b[39m\u001b[38;5;124mcomparators are \u001b[39m\u001b[38;5;132;01m{\u001b[39;00m\u001b[38;5;28mself\u001b[39m\u001b[38;5;241m.\u001b[39mallowed_comparators\u001b[38;5;132;01m}\u001b[39;00m\u001b[38;5;124m\"\u001b[39m\n\u001b[1;32m     29\u001b[0m         )\n",
      "\u001b[0;31mValueError\u001b[0m: Received disallowed comparator Comparator.LIKE. Allowed comparators are [<Comparator.EQ: 'eq'>, <Comparator.NE: 'ne'>, <Comparator.GT: 'gt'>, <Comparator.GTE: 'gte'>, <Comparator.LT: 'lt'>, <Comparator.LTE: 'lte'>]"
     ]
    }
   ],
   "source": [
    "%%time \n",
    "\n",
    "import langchain\n",
    "langchain.debug = True\n",
    "\n",
    "retriever.invoke('人生有几个不捡？仅从“笑死”中找答案。')\n",
    "# retriever.invoke('什么是我国第一部编年国别史？')"
   ]
  },
  {
   "cell_type": "code",
   "execution_count": null,
   "id": "3da01b66-8fd9-46a5-8ec6-775deeb60588",
   "metadata": {},
   "outputs": [],
   "source": [
    "# from notion_agent import chatbot\n",
    "\n",
    "# llm = chatbot(\n",
    "#     'Qwen/Qwen1.5-7B-Chat', \n",
    "#     _CONFIGS['model_path']+'/'+'qwen1_5-7b-chat-q4_0.gguf', \n",
    "#     **_CONFIGS['llm']\n",
    "# )"
   ]
  }
 ],
 "metadata": {
  "kernelspec": {
   "display_name": "Python 3 (ipykernel)",
   "language": "python",
   "name": "python3"
  },
  "language_info": {
   "codemirror_mode": {
    "name": "ipython",
    "version": 3
   },
   "file_extension": ".py",
   "mimetype": "text/x-python",
   "name": "python",
   "nbconvert_exporter": "python",
   "pygments_lexer": "ipython3",
   "version": "3.12.2"
  }
 },
 "nbformat": 4,
 "nbformat_minor": 5
}
