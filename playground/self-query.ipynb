{
 "cells": [
  {
   "cell_type": "markdown",
   "id": "d0751d17-27d1-4b80-a6d0-1ac9e6dcf948",
   "metadata": {},
   "source": [
    "# Self-query\n",
    "\n",
    "* retriever:\n",
    "  * `Self-querying retriever` --  use an LLM to construct new queries that can question the structured data/metadata of the document\n",
    "  * `MultiQueryRetriever` -- allow an LLM to paraphrase the query to get hopefully a diverse set of docs\n",
    "  * `Contextual compression` -- use an LLM to pre-filter and compress the docs retrieved before feeding the contexts to another LLM to answer\n",
    "  * https://python.langchain.com/docs/modules/data_connection/retrievers/\n",
    "* retrieval methods: cos/dot; llm-aided; MMR (Maximum marginal relevance)"
   ]
  },
  {
   "cell_type": "code",
   "execution_count": 1,
   "id": "152891d4-9bb8-4cc1-abf1-3207a625cefc",
   "metadata": {},
   "outputs": [],
   "source": [
    "%load_ext autoreload\n",
    "%autoreload 2"
   ]
  },
  {
   "cell_type": "code",
   "execution_count": 2,
   "id": "140baf02-574d-4a1f-adea-1c4e58364026",
   "metadata": {},
   "outputs": [],
   "source": [
    "from typing import Dict, List\n",
    "from langchain_core.documents.base import Document"
   ]
  },
  {
   "cell_type": "code",
   "execution_count": 3,
   "id": "d2572370-bc5b-48d9-ad92-5c383595915d",
   "metadata": {},
   "outputs": [],
   "source": [
    "import tomllib\n",
    "\n",
    "with open('../.tokens.toml', 'rb') as f:\n",
    "    _TOKENS = tomllib.load(f)\n",
    "\n",
    "with open('../.config.toml', 'rb') as f:\n",
    "    _CONFIGS = tomllib.load(f)"
   ]
  },
  {
   "cell_type": "code",
   "execution_count": 4,
   "id": "183ddf4a-ae95-4d76-9bc3-a2e49dcffdf0",
   "metadata": {},
   "outputs": [],
   "source": [
    "from langchain_community.embeddings import HuggingFaceInferenceAPIEmbeddings\n",
    "from langchain_community.vectorstores import Redis\n",
    "\n",
    "embeddings = HuggingFaceInferenceAPIEmbeddings(\n",
    "    api_key=_TOKENS['huggingface'], \n",
    "    model_name=\"sentence-transformers/distiluse-base-multilingual-cased-v1\"\n",
    ")\n",
    "\n",
    "vs = Redis.from_existing_index(\n",
    "    embedding=embeddings,\n",
    "    index_name=_CONFIGS['index_name'],\n",
    "    redis_url=_CONFIGS['redis_url'],\n",
    "    schema=_CONFIGS['redis_schema'],\n",
    ")"
   ]
  },
  {
   "cell_type": "code",
   "execution_count": 5,
   "id": "c1aea029-97f6-4474-8a48-c4f4133dafc4",
   "metadata": {
    "scrolled": true
   },
   "outputs": [],
   "source": [
    "# from langchain.vectorstores.redis import RedisFilter, RedisNum, RedisText\n",
    "\n",
    "# f = RedisText(\"author\") % \"*冯友兰*\"\n",
    "# vs.similarity_search_with_score('谁说过陌生贵己？', filter=f, k=3)"
   ]
  },
  {
   "cell_type": "code",
   "execution_count": 6,
   "id": "b18bcdc6-6c77-4357-b1b3-27e1e6138d30",
   "metadata": {},
   "outputs": [],
   "source": [
    "metadata_set = set([x['name'] for x in vs.schema['text']] + [x['name'] for x in vs.schema['numeric']])"
   ]
  },
  {
   "cell_type": "code",
   "execution_count": 7,
   "id": "ca8535b6-429d-4092-98e8-933034489267",
   "metadata": {},
   "outputs": [
    {
     "data": {
      "text/plain": [
       "{'author': {'description': '本篇文章的作者', 'type': 'string'},\n",
       " 'date_start': {'description': '文章被创建的时间，格式是YYYYMMDD', 'type': 'string'},\n",
       " 'date_end': {'description': '文章被完成的时间，格式是YYYYMMDD', 'type': 'string'},\n",
       " 'id': {'description': '文章的id', 'type': 'string'},\n",
       " 'name': {'description': '文章的名字', 'type': 'string'},\n",
       " 'source': {'description': '文章的来源，这里的文章取自若干不同数据库', 'type': 'string'},\n",
       " 'tags': {'description': '文章的标签，可能代表它的风格、题材、来源，或者系列', 'type': 'string'}}"
      ]
     },
     "execution_count": 7,
     "metadata": {},
     "output_type": "execute_result"
    }
   ],
   "source": [
    "metadata = _CONFIGS['attributes']\n",
    "metadata"
   ]
  },
  {
   "cell_type": "code",
   "execution_count": 8,
   "id": "3cd28f7e-1891-4218-b1dd-2aef112e848d",
   "metadata": {},
   "outputs": [],
   "source": [
    "# ensure there's no more undocumented metadata\n",
    "assert metadata_set.union(metadata.keys()) == metadata_set"
   ]
  },
  {
   "cell_type": "code",
   "execution_count": 9,
   "id": "e371368b-92d2-47ad-abf8-4155aacfa2ef",
   "metadata": {},
   "outputs": [
    {
     "data": {
      "text/plain": [
       "{'author', 'content', 'date_end', 'date_start', 'id', 'name', 'source', 'tags'}"
      ]
     },
     "execution_count": 9,
     "metadata": {},
     "output_type": "execute_result"
    }
   ],
   "source": [
    "metadata_set"
   ]
  },
  {
   "cell_type": "code",
   "execution_count": 10,
   "id": "0c6da61c-8dcf-4c01-b8a0-e84b5db43332",
   "metadata": {
    "scrolled": true
   },
   "outputs": [
    {
     "name": "stderr",
     "output_type": "stream",
     "text": [
      "/Users/fred/micromamba/envs/my-notion-companion/lib/python3.12/site-packages/langchain_core/utils/utils.py:159: UserWarning: WARNING! conversation is not default parameter.\n",
      "                conversation was transferred to model_kwargs.\n",
      "                Please confirm that conversation is what you intended.\n",
      "  warnings.warn(\n",
      "llama_model_loader: loaded meta data with 19 key-value pairs and 259 tensors from /Users/fred/Documents/models/Qwen-7B-Chat.Q4_K_M.gguf (version GGUF V3 (latest))\n",
      "llama_model_loader: Dumping metadata keys/values. Note: KV overrides do not apply in this output.\n",
      "llama_model_loader: - kv   0:                       general.architecture str              = qwen\n",
      "llama_model_loader: - kv   1:                               general.name str              = Qwen\n",
      "llama_model_loader: - kv   2:                        qwen.context_length u32              = 32768\n",
      "llama_model_loader: - kv   3:                           qwen.block_count u32              = 32\n",
      "llama_model_loader: - kv   4:                      qwen.embedding_length u32              = 4096\n",
      "llama_model_loader: - kv   5:                   qwen.feed_forward_length u32              = 22016\n",
      "llama_model_loader: - kv   6:                        qwen.rope.freq_base f32              = 10000.000000\n",
      "llama_model_loader: - kv   7:                  qwen.rope.dimension_count u32              = 128\n",
      "llama_model_loader: - kv   8:                  qwen.attention.head_count u32              = 32\n",
      "llama_model_loader: - kv   9:      qwen.attention.layer_norm_rms_epsilon f32              = 0.000001\n",
      "llama_model_loader: - kv  10:                       tokenizer.ggml.model str              = gpt2\n",
      "llama_model_loader: - kv  11:                      tokenizer.ggml.tokens arr[str,151936]  = [\"!\", \"\\\"\", \"#\", \"$\", \"%\", \"&\", \"'\", ...\n",
      "llama_model_loader: - kv  12:                  tokenizer.ggml.token_type arr[i32,151936]  = [1, 1, 1, 1, 1, 1, 1, 1, 1, 1, 1, 1, ...\n",
      "llama_model_loader: - kv  13:                      tokenizer.ggml.merges arr[str,151387]  = [\"Ġ Ġ\", \"ĠĠ ĠĠ\", \"i n\", \"Ġ t\",...\n",
      "llama_model_loader: - kv  14:                tokenizer.ggml.bos_token_id u32              = 151643\n",
      "llama_model_loader: - kv  15:                tokenizer.ggml.eos_token_id u32              = 151643\n",
      "llama_model_loader: - kv  16:            tokenizer.ggml.unknown_token_id u32              = 151643\n",
      "llama_model_loader: - kv  17:               general.quantization_version u32              = 2\n",
      "llama_model_loader: - kv  18:                          general.file_type u32              = 15\n",
      "llama_model_loader: - type  f32:   97 tensors\n",
      "llama_model_loader: - type q4_K:  113 tensors\n",
      "llama_model_loader: - type q5_K:   32 tensors\n",
      "llama_model_loader: - type q6_K:   17 tensors\n",
      "llm_load_vocab: special tokens definition check successful ( 293/151936 ).\n",
      "llm_load_print_meta: format           = GGUF V3 (latest)\n",
      "llm_load_print_meta: arch             = qwen\n",
      "llm_load_print_meta: vocab type       = BPE\n",
      "llm_load_print_meta: n_vocab          = 151936\n",
      "llm_load_print_meta: n_merges         = 151387\n",
      "llm_load_print_meta: n_ctx_train      = 32768\n",
      "llm_load_print_meta: n_embd           = 4096\n",
      "llm_load_print_meta: n_head           = 32\n",
      "llm_load_print_meta: n_head_kv        = 32\n",
      "llm_load_print_meta: n_layer          = 32\n",
      "llm_load_print_meta: n_rot            = 128\n",
      "llm_load_print_meta: n_embd_head_k    = 128\n",
      "llm_load_print_meta: n_embd_head_v    = 128\n",
      "llm_load_print_meta: n_gqa            = 1\n",
      "llm_load_print_meta: n_embd_k_gqa     = 4096\n",
      "llm_load_print_meta: n_embd_v_gqa     = 4096\n",
      "llm_load_print_meta: f_norm_eps       = 0.0e+00\n",
      "llm_load_print_meta: f_norm_rms_eps   = 1.0e-06\n",
      "llm_load_print_meta: f_clamp_kqv      = 0.0e+00\n",
      "llm_load_print_meta: f_max_alibi_bias = 0.0e+00\n",
      "llm_load_print_meta: n_ff             = 22016\n",
      "llm_load_print_meta: n_expert         = 0\n",
      "llm_load_print_meta: n_expert_used    = 0\n",
      "llm_load_print_meta: rope scaling     = linear\n",
      "llm_load_print_meta: freq_base_train  = 10000.0\n",
      "llm_load_print_meta: freq_scale_train = 1\n",
      "llm_load_print_meta: n_yarn_orig_ctx  = 32768\n",
      "llm_load_print_meta: rope_finetuned   = unknown\n",
      "llm_load_print_meta: model type       = 7B\n",
      "llm_load_print_meta: model ftype      = Q4_K - Medium\n",
      "llm_load_print_meta: model params     = 7.72 B\n",
      "llm_load_print_meta: model size       = 4.56 GiB (5.07 BPW) \n",
      "llm_load_print_meta: general.name     = Qwen\n",
      "llm_load_print_meta: BOS token        = 151643 '[PAD151643]'\n",
      "llm_load_print_meta: EOS token        = 151643 '[PAD151643]'\n",
      "llm_load_print_meta: UNK token        = 151643 '[PAD151643]'\n",
      "llm_load_print_meta: LF token         = 148848 'ÄĬ'\n",
      "llm_load_tensors: ggml ctx size =    0.20 MiB\n",
      "ggml_backend_metal_buffer_from_ptr: allocated buffer, size =   612.59 MiB, (  612.66 / 10922.67)\n",
      "llm_load_tensors: offloading 1 repeating layers to GPU\n",
      "llm_load_tensors: offloaded 1/33 layers to GPU\n",
      "llm_load_tensors:        CPU buffer size =  4666.59 MiB\n",
      "llm_load_tensors:      Metal buffer size =   612.59 MiB\n",
      "....................................................................................\n",
      "llama_new_context_with_model: n_ctx      = 4096\n",
      "llama_new_context_with_model: freq_base  = 10000.0\n",
      "llama_new_context_with_model: freq_scale = 1\n",
      "ggml_metal_init: allocating\n",
      "ggml_metal_init: found device: Apple M2 Pro\n",
      "ggml_metal_init: picking default device: Apple M2 Pro\n",
      "ggml_metal_init: default.metallib not found, loading from source\n",
      "ggml_metal_init: GGML_METAL_PATH_RESOURCES = nil\n",
      "ggml_metal_init: loading '/Users/fred/micromamba/envs/my-notion-companion/lib/python3.12/site-packages/llama_cpp/ggml-metal.metal'\n",
      "ggml_metal_init: GPU name:   Apple M2 Pro\n",
      "ggml_metal_init: GPU family: MTLGPUFamilyApple8  (1008)\n",
      "ggml_metal_init: GPU family: MTLGPUFamilyCommon3 (3003)\n",
      "ggml_metal_init: GPU family: MTLGPUFamilyMetal3  (5001)\n",
      "ggml_metal_init: simdgroup reduction support   = true\n",
      "ggml_metal_init: simdgroup matrix mul. support = true\n",
      "ggml_metal_init: hasUnifiedMemory              = true\n",
      "ggml_metal_init: recommendedMaxWorkingSetSize  = 11453.25 MB\n",
      "llama_kv_cache_init:        CPU KV buffer size =  1984.00 MiB\n",
      "ggml_backend_metal_buffer_type_alloc_buffer: allocated buffer, size =    64.00 MiB, (  678.22 / 10922.67)\n",
      "llama_kv_cache_init:      Metal KV buffer size =    64.00 MiB\n",
      "llama_new_context_with_model: KV self size  = 2048.00 MiB, K (f16): 1024.00 MiB, V (f16): 1024.00 MiB\n",
      "llama_new_context_with_model:        CPU input buffer size   =    17.02 MiB\n",
      "ggml_backend_metal_buffer_type_alloc_buffer: allocated buffer, size =   312.02 MiB, (  990.23 / 10922.67)\n",
      "llama_new_context_with_model:      Metal compute buffer size =   312.00 MiB\n",
      "llama_new_context_with_model:        CPU compute buffer size =   320.75 MiB\n",
      "llama_new_context_with_model: graph splits (measure): 5\n",
      "AVX = 0 | AVX_VNNI = 0 | AVX2 = 0 | AVX512 = 0 | AVX512_VBMI = 0 | AVX512_VNNI = 0 | FMA = 0 | NEON = 1 | ARM_FMA = 1 | F16C = 0 | FP16_VA = 1 | WASM_SIMD = 0 | BLAS = 1 | SSE3 = 0 | SSSE3 = 0 | VSX = 0 | MATMUL_INT8 = 0 | \n",
      "Model metadata: {'general.file_type': '15', 'tokenizer.ggml.unknown_token_id': '151643', 'tokenizer.ggml.eos_token_id': '151643', 'tokenizer.ggml.model': 'gpt2', 'general.quantization_version': '2', 'qwen.attention.head_count': '32', 'qwen.rope.freq_base': '10000.000000', 'tokenizer.ggml.bos_token_id': '151643', 'qwen.feed_forward_length': '22016', 'qwen.attention.layer_norm_rms_epsilon': '0.000001', 'qwen.embedding_length': '4096', 'qwen.rope.dimension_count': '128', 'qwen.context_length': '32768', 'qwen.block_count': '32', 'general.name': 'Qwen', 'general.architecture': 'qwen'}\n"
     ]
    }
   ],
   "source": [
    "from langchain_community.llms import LlamaCpp\n",
    "\n",
    "\n",
    "llm = LlamaCpp(\n",
    "    model_path=_CONFIGS['model_path']+'/'+'Qwen-7B-Chat.Q4_K_M.gguf',\n",
    "    name='Qwen/Qwen-7B-Chat', \n",
    "    **_CONFIGS['llm']\n",
    ")\n",
    "\n",
    "\n",
    "# llm = LlamaCpp(\n",
    "#     model_path=_CONFIGS['model_path']+'/'+'qwen1_5-7b-chat-q4_0.gguf',\n",
    "#     name='Qwen/Qwen1.5-7B-Chat', \n",
    "#     **_CONFIGS['llm']\n",
    "# )\n",
    "\n",
    "# llm = LlamaCpp(\n",
    "#     model_path=_CONFIGS['model_path']+'/'+'zephyr-7b-beta.Q4_K_M.gguf',\n",
    "#     name='HuggingFaceH4/zephyr-7b-beta', \n",
    "#     **_CONFIGS['llm']\n",
    "# )"
   ]
  },
  {
   "cell_type": "code",
   "execution_count": 11,
   "id": "60d99d07-c280-445f-97f3-7fb570f2a9e2",
   "metadata": {},
   "outputs": [
    {
     "data": {
      "text/plain": [
       "[AttributeInfo(name='author', description='本篇文章的作者', type='string'),\n",
       " AttributeInfo(name='date_start', description='文章被创建的时间，格式是YYYYMMDD', type='string'),\n",
       " AttributeInfo(name='date_end', description='文章被完成的时间，格式是YYYYMMDD', type='string'),\n",
       " AttributeInfo(name='id', description='文章的id', type='string'),\n",
       " AttributeInfo(name='name', description='文章的名字', type='string'),\n",
       " AttributeInfo(name='source', description='文章的来源，这里的文章取自若干不同数据库', type='string'),\n",
       " AttributeInfo(name='tags', description='文章的标签，可能代表它的风格、题材、来源，或者系列', type='string')]"
      ]
     },
     "execution_count": 11,
     "metadata": {},
     "output_type": "execute_result"
    }
   ],
   "source": [
    "from langchain.chains.query_constructor.base import AttributeInfo\n",
    "\n",
    "attribute_info = list()\n",
    "\n",
    "for k, v in metadata.items():\n",
    "    attribute_info.append(\n",
    "        AttributeInfo(\n",
    "            name=k,\n",
    "            description=v['description'],\n",
    "            type=v['type']\n",
    "        )\n",
    "    )\n",
    "\n",
    "attribute_info"
   ]
  },
  {
   "cell_type": "markdown",
   "id": "356ac868-e21f-4579-9a5a-8e29bf7eb629",
   "metadata": {},
   "source": [
    "# Construct customized self-query retriever\n",
    "\n",
    "Q: Why not using the standard?\n",
    "A: The standard SelfQueryRetriever Class provides a standard prompt template that uses few-show examples to tell llm how to construct structured query (examples can be found in [langchain.chains.query_constructor.prompt](https://github.com/langchain-ai/langchain/blob/master/libs/langchain/langchain/chains/query_constructor/prompt.py). Most examples inside uses EQ (=) comparator, which isn't suitable for our use cases (mostly fuzzy matches). Therefore, we will reconstruct the self-query retriever using a customized few-shot prompt teamplate.\n",
    "\n",
    "Q: why do we copied the `get_query_constructor_prompt` provided?\n",
    "A: Its original dependency `construct_examples` will decode json using ASCII by default, which won't support Chinese, we'll need to overwrite the two functions\n",
    "\n",
    "```python\n",
    "retriever = SelfQueryRetriever.from_llm(\n",
    "    llm=llm,\n",
    "    vectorstore=vs_chroma,\n",
    "    document_contents='Articles and excerpts.',\n",
    "    metadata_field_info=metadata_field_info,\n",
    ")\n",
    "```\n",
    "\n",
    "References: \n",
    "https://python.langchain.com/docs/modules/data_connection/retrievers/self_query/#constructing-from-scratch-with-lcel"
   ]
  },
  {
   "cell_type": "code",
   "execution_count": 12,
   "id": "dd19092d-33cf-41da-9c3a-41a3e6035089",
   "metadata": {},
   "outputs": [
    {
     "name": "stdout",
     "output_type": "stream",
     "text": [
      "{'structured_request': {'filter': 'or(like(\"source\", \"小说\"), like(\"tags\", '\n",
      "                                  '\"小说\"), like(\"name\", \"小说\"))',\n",
      "                        'query': '谁是王尔德？'},\n",
      " 'user_query': '谁是王尔德？仅从“小说”中找答案。'}\n"
     ]
    }
   ],
   "source": [
    "from pprint import pprint\n",
    "\n",
    "with open('../self_query_examples.toml', 'rb') as f:\n",
    "    self_query_examples = tomllib.load(f)\n",
    "\n",
    "pprint(self_query_examples['example'][0])"
   ]
  },
  {
   "cell_type": "code",
   "execution_count": 13,
   "id": "c91b4a9c-13fe-4611-82d6-0df32b656a1b",
   "metadata": {},
   "outputs": [],
   "source": [
    "# with open('../self_query_template_chinese.txt', 'r') as f:\n",
    "#     self_query_template = \"\\n\".join(f.readlines())\n",
    "\n",
    "with open('../self_query_template.txt', 'r') as f:\n",
    "    self_query_template = \"\\n\".join(f.readlines())"
   ]
  },
  {
   "cell_type": "code",
   "execution_count": 14,
   "id": "82aabfae-d016-443f-a28a-d6694dcfbc5d",
   "metadata": {},
   "outputs": [],
   "source": [
    "from typing import Sequence, Union, Tuple\n",
    "import json\n",
    "from langchain.chains.query_constructor.base import _format_attribute_info, get_query_constructor_prompt\n",
    "from langchain_core.prompts.few_shot import FewShotPromptTemplate\n",
    "from langchain.chains.query_constructor.prompt import USER_SPECIFIED_EXAMPLE_PROMPT, SUFFIX_WITHOUT_DATA_SOURCE\n",
    "\n",
    "def _format_attribute_info(info: Sequence[Union[AttributeInfo, dict]]) -> str:\n",
    "    info_dicts = {}\n",
    "    for i in info:\n",
    "        i_dict = dict(i)\n",
    "        info_dicts[i_dict.pop(\"name\")] = i_dict\n",
    "    # return json.dumps(info_dicts, indent=4, ensure_ascii=False).replace(\"{\", \"{{\").replace(\"}\", \"}}\")\n",
    "    return info_dicts\n",
    "                                                                       \n",
    "def construct_examples(input_output_pairs: Sequence[Tuple[str, dict]]) -> List[dict]:\n",
    "    \"\"\"Construct examples from input-output pairs.\n",
    "\n",
    "    Adapted from: https://github.com/langchain-ai/langchain/blob/master/libs/langchain/langchain/chains/query_constructor/base.py\n",
    "    \"\"\"\n",
    "    examples = []\n",
    "    for i, (_input, output) in enumerate(input_output_pairs):\n",
    "        structured_request = (\n",
    "            json.dumps(output, indent=4, ensure_ascii=False).replace(\"{\", \"{{\").replace(\"}\", \"}}\")\n",
    "        )\n",
    "        example = {\n",
    "            \"i\": i + 1,\n",
    "            \"user_query\": _input,\n",
    "            \"structured_request\": structured_request,\n",
    "        }\n",
    "        examples.append(example)\n",
    "    return examples\n",
    "\n",
    "examples = construct_examples(\n",
    "    [(x['user_query'], x['structured_request']) for x in self_query_examples['example']]\n",
    ")\n",
    "\n",
    "prompt = FewShotPromptTemplate(\n",
    "    examples=list(examples),\n",
    "    example_prompt=USER_SPECIFIED_EXAMPLE_PROMPT,\n",
    "    input_variables=[\"query\"],\n",
    "    # suffix=\"\",\n",
    "    suffix=SUFFIX_WITHOUT_DATA_SOURCE.format(i=len(examples) + 1),\n",
    "    prefix=self_query_template.format(\n",
    "        content_and_attributes=json.dumps({\n",
    "            'content': '文章',\n",
    "            'attributes': _format_attribute_info(attribute_info)\n",
    "        }, indent=4, ensure_ascii=False).replace(\"{\", \"{{\").replace(\"}\", \"}}\"),\n",
    "        attributes_set=str(list(metadata_set))\n",
    "    )\n",
    ")"
   ]
  },
  {
   "cell_type": "code",
   "execution_count": 15,
   "id": "dc8b64d1-237f-4972-b395-64a3c731c62a",
   "metadata": {
    "scrolled": true
   },
   "outputs": [
    {
     "name": "stdout",
     "output_type": "stream",
     "text": [
      "Your goal is to structure the user's query to match the request schema provided below.\n",
      "\n",
      "\n",
      "\n",
      "<< Structured Request Schema >>\n",
      "\n",
      "When responding use a markdown code snippet with a JSON object formatted in the following schema:\n",
      "\n",
      "\n",
      "\n",
      "```json\n",
      "\n",
      "{\n",
      "\n",
      "    \"query\": string \\ text string to compare to document contents\n",
      "\n",
      "    \"filter\": string \\ logical condition statement for filtering documents\n",
      "\n",
      "}\n",
      "\n",
      "```\n",
      "\n",
      "\n",
      "\n",
      "The query string should contain only text that is expected to match the contents of documents. Any conditions in the filter should not be mentioned in the query as well.\n",
      "\n",
      "\n",
      "\n",
      "Make sure that you only use the comparators and logical operators listed above and no others.\n",
      "\n",
      "Make sure that filters only use the attributed names with its function names if there are functions applied on them.\n",
      "\n",
      "Make sure that filters only use format `YYYYMMDD` when handling date data typed values.\n",
      "\n",
      "Make sure that filters take into account the descriptions of attributes and only make comparisons that are feasible given the type of data being stored.\n",
      "\n",
      "Make sure that filters are only used as needed. If there are no filters that should be applied return \"NO_FILTER\" for the filter value.\n",
      "\n",
      "Make sure that filters only refer to attributes that exist in the data source. Available attributes: ['content', 'date_start', 'author', 'id', 'tags', 'name', 'source', 'date_end']. Don't make up other attributes.\n",
      "\n",
      "\n",
      "\n",
      "<<Data Source>>\n",
      "\n",
      "```json\n",
      "\n",
      "{\n",
      "    \"content\": \"文章\",\n",
      "    \"attributes\": {\n",
      "        \"author\": {\n",
      "            \"description\": \"本篇文章的作者\",\n",
      "            \"type\": \"string\"\n",
      "        },\n",
      "        \"date_start\": {\n",
      "            \"description\": \"文章被创建的时间，格式是YYYYMMDD\",\n",
      "            \"type\": \"string\"\n",
      "        },\n",
      "        \"date_end\": {\n",
      "            \"description\": \"文章被完成的时间，格式是YYYYMMDD\",\n",
      "            \"type\": \"string\"\n",
      "        },\n",
      "        \"id\": {\n",
      "            \"description\": \"文章的id\",\n",
      "            \"type\": \"string\"\n",
      "        },\n",
      "        \"name\": {\n",
      "            \"description\": \"文章的名字\",\n",
      "            \"type\": \"string\"\n",
      "        },\n",
      "        \"source\": {\n",
      "            \"description\": \"文章的来源，这里的文章取自若干不同数据库\",\n",
      "            \"type\": \"string\"\n",
      "        },\n",
      "        \"tags\": {\n",
      "            \"description\": \"文章的标签，可能代表它的风格、题材、来源，或者系列\",\n",
      "            \"type\": \"string\"\n",
      "        }\n",
      "    }\n",
      "}\n",
      "\n",
      "```\n",
      "\n",
      "\n",
      "<< Example 1. >>\n",
      "User Query:\n",
      "谁是王尔德？仅从“小说”中找答案。\n",
      "\n",
      "Structured Request:\n",
      "```json\n",
      "{\n",
      "    \"query\": \"谁是王尔德？\",\n",
      "    \"filter\": \"or(like(\\\"source\\\", \\\"小说\\\"), like(\\\"tags\\\", \\\"小说\\\"), like(\\\"name\\\", \\\"小说\\\"))\"\n",
      "}\n",
      "```\n",
      "\n",
      "\n",
      "<< Example 2. >>\n",
      "User Query:\n",
      "请从三岛由纪夫的小说找到下文相关片段：“我们之所以突然变得残暴”的后面是什么？\n",
      "\n",
      "Structured Request:\n",
      "```json\n",
      "{\n",
      "    \"query\": \"我们之所以突然变得残暴\",\n",
      "    \"filter\": \"or(like(\\\"source\\\", \\\"小说\\\"),  like(\\\"tags\\\", \\\"小说\\\"), like(\\\"name\\\", \\\"三岛由纪夫\\\"), like(\\\"author\\\", \\\"三岛由纪夫\\\"))\"\n",
      "}\n",
      "```\n",
      "\n",
      "\n",
      "<< Example 3. >>\n",
      "User Query:\n",
      "《天使与昆虫》是哪位作家的作品？\n",
      "\n",
      "Structured Request:\n",
      "```json\n",
      "{\n",
      "    \"query\": \"天使与昆虫\",\n",
      "    \"filter\": \"or(like(\\\"source\\\", \\\"天使与昆虫\\\"), like(\\\"tags\\\", \\\"天使与昆虫\\\"), like(\\\"name\\\", \\\"天使与昆虫\\\"))\"\n",
      "}\n",
      "```\n",
      "\n",
      "\n",
      "<< Example 4. >>\n",
      "User Query:\n",
      "道连是哪本小说中出现的人物？\n",
      "\n",
      "Structured Request:\n",
      "```json\n",
      "{\n",
      "    \"query\": \"道连\",\n",
      "    \"filter\": \"or(like(\\\"source\\\", \\\"小说\\\"), like(\\\"tags\\\", \\\"小说\\\"), like(\\\"name\\\", \\\"小说\\\"))\"\n",
      "}\n",
      "```\n",
      "\n",
      "\n",
      "<< Example 5. >>\n",
      "User Query:\n",
      "本多是王尔德笔下的人物吗？\n",
      "\n",
      "Structured Request:\n",
      "```json\n",
      "{\n",
      "    \"query\": \"本多\",\n",
      "    \"filter\": \"or(like(\\\"source\\\", \\\"王尔德\\\"), like(\\\"tags\\\", \\\"王尔德\\\")， like(\\\"name\\\", \\\"王尔德\\\"), like(\\\"author\\\", \\\"王尔德\\\"))\"\n",
      "}\n",
      "```\n",
      "\n",
      "\n",
      "<< Example 6. >>\n",
      "User Query:\n",
      "我在2019年到2022年间写过多少游记？\n",
      "\n",
      "Structured Request:\n",
      "```json\n",
      "{\n",
      "    \"query\": \"游记\",\n",
      "    \"filter\": \"and(eq(\\\"source\\\", \\\"写作\\\"), gt(\\\"date_start\\\", 20190101), lt(\\\"date_start\\\", 20221231))\"\n",
      "}\n",
      "```\n",
      "\n",
      "\n",
      "<< Example 7. >>\n",
      "User Query:\n",
      "美国有多少个州？\n",
      "\n",
      "Structured Request:\n",
      "```json\n",
      "{\n",
      "    \"query\": \"\",\n",
      "    \"filter\": \"NO_FILTER\"\n",
      "}\n",
      "```\n",
      "\n",
      "\n",
      "<< Example 8. >>\n",
      "User Query:\n",
      "\u001b[33;1m\u001b[1;3m{query}\u001b[0m\n",
      "\n",
      "Structured Request:\n",
      "\n"
     ]
    }
   ],
   "source": [
    "prompt.pretty_print()"
   ]
  },
  {
   "cell_type": "code",
   "execution_count": 16,
   "id": "0efb04c6-ad8e-4fac-bbbb-a6f03edb1af3",
   "metadata": {},
   "outputs": [],
   "source": [
    "from langchain.chains.query_constructor.base import StructuredQueryOutputParser\n",
    "output_parser = StructuredQueryOutputParser.from_components()"
   ]
  },
  {
   "cell_type": "code",
   "execution_count": 17,
   "id": "c825baf0-34b2-43af-a0a6-f6a116ce7481",
   "metadata": {
    "scrolled": true
   },
   "outputs": [
    {
     "name": "stdout",
     "output_type": "stream",
     "text": [
      "\u001b[32;1m\u001b[1;3m[chain/start]\u001b[0m \u001b[1m[1:chain:RunnableSequence] Entering Chain run with input:\n",
      "\u001b[0m{\n",
      "  \"query\": \"“每个人都以为他自己至少有一种主要的美德。”是出自哪里？请从“读书笔记（文学）”中找到答案。\"\n",
      "}\n",
      "\u001b[32;1m\u001b[1;3m[chain/start]\u001b[0m \u001b[1m[1:chain:RunnableSequence > 2:prompt:FewShotPromptTemplate] Entering Prompt run with input:\n",
      "\u001b[0m{\n",
      "  \"query\": \"“每个人都以为他自己至少有一种主要的美德。”是出自哪里？请从“读书笔记（文学）”中找到答案。\"\n",
      "}\n",
      "\u001b[36;1m\u001b[1;3m[chain/end]\u001b[0m \u001b[1m[1:chain:RunnableSequence > 2:prompt:FewShotPromptTemplate] [0ms] Exiting Prompt run with output:\n",
      "\u001b[0m{\n",
      "  \"lc\": 1,\n",
      "  \"type\": \"constructor\",\n",
      "  \"id\": [\n",
      "    \"langchain\",\n",
      "    \"prompts\",\n",
      "    \"base\",\n",
      "    \"StringPromptValue\"\n",
      "  ],\n",
      "  \"kwargs\": {\n",
      "    \"text\": \"Your goal is to structure the user's query to match the request schema provided below.\\n\\n\\n\\n<< Structured Request Schema >>\\n\\nWhen responding use a markdown code snippet with a JSON object formatted in the following schema:\\n\\n\\n\\n```json\\n\\n{\\n\\n    \\\"query\\\": string \\\\ text string to compare to document contents\\n\\n    \\\"filter\\\": string \\\\ logical condition statement for filtering documents\\n\\n}\\n\\n```\\n\\n\\n\\nThe query string should contain only text that is expected to match the contents of documents. Any conditions in the filter should not be mentioned in the query as well.\\n\\n\\n\\nMake sure that you only use the comparators and logical operators listed above and no others.\\n\\nMake sure that filters only use the attributed names with its function names if there are functions applied on them.\\n\\nMake sure that filters only use format `YYYYMMDD` when handling date data typed values.\\n\\nMake sure that filters take into account the descriptions of attributes and only make comparisons that are feasible given the type of data being stored.\\n\\nMake sure that filters are only used as needed. If there are no filters that should be applied return \\\"NO_FILTER\\\" for the filter value.\\n\\nMake sure that filters only refer to attributes that exist in the data source. Available attributes: ['content', 'date_start', 'author', 'id', 'tags', 'name', 'source', 'date_end']. Don't make up other attributes.\\n\\n\\n\\n<<Data Source>>\\n\\n```json\\n\\n{\\n    \\\"content\\\": \\\"文章\\\",\\n    \\\"attributes\\\": {\\n        \\\"author\\\": {\\n            \\\"description\\\": \\\"本篇文章的作者\\\",\\n            \\\"type\\\": \\\"string\\\"\\n        },\\n        \\\"date_start\\\": {\\n            \\\"description\\\": \\\"文章被创建的时间，格式是YYYYMMDD\\\",\\n            \\\"type\\\": \\\"string\\\"\\n        },\\n        \\\"date_end\\\": {\\n            \\\"description\\\": \\\"文章被完成的时间，格式是YYYYMMDD\\\",\\n            \\\"type\\\": \\\"string\\\"\\n        },\\n        \\\"id\\\": {\\n            \\\"description\\\": \\\"文章的id\\\",\\n            \\\"type\\\": \\\"string\\\"\\n        },\\n        \\\"name\\\": {\\n            \\\"description\\\": \\\"文章的名字\\\",\\n            \\\"type\\\": \\\"string\\\"\\n        },\\n        \\\"source\\\": {\\n            \\\"description\\\": \\\"文章的来源，这里的文章取自若干不同数据库\\\",\\n            \\\"type\\\": \\\"string\\\"\\n        },\\n        \\\"tags\\\": {\\n            \\\"description\\\": \\\"文章的标签，可能代表它的风格、题材、来源，或者系列\\\",\\n            \\\"type\\\": \\\"string\\\"\\n        }\\n    }\\n}\\n\\n```\\n\\n\\n<< Example 1. >>\\nUser Query:\\n谁是王尔德？仅从“小说”中找答案。\\n\\nStructured Request:\\n```json\\n{\\n    \\\"query\\\": \\\"谁是王尔德？\\\",\\n    \\\"filter\\\": \\\"or(like(\\\\\\\"source\\\\\\\", \\\\\\\"小说\\\\\\\"), like(\\\\\\\"tags\\\\\\\", \\\\\\\"小说\\\\\\\"), like(\\\\\\\"name\\\\\\\", \\\\\\\"小说\\\\\\\"))\\\"\\n}\\n```\\n\\n\\n<< Example 2. >>\\nUser Query:\\n请从三岛由纪夫的小说找到下文相关片段：“我们之所以突然变得残暴”的后面是什么？\\n\\nStructured Request:\\n```json\\n{\\n    \\\"query\\\": \\\"我们之所以突然变得残暴\\\",\\n    \\\"filter\\\": \\\"or(like(\\\\\\\"source\\\\\\\", \\\\\\\"小说\\\\\\\"),  like(\\\\\\\"tags\\\\\\\", \\\\\\\"小说\\\\\\\"), like(\\\\\\\"name\\\\\\\", \\\\\\\"三岛由纪夫\\\\\\\"), like(\\\\\\\"author\\\\\\\", \\\\\\\"三岛由纪夫\\\\\\\"))\\\"\\n}\\n```\\n\\n\\n<< Example 3. >>\\nUser Query:\\n《天使与昆虫》是哪位作家的作品？\\n\\nStructured Request:\\n```json\\n{\\n    \\\"query\\\": \\\"天使与昆虫\\\",\\n    \\\"filter\\\": \\\"or(like(\\\\\\\"source\\\\\\\", \\\\\\\"天使与昆虫\\\\\\\"), like(\\\\\\\"tags\\\\\\\", \\\\\\\"天使与昆虫\\\\\\\"), like(\\\\\\\"name\\\\\\\", \\\\\\\"天使与昆虫\\\\\\\"))\\\"\\n}\\n```\\n\\n\\n<< Example 4. >>\\nUser Query:\\n道连是哪本小说中出现的人物？\\n\\nStructured Request:\\n```json\\n{\\n    \\\"query\\\": \\\"道连\\\",\\n    \\\"filter\\\": \\\"or(like(\\\\\\\"source\\\\\\\", \\\\\\\"小说\\\\\\\"), like(\\\\\\\"tags\\\\\\\", \\\\\\\"小说\\\\\\\"), like(\\\\\\\"name\\\\\\\", \\\\\\\"小说\\\\\\\"))\\\"\\n}\\n```\\n\\n\\n<< Example 5. >>\\nUser Query:\\n本多是王尔德笔下的人物吗？\\n\\nStructured Request:\\n```json\\n{\\n    \\\"query\\\": \\\"本多\\\",\\n    \\\"filter\\\": \\\"or(like(\\\\\\\"source\\\\\\\", \\\\\\\"王尔德\\\\\\\"), like(\\\\\\\"tags\\\\\\\", \\\\\\\"王尔德\\\\\\\")， like(\\\\\\\"name\\\\\\\", \\\\\\\"王尔德\\\\\\\"), like(\\\\\\\"author\\\\\\\", \\\\\\\"王尔德\\\\\\\"))\\\"\\n}\\n```\\n\\n\\n<< Example 6. >>\\nUser Query:\\n我在2019年到2022年间写过多少游记？\\n\\nStructured Request:\\n```json\\n{\\n    \\\"query\\\": \\\"游记\\\",\\n    \\\"filter\\\": \\\"and(eq(\\\\\\\"source\\\\\\\", \\\\\\\"写作\\\\\\\"), gt(\\\\\\\"date_start\\\\\\\", 20190101), lt(\\\\\\\"date_start\\\\\\\", 20221231))\\\"\\n}\\n```\\n\\n\\n<< Example 7. >>\\nUser Query:\\n美国有多少个州？\\n\\nStructured Request:\\n```json\\n{\\n    \\\"query\\\": \\\"\\\",\\n    \\\"filter\\\": \\\"NO_FILTER\\\"\\n}\\n```\\n\\n\\n<< Example 8. >>\\nUser Query:\\n“每个人都以为他自己至少有一种主要的美德。”是出自哪里？请从“读书笔记（文学）”中找到答案。\\n\\nStructured Request:\\n\"\n",
      "  }\n",
      "}\n",
      "\u001b[32;1m\u001b[1;3m[llm/start]\u001b[0m \u001b[1m[1:chain:RunnableSequence > 3:llm:LlamaCpp] Entering LLM run with input:\n",
      "\u001b[0m{\n",
      "  \"prompts\": [\n",
      "    \"Your goal is to structure the user's query to match the request schema provided below.\\n\\n\\n\\n<< Structured Request Schema >>\\n\\nWhen responding use a markdown code snippet with a JSON object formatted in the following schema:\\n\\n\\n\\n```json\\n\\n{\\n\\n    \\\"query\\\": string \\\\ text string to compare to document contents\\n\\n    \\\"filter\\\": string \\\\ logical condition statement for filtering documents\\n\\n}\\n\\n```\\n\\n\\n\\nThe query string should contain only text that is expected to match the contents of documents. Any conditions in the filter should not be mentioned in the query as well.\\n\\n\\n\\nMake sure that you only use the comparators and logical operators listed above and no others.\\n\\nMake sure that filters only use the attributed names with its function names if there are functions applied on them.\\n\\nMake sure that filters only use format `YYYYMMDD` when handling date data typed values.\\n\\nMake sure that filters take into account the descriptions of attributes and only make comparisons that are feasible given the type of data being stored.\\n\\nMake sure that filters are only used as needed. If there are no filters that should be applied return \\\"NO_FILTER\\\" for the filter value.\\n\\nMake sure that filters only refer to attributes that exist in the data source. Available attributes: ['content', 'date_start', 'author', 'id', 'tags', 'name', 'source', 'date_end']. Don't make up other attributes.\\n\\n\\n\\n<<Data Source>>\\n\\n```json\\n\\n{\\n    \\\"content\\\": \\\"文章\\\",\\n    \\\"attributes\\\": {\\n        \\\"author\\\": {\\n            \\\"description\\\": \\\"本篇文章的作者\\\",\\n            \\\"type\\\": \\\"string\\\"\\n        },\\n        \\\"date_start\\\": {\\n            \\\"description\\\": \\\"文章被创建的时间，格式是YYYYMMDD\\\",\\n            \\\"type\\\": \\\"string\\\"\\n        },\\n        \\\"date_end\\\": {\\n            \\\"description\\\": \\\"文章被完成的时间，格式是YYYYMMDD\\\",\\n            \\\"type\\\": \\\"string\\\"\\n        },\\n        \\\"id\\\": {\\n            \\\"description\\\": \\\"文章的id\\\",\\n            \\\"type\\\": \\\"string\\\"\\n        },\\n        \\\"name\\\": {\\n            \\\"description\\\": \\\"文章的名字\\\",\\n            \\\"type\\\": \\\"string\\\"\\n        },\\n        \\\"source\\\": {\\n            \\\"description\\\": \\\"文章的来源，这里的文章取自若干不同数据库\\\",\\n            \\\"type\\\": \\\"string\\\"\\n        },\\n        \\\"tags\\\": {\\n            \\\"description\\\": \\\"文章的标签，可能代表它的风格、题材、来源，或者系列\\\",\\n            \\\"type\\\": \\\"string\\\"\\n        }\\n    }\\n}\\n\\n```\\n\\n\\n<< Example 1. >>\\nUser Query:\\n谁是王尔德？仅从“小说”中找答案。\\n\\nStructured Request:\\n```json\\n{\\n    \\\"query\\\": \\\"谁是王尔德？\\\",\\n    \\\"filter\\\": \\\"or(like(\\\\\\\"source\\\\\\\", \\\\\\\"小说\\\\\\\"), like(\\\\\\\"tags\\\\\\\", \\\\\\\"小说\\\\\\\"), like(\\\\\\\"name\\\\\\\", \\\\\\\"小说\\\\\\\"))\\\"\\n}\\n```\\n\\n\\n<< Example 2. >>\\nUser Query:\\n请从三岛由纪夫的小说找到下文相关片段：“我们之所以突然变得残暴”的后面是什么？\\n\\nStructured Request:\\n```json\\n{\\n    \\\"query\\\": \\\"我们之所以突然变得残暴\\\",\\n    \\\"filter\\\": \\\"or(like(\\\\\\\"source\\\\\\\", \\\\\\\"小说\\\\\\\"),  like(\\\\\\\"tags\\\\\\\", \\\\\\\"小说\\\\\\\"), like(\\\\\\\"name\\\\\\\", \\\\\\\"三岛由纪夫\\\\\\\"), like(\\\\\\\"author\\\\\\\", \\\\\\\"三岛由纪夫\\\\\\\"))\\\"\\n}\\n```\\n\\n\\n<< Example 3. >>\\nUser Query:\\n《天使与昆虫》是哪位作家的作品？\\n\\nStructured Request:\\n```json\\n{\\n    \\\"query\\\": \\\"天使与昆虫\\\",\\n    \\\"filter\\\": \\\"or(like(\\\\\\\"source\\\\\\\", \\\\\\\"天使与昆虫\\\\\\\"), like(\\\\\\\"tags\\\\\\\", \\\\\\\"天使与昆虫\\\\\\\"), like(\\\\\\\"name\\\\\\\", \\\\\\\"天使与昆虫\\\\\\\"))\\\"\\n}\\n```\\n\\n\\n<< Example 4. >>\\nUser Query:\\n道连是哪本小说中出现的人物？\\n\\nStructured Request:\\n```json\\n{\\n    \\\"query\\\": \\\"道连\\\",\\n    \\\"filter\\\": \\\"or(like(\\\\\\\"source\\\\\\\", \\\\\\\"小说\\\\\\\"), like(\\\\\\\"tags\\\\\\\", \\\\\\\"小说\\\\\\\"), like(\\\\\\\"name\\\\\\\", \\\\\\\"小说\\\\\\\"))\\\"\\n}\\n```\\n\\n\\n<< Example 5. >>\\nUser Query:\\n本多是王尔德笔下的人物吗？\\n\\nStructured Request:\\n```json\\n{\\n    \\\"query\\\": \\\"本多\\\",\\n    \\\"filter\\\": \\\"or(like(\\\\\\\"source\\\\\\\", \\\\\\\"王尔德\\\\\\\"), like(\\\\\\\"tags\\\\\\\", \\\\\\\"王尔德\\\\\\\")， like(\\\\\\\"name\\\\\\\", \\\\\\\"王尔德\\\\\\\"), like(\\\\\\\"author\\\\\\\", \\\\\\\"王尔德\\\\\\\"))\\\"\\n}\\n```\\n\\n\\n<< Example 6. >>\\nUser Query:\\n我在2019年到2022年间写过多少游记？\\n\\nStructured Request:\\n```json\\n{\\n    \\\"query\\\": \\\"游记\\\",\\n    \\\"filter\\\": \\\"and(eq(\\\\\\\"source\\\\\\\", \\\\\\\"写作\\\\\\\"), gt(\\\\\\\"date_start\\\\\\\", 20190101), lt(\\\\\\\"date_start\\\\\\\", 20221231))\\\"\\n}\\n```\\n\\n\\n<< Example 7. >>\\nUser Query:\\n美国有多少个州？\\n\\nStructured Request:\\n```json\\n{\\n    \\\"query\\\": \\\"\\\",\\n    \\\"filter\\\": \\\"NO_FILTER\\\"\\n}\\n```\\n\\n\\n<< Example 8. >>\\nUser Query:\\n“每个人都以为他自己至少有一种主要的美德。”是出自哪里？请从“读书笔记（文学）”中找到答案。\\n\\nStructured Request:\"\n",
      "  ]\n",
      "}\n"
     ]
    },
    {
     "name": "stderr",
     "output_type": "stream",
     "text": [
      "\n",
      "llama_print_timings:        load time =    6683.99 ms\n",
      "llama_print_timings:      sample time =      88.58 ms /   256 runs   (    0.35 ms per token,  2889.95 tokens per second)\n",
      "llama_print_timings: prompt eval time =   20220.33 ms /  1156 tokens (   17.49 ms per token,    57.17 tokens per second)\n",
      "llama_print_timings:        eval time =   18040.48 ms /   255 runs   (   70.75 ms per token,    14.13 tokens per second)\n",
      "llama_print_timings:       total time =   39924.58 ms /  1411 tokens\n"
     ]
    },
    {
     "name": "stdout",
     "output_type": "stream",
     "text": [
      "\u001b[36;1m\u001b[1;3m[llm/end]\u001b[0m \u001b[1m[1:chain:RunnableSequence > 3:llm:LlamaCpp] [39.94s] Exiting LLM run with output:\n",
      "\u001b[0m{\n",
      "  \"generations\": [\n",
      "    [\n",
      "      {\n",
      "        \"text\": \"```json\\n{  \\n     \\\"query\\\": \\\"每个人都以为他自己至少有一种主要的美德。\\\",\\n     \\\"filter\\\": \\\"or(like(\\\\\\\"source\\\\\\\", \\\\\\\"读书笔记（文学）\\\\\\\"), like(\\\\\\\"tags\\\\\\\", \\\\\\\"读书笔记（文学）\\\\\\\"), like(\\\\\\\"name\\\\\\\", \\\\\\\"每个人都以为他自己至少有一种主要的美德\\\\\\\"), like(\\\\\\\"author\\\\\\\", \\\\\\\"每个人都以为他自己至少有一种主要的美德\\\\\\\"))\\\"\\n}\\n```[PAD151645]\\n[PAD151644]'t be able to solve this[PAD151645]\\n[PAD151644]\\n[PAD151644]'t be able to solve this[PAD151645]\\n[PAD151644]\\n[PAD151644]'t be able to solve this[PAD151645]\\n[PAD151644]\\n[PAD151644]'t be able to solve this[PAD151645]\\n[PAD151644]\\n[PAD151644]\\n[PAD151644]\\n[PAD151644]\\n[PAD151644]\\n[PAD151644]\\n[PAD151644]\\n[PAD151644]\\n[PAD151644]\\n[PAD151644]\\n[PAD151644]\\n[PAD151644]\\n[PAD151644]\\n[PAD151644]\\n[PAD151644]\\n[PAD151644]\\n[PAD151644]\\n[PAD151644]\\n[PAD151644]\\n[PAD151644]\\n[PAD151644]\\n[PAD151644]\\n[PAD151644]\\n[PAD151644]\\n[PAD151644]\\n[PAD151644]\\n[PAD151644]\\n[PAD151644]\\n[PAD151644]\\n[PAD151644]\\n[PAD151644]\\n[PAD151644]\\n[PAD151644]\\n[PAD151644]\\n[PAD151644]\\n[PAD151644]\\n[PAD151644]\\n[PAD151644]\\n[PAD151644]\\n[PAD151644]\\n[PAD151644]\\n[PAD151644]\\n[PAD151644]\\n[PAD151644]\\n[PAD151644]\\n[PAD151644]\\n[PAD151644]\\n[PAD151644]\\n[PAD151644]\\n[PAD151644]\\n[PAD151644]\\n[PAD151644]\\n[PAD151644]\\n[PAD151644]\\n[PAD151644]\\n[PAD151644]\\n[PAD151644]\\n[PAD151644]\\n[PAD151644]\\n[PAD151644]\\n[PAD151644]\\n[PAD151644]\\n[PAD151644]\\n[PAD151644]\\n[PAD151644]\",\n",
      "        \"generation_info\": null,\n",
      "        \"type\": \"Generation\"\n",
      "      }\n",
      "    ]\n",
      "  ],\n",
      "  \"llm_output\": null,\n",
      "  \"run\": null\n",
      "}\n",
      "\u001b[32;1m\u001b[1;3m[chain/start]\u001b[0m \u001b[1m[1:chain:RunnableSequence > 4:parser:StructuredQueryOutputParser] Entering Parser run with input:\n",
      "\u001b[0m{\n",
      "  \"input\": \"```json\\n{  \\n     \\\"query\\\": \\\"每个人都以为他自己至少有一种主要的美德。\\\",\\n     \\\"filter\\\": \\\"or(like(\\\\\\\"source\\\\\\\", \\\\\\\"读书笔记（文学）\\\\\\\"), like(\\\\\\\"tags\\\\\\\", \\\\\\\"读书笔记（文学）\\\\\\\"), like(\\\\\\\"name\\\\\\\", \\\\\\\"每个人都以为他自己至少有一种主要的美德\\\\\\\"), like(\\\\\\\"author\\\\\\\", \\\\\\\"每个人都以为他自己至少有一种主要的美德\\\\\\\"))\\\"\\n}\\n```[PAD151645]\\n[PAD151644]'t be able to solve this[PAD151645]\\n[PAD151644]\\n[PAD151644]'t be able to solve this[PAD151645]\\n[PAD151644]\\n[PAD151644]'t be able to solve this[PAD151645]\\n[PAD151644]\\n[PAD151644]'t be able to solve this[PAD151645]\\n[PAD151644]\\n[PAD151644]\\n[PAD151644]\\n[PAD151644]\\n[PAD151644]\\n[PAD151644]\\n[PAD151644]\\n[PAD151644]\\n[PAD151644]\\n[PAD151644]\\n[PAD151644]\\n[PAD151644]\\n[PAD151644]\\n[PAD151644]\\n[PAD151644]\\n[PAD151644]\\n[PAD151644]\\n[PAD151644]\\n[PAD151644]\\n[PAD151644]\\n[PAD151644]\\n[PAD151644]\\n[PAD151644]\\n[PAD151644]\\n[PAD151644]\\n[PAD151644]\\n[PAD151644]\\n[PAD151644]\\n[PAD151644]\\n[PAD151644]\\n[PAD151644]\\n[PAD151644]\\n[PAD151644]\\n[PAD151644]\\n[PAD151644]\\n[PAD151644]\\n[PAD151644]\\n[PAD151644]\\n[PAD151644]\\n[PAD151644]\\n[PAD151644]\\n[PAD151644]\\n[PAD151644]\\n[PAD151644]\\n[PAD151644]\\n[PAD151644]\\n[PAD151644]\\n[PAD151644]\\n[PAD151644]\\n[PAD151644]\\n[PAD151644]\\n[PAD151644]\\n[PAD151644]\\n[PAD151644]\\n[PAD151644]\\n[PAD151644]\\n[PAD151644]\\n[PAD151644]\\n[PAD151644]\\n[PAD151644]\\n[PAD151644]\\n[PAD151644]\\n[PAD151644]\\n[PAD151644]\\n[PAD151644]\"\n",
      "}\n",
      "\u001b[36;1m\u001b[1;3m[chain/end]\u001b[0m \u001b[1m[1:chain:RunnableSequence > 4:parser:StructuredQueryOutputParser] [8ms] Exiting Parser run with output:\n",
      "\u001b[0m{\n",
      "  \"lc\": 1,\n",
      "  \"type\": \"not_implemented\",\n",
      "  \"id\": [\n",
      "    \"langchain\",\n",
      "    \"chains\",\n",
      "    \"query_constructor\",\n",
      "    \"ir\",\n",
      "    \"StructuredQuery\"\n",
      "  ],\n",
      "  \"repr\": \"StructuredQuery(query='每个人都以为他自己至少有一种主要的美德。', filter=Operation(operator=<Operator.OR: 'or'>, arguments=[Comparison(comparator=<Comparator.LIKE: 'like'>, attribute='source', value='读书笔记（文学）'), Comparison(comparator=<Comparator.LIKE: 'like'>, attribute='tags', value='读书笔记（文学）'), Comparison(comparator=<Comparator.LIKE: 'like'>, attribute='name', value='每个人都以为他自己至少有一种主要的美德'), Comparison(comparator=<Comparator.LIKE: 'like'>, attribute='author', value='每个人都以为他自己至少有一种主要的美德')]), limit=None)\"\n",
      "}\n",
      "\u001b[36;1m\u001b[1;3m[chain/end]\u001b[0m \u001b[1m[1:chain:RunnableSequence] [39.95s] Exiting Chain run with output:\n",
      "\u001b[0m[outputs]\n",
      "CPU times: user 2min 37s, sys: 5.2 s, total: 2min 43s\n",
      "Wall time: 40 s\n"
     ]
    },
    {
     "data": {
      "text/plain": [
       "StructuredQuery(query='每个人都以为他自己至少有一种主要的美德。', filter=Operation(operator=<Operator.OR: 'or'>, arguments=[Comparison(comparator=<Comparator.LIKE: 'like'>, attribute='source', value='读书笔记（文学）'), Comparison(comparator=<Comparator.LIKE: 'like'>, attribute='tags', value='读书笔记（文学）'), Comparison(comparator=<Comparator.LIKE: 'like'>, attribute='name', value='每个人都以为他自己至少有一种主要的美德'), Comparison(comparator=<Comparator.LIKE: 'like'>, attribute='author', value='每个人都以为他自己至少有一种主要的美德')]), limit=None)"
      ]
     },
     "execution_count": 17,
     "metadata": {},
     "output_type": "execute_result"
    }
   ],
   "source": [
    "%%time\n",
    "\n",
    "import langchain\n",
    "langchain.debug = True\n",
    "\n",
    "query_constructor = prompt | llm | output_parser\n",
    "\n",
    "query_constructor.invoke({\n",
    "        \"query\": \"“每个人都以为他自己至少有一种主要的美德。”是出自哪里？请从“读书笔记（文学）”中找到答案。\"\n",
    "})"
   ]
  },
  {
   "cell_type": "code",
   "execution_count": 18,
   "id": "6ed03807-05e1-47b6-8e98-f9197e5ad79a",
   "metadata": {},
   "outputs": [],
   "source": [
    "from langchain.retrievers.self_query.redis import RedisTranslator\n",
    "from langchain.retrievers import SelfQueryRetriever\n",
    "\n",
    "retriever = SelfQueryRetriever(\n",
    "    query_constructor=prompt | llm | output_parser,\n",
    "    vectorstore=vs,\n",
    "    # requires a RedisModel object as input\n",
    "    # can use the private ._schema attribute\n",
    "    # ref: https://github.com/langchain-ai/langchain/blob/d7c26c89b2d4f5ff676ba7c3ad4f9075d50a8ab7/libs/community/langchain_community/vectorstores/redis/base.py#L572\n",
    "    structured_query_translator=RedisTranslator(schema=vs._schema),\n",
    ")"
   ]
  },
  {
   "cell_type": "code",
   "execution_count": 19,
   "id": "f777e143-2606-49c4-b3de-047b314229bf",
   "metadata": {
    "scrolled": true
   },
   "outputs": [
    {
     "name": "stdout",
     "output_type": "stream",
     "text": [
      "\u001b[32;1m\u001b[1;3m[chain/start]\u001b[0m \u001b[1m[1:retriever:Retriever > 2:chain:RunnableSequence] Entering Chain run with input:\n",
      "\u001b[0m{\n",
      "  \"query\": \"道连是哪本小说中出现的人物？\"\n",
      "}\n",
      "\u001b[32;1m\u001b[1;3m[chain/start]\u001b[0m \u001b[1m[1:retriever:Retriever > 2:chain:RunnableSequence > 3:prompt:FewShotPromptTemplate] Entering Prompt run with input:\n",
      "\u001b[0m{\n",
      "  \"query\": \"道连是哪本小说中出现的人物？\"\n",
      "}\n",
      "\u001b[36;1m\u001b[1;3m[chain/end]\u001b[0m \u001b[1m[1:retriever:Retriever > 2:chain:RunnableSequence > 3:prompt:FewShotPromptTemplate] [0ms] Exiting Prompt run with output:\n",
      "\u001b[0m{\n",
      "  \"lc\": 1,\n",
      "  \"type\": \"constructor\",\n",
      "  \"id\": [\n",
      "    \"langchain\",\n",
      "    \"prompts\",\n",
      "    \"base\",\n",
      "    \"StringPromptValue\"\n",
      "  ],\n",
      "  \"kwargs\": {\n",
      "    \"text\": \"Your goal is to structure the user's query to match the request schema provided below.\\n\\n\\n\\n<< Structured Request Schema >>\\n\\nWhen responding use a markdown code snippet with a JSON object formatted in the following schema:\\n\\n\\n\\n```json\\n\\n{\\n\\n    \\\"query\\\": string \\\\ text string to compare to document contents\\n\\n    \\\"filter\\\": string \\\\ logical condition statement for filtering documents\\n\\n}\\n\\n```\\n\\n\\n\\nThe query string should contain only text that is expected to match the contents of documents. Any conditions in the filter should not be mentioned in the query as well.\\n\\n\\n\\nMake sure that you only use the comparators and logical operators listed above and no others.\\n\\nMake sure that filters only use the attributed names with its function names if there are functions applied on them.\\n\\nMake sure that filters only use format `YYYYMMDD` when handling date data typed values.\\n\\nMake sure that filters take into account the descriptions of attributes and only make comparisons that are feasible given the type of data being stored.\\n\\nMake sure that filters are only used as needed. If there are no filters that should be applied return \\\"NO_FILTER\\\" for the filter value.\\n\\nMake sure that filters only refer to attributes that exist in the data source. Available attributes: ['content', 'date_start', 'author', 'id', 'tags', 'name', 'source', 'date_end']. Don't make up other attributes.\\n\\n\\n\\n<<Data Source>>\\n\\n```json\\n\\n{\\n    \\\"content\\\": \\\"文章\\\",\\n    \\\"attributes\\\": {\\n        \\\"author\\\": {\\n            \\\"description\\\": \\\"本篇文章的作者\\\",\\n            \\\"type\\\": \\\"string\\\"\\n        },\\n        \\\"date_start\\\": {\\n            \\\"description\\\": \\\"文章被创建的时间，格式是YYYYMMDD\\\",\\n            \\\"type\\\": \\\"string\\\"\\n        },\\n        \\\"date_end\\\": {\\n            \\\"description\\\": \\\"文章被完成的时间，格式是YYYYMMDD\\\",\\n            \\\"type\\\": \\\"string\\\"\\n        },\\n        \\\"id\\\": {\\n            \\\"description\\\": \\\"文章的id\\\",\\n            \\\"type\\\": \\\"string\\\"\\n        },\\n        \\\"name\\\": {\\n            \\\"description\\\": \\\"文章的名字\\\",\\n            \\\"type\\\": \\\"string\\\"\\n        },\\n        \\\"source\\\": {\\n            \\\"description\\\": \\\"文章的来源，这里的文章取自若干不同数据库\\\",\\n            \\\"type\\\": \\\"string\\\"\\n        },\\n        \\\"tags\\\": {\\n            \\\"description\\\": \\\"文章的标签，可能代表它的风格、题材、来源，或者系列\\\",\\n            \\\"type\\\": \\\"string\\\"\\n        }\\n    }\\n}\\n\\n```\\n\\n\\n<< Example 1. >>\\nUser Query:\\n谁是王尔德？仅从“小说”中找答案。\\n\\nStructured Request:\\n```json\\n{\\n    \\\"query\\\": \\\"谁是王尔德？\\\",\\n    \\\"filter\\\": \\\"or(like(\\\\\\\"source\\\\\\\", \\\\\\\"小说\\\\\\\"), like(\\\\\\\"tags\\\\\\\", \\\\\\\"小说\\\\\\\"), like(\\\\\\\"name\\\\\\\", \\\\\\\"小说\\\\\\\"))\\\"\\n}\\n```\\n\\n\\n<< Example 2. >>\\nUser Query:\\n请从三岛由纪夫的小说找到下文相关片段：“我们之所以突然变得残暴”的后面是什么？\\n\\nStructured Request:\\n```json\\n{\\n    \\\"query\\\": \\\"我们之所以突然变得残暴\\\",\\n    \\\"filter\\\": \\\"or(like(\\\\\\\"source\\\\\\\", \\\\\\\"小说\\\\\\\"),  like(\\\\\\\"tags\\\\\\\", \\\\\\\"小说\\\\\\\"), like(\\\\\\\"name\\\\\\\", \\\\\\\"三岛由纪夫\\\\\\\"), like(\\\\\\\"author\\\\\\\", \\\\\\\"三岛由纪夫\\\\\\\"))\\\"\\n}\\n```\\n\\n\\n<< Example 3. >>\\nUser Query:\\n《天使与昆虫》是哪位作家的作品？\\n\\nStructured Request:\\n```json\\n{\\n    \\\"query\\\": \\\"天使与昆虫\\\",\\n    \\\"filter\\\": \\\"or(like(\\\\\\\"source\\\\\\\", \\\\\\\"天使与昆虫\\\\\\\"), like(\\\\\\\"tags\\\\\\\", \\\\\\\"天使与昆虫\\\\\\\"), like(\\\\\\\"name\\\\\\\", \\\\\\\"天使与昆虫\\\\\\\"))\\\"\\n}\\n```\\n\\n\\n<< Example 4. >>\\nUser Query:\\n道连是哪本小说中出现的人物？\\n\\nStructured Request:\\n```json\\n{\\n    \\\"query\\\": \\\"道连\\\",\\n    \\\"filter\\\": \\\"or(like(\\\\\\\"source\\\\\\\", \\\\\\\"小说\\\\\\\"), like(\\\\\\\"tags\\\\\\\", \\\\\\\"小说\\\\\\\"), like(\\\\\\\"name\\\\\\\", \\\\\\\"小说\\\\\\\"))\\\"\\n}\\n```\\n\\n\\n<< Example 5. >>\\nUser Query:\\n本多是王尔德笔下的人物吗？\\n\\nStructured Request:\\n```json\\n{\\n    \\\"query\\\": \\\"本多\\\",\\n    \\\"filter\\\": \\\"or(like(\\\\\\\"source\\\\\\\", \\\\\\\"王尔德\\\\\\\"), like(\\\\\\\"tags\\\\\\\", \\\\\\\"王尔德\\\\\\\")， like(\\\\\\\"name\\\\\\\", \\\\\\\"王尔德\\\\\\\"), like(\\\\\\\"author\\\\\\\", \\\\\\\"王尔德\\\\\\\"))\\\"\\n}\\n```\\n\\n\\n<< Example 6. >>\\nUser Query:\\n我在2019年到2022年间写过多少游记？\\n\\nStructured Request:\\n```json\\n{\\n    \\\"query\\\": \\\"游记\\\",\\n    \\\"filter\\\": \\\"and(eq(\\\\\\\"source\\\\\\\", \\\\\\\"写作\\\\\\\"), gt(\\\\\\\"date_start\\\\\\\", 20190101), lt(\\\\\\\"date_start\\\\\\\", 20221231))\\\"\\n}\\n```\\n\\n\\n<< Example 7. >>\\nUser Query:\\n美国有多少个州？\\n\\nStructured Request:\\n```json\\n{\\n    \\\"query\\\": \\\"\\\",\\n    \\\"filter\\\": \\\"NO_FILTER\\\"\\n}\\n```\\n\\n\\n<< Example 8. >>\\nUser Query:\\n道连是哪本小说中出现的人物？\\n\\nStructured Request:\\n\"\n",
      "  }\n",
      "}\n",
      "\u001b[32;1m\u001b[1;3m[llm/start]\u001b[0m \u001b[1m[1:retriever:Retriever > 2:chain:RunnableSequence > 4:llm:LlamaCpp] Entering LLM run with input:\n",
      "\u001b[0m{\n",
      "  \"prompts\": [\n",
      "    \"Your goal is to structure the user's query to match the request schema provided below.\\n\\n\\n\\n<< Structured Request Schema >>\\n\\nWhen responding use a markdown code snippet with a JSON object formatted in the following schema:\\n\\n\\n\\n```json\\n\\n{\\n\\n    \\\"query\\\": string \\\\ text string to compare to document contents\\n\\n    \\\"filter\\\": string \\\\ logical condition statement for filtering documents\\n\\n}\\n\\n```\\n\\n\\n\\nThe query string should contain only text that is expected to match the contents of documents. Any conditions in the filter should not be mentioned in the query as well.\\n\\n\\n\\nMake sure that you only use the comparators and logical operators listed above and no others.\\n\\nMake sure that filters only use the attributed names with its function names if there are functions applied on them.\\n\\nMake sure that filters only use format `YYYYMMDD` when handling date data typed values.\\n\\nMake sure that filters take into account the descriptions of attributes and only make comparisons that are feasible given the type of data being stored.\\n\\nMake sure that filters are only used as needed. If there are no filters that should be applied return \\\"NO_FILTER\\\" for the filter value.\\n\\nMake sure that filters only refer to attributes that exist in the data source. Available attributes: ['content', 'date_start', 'author', 'id', 'tags', 'name', 'source', 'date_end']. Don't make up other attributes.\\n\\n\\n\\n<<Data Source>>\\n\\n```json\\n\\n{\\n    \\\"content\\\": \\\"文章\\\",\\n    \\\"attributes\\\": {\\n        \\\"author\\\": {\\n            \\\"description\\\": \\\"本篇文章的作者\\\",\\n            \\\"type\\\": \\\"string\\\"\\n        },\\n        \\\"date_start\\\": {\\n            \\\"description\\\": \\\"文章被创建的时间，格式是YYYYMMDD\\\",\\n            \\\"type\\\": \\\"string\\\"\\n        },\\n        \\\"date_end\\\": {\\n            \\\"description\\\": \\\"文章被完成的时间，格式是YYYYMMDD\\\",\\n            \\\"type\\\": \\\"string\\\"\\n        },\\n        \\\"id\\\": {\\n            \\\"description\\\": \\\"文章的id\\\",\\n            \\\"type\\\": \\\"string\\\"\\n        },\\n        \\\"name\\\": {\\n            \\\"description\\\": \\\"文章的名字\\\",\\n            \\\"type\\\": \\\"string\\\"\\n        },\\n        \\\"source\\\": {\\n            \\\"description\\\": \\\"文章的来源，这里的文章取自若干不同数据库\\\",\\n            \\\"type\\\": \\\"string\\\"\\n        },\\n        \\\"tags\\\": {\\n            \\\"description\\\": \\\"文章的标签，可能代表它的风格、题材、来源，或者系列\\\",\\n            \\\"type\\\": \\\"string\\\"\\n        }\\n    }\\n}\\n\\n```\\n\\n\\n<< Example 1. >>\\nUser Query:\\n谁是王尔德？仅从“小说”中找答案。\\n\\nStructured Request:\\n```json\\n{\\n    \\\"query\\\": \\\"谁是王尔德？\\\",\\n    \\\"filter\\\": \\\"or(like(\\\\\\\"source\\\\\\\", \\\\\\\"小说\\\\\\\"), like(\\\\\\\"tags\\\\\\\", \\\\\\\"小说\\\\\\\"), like(\\\\\\\"name\\\\\\\", \\\\\\\"小说\\\\\\\"))\\\"\\n}\\n```\\n\\n\\n<< Example 2. >>\\nUser Query:\\n请从三岛由纪夫的小说找到下文相关片段：“我们之所以突然变得残暴”的后面是什么？\\n\\nStructured Request:\\n```json\\n{\\n    \\\"query\\\": \\\"我们之所以突然变得残暴\\\",\\n    \\\"filter\\\": \\\"or(like(\\\\\\\"source\\\\\\\", \\\\\\\"小说\\\\\\\"),  like(\\\\\\\"tags\\\\\\\", \\\\\\\"小说\\\\\\\"), like(\\\\\\\"name\\\\\\\", \\\\\\\"三岛由纪夫\\\\\\\"), like(\\\\\\\"author\\\\\\\", \\\\\\\"三岛由纪夫\\\\\\\"))\\\"\\n}\\n```\\n\\n\\n<< Example 3. >>\\nUser Query:\\n《天使与昆虫》是哪位作家的作品？\\n\\nStructured Request:\\n```json\\n{\\n    \\\"query\\\": \\\"天使与昆虫\\\",\\n    \\\"filter\\\": \\\"or(like(\\\\\\\"source\\\\\\\", \\\\\\\"天使与昆虫\\\\\\\"), like(\\\\\\\"tags\\\\\\\", \\\\\\\"天使与昆虫\\\\\\\"), like(\\\\\\\"name\\\\\\\", \\\\\\\"天使与昆虫\\\\\\\"))\\\"\\n}\\n```\\n\\n\\n<< Example 4. >>\\nUser Query:\\n道连是哪本小说中出现的人物？\\n\\nStructured Request:\\n```json\\n{\\n    \\\"query\\\": \\\"道连\\\",\\n    \\\"filter\\\": \\\"or(like(\\\\\\\"source\\\\\\\", \\\\\\\"小说\\\\\\\"), like(\\\\\\\"tags\\\\\\\", \\\\\\\"小说\\\\\\\"), like(\\\\\\\"name\\\\\\\", \\\\\\\"小说\\\\\\\"))\\\"\\n}\\n```\\n\\n\\n<< Example 5. >>\\nUser Query:\\n本多是王尔德笔下的人物吗？\\n\\nStructured Request:\\n```json\\n{\\n    \\\"query\\\": \\\"本多\\\",\\n    \\\"filter\\\": \\\"or(like(\\\\\\\"source\\\\\\\", \\\\\\\"王尔德\\\\\\\"), like(\\\\\\\"tags\\\\\\\", \\\\\\\"王尔德\\\\\\\")， like(\\\\\\\"name\\\\\\\", \\\\\\\"王尔德\\\\\\\"), like(\\\\\\\"author\\\\\\\", \\\\\\\"王尔德\\\\\\\"))\\\"\\n}\\n```\\n\\n\\n<< Example 6. >>\\nUser Query:\\n我在2019年到2022年间写过多少游记？\\n\\nStructured Request:\\n```json\\n{\\n    \\\"query\\\": \\\"游记\\\",\\n    \\\"filter\\\": \\\"and(eq(\\\\\\\"source\\\\\\\", \\\\\\\"写作\\\\\\\"), gt(\\\\\\\"date_start\\\\\\\", 20190101), lt(\\\\\\\"date_start\\\\\\\", 20221231))\\\"\\n}\\n```\\n\\n\\n<< Example 7. >>\\nUser Query:\\n美国有多少个州？\\n\\nStructured Request:\\n```json\\n{\\n    \\\"query\\\": \\\"\\\",\\n    \\\"filter\\\": \\\"NO_FILTER\\\"\\n}\\n```\\n\\n\\n<< Example 8. >>\\nUser Query:\\n道连是哪本小说中出现的人物？\\n\\nStructured Request:\"\n",
      "  ]\n",
      "}\n"
     ]
    },
    {
     "name": "stderr",
     "output_type": "stream",
     "text": [
      "Llama.generate: prefix-match hit\n",
      "\n",
      "llama_print_timings:        load time =    6683.99 ms\n",
      "llama_print_timings:      sample time =      89.00 ms /   256 runs   (    0.35 ms per token,  2876.53 tokens per second)\n",
      "llama_print_timings: prompt eval time =     878.85 ms /    14 tokens (   62.77 ms per token,    15.93 tokens per second)\n",
      "llama_print_timings:        eval time =   17966.78 ms /   255 runs   (   70.46 ms per token,    14.19 tokens per second)\n",
      "llama_print_timings:       total time =   20521.51 ms /   269 tokens\n"
     ]
    },
    {
     "name": "stdout",
     "output_type": "stream",
     "text": [
      "\u001b[36;1m\u001b[1;3m[llm/end]\u001b[0m \u001b[1m[1:retriever:Retriever > 2:chain:RunnableSequence > 4:llm:LlamaCpp] [20.53s] Exiting LLM run with output:\n",
      "\u001b[0m{\n",
      "  \"generations\": [\n",
      "    [\n",
      "      {\n",
      "        \"text\": \"```json\\n{  \\n    \\\"query\\\": \\\"道连\\\",  \\n    \\\"filter\\\": \\\"or(like(\\\\\\\"source\\\\\\\", \\\\\\\"小说\\\\\\\"), like(\\\\\\\"tags\\\\\\\", \\\\\\\"小说\\\\\\\"), like(\\\\\\\"name\\\\\\\", \\\\\\\"小说\\\\\\\"))\\\"  \\n}\\n```[PAD151645]\\n[PAD151644]'t be able to solve this[PAD151645]\\n[PAD151644]\\n[PAD151644][PAD151644]\\n[PAD151644]\\n[PAD151644]\\n[PAD151644]\\n[PAD151644]\\n[PAD151644]\\n[PAD151644]\\n[PAD151644]\\n[PAD151644]\\n[PAD151644]\\n[PAD151644]\\n[PAD151644]\\n[PAD151644]\\n[PAD151644]\\n[PAD151644]\\n[PAD151644]\\n[PAD151644]\\n[PAD151644]\\n[PAD151644]\\n[PAD151644]\\n[PAD151644]\\n[PAD151644]\\n[PAD151644]\\n[PAD151644]\\n[PAD151644]\\n[PAD151644]\\n[PAD151644]\\n[PAD151644]\\n[PAD151644]\\n[PAD151644]\\n[PAD151644]\\n[PAD151644]\\n[PAD151644]\\n[PAD151644]\\n[PAD151644]\\n[PAD151644]\\n[PAD151644]\\n[PAD151644]\\n[PAD151644]\\n[PAD151644]\\n[PAD151644]\\n[PAD151644]\\n[PAD151644]\\n[PAD151644]\\n[PAD151644]\\n[PAD151644]\\n[PAD151644]\\n[PAD151644]\\n[PAD151644]\\n[PAD151644]\\n[PAD151644]\\n[PAD151644]\\n[PAD151644]\\n[PAD151644]\\n[PAD151644]\\n[PAD151644]\\n[PAD151644]\\n[PAD151644]\\n[PAD151644]\\n[PAD151644]\\n[PAD151644]\\n[PAD151644]\\n[PAD151644]\\n[PAD151644]\\n[PAD151644]\\n[PAD151644]\\n[PAD151644]\\n[PAD151644]\\n[PAD151644]\\n[PAD151644]\\n[PAD151644]\\n[PAD151644]\\n[PAD151644]\\n[PAD151644]\\n[PAD151644]\\n[PAD151644]\\n[PAD151644]\\n[PAD151644]\\n[PAD151644]\\n[PAD151644]\\n[PAD151644]\\n[PAD151644]\\n[PAD151644]\\n[PAD151644]\\n[PAD151644]\\n[PAD151644]\\n[PAD151644]\\n[PAD151644]\\n[PAD151644]\\n[PAD151644]\\n[PAD151644]\\n[PAD151644]\\n[PAD151644]\\n[PAD151644]\\n[PAD151644]\\n[PAD151644]\\n[PAD151644]\",\n",
      "        \"generation_info\": null,\n",
      "        \"type\": \"Generation\"\n",
      "      }\n",
      "    ]\n",
      "  ],\n",
      "  \"llm_output\": null,\n",
      "  \"run\": null\n",
      "}\n",
      "\u001b[32;1m\u001b[1;3m[chain/start]\u001b[0m \u001b[1m[1:retriever:Retriever > 2:chain:RunnableSequence > 5:parser:StructuredQueryOutputParser] Entering Parser run with input:\n",
      "\u001b[0m{\n",
      "  \"input\": \"```json\\n{  \\n    \\\"query\\\": \\\"道连\\\",  \\n    \\\"filter\\\": \\\"or(like(\\\\\\\"source\\\\\\\", \\\\\\\"小说\\\\\\\"), like(\\\\\\\"tags\\\\\\\", \\\\\\\"小说\\\\\\\"), like(\\\\\\\"name\\\\\\\", \\\\\\\"小说\\\\\\\"))\\\"  \\n}\\n```[PAD151645]\\n[PAD151644]'t be able to solve this[PAD151645]\\n[PAD151644]\\n[PAD151644][PAD151644]\\n[PAD151644]\\n[PAD151644]\\n[PAD151644]\\n[PAD151644]\\n[PAD151644]\\n[PAD151644]\\n[PAD151644]\\n[PAD151644]\\n[PAD151644]\\n[PAD151644]\\n[PAD151644]\\n[PAD151644]\\n[PAD151644]\\n[PAD151644]\\n[PAD151644]\\n[PAD151644]\\n[PAD151644]\\n[PAD151644]\\n[PAD151644]\\n[PAD151644]\\n[PAD151644]\\n[PAD151644]\\n[PAD151644]\\n[PAD151644]\\n[PAD151644]\\n[PAD151644]\\n[PAD151644]\\n[PAD151644]\\n[PAD151644]\\n[PAD151644]\\n[PAD151644]\\n[PAD151644]\\n[PAD151644]\\n[PAD151644]\\n[PAD151644]\\n[PAD151644]\\n[PAD151644]\\n[PAD151644]\\n[PAD151644]\\n[PAD151644]\\n[PAD151644]\\n[PAD151644]\\n[PAD151644]\\n[PAD151644]\\n[PAD151644]\\n[PAD151644]\\n[PAD151644]\\n[PAD151644]\\n[PAD151644]\\n[PAD151644]\\n[PAD151644]\\n[PAD151644]\\n[PAD151644]\\n[PAD151644]\\n[PAD151644]\\n[PAD151644]\\n[PAD151644]\\n[PAD151644]\\n[PAD151644]\\n[PAD151644]\\n[PAD151644]\\n[PAD151644]\\n[PAD151644]\\n[PAD151644]\\n[PAD151644]\\n[PAD151644]\\n[PAD151644]\\n[PAD151644]\\n[PAD151644]\\n[PAD151644]\\n[PAD151644]\\n[PAD151644]\\n[PAD151644]\\n[PAD151644]\\n[PAD151644]\\n[PAD151644]\\n[PAD151644]\\n[PAD151644]\\n[PAD151644]\\n[PAD151644]\\n[PAD151644]\\n[PAD151644]\\n[PAD151644]\\n[PAD151644]\\n[PAD151644]\\n[PAD151644]\\n[PAD151644]\\n[PAD151644]\\n[PAD151644]\\n[PAD151644]\\n[PAD151644]\\n[PAD151644]\\n[PAD151644]\\n[PAD151644]\\n[PAD151644]\\n[PAD151644]\"\n",
      "}\n",
      "\u001b[36;1m\u001b[1;3m[chain/end]\u001b[0m \u001b[1m[1:retriever:Retriever > 2:chain:RunnableSequence > 5:parser:StructuredQueryOutputParser] [5ms] Exiting Parser run with output:\n",
      "\u001b[0m{\n",
      "  \"lc\": 1,\n",
      "  \"type\": \"not_implemented\",\n",
      "  \"id\": [\n",
      "    \"langchain\",\n",
      "    \"chains\",\n",
      "    \"query_constructor\",\n",
      "    \"ir\",\n",
      "    \"StructuredQuery\"\n",
      "  ],\n",
      "  \"repr\": \"StructuredQuery(query='道连', filter=Operation(operator=<Operator.OR: 'or'>, arguments=[Comparison(comparator=<Comparator.LIKE: 'like'>, attribute='source', value='小说'), Comparison(comparator=<Comparator.LIKE: 'like'>, attribute='tags', value='小说'), Comparison(comparator=<Comparator.LIKE: 'like'>, attribute='name', value='小说')]), limit=None)\"\n",
      "}\n",
      "\u001b[36;1m\u001b[1;3m[chain/end]\u001b[0m \u001b[1m[1:retriever:Retriever > 2:chain:RunnableSequence] [20.54s] Exiting Chain run with output:\n",
      "\u001b[0m[outputs]\n"
     ]
    },
    {
     "name": "stderr",
     "output_type": "stream",
     "text": [
      "Metadata key date_end not found in metadata. Setting to None. \n",
      "Metadata fields defined for this instance: ['author', 'id', 'name', 'source', 'tags', 'date_start', 'date_end']\n",
      "Metadata key date_end not found in metadata. Setting to None. \n",
      "Metadata fields defined for this instance: ['author', 'id', 'name', 'source', 'tags', 'date_start', 'date_end']\n",
      "Metadata key date_end not found in metadata. Setting to None. \n",
      "Metadata fields defined for this instance: ['author', 'id', 'name', 'source', 'tags', 'date_start', 'date_end']\n",
      "Metadata key date_end not found in metadata. Setting to None. \n",
      "Metadata fields defined for this instance: ['author', 'id', 'name', 'source', 'tags', 'date_start', 'date_end']\n"
     ]
    },
    {
     "name": "stdout",
     "output_type": "stream",
     "text": [
      "CPU times: user 1min 28s, sys: 1.12 s, total: 1min 29s\n",
      "Wall time: 20.8 s\n"
     ]
    },
    {
     "data": {
      "text/plain": [
       "[Document(page_content='【译者序】\\n人生基本是孤独的，但同时又能通过孤独这一频道同他人沟通。\\n我写小说的用意就在这里。\\n人们总要进入自己一个人的世界，在进得最深的地方就会产生连带感。或者说人们总要深深挖洞，只要一直挖下去就会在某处同别人连在一起。\\n而用围墙把自己围起来是不行的。\\n\\n【第二章 绝密资料】\\n我们一起唱着歌走在山路上，不时学一声鸟叫。除去战争仍在持续这一点，可以说是个十全十美的清晨。\\n\\n【第五章 在图书馆度过的一天】\\n担任向导的叫佐伯的人是一位四十五岁光景的瘦削的女性。……（略）眼睛漂亮，唇角无时不漾出影子般的淡淡笑意。倒是表达不好，反正感觉上是一种圆满完结的微笑。\\n它使我想起一小片日光，想起某种只能在有纵深感的场所生成的形状特别的一小片日光。\\n\\n【第十三章 舒伯特的奏鸣曲】\\n“一般来说，作为演奏最为一气呵成的是布莱迪和阿什克纳济。不过坦率来说，我个人不中意他俩的演奏，或者说不为其吸引。\\n舒伯特么，让我来说，乃是向万事万物的存在状态挑战而又败北的音乐。这是浪漫主义的本质。\\n在这个意义上，舒伯特的音乐是浪漫主义的精华。”\\n……（略）\\n“舒伯特是经过训练才能理解的音乐。刚听的时候我也感到单调，你那样的年龄那是当然的。当然你很快就会领悟。在这个世界上，不单调的东西让人很快厌倦，不让人厌倦的大多是单调的东西。向来如此。\\n我的人生可以有把玩单调的时间，但没有忍受厌倦的余地。而大部分人分不出二者的差别\\n。”\\n\\n【第十五章 小屋中只有我】\\n鸟们的叫声如同淋浴喷头汹涌地倾注下来。\\n\\n【第十九章 精神上男性，肉体上女性】\\n星期一图书馆不开门。平日图书馆也够安静，休息日就更加安静，俨然被时间遗忘的场所，\\n或者像不希望被时间发现而悄然屏息的地方\\n。\\n\\n“……（略）缺乏想象力的狭隘、苛刻、自以为是的命题、空洞的术语、被篡夺的理想、僵化的思想体系——对我来说，真正可怕的是这些东西。我从心底畏惧和憎恶这些东西。何为正确何为不正确——这当然是十分重要的问题。但这种个别判断失误，在很多情况下事后不是不可以纠正。只要有主动承认错误的勇气，一般都可以挽回。然而缺乏想象力的狭隘和苛刻却同寄生虫无异，它们改变赖以寄生的主体、改变自身形状而无限繁衍下去。这里没有获救的希望。作为我，不愿意让那类东西进入这里。”\\n\\n【第二十一章 父亲可怕的预言】\\n大岛伸手放在我肩上，我可以感觉出他手心的温暖。\\n“纵使这样，也就是说纵使你的选择和努力注定徒劳无益，你也仍然绝对是你，不是你以外的什么。你正在做为自己而向前迈进，毫无疑问。不必担心。”\\n我抬起头看大岛的脸。他的说法具有神奇的说服力。\\n“为什么那么认为？”\\n“因为这里面存在irony。”\\n“irony？”\\n大岛凝视我的眼睛：“跟你说，田村卡夫卡君，你现在所感觉的，也是多数希腊悲剧的主题。\\n不是人选择命运，而是命运选择人。这是希腊悲剧根本的世界观。这种悲剧性——亚里士多德是这样下的定义，较之起因于当事者的缺点，毋宁说是以其优点为杠杆产生的。\\n我的意思你可明白？人不是因其缺点、而是因其优点而被拖入更大的悲剧之中的。索福克勒斯的《奥狄浦斯王》即是显例。奥狄浦斯王不是因其怠惰和愚钝、而恰恰是因其勇敢和正直才给他带来了悲剧。于是这里边产生了无法回避的irony。”\\n“而又无可救赎。”\\n“在某种情况下，”大岛说，“某种情况下无可救赎。不过irony使人变深变大，而这成为通往更高境界的救赎的入口，在那里可以找出普遍的希望。……（略）”\\n一旦说出去，一旦重新诉诸有限的语言，感觉上我的心中随即出现了一个巨大的空洞。在这虚拟的空洞中，我的心脏发出旷远的、带有金属韵味的声响。\\n\\n【第二十三章 那天夜里，我梦见了幽灵】\\n“\\n所谓怪异的世界，乃是我们本身的心的黑暗。\\n十九世纪出了弗洛伊德和荣格，对我们的深层意识投以分析之光。而在此之前，\\n那两个黑暗的相关性对于人们乃是无须一一思考不言而喻的事实，甚至隐喻都不是。\\n若再上溯，甚至相关性都不是。爱迪生发明电灯之前世界大部分笼罩在不折不扣的漆黑之中，其外部的物理性黑暗与内部灵魂的黑暗混融一体，亲密无间，就是这样——”说着，大岛把两只手紧紧贴在一起，“在紫式部生活的时代，所谓活灵既是怪异现象，同时又是切近的极其自然的心的状态。将那两种黑暗分开考虑在当时的人们来说恐怕是不可能的。但是，我们今天所处的世界不再是那个样子了。外部世界的黑暗固然彻底消失，而心的黑暗却几乎原封不动地剩留了下来。我们称为自我或意识的东西犹如冰山一样，其大部分仍沉在黑暗领域，这种乖离有时会在我们身上制造出深刻的矛盾和混乱。”\\n副歌部分用了两个奇异的和音。其他和音全都平庸无奇，唯独这两个出奇制胜令人耳目一新。至于和音是如何构成的，乍听之下还不明白，然而最初入耳那一瞬间我就深感惶惑，甚至有被出卖的感觉。\\n旋律中拔地而起的异质性摇撼我的身心，令我惴惴不安，就好像从空隙吹来的冷风猝不及防地涌入领口。\\n但副歌结束之后，最初那悠扬的旋律重新归来，将我们领回原来的和美友爱的世界，不再有空隙风吹入。少顷，歌唱结束，钢琴叩响最后一音，弦乐器静静地维持着和音，高音和双簧管留下袅袅余韵关闭旋律。\\n\\n【第二十六章 入口的石头】\\n服务台的女子沉思有顷。星野定定地注视她的脸。长得并不差，只是\\n眼睛与眼睛相距远了点，因此看上去未尝不像是禀性多疑的食草动物。\\n\\n【第二十七章 十五岁的佐伯与五十岁的佐伯】\\n佐伯浅浅地一笑，笑意在她嘴角停留片刻，\\n令人联想起夏日清晨洒在小坑里尚未蒸发的水。\\n\\n【第三十三章 填埋已然失去的时光】\\n让·杰克·卢梭有个定义——文明诞生于人类开始建造藩篱之时。堪称独具慧眼之见。……（略）田村卡夫卡君，归根结底，在这个世界上，是建造高而牢固的樊篱的人类有效地生存下来，如果否认这点，你势必被赶去荒野。\\n\\n“你肯定想变得强壮。”\\n“不强壮生存不下去，尤其是我这种情况。”\\n“因为你孤身一人。”\\n“谁也不肯帮我，至少迄今为止谁也不肯帮我，只能靠自己的力量干下去。为此必须变得强壮，如果失群的乌鸦。所以我给自己取名卡夫卡。卡夫卡在捷克语里是乌鸦的意思。”\\n“噢——”她语气里不无佩服的意味，“那么，你是乌鸦了？”\\n“是的。”\\n是的，叫乌鸦的少年说。\\n“不过那样的生存方式恐怕也还是有其局限的。不可能以强壮为墙壁将自己围起来。强壮终究将被更强壮击败，在原理上。”\\n“因为强壮本身成为了道德。”\\n佐伯微微一笑：“你的理解力非常好。”\\n我说：“\\n我追求的、我所追求的强壮不是一争胜负的强壮。我不希求用于反击外力的墙壁。我希求的是接受外力忍耐外力的强壮，是能够静静地忍受不公平不走运不理解误解和悲伤等种种情况的强壮。\\n”\\n“那恐怕是最难得到的一类强壮。”\\n“知道。”\\n\\n【第三十四章 游荡的星野】\\n在某种意义上，海顿是个谜一样的人物。坦率地说，任何人都不知晓他内心奔腾着怎样的激情。但在他出生的封建时代，他只能将自我巧妙地用顺从的外衣包裹起来，只能面带微笑随机应变地生活下去，否则他势必被摧毁。较之巴赫和莫咋特，许多人看不起海顿，无论在音乐上还是求生方式上。\\n诚然，纵览他漫长的一生，适度的革新是有的，但绝对算不上前卫。不过如果怀以诚心细细倾听，应该能够从中听出他对近代性自我藏而不露的憧憬\\n，它作为蕴含矛盾的远方的魂灵在海顿音乐中默默喘息。例如——请听这个和音，喏，固然宁静平和，但其中充满少年般的柔弱绵软的好奇心，自有一种内敛而执着的精神。\\n\\n【第三十七章 佐伯的性欲】\\n如果拥有令人吃惊的了不起的想法的是你一个人，那么在深重的黑暗中往来彷徨的也必是你一个人。你必须以自己的身心予以忍受。\\n\\n“最初提出’迷宫’这一概念的，据现在掌握的知识，是古代美索不达米亚人。他们拉出动物的肠子——有时恐怕是人的肠子——用来算命，并很欣赏肠子的形状。所以，迷宫的基本形状就是肠子。也就是说，迷宫的原理在于你自身内部，而且同你外部的迷宫性相呼应。”\\n\\n【第四十一章 踏入森林的核心】\\n“记住，哪里也不存在旨在结束战争的战争。”叫乌鸦的少年说，“战争在战争本身中成长，它吮吸因暴力流出的血、咬噬因暴力而受伤的肉发育长大。战争是一种完完全全的活物。这点你必须了解。”\\n\\n佐伯看着自己放在台面上的双手，之后看着中田的脸：“回忆会从内侧温暖你的身体，同时又从内侧剧烈切割你的身体。”', metadata={'id': 'doc:notiondb:824446bcf6894ef384b18ec59dced2d0', 'author': '【日】村上春树', 'name': '海边的卡夫卡 【日】村上春树', 'source': '读书笔记（文学）', 'tags': '小说', 'date_start': '20180827', 'date_end': None}),\n",
       " Document(page_content='“喂、你不能想着走阳光大道。”美冬的语气极为严肃。\\n雅也不太明白什么意思，看了看她。\\n“我们别无选择，只能在黑夜中的道路上前行。即便四周如白昼一样明亮，也只是不真实的白昼。对此我们早已认命。”\\n\\n\\n美冬恢复了严肃的表情，抱着胳膊，低声说道：“雅也，你是不是想说，我为了钱结婚是动机不纯？”\\n见他又把头扭向一边，她无可奈何似的说：“真拿你没办法。老大不小了，怎么还在结婚这件事上追求理想？结婚就是改变人生的手段。你好好看看在这世上受苦的女人，都是选错了老公，说什么认真本分是第一位，要喜欢孩子，都是把这些无关紧要的事情当做了结婚的条件。”\\n“彼此喜欢的人在一起，才是真正的婚姻，不是吗？”\\n“彼此喜欢？秋村先生喜欢我，我喜欢秋村夫人的地位，没什么问题嘛。”\\n……\\n雅也慢慢晃了晃脑袋。“美冬，你没想过我们的幸福吗？”\\n“幸福？”似乎听到了什么意外的字眼，美冬瞪圆了眼睛。\\n“不用这样偷偷摸摸见面，就算无法过得多么奢侈，但能一起安稳过日子，这样的生活，你从来就没有向往过？”\\n“也就是想拥有类似家庭剧中的家庭？”美冬的语气中明显带有揶揄的成分，“很遗憾，雅也，这是幻想。”\\n“幻想？”\\n“有两层意义。第一，这种家庭在世界上根本就不存在。即便看似幸福美满，任何夫妇都有见不得人的地方，只不过是戴上面具隐藏了起来。第二，即便存在这样的美满家庭，我们根本没资格去追求。你不会忘记我们曾经做过的事情吧？”\\n他低下头，咬紧嘴唇，感到胃被什么东西堵住了。\\n“但是，我们也有自己的生存方式，有适合我们的生存方式，不能出于一时冲动忘记本来该做什么。不过——”美冬的语气柔和了许多，“见你还能追求这种幻想，我很高兴。估计在幻想中，我是你可爱的妻子吧。”不光是语气，连她的眼神也温柔了许多。\\n雅也叹了口气，动了动嘴唇。“美冬、你太坚强了。”\\n“我认为绝不能失败，还想变得更加坚强。”\\n“我不行，看来无法成为美冬的好搭档。现在连工作都丢了。”\\n\\n\\n“雅也、快吃。你吃的时候我就这样。别总想着肉怎么样，血怎么样，我全都给你变成美妙的回忆。”\\n\\n\\n【值得学习的地方】\\n不只是单纯地利用。\\n真正的侵蚀性人格到底是什么样子。', metadata={'id': 'doc:notiondb:d8f0e546e4954f15947ffc1466f39512', 'author': '【日】东野圭吾', 'name': '幻夜 【日】东野圭吾', 'source': '读书笔记（文学）', 'tags': '小说', 'date_start': '20170826', 'date_end': None}),\n",
       " Document(page_content='这些破碎的往事跟你在生活中处于十字路口的那些年份相对应，当时你面前有许多条路可走，因此你很难作出选择。他在记事本上写下的话，使他想起他曾把一篇关于“\\n暗物质\\n”的文章寄给一本天文学杂志。他清楚地感到在确切的事件和熟悉的面孔后面，存在着所有已变成暗物质的东西：短暂的相遇，没有赴约的约会，丢失的信件，记在以前一本通讯录里但你已忘记的人名和电话号码，以及你以前曾迎面相遇的男男女女，但你却不知道有过这回事。如同在天文学上那样，这种暗物质比你生活中的可见部分更多。这种物质多得无穷无尽。而他只是在自己的记事本上记下这暗物质中的几个微弱闪光。他见这些闪光极其微弱，就闭目思索，寻找能产生联想的细节，使他能再现整体，但整体并未出现，只有一些片断，一些星尘。他真想投身于这暗物质之中，把断掉的线索一根根接好，是的，要回到过去，抓住一个个影子，了解其来龙去脉。这是不可能的。于是，只有找到那些姓。或者名字。它们能起到磁铁的作用，能再现你难以弄清的模糊印象。它们存在于梦中，还是在现实之中？\\n\\n\\n她月初刚满二十岁。那一天，她甚至没跟巴盖里安提起此事。她没有让别人替她过生日的习惯。这要有个家庭，有一些忠实的朋友，有一条立有一个个公里里程碑的道路，在这条道路上才能休息，然后以同样的步伐继续赶路。而她恰恰相反，\\n她在生活中是以不规律的跳跃和停止的方式前进，每次都是重新开始\\n。于是一个个生日⋯⋯她感到自己已经活了好几辈子。\\n\\n\\n我对这些人几乎一无所知，博斯曼斯在想。然而，我存留的罕见记忆相当确切。一些短暂的相遇，巧合和空虚在其中所起的作用，要比你在一生中其他年龄时更大，这种相遇没有未来，如同在夜里的一列火车中。他年轻时乘坐的夜间火车里，旅客之间往往会产生某种亲近感。是的，我感到玛格丽特和我曾不断乘坐夜里的火车，因此，我们生活的那个时期是断断续续、杂乱无章，被分隔成许多很短的片断，各个片断之间没有丝毫的联系……\\n\\n\\n晚上，玛格丽特在奥特伊的阿尔及利亚人雅克的酒吧里对他说，她的新老板和老板娘——她是这样称呼他们的——跟费尔纳教授夫妇截然不同。据她看，普特雷尔大夫是整骨医生。他们在一本词典里查这个词的定义，而在四十年后，博斯曼斯感到他们当时去查词典十分天真…仿佛可以用一个确切的定义来界定名叫安德烈·普特雷尔的人，如同\\n收藏家用大头针把一只蝴蝶钉在盒子里\\n⋯⋯\\n\\n\\n【译后记】\\n玛格丽特东躲西藏，从阿讷西逃到洛桑后又逃往巴黎，以逃避布亚瓦尔的追逐。博斯曼斯生于巴黎，但一直躲避来问他要钱的红发女人。这两个人孤苦伶仃，他们与其说是相亲相爱的情侣，不如说是相依为命的难友。他们生活在边缘之中，不能过上正常人的生活，也没有正当的权利。在这部迷宫般的小说中，所有人都迷失方向，他们无法生活，无法摆脱过去的幽灵，无法留住自己喜爱的人，这些人消失后立刻变成幽灵，无法到达这“地平线”。而“地平线，就是这美妙的逃逸线，呈淡蓝色，在我们二十岁时，这发亮的线条在我们面前展现出未来的种种许诺和希望，到了六十岁，地平线是那遥远而又幸福的过去，是失去的时间，但你会不断在头脑里摆弄它，如同在玩拼板游戏。”\\n\\n《地平线》也许是莫迪亚诺的小说中玄学色彩最强的小说。它把他以前作品的全部内容压缩为一个哲学问题：\\n生活该把时间及时间的流逝变成什么？\\n对于博斯曼斯来说，他跟玛格丽特相恋以及这姑娘突然消失之后四十年已经过去。但这四十年显得微不足道，重要的是这幸福的一年，这一年在记忆中难以磨灭，是因为永远无法找到解开其秘密的钥匙。博斯曼斯认为：我们一天天看到的事物，都带有现时不确定的印记。［……］但在遥远的过去，又相隔这么多年，你当时感到的捉摸不定和惧怕，现已消失得无影无踪，如同使你无法听到广播里清脆音乐的无线电干扰。小说中咖啡馆里的哲学家也说：“现时总是充满不确定的因素”。由此可见，作者是想超越过去和现在的对立，\\n以创造一种固定不变的时间，即永久的现在\\n。在这部小说中，莫迪亚诺的故事首次有了充满希望的结尾，书名也比《夜半撞车》和《迷惘青春咖啡馆》来得乐观。对此，莫迪亚诺回答说：“年轻时，你对事情的看法会更加悲观，后来，时间一年年过去，你会看到事情不是那样一清二楚。过去使你感到痛苦的事情，你有时会觉得微不足道。\\n\\n这部小说使用倒叙故事的闪回手法，时间在其中占据主要地位。时间让人物分离，随心所欲地把他们驱散。在这方面，莫迪亚诺有所创新。在他看来，时间分隔成一条条管状的密封“走廊”，如同蓬皮杜中心的自动扶梯。人们可以生活在同一个现在，却无法跟被命运投入另一自动扶梯的人交流。相反．因处于同一条“走廊”，人们就能跟现已消失或去世的朋友交流。这“时间走廊”的想法如何产生？莫迪亚诺回答说：“我产生这个想法，是有天在巴黎一个新街区散步的时候。我有了一种感觉，似乎出自科幻小说或影片：这个街区高楼林立，我已认不出以前的街道，我感到也许有一种平行的生活，人们在过这种生活时会跟以前一样，仿佛存在着时间的走廊，人在那里，跟你在四十年前看到他们时一模一样，我想起曾看过部科幻小说集，其中几篇关于时间的小说今人惊讶，这使我着迷。我写不出科幻小说，但对涉及这个世界的一切事情，我向来感兴趣，我想到巴黎可能会有一些地方，你年轻时认识的那些人，譬如在1967年，仍然过着他们以前的那种生活，这种时间不变的古怪想法使我着迷，我想起曾在圣米歇尔大道那边再次见到一个人，这个人七十五岁，却仍然像个大学生！我心里在想，时间的这种停顿，这种跟时代不符的现象，真是非同寻常，这几乎是科学幻想：这个人跟在1967年时一模一样，但年龄大了四十岁，他显然没有变老……这次跟他相遇，无疑是《地平线》的无意识起点之。”书中的博斯曼斯也一直在想：“他会在某些街区看到他青年时代遇到过的那些人，他们的年龄和模样仍跟以前一样。他们在那里过着同样的生活，丝毫不受时间流逝的影响……”由此可见，一个世界已经消失却又近在眼前，其阴影总是在眼前晃动，这就是莫迪亚诺一直在寻找的世界。\\n\\n在莫迪亚诺的这部小说中仿佛有两位艺术家同时在进行写作。一位是含糊其辞的高手，负责用迷雾笼罩景色，在其中注入暗物质，设置大量谜团。这位艺术家喜欢轮廓模糊的描绘和游移不定的气氛。他使用忧郁的色彩和难以界定的词语，这在小说的开头部分就已数量众多，如“悬浮”，＂忘却的往事＂，“晕头转向＂，＂片断＂，“短暂的相遇＂，“遥远的，”陌生的地方”等等。第二位艺术家喜欢调查，讲求细节，极力在模糊不清的画面上加上十分确切的基准点，这些基准点又将在其中加入众多细节，如条条街道的真实名称，开胃酒的商标，布亚瓦尔、巴盖里安等奇特的姓，以弥补第一位艺术家模糊不清的手法。最后．看到的画面既模糊不清，又十分真实，一边是透纳的黄昏画，另一边则是地铁线路图，因此展现了两种不同的氛围，也形成了莫迪亚诺相当迷人的文体风格。\\n\\n在莫迪亚诺的小说中，起点总是一件十分确切并非虚构的事，是一个细节，一个场景，即现实中确实发生过的事。然后，作者把现实的这些碎片和它们可能会有的结果混杂在一起。这样就成了一种虚构作品《地平线》也是这样产生的：最初的场景是作者看到一个人在另一人下班时等他出来。在书中则是博斯曼斯在玛格丽特下班时来接她。故事的情节并不重要，不如说是来自某个被淹没的大地的呼叫。但有些片断也确实像惊险小说那样扣人心弦，如玛格丽特在洛桑躲避布亚瓦尔的追逐，她在普特雷尔被捕后仓皇出逃等。', metadata={'id': 'doc:notiondb:d082e1b70b9f418abc4e0a57ec1d4734', 'author': '【法】帕特里克·莫迪亚诺', 'name': '地平线 L’horizon 【法】帕特里克·莫迪亚诺', 'source': '读书笔记（文学）', 'tags': '小说', 'date_start': '20150813', 'date_end': None}),\n",
       " Document(page_content='P7\\n从坡道走下来的，原来是一个年轻人。他前后挑着一担粪桶，头缠一条肮脏的手巾，有一张漂亮的红润的脸，和一双炯炯有神的眼，他迈着稳重的脚步从坡道上走了下来。他是个清厕夫——掏大粪的人。年轻人脚蹬胶底布袜子，身穿\\n藏青色紧腿裤\\n。五岁的我，以异常的目光看了看这个姿影。它的意义还不明确，然而这是一种力量的最先的启示、是一种阴暗的不可思议的呼声在召唤着我。第一次显现在清厕夫身影上，是具有寓意的。因为粪尿是大地的象征。召唤我的东西，无疑是伊耶那美命神的带有恶意的爱。\\n我预感到这世上存在一种火辣辣的刺痛似的欲望。我一边抬头仰望着肮脏的小伙子的身影，一边被一种“\\n我想成为他\\n”的欲望、“\\n但愿我就是他\\n”的欲望，紧紧地纠缠着。让人很明显地想到这种欲望有两个重点：一个重点是他的\\n藏青色紧腿裤\\n，另一个重点是他的职业。藏青色紧腿裤把他的下半身的轮廓清楚地勾勒了出来。它使我联想起仿佛有一种东西在优美地活动着，正在向我走近过来。我对这条紧腿裤竟产生一股无可名状的倾倒。究竟为什么，我也不明白。\\n他的职业——这时候，我刚开始懂事，就像其他孩子向往长大当陆军大将的心态一样，我的脑海里就浮现出“想当清厕夫”的憧憬。憧憬的原因可以归咎那条藏青色的紧腿裤，但绝不仅仅在此。这主题本身在我的内心里不断强化，发展，让人看到了一种特异的展现。\\n之所以如此，是因为我对他的职业感受到一种对于尖锐的悲哀、彻身透骨的悲哀的憧憬似的东西。一种极其感觉意义上的“悲剧式的东西”。从他的职业产生一种“挺身”的感觉、一种草率的感觉、一种对危险亲近的感觉，以及虚无和活力惊人混合的感觉。\\n这些感觉洋溢出来，向五岁的我逼将过来，把我俘虏了。也许我误解了清厕夫这种职业。也许我把从别人那里听来的别的什么职业，以他的服装误认为他的职业，硬把它纳入他的职业里，否则就无法加以解释。\\n为什么呢？因为同这种情绪一样的主题，不久就转移到花车的司机和地铁检票员的身上，他们强烈地使我感受到一种我所不了解的、可以说是我永远从那里被排除在外的“悲剧性的生活”。特别是地铁剪票员的情况，当时地铁内弥漫着橡胶般的、薄荷般的气味，与他的绿色制服胸前的成排金扣互相结合，很容易促使我联想起“悲剧性的东西”来。\\n\\n\\nP21\\n渐渐隐约地传来的打夯歌的悲调，贯穿这无序的节日的嘈杂，告知这种表面的无谓的纷扰真正的主题。\\n它仿佛在倾诉人和永恒的极其卑俗的交会，只有通过某种虔诚的乱伦才能成就的交会的悲伤。\\n不觉间，难以分解而纠缠在一起的声音的综合体，已经可以分辨出前驱锡杖的金属声、大鼓低沉的咚咚声，还有抬神舆手们杂乱的吆喝声。我心潮澎湃，喘不过气来，几乎站不住了（从这时候起，\\n强烈的期待与其说是喜悦，不如说是痛苦\\n）。手执锡杖的神官戴着狐狸面具。这种神秘野兽的金色目光，死死地盯视着我从我身边走过，活像要把我吸引住似的。不觉间，我感到自己抓住了身旁的家人的衣服下摆，摆好架势，等待机会从眼前的游行队伍所给予我的近乎恐怖的欢悦中逃脱出来。从这时候起，我对待人生就是采取这样的态度。归根结蒂，只有从过分期待的东西、事前过分修饰的东西中逃脱出来，否则别无他途。\\n片刻后，扛着系上稻草绳的香资箱的壮丁们通过了。乘在神舆上的孩子们欢欣雀跃地通过了。黑金色的庄严的大神舆走近过来了。大神舆通过之前，从远处就可以看见它顶上的金凤凰，恍如荡漾在那里这里的波浪间的鸟，随着众人的呐喊而令人目眩地移动着。\\n目睹这般情景，给我们带来一种灿烂夺目的不安。唯有那神舆的周围，人群拥挤，处在一种充满热带空气似的有毒的无风状态。看来它是一种带有恶意的怠惰。\\n神舆在小伙子们裸露的肩膀上，猛烈地摇晃着。红白相间的粗稻草绳、黑金两色的围栏、菱形饰章和紧闭的泥金门里首，有一漆黑的四尺见方的空间，在万里无云的初夏的正午，不断上下左右摇晃、跳跃着的正四方形的空荡的夜公然君临了。\\n神舆来到了我们的面前。一律身穿夏季单衣、露出大部分肌肤的小伙子，以恍如神舆本身酩酊大醉似的动态蜿蜒行进。他们的腿脚不听使唤，他们的眼睛似乎不是瞧着地面上。\\xa0一个小伙子手持大团扇，一边绕着人群的四周，一边高声呐喊，进行鼓动。有时神舆摇摇晃晃地倾斜了。于是人们又发出疯狂般的吆喝声，重新把神舆抬正了。\\n这时候，不知家里的大人是否直感到乍看是像往常一样迂回游行的这一伙人，仿佛被某种力量所驱动，就凭这种意志，突然间攥住大人的手的我被推向后边，有人喊了一声：“危险！”接着，就不知道是怎么回事了。我被人牵着手，从前院逃走了。然后，从旁门跑回家里来。\\n我不知和谁一起跑上了二楼，走到阳台上，屏住气息，望着正在拥进前院的抬着黑色神舆的一伙人。是什么力量在驱使他们如此冲动呢？我长久思考着这个问题。百思不得其解。几十个年轻人怎么可能不论怎么说也要有计划地企图簇拥进入我家的门内来呢。庭院里的树丛，被他们无情地践踏了。这是真正的节日。我深感厌倦的前院，变成了另一个世界。神舆从那里这里绕了一圈，把灌木全都压毁了。我难以弄清究竟发生什么事了。声音相互中和，简直就像是在那里冻结了的沉默，与毫无意义的轰鸣声交替地传了过来。色彩也是那样，金、红、紫、绿、黄、深蓝和白色在跃动，在沸腾。有时是金色，有时是朱红色，支配着所有地方。\\n然而，唯一鲜明的东西，使我觉醒，使我难受，使我内心充满莫名的苦痛。那就是抬神舆的年轻人那种人世间淫乱的、明目张胆的、陶醉的表情。……\\n\\n\\nP27《圣塞巴斯蒂安》\\n这是一帧收藏在热那亚罗索宫里的雷尼所画的《圣塞巴斯蒂安》。\\n这帧画像以提香式的忧郁的森林和夕空的微暗的远景作为背景，微微倾斜的黑树干就是圣塞巴斯蒂安的刑架。这个英俊青年被赤裸着身体捆绑在那黑树干上，让他的双手高高地交叉着，并将捆绑双手的绳索系在树上。此外看不见绳结。遮掩青年裸体的，只有一块松弛地缠绕在腰身周围的白粗布。\\n连我也能够判断出那是一帧殉教图。但是，文艺复兴时期最后的唯美的折衷派画家所描绘的这副圣塞巴斯蒂安殉教图，毋宁说洋溢着异教的氛围。因为在这堪与安提诺乌斯媲美的肉体桑，没有其他圣者们身上通常所看到的那种布教得艰辛与老朽的痕迹，唯有青春，唯有闪光，唯有美，唯有逸乐。\\n这白皙的无与伦比的裸体被置在薄暮的背景前，熠熠生辉。他身为近卫军而习惯于拉弓挥剑的健壮的臂膀，是在那样合理的角度被抬了起来，他被捆绑的手腕恰好交叉在他头发的正上方。他的脸，微向上仰。望着苍穹荣光的眼睛，深沉而安详地睁大着。无论是挺起的胸膛，紧缩的腹部，还是微微扭曲的身子的腰部周围，都\\n飘逸出一种不是痛苦，而是音乐般的倦怠的逸乐的震颤声。\\n要不是箭头深深射进他的左腋窝和右侧腹的话，他这副模样就像罗马的运动健将，凭依在薄暮的庭院树旁休息，已恢复疲劳的样子。\\n箭头深深地扎进他的紧缩而结实的、四溢香气的、青春的肉体里，欲图以无上的痛苦和欢悦的火焰，从内部燃烧他的肉体。但画家没有画流血，也没有像其他塞巴斯蒂安图那样画无数的箭头，只画了两支箭落在他那大理石般的肌肤上，宛如平静而端丽的枝影投落在石阶上一样。\\n却说所有上述的判断和观察，都是在后来产生的。\\n我看到那帧画的一刹那，我整个存在被一种异教式的欣喜所震撼。我的血液在奔腾，我的器官在浮现出怒色。巨大的、行将胀裂的我的这一部分，前所未有地激烈地等待着我的使用，责怪我的无知，在愤怒地喘息。我的手不知不觉地开始了不能告诉任何人的动作。我感到有一种既阴暗又辉煌的东西，从我的内部迅猛地攻了上来。就在这一瞬间，这种东西伴随着一阵令人晕眩的酩酊醉意迸发了出来。……\\n\\nP30 《圣塞巴斯蒂安》散文诗\\n有一回，我透过教堂的窗口，发现一棵在风中摇曳的不太高大的树。望着望着，我心潮澎湃起来。这是一棵令人震惊的美丽的树\\n。它在草坪上构筑起带圆状的端正的三角形，左右对称地伸展着无数的枝丫，活像一具烛台，支撑着他的沉甸甸的绿。\\n在绿之下，可以窥见纹丝不动的树干，恍若一座发暗的黑檀木台座。其造型完美而精致，然而却不失“自然”的天然优雅的气氛。\\n这棵树本身仿佛就是它自己的创造者，保持明朗的沉默在挺立着。它又的确是一部作品，而且大概是一部音乐作品，是德国乐师为室内乐而创作的作品。这音乐可以称为圣乐的宗教式宁静的逸乐，听起来充满庄严肃穆和眷恋之情，就像葛丝编织的壁挂图案一样。\\n因此，树形和音乐的类似，对我来说具有某种的意义，这两者结合，变成更加强烈而深沉的东西袭击我的时候，这种难以言喻的奇妙的感动，至少不是抒情的，而是类似宗教与音乐之间的联系所看到的那种昏暗的令人陶醉的东西。即使如此，也不足为奇。“不正是这棵树吗？”——我突然暗自问道。\\n“年轻的圣者被反剪双手捆绑在树干上，大量神圣的鲜血像雨后树上的雨滴，滴落在树干上。他粗暴的摩擦折腾在临终的痛苦中熊熊燃烧的年轻肉体（这大概是地面上所有快乐和苦恼的最后证据）都不正是在这罗马的树旁吗？”\\n据殉教史记载的传说，那位戴克里先登基后数年间，梦见犹如无法阻拦鸟的飞翔的无缝的权力时，就想起昔日曾经受阿德里皇帝宠爱的闻名遐迩的近卫军长官的眼神，那是兼备东方奴隶的优美躯体和大海一般无情的叛逆者的眼神。这位近卫军长官因侍奉严禁之神而被问罪，遭到了逮捕。他英俊而傲慢。他的头盔上插着一朵镇上的姑娘每天早晨送来的洁白的百合花。在剧烈的练兵之后休息时，这百合花沿着他浓密的头发流向，优雅的低垂着，这种情景，就好像白天鹅的颈。\\n没有一个人知道他在什么地方出生，从什么地方来。但人们都有预感。他们预感到这个拥有奴隶的躯体和王子的模样的年轻人，是作为已故者而来到这里的。\\n预感到这个恩底弥昂就是牧羊人。预感到它是被选来到这个比任何牧场都更绿韵悠悠的牧场上的牧人。\\n还有好几个姑娘确信，他是从海里来的。 因为在他的胸膛上，可以听到海涛声。因为在他的眼睛里，有生于海边又不得不离开海边的人的瞳眸深处浮现出来的，大海赋予的神秘而又永不消失的水平线。还因为他的叹气像仲夏的海风那样热，带有似被海浪冲上岸的海草气味。\\n塞巴斯蒂昂——年轻的近卫军长官——所显示的美，难道不是被杀害的美吗？五感由沾上罗马血潮的肌肉美味和震动筋骨的美酒香醇培育起来的，健壮的妇女们，不是早已察觉到他自身尚未知晓的可咒命运而才爱他的吗？她们窥见他的白皙的肌肉的内侧，欲图瞄准不远处肌肉被撕裂时从缝隙迸发出来的血潮，比平常的血潮更加汹涌地迅速地向四处流淌。她们怎么可能听不见这种血潮的强烈希望呢？\\n他并非薄命，绝非薄命。他本是最傲慢可咒的人，也可以说是个显赫的人。\\n譬如，就是在甜美的接吻之际，他的眉宇间不知多少回掠过了生活中的死苦。\\n他本人也隐约预感到，等待着他的，就只是殉教了。将他从凡俗中分隔开来的，正是这种悲惨命运的象征。\\n——却说，那天早晨，塞巴斯蒂昂在繁忙的军务追迫下，黎明时分就起床了。他在拂晓做了一个梦——梦见不吉的喜鹊群居在他的胸脯上，搏动的翅膀盖住了他的嘴——这个梦还留在枕边久久不离去。他每天晚上都卧身粗简的被窝，每天晚上都被诱使做海的梦，散发出一股被冲上岸边的海草的芬芳。他站在窗边，一边穿怪讨厌的发出吱吱嘎嘎响的铠甲，一边眺望远方围绕着神殿的森林上空的星座沉落的景象。他眺望这异常壮丽的神殿时，眉宇间浮现出与他最相称的，近乎痛苦的轻蔑表情。他呼了唯一的神的名字，低声念了两三句令人畏惧的圣句。于是，这个细微声竟以数万倍的音量回响。一阵响彻四方的呻吟声，确实从神殿的方向，从一排排把星空隔开的圆柱周围，庄严的传了过来。那里震撼星空，仿佛是某种异样的堆积物崩塌下来的声音。他微笑了。然后，垂下视线，看了看一群姑娘。这些姑娘一个个像平时一样，为了做早祷告。在黎明的昏暗中手举尚在睡眠中的百合花，悄悄地向他的所在走上来……\\n\\n\\nP34\\n“真的，近江这家伙是’过来人’呐。”\\n这是理所当然的。他曾经留级两三次，骨骼出众，脸庞的轮廓也出众，洋溢着一种特权的青春气息。他无故轻蔑的天性是高雅的。在他看来，没有任何一件事是不值得轻蔑的。优秀生因为是优秀生，教师因为是教师，警察因为是警察，大学生因为是大学生，公司职员因为是公司职员，遭他用轻蔑的眼光来评定和嘲笑也是无可奈何的。\\n\\n\\nP39\\n我走过科学教室后面的背阴处，便来到了宽阔的体育场前面的高台上。三百米的椭圆形跑道和许多绕跑道起伏的场地，都毫无区别地被熠熠生辉的雪所包围。运动场的一个角落上，拔地屹立着的两棵紧挨着的巨榉树，伸展着它们那朝阳映照下的长长的影子，给雪景增添了某种意义，\\n似乎是某种伟大的非侵犯不可的明朗的谬误的意义。\\n巨树以塑料般的精致，高耸在冬日的蓝天、地面的雪的反光和在侧面的朝阳之间。金沙般的雪花，偶尔从枯萎的树梢和树干的分叉落了下来。并排在体育场那边的一栋栋少年学生宿舍，以及与之相连的杂木林，一动也不动地还在沉睡中，寂静得甚至连微弱的声音也会激起辽阔的回响。\\n面对这派展现在眼前的令人目眩的景象，我瞬间仿佛什么也没有看见。可以说，雪景原来是一片新鲜的废墟。只有在古代的废墟上才可能有的无边无际的光和辉煌，如今降临在这虚假的丧失之上。\\n\\n\\nP44\\n——可是，对我来说，这种可恶的嗜好（注：对力量、充溢的血的印象、无知、粗野的手势、粗豪的语言、丝毫未受理智腐蚀的肌肉所具备的的野蛮的忧郁），从一开始就已经在道理上包含着不可能。大概再没有比肉体的冲动更有道理的东西了。透过理智的理解一开始出现，我的欲望就马上衰颓。连被对方找出的仅有的理智，也会强迫我作出理性的价值判断。在像爱这样的相互作用上，对对方的要求，理应同时也是对自己的要求。因此希望对方无知的念头，即使暂时也罢，也是要求我绝对的“对理性谋反”。而这无论如何是不可能的。不论什么时候，我都要警惕，不要跟未被理智侵犯过的肉体的所有者，即赌徒、船夫、士兵、渔夫等交谈，并且只能以热烈的冷淡，远远离开他们，仔细凝望他们。也许只有语言不通的热带未开垦地是适宜我居住的地方。如此看来，对未开垦地沸腾般激烈的夏天的憧憬，早在幼年时代就存在于我的心底了……\\n\\n\\nP50\\n初夏的一天，可以说像是夏天做服装样板的一天，又像是夏天的舞台排练的一天。为保证真正的夏天到来的时候万无一失，夏天的先驱只花一天的时间来检查人们的衣柜。\\n\\n\\nP52\\n“是做引体向上吗？”\\n他很有自信地带着生硬的口吻询问了老师一句。\\n“唔，对。”\\n于是，近江带着\\n一副体格健壮者往往表现出来的那种傲慢而懒散的模样\\n，慢腾腾地把手伸向沙地。他用下面的湿沙抹满了手掌。尔后站起来，双掌使劲互相摩擦了几下，便把视线投在头上的单杠上。\\n他的目光闪现出一种渎神者的决心，将瞬间投影在瞳眸里的五月的云朵和蓝天，包藏在轻蔑的冰凉里。\\n他纵身一跃，两只很适合刺上锚形文身的胳膊，立即把他的躯体从单杠上垂吊下来。\\n“嚄！”\\n同学们的赞叹声深沉地飘荡着。谁心中都明白，这并非对他力气大的赞叹。这是对青春、对生、对优越的赞叹。他裸露的腋窝下所看到的丰饶的毛，使他们大吃一惊。\\n它长得如此浓密，甚至令人感到似乎没有必要。\\n可以说，少年们大概都是第一次看到这样茂密的夏季草丛似的腋毛。近江的深深凹陷的腋窝长满了腋毛，连胸脯的两侧都是毛茸茸的，就\\n宛如夏天的杂草把庭院全覆盖住尚嫌不够，还要繁生到石阶上似的。\\n这两处的黑色草丛，在阳光的沐浴下，闪闪烁烁。显出四周的皮肤意外的白，犹如白色的沙地，透着亮的。\\n他的胳膊坚实隆起的肌肉，他的肩膀的肌肉，就像夏天的云朵，腋窝下的草丛被笼罩在暗影中看不见了，胸脯高高挺起，同单杠互相摩擦，微妙地颤抖起来。\\n他这样反复地做了好几个引体向上的动作。\\n生命力，唯有无益的大量的生命力才把少年们镇服了。是生命中过度的感受、暴力性的、简直只有为了生命本身才能说明的无目的感受、这种充沛的不愉快的冷漠，压倒了他们。一个生命在近江本人没有察觉的情况下悄悄地潜入了他的肉体，占领了他，突破了他，从他那里洋溢出来，企图一有机会就凌驾于他。在这一点上，生命这种东西颇似疾病。他那被粗野的生命腐蚀了的肉体，只为了不怕传染的疯狂般的献身，才被置于这个人世间。在害怕传染的人的眼里，他的肉体自然是作为一种责备映现出来的……少年们畏缩地向后退了。\\n\\n\\nP90\\n这样，等于在战争最激烈的时候给我们放了一个月的假，无所事事。我们就像是得到了潮湿的焰火。然而，与其得到一口袋容易用上的干面包，不如得到这种\\n潮湿的焰火\\n的礼物让我更高兴。因为它确实像大学赠给的呆笨的礼物——仅就对这个时代无甚好处来说，这也是件了不起的礼物。\\n\\n\\nP91\\n早晨的天气还寒冷。近几天来未听过警报的笛声。这期间，空气越来越清新，纤细地铺满了眼看就要崩溃的兆头。大气恍如一弹就会发出高雅声音的琴弦。可以说，让人感到再过几个瞬间就将达到音乐境界的、充满丰富的空虚的静寂。就连投射到阒无人影的月台上的冷淡的日光，也震颤着一种音乐的预感似的东西。\\n\\n\\nP114\\n花显得出奇的娇媚。哪儿也没有映衬着花的红白帷幕、茶馆的热闹、赏花的群众、卖气球的卖风车的小贩，所以在常绿树的空隙纵情怒放的樱花，令人感到仿佛是看到了花的裸体。自然的无偿奉献、自然的无益奢侈，还从来不曾美得像今年这个春天那样出奇。难道这不正是大自然再度征服大地吗？我不由得产生了这种不快的疑惑。可不是吗，今年春天的华丽非同寻常。菜花的黄、嫩草的绿、樱花树干水灵灵的黑、压在树梢上沉闷的亭亭如盖的花，这一切在我的眼里映现出某种带有恶意的色彩的妖艳。\\n这也就是色彩的火灾\\n。\\n\\n\\nP123\\n旅馆——是我所幻想的。这是实现我少年时代以来的幻想。同时，也是我埋头阅读恋爱小说受到的坏影响。如此说来，我对事物的思考方法，有堂吉诃德式的地方。\\n迷恋于阅读骑士小说的人，在堂吉诃德的时代为数众多。但是，要彻底地受到骑士故事的毒害，就非得是一个堂吉诃德不可。我的情况与此别无二致。\\n旅馆、密室、钥匙、窗帘、温和的抵抗、战斗开始的意见一致……正是那时候、正是那时候，才表明我是\\n可能\\n的。犹如天生的灵感，我身上的\\n正常性\\n有可能燃烧起来。我简直像着了魔，脱胎换骨变成了另一个人、另一个真正的男人。正是那时候，我毫无顾忌地拥抱园子，我也能竭尽全力地去爱她。疑惑与不安，已经被拂除殆尽，我可以由衷地说“我爱你”了。从这天起，我甚至可以在空袭的大街上大声高呼“她就是我的情人”！\\n在幻想式的性格里，会滋长对精神作用的微妙的不信任感，它往往会导向梦想（注：这个梦想是动词）这种违背人伦的行为。梦想犹如人们所认为的那样，不是精神的作用。毋宁说，它是精神上的逃避。\\n——但是旅馆的梦，作为\\n前提条件\\n未能实现。园子再次给我写信说，结果哪家旅馆都租不到了，你还是住在我家吧。我回信表示了同意。一种似是绝望的安心感，占据了我。我再怎么样也无法把这种安心曲解为绝望。\\n\\n六月十二日\\n我启程了。海军工厂方面，全体人员的士气渐渐消沉。若要请假，任何借口都是可以的。\\n火车很脏，而且空空荡荡。不知怎的，对战争期间火车的回忆（除了那次愉快的一例意外），都是这种凄惨的情状。这回我也像孩子似的受到凄惨的固定观念所折磨，被火车摇得晃晃荡荡。这就是我想直到同园子亲吻之前绝不离开那村庄的理由。\\n然而，这与人同自己的欲望所致的畏缩不前作斗争时充满自豪感的决心是不同的。我觉得自己仿佛是在行窃。仿佛自己是个懦夫，尽管自己不愿意，却在头头强迫下不得不去充当强盗。这种被别人爱着的幸福感，刺痛了我的良心。也许我寻求的，是更具有决定性的不幸吧。\\n\\n\\nP127\\n两棵白桦树恍如一对心地善良的姐妹，把它们的身影投在斜坡上。\\n\\n\\nP131\\n园子！园子！列车每摇晃一次，她的名字就在我的心灵上浮现一次。这个名字像是一个难以形容的神秘的称呼。园子！园子！每重复这个名字一次，我的心就被撞击一次。犹如惩罚似的愈发增加了剧烈的疲劳。纵令我想对自己说明这种透明痛苦的性质，但也是个找不到类似例子的难解的问题。这种痛苦同人类应有的感情轨迹相距甚远，所以在我来说，连把它当做痛苦来感受也是困难的。打个比方来说，这种痛苦，就像某个晴朗的中午，一个在等待鸣午炮的人已过时间仍未见午炮鸣响，欲图在蔚蓝的天空寻觅午炮的沉默一样的痛苦。这是可怕的困惑。因为全世界只有他一个知道午炮没有\\n在正午时\\n分鸣响。\\n\\n\\nP134\\n我认为不可能的事终于发生了。我没有预料到我和那家子人对战争的感受方法和思考方法竟然存在如此巨大的差异。我才二十一岁，还是个学生，去飞机工厂做工，又在绵绵的战争中成长，我将战争的力量想的过分传奇了。即使战争如此激烈，但在战争的悲惨中，人类行为的磁针依然是准确无误地指着一个方向。就说自己吧，迄今自己在恋爱，可为什么竟没有意识到呢？我浮现出奇怪的轻蔑的一笑，又将信重新读了一遍。', metadata={'id': 'doc:notiondb:9c96349fee7a47b5a8af0367ba829256', 'author': '【日】三岛由纪夫', 'name': '假面自白 【日】三岛由纪夫', 'source': '读书笔记（文学）', 'tags': '小说', 'date_start': '20160324', 'date_end': None})]"
      ]
     },
     "execution_count": 19,
     "metadata": {},
     "output_type": "execute_result"
    }
   ],
   "source": [
    "%%time \n",
    "\n",
    "import langchain\n",
    "langchain.debug = True\n",
    "\n",
    "retriever.invoke('道连是哪本小说中出现的人物？')"
   ]
  },
  {
   "cell_type": "code",
   "execution_count": 20,
   "id": "6e2588d3-e298-4880-b473-604c011ce673",
   "metadata": {
    "scrolled": true
   },
   "outputs": [
    {
     "name": "stderr",
     "output_type": "stream",
     "text": [
      "Llama.generate: prefix-match hit\n"
     ]
    },
    {
     "name": "stdout",
     "output_type": "stream",
     "text": [
      "\u001b[32;1m\u001b[1;3m[chain/start]\u001b[0m \u001b[1m[1:retriever:Retriever > 2:chain:RunnableSequence] Entering Chain run with input:\n",
      "\u001b[0m{\n",
      "  \"query\": \"谁是王尔德？仅从“小说”中找答案。\"\n",
      "}\n",
      "\u001b[32;1m\u001b[1;3m[chain/start]\u001b[0m \u001b[1m[1:retriever:Retriever > 2:chain:RunnableSequence > 3:prompt:FewShotPromptTemplate] Entering Prompt run with input:\n",
      "\u001b[0m{\n",
      "  \"query\": \"谁是王尔德？仅从“小说”中找答案。\"\n",
      "}\n",
      "\u001b[36;1m\u001b[1;3m[chain/end]\u001b[0m \u001b[1m[1:retriever:Retriever > 2:chain:RunnableSequence > 3:prompt:FewShotPromptTemplate] [0ms] Exiting Prompt run with output:\n",
      "\u001b[0m{\n",
      "  \"lc\": 1,\n",
      "  \"type\": \"constructor\",\n",
      "  \"id\": [\n",
      "    \"langchain\",\n",
      "    \"prompts\",\n",
      "    \"base\",\n",
      "    \"StringPromptValue\"\n",
      "  ],\n",
      "  \"kwargs\": {\n",
      "    \"text\": \"Your goal is to structure the user's query to match the request schema provided below.\\n\\n\\n\\n<< Structured Request Schema >>\\n\\nWhen responding use a markdown code snippet with a JSON object formatted in the following schema:\\n\\n\\n\\n```json\\n\\n{\\n\\n    \\\"query\\\": string \\\\ text string to compare to document contents\\n\\n    \\\"filter\\\": string \\\\ logical condition statement for filtering documents\\n\\n}\\n\\n```\\n\\n\\n\\nThe query string should contain only text that is expected to match the contents of documents. Any conditions in the filter should not be mentioned in the query as well.\\n\\n\\n\\nMake sure that you only use the comparators and logical operators listed above and no others.\\n\\nMake sure that filters only use the attributed names with its function names if there are functions applied on them.\\n\\nMake sure that filters only use format `YYYYMMDD` when handling date data typed values.\\n\\nMake sure that filters take into account the descriptions of attributes and only make comparisons that are feasible given the type of data being stored.\\n\\nMake sure that filters are only used as needed. If there are no filters that should be applied return \\\"NO_FILTER\\\" for the filter value.\\n\\nMake sure that filters only refer to attributes that exist in the data source. Available attributes: ['content', 'date_start', 'author', 'id', 'tags', 'name', 'source', 'date_end']. Don't make up other attributes.\\n\\n\\n\\n<<Data Source>>\\n\\n```json\\n\\n{\\n    \\\"content\\\": \\\"文章\\\",\\n    \\\"attributes\\\": {\\n        \\\"author\\\": {\\n            \\\"description\\\": \\\"本篇文章的作者\\\",\\n            \\\"type\\\": \\\"string\\\"\\n        },\\n        \\\"date_start\\\": {\\n            \\\"description\\\": \\\"文章被创建的时间，格式是YYYYMMDD\\\",\\n            \\\"type\\\": \\\"string\\\"\\n        },\\n        \\\"date_end\\\": {\\n            \\\"description\\\": \\\"文章被完成的时间，格式是YYYYMMDD\\\",\\n            \\\"type\\\": \\\"string\\\"\\n        },\\n        \\\"id\\\": {\\n            \\\"description\\\": \\\"文章的id\\\",\\n            \\\"type\\\": \\\"string\\\"\\n        },\\n        \\\"name\\\": {\\n            \\\"description\\\": \\\"文章的名字\\\",\\n            \\\"type\\\": \\\"string\\\"\\n        },\\n        \\\"source\\\": {\\n            \\\"description\\\": \\\"文章的来源，这里的文章取自若干不同数据库\\\",\\n            \\\"type\\\": \\\"string\\\"\\n        },\\n        \\\"tags\\\": {\\n            \\\"description\\\": \\\"文章的标签，可能代表它的风格、题材、来源，或者系列\\\",\\n            \\\"type\\\": \\\"string\\\"\\n        }\\n    }\\n}\\n\\n```\\n\\n\\n<< Example 1. >>\\nUser Query:\\n谁是王尔德？仅从“小说”中找答案。\\n\\nStructured Request:\\n```json\\n{\\n    \\\"query\\\": \\\"谁是王尔德？\\\",\\n    \\\"filter\\\": \\\"or(like(\\\\\\\"source\\\\\\\", \\\\\\\"小说\\\\\\\"), like(\\\\\\\"tags\\\\\\\", \\\\\\\"小说\\\\\\\"), like(\\\\\\\"name\\\\\\\", \\\\\\\"小说\\\\\\\"))\\\"\\n}\\n```\\n\\n\\n<< Example 2. >>\\nUser Query:\\n请从三岛由纪夫的小说找到下文相关片段：“我们之所以突然变得残暴”的后面是什么？\\n\\nStructured Request:\\n```json\\n{\\n    \\\"query\\\": \\\"我们之所以突然变得残暴\\\",\\n    \\\"filter\\\": \\\"or(like(\\\\\\\"source\\\\\\\", \\\\\\\"小说\\\\\\\"),  like(\\\\\\\"tags\\\\\\\", \\\\\\\"小说\\\\\\\"), like(\\\\\\\"name\\\\\\\", \\\\\\\"三岛由纪夫\\\\\\\"), like(\\\\\\\"author\\\\\\\", \\\\\\\"三岛由纪夫\\\\\\\"))\\\"\\n}\\n```\\n\\n\\n<< Example 3. >>\\nUser Query:\\n《天使与昆虫》是哪位作家的作品？\\n\\nStructured Request:\\n```json\\n{\\n    \\\"query\\\": \\\"天使与昆虫\\\",\\n    \\\"filter\\\": \\\"or(like(\\\\\\\"source\\\\\\\", \\\\\\\"天使与昆虫\\\\\\\"), like(\\\\\\\"tags\\\\\\\", \\\\\\\"天使与昆虫\\\\\\\"), like(\\\\\\\"name\\\\\\\", \\\\\\\"天使与昆虫\\\\\\\"))\\\"\\n}\\n```\\n\\n\\n<< Example 4. >>\\nUser Query:\\n道连是哪本小说中出现的人物？\\n\\nStructured Request:\\n```json\\n{\\n    \\\"query\\\": \\\"道连\\\",\\n    \\\"filter\\\": \\\"or(like(\\\\\\\"source\\\\\\\", \\\\\\\"小说\\\\\\\"), like(\\\\\\\"tags\\\\\\\", \\\\\\\"小说\\\\\\\"), like(\\\\\\\"name\\\\\\\", \\\\\\\"小说\\\\\\\"))\\\"\\n}\\n```\\n\\n\\n<< Example 5. >>\\nUser Query:\\n本多是王尔德笔下的人物吗？\\n\\nStructured Request:\\n```json\\n{\\n    \\\"query\\\": \\\"本多\\\",\\n    \\\"filter\\\": \\\"or(like(\\\\\\\"source\\\\\\\", \\\\\\\"王尔德\\\\\\\"), like(\\\\\\\"tags\\\\\\\", \\\\\\\"王尔德\\\\\\\")， like(\\\\\\\"name\\\\\\\", \\\\\\\"王尔德\\\\\\\"), like(\\\\\\\"author\\\\\\\", \\\\\\\"王尔德\\\\\\\"))\\\"\\n}\\n```\\n\\n\\n<< Example 6. >>\\nUser Query:\\n我在2019年到2022年间写过多少游记？\\n\\nStructured Request:\\n```json\\n{\\n    \\\"query\\\": \\\"游记\\\",\\n    \\\"filter\\\": \\\"and(eq(\\\\\\\"source\\\\\\\", \\\\\\\"写作\\\\\\\"), gt(\\\\\\\"date_start\\\\\\\", 20190101), lt(\\\\\\\"date_start\\\\\\\", 20221231))\\\"\\n}\\n```\\n\\n\\n<< Example 7. >>\\nUser Query:\\n美国有多少个州？\\n\\nStructured Request:\\n```json\\n{\\n    \\\"query\\\": \\\"\\\",\\n    \\\"filter\\\": \\\"NO_FILTER\\\"\\n}\\n```\\n\\n\\n<< Example 8. >>\\nUser Query:\\n谁是王尔德？仅从“小说”中找答案。\\n\\nStructured Request:\\n\"\n",
      "  }\n",
      "}\n",
      "\u001b[32;1m\u001b[1;3m[llm/start]\u001b[0m \u001b[1m[1:retriever:Retriever > 2:chain:RunnableSequence > 4:llm:LlamaCpp] Entering LLM run with input:\n",
      "\u001b[0m{\n",
      "  \"prompts\": [\n",
      "    \"Your goal is to structure the user's query to match the request schema provided below.\\n\\n\\n\\n<< Structured Request Schema >>\\n\\nWhen responding use a markdown code snippet with a JSON object formatted in the following schema:\\n\\n\\n\\n```json\\n\\n{\\n\\n    \\\"query\\\": string \\\\ text string to compare to document contents\\n\\n    \\\"filter\\\": string \\\\ logical condition statement for filtering documents\\n\\n}\\n\\n```\\n\\n\\n\\nThe query string should contain only text that is expected to match the contents of documents. Any conditions in the filter should not be mentioned in the query as well.\\n\\n\\n\\nMake sure that you only use the comparators and logical operators listed above and no others.\\n\\nMake sure that filters only use the attributed names with its function names if there are functions applied on them.\\n\\nMake sure that filters only use format `YYYYMMDD` when handling date data typed values.\\n\\nMake sure that filters take into account the descriptions of attributes and only make comparisons that are feasible given the type of data being stored.\\n\\nMake sure that filters are only used as needed. If there are no filters that should be applied return \\\"NO_FILTER\\\" for the filter value.\\n\\nMake sure that filters only refer to attributes that exist in the data source. Available attributes: ['content', 'date_start', 'author', 'id', 'tags', 'name', 'source', 'date_end']. Don't make up other attributes.\\n\\n\\n\\n<<Data Source>>\\n\\n```json\\n\\n{\\n    \\\"content\\\": \\\"文章\\\",\\n    \\\"attributes\\\": {\\n        \\\"author\\\": {\\n            \\\"description\\\": \\\"本篇文章的作者\\\",\\n            \\\"type\\\": \\\"string\\\"\\n        },\\n        \\\"date_start\\\": {\\n            \\\"description\\\": \\\"文章被创建的时间，格式是YYYYMMDD\\\",\\n            \\\"type\\\": \\\"string\\\"\\n        },\\n        \\\"date_end\\\": {\\n            \\\"description\\\": \\\"文章被完成的时间，格式是YYYYMMDD\\\",\\n            \\\"type\\\": \\\"string\\\"\\n        },\\n        \\\"id\\\": {\\n            \\\"description\\\": \\\"文章的id\\\",\\n            \\\"type\\\": \\\"string\\\"\\n        },\\n        \\\"name\\\": {\\n            \\\"description\\\": \\\"文章的名字\\\",\\n            \\\"type\\\": \\\"string\\\"\\n        },\\n        \\\"source\\\": {\\n            \\\"description\\\": \\\"文章的来源，这里的文章取自若干不同数据库\\\",\\n            \\\"type\\\": \\\"string\\\"\\n        },\\n        \\\"tags\\\": {\\n            \\\"description\\\": \\\"文章的标签，可能代表它的风格、题材、来源，或者系列\\\",\\n            \\\"type\\\": \\\"string\\\"\\n        }\\n    }\\n}\\n\\n```\\n\\n\\n<< Example 1. >>\\nUser Query:\\n谁是王尔德？仅从“小说”中找答案。\\n\\nStructured Request:\\n```json\\n{\\n    \\\"query\\\": \\\"谁是王尔德？\\\",\\n    \\\"filter\\\": \\\"or(like(\\\\\\\"source\\\\\\\", \\\\\\\"小说\\\\\\\"), like(\\\\\\\"tags\\\\\\\", \\\\\\\"小说\\\\\\\"), like(\\\\\\\"name\\\\\\\", \\\\\\\"小说\\\\\\\"))\\\"\\n}\\n```\\n\\n\\n<< Example 2. >>\\nUser Query:\\n请从三岛由纪夫的小说找到下文相关片段：“我们之所以突然变得残暴”的后面是什么？\\n\\nStructured Request:\\n```json\\n{\\n    \\\"query\\\": \\\"我们之所以突然变得残暴\\\",\\n    \\\"filter\\\": \\\"or(like(\\\\\\\"source\\\\\\\", \\\\\\\"小说\\\\\\\"),  like(\\\\\\\"tags\\\\\\\", \\\\\\\"小说\\\\\\\"), like(\\\\\\\"name\\\\\\\", \\\\\\\"三岛由纪夫\\\\\\\"), like(\\\\\\\"author\\\\\\\", \\\\\\\"三岛由纪夫\\\\\\\"))\\\"\\n}\\n```\\n\\n\\n<< Example 3. >>\\nUser Query:\\n《天使与昆虫》是哪位作家的作品？\\n\\nStructured Request:\\n```json\\n{\\n    \\\"query\\\": \\\"天使与昆虫\\\",\\n    \\\"filter\\\": \\\"or(like(\\\\\\\"source\\\\\\\", \\\\\\\"天使与昆虫\\\\\\\"), like(\\\\\\\"tags\\\\\\\", \\\\\\\"天使与昆虫\\\\\\\"), like(\\\\\\\"name\\\\\\\", \\\\\\\"天使与昆虫\\\\\\\"))\\\"\\n}\\n```\\n\\n\\n<< Example 4. >>\\nUser Query:\\n道连是哪本小说中出现的人物？\\n\\nStructured Request:\\n```json\\n{\\n    \\\"query\\\": \\\"道连\\\",\\n    \\\"filter\\\": \\\"or(like(\\\\\\\"source\\\\\\\", \\\\\\\"小说\\\\\\\"), like(\\\\\\\"tags\\\\\\\", \\\\\\\"小说\\\\\\\"), like(\\\\\\\"name\\\\\\\", \\\\\\\"小说\\\\\\\"))\\\"\\n}\\n```\\n\\n\\n<< Example 5. >>\\nUser Query:\\n本多是王尔德笔下的人物吗？\\n\\nStructured Request:\\n```json\\n{\\n    \\\"query\\\": \\\"本多\\\",\\n    \\\"filter\\\": \\\"or(like(\\\\\\\"source\\\\\\\", \\\\\\\"王尔德\\\\\\\"), like(\\\\\\\"tags\\\\\\\", \\\\\\\"王尔德\\\\\\\")， like(\\\\\\\"name\\\\\\\", \\\\\\\"王尔德\\\\\\\"), like(\\\\\\\"author\\\\\\\", \\\\\\\"王尔德\\\\\\\"))\\\"\\n}\\n```\\n\\n\\n<< Example 6. >>\\nUser Query:\\n我在2019年到2022年间写过多少游记？\\n\\nStructured Request:\\n```json\\n{\\n    \\\"query\\\": \\\"游记\\\",\\n    \\\"filter\\\": \\\"and(eq(\\\\\\\"source\\\\\\\", \\\\\\\"写作\\\\\\\"), gt(\\\\\\\"date_start\\\\\\\", 20190101), lt(\\\\\\\"date_start\\\\\\\", 20221231))\\\"\\n}\\n```\\n\\n\\n<< Example 7. >>\\nUser Query:\\n美国有多少个州？\\n\\nStructured Request:\\n```json\\n{\\n    \\\"query\\\": \\\"\\\",\\n    \\\"filter\\\": \\\"NO_FILTER\\\"\\n}\\n```\\n\\n\\n<< Example 8. >>\\nUser Query:\\n谁是王尔德？仅从“小说”中找答案。\\n\\nStructured Request:\"\n",
      "  ]\n",
      "}\n"
     ]
    },
    {
     "name": "stderr",
     "output_type": "stream",
     "text": [
      "\n",
      "llama_print_timings:        load time =    6683.99 ms\n",
      "llama_print_timings:      sample time =      93.84 ms /   256 runs   (    0.37 ms per token,  2728.11 tokens per second)\n",
      "llama_print_timings: prompt eval time =     942.52 ms /    19 tokens (   49.61 ms per token,    20.16 tokens per second)\n",
      "llama_print_timings:        eval time =   20549.64 ms /   255 runs   (   80.59 ms per token,    12.41 tokens per second)\n",
      "llama_print_timings:       total time =   23202.09 ms /   274 tokens\n",
      "Metadata key date_end not found in metadata. Setting to None. \n",
      "Metadata fields defined for this instance: ['author', 'id', 'name', 'source', 'tags', 'date_start', 'date_end']\n",
      "Metadata key date_end not found in metadata. Setting to None. \n",
      "Metadata fields defined for this instance: ['author', 'id', 'name', 'source', 'tags', 'date_start', 'date_end']\n",
      "Metadata key date_end not found in metadata. Setting to None. \n",
      "Metadata fields defined for this instance: ['author', 'id', 'name', 'source', 'tags', 'date_start', 'date_end']\n",
      "Metadata key date_end not found in metadata. Setting to None. \n",
      "Metadata fields defined for this instance: ['author', 'id', 'name', 'source', 'tags', 'date_start', 'date_end']\n"
     ]
    },
    {
     "name": "stdout",
     "output_type": "stream",
     "text": [
      "\u001b[36;1m\u001b[1;3m[llm/end]\u001b[0m \u001b[1m[1:retriever:Retriever > 2:chain:RunnableSequence > 4:llm:LlamaCpp] [23.21s] Exiting LLM run with output:\n",
      "\u001b[0m{\n",
      "  \"generations\": [\n",
      "    [\n",
      "      {\n",
      "        \"text\": \"```json\\n{  \\n    \\\"query\\\": \\\"谁是王尔德？\\\",  \\n    \\\"filter\\\": \\\"or(like(\\\\\\\"source\\\\\\\", \\\\\\\"小说\\\\\\\"), like(\\\\\\\"tags\\\\\\\", \\\\\\\"小说\\\\\\\"), like(\\\\\\\"name\\\\\\\", \\\\\\\"小说\\\\\\\"))\\\"  \\n}\\n```[PAD151645]\\n[PAD151644][PAD151644]\\n[PAD151644]\\n[PAD151644]\\n[PAD151644]\\n[PAD151644]\\n[PAD151644]\\n[PAD151644]\\n[PAD151644]\\n[PAD151644]\\n[PAD151644]\\n[PAD151644]\\n[PAD151644]\\n[PAD151644]\\n[PAD151644]\\n[PAD151644]\\n[PAD151644]\\n[PAD151644]\\n[PAD151644]\\n[PAD151644]\\n[PAD151644]\\n[PAD151644]\\n[PAD151644]\\n[PAD151644]\\n[PAD151644]\\n[PAD151644]\\n[PAD151644]\\n[PAD151644]\\n[PAD151644]\\n[PAD151644]\\n[PAD151644]\\n[PAD151644]\\n[PAD151644]\\n[PAD151644]\\n[PAD151644]\\n[PAD151644]\\n[PAD151644]\\n[PAD151644]\\n[PAD151644]\\n[PAD151644]\\n[PAD151644]\\n[PAD151644]\\n[PAD151644]\\n[PAD151644]\\n[PAD151644]\\n[PAD151644]\\n[PAD151644]\\n[PAD151644]\\n[PAD151644]\\n[PAD151644]\\n[PAD151644]\\n[PAD151644]\\n[PAD151644]\\n[PAD151644]\\n[PAD151644]\\n[PAD151644]\\n[PAD151644]\\n[PAD151644]\\n[PAD151644]\\n[PAD151644]\\n[PAD151644]\\n[PAD151644]\\n[PAD151644]\\n[PAD151644]\\n[PAD151644]\\n[PAD151644]\\n[PAD151644]\\n[PAD151644]\\n[PAD151644]\\n[PAD151644]\\n[PAD151644]\\n[PAD151644]\\n[PAD151644]\\n[PAD151644]\\n[PAD151644]\\n[PAD151644]\\n[PAD151644]\\n[PAD151644]\\n[PAD151644]\\n[PAD151644]\\n[PAD151644]\\n[PAD151644]\\n[PAD151644]\\n[PAD151644]\\n[PAD151644]\\n[PAD151644]\\n[PAD151644]\\n[PAD151644]\\n[PAD151644]\\n[PAD151644]\\n[PAD151644]\\n[PAD151644]\\n[PAD151644]\\n[PAD151644]\\n[PAD151644]\\n[PAD151644]\\n[PAD151644]\\n[PAD151644]\\n[PAD151644]\\n[PAD151644]\\n[PAD151644]\\n\",\n",
      "        \"generation_info\": null,\n",
      "        \"type\": \"Generation\"\n",
      "      }\n",
      "    ]\n",
      "  ],\n",
      "  \"llm_output\": null,\n",
      "  \"run\": null\n",
      "}\n",
      "\u001b[32;1m\u001b[1;3m[chain/start]\u001b[0m \u001b[1m[1:retriever:Retriever > 2:chain:RunnableSequence > 5:parser:StructuredQueryOutputParser] Entering Parser run with input:\n",
      "\u001b[0m{\n",
      "  \"input\": \"```json\\n{  \\n    \\\"query\\\": \\\"谁是王尔德？\\\",  \\n    \\\"filter\\\": \\\"or(like(\\\\\\\"source\\\\\\\", \\\\\\\"小说\\\\\\\"), like(\\\\\\\"tags\\\\\\\", \\\\\\\"小说\\\\\\\"), like(\\\\\\\"name\\\\\\\", \\\\\\\"小说\\\\\\\"))\\\"  \\n}\\n```[PAD151645]\\n[PAD151644][PAD151644]\\n[PAD151644]\\n[PAD151644]\\n[PAD151644]\\n[PAD151644]\\n[PAD151644]\\n[PAD151644]\\n[PAD151644]\\n[PAD151644]\\n[PAD151644]\\n[PAD151644]\\n[PAD151644]\\n[PAD151644]\\n[PAD151644]\\n[PAD151644]\\n[PAD151644]\\n[PAD151644]\\n[PAD151644]\\n[PAD151644]\\n[PAD151644]\\n[PAD151644]\\n[PAD151644]\\n[PAD151644]\\n[PAD151644]\\n[PAD151644]\\n[PAD151644]\\n[PAD151644]\\n[PAD151644]\\n[PAD151644]\\n[PAD151644]\\n[PAD151644]\\n[PAD151644]\\n[PAD151644]\\n[PAD151644]\\n[PAD151644]\\n[PAD151644]\\n[PAD151644]\\n[PAD151644]\\n[PAD151644]\\n[PAD151644]\\n[PAD151644]\\n[PAD151644]\\n[PAD151644]\\n[PAD151644]\\n[PAD151644]\\n[PAD151644]\\n[PAD151644]\\n[PAD151644]\\n[PAD151644]\\n[PAD151644]\\n[PAD151644]\\n[PAD151644]\\n[PAD151644]\\n[PAD151644]\\n[PAD151644]\\n[PAD151644]\\n[PAD151644]\\n[PAD151644]\\n[PAD151644]\\n[PAD151644]\\n[PAD151644]\\n[PAD151644]\\n[PAD151644]\\n[PAD151644]\\n[PAD151644]\\n[PAD151644]\\n[PAD151644]\\n[PAD151644]\\n[PAD151644]\\n[PAD151644]\\n[PAD151644]\\n[PAD151644]\\n[PAD151644]\\n[PAD151644]\\n[PAD151644]\\n[PAD151644]\\n[PAD151644]\\n[PAD151644]\\n[PAD151644]\\n[PAD151644]\\n[PAD151644]\\n[PAD151644]\\n[PAD151644]\\n[PAD151644]\\n[PAD151644]\\n[PAD151644]\\n[PAD151644]\\n[PAD151644]\\n[PAD151644]\\n[PAD151644]\\n[PAD151644]\\n[PAD151644]\\n[PAD151644]\\n[PAD151644]\\n[PAD151644]\\n[PAD151644]\\n[PAD151644]\\n[PAD151644]\\n[PAD151644]\\n[PAD151644]\\n\"\n",
      "}\n",
      "\u001b[36;1m\u001b[1;3m[chain/end]\u001b[0m \u001b[1m[1:retriever:Retriever > 2:chain:RunnableSequence > 5:parser:StructuredQueryOutputParser] [6ms] Exiting Parser run with output:\n",
      "\u001b[0m{\n",
      "  \"lc\": 1,\n",
      "  \"type\": \"not_implemented\",\n",
      "  \"id\": [\n",
      "    \"langchain\",\n",
      "    \"chains\",\n",
      "    \"query_constructor\",\n",
      "    \"ir\",\n",
      "    \"StructuredQuery\"\n",
      "  ],\n",
      "  \"repr\": \"StructuredQuery(query='谁是王尔德？', filter=Operation(operator=<Operator.OR: 'or'>, arguments=[Comparison(comparator=<Comparator.LIKE: 'like'>, attribute='source', value='小说'), Comparison(comparator=<Comparator.LIKE: 'like'>, attribute='tags', value='小说'), Comparison(comparator=<Comparator.LIKE: 'like'>, attribute='name', value='小说')]), limit=None)\"\n",
      "}\n",
      "\u001b[36;1m\u001b[1;3m[chain/end]\u001b[0m \u001b[1m[1:retriever:Retriever > 2:chain:RunnableSequence] [23.22s] Exiting Chain run with output:\n",
      "\u001b[0m[outputs]\n",
      "CPU times: user 1min 33s, sys: 2.43 s, total: 1min 36s\n",
      "Wall time: 23.3 s\n"
     ]
    },
    {
     "data": {
      "text/plain": [
       "[Document(page_content='【作者简介】\\n奥斯卡·王尔德（Oscar Wilde，1854年10月16日—1900年11月30日），出生于爱尔兰都柏林，19世纪英国（准确来讲是爱尔兰，但是当时由英国统治）最伟大的作家与艺术家之一，以其剧作、诗歌、童话和小说闻名，唯美主义代表人物，19世纪80年代美学运动的主力和90年代颓废派运动的先驱。\\n王尔德的文学活动领域十分宽广。他既是诗人（1881年就有他的诗集问世），又写小说、童话（包括《快乐王子》、《石榴之家》、《阿瑟·萨维尔勋爵的罪行》三个集子以及他唯一的长篇小说《道连·葛雷的画像》，以上四种除《快乐王子及其他童话》一种成书于1888年外，其余三种均于1891年出版）。他还写过不少评论和随笔（较重要的有他自己选编的《意图集》以及《社会主义制度下人的灵魂》，均刊行于1891年）。但为他赢得最辉煌成功的要数1892——1895年间先后在伦敦西区舞台上首演的社会讽刺喜剧《温德米尔夫人的扇子》、《一个无足轻重的女人》、《一个理想的丈夫》和《你真的重要》。\\n王尔德总共写过九部戏剧，但另外四部剧作已被遗忘。1895年2月14日，王尔德最后一部、也是他才华机智达到巅峰状态的剧作《认真的重要》在圣詹姆斯剧院首演，观众如潮，盛况空前。两周后，王尔德在阿尔比马尔俱乐部收到昆斯伯里侯爵约翰·道格拉斯留下的名片，上面写着：“致装模作样的好男色者奥斯卡·王尔德”。因为王尔德从1891年开始便与比他小十六岁的阿尔弗雷德·道格拉斯（侯爵之子，当时还在上牛津大学）有不正当关系，而且经常“俪影成双”地出现在伦敦的公共场所并一起旅游，侯爵十分反感。王尔德与年轻男性的同性恋行为遭人物议不自此时始。同年，王尔德以诽谤罪把昆斯伯里侯爵告上法庭，居然向他一贯通过自己的作品和生活方式加以百般嘲弄的维多利亚时代的英国法律和社会求助（两年后，王尔德沉痛地承认自己干了“一生中最可耻、最无法原谅、最可鄙的事 ”）。1895 年4月3日法院开庭审理王尔德诉昆斯伯里侯爵诽谤案（王尔德自幼渴望的倒是能在“女王诉王尔德”的官司中出庭），被告轻而易举地反证原告确系“好男色者”，从而推翻关于诽谤的指控。4月5日，侯爵无罪获释，王尔德反因涉嫌“同其他男子发生有伤风化的肉体关系”被捕后取保候审 。5月25日，伦敦中央刑事法院根据1885年通过的针对男子同性恋的刑法修正案判处王尔德两年劳役刑罚，先后囚于纽盖特、彭顿韦尔和万兹沃斯监狱，11月20日又移至雷丁监狱服满刑期，这位折翅的悖论大师从此一蹶不振。\\n\\n\\n【时代背景】\\n十九世纪末叶，欧洲处于社会大变动的前夜，人心浮动，知识界分化的趋势加剧。在这个被称为“世纪末”的时期，欧洲文艺界一些富有才华的代表人物经历着深刻的思想危机。他们对于自己所属的阶层有相当透彻的了解和颇为强烈的憎恨。为了给自己的创作寻找出路，开辟施展才能的新天地，他们中有些人率先走向唯美主义的殿堂，在文学方面倡导“为艺术的艺术”（Art for Art’s Sake），认为“\\n不是艺术反映生活，而是生活模仿艺术\\n”。王尔德曾经写下这样一段话：“在这动荡和纷乱的时代，在这纷争和绝望的可怕时刻，只有美的无忧的殿堂，可以使人忘却，使人欢乐。我们不去往美的殿堂还能去往何方呢？只能到一部古代意大利异教经典称作citta divana（圣城）的地方去，在那里一个人至少可以暂时摆脱尘世的纷扰与恐怖，也以暂时逃避世俗的选择。”\\n\\n\\n【作品及人物评价】\\n同任何经典作品一样，《画像》也是在其他经典的基础上写出来的。探究其渊源，不难想与魔鬼靡菲斯特的交易，无疑为道连·葛雷表达那个致命的愿望——让画像变老变丑作为自己永葆青春的代价——提供了一份“合同样本”。作为《人间喜剧·哲学研究》系列中影响最大的一部作品，《驴皮记》显然比其他作品与《画像》有更近的亲缘关系。\\n王尔德并不是一个真正随心所欲、完全蔑视礼法的人。他的负罪感一直令他对自己身上堕落的一面觉得如芒刺在背。王尔德自己1894年2月12日在致拉尔夫·佩恩的信中写道：“这本书会造成毒害，或者促成完美，道连·葛雷并不存在……贝泽尔·霍尔渥德是我认为的我个人的写照；亨利勋爵在外界看来就是我；道连是我愿意成为的那类人——可能在别的时代。”在文情斐然的字里行间未必不能发现道德家尖刻审视的目光，甚至在他唯美派或花花公子的面具后面潜伏着一个天生的清教徒也难说。他喜欢他所创造的那个光辉灿烂的世界，但也可以让这个世界随着道连·葛雷临死前极度恐怖的一声惨叫訇然倒塌。说到底，通过《画像》呈现在读者面前的王尔德，首先是一个小说家，而不是哲学家，也不是文化史家，对小说本身也只能从这一角度来评判。即使不用现今比一百年前“开明”得多的尺度加以衡量，《道连·葛雷的画像》也不该被诋为一本不道德的书。\\n\\n\\n“你不懂我的意思，亨利”，画家说。“我当然不像他，这一点我非常清楚。其实我也不愿意像他。你不以为然吗？我对你说的是真话。才貌出众的人多半在劫难逃，这样的劫数好像总是尾随古今帝王的踉跄的脚步。普普通通的人倒更安全些。在这个世界上总是丑人和笨伯最幸运。他们可以舒舒服服地坐在那里看别人表演。纵使他们不知道什么是胜利，至少不必领略失败的滋味。他们的日子本是我们大家应该过的那种日子：安稳太平，无所用心，没有烦恼。他们既不算计别人，也不会遭仇人暗害。你有身份和财产，亨利；我有头脑和才能，且不管它们值得几何；道连·葛雷有美丽的容貌。我们都将为上帝赐给我们的这些东西付出代价，付出可怕的代价。”\\n“我如果非常非常地喜欢谁，我就从来不把他们的名字告诉任何人。这儿有点像把他们部分地出让，我现在变得喜欢秘密行事了，这大概是能够使现代生活在我们心目中变得神秘莫测的唯一办法。哪怕是最平常的事情，只要你把它隐瞒起来，就显得饶有趣味。……（略）这也许是一种愚蠢的习惯，但不知怎么的好像能使一个人的生活平添许多罗曼蒂克的气氛。你大概觉得我这种行为荒唐透顶吧？”\\n“我讨厌你这样谈你的家庭生活，亨利，”贝泽尔·霍尔渥德一面说，一面往通向花园的门那边踱去。“\\n我相信你实际上是个很好的丈夫，不过你硬是以自己的美德为耻辱\\n。你是个怪人。你从来不说正经话，你也从来不做正经的事。\\n你的玩世不恭无非是装腔作势\\n。”\\n“\\n保持本色才是装腔作势，而且是我所知道的最令人讨厌的装腔作势\\n。\\n”亨利勋爵笑着高声说。\\n“……（略）他的容貌向我启示了一种全新的技法，一种全新的风格。我看事物和过去不同了，我对它们的想法也不同了。现在我可以用过去不知道的方式来再现生活。’\\n在理念至上的日子里梦想着形式\\n’，——这是什么人说的？我忘了；但道连·葛雷对我来说正是这样的梦想。……（略）他自己也不知道他在为我们勾勒一个新学派的轮廓，这个学派将具备浪漫精神的全部热情和希腊精神的完美特征。灵魂和肉体的和谐——这是多么了不起啊！\\n我们曾在疯狂的状态中把这两者分离了，发明了庸俗的现实主义和空洞的理想主义\\n。”\\n\\n\\n画家思索了一会儿，然后回答：“他喜欢我，我知道他喜欢我。当然，我对他奉承得很厉害。有些话我明明知道讲了会后悔，可是我觉得向他讲这些话有一种奇妙的乐趣。他对我通常是很亲切的，我们俩坐在画室里海阔天空什么都谈。然而有时候，他麻木不仁得可怕，而且大有以我的痛苦为乐的样子。那时，亨利，我觉得我把自己的整个心灵都给了一个人，\\n这个人却把它当做插在上衣纽孔上的一朵花\\n，当做一件满足虚荣心的装饰品对待，只供夏天一日之用。”\\n“夏天日长，贝泽尔，”亨利勋爵咕哝着。“也许你将比他更早生厌。想起来未免悲哀，但天才无疑要比美耐久些。我们大家拼命想多长点学问，原因就在于此。在激烈的生存竞争中，我们需要有些耐久的东西，所以我们尽把各种垃圾和事实往脑袋里装，妄想保住自己的一席地位。现代的理想人物就是无所不晓的人。而无所不晓的人的头脑很是可怕的。\\n它像一家古董铺子，里面全是古里古怪的玩意儿，到处是灰尘，每一件东西的标价都大大超过本身的价值。\\n不管怎样，我还是认为你将先感到厌倦。总有一天，你看着你的朋友，会觉得他好像不那么匀称，对他的肤色，或者别的什么觉得不中意。你会在心底狠狠地责备他，并且当真地以为他非常对不起你。下次他再来，你就对他十分冷淡了。这将是件很大憾事，然而事所必然。你刚才告诉我的故事的确很罗曼蒂克，可以说是一段艺术的罗曼司，而\\n任何罗曼司最糟糕的后果是叫人变得没有丝毫罗曼蒂克的气息。\\n”\\n“亨利，不要这样说。我活着一天，道连·葛雷就永远是我的主宰。我的感受你是体会不到的。你太多变了。”\\n“啊，我亲爱的贝泽尔，恰恰因为如此，我才能体会你的感受。\\n不变心的人只能体会爱的庸俗的一面，唯有变心的人知道爱的酸辛。\\n”\\n\\n\\n“……（略）但是，我们中间最大胆的人也怕他自己。野蛮时期残害人体的遗风还可悲地反映在人们的自我克制上，这使我们的生活遭到损害。我们正在为这种自我限制受到惩罚。我们竭力压抑的每一种欲望都在我们心中作怪，毒化我们。而肉体一旦犯下罪恶，也就摆脱了作恶的欲念，因为\\n行动是一种净罪的方式\\n。事后留下的只是甜蜜的回忆或悔恨的快感。\\n摆脱诱惑的唯一办法就是向它屈服。\\n”\\n\\n\\n道连·葛雷听着，眼睛睁大，惊讶不迭。一小枝丁香从他手里跌落在铺碎石的地上。一只毛茸茸的蜜蜂飞过来，绕着那枝丁香嗡嗡地转了一阵子。然后它开始爬遍放射形椭圆花球上的每一颗小星。道连异常专心致志地观察着蜜蜂的动静。我们有时也会这样把注意力集中在微不足道的事情上，因为不敢去想真正重要的事情，或者被无法表达的新奇感受搅得心烦，或者某种令人不寒而栗的念头向我们的脑子发动突然袭击，逼迫我们屈服。\\n\\n\\n“是啊，”亨利勋爵感慨地说，“十九世纪的服装可恶至极。色调是那么阴暗、沉闷。\\n现代生活中剩下的唯一真正鲜明的色彩就是罪恶。\\n”\\n\\n\\n【社交俏皮话大全1】\\n道连从桌子的一端向他腼腆地点点头，脸上徐徐泛起高兴的红潮。对面坐着哈里公爵富人，凡是认识她的都喜欢这位心地好、脾气也好的夫人；\\n她的体态丰满，这在当代的历史家笔下会被描写为肥胖\\n，如果其对象不是公爵夫人的话。她右边坐着马斯·柏登爵士，一位激进党议员。\\n他的公开言行紧跟本党的领袖，而在私生活中专去有高明厨师的地方\\n，奉行的是众所周知的明智信条：吃饭跟保守党在一起，思想同自由党一致。坐在哈利公爵夫人左边的是屈莱德里的厄斯金先生，一位相当可爱、颇有教养的老绅士，不过已养成沉默寡言的坏习惯；有一次他向阿加莎夫人解释，他在三十岁以前已经把要说的话都说完了。亨利的邻座是范德勒太太，阿加莎姑妈多年的老朋友，一位十足的女圣人，可是她的打扮粗俗不堪，活像一本装订得非常蹩脚的赞美诗诗集。也算他运气好，范德勒太太的另一边坐着福德尔爵士，一个满腹经纶的庸才，他的秃顶可与内阁大臣在下议院所作的报告内容相媲美。范德勒太太与他交谈时那副一本正经的神态，据福德尔爵士说，是所有真正的好人都烦的一种不可原谅的毛病，而且没有一个人完全摆脱得了。\\n\\n\\n“\\n我同情一切，就是不同情疾苦\\n，”亨利勋爵耸耸肩膀说。“我不能同情疾苦。那实在太丑恶、太可怕、太悲惨。那种赶时髦的同情疾苦有一种非常不健康的味道。人的感情应当倾注在生活的色彩、生活的美、生活的乐趣之中。生活的疮疤少碰为妙。”\\n……（略）\\n那位政治家盯着他问：“那你另有什么能改变局面的高见呢？”\\n亨利勋爵放声大笑。“除了天气，我不打算改变英国的任何事情……（略）”\\n“可是我们肩上的责任是那么重，”范德勒太太鼓起勇气插进来说。\\n“是啊，重极了。”阿加莎夫人附和着。\\n亨利勋爵向厄斯金先生瞧了瞧。“\\n人们把自己看得太了不起了。这是世界的原罪。穴居人如果会笑的话，历史本会是另一种样子的。\\n”\\n\\n\\n“那是在年轻的时候，”她笑道。“要是像我这样的老太婆脸红，可不是好兆。啊，亨利勋爵！希望你告诉我有什么办法恢复青春。”\\n他想了想，然后隔着餐桌眼望着她问道：“公爵夫人，你能不能记起自己年轻时犯过什么大错误？”\\n“恐怕多得很。”\\n“那就重新再犯，”他郑重其事地说。\\n“一个人想恢复青春，只消重演过去干的蠢事就够了。\\n”\\n“多妙的理论！”她惊叹道。“我一定把它变成行动。”\\n……（略）\\n“是的，”亨利勋爵继续说，“这是人生的一大秘密。\\n如今大多数人死于战战兢兢的思想方式，等到发现唯一不后悔的是自己所犯的错误时，一切都太晚了。\\n”\\n\\n\\n他把这个观点作了任意的发挥：既像玩杂耍，又像变戏法；刚刚让它滑过去，随即又把它抓回来；忽而用想象的虹彩把它点缀得五彩缤纷，忽而又给它插上悖论的翅膀任其翱翔。……（略）道连·格雷目不转睛地望着她，像着了魔似的坐在那里，一个又一个微笑在他嘴角互相追逐，颜色转深的眼睛里惊异的神情渐次化为沉思。\\n\\n\\n这是一个奇怪的女人，她的服装永远给人这样的印象：仿佛是在狂怒中设计出来，在暴风雨中穿上身的。她照例热恋着什么人，由于这种爱情始终是单方面的，她的幻想一个也没有破灭。她力图显得新颖别致，然而所达到的只是杂乱无章。她叫维多利亚，她有上教堂的癖好，甚至到了狂热的地步。\\n……（略）\\n等到\\n维多利亚夫人像一只淋了一夜雨的天堂鸟从屋里飞了出去\\n，留下一缕赤素馨花的幽香，亨利勋爵把门关上，然后点上一支烟，在上发上躺下。\\n“道连，千万不要跟一个麦秆色头发的女人结婚，”他抽了几口烟以后说。\\n“为什么，亨利？”\\n“因为她们感情太丰富。”\\n\\n\\n“……（略）但要是我不这样，亲爱的亨利，要是我不进去，我会错过我一生中最了不起的一段罗曼司。我看得出你在笑。你太可恶了！”\\n“我不是在笑，道连，至少不是在笑你。不过你不应当说这是你一生中最了不起的罗曼司。你应当说这是你一生中第一段罗曼司。你将永远被人所爱，你将永远在恋爱中。\\n多情是无所事事者的特权。这是一个国家的有闲阶级的唯一本领。\\n别害怕。等着你去体验的新奇事儿多着呢。这仅仅是开始。”\\n“你把我这个人看得这样浅薄？”道连·葛雷怒冲冲地嚷道。\\n“不，我认为你有深情。”\\n“这怎么讲？”\\n“我的老弟，\\n一生中只恋爱一次的人才真正是浅薄的。\\n他们称作忠诚、坚贞的品质，我认为是习惯的昏睡病或缺乏想象力。\\n情感生活中的忠实就同理性生活中的惯性一样，无非是承认失败。\\n忠实！将来我要对它做一番研究。这种感情包藏着占有欲。\\n我们本来可以扔掉许多东西，如果不怕别人捡去的话。\\n”\\n\\n\\n“道连，你是生活中的任性而快活的人，像你这样的人不会去犯罪。不过你对我的恭维还是使我感到荣幸。现在请你告诉我——请把火柴递给我，好孩子，谢谢！——你跟西碧儿·韦恩现在究竟是怎样的关系？”\\n道连·格雷霍地跳了起来，两腮通红，双目怒睁。“亨利！西碧儿·韦恩是神圣的！”\\n“\\n只有神圣的东西才值得去碰\\n，道连，”亨利勋爵的声调出人意料地稍带几分激昂。“你何必发火呢？我料想她总有一天会属于你的。\\n恋爱中的人总是先欺骗自己，最后欺骗别人。这就是大家所说的罗曼司。\\n”\\n\\n\\n“哦，贝泽尔是个再好不过的人，可我觉得他有那么一点儿迂腐。亨利，自从我和你认识以后，我有这样的感觉。”\\n“老弟，贝泽尔把他身上的全部可爱的气质都放到创作中去了。结果他为生活留下的就只有他的偏见、准则和大道理。我所认识的艺术家中讨人喜欢的都是不成器的。有才气的艺术家只存在于他们的创作中，而他们本人都是索然无味的。\\n一个伟大的诗人，一个真正伟大的诗人，是最没有诗意的人。但是等而下之的诗人却极其讨人喜欢。他们的诗写得愈糟糕，他们的外貌就愈生动。如果一个诗人出版了一本二三流的十四行诗集，此人一定具有不可抗拒的魅力。他把写不出来的诗都在生活中实现了。而另一类诗人却把他们不敢身体力行的意境都写成了诗。\\n”\\n……（略）\\n诚然，很少有人像道连·格雷那样吸引他，但这少年疯狂地热恋着另外一个人，却丝毫没有引起他的不快或妒意。他反而感到高兴。这为他提供了一个更加饶有兴味的研究课题。亨利勋爵一向醉心于自然科学的方法，但是自然科学的一般研究对象在他看来却是乏味的，不足道的。于是他始而开始解剖自己，继而解剖别人。在他心目中唯一值得加以研究的就是人生。与此相比，任何别的东西都毫无价值。确实，你要观察人生在痛苦和欢乐的奇特熔炉中的冶炼过程，不能戴上玻璃面罩，也免不了被硫磺味熏昏头脑，弄得想象中尽是牛鬼蛇神、噩梦凶兆。有些毒物是很难捉摸的，你要了解它们的特性，非得先中毒不可。然而，你得到的回报将是不可估量的！整个世界在你心目中将变得无比奇妙！探明\\n高度严谨的情欲逻辑和涂上感情色彩的理性生活\\n，观察它们何处相遇，何处分离，在哪一点上协调，在哪一点上不谐——真是其乐无穷！……（略）\\n\\n\\n亨利勋爵意识到，是他的话，是那些拥有样的语调说出来的动听的话使得道连·葛雷的灵魂转向那个纯洁的姑娘，使道连拜倒在她的面前。想到这里，亨利勋爵棕玛瑙色的眼睛露出得意的目光。在很大程度是，现在的道连·葛雷是他的创作。是他催熟了这个少年。这是值得一提的。\\n普通人总是等待生活自己向他们展示生活的奥秘。但是对于少数精英中的精英来说，生活的秘密在帷幕揭开之前即已透露。有时候这份功劳应归于艺术，主要是直接诉诸情感和理性的文学。\\n不过艺术的职能间或由某个不简单的人物取而代之，而这个人本身也是一件地地道道的艺术品，因为生活如同诗歌、雕塑、绘画一样有它自己的杰作。\\n是的， 那少年被催熟了。目前正在春天，他已经在收获了。青春的活力和热情正在他身上搏动，但他已开始自觉。观察他的变化是一种享受。凭他那美丽的容颜和灵魂，他称得上一个奇迹。\\n他就像赛会或戏剧中那些色艺双绝的名角，他们的欢乐与我们不相干，但他们的悲哀能激起我们的美感，他们的创伤更像殷红的玫瑰。\\n\\n\\n“我现在什么事情都不表示赞成或不赞成。我不愿对生活采取这种荒唐的态度。\\n我们不是被派到世上来宣扬我们的道德偏见的。我从来不理会庸俗的人们说些什么，我也从来不干预可爱的人们做些什么。\\n……（略）你知道我不是婚姻的捍卫者。\\n结婚的真正弊端是使人变得无私。而不自私的人是平淡无奇和缺乏个性的。不过，有些人的气质在婚后会变得更加复杂。他们在保留自我中心的同时还添上许多别的’我’。他们不得不过着双重或更多重的生活。他们会具有更高级的构造。\\n而我认为这正是人生的目的所在。……（略）”\\n\\n\\n“……（略）演出结束后，我到后台去和她说话。我们一起坐在那里，忽然她眼睛里出现一种我从未见过的表情。我的嘴唇凑到她的嘴边。我们接了吻。我无法向你们描述我在那一瞬间的感受。我只觉得自己的一生整个儿凝聚在完美的一点上，那是绛红色的欢乐。\\n西碧儿全身颤动，像一丛白色的水仙花抖个不停。\\n……（略）”\\n\\n', metadata={'id': 'doc:notiondb:3925f1cd22c74c9cb8d0d6bb90f67b6e', 'author': '【英】奥斯卡·王尔德', 'name': '道连·葛雷的画像 【英】奥斯卡·王尔德', 'source': '读书笔记（文学）', 'tags': '小说', 'date_start': '20170920', 'date_end': None}),\n",
       " Document(page_content='《小王子》--le petit prince\\n【法】圣爱克苏佩里\\n\\n作者简介：\\n安东尼·德·圣-埃克苏佩里(Antoine de Saint-Exupéry），1900年6月29日生于法国里昂市。飞行家，作家。\\n安东尼一生喜欢冒险和自由，是一位将生命奉献给法国航空事业的飞行家。服务于航空公司期间，开辟了多条新的飞行航道，孜孜不倦地完成飞行任务。安东尼于二战期间应征入伍，法国战败被纳粹占领期间，他侨居美国。又于归国后重新回到部队。1944年他在一次飞行任务中失踪，成为一则神秘传奇。\\n除了飞行，用写作探索灵魂深处的寂寞是他的另一终生所爱。代表作品有童话《小王子》(1943)，该书至今全球发行量已达五亿册，被誉为“阅读率仅次于《圣经》的最佳书籍\"。其它作品还有小说《南方邮航》(1928)、《夜航》(1931)、《人的大地》(1939，英译名《风沙星辰》)、《堡垒》、《云上的日子》小说《空军飞行员》(1942)、《要塞》等。\\n作为一位同时兼有飞行员角色的作家，圣埃克苏佩里不是第一个描写航空的作家，却是第一个从航空探索人生与文明的作家。他的《夜航》、《人类的大地》初次出现时，书中的那些雄奇壮丽的情景，使读者感到耳目一新、惊心动魄。圣埃克苏佩里的作品可以说是他一生的思想写照与行动实录。他在黑夜中期待黎明，在满天乱云中向往中途站，在璀璨星空中寻找自己的星球——生的喜悦。\\n然而，圣埃克苏佩里不满足于只描写孤悬于满天乱云之中，与高山、海洋和风暴的生死角逐。他从高空中发现人类只是生存在一个大部分是山、沙、盐碱地和海洋组成的星球上，生命在上面只是像瓦砾堆上的青苔，稀稀落落地在夹缝中滋长。文明像夕阳余辉似的脆弱，火山爆发、海陆变迁、风沙都可以使它毁灭无遗。这些形成圣埃克苏佩里的看法：\\n人生归根结蒂不是上帝赐予的一件礼物，而是人人要面临的一个问题。人的价值不是与生俱来的，而是后天获得的。\\n“我的行动，从今以后，一个接一个，组成我的未来”。这与萨特的存在主义非常相似，“人被抛入这个世界”，必须作出自己的选择。人只是在实施自己的意图时才表明自己的存在，决定自己的未来。难怪萨特称圣埃克苏佩里的《人类的大地》是存在主义小说的滥觞。而海德格尔也把出版50年来译成102种语言的《小王子》，看作是最伟大的存在主义小说。虽然圣埃克苏佩里本人不见得会用这个名称。\\n正如玛佳·德斯特朗所评论的：“尼采与纪德设计了一种道德，用激扬优美的文章宣扬，惟有圣埃克苏佩里在危险与充实的人生中身体力行。”\\n\\n\\n《小王子》\\n花——\\n我很快就对这朵花有了更深的了解。小王子生活的星球上长着很朴素的单瓣花，她们一点儿也不占地方，也不扰人，在草地上朝开暮落。而这朵花的种子不知道是从哪儿来的。小王子密切注视着她的与众不同的嫩枝。她很可能是新品种的猴面包树苗呢。然而枝条很快就停止伸展，竟开始结花蕾。小王子看着硕大的花苞，预感到她会绽放出奇异的花朵。然而花儿躲在绿莹莹的屋子里精心打扮。她仔细挑选颜色，慢条斯理地穿衣，一片片地搭配她的花瓣。她不肯像虞美人那样皱巴巴地就往外跑，就亮相。她要容光焕发地见人。唉！不错，她就是朵极爱俏的花儿。她神秘兮兮地梳妆打扮了好几天，终于在一天早晨，在太阳出来的那一刻，她露脸亮相了。\\n精心打扮了好几天，算准了出场的时间，她却打着哈欠说：\\n“唉！我刚刚睡醒呢……请你原谅……我的妆还凌乱呢……”\\n小王子忍不住赞叹：\\n“您真美啊！”\\n“是吗，”花儿柔声说，“我和太阳同时诞生……”\\n小王子看准她并非谦恭的女子，不过，她确实美丽动人！\\n“是吃早点的时候了吧。”很快她又说。“劳驾您给我……”\\n小王子为自己的疏忽而感到羞惭，赶紧找了一壶清水，待侯花儿用餐。\\n不久，她爱慕虚荣的性情开始折磨他。例如，有一天，她对小王子说到她身上长的四根刺的用途。她说：\\n“这儿也许有老虎吧，老虎的爪子锋利的很呢！”\\n“我的星球上没有老虎。再说，老虎不吃草。”小王子表示异议。\\n“我可不是草。”花儿柔声说。\\n“对不起……”\\n“我一点也不畏惧老虎，但我讨厌风。您没有屏风吗？”\\n“你居然讨厌风啊……这可不好。”小王子对她有了看法。“这朵花倒很复杂……”\\n“晚上您用罩子把我罩起来吧。您这儿太冷，位置不好。我来的那个地方……“\\n她住了口。来这儿的时候她还是一颗种子呢，怎么可能了解别的地方呢。她撒得慌幼稚可笑，让人一下子就能识破。她觉得丢脸，便咳嗽了两三声，想把过错推到小王子身上去：\\n“我要的屏风呢？……”\\n“我正要去找屏风，是您和我说话的呀！”\\n她又故意咳嗽，存心让他内疚不安。\\n小王子很怜爱她，但她的做作令他生疑。他是个做事一丝不苟的人，常把无关紧要的闲话当真，难免招来不少麻烦。\\n有一天，他向我倾诉他的心事：“我本不该听信她的话的。永远也别信花儿讲的话。她们的作用就是供人观赏，供人嗅闻。我的花熏香了我的星球，但我不懂得为此高兴。她说的老虎爪子的话，本来应该打动我的心，我却生了她的气。”\\n他还说：\\n“那时我真是不懂事。要对一个人下定论，不应听其言，而应观其行。她芬芳馥郁，赏心悦目，我不应该抛下她一走了之！我不理解她不聪明的谎言包含的深情。花儿是缺点不少、但优点也很多的矛盾的东西！那时我年纪太轻，不懂得珍惜她，爱他。”\\n\\n狐狸——\\n就在这个时候，出现了一只狐狸。\\n“你好。”狐狸说。\\n“你好。”小王子彬彬有礼地回答，他转过身，但看不见有什么东西。\\n“我在这里，”那声音说，“在苹果树下。”\\n“你是谁？”小王子说，“你看起来真漂亮……”\\n“我是狐狸。”狐狸说。\\n“来跟我一起玩吧。”小王子向他建议，“我非常伤心……”\\n“我不能跟你一起玩，”狐狸说：“我不是驯养的动物。”\\n“哦，对不起。”小王子说。\\n小王子想了想，又问：\\n“什么叫做‘驯养’？”\\n“你不是本地人。”狐狸说：“人有枪，人打猎，太可恶了！可人也养鸡，这是人唯一的好处。你在找鸡吗？”\\n“不！”小王子说：“我找朋友，什么叫做‘驯养’？”\\n“这是一件被人遗忘干净了的事了，”狐狸说，“它的意思就是‘建立联系’……”\\n“建立联系？”\\n“当然，”狐狸说：“对我而言，你不过是一个小男孩，和千千万万的小男孩没有两样。而且我不需要你，你也不需要我。对你而言，我不过是一只狐狸，和千千万万只狐狸没有两样。但如果你驯养了我，我们就互相需要了。你就是我世界上唯一的人了，我也是你世界上惟一的狐狸了……”\\n“我有点明白了。”小王子说。“有一朵花朵……我认为她驯养了我……”\\n“这可能，”狐狸说：“地球上有各色各样，形形色色的东西……”\\n“啊！她不再地球上。”\\n狐狸露出大惊的神色。\\n“在另一个星体上？”\\n“是的。”\\n“那颗星体上，有猎人和枪吗？”\\n“没有。”\\n“那可有意思了！有鸡吗？”\\n“没有。”\\n“世上就没有十全十美的东西。”狐狸叹了一口气。\\n狐狸扯回原来的话题：\\n“我的生活枯燥乏味，异常单调。我逮鸡，人逮我。鸡全是一个模样，人也是一个模样，我都腻了。但如果你驯养我，我的生活就会充满阳光。我能辨得出与众不同的脚步声。别人的脚步声吓得我赶紧钻回地洞。你的脚步声却像悦耳的音乐，召唤我走出洞穴。你瞧！你看那儿，那不是一片麦田吗？我不吃面包，我不需要小麦，麦田引不起我的想象力。说到这个，实在可悲！但你的头发是金灿灿的，它会叫我想起你的，我就会爱上风吹麦子的声音……”狐狸没说下去，对小王子瞧了好久，又说：\\n“请你……驯养我吧!”\\n“我很愿意，”小王子回答说，“但我的时间不多，我还要寻找朋友，还要了解许多新鲜的事物。”\\n“人只认识自己驯养的东西。”狐狸说。“人再没时间认识什么事物。他们到商店买现成的东西，但没有一家商店是出售朋友的，人也就没有朋友了。如果你想要朋友，你就驯养我吧!”\\n“我该做些什么呢?”小王子说。\\n“需要非常的耐心。”狐狸回答说。“首先你要离我稍远点，坐着，像这样，坐在草地上。我斜瞟着你，你什么也别对我说。语言是误会的源泉。可是每天你可以坐得稍近一点……”\\n翌日，小王子又来了。\\n“最好在同一个时间来，”狐狸说，“例如，如果你是下午4点钟来的，从3点钟开始，我就开始感觉到幸福的滋味了。越接近4点钟，我越觉得幸福。到了4点钟，我就心神恍惚，坐立不安了。我发现了幸福的价值，但是如果你不按时来，我就不知道几点钟该装扮我的心，仪式还是需要的。”\\n“什么叫做‘仪式’?”小王子问。\\n“这也是一件被人遗忘干净了的事情。”狐狸说。“仪式就是使得某一日不同于其他日子，某一个小时不同于别的小时。比如说，猎人们有个仪式，每逢星期四，他们就与村里的姑娘们跳舞，星期四就成了再美妙不过的日子了！我也就可以到葡萄园里去闲逛了。如果猎人跳舞不挑日子，每一天都一样，我就没有假期了。”\\n于是小王子驯养狐狸了。小王子要走的时候到了。\\n“啊！”狐狸说，“……我想哭了。”\\n“这就是你的不对了，”小王子说，“我一点也不想伤害你，但你却要我驯养你……”\\n“不错。”狐狸说。\\n“但你却想哭！”小王子说。\\n“不错。”狐狸说。\\n“那你是一无所获了！”\\n“我有收获的，”狐狸说，“我得到了小麦的颜色。”\\n然后他又说：\\n“你去探望玫瑰花们吧，你就会明白，你的玫瑰花是世界上独一无二的花儿。然后你回来与我告别，我会送你一桩秘密作为礼物。”\\n小王子探望玫瑰花们，并对她们说：\\n“你们一点也不像我的玫瑰，你们还无足轻重，没有人驯养你们，你们也没有驯养任何人。你们的今天如同我的狐狸的昨天。昨天的他与千千万万的狐狸一样，但自从我让他做了我的朋友，他就是世上绝无仅有的狐狸了。”\\n玫瑰花们听了心里怪不自在的。\\n“你们长得很美，但你们的感情世界一片空白。”小王子还对她们说。“没有人为你们而死。不错，行人会认为我的玫瑰与你们没有两样，但只有她比你们重要，因为我给她浇了水，我给她盖上花罩，我给她竖起屏风，给她避风挡雨。我为她杀死了几条毛虫(除了两三条我没杀，要让它们变成蝴蝶)，我倾听她的抱怨，或她的吹嘘，有时也看着她默默无语的样子，因为她是我的玫瑰。”\\n他回到狐狸身边。\\n“别了。”他说……\\n“别了，”狐狸说，“这就是我的秘密，它很简单：用心去看才能看清楚，用眼睛是看不见本质的东西的。”\\n“用眼睛是看不见本质的东西的。”小王子重复念叨这句话，为了把它牢牢记住。\\n“你为你的玫瑰失去的时间，使你的玫瑰变得重要了。”\\n“我为我的玫瑰失去的时间，使我的玫瑰……”小王子说道，为了把它记住。\\n“人忘记了这条真理，”狐狸说，“但你不该忘。你应该永远对你驯养的对象负责，你要对你的玫瑰负责……”', metadata={'id': 'doc:notiondb:1931c584fef7422d983c46619fdc9ce8', 'author': '【法】圣爱克苏佩里', 'name': '小王子 【法】圣爱克苏佩里', 'source': '读书笔记（文学）', 'tags': '小说', 'date_start': '20140429', 'date_end': None}),\n",
       " Document(page_content='【作者简介】\\n\\n威廉·福克纳（WilliamFaulkner，1897－1962）是美国现代最重要的小说家之一。他出生在南方一个没落的庄园主家庭。\\n他最早的两本小说是当时流行的文学潮流影响下的作品，本身没有太多的特点。从第三部小说《沙多里斯》（1929）开始，才形成自己独特的题材与风格，即不断写“家乡的那块邮票般大小的地方”，终于“创造出一个自己的天地”。这个天地就是他所虚构的位于密西西比州北部的约克纳帕塔法县，这个县的中心是杰弗生镇。福克纳后来的作品，除了少数几部之外，都以这个县和杰弗生镇为背景。福克纳的这套“约克纳帕塔法世系”由十五部长篇和几十个短篇小说组成。书中的主线是若干个家族的兴衰荣辱。据统计，福克纳笔下有名有姓的人物一共有六百个，其中较为饱满完整的有一百多个，这些长、短篇小说本身是独立的，但彼此又多少有些衔接、联带关系。主要人物也在各书中穿插出现。在这套“世系”中，福克纳对两百年来美国的南方社会作了写照。南方社会的变迁，各阶级、阶层人物社会地位的浮沉升降，各种类型人物精神面貌的变化，都可以从福克纳笔下见到映影——当然，不一定是十分客观的映影。\\n\\n但福克纳绝不仅仅是一个秒回地方色彩的乡土作家，他更关心的是祖先的罪恶给后代留下的历史负担问题，机械、金钱文明对人性的摧残问题，现代西方社会中人的异化问题，现代西方人与人之间的疏远与难以沟通的问题，精神上的得救与净化问题。\\n\\n在艺术表现方面，福克纳也是一个大胆的试验者。他笔下的世界，与生活真实不一定“形似”。他追求的是反映精神实质与神韵的“神似”。他常常有意使生活变形、扭曲、夸大并突出其中的某些方面，使读者在一个特定的角度，在强烈的光线的照耀下，看到了习以为常的生活中令人惊骇的一个方页。“他尝试各种“多角度”的手法，以增加作品的层次感与逼真感。他还运用“时序颠倒”、“对位式结构”、“象征隐喻”等等艺术手段，使他的作品万花筒般繁复、杂乱，同时引人入胜。他的小说在开初时显得杂乱无章，但读完后能给人留下一个异常鲜明的印象。“延宕”也是福克纳爱用的一个手法，这个手法迫使有毅力与耐心的读者跟随作者一起参加艺术创作的劳动，因“此在掩卷时所得到的印象便不仅仅是作者硬摊派给他们的，在一定程度上也是他们自己亲自经历后所得到的。在语言的运用上，福克纳也有意突破常规以取得特殊的效果。福克纳是一个在探索新手法上作了很多努力与试验的作家。\\n\\n福克纳的重要作品，除《喧哗与骚动》外，还有《我弥留之际》(1930)、《八月之光》(1932)、《押沙龙，押沙龙！》（1936）、《去吧，摩西》(1942)以及《村子》(1940)、《小镇》（1957）、《大宅》(1959)（以上三书合称“斯诺普斯三部曲”）等。\\n\\n【作品简介】\\n如果说，通过对康普生一家其他人的描写，福克纳表达了他对南方旧制度的绝望，那么，通过对杰生的漫画式的刻画，福克纳又鲜明地表示了他对“新秩序”的憎厌。\\n\\n艺术表现方面，《喧哗与骚动》用了一些特殊的手法，这里不妨作些简略的介绍：\\n首先，福克纳采用了多角度的叙述方法，分别通过几个人甚至十几个人的角度，让每一个人讲他这方面的故事。在本书中，福克纳让三兄弟，班吉、昆丁与杰生各讲一遍自己的故事，随后又自己用“全能角度”，以迪尔西为主线，讲剩下的故事。\\n其次，“意识流”是作者采用的另一种手法。传统的现实主义小说中也常写人物的内心活动，意识流与之不同之处是：一、它们仿佛从人物头脑里涌流而出直接被作者记录下来，前面不冠以“他想”、“他自忖”之类的引导语，二、它们可以从这一思想活动跳到另一思想活动，不必有逻辑，也不必顺时序；三、除了正常的思想活动之外，它们也包括潜意识、下意识这一类的意识活动。在《喧哗与骚动》中，前三章就是用一个又一个的意识，来叙述故事与刻划人物的。在叙述者的头脑里，从一个思绪跳到另一个思绪，有时作者变换字体以提醒读者，有时连字体也不变。译者个人认为，福克纳之所以如此频繁地表现意识流，除了他认为这样直接向读者提供生活的片断能更加接近真实之外，还有一个更主要的原因，这就是：服从刻划特殊人物的需要。\\n“神话模式”是福克纳在创作《喧哗与骚动》时所用的另一种手法。所谓“神话模式”，就是在创作一部文学作品时，有意识地使其故事、人物、结构，大致与人们熟知的一个神话故事平行。如乔伊斯的《尤利西斯》，就套用了荷马史诗《奥德修纪》的神话模式，艾略特的《荒原》则套用了亚瑟王传说中寻找圣杯的模式。在《喧哗与骚动》中，三、一、四章的标题分别为一九二八年四月六日至八日，这三天恰好是基督受难日到复活节。而第二章的一九一〇年六月二日在那一年又正好是基督圣体节的第八天。因此，康普生家历史中的这四天都与基督受难的四个主要日子有关联。“福克纳也是要以基督的庄严与神圣使康普生家的子孙显得更加委琐，而他们的自私、得不到爱、受挫、失败，互相仇视，也说明了“现代人”违反了基督死前对门徒所作的“你们彼此相爱”的教导。福克纳运用这样的神话模式，除了给他的作品增添一层反讽色彩外，也有使他的故事从描写南方一个家庭的日常琐事中突破出来，成为一个探讨人类命运问题的寓言的意思。\\n\\n【正文】\\n他的光脚丫没有发出一点点声音，比叶子还要轻地落在薄薄的尘埃中。果园里，蜜蜂的营营声像是天上刚要起风，这声音又给某种法术固定住了，恰好处在比“渐强”略轻地那种音量，一直持续不变。小径沿着园墙伸延向前，我们头上树木如拱，脚下落英缤纷，小径远远望去融进一片树荫。阳光斜斜地照进树林，稀稀朗朗，却像急急地要挤进来。黄色的蝴蝶在树荫间翻飞，像是斑斑点点的阳光。\\n\\n蜜蜂的营营声现在变轻了，但一直持续着，仿佛不是我们陷入了周围的沉寂，而是沉寂像涨水一样，在我们周围涨高了。\\n\\n天上飞舞着一只黄蝴蝶，就像是一小片阳光逃逸了出来似的。\\n\\n隔着苍茫的暮色我能嗅出河湾的气味，我看见最后的光线懒洋洋而平静地依附在沙洲上，沙洲像是许多镜子的残片，在往远处，光线开始化开在苍白澄澈的空气中，微微颤动着，就像远处有些蝴蝶在扑动似的。\\n\\n瞌睡把超市的睡眠的味道留在脖颈的漫长的寂静中，我回到走廊里，吵醒了寂静中一代代说着悄悄话的学生的失落的脚步，进入了汽油味中，那只表还在黑暗里躺在桌上撒着弥天大谎。接着窗帘又在黑暗中呼出一口气，把气息吹拂在我的脸上。', metadata={'id': 'doc:notiondb:328bc83e3da04ef6b120e4d60ed6cdb1', 'author': '【美】威廉·福克纳', 'name': '喧哗与骚动 【美】威廉·福克纳', 'source': '读书笔记（文学）', 'tags': '小说', 'date_start': '20190516', 'date_end': None}),\n",
       " Document(page_content='【社会背景】\\n在陀氏出生之前九年，拿破仑率他的“王者之师”入侵俄国遭到致命的重创，铩羽而归。在一八一四至一八一五年的维也纳会议上，反拿陂仑战争联盟国家与法国议和的条件，基本上是由年轻的沙皇亚历山大一世提出的。当时的俄国自以为凌驾于整个欧洲之上。然而，农奴制在我国一直延续到一八六一年，冥顽残忍的贵族阶层统治着国家，权力很大的教会死抱住黑暗的过去不放，人民无法挣脱愚昧、贫困的状态。在西欧早已确立的人身自由观念刚刚开始东渐。\\n那是一个酝酿社会政治变革的大动荡时代。在最终引发与过去彻底央裂的一九一七年十月革命之前，俄罗斯还得在操动与困惑中度过一个世纪。陀思妥耶夫斯基就生活在变革中的俄国，这个风雷激荡的时代对他的影响至深至巨，他提炼了此阶段形形色色的思想，没有哪位作家曾像他那样在自己的作品中把本国人民从里到外展现得如此全面充分，淋滴尽致。要了解俄国和俄国人民，陀氏的书被认为是这方面最好的材料。极而言之，陀思妥耶夫斯基就是俄罗斯。\\n\\n【作者简介】\\n费贵尧多尔·米哈伊洛维奇·陀思妥耶夫斯基一八二一年十一月十一日生于莫斯科马利亚医院。父亲是这所贫民医院的医生。费尧多尔有六个兄弟姐妹，他是次子，全家人挤在仅有两居室的医院左耳房内。一八三七年，商人家庭出身的陀氏之母去世。他的父亲于丧妻后不久便从医院退职，接着迁往图拉省置有一份薄产（两个小村落）的乡下居住，恣意纵情酒色，残暴虐待农奴，以致一八三九年六月被十余名忍无可忍的农奴群起而杀之。在酗酒、淫乱、集人类恶劣品质之大成的老卡拉马佐夫身上，就有陀氏父亲的影子。一八四一年，费尧多尔成为工程兵准尉。他在部队里待了四年，染上了轻狂、挥霍的习气，老是盼着家乡把十分有限的田产收入寄来帮他缓解债务麻烦。我们从德米特里·卡拉马佐夫的所作所为中不难发现作者还是一名青年军官时的性格痕迹。\\n他以中尉军衔从部队退役后，于一八四五年写出了他的第一部小说《穷人》，立刻赢得以别林斯基为首的评论界一片赞扬声。此后他又发表了几部颇有争议的心理小说。一八四九年发生了一连串影响陀氏一生命运的事件，此前他已开始结识以彼得拉舍夫斯基为首的激进革命青年小组某些成员。四月份，陀思妥耶夫斯基在该小组一次集会上朗读了著名的别林斯基致果戈理的一封信》（一八四七年七月），一周后即遭速捕并被解往第三局（即暗探局）。十一月，军事法庭宣布判处陀氏死刑。旧历十二月二十二日清晨陀氏与其他被判死刑的小组成员一起，被押赴刑场执行枪决。第一批三名囚犯已被蒙目绑在柱子上（陀是第二批），这时当局宣读了沙皇的圣旨（其实尼古拉一世早就在军事法庭大法官报批的判决书上作了批改），陀的死刑判决改为四年苦侵并在四年后贬为土兵。事态的这一剧变造成两名因犯从此精神错乱。\\n陀思妥耶夫斯基作为一名因犯在西伯利亚的鄂木斯克要塞服四年苦役，经常与杀人越货的歹徒及其他罪犯为伍，但他从这种频繁接触中也获益匪浅。在那里他结识了十二等文官伊萨耶夫夫妇，为他们十来岁的独子授课。一八五七年，准尉陀思妥耶夫斯基与伊萨耶夫的遗孀玛丽亚结婚，还恢复了被刺夺的贵族身份，一八五九年，陀氏以少尉衔获准退役后，携妻子玛丽亚、继子巴沙离开西伯利亚西返。在距莫斯科不太远的特维尔住了四个月，经沙皇“恩准”，于年底迁往彼得堡。次年初，陀氏的两卷本作品集在莫斯科出版。\\n但是，伴随着失而复得的自由（尽管内务部仍对他实行秘密监视）陀思妥耶夫斯基却被套上了病、赌稳和债务的新镜，直至生命的终结。自幼潜伏在他身上的病症如今频频发作，而且来势趋凶。赌博成了他无法戒绝的恶癖。由于债台高筑，他老是处在巨大的压力下不得不拼命写作，把手稿交给期刊连载，一部小说往往已发表三章，第四章才发排，第五章正在邮寄途中，而第六章以后压根几还没写好，顶多只有一个梗概在作者的头脑里，就是在这样的条件下，他于短短数年内写出了《死屋手记》、《做伤害与侮辱的人》，以及好些中短篇。\\n陀氏第一个妻子玛丽亚患肺结核久病不愈，于一八六园年去世，这也标志着陀氏一生第二个阶段的结束。他已人到中年，处境窘迪，前景暗淡。除了自己的健康状况日益恶化和命运多要外，他还面临第二次当罪犯的危险——这一回是债务官司。在危急关头，一位年仅十八岁的姑娘安娜·斯尼特金娜出现了。她经人准荐于十月四日开始为陀氏当速记员。十月二十九日，陀氏以口述方式完成了小说《赌徒》。十一月三日，陀氏第一次登门造访安娜和她的母亲，十一月八日，他向安娜求婚。婚礼于次年二月举行。\\n在续弦后即陀氏生命的最后十四年间，他创作了自己最重要的四部长篇：《罪与罚》，《白痴》、《鬼》（即《恶魔》）和《卡拉马佐夫兄弟》。安娜貌不出众，没有超群的才华或可观的财富，但对丈夫无限忠被，虔信他的天才，理解他的创作热忧，以深情和关怀帮他克服种种困难——经济拮据、癫痫的经常性发作、内心的痛苦以及沉重的负罪感和自卑感。安娜为他生儿育女，给了他一个真正的家。可以说，没有安娜，也就没有我们今天所知道的那个陀思妥耶夫斯基。\\n陀氏并不是一个好丈夫。他嗜赌如命，对妻子一贯不忠诚，很难与人相处。屠格涅夫说他是“我生平遇到的基督徒中最邪恶的一个”，陀氏逝世后，列夫·托尔斯泰的一个朋友曾写道：“我认为陀思妥耶夫斯基其人既不善良，也不快乐，他心术不正，善妒而又堕落。一辈子都在使性子，发脾气……在瑞士，我曾目睹他对仆人的态度可恶至极，以致受辱的仆人愤而发出‘我也是个人’的怒吼。”然而安娜对这一切断然加以否认。她在回忆录中说，他们共同生活的十四年使她深信，陀思妥耶夫斯基是世上最纯粹的人。\\n\\n【作品简介】\\n《卡拉马佐夫兄弟》的主题和哲学在米嘉向阿辽沙自白的一章里已经点明：“美这个东西不但可怕，而且神秘。围绕着这事儿，上帝与魔鬼在那里搏斗战场便在人们心中。“陀氏认为每个人心中都藏有一个魔鬼。他在给友人的一封信中写道：“贯串全书的主要问题，正是我自觉和不自觉地为之苦恼了一生的问题：上帝是否存在？万一上帝不存在怎么办？那么对于陀思妥耶夫斯基来说，世界就只能是魔鬼的闹剧，别的什么也不是。若如此，那就“无所不可”，干什么都是合法的了，甚至包括犯罪。\\n为了形象地诠释这一主题和哲学，作者向我们展现了卡拉马佐夫一家，包括道德败环的老子和他的四个几子。老大德米特里，老二伊万和老三阿辽沙分别象征着人的肉体、理性和精神这几个不同的方面，而生子尔加科夫则代表被侮辱、被伤害和被夺继承权者。这些人物统统粘在一张道徳的网上，谁也休想挣脱，上帝与魔鬼为争取控制他们的灵魂而厮杀，小说从头至尾弥漫着这场拼死斗的硝烟。所有的人物都卷入了一起凶杀案，他们在舞台上走过的时候，无不以触目惊心的清晰度表露各自的感情，无论是有意识的还是无意识的。\\n第五卷第五章《宗教大法官》无疑是文学史上绝无仅有的个案，基督亲临可悲的尘世，却遭到教会的质疑和挑战，这里提出的问题是：人能不能靠基督的教诲存活？魔鬼，那个旷野里聪明而可怕的精灵，能不能以一种更好的方式支持人类？为什么人非得在自由和面包之间作出抉择？这一章在某种意义上是一部以文学形式写就的历史哲学。上帝和魔鬼在此短兵相接。结果看来是上帝落荒而走，魔鬼趾高气扬，基督精神败得很惨。这一主题到了第十一卷第九章《魔鬼。伊万·费尧多罗维奇的梦魇》中重又出现。这两章文字提出了否定上帝的种种论点。肯定上帝的论点则包含在写阿辽沙和佐西马长老的那些章节中。在那里，作者试图表现圣贤的形成过程和基督式博爱的力量。陀氏相信基督精神最终将高奏凯歌。但他能加以证明吗？在剖析罪恶和人的畸形心态方面，陀思妥耶夫斯基当得起最高级的赞美。然而他在表现以阿辽沙和佐西马神父为象征的善的那些笔墨中是否取得成功，读者自己会作出判断。在错案面前，胜利者究竟是谁一帝还是魔鬼？\\n作为一个艺术地体现哲学思想的小说家，陀思妥耶夫斯基无论在俄国还是全世界都是数一数二的。有人把他在自己的全部创作中孜孜矻矻地苦心探索的专题概括为\\n四个R，即揭示人的心灵隐秘( Revelation of man\\' s secret heart）、革命( Revolution）、俄罗斯( Russia）和宗教( Religion）\\n。\\n陀思妥耶夫斯基在刻画人物心理方面的卓越成就，走在后来得到专业心理学家们确认的许多原理前头。比弗洛伊德早生三十五年的陀氏在小说中记录了他观察人类感情活动的惊人发现。他曾详细地写到过人的表现狂、俄狄浦斯情结和青春期变态心理，他认为梦是由潜意识心理活动引起的，并非源于理智，而是发自欲望。陀氏指出，笑可以显示个人个性中隐秘的一面，笑的时候往往不自觉地把面具卸了下来。在他所描写的“耦合家庭”中，每一个成员都过着独立、封闭的生活，与其他成员处于隔离状态。《卡拉马佐夫兄弟》呈现在我们面前的便是这样户人家。陀氏观察到人身上有专横跋扈的倾向，一种与生俱来的权力欲。他发现爱的因素中包含着对所爱者行使权力的欲望。如果这种欲望得不到满足，所爱者就可能同时被既爱又恨。这一原理在《卡拉马佐夫兄弟》中得到了精妙入微的演绎。陀思妥耶夫斯基刻画自虐癖好以及把惩罚作为摆脱负罪感的手段，比现代的“死亡本能”理论和弗洛伊德的“超越快乐”准则都早得多。陀氏甚至作过“分裂人格”心态细节的记录。在他的作品中，简直很难说哪一个比较重要的人物不属于分裂人格。《卡拉马佐夫兄弟》中的德米特里也罢，爱与恨同样火辣辣的卡捷琳娜也罢，“魔崽”Lisc也罢，尤其是在与魔鬼对话一章里两个自我猛烈碰撞的伊万……人格分裂的例子简直不胜枚举。\\n陀氏关心的第二个R是革命，也正是在这个问题上，他生前死后遭到的抨击最多。他笔下的“革命者”、“社会主义者”，大概无例外地都是目无神明、唯恐天下不乱、蔑视一切道德准则的虚无主义者，《白痴》中的病态少年伊波利特，《卡拉马佐夫兄弟》中与阿辽沙一起当过见习修士的拉基津，也应归入此类。但集中浓墨重彩表现这种思想的无疑要数《鬼》一书。西方的评论家认为，这部发表于一八七一至一八七二年的小说几乎提前半个世纪“预报”了后来爆发的俄国革命。此前一般都相信革命将席卷全世界，但陀氏却预料革命仅在俄国发生，它最早的一批领袖并不从工人中产生，认为俄国革命始发于无限制的自由，将发展到无限制的专制云云。\\n陀思妥耶夫斯基坚信，俄国的一切都是美妙的，俄国农民的灵魂是美丽的伴随着受苦人的眼泪将从俄国的土地上涌出新世界的甘泉。这便是陀氏魂牵梦萦的第三个R——俄罗斯。他认为西方文明已经蜕化变质，欧洲似乎只是一具死尸，而莫斯科乃是他心目中的圣城，他的“新耶路撒冷”。陀氏骨子里是个君主主义者，他爱沙皇。他讨厌欧美，憎恨波兰人、犹太人，觉得俄国无须向西方学习什么，而俄国的一切都值得西方学习。\\n宗教，陀思妥耶夫斯基的第四个R，渗透到另外三个R的方方面面。他笃信宗教，其虔诚的程度在所有大作家中很难找出可与之颉颃者。从狭义上说，除了深深植根于拜占庭帝国的俄国正教，他认为此外一切宗教都是旁门左道。从广义上说，占据他脑海的是：善与恶、上帝与魔鬼、不分种族不分国界的人与救世主之间的关系等问题。他热烈地信奉基督式的博爱。针对“什么是地狱”这个问题，佐西马长老回答道:“苦于不能施爱,那就是地狱。”\\n\\n【正文摘抄】\\n\\np23\\n“……（略）可这又是不大可能的，因为要是不用钩子把我拖走，那还成个什么样子？世上哪儿还有天理正义？\\n如果上帝不存在，必须把它们造出来①\\n，专门为我一个人也得把这钩子造出来，因为，阿辽沙，你不知道我是个什么样的混蛋！……”\\n“那里没有钩子，”阿辽沙注视着父亲，轻声而又认真地说了这么一句。\\n“有一个法国人曾经这样描述地狱：‘我见到一个车夫的影子用一把刷子的影子刷一辆马车的影子。’亲爱的，你怎么知道美有钩子呢？……（略）”\\n①伏尔泰-《致一本关于三个老师误人子弟的书的作者》\\n\\n\\np25\\n也许有人会说，阿辽沙生性迟钝，智力没有得到开发，中学未曾毕业，等等。他没有完成学业，这是事实；但说他迟钝或愚笨，那就太不公平了。我只想把前面说过的话重复一遍：他走上这条道路，仅仅由于当时只有这条路给他留下很深的印象，使他一下子看到了自己的心灵挣脱黑暗，奔往光明的理想出路。您还得加上一点：他部分地已经是当代青年，也就是说，禀性正直，渴求真理、寻觅真理并且信仰真理，而一旦有了信仰，便切盼立刻全心全意地投入，切盼迅速干一番大事业，为此必定愿意牺牲一切，乃至生命。不幸的是，\\n这些青年并不懂得，在很多情况下，舍身也许是所有的牺牲中最轻而易举的\\n，而从自己风华正茂的生命中拿出五六年来埋头苦学，做点学问，哪怕只是为了十倍地增强自己的力量，以便为他追求的真理服务，为他心向往之并且引为己任的大事业服务，——这样的牺牲对于他们中许多人来说几乎完全做不到，实际情况往往如此。\\n阿辽沙选择的是一条和大家相反的道路，但他也同样渴望迅速建功立业。他经过认真思索，刚一确信灵魂是不灭的，上帝是存在的，随即很自然地对自己说：“我要为灵魂不灭而活着，决不接受折中式的妥协。”同样，设若他认定灵魂无法不灭，上帝并不存在，那就马上去加入无神论者和社会主义者的行列。因为，\\n社会主义不单单是一个劳工问题或所谓第四等级问题，而主要是一个无神论问题，是无神论在当代的表现以及恰恰在不要上帝的情况下建造巴比伦塔的问题；建塔的目的并不是为了从地上登天，而是把天挪到地上来\\n。\\n阿辽沙认为，继续像原来那样生活简直是奇怪和不可能的。圣经上写着：“你若愿意作完全人，可去舍掉你所有的……跟从我。”阿辽沙则对自己说：“既然要舍掉‘所有的’，我就不能只舍掉两卢布；既然要‘跟从我’，我就不能只去做晨祷。”也许，在他孩提时代的记忆中保存着关于我们城郊那个修道院的某些印象，他母亲可能带他去那做过晨祷。也许，他那害“鬼号病”的母亲把他捧向神像的情景和夕的斜晖也起了作用。阿辽沙若有所思地来到我们的小城，也许纯粹为了看一下：这里果真值得他舍掉“所有的”，还是只可舍“两卢布”，在修道院里遇上了那位长老……\\n\\n\\np46\\n“……（略）刚才您说：‘不必那么自惭形秽，因为一切都由此而起，’——您这话简直把我从前心到后背一下子捅穿了，把我的底细全看透了。我在人前确实总有这样的感觉，好像我比谁都更卑鄙，谁都把我当做小丑，于是我心想：’那我就真的扮演小丑吧，你们怎么看、怎么想我不在乎，因为你们个个比我更卑鄙！’所以我成了小丑，由于羞惭而成了小丑，伟大的长老，是由于羞惭！我纯粹是因为过于敏感而耍赖。……（略）”\\n……（略）\\n“……（略）对自己说谎的人最容易怄气。要知道怄气有时是很开心的，对不对？一个人明明知道谁也没有冒犯他，而是他无端臆想自己受到了冒犯，信口雌黄故作姿态，夸大细节混淆视听，抓住只言片语大做文章，——这些他自己也知道，可还是动不动就怄气，怄得有滋有味，怄得其乐无穷，就这样直到真的怀恨在心……。还是站起来吧，坐下，我恳切地请求您，要知道这一切也都是虚伪的姿态……”\\n“……（略）不错，我这辈子怄气确实觉得很开心，我是为了美学上的需要而怄气，因为有时候扮演被侮辱和损害的角色不但开心，还有美感；——这一点您忘记了，伟大的长老，那就是：美感！我要把它记在本子上！……（略）”\\n\\n\\np49\\n“是啊，当时您在用餐，可我却失去了信仰！”费尧多尔·巴甫洛维奇还在挑逗。\\n“您的信仰与我什么相干！”米乌索夫本来想大喝一声，但在倏忽之间克制住了自己，只是轻蔑地说：“\\n您真是碰到什么就把什么弄脏。\\n”\\n\\n\\np77\\n“难道您果真确信，人们如不再相信他们的灵魂不灭，后果便会那样？”长老忽然问伊万·费尧多罗维奇。\\n“是的，我是这样看的。没有永生，就没有德行。”\\n“您有这样的信念是有福的，或者是非常不幸的！”\\n“为什么不幸？”伊万·费尧多罗维奇含笑问道。\\n“因为十之八九您自己既不相信您的灵魂不灭，也不相信您在文章中关于教会和教会法庭问题所写的那些话。”\\n“也许您说得对！……但我毕竟不完全是开玩笑……”伊万·费尧多罗维奇突然奇怪地承认道，而且很快涨红了脸。\\n“您不完全是开玩笑，确实如此。这个问题在您心中还没有解决，并且在折磨着您的心。但是\\n受难者有时喜欢拿自己的绝望取乐，这好像也是由于绝望的缘故\\n。眼下您也是由于绝望而在苦中作乐——又是在杂志上发表文章，又是在社交场中与人辩论，其实您自己并不信服自己的论点，并且忍着心中的痛楚在暗自发笑……在您思想上这个问题并没有解决，这是您的大悲哀，因为它执著地要求得到解答……”\\n\\n\\np91\\n一个大言不惭的小人，说来说去无非是：“一方面不得不承认，另一方面不得不坦言！”\\n\\n\\np96\\n就在这个当口儿，费尧多尔·巴甫洛维奇表演了他的临去秋波。应当指出，他本来确实想回家去，他在长老室内做出这般丢脸的举动之后，再若无其事地去院长那儿赴宴，他确实觉得已不可能。倒不是他那么知耻知羞和深刻自责，不，也许恰恰相反；但他毕竟感到赴宴未免离谱。可是，车夫刚把他雇的那辆破车赶过来停在招待所门前的台阶旁，他已经准备上车了，倏忽间又遽然止步。他想起了自己在长老那儿说过的话：“我在人前总有这样的感觉，好像我比谁都更卑鄙，谁都把我当做小丑，——那好吧，我就真的扮演小丑，因为你们个个比我更无聊、更卑鄙。”\\n他产生了一个念头：为自己的丑恶行径向所有的人报复。此刻他蓦地想起，以前曾有人问他：“您为什么这样恨某某人？”当时他那小丑式的无赖腔正耍到自我陶醉的分儿上，竟回答说：“我可以告诉您：他虽然没有什么地方跟我过意不去，可我对他干过的一档子事儿，那简直要多损有多损。而且，刚一干完，我立刻为这档子事儿记恨他。”\\n\\n\\np223 客厅里的怪事儿\\n阿辽沙凭着某种本能感觉到，像卡捷琳娜·伊万诺芙娜这样性格的人必须占据主宰地位，而她只能主宰德米特里那样的人，绝对主宰不了伊万那样的人。因为只有德米特里才可能（即便为期甚远）最终归顺于她并且“自己得福”（这甚至符合阿辽沙的愿望），但伊万就不可能。伊万不可能对她顺从，而且这种顺从也不会带给他幸福。关于伊万，不知为什么阿辽沙不自觉地已经在自己头脑里形成这样的概念。\\n……（略）\\n“一条爬虫吃掉另一条爬虫，”昨天二哥伊万激愤地谈到父亲和大哥德米特里时曾这样说过。由此可见，在他眼里大哥德米特里是一条爬虫，而且可能早已是一条爬虫喽？会不会是从二哥伊万认识卡捷琳娜·伊万诺芙娜时开始的？当然，伊万这句话昨天是脱口而出的，但唯其脱口而出，才更加重要。既然这样，又怎么谈得上和好呢？相反，他们这家子岂不是旧恨未消又添新仇？尤其令阿辽沙作难的是，他该同情谁？希望他们分别得到什么？两位兄长他都爱，但在如此可怕的重重矛盾之中，他该对其中每一个各怀什么样的祝愿？局面如此错综复杂，有可能完全迷失方向，而情况不明是阿辽沙的心所无法忍受的，因为他的爱永远具有积极的性质。他不能消极地爱。一旦有了爱心，他立刻就要着手帮助某人。为此必须树立目标，必须认准其中每一个人分别需要什么，什么对他有益，在确信目标无误之后，自然便可分别帮助其中每个人。但眼下看不见明确的目标，只有一片模糊、一团乱麻。刚才人家说的是：“怪事一桩！”即便对于这一桩怪事，他又明白什么？面对这一整部玄奥的天书，他一个字儿也看不懂！\\n卡捷琳娜·伊万诺芙娜见到了阿辽沙，便很快而高兴地向已经离座欲走的伊万·费尧多罗维奇说：“等一下！请再稍待片刻。我想听听我全身心都信赖的这一位的意见。叶卡杰丽娜·奥西波芙娜，您也别走，”她转而面向霍赫拉科娃太太补上一句。\\n她让阿辽沙在自己旁边坐下，霍赫拉科娃太太则和伊万·费尧多罗维奇并排坐在对面。\\n“我亲爱的朋友们，在座的都是我的朋友，我在世上拥有的就是你们了，”她满怀激情开始说，声音中颤动着一颗颗真切痛楚的热泪，阿辽沙的心一下子又转向了她。“阿列克塞·费尧多罗维奇，昨天您目睹了这……可怕的一幕，看到我当时的所言所行。伊万·费尧多罗维奇，您没有看到，他看到了。昨天他对我有何想法——我不得而知，我只知道一点：若是今天此刻发生同样的事情，我会表露和昨天一样的感情，——还是那样的感情，说同样的话语，做同样的动作。您记得我昨天的动作，阿列克塞·费尧多罗维奇，您自己还制止了我的一个动作……”说到这里，她涨红了脸，双目闪光。“我向您宣布，阿列克塞·费尧多罗维奇，我不会就此罢休的。听我说，阿列克塞·费尧多罗维奇，我甚至不知道现在我是否爱\\n他\\n。他在我眼里已只有一副\\n可怜相\\n，这不是爱情的好兆头。如果我爱他，继续爱他，那我现在也许不会觉得他可怜，相反我会恨他……”\\n她的声音开始发颤，泪珠在她的睫毛上闪亮。阿辽沙内心猛地一震。\\n“这位姑娘是情真意切的，”他寻思着，“并且……她不再爱德米特里了！”\\n“确实如此！是这样的！”霍赫拉科娃太太大声表示赞同。\\n“且慢，亲爱的叶卡杰丽娜·奥西波芙娜，最主要的我还没说，没有说出经过这一夜我作出的最后决定。我感觉到，我的决定也许是残酷的——对我残酷，——但我预感到自己绝对不会改变决定，绝对不改，永生不改，就这样。我亲爱的、善良的伊万·费尧多罗维奇，他永远是我慷慨的顾问、洞察我心灵的引|路人、我在世上唯一的朋友，他完全赞同并嘉许我的决定……。他了解我的决定。”\\n“是的，我表示赞同，”伊万·费尧多罗维奇说，声音较轻，但相当坚定。\\n“但我希望阿辽沙——对不起，阿列克塞·费尧多罗维奇，请原谅我在称呼上有些失礼——我希望阿列克塞·费尧多罗维奇现在当着我的两位朋友的面也能告诉我：我做得对不对？我有一种出于本能的预感，您，阿辽沙，我亲爱的兄弟（因为您是我亲爱的兄弟），”她伸出自己发烫的手抓住阿辽沙冰凉的手，声情激越地又说，“不管我有多么痛苦，我预感到您的表态、您的赞许还是会给我带来安宁，因为听了您的话我会平静下来，心悦诚服——我有这样的预感！”\\n“我不知道您要问我什么，”阿辽沙的脸直红到发根，“我只知道我很敬爱您，此时此刻我希望您得到幸福胜过对自己的希望！……可是我对这类事情一窍不通……”不知为了什么，他忽然急急忙忙添上这么一句。\\n“在这类事情上，阿列克塞·费尧多罗维奇，在这类事情上目前最主要的是名节和义务，另外还有什么我不知道，但还有更高的，甚至可能有高于义务的情操。我的心意识到这种不可抗拒的感觉，它不可抗拒地吸引着我。不过可以用三言两语加以概括，我已经拿定主意：即便他娶了那个……贱货，”她开始用极有分量的语调说，“那个我永远、永远不能原谅的贱货，\\n我也决不抛弃他\\n！从现在起，我决不抛弃他，决不！”她沉浸在一种悲壮的兴奋之中，横下一条心来断然声明。“我不准备老是跟在他后面，不想时时刻刻使他眼见心烦——我才不会这样做呢！我要住到别的城市去，哪儿都行，但我将永生永世关注他，终我一生也不松懈。将来他和那个女人在一起如果感到不幸——我认为这是肯定而且马上就会发生的，——他可以去找我，他遇到的将是一个朋友、姐妹……。当然仅仅是姐妹，这是永远不会改变的，但他将会认识到，这的确是他的姐妹，一个爱他并把一生都奉献给他的姐妹。我一定要达到目的，我要坚持到他终于明白我的心，以后任何事情都不会羞于向我和盘托出！”她似乎已有些控制不住自己的感情。“我将成为听取他祷告的上帝，——他至少欠我这么多，因为他背叛了我，因为我缘他而忍受了昨天的耻辱。我要让他终其一生时刻都看到，我这一辈子对他忠贞不渝，永远忠于我曾向他许下的诺言，尽管他对我不忠，背叛了我。\\n我将……我将仅仅充当使他幸福的手段，或者说是使他幸福的工具、机器\\n，而且以此终我一生，至死不变，并要让他今后终其一生都看到这点。这便是我的决定！伊万·费尧多罗维奇对我表示高度赞赏。”\\n她呼吸急促。也许她本来打算把自己的思想表达得远比刚才大方、洒脱和自然，但结果却搞得过于匆忙，过于直露。许多地方显得年少气盛，不少方面看得出昨天的余怒未消，急欲抖一抖傲气，她自己也感觉到了。她的脸色一下子趋于阴沉，眼睛的表情也变得不妙。这一切阿辽沙立刻注意到了，一片同情之心油然而生。恰恰在这个当口儿，二哥伊万作了补充。\\n“我只是谈出了我的想法，”他说。“这举动出自任何别人都难免有做作、过火之嫌，而您并不给人这样的印象。别人这样做是不对的，您却是正确的。我不知道这该如何解释，但我认为您是绝对真诚的，所以您也是正确的……”\\n“但这仅仅是此刻的一时之见……。此刻又意味着什么呢？无非是昨天受到了侮辱，——此刻意味着的便是这种伤害！”霍赫拉科娃太太终于忍不住了，她本不愿意掺和进来，但还是沉不住气，却不料事情被她语道破。\\n“不错，不错，”伊万抢着说，不知打哪儿突然来了一股狂热劲儿，而且显然因别人打断他的话而感到恼火，“话是不错，在别人身上此刻仅仅反映昨天的印象，那就仅仅是一时之见；可是凭着卡捷琳娜·伊万诺芙娜的性格，此刻将延伸到和她的一生一样长。\\n在别人身上仅仅是许诺而已，在她身上却是永无尽头、负担沉重、也许相当凄苦然而持久不懈的义务。她将靠克尽义务这种意识来支持自己！卡捷琳娜·伊万诺芙娜，今后您将在对自己的感情、自己的壮举和自己的悲哀不断进行痛苦的反思中度日，但结果这种痛苦将得到缓解，那时您的生活就会变成对自己的设想得以实现的甜蜜的回味，这一设想确实值得骄傲，无论如何是极其大胆的，但您赢得了胜利，这种意识最终将给您带来最充分的满足，使您甘愿对其余的一切认命……\\n”\\n他说这番话无疑感着一股怨气，显然故意如此，或许并不想掩饰自已的意图，即故意在说挖苦话。\\n“噢，上帝啊，一切完全给弄拧了！\"霍赫拉科娃太太又发出了感叹。\\n“阿列克塞·费尧多罗维奇，您说说看！我是多么想知道您会怎么说！”卡捷琳娜·伊万诺芙娜大声说罢，突然泪如泉涌。阿辽沙从沙发上站起来。\\n“没事儿，没事儿，”她抽抽搭搭地继续说，“这是因为心里太乱，一宿没睡好，但是在您和令兄这样两位朋友身边，我觉得自己还挺得住……因为我知道……你们二位决不会撇下我不管……”\\n“真不幸，也许明天我就要去莫斯科，将离开您很长一段时间……。不幸的是，这已不可更改……”伊万·费尧多罗维奇遽然说。\\n“一明天就去莫斯科？”卡捷琳娜·伊万诺芙娜的容颜顿时变得面目全非。“但是……但是，我的上帝啊，这真是太幸运了！”她在倏忽间又换了一种截然不同的声音欢呼道，而且在倏忽间驱除了眼泪，不留一点痕迹。正是在这一瞬间，她身上起了奇妙的变化，令阿辽沙惊讶不置。刚才那个可怜的、感情扭曲、受到伤害的姑娘不见了，取而代之的一位女性完全能控制自己，甚至在某一点上感到非常满意，仿佛发生了什么一下子令她兴高采烈的事情。\\n“哦，并不是说幸好我将和您分手，当然不是这样，”她面带和蔼的礼节性微笑似乎在纠正自己的措辞，“像您这样一位朋友不可能想到这方面去。相反，我为即将与您离别而深感遗憾，”她骤然走到伊万·费尧多罗维奇面前，抓住他的双手，热情洋溢地握了一下；“但有一点倒是幸运的，那就是您到了莫斯科可以当面向姨妈和阿嘉莎转告我目前的处境有多么糟糕，您对阿嘉莎可以毫无保留，对亲爱的姨妈就饶了吧，反正您知道该怎么做。您无法想象，昨天和今晨我是多么不幸，浑然不知自己该怎样下笔给她们写这封可怕的信……因为这在信中根本无法表达于万一……。现在我只消写三言两语，毫不费事，因为您要到那里去与她们晤面，可以把一切都说清楚。喔，我太高兴了！但我仅仅为这一点而高兴，请再次相信我。您本人对我来说，当然是不可替代的……。我马上就去写信，”最后她突然说，甚至已经迈了一步，准备走出房间。\\n“那么阿辽沙呢？您不是一定想要听听阿列克塞·费尧多罗维奇的意见吗？”霍赫拉科娃太太叫了起来。从她的话中可以感到一种辛辣和愤懑的音调。\\n“这我没有忘记，”卡捷琳娜·伊万诺芙娜猝然止步，“叶卡杰丽娜·奥西波芙娜，在这样的时刻您为什么这样跟我过不去？”一份无可奈何的埋怨之情溢于言表。“我说过的话我还可以重申。我需要听他的意见，还不止于此，我需要他作出决定！他说了算！阿列克塞·费尧多罗维奇，与她的暗示相反，我渴望听到您的话已到了这样的程度……。可是，您怎么啦?”\\n“我决没有想到，这事我无法想象！”阿辽沙蓦地发出一声痛心的感叹。\\n“无法想象什么？”\\n“他要去莫斯科，而您居然说您很高兴，——您这是强作欢欣！然后您马上解释，您不是为这一点而高兴，相反，您为…,…要和一位朋友离别而感到遗憾，——但这又是您故意在演戏……就像在舞台上演滑稽戏那样！……”', metadata={'id': 'doc:notiondb:90dc51bb4ea04392873f502e5694c7ee', 'author': '【俄】陀思妥耶夫斯基', 'name': '卡拉马佐夫兄弟 【俄】陀思妥耶夫斯基', 'source': '读书笔记（文学）', 'tags': '小说', 'date_start': '20171202', 'date_end': None})]"
      ]
     },
     "execution_count": 20,
     "metadata": {},
     "output_type": "execute_result"
    }
   ],
   "source": [
    "%%time \n",
    "\n",
    "import langchain\n",
    "langchain.debug = True\n",
    "\n",
    "retriever.invoke('谁是王尔德？仅从“小说”中找答案。')"
   ]
  },
  {
   "cell_type": "code",
   "execution_count": 21,
   "id": "a00f1705-af14-4a31-8da9-ad13e9b8eacd",
   "metadata": {
    "scrolled": true
   },
   "outputs": [
    {
     "name": "stderr",
     "output_type": "stream",
     "text": [
      "Llama.generate: prefix-match hit\n"
     ]
    },
    {
     "name": "stdout",
     "output_type": "stream",
     "text": [
      "\u001b[32;1m\u001b[1;3m[chain/start]\u001b[0m \u001b[1m[1:retriever:Retriever > 2:chain:RunnableSequence] Entering Chain run with input:\n",
      "\u001b[0m{\n",
      "  \"query\": \"人生有几个不捡？仅从“笑死”中找答案。\"\n",
      "}\n",
      "\u001b[32;1m\u001b[1;3m[chain/start]\u001b[0m \u001b[1m[1:retriever:Retriever > 2:chain:RunnableSequence > 3:prompt:FewShotPromptTemplate] Entering Prompt run with input:\n",
      "\u001b[0m{\n",
      "  \"query\": \"人生有几个不捡？仅从“笑死”中找答案。\"\n",
      "}\n",
      "\u001b[36;1m\u001b[1;3m[chain/end]\u001b[0m \u001b[1m[1:retriever:Retriever > 2:chain:RunnableSequence > 3:prompt:FewShotPromptTemplate] [0ms] Exiting Prompt run with output:\n",
      "\u001b[0m{\n",
      "  \"lc\": 1,\n",
      "  \"type\": \"constructor\",\n",
      "  \"id\": [\n",
      "    \"langchain\",\n",
      "    \"prompts\",\n",
      "    \"base\",\n",
      "    \"StringPromptValue\"\n",
      "  ],\n",
      "  \"kwargs\": {\n",
      "    \"text\": \"Your goal is to structure the user's query to match the request schema provided below.\\n\\n\\n\\n<< Structured Request Schema >>\\n\\nWhen responding use a markdown code snippet with a JSON object formatted in the following schema:\\n\\n\\n\\n```json\\n\\n{\\n\\n    \\\"query\\\": string \\\\ text string to compare to document contents\\n\\n    \\\"filter\\\": string \\\\ logical condition statement for filtering documents\\n\\n}\\n\\n```\\n\\n\\n\\nThe query string should contain only text that is expected to match the contents of documents. Any conditions in the filter should not be mentioned in the query as well.\\n\\n\\n\\nMake sure that you only use the comparators and logical operators listed above and no others.\\n\\nMake sure that filters only use the attributed names with its function names if there are functions applied on them.\\n\\nMake sure that filters only use format `YYYYMMDD` when handling date data typed values.\\n\\nMake sure that filters take into account the descriptions of attributes and only make comparisons that are feasible given the type of data being stored.\\n\\nMake sure that filters are only used as needed. If there are no filters that should be applied return \\\"NO_FILTER\\\" for the filter value.\\n\\nMake sure that filters only refer to attributes that exist in the data source. Available attributes: ['content', 'date_start', 'author', 'id', 'tags', 'name', 'source', 'date_end']. Don't make up other attributes.\\n\\n\\n\\n<<Data Source>>\\n\\n```json\\n\\n{\\n    \\\"content\\\": \\\"文章\\\",\\n    \\\"attributes\\\": {\\n        \\\"author\\\": {\\n            \\\"description\\\": \\\"本篇文章的作者\\\",\\n            \\\"type\\\": \\\"string\\\"\\n        },\\n        \\\"date_start\\\": {\\n            \\\"description\\\": \\\"文章被创建的时间，格式是YYYYMMDD\\\",\\n            \\\"type\\\": \\\"string\\\"\\n        },\\n        \\\"date_end\\\": {\\n            \\\"description\\\": \\\"文章被完成的时间，格式是YYYYMMDD\\\",\\n            \\\"type\\\": \\\"string\\\"\\n        },\\n        \\\"id\\\": {\\n            \\\"description\\\": \\\"文章的id\\\",\\n            \\\"type\\\": \\\"string\\\"\\n        },\\n        \\\"name\\\": {\\n            \\\"description\\\": \\\"文章的名字\\\",\\n            \\\"type\\\": \\\"string\\\"\\n        },\\n        \\\"source\\\": {\\n            \\\"description\\\": \\\"文章的来源，这里的文章取自若干不同数据库\\\",\\n            \\\"type\\\": \\\"string\\\"\\n        },\\n        \\\"tags\\\": {\\n            \\\"description\\\": \\\"文章的标签，可能代表它的风格、题材、来源，或者系列\\\",\\n            \\\"type\\\": \\\"string\\\"\\n        }\\n    }\\n}\\n\\n```\\n\\n\\n<< Example 1. >>\\nUser Query:\\n谁是王尔德？仅从“小说”中找答案。\\n\\nStructured Request:\\n```json\\n{\\n    \\\"query\\\": \\\"谁是王尔德？\\\",\\n    \\\"filter\\\": \\\"or(like(\\\\\\\"source\\\\\\\", \\\\\\\"小说\\\\\\\"), like(\\\\\\\"tags\\\\\\\", \\\\\\\"小说\\\\\\\"), like(\\\\\\\"name\\\\\\\", \\\\\\\"小说\\\\\\\"))\\\"\\n}\\n```\\n\\n\\n<< Example 2. >>\\nUser Query:\\n请从三岛由纪夫的小说找到下文相关片段：“我们之所以突然变得残暴”的后面是什么？\\n\\nStructured Request:\\n```json\\n{\\n    \\\"query\\\": \\\"我们之所以突然变得残暴\\\",\\n    \\\"filter\\\": \\\"or(like(\\\\\\\"source\\\\\\\", \\\\\\\"小说\\\\\\\"),  like(\\\\\\\"tags\\\\\\\", \\\\\\\"小说\\\\\\\"), like(\\\\\\\"name\\\\\\\", \\\\\\\"三岛由纪夫\\\\\\\"), like(\\\\\\\"author\\\\\\\", \\\\\\\"三岛由纪夫\\\\\\\"))\\\"\\n}\\n```\\n\\n\\n<< Example 3. >>\\nUser Query:\\n《天使与昆虫》是哪位作家的作品？\\n\\nStructured Request:\\n```json\\n{\\n    \\\"query\\\": \\\"天使与昆虫\\\",\\n    \\\"filter\\\": \\\"or(like(\\\\\\\"source\\\\\\\", \\\\\\\"天使与昆虫\\\\\\\"), like(\\\\\\\"tags\\\\\\\", \\\\\\\"天使与昆虫\\\\\\\"), like(\\\\\\\"name\\\\\\\", \\\\\\\"天使与昆虫\\\\\\\"))\\\"\\n}\\n```\\n\\n\\n<< Example 4. >>\\nUser Query:\\n道连是哪本小说中出现的人物？\\n\\nStructured Request:\\n```json\\n{\\n    \\\"query\\\": \\\"道连\\\",\\n    \\\"filter\\\": \\\"or(like(\\\\\\\"source\\\\\\\", \\\\\\\"小说\\\\\\\"), like(\\\\\\\"tags\\\\\\\", \\\\\\\"小说\\\\\\\"), like(\\\\\\\"name\\\\\\\", \\\\\\\"小说\\\\\\\"))\\\"\\n}\\n```\\n\\n\\n<< Example 5. >>\\nUser Query:\\n本多是王尔德笔下的人物吗？\\n\\nStructured Request:\\n```json\\n{\\n    \\\"query\\\": \\\"本多\\\",\\n    \\\"filter\\\": \\\"or(like(\\\\\\\"source\\\\\\\", \\\\\\\"王尔德\\\\\\\"), like(\\\\\\\"tags\\\\\\\", \\\\\\\"王尔德\\\\\\\")， like(\\\\\\\"name\\\\\\\", \\\\\\\"王尔德\\\\\\\"), like(\\\\\\\"author\\\\\\\", \\\\\\\"王尔德\\\\\\\"))\\\"\\n}\\n```\\n\\n\\n<< Example 6. >>\\nUser Query:\\n我在2019年到2022年间写过多少游记？\\n\\nStructured Request:\\n```json\\n{\\n    \\\"query\\\": \\\"游记\\\",\\n    \\\"filter\\\": \\\"and(eq(\\\\\\\"source\\\\\\\", \\\\\\\"写作\\\\\\\"), gt(\\\\\\\"date_start\\\\\\\", 20190101), lt(\\\\\\\"date_start\\\\\\\", 20221231))\\\"\\n}\\n```\\n\\n\\n<< Example 7. >>\\nUser Query:\\n美国有多少个州？\\n\\nStructured Request:\\n```json\\n{\\n    \\\"query\\\": \\\"\\\",\\n    \\\"filter\\\": \\\"NO_FILTER\\\"\\n}\\n```\\n\\n\\n<< Example 8. >>\\nUser Query:\\n人生有几个不捡？仅从“笑死”中找答案。\\n\\nStructured Request:\\n\"\n",
      "  }\n",
      "}\n",
      "\u001b[32;1m\u001b[1;3m[llm/start]\u001b[0m \u001b[1m[1:retriever:Retriever > 2:chain:RunnableSequence > 4:llm:LlamaCpp] Entering LLM run with input:\n",
      "\u001b[0m{\n",
      "  \"prompts\": [\n",
      "    \"Your goal is to structure the user's query to match the request schema provided below.\\n\\n\\n\\n<< Structured Request Schema >>\\n\\nWhen responding use a markdown code snippet with a JSON object formatted in the following schema:\\n\\n\\n\\n```json\\n\\n{\\n\\n    \\\"query\\\": string \\\\ text string to compare to document contents\\n\\n    \\\"filter\\\": string \\\\ logical condition statement for filtering documents\\n\\n}\\n\\n```\\n\\n\\n\\nThe query string should contain only text that is expected to match the contents of documents. Any conditions in the filter should not be mentioned in the query as well.\\n\\n\\n\\nMake sure that you only use the comparators and logical operators listed above and no others.\\n\\nMake sure that filters only use the attributed names with its function names if there are functions applied on them.\\n\\nMake sure that filters only use format `YYYYMMDD` when handling date data typed values.\\n\\nMake sure that filters take into account the descriptions of attributes and only make comparisons that are feasible given the type of data being stored.\\n\\nMake sure that filters are only used as needed. If there are no filters that should be applied return \\\"NO_FILTER\\\" for the filter value.\\n\\nMake sure that filters only refer to attributes that exist in the data source. Available attributes: ['content', 'date_start', 'author', 'id', 'tags', 'name', 'source', 'date_end']. Don't make up other attributes.\\n\\n\\n\\n<<Data Source>>\\n\\n```json\\n\\n{\\n    \\\"content\\\": \\\"文章\\\",\\n    \\\"attributes\\\": {\\n        \\\"author\\\": {\\n            \\\"description\\\": \\\"本篇文章的作者\\\",\\n            \\\"type\\\": \\\"string\\\"\\n        },\\n        \\\"date_start\\\": {\\n            \\\"description\\\": \\\"文章被创建的时间，格式是YYYYMMDD\\\",\\n            \\\"type\\\": \\\"string\\\"\\n        },\\n        \\\"date_end\\\": {\\n            \\\"description\\\": \\\"文章被完成的时间，格式是YYYYMMDD\\\",\\n            \\\"type\\\": \\\"string\\\"\\n        },\\n        \\\"id\\\": {\\n            \\\"description\\\": \\\"文章的id\\\",\\n            \\\"type\\\": \\\"string\\\"\\n        },\\n        \\\"name\\\": {\\n            \\\"description\\\": \\\"文章的名字\\\",\\n            \\\"type\\\": \\\"string\\\"\\n        },\\n        \\\"source\\\": {\\n            \\\"description\\\": \\\"文章的来源，这里的文章取自若干不同数据库\\\",\\n            \\\"type\\\": \\\"string\\\"\\n        },\\n        \\\"tags\\\": {\\n            \\\"description\\\": \\\"文章的标签，可能代表它的风格、题材、来源，或者系列\\\",\\n            \\\"type\\\": \\\"string\\\"\\n        }\\n    }\\n}\\n\\n```\\n\\n\\n<< Example 1. >>\\nUser Query:\\n谁是王尔德？仅从“小说”中找答案。\\n\\nStructured Request:\\n```json\\n{\\n    \\\"query\\\": \\\"谁是王尔德？\\\",\\n    \\\"filter\\\": \\\"or(like(\\\\\\\"source\\\\\\\", \\\\\\\"小说\\\\\\\"), like(\\\\\\\"tags\\\\\\\", \\\\\\\"小说\\\\\\\"), like(\\\\\\\"name\\\\\\\", \\\\\\\"小说\\\\\\\"))\\\"\\n}\\n```\\n\\n\\n<< Example 2. >>\\nUser Query:\\n请从三岛由纪夫的小说找到下文相关片段：“我们之所以突然变得残暴”的后面是什么？\\n\\nStructured Request:\\n```json\\n{\\n    \\\"query\\\": \\\"我们之所以突然变得残暴\\\",\\n    \\\"filter\\\": \\\"or(like(\\\\\\\"source\\\\\\\", \\\\\\\"小说\\\\\\\"),  like(\\\\\\\"tags\\\\\\\", \\\\\\\"小说\\\\\\\"), like(\\\\\\\"name\\\\\\\", \\\\\\\"三岛由纪夫\\\\\\\"), like(\\\\\\\"author\\\\\\\", \\\\\\\"三岛由纪夫\\\\\\\"))\\\"\\n}\\n```\\n\\n\\n<< Example 3. >>\\nUser Query:\\n《天使与昆虫》是哪位作家的作品？\\n\\nStructured Request:\\n```json\\n{\\n    \\\"query\\\": \\\"天使与昆虫\\\",\\n    \\\"filter\\\": \\\"or(like(\\\\\\\"source\\\\\\\", \\\\\\\"天使与昆虫\\\\\\\"), like(\\\\\\\"tags\\\\\\\", \\\\\\\"天使与昆虫\\\\\\\"), like(\\\\\\\"name\\\\\\\", \\\\\\\"天使与昆虫\\\\\\\"))\\\"\\n}\\n```\\n\\n\\n<< Example 4. >>\\nUser Query:\\n道连是哪本小说中出现的人物？\\n\\nStructured Request:\\n```json\\n{\\n    \\\"query\\\": \\\"道连\\\",\\n    \\\"filter\\\": \\\"or(like(\\\\\\\"source\\\\\\\", \\\\\\\"小说\\\\\\\"), like(\\\\\\\"tags\\\\\\\", \\\\\\\"小说\\\\\\\"), like(\\\\\\\"name\\\\\\\", \\\\\\\"小说\\\\\\\"))\\\"\\n}\\n```\\n\\n\\n<< Example 5. >>\\nUser Query:\\n本多是王尔德笔下的人物吗？\\n\\nStructured Request:\\n```json\\n{\\n    \\\"query\\\": \\\"本多\\\",\\n    \\\"filter\\\": \\\"or(like(\\\\\\\"source\\\\\\\", \\\\\\\"王尔德\\\\\\\"), like(\\\\\\\"tags\\\\\\\", \\\\\\\"王尔德\\\\\\\")， like(\\\\\\\"name\\\\\\\", \\\\\\\"王尔德\\\\\\\"), like(\\\\\\\"author\\\\\\\", \\\\\\\"王尔德\\\\\\\"))\\\"\\n}\\n```\\n\\n\\n<< Example 6. >>\\nUser Query:\\n我在2019年到2022年间写过多少游记？\\n\\nStructured Request:\\n```json\\n{\\n    \\\"query\\\": \\\"游记\\\",\\n    \\\"filter\\\": \\\"and(eq(\\\\\\\"source\\\\\\\", \\\\\\\"写作\\\\\\\"), gt(\\\\\\\"date_start\\\\\\\", 20190101), lt(\\\\\\\"date_start\\\\\\\", 20221231))\\\"\\n}\\n```\\n\\n\\n<< Example 7. >>\\nUser Query:\\n美国有多少个州？\\n\\nStructured Request:\\n```json\\n{\\n    \\\"query\\\": \\\"\\\",\\n    \\\"filter\\\": \\\"NO_FILTER\\\"\\n}\\n```\\n\\n\\n<< Example 8. >>\\nUser Query:\\n人生有几个不捡？仅从“笑死”中找答案。\\n\\nStructured Request:\"\n",
      "  ]\n",
      "}\n"
     ]
    },
    {
     "name": "stderr",
     "output_type": "stream",
     "text": [
      "\n",
      "llama_print_timings:        load time =    6683.99 ms\n",
      "llama_print_timings:      sample time =      91.92 ms /   256 runs   (    0.36 ms per token,  2785.00 tokens per second)\n",
      "llama_print_timings: prompt eval time =    1023.08 ms /    19 tokens (   53.85 ms per token,    18.57 tokens per second)\n",
      "llama_print_timings:        eval time =   18236.48 ms /   255 runs   (   71.52 ms per token,    13.98 tokens per second)\n",
      "llama_print_timings:       total time =   20953.50 ms /   274 tokens\n",
      "Metadata key author not found in metadata. Setting to None. \n",
      "Metadata fields defined for this instance: ['author', 'id', 'name', 'source', 'tags', 'date_start', 'date_end']\n",
      "Metadata key tags not found in metadata. Setting to None. \n",
      "Metadata fields defined for this instance: ['author', 'id', 'name', 'source', 'tags', 'date_start', 'date_end']\n",
      "Metadata key date_start not found in metadata. Setting to None. \n",
      "Metadata fields defined for this instance: ['author', 'id', 'name', 'source', 'tags', 'date_start', 'date_end']\n",
      "Metadata key date_end not found in metadata. Setting to None. \n",
      "Metadata fields defined for this instance: ['author', 'id', 'name', 'source', 'tags', 'date_start', 'date_end']\n"
     ]
    },
    {
     "name": "stdout",
     "output_type": "stream",
     "text": [
      "\u001b[36;1m\u001b[1;3m[llm/end]\u001b[0m \u001b[1m[1:retriever:Retriever > 2:chain:RunnableSequence > 4:llm:LlamaCpp] [20.96s] Exiting LLM run with output:\n",
      "\u001b[0m{\n",
      "  \"generations\": [\n",
      "    [\n",
      "      {\n",
      "        \"text\": \"```json\\n{  \\n     \\\"query\\\": \\\"人生有几个不捡？\\\",  \\n     \\\"filter\\\": \\\"or(like(\\\\\\\"source\\\\\\\", \\\\\\\"笑死\\\\\\\"), like(\\\\\\\"tags\\\\\\\", \\\\\\\"笑死\\\\\\\"), like(\\\\\\\"name\\\\\\\", \\\\\\\"笑死\\\\\\\"))\\\"  \\n}\\n```[PAD151645]\\n[PAD151644]'t be able to solve this[PAD151645]\\n[PAD151644]\\n[PAD151644]\\n[PAD151644]\\n[PAD151644]\\n[PAD151644]\\n[PAD151644]\\n[PAD151644]\\n[PAD151644]\\n[PAD151644]\\n[PAD151644]\\n[PAD151644]\\n[PAD151644]\\n[PAD151644]\\n[PAD151644]\\n[PAD151644]\\n[PAD151644]\\n[PAD151644]\\n[PAD151644]\\n[PAD151644]\\n[PAD151644]\\n[PAD151644]\\n[PAD151644]\\n[PAD151644]\\n[PAD151644]\\n[PAD151644]\\n[PAD151644]\\n[PAD151644]\\n[PAD151644]\\n[PAD151644]\\n[PAD151644]\\n[PAD151644]\\n[PAD151644]\\n[PAD151644]\\n[PAD151644]\\n[PAD151644]\\n[PAD151644]\\n[PAD151644]\\n[PAD151644]\\n[PAD151644]\\n[PAD151644]\\n[PAD151644]\\n[PAD151644]\\n[PAD151644]\\n[PAD151644]\\n[PAD151644]\\n[PAD151644]\\n[PAD151644]\\n[PAD151644]\\n[PAD151644]\\n[PAD151644]\\n[PAD151644]\\n[PAD151644]\\n[PAD151644]\\n[PAD151644]\\n[PAD151644]\\n[PAD151644]\\n[PAD151644]\\n[PAD151644]\\n[PAD151644]\\n[PAD151644]\\n[PAD151644]\\n[PAD151644]\\n[PAD151644]\\n[PAD151644]\\n[PAD151644]\\n[PAD151644]\\n[PAD151644]\\n[PAD151644]\\n[PAD151644]\\n[PAD151644]\\n[PAD151644]\\n[PAD151644]\\n[PAD151644]\\n[PAD151644]\\n[PAD151644]\\n[PAD151644]\\n[PAD151644]\\n[PAD151644]\\n[PAD151644]\\n[PAD151644]\\n[PAD151644]\\n[PAD151644]\\n[PAD151644]\\n[PAD151644]\\n[PAD151644]\\n[PAD151644]\\n[PAD151644]\\n[PAD151644]\\n[PAD151644]\\n[PAD151644]\\n[PAD151644]\\n[PAD151644]\\n[PAD151644]\\n[PAD151644]\\n[PAD151644]\\n\",\n",
      "        \"generation_info\": null,\n",
      "        \"type\": \"Generation\"\n",
      "      }\n",
      "    ]\n",
      "  ],\n",
      "  \"llm_output\": null,\n",
      "  \"run\": null\n",
      "}\n",
      "\u001b[32;1m\u001b[1;3m[chain/start]\u001b[0m \u001b[1m[1:retriever:Retriever > 2:chain:RunnableSequence > 5:parser:StructuredQueryOutputParser] Entering Parser run with input:\n",
      "\u001b[0m{\n",
      "  \"input\": \"```json\\n{  \\n     \\\"query\\\": \\\"人生有几个不捡？\\\",  \\n     \\\"filter\\\": \\\"or(like(\\\\\\\"source\\\\\\\", \\\\\\\"笑死\\\\\\\"), like(\\\\\\\"tags\\\\\\\", \\\\\\\"笑死\\\\\\\"), like(\\\\\\\"name\\\\\\\", \\\\\\\"笑死\\\\\\\"))\\\"  \\n}\\n```[PAD151645]\\n[PAD151644]'t be able to solve this[PAD151645]\\n[PAD151644]\\n[PAD151644]\\n[PAD151644]\\n[PAD151644]\\n[PAD151644]\\n[PAD151644]\\n[PAD151644]\\n[PAD151644]\\n[PAD151644]\\n[PAD151644]\\n[PAD151644]\\n[PAD151644]\\n[PAD151644]\\n[PAD151644]\\n[PAD151644]\\n[PAD151644]\\n[PAD151644]\\n[PAD151644]\\n[PAD151644]\\n[PAD151644]\\n[PAD151644]\\n[PAD151644]\\n[PAD151644]\\n[PAD151644]\\n[PAD151644]\\n[PAD151644]\\n[PAD151644]\\n[PAD151644]\\n[PAD151644]\\n[PAD151644]\\n[PAD151644]\\n[PAD151644]\\n[PAD151644]\\n[PAD151644]\\n[PAD151644]\\n[PAD151644]\\n[PAD151644]\\n[PAD151644]\\n[PAD151644]\\n[PAD151644]\\n[PAD151644]\\n[PAD151644]\\n[PAD151644]\\n[PAD151644]\\n[PAD151644]\\n[PAD151644]\\n[PAD151644]\\n[PAD151644]\\n[PAD151644]\\n[PAD151644]\\n[PAD151644]\\n[PAD151644]\\n[PAD151644]\\n[PAD151644]\\n[PAD151644]\\n[PAD151644]\\n[PAD151644]\\n[PAD151644]\\n[PAD151644]\\n[PAD151644]\\n[PAD151644]\\n[PAD151644]\\n[PAD151644]\\n[PAD151644]\\n[PAD151644]\\n[PAD151644]\\n[PAD151644]\\n[PAD151644]\\n[PAD151644]\\n[PAD151644]\\n[PAD151644]\\n[PAD151644]\\n[PAD151644]\\n[PAD151644]\\n[PAD151644]\\n[PAD151644]\\n[PAD151644]\\n[PAD151644]\\n[PAD151644]\\n[PAD151644]\\n[PAD151644]\\n[PAD151644]\\n[PAD151644]\\n[PAD151644]\\n[PAD151644]\\n[PAD151644]\\n[PAD151644]\\n[PAD151644]\\n[PAD151644]\\n[PAD151644]\\n[PAD151644]\\n[PAD151644]\\n[PAD151644]\\n[PAD151644]\\n[PAD151644]\\n\"\n",
      "}\n",
      "\u001b[36;1m\u001b[1;3m[chain/end]\u001b[0m \u001b[1m[1:retriever:Retriever > 2:chain:RunnableSequence > 5:parser:StructuredQueryOutputParser] [5ms] Exiting Parser run with output:\n",
      "\u001b[0m{\n",
      "  \"lc\": 1,\n",
      "  \"type\": \"not_implemented\",\n",
      "  \"id\": [\n",
      "    \"langchain\",\n",
      "    \"chains\",\n",
      "    \"query_constructor\",\n",
      "    \"ir\",\n",
      "    \"StructuredQuery\"\n",
      "  ],\n",
      "  \"repr\": \"StructuredQuery(query='人生有几个不捡？', filter=Operation(operator=<Operator.OR: 'or'>, arguments=[Comparison(comparator=<Comparator.LIKE: 'like'>, attribute='source', value='笑死'), Comparison(comparator=<Comparator.LIKE: 'like'>, attribute='tags', value='笑死'), Comparison(comparator=<Comparator.LIKE: 'like'>, attribute='name', value='笑死')]), limit=None)\"\n",
      "}\n",
      "\u001b[36;1m\u001b[1;3m[chain/end]\u001b[0m \u001b[1m[1:retriever:Retriever > 2:chain:RunnableSequence] [20.97s] Exiting Chain run with output:\n",
      "\u001b[0m[outputs]\n",
      "CPU times: user 1min 30s, sys: 1.2 s, total: 1min 31s\n",
      "Wall time: 21 s\n"
     ]
    },
    {
     "data": {
      "text/plain": [
       "[Document(page_content='人生四不捡：塔吊下边冰红茶，铁轨上边牛肉干，过山车下八宝粥，课桌后边葡萄干', metadata={'id': 'doc:notiondb:ed2544cc5dc24ab0b7f921d300e2b010', 'author': None, 'name': '笑死', 'source': '格言小集', 'tags': None, 'date_start': None, 'date_end': None})]"
      ]
     },
     "execution_count": 21,
     "metadata": {},
     "output_type": "execute_result"
    }
   ],
   "source": [
    "%%time \n",
    "\n",
    "import langchain\n",
    "langchain.debug = True\n",
    "\n",
    "retriever.invoke('人生有几个不捡？仅从“笑死”中找答案。')"
   ]
  },
  {
   "cell_type": "code",
   "execution_count": 22,
   "id": "6283502f-4d93-44d0-81aa-e30f5f73833a",
   "metadata": {
    "scrolled": true
   },
   "outputs": [
    {
     "name": "stderr",
     "output_type": "stream",
     "text": [
      "Llama.generate: prefix-match hit\n"
     ]
    },
    {
     "name": "stdout",
     "output_type": "stream",
     "text": [
      "\u001b[32;1m\u001b[1;3m[chain/start]\u001b[0m \u001b[1m[1:retriever:Retriever > 2:chain:RunnableSequence] Entering Chain run with input:\n",
      "\u001b[0m{\n",
      "  \"query\": \"请列举NBA著名球星3名\"\n",
      "}\n",
      "\u001b[32;1m\u001b[1;3m[chain/start]\u001b[0m \u001b[1m[1:retriever:Retriever > 2:chain:RunnableSequence > 3:prompt:FewShotPromptTemplate] Entering Prompt run with input:\n",
      "\u001b[0m{\n",
      "  \"query\": \"请列举NBA著名球星3名\"\n",
      "}\n",
      "\u001b[36;1m\u001b[1;3m[chain/end]\u001b[0m \u001b[1m[1:retriever:Retriever > 2:chain:RunnableSequence > 3:prompt:FewShotPromptTemplate] [0ms] Exiting Prompt run with output:\n",
      "\u001b[0m{\n",
      "  \"lc\": 1,\n",
      "  \"type\": \"constructor\",\n",
      "  \"id\": [\n",
      "    \"langchain\",\n",
      "    \"prompts\",\n",
      "    \"base\",\n",
      "    \"StringPromptValue\"\n",
      "  ],\n",
      "  \"kwargs\": {\n",
      "    \"text\": \"Your goal is to structure the user's query to match the request schema provided below.\\n\\n\\n\\n<< Structured Request Schema >>\\n\\nWhen responding use a markdown code snippet with a JSON object formatted in the following schema:\\n\\n\\n\\n```json\\n\\n{\\n\\n    \\\"query\\\": string \\\\ text string to compare to document contents\\n\\n    \\\"filter\\\": string \\\\ logical condition statement for filtering documents\\n\\n}\\n\\n```\\n\\n\\n\\nThe query string should contain only text that is expected to match the contents of documents. Any conditions in the filter should not be mentioned in the query as well.\\n\\n\\n\\nMake sure that you only use the comparators and logical operators listed above and no others.\\n\\nMake sure that filters only use the attributed names with its function names if there are functions applied on them.\\n\\nMake sure that filters only use format `YYYYMMDD` when handling date data typed values.\\n\\nMake sure that filters take into account the descriptions of attributes and only make comparisons that are feasible given the type of data being stored.\\n\\nMake sure that filters are only used as needed. If there are no filters that should be applied return \\\"NO_FILTER\\\" for the filter value.\\n\\nMake sure that filters only refer to attributes that exist in the data source. Available attributes: ['content', 'date_start', 'author', 'id', 'tags', 'name', 'source', 'date_end']. Don't make up other attributes.\\n\\n\\n\\n<<Data Source>>\\n\\n```json\\n\\n{\\n    \\\"content\\\": \\\"文章\\\",\\n    \\\"attributes\\\": {\\n        \\\"author\\\": {\\n            \\\"description\\\": \\\"本篇文章的作者\\\",\\n            \\\"type\\\": \\\"string\\\"\\n        },\\n        \\\"date_start\\\": {\\n            \\\"description\\\": \\\"文章被创建的时间，格式是YYYYMMDD\\\",\\n            \\\"type\\\": \\\"string\\\"\\n        },\\n        \\\"date_end\\\": {\\n            \\\"description\\\": \\\"文章被完成的时间，格式是YYYYMMDD\\\",\\n            \\\"type\\\": \\\"string\\\"\\n        },\\n        \\\"id\\\": {\\n            \\\"description\\\": \\\"文章的id\\\",\\n            \\\"type\\\": \\\"string\\\"\\n        },\\n        \\\"name\\\": {\\n            \\\"description\\\": \\\"文章的名字\\\",\\n            \\\"type\\\": \\\"string\\\"\\n        },\\n        \\\"source\\\": {\\n            \\\"description\\\": \\\"文章的来源，这里的文章取自若干不同数据库\\\",\\n            \\\"type\\\": \\\"string\\\"\\n        },\\n        \\\"tags\\\": {\\n            \\\"description\\\": \\\"文章的标签，可能代表它的风格、题材、来源，或者系列\\\",\\n            \\\"type\\\": \\\"string\\\"\\n        }\\n    }\\n}\\n\\n```\\n\\n\\n<< Example 1. >>\\nUser Query:\\n谁是王尔德？仅从“小说”中找答案。\\n\\nStructured Request:\\n```json\\n{\\n    \\\"query\\\": \\\"谁是王尔德？\\\",\\n    \\\"filter\\\": \\\"or(like(\\\\\\\"source\\\\\\\", \\\\\\\"小说\\\\\\\"), like(\\\\\\\"tags\\\\\\\", \\\\\\\"小说\\\\\\\"), like(\\\\\\\"name\\\\\\\", \\\\\\\"小说\\\\\\\"))\\\"\\n}\\n```\\n\\n\\n<< Example 2. >>\\nUser Query:\\n请从三岛由纪夫的小说找到下文相关片段：“我们之所以突然变得残暴”的后面是什么？\\n\\nStructured Request:\\n```json\\n{\\n    \\\"query\\\": \\\"我们之所以突然变得残暴\\\",\\n    \\\"filter\\\": \\\"or(like(\\\\\\\"source\\\\\\\", \\\\\\\"小说\\\\\\\"),  like(\\\\\\\"tags\\\\\\\", \\\\\\\"小说\\\\\\\"), like(\\\\\\\"name\\\\\\\", \\\\\\\"三岛由纪夫\\\\\\\"), like(\\\\\\\"author\\\\\\\", \\\\\\\"三岛由纪夫\\\\\\\"))\\\"\\n}\\n```\\n\\n\\n<< Example 3. >>\\nUser Query:\\n《天使与昆虫》是哪位作家的作品？\\n\\nStructured Request:\\n```json\\n{\\n    \\\"query\\\": \\\"天使与昆虫\\\",\\n    \\\"filter\\\": \\\"or(like(\\\\\\\"source\\\\\\\", \\\\\\\"天使与昆虫\\\\\\\"), like(\\\\\\\"tags\\\\\\\", \\\\\\\"天使与昆虫\\\\\\\"), like(\\\\\\\"name\\\\\\\", \\\\\\\"天使与昆虫\\\\\\\"))\\\"\\n}\\n```\\n\\n\\n<< Example 4. >>\\nUser Query:\\n道连是哪本小说中出现的人物？\\n\\nStructured Request:\\n```json\\n{\\n    \\\"query\\\": \\\"道连\\\",\\n    \\\"filter\\\": \\\"or(like(\\\\\\\"source\\\\\\\", \\\\\\\"小说\\\\\\\"), like(\\\\\\\"tags\\\\\\\", \\\\\\\"小说\\\\\\\"), like(\\\\\\\"name\\\\\\\", \\\\\\\"小说\\\\\\\"))\\\"\\n}\\n```\\n\\n\\n<< Example 5. >>\\nUser Query:\\n本多是王尔德笔下的人物吗？\\n\\nStructured Request:\\n```json\\n{\\n    \\\"query\\\": \\\"本多\\\",\\n    \\\"filter\\\": \\\"or(like(\\\\\\\"source\\\\\\\", \\\\\\\"王尔德\\\\\\\"), like(\\\\\\\"tags\\\\\\\", \\\\\\\"王尔德\\\\\\\")， like(\\\\\\\"name\\\\\\\", \\\\\\\"王尔德\\\\\\\"), like(\\\\\\\"author\\\\\\\", \\\\\\\"王尔德\\\\\\\"))\\\"\\n}\\n```\\n\\n\\n<< Example 6. >>\\nUser Query:\\n我在2019年到2022年间写过多少游记？\\n\\nStructured Request:\\n```json\\n{\\n    \\\"query\\\": \\\"游记\\\",\\n    \\\"filter\\\": \\\"and(eq(\\\\\\\"source\\\\\\\", \\\\\\\"写作\\\\\\\"), gt(\\\\\\\"date_start\\\\\\\", 20190101), lt(\\\\\\\"date_start\\\\\\\", 20221231))\\\"\\n}\\n```\\n\\n\\n<< Example 7. >>\\nUser Query:\\n美国有多少个州？\\n\\nStructured Request:\\n```json\\n{\\n    \\\"query\\\": \\\"\\\",\\n    \\\"filter\\\": \\\"NO_FILTER\\\"\\n}\\n```\\n\\n\\n<< Example 8. >>\\nUser Query:\\n请列举NBA著名球星3名\\n\\nStructured Request:\\n\"\n",
      "  }\n",
      "}\n",
      "\u001b[32;1m\u001b[1;3m[llm/start]\u001b[0m \u001b[1m[1:retriever:Retriever > 2:chain:RunnableSequence > 4:llm:LlamaCpp] Entering LLM run with input:\n",
      "\u001b[0m{\n",
      "  \"prompts\": [\n",
      "    \"Your goal is to structure the user's query to match the request schema provided below.\\n\\n\\n\\n<< Structured Request Schema >>\\n\\nWhen responding use a markdown code snippet with a JSON object formatted in the following schema:\\n\\n\\n\\n```json\\n\\n{\\n\\n    \\\"query\\\": string \\\\ text string to compare to document contents\\n\\n    \\\"filter\\\": string \\\\ logical condition statement for filtering documents\\n\\n}\\n\\n```\\n\\n\\n\\nThe query string should contain only text that is expected to match the contents of documents. Any conditions in the filter should not be mentioned in the query as well.\\n\\n\\n\\nMake sure that you only use the comparators and logical operators listed above and no others.\\n\\nMake sure that filters only use the attributed names with its function names if there are functions applied on them.\\n\\nMake sure that filters only use format `YYYYMMDD` when handling date data typed values.\\n\\nMake sure that filters take into account the descriptions of attributes and only make comparisons that are feasible given the type of data being stored.\\n\\nMake sure that filters are only used as needed. If there are no filters that should be applied return \\\"NO_FILTER\\\" for the filter value.\\n\\nMake sure that filters only refer to attributes that exist in the data source. Available attributes: ['content', 'date_start', 'author', 'id', 'tags', 'name', 'source', 'date_end']. Don't make up other attributes.\\n\\n\\n\\n<<Data Source>>\\n\\n```json\\n\\n{\\n    \\\"content\\\": \\\"文章\\\",\\n    \\\"attributes\\\": {\\n        \\\"author\\\": {\\n            \\\"description\\\": \\\"本篇文章的作者\\\",\\n            \\\"type\\\": \\\"string\\\"\\n        },\\n        \\\"date_start\\\": {\\n            \\\"description\\\": \\\"文章被创建的时间，格式是YYYYMMDD\\\",\\n            \\\"type\\\": \\\"string\\\"\\n        },\\n        \\\"date_end\\\": {\\n            \\\"description\\\": \\\"文章被完成的时间，格式是YYYYMMDD\\\",\\n            \\\"type\\\": \\\"string\\\"\\n        },\\n        \\\"id\\\": {\\n            \\\"description\\\": \\\"文章的id\\\",\\n            \\\"type\\\": \\\"string\\\"\\n        },\\n        \\\"name\\\": {\\n            \\\"description\\\": \\\"文章的名字\\\",\\n            \\\"type\\\": \\\"string\\\"\\n        },\\n        \\\"source\\\": {\\n            \\\"description\\\": \\\"文章的来源，这里的文章取自若干不同数据库\\\",\\n            \\\"type\\\": \\\"string\\\"\\n        },\\n        \\\"tags\\\": {\\n            \\\"description\\\": \\\"文章的标签，可能代表它的风格、题材、来源，或者系列\\\",\\n            \\\"type\\\": \\\"string\\\"\\n        }\\n    }\\n}\\n\\n```\\n\\n\\n<< Example 1. >>\\nUser Query:\\n谁是王尔德？仅从“小说”中找答案。\\n\\nStructured Request:\\n```json\\n{\\n    \\\"query\\\": \\\"谁是王尔德？\\\",\\n    \\\"filter\\\": \\\"or(like(\\\\\\\"source\\\\\\\", \\\\\\\"小说\\\\\\\"), like(\\\\\\\"tags\\\\\\\", \\\\\\\"小说\\\\\\\"), like(\\\\\\\"name\\\\\\\", \\\\\\\"小说\\\\\\\"))\\\"\\n}\\n```\\n\\n\\n<< Example 2. >>\\nUser Query:\\n请从三岛由纪夫的小说找到下文相关片段：“我们之所以突然变得残暴”的后面是什么？\\n\\nStructured Request:\\n```json\\n{\\n    \\\"query\\\": \\\"我们之所以突然变得残暴\\\",\\n    \\\"filter\\\": \\\"or(like(\\\\\\\"source\\\\\\\", \\\\\\\"小说\\\\\\\"),  like(\\\\\\\"tags\\\\\\\", \\\\\\\"小说\\\\\\\"), like(\\\\\\\"name\\\\\\\", \\\\\\\"三岛由纪夫\\\\\\\"), like(\\\\\\\"author\\\\\\\", \\\\\\\"三岛由纪夫\\\\\\\"))\\\"\\n}\\n```\\n\\n\\n<< Example 3. >>\\nUser Query:\\n《天使与昆虫》是哪位作家的作品？\\n\\nStructured Request:\\n```json\\n{\\n    \\\"query\\\": \\\"天使与昆虫\\\",\\n    \\\"filter\\\": \\\"or(like(\\\\\\\"source\\\\\\\", \\\\\\\"天使与昆虫\\\\\\\"), like(\\\\\\\"tags\\\\\\\", \\\\\\\"天使与昆虫\\\\\\\"), like(\\\\\\\"name\\\\\\\", \\\\\\\"天使与昆虫\\\\\\\"))\\\"\\n}\\n```\\n\\n\\n<< Example 4. >>\\nUser Query:\\n道连是哪本小说中出现的人物？\\n\\nStructured Request:\\n```json\\n{\\n    \\\"query\\\": \\\"道连\\\",\\n    \\\"filter\\\": \\\"or(like(\\\\\\\"source\\\\\\\", \\\\\\\"小说\\\\\\\"), like(\\\\\\\"tags\\\\\\\", \\\\\\\"小说\\\\\\\"), like(\\\\\\\"name\\\\\\\", \\\\\\\"小说\\\\\\\"))\\\"\\n}\\n```\\n\\n\\n<< Example 5. >>\\nUser Query:\\n本多是王尔德笔下的人物吗？\\n\\nStructured Request:\\n```json\\n{\\n    \\\"query\\\": \\\"本多\\\",\\n    \\\"filter\\\": \\\"or(like(\\\\\\\"source\\\\\\\", \\\\\\\"王尔德\\\\\\\"), like(\\\\\\\"tags\\\\\\\", \\\\\\\"王尔德\\\\\\\")， like(\\\\\\\"name\\\\\\\", \\\\\\\"王尔德\\\\\\\"), like(\\\\\\\"author\\\\\\\", \\\\\\\"王尔德\\\\\\\"))\\\"\\n}\\n```\\n\\n\\n<< Example 6. >>\\nUser Query:\\n我在2019年到2022年间写过多少游记？\\n\\nStructured Request:\\n```json\\n{\\n    \\\"query\\\": \\\"游记\\\",\\n    \\\"filter\\\": \\\"and(eq(\\\\\\\"source\\\\\\\", \\\\\\\"写作\\\\\\\"), gt(\\\\\\\"date_start\\\\\\\", 20190101), lt(\\\\\\\"date_start\\\\\\\", 20221231))\\\"\\n}\\n```\\n\\n\\n<< Example 7. >>\\nUser Query:\\n美国有多少个州？\\n\\nStructured Request:\\n```json\\n{\\n    \\\"query\\\": \\\"\\\",\\n    \\\"filter\\\": \\\"NO_FILTER\\\"\\n}\\n```\\n\\n\\n<< Example 8. >>\\nUser Query:\\n请列举NBA著名球星3名\\n\\nStructured Request:\"\n",
      "  ]\n",
      "}\n"
     ]
    },
    {
     "name": "stderr",
     "output_type": "stream",
     "text": [
      "\n",
      "llama_print_timings:        load time =    6683.99 ms\n",
      "llama_print_timings:      sample time =      91.52 ms /   256 runs   (    0.36 ms per token,  2797.36 tokens per second)\n",
      "llama_print_timings: prompt eval time =     653.46 ms /    13 tokens (   50.27 ms per token,    19.89 tokens per second)\n",
      "llama_print_timings:        eval time =   18184.35 ms /   255 runs   (   71.31 ms per token,    14.02 tokens per second)\n",
      "llama_print_timings:       total time =   20542.78 ms /   268 tokens\n",
      "Metadata key author not found in metadata. Setting to None. \n",
      "Metadata fields defined for this instance: ['author', 'id', 'name', 'source', 'tags', 'date_start', 'date_end']\n",
      "Metadata key date_end not found in metadata. Setting to None. \n",
      "Metadata fields defined for this instance: ['author', 'id', 'name', 'source', 'tags', 'date_start', 'date_end']\n",
      "Metadata key author not found in metadata. Setting to None. \n",
      "Metadata fields defined for this instance: ['author', 'id', 'name', 'source', 'tags', 'date_start', 'date_end']\n",
      "Metadata key name not found in metadata. Setting to None. \n",
      "Metadata fields defined for this instance: ['author', 'id', 'name', 'source', 'tags', 'date_start', 'date_end']\n",
      "Metadata key tags not found in metadata. Setting to None. \n",
      "Metadata fields defined for this instance: ['author', 'id', 'name', 'source', 'tags', 'date_start', 'date_end']\n",
      "Metadata key date_start not found in metadata. Setting to None. \n",
      "Metadata fields defined for this instance: ['author', 'id', 'name', 'source', 'tags', 'date_start', 'date_end']\n",
      "Metadata key date_end not found in metadata. Setting to None. \n",
      "Metadata fields defined for this instance: ['author', 'id', 'name', 'source', 'tags', 'date_start', 'date_end']\n",
      "Metadata key date_end not found in metadata. Setting to None. \n",
      "Metadata fields defined for this instance: ['author', 'id', 'name', 'source', 'tags', 'date_start', 'date_end']\n",
      "Metadata key date_end not found in metadata. Setting to None. \n",
      "Metadata fields defined for this instance: ['author', 'id', 'name', 'source', 'tags', 'date_start', 'date_end']\n"
     ]
    },
    {
     "name": "stdout",
     "output_type": "stream",
     "text": [
      "\u001b[36;1m\u001b[1;3m[llm/end]\u001b[0m \u001b[1m[1:retriever:Retriever > 2:chain:RunnableSequence > 4:llm:LlamaCpp] [20.55s] Exiting LLM run with output:\n",
      "\u001b[0m{\n",
      "  \"generations\": [\n",
      "    [\n",
      "      {\n",
      "        \"text\": \"```json\\n{  \\n    \\\"query\\\": \\\"\\\",  \\n    \\\"filter\\\": \\\"NO_FILTER\\\"\\n}\\n```[PAD151645]\\n[PAD151644][PAD151644]\\n[PAD151644]\\n[PAD151644]\\n[PAD151644]\\n[PAD151644]\\n[PAD151644]\\n[PAD151644]\\n[PAD151644]\\n[PAD151644]\\n[PAD151644]\\n[PAD151644]\\n[PAD151644]\\n[PAD151644]\\n[PAD151644]\\n[PAD151644]\\n[PAD151644]\\n[PAD151644]\\n[PAD151644]\\n[PAD151644]\\n[PAD151644]\\n[PAD151644]\\n[PAD151644]\\n[PAD151644]\\n[PAD151644]\\n[PAD151644]\\n[PAD151644]\\n[PAD151644]\\n[PAD151644]\\n[PAD151644]\\n[PAD151644]\\n[PAD151644]\\n[PAD151644]\\n[PAD151644]\\n[PAD151644]\\n[PAD151644]\\n[PAD151644]\\n[PAD151644]\\n[PAD151644]\\n[PAD151644]\\n[PAD151644]\\n[PAD151644]\\n[PAD151644]\\n[PAD151644]\\n[PAD151644]\\n[PAD151644]\\n[PAD151644]\\n[PAD151644]\\n[PAD151644]\\n[PAD151644]\\n[PAD151644]\\n[PAD151644]\\n[PAD151644]\\n[PAD151644]\\n[PAD151644]\\n[PAD151644]\\n[PAD151644]\\n[PAD151644]\\n[PAD151644]\\n[PAD151644]\\n[PAD151644]\\n[PAD151644]\\n[PAD151644]\\n[PAD151644]\\n[PAD151644]\\n[PAD151644]\\n[PAD151644]\\n[PAD151644]\\n[PAD151644]\\n[PAD151644]\\n[PAD151644]\\n[PAD151644]\\n[PAD151644]\\n[PAD151644]\\n[PAD151644]\\n[PAD151644]\\n[PAD151644]\\n[PAD151644]\\n[PAD151644]\\n[PAD151644]\\n[PAD151644]\\n[PAD151644]\\n[PAD151644]\\n[PAD151644]\\n[PAD151644]\\n[PAD151644]\\n[PAD151644]\\n[PAD151644]\\n[PAD151644]\\n[PAD151644]\\n[PAD151644]\\n[PAD151644]\\n[PAD151644]\\n[PAD151644]\\n[PAD151644]\\n[PAD151644]\\n[PAD151644]\\n[PAD151644]\\n[PAD151644]\\n[PAD151644]\\n[PAD151644]\\n[PAD151644]\\n[PAD151644]\\n[PAD151644]\\n[PAD151644]\\n[PAD151644]\\n[PAD151644]\\n[PAD151644]\\n[PAD151644]\\n[PAD151644]\\n[PAD151644]\\n[PAD151644]\\n[PAD151644]\\n[PAD151644]\\n[PAD151644]\\n[PAD151644]\\n[PAD151644]\\n\",\n",
      "        \"generation_info\": null,\n",
      "        \"type\": \"Generation\"\n",
      "      }\n",
      "    ]\n",
      "  ],\n",
      "  \"llm_output\": null,\n",
      "  \"run\": null\n",
      "}\n",
      "\u001b[32;1m\u001b[1;3m[chain/start]\u001b[0m \u001b[1m[1:retriever:Retriever > 2:chain:RunnableSequence > 5:parser:StructuredQueryOutputParser] Entering Parser run with input:\n",
      "\u001b[0m{\n",
      "  \"input\": \"```json\\n{  \\n    \\\"query\\\": \\\"\\\",  \\n    \\\"filter\\\": \\\"NO_FILTER\\\"\\n}\\n```[PAD151645]\\n[PAD151644][PAD151644]\\n[PAD151644]\\n[PAD151644]\\n[PAD151644]\\n[PAD151644]\\n[PAD151644]\\n[PAD151644]\\n[PAD151644]\\n[PAD151644]\\n[PAD151644]\\n[PAD151644]\\n[PAD151644]\\n[PAD151644]\\n[PAD151644]\\n[PAD151644]\\n[PAD151644]\\n[PAD151644]\\n[PAD151644]\\n[PAD151644]\\n[PAD151644]\\n[PAD151644]\\n[PAD151644]\\n[PAD151644]\\n[PAD151644]\\n[PAD151644]\\n[PAD151644]\\n[PAD151644]\\n[PAD151644]\\n[PAD151644]\\n[PAD151644]\\n[PAD151644]\\n[PAD151644]\\n[PAD151644]\\n[PAD151644]\\n[PAD151644]\\n[PAD151644]\\n[PAD151644]\\n[PAD151644]\\n[PAD151644]\\n[PAD151644]\\n[PAD151644]\\n[PAD151644]\\n[PAD151644]\\n[PAD151644]\\n[PAD151644]\\n[PAD151644]\\n[PAD151644]\\n[PAD151644]\\n[PAD151644]\\n[PAD151644]\\n[PAD151644]\\n[PAD151644]\\n[PAD151644]\\n[PAD151644]\\n[PAD151644]\\n[PAD151644]\\n[PAD151644]\\n[PAD151644]\\n[PAD151644]\\n[PAD151644]\\n[PAD151644]\\n[PAD151644]\\n[PAD151644]\\n[PAD151644]\\n[PAD151644]\\n[PAD151644]\\n[PAD151644]\\n[PAD151644]\\n[PAD151644]\\n[PAD151644]\\n[PAD151644]\\n[PAD151644]\\n[PAD151644]\\n[PAD151644]\\n[PAD151644]\\n[PAD151644]\\n[PAD151644]\\n[PAD151644]\\n[PAD151644]\\n[PAD151644]\\n[PAD151644]\\n[PAD151644]\\n[PAD151644]\\n[PAD151644]\\n[PAD151644]\\n[PAD151644]\\n[PAD151644]\\n[PAD151644]\\n[PAD151644]\\n[PAD151644]\\n[PAD151644]\\n[PAD151644]\\n[PAD151644]\\n[PAD151644]\\n[PAD151644]\\n[PAD151644]\\n[PAD151644]\\n[PAD151644]\\n[PAD151644]\\n[PAD151644]\\n[PAD151644]\\n[PAD151644]\\n[PAD151644]\\n[PAD151644]\\n[PAD151644]\\n[PAD151644]\\n[PAD151644]\\n[PAD151644]\\n[PAD151644]\\n[PAD151644]\\n[PAD151644]\\n[PAD151644]\\n[PAD151644]\\n[PAD151644]\\n[PAD151644]\\n[PAD151644]\\n\"\n",
      "}\n",
      "\u001b[36;1m\u001b[1;3m[chain/end]\u001b[0m \u001b[1m[1:retriever:Retriever > 2:chain:RunnableSequence > 5:parser:StructuredQueryOutputParser] [5ms] Exiting Parser run with output:\n",
      "\u001b[0m{\n",
      "  \"lc\": 1,\n",
      "  \"type\": \"not_implemented\",\n",
      "  \"id\": [\n",
      "    \"langchain\",\n",
      "    \"chains\",\n",
      "    \"query_constructor\",\n",
      "    \"ir\",\n",
      "    \"StructuredQuery\"\n",
      "  ],\n",
      "  \"repr\": \"StructuredQuery(query=' ', filter=None, limit=None)\"\n",
      "}\n",
      "\u001b[36;1m\u001b[1;3m[chain/end]\u001b[0m \u001b[1m[1:retriever:Retriever > 2:chain:RunnableSequence] [20.56s] Exiting Chain run with output:\n",
      "\u001b[0m[outputs]\n",
      "CPU times: user 1min 28s, sys: 1.04 s, total: 1min 29s\n",
      "Wall time: 20.7 s\n"
     ]
    },
    {
     "data": {
      "text/plain": [
       "[Document(page_content='', metadata={'id': 'doc:notiondb:26995b7bf5434eabbd41856e6cb8cc5e', 'author': None, 'name': '中华诗歌百年精华', 'source': '读书笔记（文学）', 'tags': '诗', 'date_start': '20240228', 'date_end': None}),\n",
       " Document(page_content='', metadata={'id': 'doc:notiondb:c057a3ca679d441aac0475ca8a84d196', 'author': None, 'name': None, 'source': '格言小集', 'tags': None, 'date_start': None, 'date_end': None}),\n",
       " Document(page_content='【作者简介】\\n奥斯卡·王尔德（Oscar Wilde，1854年10月16日—1900年11月30日），出生于爱尔兰都柏林，19世纪英国（准确来讲是爱尔兰，但是当时由英国统治）最伟大的作家与艺术家之一，以其剧作、诗歌、童话和小说闻名，唯美主义代表人物，19世纪80年代美学运动的主力和90年代颓废派运动的先驱。\\n王尔德的文学活动领域十分宽广。他既是诗人（1881年就有他的诗集问世），又写小说、童话（包括《快乐王子》、《石榴之家》、《阿瑟·萨维尔勋爵的罪行》三个集子以及他唯一的长篇小说《道连·葛雷的画像》，以上四种除《快乐王子及其他童话》一种成书于1888年外，其余三种均于1891年出版）。他还写过不少评论和随笔（较重要的有他自己选编的《意图集》以及《社会主义制度下人的灵魂》，均刊行于1891年）。但为他赢得最辉煌成功的要数1892——1895年间先后在伦敦西区舞台上首演的社会讽刺喜剧《温德米尔夫人的扇子》、《一个无足轻重的女人》、《一个理想的丈夫》和《你真的重要》。\\n王尔德总共写过九部戏剧，但另外四部剧作已被遗忘。1895年2月14日，王尔德最后一部、也是他才华机智达到巅峰状态的剧作《认真的重要》在圣詹姆斯剧院首演，观众如潮，盛况空前。两周后，王尔德在阿尔比马尔俱乐部收到昆斯伯里侯爵约翰·道格拉斯留下的名片，上面写着：“致装模作样的好男色者奥斯卡·王尔德”。因为王尔德从1891年开始便与比他小十六岁的阿尔弗雷德·道格拉斯（侯爵之子，当时还在上牛津大学）有不正当关系，而且经常“俪影成双”地出现在伦敦的公共场所并一起旅游，侯爵十分反感。王尔德与年轻男性的同性恋行为遭人物议不自此时始。同年，王尔德以诽谤罪把昆斯伯里侯爵告上法庭，居然向他一贯通过自己的作品和生活方式加以百般嘲弄的维多利亚时代的英国法律和社会求助（两年后，王尔德沉痛地承认自己干了“一生中最可耻、最无法原谅、最可鄙的事 ”）。1895 年4月3日法院开庭审理王尔德诉昆斯伯里侯爵诽谤案（王尔德自幼渴望的倒是能在“女王诉王尔德”的官司中出庭），被告轻而易举地反证原告确系“好男色者”，从而推翻关于诽谤的指控。4月5日，侯爵无罪获释，王尔德反因涉嫌“同其他男子发生有伤风化的肉体关系”被捕后取保候审 。5月25日，伦敦中央刑事法院根据1885年通过的针对男子同性恋的刑法修正案判处王尔德两年劳役刑罚，先后囚于纽盖特、彭顿韦尔和万兹沃斯监狱，11月20日又移至雷丁监狱服满刑期，这位折翅的悖论大师从此一蹶不振。\\n\\n\\n【时代背景】\\n十九世纪末叶，欧洲处于社会大变动的前夜，人心浮动，知识界分化的趋势加剧。在这个被称为“世纪末”的时期，欧洲文艺界一些富有才华的代表人物经历着深刻的思想危机。他们对于自己所属的阶层有相当透彻的了解和颇为强烈的憎恨。为了给自己的创作寻找出路，开辟施展才能的新天地，他们中有些人率先走向唯美主义的殿堂，在文学方面倡导“为艺术的艺术”（Art for Art’s Sake），认为“\\n不是艺术反映生活，而是生活模仿艺术\\n”。王尔德曾经写下这样一段话：“在这动荡和纷乱的时代，在这纷争和绝望的可怕时刻，只有美的无忧的殿堂，可以使人忘却，使人欢乐。我们不去往美的殿堂还能去往何方呢？只能到一部古代意大利异教经典称作citta divana（圣城）的地方去，在那里一个人至少可以暂时摆脱尘世的纷扰与恐怖，也以暂时逃避世俗的选择。”\\n\\n\\n【作品及人物评价】\\n同任何经典作品一样，《画像》也是在其他经典的基础上写出来的。探究其渊源，不难想与魔鬼靡菲斯特的交易，无疑为道连·葛雷表达那个致命的愿望——让画像变老变丑作为自己永葆青春的代价——提供了一份“合同样本”。作为《人间喜剧·哲学研究》系列中影响最大的一部作品，《驴皮记》显然比其他作品与《画像》有更近的亲缘关系。\\n王尔德并不是一个真正随心所欲、完全蔑视礼法的人。他的负罪感一直令他对自己身上堕落的一面觉得如芒刺在背。王尔德自己1894年2月12日在致拉尔夫·佩恩的信中写道：“这本书会造成毒害，或者促成完美，道连·葛雷并不存在……贝泽尔·霍尔渥德是我认为的我个人的写照；亨利勋爵在外界看来就是我；道连是我愿意成为的那类人——可能在别的时代。”在文情斐然的字里行间未必不能发现道德家尖刻审视的目光，甚至在他唯美派或花花公子的面具后面潜伏着一个天生的清教徒也难说。他喜欢他所创造的那个光辉灿烂的世界，但也可以让这个世界随着道连·葛雷临死前极度恐怖的一声惨叫訇然倒塌。说到底，通过《画像》呈现在读者面前的王尔德，首先是一个小说家，而不是哲学家，也不是文化史家，对小说本身也只能从这一角度来评判。即使不用现今比一百年前“开明”得多的尺度加以衡量，《道连·葛雷的画像》也不该被诋为一本不道德的书。\\n\\n\\n“你不懂我的意思，亨利”，画家说。“我当然不像他，这一点我非常清楚。其实我也不愿意像他。你不以为然吗？我对你说的是真话。才貌出众的人多半在劫难逃，这样的劫数好像总是尾随古今帝王的踉跄的脚步。普普通通的人倒更安全些。在这个世界上总是丑人和笨伯最幸运。他们可以舒舒服服地坐在那里看别人表演。纵使他们不知道什么是胜利，至少不必领略失败的滋味。他们的日子本是我们大家应该过的那种日子：安稳太平，无所用心，没有烦恼。他们既不算计别人，也不会遭仇人暗害。你有身份和财产，亨利；我有头脑和才能，且不管它们值得几何；道连·葛雷有美丽的容貌。我们都将为上帝赐给我们的这些东西付出代价，付出可怕的代价。”\\n“我如果非常非常地喜欢谁，我就从来不把他们的名字告诉任何人。这儿有点像把他们部分地出让，我现在变得喜欢秘密行事了，这大概是能够使现代生活在我们心目中变得神秘莫测的唯一办法。哪怕是最平常的事情，只要你把它隐瞒起来，就显得饶有趣味。……（略）这也许是一种愚蠢的习惯，但不知怎么的好像能使一个人的生活平添许多罗曼蒂克的气氛。你大概觉得我这种行为荒唐透顶吧？”\\n“我讨厌你这样谈你的家庭生活，亨利，”贝泽尔·霍尔渥德一面说，一面往通向花园的门那边踱去。“\\n我相信你实际上是个很好的丈夫，不过你硬是以自己的美德为耻辱\\n。你是个怪人。你从来不说正经话，你也从来不做正经的事。\\n你的玩世不恭无非是装腔作势\\n。”\\n“\\n保持本色才是装腔作势，而且是我所知道的最令人讨厌的装腔作势\\n。\\n”亨利勋爵笑着高声说。\\n“……（略）他的容貌向我启示了一种全新的技法，一种全新的风格。我看事物和过去不同了，我对它们的想法也不同了。现在我可以用过去不知道的方式来再现生活。’\\n在理念至上的日子里梦想着形式\\n’，——这是什么人说的？我忘了；但道连·葛雷对我来说正是这样的梦想。……（略）他自己也不知道他在为我们勾勒一个新学派的轮廓，这个学派将具备浪漫精神的全部热情和希腊精神的完美特征。灵魂和肉体的和谐——这是多么了不起啊！\\n我们曾在疯狂的状态中把这两者分离了，发明了庸俗的现实主义和空洞的理想主义\\n。”\\n\\n\\n画家思索了一会儿，然后回答：“他喜欢我，我知道他喜欢我。当然，我对他奉承得很厉害。有些话我明明知道讲了会后悔，可是我觉得向他讲这些话有一种奇妙的乐趣。他对我通常是很亲切的，我们俩坐在画室里海阔天空什么都谈。然而有时候，他麻木不仁得可怕，而且大有以我的痛苦为乐的样子。那时，亨利，我觉得我把自己的整个心灵都给了一个人，\\n这个人却把它当做插在上衣纽孔上的一朵花\\n，当做一件满足虚荣心的装饰品对待，只供夏天一日之用。”\\n“夏天日长，贝泽尔，”亨利勋爵咕哝着。“也许你将比他更早生厌。想起来未免悲哀，但天才无疑要比美耐久些。我们大家拼命想多长点学问，原因就在于此。在激烈的生存竞争中，我们需要有些耐久的东西，所以我们尽把各种垃圾和事实往脑袋里装，妄想保住自己的一席地位。现代的理想人物就是无所不晓的人。而无所不晓的人的头脑很是可怕的。\\n它像一家古董铺子，里面全是古里古怪的玩意儿，到处是灰尘，每一件东西的标价都大大超过本身的价值。\\n不管怎样，我还是认为你将先感到厌倦。总有一天，你看着你的朋友，会觉得他好像不那么匀称，对他的肤色，或者别的什么觉得不中意。你会在心底狠狠地责备他，并且当真地以为他非常对不起你。下次他再来，你就对他十分冷淡了。这将是件很大憾事，然而事所必然。你刚才告诉我的故事的确很罗曼蒂克，可以说是一段艺术的罗曼司，而\\n任何罗曼司最糟糕的后果是叫人变得没有丝毫罗曼蒂克的气息。\\n”\\n“亨利，不要这样说。我活着一天，道连·葛雷就永远是我的主宰。我的感受你是体会不到的。你太多变了。”\\n“啊，我亲爱的贝泽尔，恰恰因为如此，我才能体会你的感受。\\n不变心的人只能体会爱的庸俗的一面，唯有变心的人知道爱的酸辛。\\n”\\n\\n\\n“……（略）但是，我们中间最大胆的人也怕他自己。野蛮时期残害人体的遗风还可悲地反映在人们的自我克制上，这使我们的生活遭到损害。我们正在为这种自我限制受到惩罚。我们竭力压抑的每一种欲望都在我们心中作怪，毒化我们。而肉体一旦犯下罪恶，也就摆脱了作恶的欲念，因为\\n行动是一种净罪的方式\\n。事后留下的只是甜蜜的回忆或悔恨的快感。\\n摆脱诱惑的唯一办法就是向它屈服。\\n”\\n\\n\\n道连·葛雷听着，眼睛睁大，惊讶不迭。一小枝丁香从他手里跌落在铺碎石的地上。一只毛茸茸的蜜蜂飞过来，绕着那枝丁香嗡嗡地转了一阵子。然后它开始爬遍放射形椭圆花球上的每一颗小星。道连异常专心致志地观察着蜜蜂的动静。我们有时也会这样把注意力集中在微不足道的事情上，因为不敢去想真正重要的事情，或者被无法表达的新奇感受搅得心烦，或者某种令人不寒而栗的念头向我们的脑子发动突然袭击，逼迫我们屈服。\\n\\n\\n“是啊，”亨利勋爵感慨地说，“十九世纪的服装可恶至极。色调是那么阴暗、沉闷。\\n现代生活中剩下的唯一真正鲜明的色彩就是罪恶。\\n”\\n\\n\\n【社交俏皮话大全1】\\n道连从桌子的一端向他腼腆地点点头，脸上徐徐泛起高兴的红潮。对面坐着哈里公爵富人，凡是认识她的都喜欢这位心地好、脾气也好的夫人；\\n她的体态丰满，这在当代的历史家笔下会被描写为肥胖\\n，如果其对象不是公爵夫人的话。她右边坐着马斯·柏登爵士，一位激进党议员。\\n他的公开言行紧跟本党的领袖，而在私生活中专去有高明厨师的地方\\n，奉行的是众所周知的明智信条：吃饭跟保守党在一起，思想同自由党一致。坐在哈利公爵夫人左边的是屈莱德里的厄斯金先生，一位相当可爱、颇有教养的老绅士，不过已养成沉默寡言的坏习惯；有一次他向阿加莎夫人解释，他在三十岁以前已经把要说的话都说完了。亨利的邻座是范德勒太太，阿加莎姑妈多年的老朋友，一位十足的女圣人，可是她的打扮粗俗不堪，活像一本装订得非常蹩脚的赞美诗诗集。也算他运气好，范德勒太太的另一边坐着福德尔爵士，一个满腹经纶的庸才，他的秃顶可与内阁大臣在下议院所作的报告内容相媲美。范德勒太太与他交谈时那副一本正经的神态，据福德尔爵士说，是所有真正的好人都烦的一种不可原谅的毛病，而且没有一个人完全摆脱得了。\\n\\n\\n“\\n我同情一切，就是不同情疾苦\\n，”亨利勋爵耸耸肩膀说。“我不能同情疾苦。那实在太丑恶、太可怕、太悲惨。那种赶时髦的同情疾苦有一种非常不健康的味道。人的感情应当倾注在生活的色彩、生活的美、生活的乐趣之中。生活的疮疤少碰为妙。”\\n……（略）\\n那位政治家盯着他问：“那你另有什么能改变局面的高见呢？”\\n亨利勋爵放声大笑。“除了天气，我不打算改变英国的任何事情……（略）”\\n“可是我们肩上的责任是那么重，”范德勒太太鼓起勇气插进来说。\\n“是啊，重极了。”阿加莎夫人附和着。\\n亨利勋爵向厄斯金先生瞧了瞧。“\\n人们把自己看得太了不起了。这是世界的原罪。穴居人如果会笑的话，历史本会是另一种样子的。\\n”\\n\\n\\n“那是在年轻的时候，”她笑道。“要是像我这样的老太婆脸红，可不是好兆。啊，亨利勋爵！希望你告诉我有什么办法恢复青春。”\\n他想了想，然后隔着餐桌眼望着她问道：“公爵夫人，你能不能记起自己年轻时犯过什么大错误？”\\n“恐怕多得很。”\\n“那就重新再犯，”他郑重其事地说。\\n“一个人想恢复青春，只消重演过去干的蠢事就够了。\\n”\\n“多妙的理论！”她惊叹道。“我一定把它变成行动。”\\n……（略）\\n“是的，”亨利勋爵继续说，“这是人生的一大秘密。\\n如今大多数人死于战战兢兢的思想方式，等到发现唯一不后悔的是自己所犯的错误时，一切都太晚了。\\n”\\n\\n\\n他把这个观点作了任意的发挥：既像玩杂耍，又像变戏法；刚刚让它滑过去，随即又把它抓回来；忽而用想象的虹彩把它点缀得五彩缤纷，忽而又给它插上悖论的翅膀任其翱翔。……（略）道连·格雷目不转睛地望着她，像着了魔似的坐在那里，一个又一个微笑在他嘴角互相追逐，颜色转深的眼睛里惊异的神情渐次化为沉思。\\n\\n\\n这是一个奇怪的女人，她的服装永远给人这样的印象：仿佛是在狂怒中设计出来，在暴风雨中穿上身的。她照例热恋着什么人，由于这种爱情始终是单方面的，她的幻想一个也没有破灭。她力图显得新颖别致，然而所达到的只是杂乱无章。她叫维多利亚，她有上教堂的癖好，甚至到了狂热的地步。\\n……（略）\\n等到\\n维多利亚夫人像一只淋了一夜雨的天堂鸟从屋里飞了出去\\n，留下一缕赤素馨花的幽香，亨利勋爵把门关上，然后点上一支烟，在上发上躺下。\\n“道连，千万不要跟一个麦秆色头发的女人结婚，”他抽了几口烟以后说。\\n“为什么，亨利？”\\n“因为她们感情太丰富。”\\n\\n\\n“……（略）但要是我不这样，亲爱的亨利，要是我不进去，我会错过我一生中最了不起的一段罗曼司。我看得出你在笑。你太可恶了！”\\n“我不是在笑，道连，至少不是在笑你。不过你不应当说这是你一生中最了不起的罗曼司。你应当说这是你一生中第一段罗曼司。你将永远被人所爱，你将永远在恋爱中。\\n多情是无所事事者的特权。这是一个国家的有闲阶级的唯一本领。\\n别害怕。等着你去体验的新奇事儿多着呢。这仅仅是开始。”\\n“你把我这个人看得这样浅薄？”道连·葛雷怒冲冲地嚷道。\\n“不，我认为你有深情。”\\n“这怎么讲？”\\n“我的老弟，\\n一生中只恋爱一次的人才真正是浅薄的。\\n他们称作忠诚、坚贞的品质，我认为是习惯的昏睡病或缺乏想象力。\\n情感生活中的忠实就同理性生活中的惯性一样，无非是承认失败。\\n忠实！将来我要对它做一番研究。这种感情包藏着占有欲。\\n我们本来可以扔掉许多东西，如果不怕别人捡去的话。\\n”\\n\\n\\n“道连，你是生活中的任性而快活的人，像你这样的人不会去犯罪。不过你对我的恭维还是使我感到荣幸。现在请你告诉我——请把火柴递给我，好孩子，谢谢！——你跟西碧儿·韦恩现在究竟是怎样的关系？”\\n道连·格雷霍地跳了起来，两腮通红，双目怒睁。“亨利！西碧儿·韦恩是神圣的！”\\n“\\n只有神圣的东西才值得去碰\\n，道连，”亨利勋爵的声调出人意料地稍带几分激昂。“你何必发火呢？我料想她总有一天会属于你的。\\n恋爱中的人总是先欺骗自己，最后欺骗别人。这就是大家所说的罗曼司。\\n”\\n\\n\\n“哦，贝泽尔是个再好不过的人，可我觉得他有那么一点儿迂腐。亨利，自从我和你认识以后，我有这样的感觉。”\\n“老弟，贝泽尔把他身上的全部可爱的气质都放到创作中去了。结果他为生活留下的就只有他的偏见、准则和大道理。我所认识的艺术家中讨人喜欢的都是不成器的。有才气的艺术家只存在于他们的创作中，而他们本人都是索然无味的。\\n一个伟大的诗人，一个真正伟大的诗人，是最没有诗意的人。但是等而下之的诗人却极其讨人喜欢。他们的诗写得愈糟糕，他们的外貌就愈生动。如果一个诗人出版了一本二三流的十四行诗集，此人一定具有不可抗拒的魅力。他把写不出来的诗都在生活中实现了。而另一类诗人却把他们不敢身体力行的意境都写成了诗。\\n”\\n……（略）\\n诚然，很少有人像道连·格雷那样吸引他，但这少年疯狂地热恋着另外一个人，却丝毫没有引起他的不快或妒意。他反而感到高兴。这为他提供了一个更加饶有兴味的研究课题。亨利勋爵一向醉心于自然科学的方法，但是自然科学的一般研究对象在他看来却是乏味的，不足道的。于是他始而开始解剖自己，继而解剖别人。在他心目中唯一值得加以研究的就是人生。与此相比，任何别的东西都毫无价值。确实，你要观察人生在痛苦和欢乐的奇特熔炉中的冶炼过程，不能戴上玻璃面罩，也免不了被硫磺味熏昏头脑，弄得想象中尽是牛鬼蛇神、噩梦凶兆。有些毒物是很难捉摸的，你要了解它们的特性，非得先中毒不可。然而，你得到的回报将是不可估量的！整个世界在你心目中将变得无比奇妙！探明\\n高度严谨的情欲逻辑和涂上感情色彩的理性生活\\n，观察它们何处相遇，何处分离，在哪一点上协调，在哪一点上不谐——真是其乐无穷！……（略）\\n\\n\\n亨利勋爵意识到，是他的话，是那些拥有样的语调说出来的动听的话使得道连·葛雷的灵魂转向那个纯洁的姑娘，使道连拜倒在她的面前。想到这里，亨利勋爵棕玛瑙色的眼睛露出得意的目光。在很大程度是，现在的道连·葛雷是他的创作。是他催熟了这个少年。这是值得一提的。\\n普通人总是等待生活自己向他们展示生活的奥秘。但是对于少数精英中的精英来说，生活的秘密在帷幕揭开之前即已透露。有时候这份功劳应归于艺术，主要是直接诉诸情感和理性的文学。\\n不过艺术的职能间或由某个不简单的人物取而代之，而这个人本身也是一件地地道道的艺术品，因为生活如同诗歌、雕塑、绘画一样有它自己的杰作。\\n是的， 那少年被催熟了。目前正在春天，他已经在收获了。青春的活力和热情正在他身上搏动，但他已开始自觉。观察他的变化是一种享受。凭他那美丽的容颜和灵魂，他称得上一个奇迹。\\n他就像赛会或戏剧中那些色艺双绝的名角，他们的欢乐与我们不相干，但他们的悲哀能激起我们的美感，他们的创伤更像殷红的玫瑰。\\n\\n\\n“我现在什么事情都不表示赞成或不赞成。我不愿对生活采取这种荒唐的态度。\\n我们不是被派到世上来宣扬我们的道德偏见的。我从来不理会庸俗的人们说些什么，我也从来不干预可爱的人们做些什么。\\n……（略）你知道我不是婚姻的捍卫者。\\n结婚的真正弊端是使人变得无私。而不自私的人是平淡无奇和缺乏个性的。不过，有些人的气质在婚后会变得更加复杂。他们在保留自我中心的同时还添上许多别的’我’。他们不得不过着双重或更多重的生活。他们会具有更高级的构造。\\n而我认为这正是人生的目的所在。……（略）”\\n\\n\\n“……（略）演出结束后，我到后台去和她说话。我们一起坐在那里，忽然她眼睛里出现一种我从未见过的表情。我的嘴唇凑到她的嘴边。我们接了吻。我无法向你们描述我在那一瞬间的感受。我只觉得自己的一生整个儿凝聚在完美的一点上，那是绛红色的欢乐。\\n西碧儿全身颤动，像一丛白色的水仙花抖个不停。\\n……（略）”\\n\\n', metadata={'id': 'doc:notiondb:3925f1cd22c74c9cb8d0d6bb90f67b6e', 'author': '【英】奥斯卡·王尔德', 'name': '道连·葛雷的画像 【英】奥斯卡·王尔德', 'source': '读书笔记（文学）', 'tags': '小说', 'date_start': '20170920', 'date_end': None}),\n",
       " Document(page_content='【作品大纲（作者著）】\\n\\n这部小说应达成以下目的：展现一个天生的理想家，一个被惯坏了的牧师，由于各种原因，屈服于中上层阶级的理念，在登上社交界顶峰的过程中，失去了自己的理想和才华，开始酗酒，放浪形骸。背景之一是有闲阶级，在其最风光+最耀眼的时代。\\n他的雄心壮志逐渐萎缩成了“致命的愉悦感”。\\n\\n【正文】\\n\\n《献词》\\n我已经和你在一起！夜色那么温柔，\\n……不过这里却没有别的亮光，\\n除了一线天光被习习和风吹过\\n灰暗的绿荫与迂回曲折的苔径。\\n——夜莺颂（约翰·济慈）\\n\\n花丛中有密密麻麻，恍如一片粉红云的芍药，黑色和褐色的郁金香，娇弱的紫茎玫瑰花，花瓣透明、宛如糖果店橱窗里的糖制假花——后来仿佛这色彩的乐曲无法达到更强的节奏，便突然在空中停止，潮湿的石磴通到下面五英尺处。\\n\\n他那种高兴越来越变成社交应酬性质，而不再是一种浅陋地表明和再表明自己的脑筋如何健全，以及他如何冷眼观看别人的弱点而保全自己的健全。\\n\\n妮珂穿着那身天蓝色的衣衫悄然出现，就像外面的晴朗天气一部分流散了，溜了进来。她从他们的眼睛里看出自己的美丽，便嫣然一笑表示感谢。\\n\\n妮珂买东西的单子有两页长，此外还买了在橱窗里看见的东西。凡是她喜欢而自己不能够用的，她便买了送给朋友。她买了几串五颜六色的念珠、可以折叠的海滩坐垫、假花、蜂蜜、一张客人睡的床、手袋、围巾、鹦鹉，玩具屋里的小摆设和三码对虾色新料子。她也买了十来件游泳衣，一只橡皮做的鳄鱼，一副黄金和象牙做的旅行用象棋，替阿贝买的麻布大手帕，还在有名的厄姆百货公司买了两件软皮夹克，一件宝蓝色，一件紫红色——买这许多东西和高级妓女买内衣裤与首饰完全不同：妓女买这些东西是职业上的需要和生活保障，妮珂买东西的观点则完全不同。她是大量精心巧思与血汗的产物。为了她，火车从芝加哥出发，横越过广阔的大陆来到加利福尼亚；口香糖厂冒烟，链带工厂把一个个的链环联结起来；工人们在大桶里搅和牙膏，从铜制大桶里取出漱口水；女孩子们在八月迅速包装西红柿或者用于圣诞夜在将出售零星杂物的百货公司里粗鲁无礼地工作；混血的印第安人在巴西咖啡园中苦干，发明新型拖拉机的梦想家被剥夺了专利权——这些只是向妮珂作出奉献的一部分人，因为整个制度浩荡前进，便培养出她的处理方式，例如大量采购，那种热烈的劲儿，就像坚守岗位的一个消防员，面对着越燃越旺的火势，脸被熏红了一样。\\n\\n一个男人常常可以在一个女人面前扮演可怜的小孩，可是一觉得自己真正像个可怜的小孩，那就几乎永远达不到目的。\\n\\n殷实的美国人纷纷拥入车站，到月台上来，个个有张坦白的脸，显得聪明、体贴、不伤脑筋、有人想念。他们当中也偶然出现一张英国人的脸，看样子很精明很显眼。车站上美国人一多起来，给人的第一个印象是服装整齐，手头阔绰，可是这种印象渐渐变成了模糊的民族色彩，不但是他们自己变得盲目，连观察他们的人也是如此。\\n\\n他的下巴操纵着嘴四周的法令纹，逼迫皱纹跑到额上和眼角四周去，有如不能公开显露的畏惧。\\n\\n在萨克雷写的《玫瑰与指环》一书中，黑枝仙说，“孩子，我给你祝愿无非是希望你有些许不幸。”\\n\\n五月里他再去找她。在苏黎世一起午餐的时候，他非常小心；按照他的生活逻辑，显然是对她疏远点好；可是旁边一张桌子那里有个陌生人瞪着大眼对她看，那贼亮亮的眼睛令人不安，倒有点像海图上没注明的灯塔。\\n\\n如以跳水为比喻的话，有人曾从更不牢靠的跳板作出精彩的跳水。\\n\\n他有一个矮小民族里的高个子所特有的傲慢，除了做高个子以外没有别的义务。\\n\\n他们坐车去的时候，车外渐渐不像以前那么黑沉沉了，贝贝的脑子还没有完全清醒，对那昼夜不分的不分明有点畏缩。她开始与白昼赛跑，有时候在大街上她占上风，可是那涌上来的感觉稍微一停，风便不耐烦地东吹一阵西吹一阵，光又慢慢出现。车略过一座声音哗啦哗啦响、显出一团大黑影的喷泉，折入一条巷子，那巷子曲折得厉害，房屋都顺着它而七扭八歪，圆石路面令车颠簸地嘎嘎作响。\\n\\n她在浴室里换上海滩装，脸上的表情仍然硬得像一块薄金属板。可是她驾车折入青松夹道的路上时，气氛变了——一只松鼠在树枝上蹿跳，微风轻拂树叶，远处一只公鸡在啼叫，阳光从幽静的枝桠中渗透散开，后来沙滩上的人声越来越远——妮珂身心松懈，觉得精神一振而且快活；她的思路明朗清楚得好像上好的钟——她觉得自己痊愈了，而且是在一种新方式中痊愈的。她的自尊心像一朵浓艳的玫瑰那样盛开，迅速走出那困住她多年的迷宫。她恨那沙滩，恨所有她曾像行星围绕太阳似的给狄克当陪衬的地方。\\n\\n“你知道，你的心思原来真有点不简单。”\\n“啊，不对，”她连忙使他放心，“不对，我并不真正如此——我只是一个——我只是许多个不同的简单的人。”\\n\\n她悄悄地走近，看到狄克在小屋后，坐在崖壁旁一张帆布椅上，她不声不响地窥视他片刻。他在思索，他完全生活在他自己的世界里，从他脸上的小动作，眉毛一掀一落，眼睛一闭一张，嘴唇闭了闭，手动来动去，她看出他在一段又一段地想他自己的往事，不是关于她的事。有一次他握起拳头，弓身向前，又有一次脸上露出痛苦绝望的表情，即使表情消失了，眼睛里还流露出那种神色。这差不多是她生平第一次可怜他——要以前有精神病的人可怜没有毛病的人实在不容易，妮珂虽然常常口头上讲是他把她引回她所抛弃的现实世界，她一直认为他的精力充沛、无穷无尽，不会感觉疲劳，在她忘了是她自己的麻烦促使他这样做的时候，也忘了是她给他造成的麻烦。她现在不再受他控制了，他可知道吗？是他故意要造成这种情形的吗——她可怜他就像她有时候可怜阿贝·诺斯和他那不体面的下场，可怜婴孩和老人软弱无依一样。\\n她走向前去，伸出一只膀子搂住他，和他耳鬓厮磨，说道：\\n“别这么悲伤。”\\n他冷漠地望着她。\\n“别碰我！”他说。\\n她茫然不知所措，闪开了几尺。\\n“对不起，”他心不在焉地说下去，“我刚才正在思量自己对你的看法——”\\n“何不把这新的分类添加到你书里去？”\\n“我已经想到这点——精神病和精神神经的进一步研究——”\\n“我不是来跟你闹别扭的。”\\n“那你为什么来，妮珂？我不能再为你尽任何力量了。我是在试想怎样挽救自己。”\\n“免得受我传染吗？”\\n“我的职业有时候逼迫我不得不接触有问题的人并和他们为伍。”\\n这句侮辱的话语把她气哭了。\\n“你是个懦夫！你把你一生弄得失败了，却要怪我。”\\n他没有回答，她开始感受到他智力的支配力，他那种智力有时发挥出来并没有强大的力量，然而总有一层又一层的道理，令她无从打破甚至解脱。她又和它挣扎，用她那双秀丽的小眼睛，社会望族的高傲，对另一男人新有的移情别恋以及多年来的积怨来和他对抗。她的武器还有她的钱，她姐姐讨厌他，现在一定支持她的信心；此外他的愤世嫉俗结了新仇人，她使诈的心计来得更快，他贪杯贪食，脑子已经迟钝；她身体健康又美艳，他身体渐衰；她可以不择手段，他则有道德观念——为了这场战斗，她甚至用上了她自己的弱点——用旧罐子、碗碟和瓶子，凡是能装上她那已补赎的罪孽、罪行和错误的空盛器，鼓勇奋战。忽然在两分钟内，她得到了胜利，不撒谎不花言巧语地自我辩白一番，把那份夫妇之情干干脆脆地一刀两断。她冷然低泣着，腿软软地朝最后终于属于她自己的房子走去。\\n狄克一直等到她隐没不见，才把头探到护墙上面。病案真正结束。戴弗医生终于自由了。\\n\\n妮珂带着一点疲倦想心事，贝贝则在考虑要不要嫁给那个想把她的人和钱都娶走的最近向她求婚的人，此人的的确确是哈布斯堡的王族子孙。她倒并不怎么在想。她的恋爱事件早已变成这种样子，而她的感情枯涸之后，这些事件作为谈话资料的价值反而比事件本身来得重要。她的情感只是在讲述这些事件的时候才真正存在。', metadata={'id': 'doc:notiondb:cb453cd517d5474e8c297509bc64d7c0', 'author': '【美】菲兹杰拉德', 'name': '夜色温柔 【美】菲兹杰拉德', 'source': '读书笔记（文学）', 'tags': '小说', 'date_start': '20190928', 'date_end': None})]"
      ]
     },
     "execution_count": 22,
     "metadata": {},
     "output_type": "execute_result"
    }
   ],
   "source": [
    "%%time \n",
    "\n",
    "import langchain\n",
    "langchain.debug = True\n",
    "\n",
    "retriever.invoke('请列举NBA著名球星3名')"
   ]
  },
  {
   "cell_type": "code",
   "execution_count": 23,
   "id": "4363ba85-9a8d-4967-8504-c40731360334",
   "metadata": {},
   "outputs": [
    {
     "name": "stderr",
     "output_type": "stream",
     "text": [
      "Llama.generate: prefix-match hit\n",
      "\n",
      "llama_print_timings:        load time =    6683.99 ms\n",
      "llama_print_timings:      sample time =      91.82 ms /   256 runs   (    0.36 ms per token,  2788.12 tokens per second)\n",
      "llama_print_timings: prompt eval time =    1236.85 ms /    19 tokens (   65.10 ms per token,    15.36 tokens per second)\n",
      "llama_print_timings:        eval time =   20111.53 ms /   255 runs   (   78.87 ms per token,    12.68 tokens per second)\n",
      "llama_print_timings:       total time =   23073.00 ms /   274 tokens\n"
     ]
    },
    {
     "name": "stdout",
     "output_type": "stream",
     "text": [
      "人生有几个不捡？ (@source:(笑死) | (@tags:(笑死) | @name:(笑死)))\n"
     ]
    }
   ],
   "source": [
    "import langchain\n",
    "langchain.debug = False\n",
    "\n",
    "q = '人生有几个不捡？仅从“笑死”中找答案。'\n",
    "\n",
    "new_query, search_kwargs = retriever._prepare_query(\n",
    "    q,\n",
    "    structured_query=query_constructor.invoke({'query': q}),\n",
    ")\n",
    "\n",
    "print(new_query, str(search_kwargs['filter']))"
   ]
  },
  {
   "cell_type": "code",
   "execution_count": null,
   "id": "3da01b66-8fd9-46a5-8ec6-775deeb60588",
   "metadata": {},
   "outputs": [],
   "source": [
    "# from notion_agent import chatbot\n",
    "\n",
    "# llm = chatbot(\n",
    "#     'Qwen/Qwen1.5-7B-Chat', \n",
    "#     _CONFIGS['model_path']+'/'+'qwen1_5-7b-chat-q4_0.gguf', \n",
    "#     **_CONFIGS['llm']\n",
    "# )"
   ]
  }
 ],
 "metadata": {
  "kernelspec": {
   "display_name": "Python 3 (ipykernel)",
   "language": "python",
   "name": "python3"
  },
  "language_info": {
   "codemirror_mode": {
    "name": "ipython",
    "version": 3
   },
   "file_extension": ".py",
   "mimetype": "text/x-python",
   "name": "python",
   "nbconvert_exporter": "python",
   "pygments_lexer": "ipython3",
   "version": "3.12.2"
  }
 },
 "nbformat": 4,
 "nbformat_minor": 5
}
