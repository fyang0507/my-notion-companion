{
 "cells": [
  {
   "cell_type": "markdown",
   "id": "d0751d17-27d1-4b80-a6d0-1ac9e6dcf948",
   "metadata": {},
   "source": [
    "# Self-query with contextual compressor\n",
    "\n",
    "* retriever:\n",
    "  * `Self-querying retriever` --  use an LLM to construct new queries that can question the structured data/metadata of the document\n",
    "  * `MultiQueryRetriever` -- allow an LLM to paraphrase the query to get hopefully a diverse set of docs\n",
    "    * limited helpfulness for this application\n",
    "  * `Contextual compression` -- use an LLM to pre-filter and compress the docs retrieved before feeding the contexts to another LLM to answer\n",
    "    * ref: https://python.langchain.com/docs/modules/data_connection/retrievers/contextual_compression\n",
    "* retrieval methods: cos/dot; llm-aided; MMR (Maximum marginal relevance)"
   ]
  },
  {
   "cell_type": "code",
   "execution_count": 1,
   "id": "152891d4-9bb8-4cc1-abf1-3207a625cefc",
   "metadata": {},
   "outputs": [],
   "source": [
    "%load_ext autoreload\n",
    "%autoreload 2"
   ]
  },
  {
   "cell_type": "code",
   "execution_count": 2,
   "id": "140baf02-574d-4a1f-adea-1c4e58364026",
   "metadata": {},
   "outputs": [],
   "source": [
    "from typing import Dict, List\n",
    "from langchain_core.documents.base import Document\n",
    "import langchain"
   ]
  },
  {
   "cell_type": "code",
   "execution_count": 3,
   "id": "d2572370-bc5b-48d9-ad92-5c383595915d",
   "metadata": {},
   "outputs": [],
   "source": [
    "import tomllib\n",
    "\n",
    "with open('../.tokens.toml', 'rb') as f:\n",
    "    _TOKENS = tomllib.load(f)\n",
    "\n",
    "with open('../.config.toml', 'rb') as f:\n",
    "    _CONFIGS = tomllib.load(f)"
   ]
  },
  {
   "cell_type": "code",
   "execution_count": 4,
   "id": "183ddf4a-ae95-4d76-9bc3-a2e49dcffdf0",
   "metadata": {},
   "outputs": [],
   "source": [
    "from langchain_community.embeddings import HuggingFaceInferenceAPIEmbeddings\n",
    "from langchain_community.vectorstores import Redis\n",
    "\n",
    "embeddings = HuggingFaceInferenceAPIEmbeddings(\n",
    "    api_key=_TOKENS['huggingface'], \n",
    "    model_name=\"sentence-transformers/distiluse-base-multilingual-cased-v1\"\n",
    ")\n",
    "\n",
    "vs = Redis.from_existing_index(\n",
    "    embedding=embeddings,\n",
    "    index_name=_CONFIGS['index_name'],\n",
    "    redis_url=_CONFIGS['redis_url'],\n",
    "    schema=_CONFIGS['redis_schema'],\n",
    ")"
   ]
  },
  {
   "cell_type": "code",
   "execution_count": 5,
   "id": "6de27461-d293-4baa-b0a6-7dd8d2c091a9",
   "metadata": {
    "scrolled": true
   },
   "outputs": [
    {
     "name": "stderr",
     "output_type": "stream",
     "text": [
      "Metadata key date_end not found in metadata. Setting to None. \n",
      "Metadata fields defined for this instance: ['author', 'id', 'name', 'source', 'tags', 'date_start', 'date_end']\n",
      "Metadata key date_end not found in metadata. Setting to None. \n",
      "Metadata fields defined for this instance: ['author', 'id', 'name', 'source', 'tags', 'date_start', 'date_end']\n",
      "Metadata key date_end not found in metadata. Setting to None. \n",
      "Metadata fields defined for this instance: ['author', 'id', 'name', 'source', 'tags', 'date_start', 'date_end']\n",
      "Metadata key date_end not found in metadata. Setting to None. \n",
      "Metadata fields defined for this instance: ['author', 'id', 'name', 'source', 'tags', 'date_start', 'date_end']\n"
     ]
    },
    {
     "data": {
      "text/plain": [
       "[(Document(page_content='王尔德总共写过九部戏剧，但另外四部剧作已被遗忘。1895年2月14日，王尔德最后一部、也是他才华机智达到巅峰状态的剧作《认真的重要》在圣詹姆斯剧院首演，观众如潮，盛况空前。两周后，王尔德在阿尔比马尔俱乐部收到昆斯伯里侯爵约翰·道格拉斯留下的名片，上面写着：“致装模作样的好男色者奥斯卡·王尔德”。因为王尔德从1891年开始便与比他小十六岁的阿尔弗雷德·道格拉斯（侯爵之子，当时还在上牛津大学）有不正当关系，而且经常“俪影成双”地出现在伦敦的公共场所并一起旅游，侯爵十分反感。王尔德与年轻男性的同性恋行为遭人物议不自此时始。同年，王尔德以诽谤罪把昆斯伯里侯爵告上法庭，居然向他一贯通过自己的作品和生活方式加以百般嘲弄的维多利亚时代的英国法律和社会求助（两年后，王尔德沉痛地承认自己干了“一生中最可耻、最无法原谅、最可鄙的事 ”）。1895 年4月3日法院开庭审理王尔德诉昆斯伯里侯爵诽谤案（王尔德自幼渴望的倒是能在“女王诉王尔德”的官司中出庭），被告轻而易举地反证原告确系“好男色者”，从而推翻关于诽谤的指控。4月5日，侯爵无罪获释，王尔德反因涉嫌“同其他男子发生有伤风化的肉体关系”被捕后取保候审 。5月25日，伦敦中央刑事法院根据1885年通过的针对男子同性恋的刑法修正案判处王尔德两年劳役刑罚，先后囚于纽盖特、彭顿韦尔和万兹沃斯监狱，11月20日又移至雷丁监狱服满刑期，这位折翅的悖论大师从此一蹶不振。', metadata={'id': 'doc:notiondb:7aba74f2ecb54f879215fb8e88396210', 'author': '【英】奥斯卡·王尔德', 'name': '道连·葛雷的画像 【英】奥斯卡·王尔德', 'source': '读书笔记（文学）', 'tags': '小说', 'date_start': '20170920', 'date_end': None}),\n",
       "  0.6278),\n",
       " (Document(page_content='【作者简介】\\n奥斯卡·王尔德（Oscar Wilde，1854年10月16日—1900年11月30日），出生于爱尔兰都柏林，19世纪英国（准确来讲是爱尔兰，但是当时由英国统治）最伟大的作家与艺术家之一，以其剧作、诗歌、童话和小说闻名，唯美主义代表人物，19世纪80年代美学运动的主力和90年代颓废派运动的先驱。\\n王尔德的文学活动领域十分宽广。他既是诗人（1881年就有他的诗集问世），又写小说、童话（包括《快乐王子》、《石榴之家》、《阿瑟·萨维尔勋爵的罪行》三个集子以及他唯一的长篇小说《道连·葛雷的画像》，以上四种除《快乐王子及其他童话》一种成书于1888年外，其余三种均于1891年出版）。他还写过不少评论和随笔（较重要的有他自己选编的《意图集》以及《社会主义制度下人的灵魂》，均刊行于1891年）。但为他赢得最辉煌成功的要数1892——1895年间先后在伦敦西区舞台上首演的社会讽刺喜剧《温德米尔夫人的扇子》、《一个无足轻重的女人》、《一个理想的丈夫》和《你真的重要》。', metadata={'id': 'doc:notiondb:e50187e728f5482a99a4054e0136f856', 'author': '【英】奥斯卡·王尔德', 'name': '道连·葛雷的画像 【英】奥斯卡·王尔德', 'source': '读书笔记（文学）', 'tags': '小说', 'date_start': '20170920', 'date_end': None}),\n",
       "  0.6989),\n",
       " (Document(page_content='《小王子》--le petit prince\\n【法】圣爱克苏佩里', metadata={'id': 'doc:notiondb:c4e73c5832cb4d24b12025dc73be6262', 'author': '【法】圣爱克苏佩里', 'name': '小王子 【法】圣爱克苏佩里', 'source': '读书笔记（文学）', 'tags': '小说', 'date_start': '20140429', 'date_end': None}),\n",
       "  0.7361),\n",
       " (Document(page_content='亨利勋爵意识到，是他的话，是那些拥有样的语调说出来的动听的话使得道连·葛雷的灵魂转向那个纯洁的姑娘，使道连拜倒在她的面前。想到这里，亨利勋爵棕玛瑙色的眼睛露出得意的目光。在很大程度是，现在的道连·葛雷是他的创作。是他催熟了这个少年。这是值得一提的。\\n普通人总是等待生活自己向他们展示生活的奥秘。但是对于少数精英中的精英来说，生活的秘密在帷幕揭开之前即已透露。有时候这份功劳应归于艺术，主要是直接诉诸情感和理性的文学。\\n不过艺术的职能间或由某个不简单的人物取而代之，而这个人本身也是一件地地道道的艺术品，因为生活如同诗歌、雕塑、绘画一样有它自己的杰作。\\n是的， 那少年被催熟了。目前正在春天，他已经在收获了。青春的活力和热情正在他身上搏动，但他已开始自觉。观察他的变化是一种享受。凭他那美丽的容颜和灵魂，他称得上一个奇迹。\\n他就像赛会或戏剧中那些色艺双绝的名角，他们的欢乐与我们不相干，但他们的悲哀能激起我们的美感，他们的创伤更像殷红的玫瑰。\\n\\n\\n“我现在什么事情都不表示赞成或不赞成。我不愿对生活采取这种荒唐的态度。\\n我们不是被派到世上来宣扬我们的道德偏见的。我从来不理会庸俗的人们说些什么，我也从来不干预可爱的人们做些什么。\\n……（略）你知道我不是婚姻的捍卫者。\\n结婚的真正弊端是使人变得无私。而不自私的人是平淡无奇和缺乏个性的。不过，有些人的气质在婚后会变得更加复杂。他们在保留自我中心的同时还添上许多别的’我’。他们不得不过着双重或更多重的生活。他们会具有更高级的构造。\\n而我认为这正是人生的目的所在。……（略）”\\n\\n\\n“……（略）演出结束后，我到后台去和她说话。我们一起坐在那里，忽然她眼睛里出现一种我从未见过的表情。我的嘴唇凑到她的嘴边。我们接了吻。我无法向你们描述我在那一瞬间的感受。我只觉得自己的一生整个儿凝聚在完美的一点上，那是绛红色的欢乐。\\n西碧儿全身颤动，像一丛白色的水仙花抖个不停。\\n……（略）”', metadata={'id': 'doc:notiondb:462ce8dd96634d9791d9e425fb491e3e', 'author': '【英】奥斯卡·王尔德', 'name': '道连·葛雷的画像 【英】奥斯卡·王尔德', 'source': '读书笔记（文学）', 'tags': '小说', 'date_start': '20170920', 'date_end': None}),\n",
       "  0.772)]"
      ]
     },
     "execution_count": 5,
     "metadata": {},
     "output_type": "execute_result"
    }
   ],
   "source": [
    "vs.similarity_search_with_score(\"谁是王尔德？\")"
   ]
  },
  {
   "cell_type": "code",
   "execution_count": 6,
   "id": "c1aea029-97f6-4474-8a48-c4f4133dafc4",
   "metadata": {
    "scrolled": true
   },
   "outputs": [],
   "source": [
    "# from langchain.vectorstores.redis import RedisFilter, RedisNum, RedisText\n",
    "\n",
    "# f = RedisText(\"author\") % \"*冯友兰*\"\n",
    "# vs.similarity_search_with_score('谁说过陌生贵己？', filter=f, k=3)"
   ]
  },
  {
   "cell_type": "code",
   "execution_count": 7,
   "id": "b18bcdc6-6c77-4357-b1b3-27e1e6138d30",
   "metadata": {},
   "outputs": [],
   "source": [
    "metadata_set = set([x['name'] for x in vs.schema['text']] + [x['name'] for x in vs.schema['numeric']])"
   ]
  },
  {
   "cell_type": "code",
   "execution_count": 8,
   "id": "ca8535b6-429d-4092-98e8-933034489267",
   "metadata": {},
   "outputs": [
    {
     "data": {
      "text/plain": [
       "{'author': {'description': '本篇文章的作者', 'type': 'string'},\n",
       " 'date_start': {'description': '文章被创建的时间，格式是YYYYMMDD', 'type': 'string'},\n",
       " 'date_end': {'description': '文章被完成的时间，格式是YYYYMMDD', 'type': 'string'},\n",
       " 'id': {'description': '文章的id', 'type': 'string'},\n",
       " 'name': {'description': '文章的名字', 'type': 'string'},\n",
       " 'source': {'description': '文章的来源，这里的文章取自若干不同数据库', 'type': 'string'},\n",
       " 'tags': {'description': '文章的标签，可能代表它的风格、题材、来源，或者系列', 'type': 'string'}}"
      ]
     },
     "execution_count": 8,
     "metadata": {},
     "output_type": "execute_result"
    }
   ],
   "source": [
    "metadata = _CONFIGS['attributes']\n",
    "metadata"
   ]
  },
  {
   "cell_type": "code",
   "execution_count": 9,
   "id": "3cd28f7e-1891-4218-b1dd-2aef112e848d",
   "metadata": {},
   "outputs": [],
   "source": [
    "# ensure there's no more undocumented metadata\n",
    "assert metadata_set.union(metadata.keys()) == metadata_set"
   ]
  },
  {
   "cell_type": "code",
   "execution_count": 10,
   "id": "e371368b-92d2-47ad-abf8-4155aacfa2ef",
   "metadata": {},
   "outputs": [
    {
     "data": {
      "text/plain": [
       "{'author', 'content', 'date_end', 'date_start', 'id', 'name', 'source', 'tags'}"
      ]
     },
     "execution_count": 10,
     "metadata": {},
     "output_type": "execute_result"
    }
   ],
   "source": [
    "metadata_set"
   ]
  },
  {
   "cell_type": "code",
   "execution_count": 11,
   "id": "0c6da61c-8dcf-4c01-b8a0-e84b5db43332",
   "metadata": {
    "scrolled": true
   },
   "outputs": [
    {
     "name": "stderr",
     "output_type": "stream",
     "text": [
      "/Users/fred/micromamba/envs/my-notion-companion/lib/python3.12/site-packages/langchain_core/utils/utils.py:159: UserWarning: WARNING! conversation is not default parameter.\n",
      "                conversation was transferred to model_kwargs.\n",
      "                Please confirm that conversation is what you intended.\n",
      "  warnings.warn(\n",
      "llama_model_loader: loaded meta data with 19 key-value pairs and 259 tensors from /Users/fred/Documents/models/Qwen-7B-Chat.Q4_K_M.gguf (version GGUF V3 (latest))\n",
      "llama_model_loader: Dumping metadata keys/values. Note: KV overrides do not apply in this output.\n",
      "llama_model_loader: - kv   0:                       general.architecture str              = qwen\n",
      "llama_model_loader: - kv   1:                               general.name str              = Qwen\n",
      "llama_model_loader: - kv   2:                        qwen.context_length u32              = 32768\n",
      "llama_model_loader: - kv   3:                           qwen.block_count u32              = 32\n",
      "llama_model_loader: - kv   4:                      qwen.embedding_length u32              = 4096\n",
      "llama_model_loader: - kv   5:                   qwen.feed_forward_length u32              = 22016\n",
      "llama_model_loader: - kv   6:                        qwen.rope.freq_base f32              = 10000.000000\n",
      "llama_model_loader: - kv   7:                  qwen.rope.dimension_count u32              = 128\n",
      "llama_model_loader: - kv   8:                  qwen.attention.head_count u32              = 32\n",
      "llama_model_loader: - kv   9:      qwen.attention.layer_norm_rms_epsilon f32              = 0.000001\n",
      "llama_model_loader: - kv  10:                       tokenizer.ggml.model str              = gpt2\n",
      "llama_model_loader: - kv  11:                      tokenizer.ggml.tokens arr[str,151936]  = [\"!\", \"\\\"\", \"#\", \"$\", \"%\", \"&\", \"'\", ...\n",
      "llama_model_loader: - kv  12:                  tokenizer.ggml.token_type arr[i32,151936]  = [1, 1, 1, 1, 1, 1, 1, 1, 1, 1, 1, 1, ...\n",
      "llama_model_loader: - kv  13:                      tokenizer.ggml.merges arr[str,151387]  = [\"Ġ Ġ\", \"ĠĠ ĠĠ\", \"i n\", \"Ġ t\",...\n",
      "llama_model_loader: - kv  14:                tokenizer.ggml.bos_token_id u32              = 151643\n",
      "llama_model_loader: - kv  15:                tokenizer.ggml.eos_token_id u32              = 151643\n",
      "llama_model_loader: - kv  16:            tokenizer.ggml.unknown_token_id u32              = 151643\n",
      "llama_model_loader: - kv  17:               general.quantization_version u32              = 2\n",
      "llama_model_loader: - kv  18:                          general.file_type u32              = 15\n",
      "llama_model_loader: - type  f32:   97 tensors\n",
      "llama_model_loader: - type q4_K:  113 tensors\n",
      "llama_model_loader: - type q5_K:   32 tensors\n",
      "llama_model_loader: - type q6_K:   17 tensors\n",
      "llm_load_vocab: special tokens definition check successful ( 293/151936 ).\n",
      "llm_load_print_meta: format           = GGUF V3 (latest)\n",
      "llm_load_print_meta: arch             = qwen\n",
      "llm_load_print_meta: vocab type       = BPE\n",
      "llm_load_print_meta: n_vocab          = 151936\n",
      "llm_load_print_meta: n_merges         = 151387\n",
      "llm_load_print_meta: n_ctx_train      = 32768\n",
      "llm_load_print_meta: n_embd           = 4096\n",
      "llm_load_print_meta: n_head           = 32\n",
      "llm_load_print_meta: n_head_kv        = 32\n",
      "llm_load_print_meta: n_layer          = 32\n",
      "llm_load_print_meta: n_rot            = 128\n",
      "llm_load_print_meta: n_embd_head_k    = 128\n",
      "llm_load_print_meta: n_embd_head_v    = 128\n",
      "llm_load_print_meta: n_gqa            = 1\n",
      "llm_load_print_meta: n_embd_k_gqa     = 4096\n",
      "llm_load_print_meta: n_embd_v_gqa     = 4096\n",
      "llm_load_print_meta: f_norm_eps       = 0.0e+00\n",
      "llm_load_print_meta: f_norm_rms_eps   = 1.0e-06\n",
      "llm_load_print_meta: f_clamp_kqv      = 0.0e+00\n",
      "llm_load_print_meta: f_max_alibi_bias = 0.0e+00\n",
      "llm_load_print_meta: n_ff             = 22016\n",
      "llm_load_print_meta: n_expert         = 0\n",
      "llm_load_print_meta: n_expert_used    = 0\n",
      "llm_load_print_meta: rope scaling     = linear\n",
      "llm_load_print_meta: freq_base_train  = 10000.0\n",
      "llm_load_print_meta: freq_scale_train = 1\n",
      "llm_load_print_meta: n_yarn_orig_ctx  = 32768\n",
      "llm_load_print_meta: rope_finetuned   = unknown\n",
      "llm_load_print_meta: model type       = 7B\n",
      "llm_load_print_meta: model ftype      = Q4_K - Medium\n",
      "llm_load_print_meta: model params     = 7.72 B\n",
      "llm_load_print_meta: model size       = 4.56 GiB (5.07 BPW) \n",
      "llm_load_print_meta: general.name     = Qwen\n",
      "llm_load_print_meta: BOS token        = 151643 '[PAD151643]'\n",
      "llm_load_print_meta: EOS token        = 151643 '[PAD151643]'\n",
      "llm_load_print_meta: UNK token        = 151643 '[PAD151643]'\n",
      "llm_load_print_meta: LF token         = 148848 'ÄĬ'\n",
      "llm_load_tensors: ggml ctx size =    0.20 MiB\n",
      "ggml_backend_metal_buffer_from_ptr: allocated buffer, size =  4666.59 MiB, ( 4666.66 / 10922.67)\n",
      "llm_load_tensors: offloading 32 repeating layers to GPU\n",
      "llm_load_tensors: offloaded 32/33 layers to GPU\n",
      "llm_load_tensors:        CPU buffer size =  4450.41 MiB\n",
      "llm_load_tensors:      Metal buffer size =  4666.59 MiB\n",
      ".....................................................................................\n",
      "llama_new_context_with_model: n_ctx      = 4096\n",
      "llama_new_context_with_model: freq_base  = 10000.0\n",
      "llama_new_context_with_model: freq_scale = 1\n",
      "ggml_metal_init: allocating\n",
      "ggml_metal_init: found device: Apple M2 Pro\n",
      "ggml_metal_init: picking default device: Apple M2 Pro\n",
      "ggml_metal_init: default.metallib not found, loading from source\n",
      "ggml_metal_init: GGML_METAL_PATH_RESOURCES = nil\n",
      "ggml_metal_init: loading '/Users/fred/micromamba/envs/my-notion-companion/lib/python3.12/site-packages/llama_cpp/ggml-metal.metal'\n",
      "ggml_metal_init: GPU name:   Apple M2 Pro\n",
      "ggml_metal_init: GPU family: MTLGPUFamilyApple8  (1008)\n",
      "ggml_metal_init: GPU family: MTLGPUFamilyCommon3 (3003)\n",
      "ggml_metal_init: GPU family: MTLGPUFamilyMetal3  (5001)\n",
      "ggml_metal_init: simdgroup reduction support   = true\n",
      "ggml_metal_init: simdgroup matrix mul. support = true\n",
      "ggml_metal_init: hasUnifiedMemory              = true\n",
      "ggml_metal_init: recommendedMaxWorkingSetSize  = 11453.25 MB\n",
      "ggml_backend_metal_buffer_type_alloc_buffer: allocated buffer, size =  2048.00 MiB, ( 6716.22 / 10922.67)\n",
      "llama_kv_cache_init:      Metal KV buffer size =  2048.00 MiB\n",
      "llama_new_context_with_model: KV self size  = 2048.00 MiB, K (f16): 1024.00 MiB, V (f16): 1024.00 MiB\n",
      "llama_new_context_with_model:        CPU input buffer size   =    80.04 MiB\n",
      "ggml_backend_metal_buffer_type_alloc_buffer: allocated buffer, size =  1248.02 MiB, ( 7964.23 / 10922.67)\n",
      "llama_new_context_with_model:      Metal compute buffer size =  1248.01 MiB\n",
      "llama_new_context_with_model:        CPU compute buffer size =  1251.00 MiB\n",
      "llama_new_context_with_model: graph splits (measure): 4\n",
      "AVX = 0 | AVX_VNNI = 0 | AVX2 = 0 | AVX512 = 0 | AVX512_VBMI = 0 | AVX512_VNNI = 0 | FMA = 0 | NEON = 1 | ARM_FMA = 1 | F16C = 0 | FP16_VA = 1 | WASM_SIMD = 0 | BLAS = 1 | SSE3 = 0 | SSSE3 = 0 | VSX = 0 | MATMUL_INT8 = 0 | \n",
      "Model metadata: {'general.file_type': '15', 'tokenizer.ggml.unknown_token_id': '151643', 'tokenizer.ggml.eos_token_id': '151643', 'tokenizer.ggml.model': 'gpt2', 'general.quantization_version': '2', 'qwen.attention.head_count': '32', 'qwen.rope.freq_base': '10000.000000', 'tokenizer.ggml.bos_token_id': '151643', 'qwen.feed_forward_length': '22016', 'qwen.attention.layer_norm_rms_epsilon': '0.000001', 'qwen.embedding_length': '4096', 'qwen.rope.dimension_count': '128', 'qwen.context_length': '32768', 'qwen.block_count': '32', 'general.name': 'Qwen', 'general.architecture': 'qwen'}\n"
     ]
    }
   ],
   "source": [
    "from langchain_community.llms import LlamaCpp\n",
    "\n",
    "\n",
    "llm = LlamaCpp(\n",
    "    model_path=_CONFIGS['model_path']+'/'+'Qwen-7B-Chat.Q4_K_M.gguf',\n",
    "    name='Qwen/Qwen-7B-Chat', \n",
    "    **_CONFIGS['llm']\n",
    ")\n",
    "\n",
    "# llm = LlamaCpp(\n",
    "#     model_path=_CONFIGS['model_path']+'/'+'qwen1_5-7b-chat-q4_0.gguf',\n",
    "#     name='Qwen/Qwen1.5-7B-Chat', \n",
    "#     **_CONFIGS['llm']\n",
    "# )\n",
    "\n",
    "# llm = LlamaCpp(\n",
    "#     model_path=_CONFIGS['model_path']+'/'+'zephyr-7b-beta.Q4_K_M.gguf',\n",
    "#     name='HuggingFaceH4/zephyr-7b-beta', \n",
    "#     **_CONFIGS['llm']\n",
    "# )\n",
    "\n",
    "# llm = LlamaCpp(\n",
    "#     model_path=_CONFIGS['model_path']+'/'+'chinese-alpaca-2-7b-q4_0.gguf',\n",
    "#     name='hfl/chinese-alpaca-2-7b', \n",
    "#     **_CONFIGS['llm']\n",
    "# )"
   ]
  },
  {
   "cell_type": "code",
   "execution_count": 12,
   "id": "60d99d07-c280-445f-97f3-7fb570f2a9e2",
   "metadata": {},
   "outputs": [
    {
     "data": {
      "text/plain": [
       "[AttributeInfo(name='author', description='本篇文章的作者', type='string'),\n",
       " AttributeInfo(name='date_start', description='文章被创建的时间，格式是YYYYMMDD', type='string'),\n",
       " AttributeInfo(name='date_end', description='文章被完成的时间，格式是YYYYMMDD', type='string'),\n",
       " AttributeInfo(name='id', description='文章的id', type='string'),\n",
       " AttributeInfo(name='name', description='文章的名字', type='string'),\n",
       " AttributeInfo(name='source', description='文章的来源，这里的文章取自若干不同数据库', type='string'),\n",
       " AttributeInfo(name='tags', description='文章的标签，可能代表它的风格、题材、来源，或者系列', type='string')]"
      ]
     },
     "execution_count": 12,
     "metadata": {},
     "output_type": "execute_result"
    }
   ],
   "source": [
    "from langchain.chains.query_constructor.base import AttributeInfo\n",
    "\n",
    "attribute_info = list()\n",
    "\n",
    "for k, v in metadata.items():\n",
    "    attribute_info.append(\n",
    "        AttributeInfo(\n",
    "            name=k,\n",
    "            description=v['description'],\n",
    "            type=v['type']\n",
    "        )\n",
    "    )\n",
    "\n",
    "attribute_info"
   ]
  },
  {
   "cell_type": "markdown",
   "id": "356ac868-e21f-4579-9a5a-8e29bf7eb629",
   "metadata": {},
   "source": [
    "# Construct customized self-query retriever\n",
    "\n",
    "Q: Why not using the standard?\n",
    "A: The standard SelfQueryRetriever Class provides a standard prompt template that uses few-show examples to tell llm how to construct structured query (examples can be found in [langchain.chains.query_constructor.prompt](https://github.com/langchain-ai/langchain/blob/master/libs/langchain/langchain/chains/query_constructor/prompt.py). Most examples inside uses EQ (=) comparator, which isn't suitable for our use cases (mostly fuzzy matches). Therefore, we will reconstruct the self-query retriever using a customized few-shot prompt teamplate.\n",
    "\n",
    "Q: why do we copied the `get_query_constructor_prompt` provided?\n",
    "A: Its original dependency `construct_examples` will decode json using ASCII by default, which won't support Chinese, we'll need to overwrite the two functions\n",
    "\n",
    "```python\n",
    "retriever = SelfQueryRetriever.from_llm(\n",
    "    llm=llm,\n",
    "    vectorstore=vs_chroma,\n",
    "    document_contents='Articles and excerpts.',\n",
    "    metadata_field_info=metadata_field_info,\n",
    ")\n",
    "```\n",
    "\n",
    "References: \n",
    "https://python.langchain.com/docs/modules/data_connection/retrievers/self_query/#constructing-from-scratch-with-lcel"
   ]
  },
  {
   "cell_type": "code",
   "execution_count": 13,
   "id": "dd19092d-33cf-41da-9c3a-41a3e6035089",
   "metadata": {},
   "outputs": [
    {
     "name": "stdout",
     "output_type": "stream",
     "text": [
      "{'structured_request': {'filter': 'or(like(\"source\", \"小说\"), like(\"tags\", '\n",
      "                                  '\"小说\"), like(\"name\", \"小说\"))',\n",
      "                        'query': '谁是王尔德？'},\n",
      " 'user_query': '谁是王尔德？仅从“小说”中找答案。'}\n"
     ]
    }
   ],
   "source": [
    "from pprint import pprint\n",
    "\n",
    "with open('../self_query_examples.toml', 'rb') as f:\n",
    "    self_query_examples = tomllib.load(f)\n",
    "\n",
    "pprint(self_query_examples['example'][0])"
   ]
  },
  {
   "cell_type": "code",
   "execution_count": 14,
   "id": "c91b4a9c-13fe-4611-82d6-0df32b656a1b",
   "metadata": {},
   "outputs": [],
   "source": [
    "# with open('../self_query_template_chinese.txt', 'r') as f:\n",
    "#     self_query_template = \"\\n\".join(f.readlines())\n",
    "\n",
    "with open('../self_query_template.txt', 'r') as f:\n",
    "    self_query_template = \"\\n\".join(f.readlines())"
   ]
  },
  {
   "cell_type": "code",
   "execution_count": 15,
   "id": "82aabfae-d016-443f-a28a-d6694dcfbc5d",
   "metadata": {},
   "outputs": [],
   "source": [
    "from typing import Sequence, Union, Tuple\n",
    "import json\n",
    "from langchain.chains.query_constructor.base import _format_attribute_info\n",
    "from langchain_core.prompts.few_shot import FewShotPromptTemplate\n",
    "from langchain.chains.query_constructor.prompt import USER_SPECIFIED_EXAMPLE_PROMPT, SUFFIX_WITHOUT_DATA_SOURCE\n",
    "\n",
    "def _format_attribute_info(info: Sequence[Union[AttributeInfo, dict]]) -> str:\n",
    "    info_dicts = {}\n",
    "    for i in info:\n",
    "        i_dict = dict(i)\n",
    "        info_dicts[i_dict.pop(\"name\")] = i_dict\n",
    "    # return json.dumps(info_dicts, indent=4, ensure_ascii=False).replace(\"{\", \"{{\").replace(\"}\", \"}}\")\n",
    "    return info_dicts\n",
    "                                                                       \n",
    "def construct_examples(input_output_pairs: Sequence[Tuple[str, dict]]) -> List[dict]:\n",
    "    \"\"\"Construct examples from input-output pairs.\n",
    "\n",
    "    Adapted from: https://github.com/langchain-ai/langchain/blob/master/libs/langchain/langchain/chains/query_constructor/base.py\n",
    "    \"\"\"\n",
    "    examples = []\n",
    "    for i, (_input, output) in enumerate(input_output_pairs):\n",
    "        structured_request = (\n",
    "            json.dumps(output, indent=4, ensure_ascii=False).replace(\"{\", \"{{\").replace(\"}\", \"}}\")\n",
    "        )\n",
    "        example = {\n",
    "            \"i\": i + 1,\n",
    "            \"user_query\": _input,\n",
    "            \"structured_request\": structured_request,\n",
    "        }\n",
    "        examples.append(example)\n",
    "    return examples\n",
    "\n",
    "examples = construct_examples(\n",
    "    [(x['user_query'], x['structured_request']) for x in self_query_examples['example']]\n",
    ")\n",
    "\n",
    "prompt = FewShotPromptTemplate(\n",
    "    examples=list(examples),\n",
    "    example_prompt=USER_SPECIFIED_EXAMPLE_PROMPT,\n",
    "    input_variables=[\"query\"],\n",
    "    # suffix=\"\",\n",
    "    suffix=SUFFIX_WITHOUT_DATA_SOURCE.format(i=len(examples) + 1),\n",
    "    prefix=self_query_template.format(\n",
    "        content_and_attributes=json.dumps({\n",
    "            'content': '文章',\n",
    "            'attributes': _format_attribute_info(attribute_info)\n",
    "        }, indent=4, ensure_ascii=False).replace(\"{\", \"{{\").replace(\"}\", \"}}\"),\n",
    "        attributes_set=str(list(metadata_set))\n",
    "    )\n",
    ")"
   ]
  },
  {
   "cell_type": "code",
   "execution_count": 16,
   "id": "dc8b64d1-237f-4972-b395-64a3c731c62a",
   "metadata": {
    "scrolled": true
   },
   "outputs": [
    {
     "name": "stdout",
     "output_type": "stream",
     "text": [
      "Your goal is to structure the user's query to match the request schema provided below.\n",
      "\n",
      "\n",
      "\n",
      "<< Structured Request Schema >>\n",
      "\n",
      "When responding use a markdown code snippet with a JSON object formatted in the following schema:\n",
      "\n",
      "\n",
      "\n",
      "```json\n",
      "\n",
      "{\n",
      "\n",
      "    \"query\": string \\ text string to compare to document contents\n",
      "\n",
      "    \"filter\": string \\ logical condition statement for filtering documents\n",
      "\n",
      "}\n",
      "\n",
      "```\n",
      "\n",
      "\n",
      "\n",
      "The query string should contain only text that is expected to match the contents of documents. Any conditions in the filter should not be mentioned in the query as well.\n",
      "\n",
      "\n",
      "\n",
      "Make sure that you only use the comparators and logical operators listed above and no others.\n",
      "\n",
      "Make sure that filters only use the attributed names with its function names if there are functions applied on them.\n",
      "\n",
      "Make sure that filters only use format `YYYYMMDD` when handling date data typed values.\n",
      "\n",
      "Make sure that filters take into account the descriptions of attributes and only make comparisons that are feasible given the type of data being stored.\n",
      "\n",
      "Make sure that filters are only used as needed. If there are no filters that should be applied return \"NO_FILTER\" for the filter value.\n",
      "\n",
      "Make sure that filters only refer to attributes that exist in the data source. Available attributes: ['name', 'id', 'date_end', 'author', 'source', 'tags', 'date_start', 'content']. Don't make up other attributes.\n",
      "\n",
      "\n",
      "\n",
      "<<Data Source>>\n",
      "\n",
      "```json\n",
      "\n",
      "{\n",
      "    \"content\": \"文章\",\n",
      "    \"attributes\": {\n",
      "        \"author\": {\n",
      "            \"description\": \"本篇文章的作者\",\n",
      "            \"type\": \"string\"\n",
      "        },\n",
      "        \"date_start\": {\n",
      "            \"description\": \"文章被创建的时间，格式是YYYYMMDD\",\n",
      "            \"type\": \"string\"\n",
      "        },\n",
      "        \"date_end\": {\n",
      "            \"description\": \"文章被完成的时间，格式是YYYYMMDD\",\n",
      "            \"type\": \"string\"\n",
      "        },\n",
      "        \"id\": {\n",
      "            \"description\": \"文章的id\",\n",
      "            \"type\": \"string\"\n",
      "        },\n",
      "        \"name\": {\n",
      "            \"description\": \"文章的名字\",\n",
      "            \"type\": \"string\"\n",
      "        },\n",
      "        \"source\": {\n",
      "            \"description\": \"文章的来源，这里的文章取自若干不同数据库\",\n",
      "            \"type\": \"string\"\n",
      "        },\n",
      "        \"tags\": {\n",
      "            \"description\": \"文章的标签，可能代表它的风格、题材、来源，或者系列\",\n",
      "            \"type\": \"string\"\n",
      "        }\n",
      "    }\n",
      "}\n",
      "\n",
      "```\n",
      "\n",
      "\n",
      "<< Example 1. >>\n",
      "User Query:\n",
      "谁是王尔德？仅从“小说”中找答案。\n",
      "\n",
      "Structured Request:\n",
      "```json\n",
      "{\n",
      "    \"query\": \"谁是王尔德？\",\n",
      "    \"filter\": \"or(like(\\\"source\\\", \\\"小说\\\"), like(\\\"tags\\\", \\\"小说\\\"), like(\\\"name\\\", \\\"小说\\\"))\"\n",
      "}\n",
      "```\n",
      "\n",
      "\n",
      "<< Example 2. >>\n",
      "User Query:\n",
      "请从三岛由纪夫的小说找到下文相关片段：“我们之所以突然变得残暴”的后面是什么？\n",
      "\n",
      "Structured Request:\n",
      "```json\n",
      "{\n",
      "    \"query\": \"我们之所以突然变得残暴\",\n",
      "    \"filter\": \"or(like(\\\"source\\\", \\\"小说\\\"),  like(\\\"tags\\\", \\\"小说\\\"), like(\\\"name\\\", \\\"三岛由纪夫\\\"), like(\\\"author\\\", \\\"三岛由纪夫\\\"))\"\n",
      "}\n",
      "```\n",
      "\n",
      "\n",
      "<< Example 3. >>\n",
      "User Query:\n",
      "《天使与昆虫》是哪位作家的作品？\n",
      "\n",
      "Structured Request:\n",
      "```json\n",
      "{\n",
      "    \"query\": \"天使与昆虫\",\n",
      "    \"filter\": \"or(like(\\\"source\\\", \\\"天使与昆虫\\\"), like(\\\"tags\\\", \\\"天使与昆虫\\\"), like(\\\"name\\\", \\\"天使与昆虫\\\"))\"\n",
      "}\n",
      "```\n",
      "\n",
      "\n",
      "<< Example 4. >>\n",
      "User Query:\n",
      "道连是哪本小说中出现的人物？\n",
      "\n",
      "Structured Request:\n",
      "```json\n",
      "{\n",
      "    \"query\": \"道连\",\n",
      "    \"filter\": \"or(like(\\\"source\\\", \\\"小说\\\"), like(\\\"tags\\\", \\\"小说\\\"), like(\\\"name\\\", \\\"小说\\\"))\"\n",
      "}\n",
      "```\n",
      "\n",
      "\n",
      "<< Example 5. >>\n",
      "User Query:\n",
      "本多是王尔德笔下的人物吗？\n",
      "\n",
      "Structured Request:\n",
      "```json\n",
      "{\n",
      "    \"query\": \"本多\",\n",
      "    \"filter\": \"or(like(\\\"source\\\", \\\"王尔德\\\"), like(\\\"tags\\\", \\\"王尔德\\\")， like(\\\"name\\\", \\\"王尔德\\\"), like(\\\"author\\\", \\\"王尔德\\\"))\"\n",
      "}\n",
      "```\n",
      "\n",
      "\n",
      "<< Example 6. >>\n",
      "User Query:\n",
      "我在2019年到2022年间写过多少游记？\n",
      "\n",
      "Structured Request:\n",
      "```json\n",
      "{\n",
      "    \"query\": \"游记\",\n",
      "    \"filter\": \"and(eq(\\\"source\\\", \\\"写作\\\"), gt(\\\"date_start\\\", 20190101), lt(\\\"date_start\\\", 20221231))\"\n",
      "}\n",
      "```\n",
      "\n",
      "\n",
      "<< Example 7. >>\n",
      "User Query:\n",
      "美国有多少个州？\n",
      "\n",
      "Structured Request:\n",
      "```json\n",
      "{\n",
      "    \"query\": \"\",\n",
      "    \"filter\": \"NO_FILTER\"\n",
      "}\n",
      "```\n",
      "\n",
      "\n",
      "<< Example 8. >>\n",
      "User Query:\n",
      "\u001b[33;1m\u001b[1;3m{query}\u001b[0m\n",
      "\n",
      "Structured Request:\n",
      "\n"
     ]
    }
   ],
   "source": [
    "prompt.pretty_print()"
   ]
  },
  {
   "cell_type": "code",
   "execution_count": 17,
   "id": "0efb04c6-ad8e-4fac-bbbb-a6f03edb1af3",
   "metadata": {},
   "outputs": [],
   "source": [
    "from langchain.chains.query_constructor.base import StructuredQueryOutputParser\n",
    "output_parser = StructuredQueryOutputParser.from_components()"
   ]
  },
  {
   "cell_type": "code",
   "execution_count": 18,
   "id": "c825baf0-34b2-43af-a0a6-f6a116ce7481",
   "metadata": {
    "scrolled": true
   },
   "outputs": [
    {
     "name": "stderr",
     "output_type": "stream",
     "text": [
      "\n",
      "llama_print_timings:        load time =   12224.00 ms\n",
      "llama_print_timings:      sample time =      91.65 ms /   256 runs   (    0.36 ms per token,  2793.33 tokens per second)\n",
      "llama_print_timings: prompt eval time =   12222.24 ms /  1156 tokens (   10.57 ms per token,    94.58 tokens per second)\n",
      "llama_print_timings:        eval time =   13414.72 ms /   255 runs   (   52.61 ms per token,    19.01 tokens per second)\n",
      "llama_print_timings:       total time =   27395.62 ms /  1411 tokens\n"
     ]
    },
    {
     "name": "stdout",
     "output_type": "stream",
     "text": [
      "CPU times: user 14.4 s, sys: 2.39 s, total: 16.8 s\n",
      "Wall time: 27.5 s\n"
     ]
    },
    {
     "data": {
      "text/plain": [
       "StructuredQuery(query='每个人都以为他自己至少有一种主要的美德。', filter=Operation(operator=<Operator.OR: 'or'>, arguments=[Comparison(comparator=<Comparator.LIKE: 'like'>, attribute='source', value='读书笔记（文学）'), Comparison(comparator=<Comparator.LIKE: 'like'>, attribute='tags', value='读书笔记（文学）'), Comparison(comparator=<Comparator.LIKE: 'like'>, attribute='name', value='每个人都以为他自己至少有一种主要的美德'), Comparison(comparator=<Comparator.LIKE: 'like'>, attribute='author', value='每个人都以为他自己至少有一种主要的美德')]), limit=None)"
      ]
     },
     "execution_count": 18,
     "metadata": {},
     "output_type": "execute_result"
    }
   ],
   "source": [
    "%%time\n",
    "\n",
    "langchain.debug = False\n",
    "\n",
    "query_constructor = prompt | llm | output_parser\n",
    "query_constructor.invoke({\n",
    "    \"query\": \"“每个人都以为他自己至少有一种主要的美德。”是出自哪里？请从“读书笔记（文学）”中找到答案。\"\n",
    "})"
   ]
  },
  {
   "cell_type": "code",
   "execution_count": 19,
   "id": "6ed03807-05e1-47b6-8e98-f9197e5ad79a",
   "metadata": {},
   "outputs": [],
   "source": [
    "from langchain.retrievers.self_query.redis import RedisTranslator\n",
    "from langchain.retrievers import SelfQueryRetriever\n",
    "\n",
    "retriever = SelfQueryRetriever(\n",
    "    query_constructor=prompt | llm | output_parser,\n",
    "    vectorstore=vs,\n",
    "    # requires a RedisModel object as input\n",
    "    # can use the private ._schema attribute\n",
    "    # ref: https://github.com/langchain-ai/langchain/blob/d7c26c89b2d4f5ff676ba7c3ad4f9075d50a8ab7/libs/community/langchain_community/vectorstores/redis/base.py#L572\n",
    "    structured_query_translator=RedisTranslator(schema=vs._schema),\n",
    "    enable_limit=True,\n",
    ")"
   ]
  },
  {
   "cell_type": "code",
   "execution_count": 20,
   "id": "2cb61895-f7cb-4310-9829-3cdd3edce8e5",
   "metadata": {},
   "outputs": [
    {
     "name": "stderr",
     "output_type": "stream",
     "text": [
      "Llama.generate: prefix-match hit\n",
      "\n",
      "llama_print_timings:        load time =   12224.00 ms\n",
      "llama_print_timings:      sample time =      90.43 ms /   256 runs   (    0.35 ms per token,  2830.83 tokens per second)\n",
      "llama_print_timings: prompt eval time =     263.70 ms /    19 tokens (   13.88 ms per token,    72.05 tokens per second)\n",
      "llama_print_timings:        eval time =   11319.73 ms /   255 runs   (   44.39 ms per token,    22.53 tokens per second)\n",
      "llama_print_timings:       total time =   13296.54 ms /   274 tokens\n"
     ]
    },
    {
     "name": "stdout",
     "output_type": "stream",
     "text": [
      "人生有几个不捡？ (@source:(笑死) | (@tags:(笑死) | @name:(笑死)))\n"
     ]
    }
   ],
   "source": [
    "langchain.debug = False\n",
    "\n",
    "q = '人生有几个不捡？仅从“笑死”中找答案。'\n",
    "\n",
    "new_query, search_kwargs = retriever._prepare_query(\n",
    "    q,\n",
    "    structured_query=query_constructor.invoke({'query': q}),\n",
    ")\n",
    "\n",
    "print(new_query, str(search_kwargs['filter']))"
   ]
  },
  {
   "cell_type": "code",
   "execution_count": 21,
   "id": "f777e143-2606-49c4-b3de-047b314229bf",
   "metadata": {
    "scrolled": true
   },
   "outputs": [
    {
     "name": "stderr",
     "output_type": "stream",
     "text": [
      "Llama.generate: prefix-match hit\n",
      "\n",
      "llama_print_timings:        load time =    9236.08 ms\n",
      "llama_print_timings:      sample time =       9.06 ms /    54 runs   (    0.17 ms per token,  5959.61 tokens per second)\n",
      "llama_print_timings: prompt eval time =     299.90 ms /    16 tokens (   18.74 ms per token,    53.35 tokens per second)\n",
      "llama_print_timings:        eval time =    1776.64 ms /    53 runs   (   33.52 ms per token,    29.83 tokens per second)\n",
      "llama_print_timings:       total time =    2210.99 ms /    69 tokens\n",
      "Metadata key date_end not found in metadata. Setting to None. \n",
      "Metadata fields defined for this instance: ['author', 'id', 'name', 'source', 'tags', 'date_start', 'date_end']\n",
      "Metadata key date_end not found in metadata. Setting to None. \n",
      "Metadata fields defined for this instance: ['author', 'id', 'name', 'source', 'tags', 'date_start', 'date_end']\n",
      "Metadata key date_end not found in metadata. Setting to None. \n",
      "Metadata fields defined for this instance: ['author', 'id', 'name', 'source', 'tags', 'date_start', 'date_end']\n",
      "Metadata key date_end not found in metadata. Setting to None. \n",
      "Metadata fields defined for this instance: ['author', 'id', 'name', 'source', 'tags', 'date_start', 'date_end']\n"
     ]
    },
    {
     "name": "stdout",
     "output_type": "stream",
     "text": [
      "CPU times: user 882 ms, sys: 61.5 ms, total: 943 ms\n",
      "Wall time: 2.46 s\n"
     ]
    },
    {
     "data": {
      "text/plain": [
       "[Document(page_content='“道连，你是生活中的任性而快活的人，像你这样的人不会去犯罪。不过你对我的恭维还是使我感到荣幸。现在请你告诉我——请把火柴递给我，好孩子，谢谢！——你跟西碧儿·韦恩现在究竟是怎样的关系？”\\n道连·格雷霍地跳了起来，两腮通红，双目怒睁。“亨利！西碧儿·韦恩是神圣的！”\\n“\\n只有神圣的东西才值得去碰\\n，道连，”亨利勋爵的声调出人意料地稍带几分激昂。“你何必发火呢？我料想她总有一天会属于你的。\\n恋爱中的人总是先欺骗自己，最后欺骗别人。这就是大家所说的罗曼司。\\n”\\n\\n\\n“哦，贝泽尔是个再好不过的人，可我觉得他有那么一点儿迂腐。亨利，自从我和你认识以后，我有这样的感觉。”\\n“老弟，贝泽尔把他身上的全部可爱的气质都放到创作中去了。结果他为生活留下的就只有他的偏见、准则和大道理。我所认识的艺术家中讨人喜欢的都是不成器的。有才气的艺术家只存在于他们的创作中，而他们本人都是索然无味的。\\n一个伟大的诗人，一个真正伟大的诗人，是最没有诗意的人。但是等而下之的诗人却极其讨人喜欢。他们的诗写得愈糟糕，他们的外貌就愈生动。如果一个诗人出版了一本二三流的十四行诗集，此人一定具有不可抗拒的魅力。他把写不出来的诗都在生活中实现了。而另一类诗人却把他们不敢身体力行的意境都写成了诗。\\n”\\n……（略）\\n诚然，很少有人像道连·格雷那样吸引他，但这少年疯狂地热恋着另外一个人，却丝毫没有引起他的不快或妒意。他反而感到高兴。这为他提供了一个更加饶有兴味的研究课题。亨利勋爵一向醉心于自然科学的方法，但是自然科学的一般研究对象在他看来却是乏味的，不足道的。于是他始而开始解剖自己，继而解剖别人。在他心目中唯一值得加以研究的就是人生。与此相比，任何别的东西都毫无价值。确实，你要观察人生在痛苦和欢乐的奇特熔炉中的冶炼过程，不能戴上玻璃面罩，也免不了被硫磺味熏昏头脑，弄得想象中尽是牛鬼蛇神、噩梦凶兆。有些毒物是很难捉摸的，你要了解它们的特性，非得先中毒不可。然而，你得到的回报将是不可估量的！整个世界在你心目中将变得无比奇妙！探明\\n高度严谨的情欲逻辑和涂上感情色彩的理性生活\\n，观察它们何处相遇，何处分离，在哪一点上协调，在哪一点上不谐——真是其乐无穷！……（略）', metadata={'id': 'doc:notiondb:be9cfbb990cd47e1831da1449e8c4c05', 'author': '【英】奥斯卡·王尔德', 'name': '道连·葛雷的画像 【英】奥斯卡·王尔德', 'source': '读书笔记（文学）', 'tags': '小说', 'date_start': '20170920', 'date_end': None}),\n",
       " Document(page_content='【译者序】\\n人生基本是孤独的，但同时又能通过孤独这一频道同他人沟通。\\n我写小说的用意就在这里。\\n人们总要进入自己一个人的世界，在进得最深的地方就会产生连带感。或者说人们总要深深挖洞，只要一直挖下去就会在某处同别人连在一起。\\n而用围墙把自己围起来是不行的。\\n\\n【第二章 绝密资料】\\n我们一起唱着歌走在山路上，不时学一声鸟叫。除去战争仍在持续这一点，可以说是个十全十美的清晨。\\n\\n【第五章 在图书馆度过的一天】\\n担任向导的叫佐伯的人是一位四十五岁光景的瘦削的女性。……（略）眼睛漂亮，唇角无时不漾出影子般的淡淡笑意。倒是表达不好，反正感觉上是一种圆满完结的微笑。\\n它使我想起一小片日光，想起某种只能在有纵深感的场所生成的形状特别的一小片日光。\\n\\n【第十三章 舒伯特的奏鸣曲】\\n“一般来说，作为演奏最为一气呵成的是布莱迪和阿什克纳济。不过坦率来说，我个人不中意他俩的演奏，或者说不为其吸引。\\n舒伯特么，让我来说，乃是向万事万物的存在状态挑战而又败北的音乐。这是浪漫主义的本质。\\n在这个意义上，舒伯特的音乐是浪漫主义的精华。”\\n……（略）\\n“舒伯特是经过训练才能理解的音乐。刚听的时候我也感到单调，你那样的年龄那是当然的。当然你很快就会领悟。在这个世界上，不单调的东西让人很快厌倦，不让人厌倦的大多是单调的东西。向来如此。\\n我的人生可以有把玩单调的时间，但没有忍受厌倦的余地。而大部分人分不出二者的差别\\n。”\\n\\n【第十五章 小屋中只有我】\\n鸟们的叫声如同淋浴喷头汹涌地倾注下来。\\n\\n【第十九章 精神上男性，肉体上女性】\\n星期一图书馆不开门。平日图书馆也够安静，休息日就更加安静，俨然被时间遗忘的场所，\\n或者像不希望被时间发现而悄然屏息的地方\\n。\\n\\n“……（略）缺乏想象力的狭隘、苛刻、自以为是的命题、空洞的术语、被篡夺的理想、僵化的思想体系——对我来说，真正可怕的是这些东西。我从心底畏惧和憎恶这些东西。何为正确何为不正确——这当然是十分重要的问题。但这种个别判断失误，在很多情况下事后不是不可以纠正。只要有主动承认错误的勇气，一般都可以挽回。然而缺乏想象力的狭隘和苛刻却同寄生虫无异，它们改变赖以寄生的主体、改变自身形状而无限繁衍下去。这里没有获救的希望。作为我，不愿意让那类东西进入这里。”', metadata={'id': 'doc:notiondb:3f4eaddf2ff4471484c62becc618b1b0', 'author': '【日】村上春树', 'name': '海边的卡夫卡 【日】村上春树', 'source': '读书笔记（文学）', 'tags': '小说', 'date_start': '20180827', 'date_end': None}),\n",
       " Document(page_content='亨利勋爵意识到，是他的话，是那些拥有样的语调说出来的动听的话使得道连·葛雷的灵魂转向那个纯洁的姑娘，使道连拜倒在她的面前。想到这里，亨利勋爵棕玛瑙色的眼睛露出得意的目光。在很大程度是，现在的道连·葛雷是他的创作。是他催熟了这个少年。这是值得一提的。\\n普通人总是等待生活自己向他们展示生活的奥秘。但是对于少数精英中的精英来说，生活的秘密在帷幕揭开之前即已透露。有时候这份功劳应归于艺术，主要是直接诉诸情感和理性的文学。\\n不过艺术的职能间或由某个不简单的人物取而代之，而这个人本身也是一件地地道道的艺术品，因为生活如同诗歌、雕塑、绘画一样有它自己的杰作。\\n是的， 那少年被催熟了。目前正在春天，他已经在收获了。青春的活力和热情正在他身上搏动，但他已开始自觉。观察他的变化是一种享受。凭他那美丽的容颜和灵魂，他称得上一个奇迹。\\n他就像赛会或戏剧中那些色艺双绝的名角，他们的欢乐与我们不相干，但他们的悲哀能激起我们的美感，他们的创伤更像殷红的玫瑰。\\n\\n\\n“我现在什么事情都不表示赞成或不赞成。我不愿对生活采取这种荒唐的态度。\\n我们不是被派到世上来宣扬我们的道德偏见的。我从来不理会庸俗的人们说些什么，我也从来不干预可爱的人们做些什么。\\n……（略）你知道我不是婚姻的捍卫者。\\n结婚的真正弊端是使人变得无私。而不自私的人是平淡无奇和缺乏个性的。不过，有些人的气质在婚后会变得更加复杂。他们在保留自我中心的同时还添上许多别的’我’。他们不得不过着双重或更多重的生活。他们会具有更高级的构造。\\n而我认为这正是人生的目的所在。……（略）”\\n\\n\\n“……（略）演出结束后，我到后台去和她说话。我们一起坐在那里，忽然她眼睛里出现一种我从未见过的表情。我的嘴唇凑到她的嘴边。我们接了吻。我无法向你们描述我在那一瞬间的感受。我只觉得自己的一生整个儿凝聚在完美的一点上，那是绛红色的欢乐。\\n西碧儿全身颤动，像一丛白色的水仙花抖个不停。\\n……（略）”', metadata={'id': 'doc:notiondb:462ce8dd96634d9791d9e425fb491e3e', 'author': '【英】奥斯卡·王尔德', 'name': '道连·葛雷的画像 【英】奥斯卡·王尔德', 'source': '读书笔记（文学）', 'tags': '小说', 'date_start': '20170920', 'date_end': None}),\n",
       " Document(page_content='p25\\n也许有人会说，阿辽沙生性迟钝，智力没有得到开发，中学未曾毕业，等等。他没有完成学业，这是事实；但说他迟钝或愚笨，那就太不公平了。我只想把前面说过的话重复一遍：他走上这条道路，仅仅由于当时只有这条路给他留下很深的印象，使他一下子看到了自己的心灵挣脱黑暗，奔往光明的理想出路。您还得加上一点：他部分地已经是当代青年，也就是说，禀性正直，渴求真理、寻觅真理并且信仰真理，而一旦有了信仰，便切盼立刻全心全意地投入，切盼迅速干一番大事业，为此必定愿意牺牲一切，乃至生命。不幸的是，\\n这些青年并不懂得，在很多情况下，舍身也许是所有的牺牲中最轻而易举的\\n，而从自己风华正茂的生命中拿出五六年来埋头苦学，做点学问，哪怕只是为了十倍地增强自己的力量，以便为他追求的真理服务，为他心向往之并且引为己任的大事业服务，——这样的牺牲对于他们中许多人来说几乎完全做不到，实际情况往往如此。\\n阿辽沙选择的是一条和大家相反的道路，但他也同样渴望迅速建功立业。他经过认真思索，刚一确信灵魂是不灭的，上帝是存在的，随即很自然地对自己说：“我要为灵魂不灭而活着，决不接受折中式的妥协。”同样，设若他认定灵魂无法不灭，上帝并不存在，那就马上去加入无神论者和社会主义者的行列。因为，\\n社会主义不单单是一个劳工问题或所谓第四等级问题，而主要是一个无神论问题，是无神论在当代的表现以及恰恰在不要上帝的情况下建造巴比伦塔的问题；建塔的目的并不是为了从地上登天，而是把天挪到地上来\\n。\\n阿辽沙认为，继续像原来那样生活简直是奇怪和不可能的。圣经上写着：“你若愿意作完全人，可去舍掉你所有的……跟从我。”阿辽沙则对自己说：“既然要舍掉‘所有的’，我就不能只舍掉两卢布；既然要‘跟从我’，我就不能只去做晨祷。”也许，在他孩提时代的记忆中保存着关于我们城郊那个修道院的某些印象，他母亲可能带他去那做过晨祷。也许，他那害“鬼号病”的母亲把他捧向神像的情景和夕的斜晖也起了作用。阿辽沙若有所思地来到我们的小城，也许纯粹为了看一下：这里果真值得他舍掉“所有的”，还是只可舍“两卢布”，在修道院里遇上了那位长老……', metadata={'id': 'doc:notiondb:d2e72b5627ed4172abba831547a042ca', 'author': '【俄】陀思妥耶夫斯基', 'name': '卡拉马佐夫兄弟 【俄】陀思妥耶夫斯基', 'source': '读书笔记（文学）', 'tags': '小说', 'date_start': '20171202', 'date_end': None})]"
      ]
     },
     "execution_count": 21,
     "metadata": {},
     "output_type": "execute_result"
    }
   ],
   "source": [
    "%%time \n",
    "\n",
    "langchain.debug = False\n",
    "retriever.invoke('道连是哪本小说中出现的人物？')"
   ]
  },
  {
   "cell_type": "code",
   "execution_count": 22,
   "id": "6e2588d3-e298-4880-b473-604c011ce673",
   "metadata": {
    "scrolled": true
   },
   "outputs": [
    {
     "name": "stderr",
     "output_type": "stream",
     "text": [
      "Llama.generate: prefix-match hit\n",
      "\n",
      "llama_print_timings:        load time =    7427.01 ms\n",
      "llama_print_timings:      sample time =      87.08 ms /   256 runs   (    0.34 ms per token,  2939.99 tokens per second)\n",
      "llama_print_timings: prompt eval time =     250.05 ms /    19 tokens (   13.16 ms per token,    75.99 tokens per second)\n",
      "llama_print_timings:        eval time =   11228.48 ms /   255 runs   (   44.03 ms per token,    22.71 tokens per second)\n",
      "llama_print_timings:       total time =   13113.11 ms /   274 tokens\n",
      "Metadata key date_end not found in metadata. Setting to None. \n",
      "Metadata fields defined for this instance: ['author', 'id', 'name', 'source', 'tags', 'date_start', 'date_end']\n",
      "Metadata key date_end not found in metadata. Setting to None. \n",
      "Metadata fields defined for this instance: ['author', 'id', 'name', 'source', 'tags', 'date_start', 'date_end']\n",
      "Metadata key date_end not found in metadata. Setting to None. \n",
      "Metadata fields defined for this instance: ['author', 'id', 'name', 'source', 'tags', 'date_start', 'date_end']\n",
      "Metadata key date_end not found in metadata. Setting to None. \n",
      "Metadata fields defined for this instance: ['author', 'id', 'name', 'source', 'tags', 'date_start', 'date_end']\n"
     ]
    },
    {
     "name": "stdout",
     "output_type": "stream",
     "text": [
      "CPU times: user 9.27 s, sys: 266 ms, total: 9.53 s\n",
      "Wall time: 13.4 s\n"
     ]
    },
    {
     "data": {
      "text/plain": [
       "[Document(page_content='王尔德总共写过九部戏剧，但另外四部剧作已被遗忘。1895年2月14日，王尔德最后一部、也是他才华机智达到巅峰状态的剧作《认真的重要》在圣詹姆斯剧院首演，观众如潮，盛况空前。两周后，王尔德在阿尔比马尔俱乐部收到昆斯伯里侯爵约翰·道格拉斯留下的名片，上面写着：“致装模作样的好男色者奥斯卡·王尔德”。因为王尔德从1891年开始便与比他小十六岁的阿尔弗雷德·道格拉斯（侯爵之子，当时还在上牛津大学）有不正当关系，而且经常“俪影成双”地出现在伦敦的公共场所并一起旅游，侯爵十分反感。王尔德与年轻男性的同性恋行为遭人物议不自此时始。同年，王尔德以诽谤罪把昆斯伯里侯爵告上法庭，居然向他一贯通过自己的作品和生活方式加以百般嘲弄的维多利亚时代的英国法律和社会求助（两年后，王尔德沉痛地承认自己干了“一生中最可耻、最无法原谅、最可鄙的事 ”）。1895 年4月3日法院开庭审理王尔德诉昆斯伯里侯爵诽谤案（王尔德自幼渴望的倒是能在“女王诉王尔德”的官司中出庭），被告轻而易举地反证原告确系“好男色者”，从而推翻关于诽谤的指控。4月5日，侯爵无罪获释，王尔德反因涉嫌“同其他男子发生有伤风化的肉体关系”被捕后取保候审 。5月25日，伦敦中央刑事法院根据1885年通过的针对男子同性恋的刑法修正案判处王尔德两年劳役刑罚，先后囚于纽盖特、彭顿韦尔和万兹沃斯监狱，11月20日又移至雷丁监狱服满刑期，这位折翅的悖论大师从此一蹶不振。', metadata={'id': 'doc:notiondb:7aba74f2ecb54f879215fb8e88396210', 'author': '【英】奥斯卡·王尔德', 'name': '道连·葛雷的画像 【英】奥斯卡·王尔德', 'source': '读书笔记（文学）', 'tags': '小说', 'date_start': '20170920', 'date_end': None}),\n",
       " Document(page_content='【作者简介】\\n奥斯卡·王尔德（Oscar Wilde，1854年10月16日—1900年11月30日），出生于爱尔兰都柏林，19世纪英国（准确来讲是爱尔兰，但是当时由英国统治）最伟大的作家与艺术家之一，以其剧作、诗歌、童话和小说闻名，唯美主义代表人物，19世纪80年代美学运动的主力和90年代颓废派运动的先驱。\\n王尔德的文学活动领域十分宽广。他既是诗人（1881年就有他的诗集问世），又写小说、童话（包括《快乐王子》、《石榴之家》、《阿瑟·萨维尔勋爵的罪行》三个集子以及他唯一的长篇小说《道连·葛雷的画像》，以上四种除《快乐王子及其他童话》一种成书于1888年外，其余三种均于1891年出版）。他还写过不少评论和随笔（较重要的有他自己选编的《意图集》以及《社会主义制度下人的灵魂》，均刊行于1891年）。但为他赢得最辉煌成功的要数1892——1895年间先后在伦敦西区舞台上首演的社会讽刺喜剧《温德米尔夫人的扇子》、《一个无足轻重的女人》、《一个理想的丈夫》和《你真的重要》。', metadata={'id': 'doc:notiondb:e50187e728f5482a99a4054e0136f856', 'author': '【英】奥斯卡·王尔德', 'name': '道连·葛雷的画像 【英】奥斯卡·王尔德', 'source': '读书笔记（文学）', 'tags': '小说', 'date_start': '20170920', 'date_end': None}),\n",
       " Document(page_content='《小王子》--le petit prince\\n【法】圣爱克苏佩里', metadata={'id': 'doc:notiondb:c4e73c5832cb4d24b12025dc73be6262', 'author': '【法】圣爱克苏佩里', 'name': '小王子 【法】圣爱克苏佩里', 'source': '读书笔记（文学）', 'tags': '小说', 'date_start': '20140429', 'date_end': None}),\n",
       " Document(page_content='亨利勋爵意识到，是他的话，是那些拥有样的语调说出来的动听的话使得道连·葛雷的灵魂转向那个纯洁的姑娘，使道连拜倒在她的面前。想到这里，亨利勋爵棕玛瑙色的眼睛露出得意的目光。在很大程度是，现在的道连·葛雷是他的创作。是他催熟了这个少年。这是值得一提的。\\n普通人总是等待生活自己向他们展示生活的奥秘。但是对于少数精英中的精英来说，生活的秘密在帷幕揭开之前即已透露。有时候这份功劳应归于艺术，主要是直接诉诸情感和理性的文学。\\n不过艺术的职能间或由某个不简单的人物取而代之，而这个人本身也是一件地地道道的艺术品，因为生活如同诗歌、雕塑、绘画一样有它自己的杰作。\\n是的， 那少年被催熟了。目前正在春天，他已经在收获了。青春的活力和热情正在他身上搏动，但他已开始自觉。观察他的变化是一种享受。凭他那美丽的容颜和灵魂，他称得上一个奇迹。\\n他就像赛会或戏剧中那些色艺双绝的名角，他们的欢乐与我们不相干，但他们的悲哀能激起我们的美感，他们的创伤更像殷红的玫瑰。\\n\\n\\n“我现在什么事情都不表示赞成或不赞成。我不愿对生活采取这种荒唐的态度。\\n我们不是被派到世上来宣扬我们的道德偏见的。我从来不理会庸俗的人们说些什么，我也从来不干预可爱的人们做些什么。\\n……（略）你知道我不是婚姻的捍卫者。\\n结婚的真正弊端是使人变得无私。而不自私的人是平淡无奇和缺乏个性的。不过，有些人的气质在婚后会变得更加复杂。他们在保留自我中心的同时还添上许多别的’我’。他们不得不过着双重或更多重的生活。他们会具有更高级的构造。\\n而我认为这正是人生的目的所在。……（略）”\\n\\n\\n“……（略）演出结束后，我到后台去和她说话。我们一起坐在那里，忽然她眼睛里出现一种我从未见过的表情。我的嘴唇凑到她的嘴边。我们接了吻。我无法向你们描述我在那一瞬间的感受。我只觉得自己的一生整个儿凝聚在完美的一点上，那是绛红色的欢乐。\\n西碧儿全身颤动，像一丛白色的水仙花抖个不停。\\n……（略）”', metadata={'id': 'doc:notiondb:462ce8dd96634d9791d9e425fb491e3e', 'author': '【英】奥斯卡·王尔德', 'name': '道连·葛雷的画像 【英】奥斯卡·王尔德', 'source': '读书笔记（文学）', 'tags': '小说', 'date_start': '20170920', 'date_end': None})]"
      ]
     },
     "execution_count": 22,
     "metadata": {},
     "output_type": "execute_result"
    }
   ],
   "source": [
    "%%time \n",
    "\n",
    "langchain.debug = False\n",
    "retriever.invoke('谁是王尔德？仅从“小说”中找答案。')"
   ]
  },
  {
   "cell_type": "code",
   "execution_count": 23,
   "id": "a00f1705-af14-4a31-8da9-ad13e9b8eacd",
   "metadata": {
    "scrolled": true
   },
   "outputs": [
    {
     "name": "stderr",
     "output_type": "stream",
     "text": [
      "Llama.generate: prefix-match hit\n",
      "\n",
      "llama_print_timings:        load time =    7427.01 ms\n",
      "llama_print_timings:      sample time =      87.61 ms /   256 runs   (    0.34 ms per token,  2922.07 tokens per second)\n",
      "llama_print_timings: prompt eval time =     268.04 ms /    19 tokens (   14.11 ms per token,    70.88 tokens per second)\n",
      "llama_print_timings:        eval time =   11229.68 ms /   255 runs   (   44.04 ms per token,    22.71 tokens per second)\n",
      "llama_print_timings:       total time =   13145.71 ms /   274 tokens\n",
      "Metadata key author not found in metadata. Setting to None. \n",
      "Metadata fields defined for this instance: ['author', 'id', 'name', 'source', 'tags', 'date_start', 'date_end']\n",
      "Metadata key tags not found in metadata. Setting to None. \n",
      "Metadata fields defined for this instance: ['author', 'id', 'name', 'source', 'tags', 'date_start', 'date_end']\n",
      "Metadata key date_start not found in metadata. Setting to None. \n",
      "Metadata fields defined for this instance: ['author', 'id', 'name', 'source', 'tags', 'date_start', 'date_end']\n",
      "Metadata key date_end not found in metadata. Setting to None. \n",
      "Metadata fields defined for this instance: ['author', 'id', 'name', 'source', 'tags', 'date_start', 'date_end']\n"
     ]
    },
    {
     "name": "stdout",
     "output_type": "stream",
     "text": [
      "CPU times: user 9.28 s, sys: 263 ms, total: 9.55 s\n",
      "Wall time: 13.2 s\n"
     ]
    },
    {
     "data": {
      "text/plain": [
       "[Document(page_content='人生四不捡：塔吊下边冰红茶，铁轨上边牛肉干，过山车下八宝粥，课桌后边葡萄干', metadata={'id': 'doc:notiondb:d6d5faf38d8e4b1d9d9a6a19c00bc9dd', 'author': None, 'name': '笑死', 'source': '格言小集', 'tags': None, 'date_start': None, 'date_end': None})]"
      ]
     },
     "execution_count": 23,
     "metadata": {},
     "output_type": "execute_result"
    }
   ],
   "source": [
    "%%time \n",
    "\n",
    "langchain.debug = False\n",
    "retriever.invoke('人生有几个不捡？仅从“笑死”中找答案。')"
   ]
  },
  {
   "cell_type": "code",
   "execution_count": 24,
   "id": "6283502f-4d93-44d0-81aa-e30f5f73833a",
   "metadata": {
    "scrolled": true
   },
   "outputs": [
    {
     "name": "stderr",
     "output_type": "stream",
     "text": [
      "Llama.generate: prefix-match hit\n"
     ]
    },
    {
     "name": "stdout",
     "output_type": "stream",
     "text": [
      "\u001b[32;1m\u001b[1;3m[chain/start]\u001b[0m \u001b[1m[1:retriever:Retriever > 2:chain:RunnableSequence] Entering Chain run with input:\n",
      "\u001b[0m{\n",
      "  \"query\": \"请列举NBA著名球星3名\"\n",
      "}\n",
      "\u001b[32;1m\u001b[1;3m[chain/start]\u001b[0m \u001b[1m[1:retriever:Retriever > 2:chain:RunnableSequence > 3:prompt:FewShotPromptTemplate] Entering Prompt run with input:\n",
      "\u001b[0m{\n",
      "  \"query\": \"请列举NBA著名球星3名\"\n",
      "}\n",
      "\u001b[36;1m\u001b[1;3m[chain/end]\u001b[0m \u001b[1m[1:retriever:Retriever > 2:chain:RunnableSequence > 3:prompt:FewShotPromptTemplate] [0ms] Exiting Prompt run with output:\n",
      "\u001b[0m{\n",
      "  \"lc\": 1,\n",
      "  \"type\": \"constructor\",\n",
      "  \"id\": [\n",
      "    \"langchain\",\n",
      "    \"prompts\",\n",
      "    \"base\",\n",
      "    \"StringPromptValue\"\n",
      "  ],\n",
      "  \"kwargs\": {\n",
      "    \"text\": \"Your goal is to structure the user's query to match the request schema provided below.\\n\\n\\n\\n<< Structured Request Schema >>\\n\\nWhen responding use a markdown code snippet with a JSON object formatted in the following schema:\\n\\n\\n\\n```json\\n\\n{\\n\\n    \\\"query\\\": string \\\\ text string to compare to document contents\\n\\n    \\\"filter\\\": string \\\\ logical condition statement for filtering documents\\n\\n}\\n\\n```\\n\\n\\n\\nThe query string should contain only text that is expected to match the contents of documents. Any conditions in the filter should not be mentioned in the query as well.\\n\\n\\n\\nMake sure that you only use the comparators and logical operators listed above and no others.\\n\\nMake sure that filters only use the attributed names with its function names if there are functions applied on them.\\n\\nMake sure that filters only use format `YYYYMMDD` when handling date data typed values.\\n\\nMake sure that filters take into account the descriptions of attributes and only make comparisons that are feasible given the type of data being stored.\\n\\nMake sure that filters are only used as needed. If there are no filters that should be applied return \\\"NO_FILTER\\\" for the filter value.\\n\\nMake sure that filters only refer to attributes that exist in the data source. Available attributes: ['date_end', 'id', 'date_start', 'author', 'tags', 'content', 'source', 'name']. Don't make up other attributes.\\n\\n\\n\\n<<Data Source>>\\n\\n```json\\n\\n{\\n    \\\"content\\\": \\\"文章\\\",\\n    \\\"attributes\\\": {\\n        \\\"author\\\": {\\n            \\\"description\\\": \\\"本篇文章的作者\\\",\\n            \\\"type\\\": \\\"string\\\"\\n        },\\n        \\\"date_start\\\": {\\n            \\\"description\\\": \\\"文章被创建的时间，格式是YYYYMMDD\\\",\\n            \\\"type\\\": \\\"string\\\"\\n        },\\n        \\\"date_end\\\": {\\n            \\\"description\\\": \\\"文章被完成的时间，格式是YYYYMMDD\\\",\\n            \\\"type\\\": \\\"string\\\"\\n        },\\n        \\\"id\\\": {\\n            \\\"description\\\": \\\"文章的id\\\",\\n            \\\"type\\\": \\\"string\\\"\\n        },\\n        \\\"name\\\": {\\n            \\\"description\\\": \\\"文章的名字\\\",\\n            \\\"type\\\": \\\"string\\\"\\n        },\\n        \\\"source\\\": {\\n            \\\"description\\\": \\\"文章的来源，这里的文章取自若干不同数据库\\\",\\n            \\\"type\\\": \\\"string\\\"\\n        },\\n        \\\"tags\\\": {\\n            \\\"description\\\": \\\"文章的标签，可能代表它的风格、题材、来源，或者系列\\\",\\n            \\\"type\\\": \\\"string\\\"\\n        }\\n    }\\n}\\n\\n```\\n\\n\\n<< Example 1. >>\\nUser Query:\\n谁是王尔德？仅从“小说”中找答案。\\n\\nStructured Request:\\n```json\\n{\\n    \\\"query\\\": \\\"谁是王尔德？\\\",\\n    \\\"filter\\\": \\\"or(like(\\\\\\\"source\\\\\\\", \\\\\\\"小说\\\\\\\"), like(\\\\\\\"tags\\\\\\\", \\\\\\\"小说\\\\\\\"), like(\\\\\\\"name\\\\\\\", \\\\\\\"小说\\\\\\\"))\\\"\\n}\\n```\\n\\n\\n<< Example 2. >>\\nUser Query:\\n请从三岛由纪夫的小说找到下文相关片段：“我们之所以突然变得残暴”的后面是什么？\\n\\nStructured Request:\\n```json\\n{\\n    \\\"query\\\": \\\"我们之所以突然变得残暴\\\",\\n    \\\"filter\\\": \\\"or(like(\\\\\\\"source\\\\\\\", \\\\\\\"小说\\\\\\\"),  like(\\\\\\\"tags\\\\\\\", \\\\\\\"小说\\\\\\\"), like(\\\\\\\"name\\\\\\\", \\\\\\\"三岛由纪夫\\\\\\\"), like(\\\\\\\"author\\\\\\\", \\\\\\\"三岛由纪夫\\\\\\\"))\\\"\\n}\\n```\\n\\n\\n<< Example 3. >>\\nUser Query:\\n《天使与昆虫》是哪位作家的作品？\\n\\nStructured Request:\\n```json\\n{\\n    \\\"query\\\": \\\"天使与昆虫\\\",\\n    \\\"filter\\\": \\\"or(like(\\\\\\\"source\\\\\\\", \\\\\\\"天使与昆虫\\\\\\\"), like(\\\\\\\"tags\\\\\\\", \\\\\\\"天使与昆虫\\\\\\\"), like(\\\\\\\"name\\\\\\\", \\\\\\\"天使与昆虫\\\\\\\"))\\\"\\n}\\n```\\n\\n\\n<< Example 4. >>\\nUser Query:\\n道连是哪本小说中出现的人物？\\n\\nStructured Request:\\n```json\\n{\\n    \\\"query\\\": \\\"道连\\\",\\n    \\\"filter\\\": \\\"or(like(\\\\\\\"source\\\\\\\", \\\\\\\"小说\\\\\\\"), like(\\\\\\\"tags\\\\\\\", \\\\\\\"小说\\\\\\\"), like(\\\\\\\"name\\\\\\\", \\\\\\\"小说\\\\\\\"))\\\"\\n}\\n```\\n\\n\\n<< Example 5. >>\\nUser Query:\\n本多是王尔德笔下的人物吗？\\n\\nStructured Request:\\n```json\\n{\\n    \\\"query\\\": \\\"本多\\\",\\n    \\\"filter\\\": \\\"or(like(\\\\\\\"source\\\\\\\", \\\\\\\"王尔德\\\\\\\"), like(\\\\\\\"tags\\\\\\\", \\\\\\\"王尔德\\\\\\\")， like(\\\\\\\"name\\\\\\\", \\\\\\\"王尔德\\\\\\\"), like(\\\\\\\"author\\\\\\\", \\\\\\\"王尔德\\\\\\\"))\\\"\\n}\\n```\\n\\n\\n<< Example 6. >>\\nUser Query:\\n我在2019年到2022年间写过多少游记？\\n\\nStructured Request:\\n```json\\n{\\n    \\\"query\\\": \\\"游记\\\",\\n    \\\"filter\\\": \\\"and(eq(\\\\\\\"source\\\\\\\", \\\\\\\"写作\\\\\\\"), gt(\\\\\\\"date_start\\\\\\\", 20190101), lt(\\\\\\\"date_start\\\\\\\", 20221231))\\\"\\n}\\n```\\n\\n\\n<< Example 7. >>\\nUser Query:\\n美国有多少个州？\\n\\nStructured Request:\\n```json\\n{\\n    \\\"query\\\": \\\"\\\",\\n    \\\"filter\\\": \\\"NO_FILTER\\\"\\n}\\n```\\n\\n\\n<< Example 8. >>\\nUser Query:\\n请列举NBA著名球星3名\\n\\nStructured Request:\\n\"\n",
      "  }\n",
      "}\n",
      "\u001b[32;1m\u001b[1;3m[llm/start]\u001b[0m \u001b[1m[1:retriever:Retriever > 2:chain:RunnableSequence > 4:llm:LlamaCpp] Entering LLM run with input:\n",
      "\u001b[0m{\n",
      "  \"prompts\": [\n",
      "    \"Your goal is to structure the user's query to match the request schema provided below.\\n\\n\\n\\n<< Structured Request Schema >>\\n\\nWhen responding use a markdown code snippet with a JSON object formatted in the following schema:\\n\\n\\n\\n```json\\n\\n{\\n\\n    \\\"query\\\": string \\\\ text string to compare to document contents\\n\\n    \\\"filter\\\": string \\\\ logical condition statement for filtering documents\\n\\n}\\n\\n```\\n\\n\\n\\nThe query string should contain only text that is expected to match the contents of documents. Any conditions in the filter should not be mentioned in the query as well.\\n\\n\\n\\nMake sure that you only use the comparators and logical operators listed above and no others.\\n\\nMake sure that filters only use the attributed names with its function names if there are functions applied on them.\\n\\nMake sure that filters only use format `YYYYMMDD` when handling date data typed values.\\n\\nMake sure that filters take into account the descriptions of attributes and only make comparisons that are feasible given the type of data being stored.\\n\\nMake sure that filters are only used as needed. If there are no filters that should be applied return \\\"NO_FILTER\\\" for the filter value.\\n\\nMake sure that filters only refer to attributes that exist in the data source. Available attributes: ['date_end', 'id', 'date_start', 'author', 'tags', 'content', 'source', 'name']. Don't make up other attributes.\\n\\n\\n\\n<<Data Source>>\\n\\n```json\\n\\n{\\n    \\\"content\\\": \\\"文章\\\",\\n    \\\"attributes\\\": {\\n        \\\"author\\\": {\\n            \\\"description\\\": \\\"本篇文章的作者\\\",\\n            \\\"type\\\": \\\"string\\\"\\n        },\\n        \\\"date_start\\\": {\\n            \\\"description\\\": \\\"文章被创建的时间，格式是YYYYMMDD\\\",\\n            \\\"type\\\": \\\"string\\\"\\n        },\\n        \\\"date_end\\\": {\\n            \\\"description\\\": \\\"文章被完成的时间，格式是YYYYMMDD\\\",\\n            \\\"type\\\": \\\"string\\\"\\n        },\\n        \\\"id\\\": {\\n            \\\"description\\\": \\\"文章的id\\\",\\n            \\\"type\\\": \\\"string\\\"\\n        },\\n        \\\"name\\\": {\\n            \\\"description\\\": \\\"文章的名字\\\",\\n            \\\"type\\\": \\\"string\\\"\\n        },\\n        \\\"source\\\": {\\n            \\\"description\\\": \\\"文章的来源，这里的文章取自若干不同数据库\\\",\\n            \\\"type\\\": \\\"string\\\"\\n        },\\n        \\\"tags\\\": {\\n            \\\"description\\\": \\\"文章的标签，可能代表它的风格、题材、来源，或者系列\\\",\\n            \\\"type\\\": \\\"string\\\"\\n        }\\n    }\\n}\\n\\n```\\n\\n\\n<< Example 1. >>\\nUser Query:\\n谁是王尔德？仅从“小说”中找答案。\\n\\nStructured Request:\\n```json\\n{\\n    \\\"query\\\": \\\"谁是王尔德？\\\",\\n    \\\"filter\\\": \\\"or(like(\\\\\\\"source\\\\\\\", \\\\\\\"小说\\\\\\\"), like(\\\\\\\"tags\\\\\\\", \\\\\\\"小说\\\\\\\"), like(\\\\\\\"name\\\\\\\", \\\\\\\"小说\\\\\\\"))\\\"\\n}\\n```\\n\\n\\n<< Example 2. >>\\nUser Query:\\n请从三岛由纪夫的小说找到下文相关片段：“我们之所以突然变得残暴”的后面是什么？\\n\\nStructured Request:\\n```json\\n{\\n    \\\"query\\\": \\\"我们之所以突然变得残暴\\\",\\n    \\\"filter\\\": \\\"or(like(\\\\\\\"source\\\\\\\", \\\\\\\"小说\\\\\\\"),  like(\\\\\\\"tags\\\\\\\", \\\\\\\"小说\\\\\\\"), like(\\\\\\\"name\\\\\\\", \\\\\\\"三岛由纪夫\\\\\\\"), like(\\\\\\\"author\\\\\\\", \\\\\\\"三岛由纪夫\\\\\\\"))\\\"\\n}\\n```\\n\\n\\n<< Example 3. >>\\nUser Query:\\n《天使与昆虫》是哪位作家的作品？\\n\\nStructured Request:\\n```json\\n{\\n    \\\"query\\\": \\\"天使与昆虫\\\",\\n    \\\"filter\\\": \\\"or(like(\\\\\\\"source\\\\\\\", \\\\\\\"天使与昆虫\\\\\\\"), like(\\\\\\\"tags\\\\\\\", \\\\\\\"天使与昆虫\\\\\\\"), like(\\\\\\\"name\\\\\\\", \\\\\\\"天使与昆虫\\\\\\\"))\\\"\\n}\\n```\\n\\n\\n<< Example 4. >>\\nUser Query:\\n道连是哪本小说中出现的人物？\\n\\nStructured Request:\\n```json\\n{\\n    \\\"query\\\": \\\"道连\\\",\\n    \\\"filter\\\": \\\"or(like(\\\\\\\"source\\\\\\\", \\\\\\\"小说\\\\\\\"), like(\\\\\\\"tags\\\\\\\", \\\\\\\"小说\\\\\\\"), like(\\\\\\\"name\\\\\\\", \\\\\\\"小说\\\\\\\"))\\\"\\n}\\n```\\n\\n\\n<< Example 5. >>\\nUser Query:\\n本多是王尔德笔下的人物吗？\\n\\nStructured Request:\\n```json\\n{\\n    \\\"query\\\": \\\"本多\\\",\\n    \\\"filter\\\": \\\"or(like(\\\\\\\"source\\\\\\\", \\\\\\\"王尔德\\\\\\\"), like(\\\\\\\"tags\\\\\\\", \\\\\\\"王尔德\\\\\\\")， like(\\\\\\\"name\\\\\\\", \\\\\\\"王尔德\\\\\\\"), like(\\\\\\\"author\\\\\\\", \\\\\\\"王尔德\\\\\\\"))\\\"\\n}\\n```\\n\\n\\n<< Example 6. >>\\nUser Query:\\n我在2019年到2022年间写过多少游记？\\n\\nStructured Request:\\n```json\\n{\\n    \\\"query\\\": \\\"游记\\\",\\n    \\\"filter\\\": \\\"and(eq(\\\\\\\"source\\\\\\\", \\\\\\\"写作\\\\\\\"), gt(\\\\\\\"date_start\\\\\\\", 20190101), lt(\\\\\\\"date_start\\\\\\\", 20221231))\\\"\\n}\\n```\\n\\n\\n<< Example 7. >>\\nUser Query:\\n美国有多少个州？\\n\\nStructured Request:\\n```json\\n{\\n    \\\"query\\\": \\\"\\\",\\n    \\\"filter\\\": \\\"NO_FILTER\\\"\\n}\\n```\\n\\n\\n<< Example 8. >>\\nUser Query:\\n请列举NBA著名球星3名\\n\\nStructured Request:\"\n",
      "  ]\n",
      "}\n"
     ]
    },
    {
     "name": "stderr",
     "output_type": "stream",
     "text": [
      "\n",
      "llama_print_timings:        load time =    7427.01 ms\n",
      "llama_print_timings:      sample time =      86.89 ms /   256 runs   (    0.34 ms per token,  2946.39 tokens per second)\n",
      "llama_print_timings: prompt eval time =     262.26 ms /    13 tokens (   20.17 ms per token,    49.57 tokens per second)\n",
      "llama_print_timings:        eval time =   11214.30 ms /   255 runs   (   43.98 ms per token,    22.74 tokens per second)\n",
      "llama_print_timings:       total time =   13115.53 ms /   268 tokens\n",
      "Metadata key author not found in metadata. Setting to None. \n",
      "Metadata fields defined for this instance: ['author', 'id', 'name', 'source', 'tags', 'date_start', 'date_end']\n",
      "Metadata key author not found in metadata. Setting to None. \n",
      "Metadata fields defined for this instance: ['author', 'id', 'name', 'source', 'tags', 'date_start', 'date_end']\n",
      "Metadata key author not found in metadata. Setting to None. \n",
      "Metadata fields defined for this instance: ['author', 'id', 'name', 'source', 'tags', 'date_start', 'date_end']\n",
      "Metadata key author not found in metadata. Setting to None. \n",
      "Metadata fields defined for this instance: ['author', 'id', 'name', 'source', 'tags', 'date_start', 'date_end']\n"
     ]
    },
    {
     "name": "stdout",
     "output_type": "stream",
     "text": [
      "\u001b[36;1m\u001b[1;3m[llm/end]\u001b[0m \u001b[1m[1:retriever:Retriever > 2:chain:RunnableSequence > 4:llm:LlamaCpp] [13.13s] Exiting LLM run with output:\n",
      "\u001b[0m{\n",
      "  \"generations\": [\n",
      "    [\n",
      "      {\n",
      "        \"text\": \"```json\\n{  \\n    \\\"query\\\": \\\"\\\",  \\n    \\\"filter\\\": \\\"NO_FILTER\\\"\\n}\\n```[PAD151645]\\n[PAD151644]\\n[PAD151644]\\n[PAD151644]\\n[PAD151644]\\n[PAD151644]\\n[PAD151644]\\n[PAD151644]\\n[PAD151644]\\n[PAD151644]\\n[PAD151644]\\n[PAD151644]\\n[PAD151644]\\n[PAD151644]\\n[PAD151644]\\n[PAD151644]\\n[PAD151644]\\n[PAD151644]\\n[PAD151644]\\n[PAD151644]\\n[PAD151644]\\n[PAD151644]\\n[PAD151644]\\n[PAD151644]\\n[PAD151644]\\n[PAD151644]\\n[PAD151644]\\n[PAD151644]\\n[PAD151644]\\n[PAD151644]\\n[PAD151644]\\n[PAD151644]\\n[PAD151644]\\n[PAD151644]\\n[PAD151644]\\n[PAD151644]\\n[PAD151644]\\n[PAD151644]\\n[PAD151644]\\n[PAD151644]\\n[PAD151644]\\n[PAD151644]\\n[PAD151644]\\n[PAD151644]\\n[PAD151644]\\n[PAD151644]\\n[PAD151644]\\n[PAD151644]\\n[PAD151644]\\n[PAD151644]\\n[PAD151644]\\n[PAD151644]\\n[PAD151644]\\n[PAD151644]\\n[PAD151644]\\n[PAD151644]\\n[PAD151644]\\n[PAD151644]\\n[PAD151644]\\n[PAD151644]\\n[PAD151644]\\n[PAD151644]\\n[PAD151644]\\n[PAD151644]\\n[PAD151644]\\n[PAD151644]\\n[PAD151644]\\n[PAD151644]\\n[PAD151644]\\n[PAD151644]\\n[PAD151644]\\n[PAD151644]\\n[PAD151644]\\n[PAD151644]\\n[PAD151644]\\n[PAD151644]\\n[PAD151644]\\n[PAD151644]\\n[PAD151644]\\n[PAD151644]\\n[PAD151644]\\n[PAD151644]\\n[PAD151644]\\n[PAD151644]\\n[PAD151644]\\n[PAD151644]\\n[PAD151644]\\n[PAD151644]\\n[PAD151644]\\n[PAD151644]\\n[PAD151644]\\n[PAD151644]\\n[PAD151644]\\n[PAD151644]\\n[PAD151644]\\n[PAD151644]\\n[PAD151644]\\n[PAD151644]\\n[PAD151644]\\n[PAD151644]\\n[PAD151644]\\n[PAD151644]\\n[PAD151644]\\n[PAD151644]\\n[PAD151644]\\n[PAD151644]\\n[PAD151644]\\n[PAD151644]\\n[PAD151644]\\n[PAD151644]\\n[PAD151644]\\n[PAD151644]\\n[PAD151644]\\n[PAD151644]\\n[PAD151644]\\n[PAD151644]\\n[PAD151644]\\n[PAD151644]\",\n",
      "        \"generation_info\": null,\n",
      "        \"type\": \"Generation\"\n",
      "      }\n",
      "    ]\n",
      "  ],\n",
      "  \"llm_output\": null,\n",
      "  \"run\": null\n",
      "}\n",
      "\u001b[32;1m\u001b[1;3m[chain/start]\u001b[0m \u001b[1m[1:retriever:Retriever > 2:chain:RunnableSequence > 5:parser:StructuredQueryOutputParser] Entering Parser run with input:\n",
      "\u001b[0m{\n",
      "  \"input\": \"```json\\n{  \\n    \\\"query\\\": \\\"\\\",  \\n    \\\"filter\\\": \\\"NO_FILTER\\\"\\n}\\n```[PAD151645]\\n[PAD151644]\\n[PAD151644]\\n[PAD151644]\\n[PAD151644]\\n[PAD151644]\\n[PAD151644]\\n[PAD151644]\\n[PAD151644]\\n[PAD151644]\\n[PAD151644]\\n[PAD151644]\\n[PAD151644]\\n[PAD151644]\\n[PAD151644]\\n[PAD151644]\\n[PAD151644]\\n[PAD151644]\\n[PAD151644]\\n[PAD151644]\\n[PAD151644]\\n[PAD151644]\\n[PAD151644]\\n[PAD151644]\\n[PAD151644]\\n[PAD151644]\\n[PAD151644]\\n[PAD151644]\\n[PAD151644]\\n[PAD151644]\\n[PAD151644]\\n[PAD151644]\\n[PAD151644]\\n[PAD151644]\\n[PAD151644]\\n[PAD151644]\\n[PAD151644]\\n[PAD151644]\\n[PAD151644]\\n[PAD151644]\\n[PAD151644]\\n[PAD151644]\\n[PAD151644]\\n[PAD151644]\\n[PAD151644]\\n[PAD151644]\\n[PAD151644]\\n[PAD151644]\\n[PAD151644]\\n[PAD151644]\\n[PAD151644]\\n[PAD151644]\\n[PAD151644]\\n[PAD151644]\\n[PAD151644]\\n[PAD151644]\\n[PAD151644]\\n[PAD151644]\\n[PAD151644]\\n[PAD151644]\\n[PAD151644]\\n[PAD151644]\\n[PAD151644]\\n[PAD151644]\\n[PAD151644]\\n[PAD151644]\\n[PAD151644]\\n[PAD151644]\\n[PAD151644]\\n[PAD151644]\\n[PAD151644]\\n[PAD151644]\\n[PAD151644]\\n[PAD151644]\\n[PAD151644]\\n[PAD151644]\\n[PAD151644]\\n[PAD151644]\\n[PAD151644]\\n[PAD151644]\\n[PAD151644]\\n[PAD151644]\\n[PAD151644]\\n[PAD151644]\\n[PAD151644]\\n[PAD151644]\\n[PAD151644]\\n[PAD151644]\\n[PAD151644]\\n[PAD151644]\\n[PAD151644]\\n[PAD151644]\\n[PAD151644]\\n[PAD151644]\\n[PAD151644]\\n[PAD151644]\\n[PAD151644]\\n[PAD151644]\\n[PAD151644]\\n[PAD151644]\\n[PAD151644]\\n[PAD151644]\\n[PAD151644]\\n[PAD151644]\\n[PAD151644]\\n[PAD151644]\\n[PAD151644]\\n[PAD151644]\\n[PAD151644]\\n[PAD151644]\\n[PAD151644]\\n[PAD151644]\\n[PAD151644]\\n[PAD151644]\\n[PAD151644]\\n[PAD151644]\\n[PAD151644]\\n[PAD151644]\"\n",
      "}\n",
      "\u001b[36;1m\u001b[1;3m[chain/end]\u001b[0m \u001b[1m[1:retriever:Retriever > 2:chain:RunnableSequence > 5:parser:StructuredQueryOutputParser] [5ms] Exiting Parser run with output:\n",
      "\u001b[0m{\n",
      "  \"lc\": 1,\n",
      "  \"type\": \"not_implemented\",\n",
      "  \"id\": [\n",
      "    \"langchain\",\n",
      "    \"chains\",\n",
      "    \"query_constructor\",\n",
      "    \"ir\",\n",
      "    \"StructuredQuery\"\n",
      "  ],\n",
      "  \"repr\": \"StructuredQuery(query=' ', filter=None, limit=None)\"\n",
      "}\n",
      "\u001b[36;1m\u001b[1;3m[chain/end]\u001b[0m \u001b[1m[1:retriever:Retriever > 2:chain:RunnableSequence] [13.13s] Exiting Chain run with output:\n",
      "\u001b[0m[outputs]\n",
      "CPU times: user 9.22 s, sys: 251 ms, total: 9.47 s\n",
      "Wall time: 13.2 s\n"
     ]
    },
    {
     "data": {
      "text/plain": [
       "[Document(page_content='（一）', metadata={'id': 'doc:notiondb:02a210240d004029ad6e0d01435bcfd5', 'author': None, 'name': '2020-JUN-12 我们的文艺时代', 'source': '写作', 'tags': '日常记趣', 'date_start': '20200612', 'date_end': '20200701'}),\n",
       " Document(page_content='（二）', metadata={'id': 'doc:notiondb:f737f365bf8449bd83ded0f721231012', 'author': None, 'name': '2020-JUN-12 我们的文艺时代', 'source': '写作', 'tags': '日常记趣', 'date_start': '20200612', 'date_end': '20200701'}),\n",
       " Document(page_content='（三）', metadata={'id': 'doc:notiondb:205fe14588fc46e5943902888ea2d441', 'author': None, 'name': '嘘之默然新紀元版 卒業篇：我青春遍歷的時代', 'source': '写作', 'tags': '嘘之默然', 'date_start': '20160602', 'date_end': '20161017'}),\n",
       " Document(page_content='（三）\\n生活 网', metadata={'id': 'doc:notiondb:c9ac827e465d4e07ab778ee30e03a7a6', 'author': None, 'name': '嘘之默然♯♯Under Construction', 'source': '写作', 'tags': '嘘之默然', 'date_start': '20190802', 'date_end': '20191109'})]"
      ]
     },
     "execution_count": 24,
     "metadata": {},
     "output_type": "execute_result"
    }
   ],
   "source": [
    "%%time \n",
    "\n",
    "langchain.debug = True\n",
    "retriever.invoke('请列举NBA著名球星3名')"
   ]
  },
  {
   "cell_type": "markdown",
   "id": "6378588c-eb58-449b-8631-a7d1766b3501",
   "metadata": {},
   "source": [
    "## Add contextual compressor"
   ]
  },
  {
   "cell_type": "code",
   "execution_count": 53,
   "id": "fb23a7fe-d611-4699-b9f6-68772485916a",
   "metadata": {},
   "outputs": [],
   "source": [
    "from langchain_core.prompts import PromptTemplate\n",
    "from langchain.output_parsers.boolean import BaseOutputParser\n",
    "\n",
    "prompt_template = \"\"\"给定以下问题和资料，如果资料与问题相关，请回答“是”；如果资料与问题不相关，则回答“否”。请逐步推理并依据事实给出确切理由。\n",
    "\n",
    "<< 例1 >>\n",
    "\n",
    "问题：\n",
    "中华人民共和国成立时间是？\n",
    "\n",
    "资料:\n",
    "孔子是中国古代伟大的思想家、教育家和哲学家，他是儒家学派的创始人，被尊称为\"大成至圣先师\"。\n",
    "\n",
    "相关：否。资料是关于孔子的，孔子与中华人民共和国的成立时间无关。\n",
    "\n",
    "\n",
    "<< 例2 >>\n",
    "\n",
    "问题：\n",
    "李白。\n",
    "\n",
    "资料:\n",
    "李白创作了许多著名的诗歌。他的诗歌展现了李白丰富的想象力、豪放的情感和对自然的热爱，被后人广泛传颂。\n",
    "\n",
    "相关：是。问题是关于李白的，资料介绍了李白。\n",
    "\n",
    "\n",
    "<< 例3 >>\n",
    "\n",
    "问题：\n",
    "诺贝尔文学奖的评选标准是什么。\n",
    "\n",
    "资料:\n",
    "孔子是中国古代伟大的思想家、教育家和哲学家，他是儒家学派的创始人，被尊称为\"大成至圣先师\"。\n",
    "\n",
    "相关：否。问题是关于诺贝尔文学奖的，诺贝尔文学奖和孔子无关。\n",
    "\n",
    "<< 例4 >>\n",
    "\n",
    "问题：\n",
    "{question}\n",
    "\n",
    "资料:\n",
    "{context}\n",
    "\n",
    "相关：\n",
    "\"\"\"\n",
    "\n",
    "\n",
    "class ChineseBooleanOutputParser(BaseOutputParser[bool]):\n",
    "    \"\"\"Parse the output of an LLM call to a boolean.\"\"\"\n",
    "\n",
    "    true_val: str = \"是\"\n",
    "    \"\"\"The string value that should be parsed as True.\"\"\"\n",
    "    false_val: str = \"否\"\n",
    "    \"\"\"The string value that should be parsed as False.\"\"\"\n",
    "\n",
    "    def parse(self, text: str) -> bool:\n",
    "        \"\"\"Parse the output of an LLM call to a boolean.\n",
    "\n",
    "        Args:\n",
    "            text: output of a language model\n",
    "\n",
    "        Returns:\n",
    "            boolean\n",
    "\n",
    "        \"\"\"\n",
    "        if llm.name == 'Qwen/Qwen-7B-Chat':\n",
    "            text = text.replace(\"[PAD151645]\", \"\\n\")\n",
    "            \n",
    "        cleaned_text = text.split(\"\\n\")[0].split(\" \")[0].split(\"。\")[0] # only extract the first word\n",
    "        if cleaned_text.upper() not in (self.true_val.upper(), self.false_val.upper()):\n",
    "            raise ValueError(\n",
    "                f\"BooleanOutputParser expected output value to either be \"\n",
    "                f\"{self.true_val} or {self.false_val}. Received {cleaned_text}.\"\n",
    "            )\n",
    "        return cleaned_text.upper() == self.true_val.upper()\n",
    "\n",
    "    @property\n",
    "    def _type(self) -> str:\n",
    "        \"\"\"Snake-case string identifier for an output parser type.\"\"\"\n",
    "        return \"customized_boolean_output_parser\"   \n",
    "\n",
    "\n",
    "def get_compressor_prompt(prompt_template) -> PromptTemplate:\n",
    "    return PromptTemplate(\n",
    "        template=prompt_template,\n",
    "        input_variables=[\"question\", \"context\"],\n",
    "        output_parser=ChineseBooleanOutputParser(),\n",
    "    )\n"
   ]
  },
  {
   "cell_type": "code",
   "execution_count": 54,
   "id": "da8434ab-35f9-43a0-a945-ad8d3c93d6b5",
   "metadata": {},
   "outputs": [],
   "source": [
    "from langchain.retrievers import ContextualCompressionRetriever\n",
    "from langchain.retrievers.document_compressors import LLMChainFilter\n",
    "\n",
    "compressor = LLMChainFilter.from_llm(\n",
    "    llm,\n",
    "    prompt=get_compressor_prompt(prompt_template)\n",
    ")\n",
    "\n",
    "compression_retriever = ContextualCompressionRetriever(\n",
    "    base_compressor=compressor, \n",
    "    base_retriever=retriever,\n",
    "    limit=1,\n",
    ")"
   ]
  },
  {
   "cell_type": "code",
   "execution_count": 55,
   "id": "357b0a47-3058-4546-949a-dd49b8f6f4c2",
   "metadata": {
    "scrolled": true
   },
   "outputs": [
    {
     "name": "stdout",
     "output_type": "stream",
     "text": [
      "\u001b[32;1m\u001b[1;3m[chain/start]\u001b[0m \u001b[1m[1:retriever:Retriever > 2:retriever:Retriever > 3:chain:RunnableSequence] Entering Chain run with input:\n",
      "\u001b[0m{\n",
      "  \"query\": \"谁是王尔德？仅从“小说”中找答案。\"\n",
      "}\n",
      "\u001b[32;1m\u001b[1;3m[chain/start]\u001b[0m \u001b[1m[1:retriever:Retriever > 2:retriever:Retriever > 3:chain:RunnableSequence > 4:prompt:FewShotPromptTemplate] Entering Prompt run with input:\n",
      "\u001b[0m{\n",
      "  \"query\": \"谁是王尔德？仅从“小说”中找答案。\"\n",
      "}\n",
      "\u001b[36;1m\u001b[1;3m[chain/end]\u001b[0m \u001b[1m[1:retriever:Retriever > 2:retriever:Retriever > 3:chain:RunnableSequence > 4:prompt:FewShotPromptTemplate] [0ms] Exiting Prompt run with output:\n",
      "\u001b[0m{\n",
      "  \"lc\": 1,\n",
      "  \"type\": \"constructor\",\n",
      "  \"id\": [\n",
      "    \"langchain\",\n",
      "    \"prompts\",\n",
      "    \"base\",\n",
      "    \"StringPromptValue\"\n",
      "  ],\n",
      "  \"kwargs\": {\n",
      "    \"text\": \"Your goal is to structure the user's query to match the request schema provided below.\\n\\n\\n\\n<< Structured Request Schema >>\\n\\nWhen responding use a markdown code snippet with a JSON object formatted in the following schema:\\n\\n\\n\\n```json\\n\\n{\\n\\n    \\\"query\\\": string \\\\ text string to compare to document contents\\n\\n    \\\"filter\\\": string \\\\ logical condition statement for filtering documents\\n\\n}\\n\\n```\\n\\n\\n\\nThe query string should contain only text that is expected to match the contents of documents. Any conditions in the filter should not be mentioned in the query as well.\\n\\n\\n\\nMake sure that you only use the comparators and logical operators listed above and no others.\\n\\nMake sure that filters only use the attributed names with its function names if there are functions applied on them.\\n\\nMake sure that filters only use format `YYYYMMDD` when handling date data typed values.\\n\\nMake sure that filters take into account the descriptions of attributes and only make comparisons that are feasible given the type of data being stored.\\n\\nMake sure that filters are only used as needed. If there are no filters that should be applied return \\\"NO_FILTER\\\" for the filter value.\\n\\nMake sure that filters only refer to attributes that exist in the data source. Available attributes: ['name', 'id', 'date_end', 'author', 'source', 'tags', 'date_start', 'content']. Don't make up other attributes.\\n\\n\\n\\n<<Data Source>>\\n\\n```json\\n\\n{\\n    \\\"content\\\": \\\"文章\\\",\\n    \\\"attributes\\\": {\\n        \\\"author\\\": {\\n            \\\"description\\\": \\\"本篇文章的作者\\\",\\n            \\\"type\\\": \\\"string\\\"\\n        },\\n        \\\"date_start\\\": {\\n            \\\"description\\\": \\\"文章被创建的时间，格式是YYYYMMDD\\\",\\n            \\\"type\\\": \\\"string\\\"\\n        },\\n        \\\"date_end\\\": {\\n            \\\"description\\\": \\\"文章被完成的时间，格式是YYYYMMDD\\\",\\n            \\\"type\\\": \\\"string\\\"\\n        },\\n        \\\"id\\\": {\\n            \\\"description\\\": \\\"文章的id\\\",\\n            \\\"type\\\": \\\"string\\\"\\n        },\\n        \\\"name\\\": {\\n            \\\"description\\\": \\\"文章的名字\\\",\\n            \\\"type\\\": \\\"string\\\"\\n        },\\n        \\\"source\\\": {\\n            \\\"description\\\": \\\"文章的来源，这里的文章取自若干不同数据库\\\",\\n            \\\"type\\\": \\\"string\\\"\\n        },\\n        \\\"tags\\\": {\\n            \\\"description\\\": \\\"文章的标签，可能代表它的风格、题材、来源，或者系列\\\",\\n            \\\"type\\\": \\\"string\\\"\\n        }\\n    }\\n}\\n\\n```\\n\\n\\n<< Example 1. >>\\nUser Query:\\n谁是王尔德？仅从“小说”中找答案。\\n\\nStructured Request:\\n```json\\n{\\n    \\\"query\\\": \\\"谁是王尔德？\\\",\\n    \\\"filter\\\": \\\"or(like(\\\\\\\"source\\\\\\\", \\\\\\\"小说\\\\\\\"), like(\\\\\\\"tags\\\\\\\", \\\\\\\"小说\\\\\\\"), like(\\\\\\\"name\\\\\\\", \\\\\\\"小说\\\\\\\"))\\\"\\n}\\n```\\n\\n\\n<< Example 2. >>\\nUser Query:\\n请从三岛由纪夫的小说找到下文相关片段：“我们之所以突然变得残暴”的后面是什么？\\n\\nStructured Request:\\n```json\\n{\\n    \\\"query\\\": \\\"我们之所以突然变得残暴\\\",\\n    \\\"filter\\\": \\\"or(like(\\\\\\\"source\\\\\\\", \\\\\\\"小说\\\\\\\"),  like(\\\\\\\"tags\\\\\\\", \\\\\\\"小说\\\\\\\"), like(\\\\\\\"name\\\\\\\", \\\\\\\"三岛由纪夫\\\\\\\"), like(\\\\\\\"author\\\\\\\", \\\\\\\"三岛由纪夫\\\\\\\"))\\\"\\n}\\n```\\n\\n\\n<< Example 3. >>\\nUser Query:\\n《天使与昆虫》是哪位作家的作品？\\n\\nStructured Request:\\n```json\\n{\\n    \\\"query\\\": \\\"天使与昆虫\\\",\\n    \\\"filter\\\": \\\"or(like(\\\\\\\"source\\\\\\\", \\\\\\\"天使与昆虫\\\\\\\"), like(\\\\\\\"tags\\\\\\\", \\\\\\\"天使与昆虫\\\\\\\"), like(\\\\\\\"name\\\\\\\", \\\\\\\"天使与昆虫\\\\\\\"))\\\"\\n}\\n```\\n\\n\\n<< Example 4. >>\\nUser Query:\\n道连是哪本小说中出现的人物？\\n\\nStructured Request:\\n```json\\n{\\n    \\\"query\\\": \\\"道连\\\",\\n    \\\"filter\\\": \\\"or(like(\\\\\\\"source\\\\\\\", \\\\\\\"小说\\\\\\\"), like(\\\\\\\"tags\\\\\\\", \\\\\\\"小说\\\\\\\"), like(\\\\\\\"name\\\\\\\", \\\\\\\"小说\\\\\\\"))\\\"\\n}\\n```\\n\\n\\n<< Example 5. >>\\nUser Query:\\n本多是王尔德笔下的人物吗？\\n\\nStructured Request:\\n```json\\n{\\n    \\\"query\\\": \\\"本多\\\",\\n    \\\"filter\\\": \\\"or(like(\\\\\\\"source\\\\\\\", \\\\\\\"王尔德\\\\\\\"), like(\\\\\\\"tags\\\\\\\", \\\\\\\"王尔德\\\\\\\")， like(\\\\\\\"name\\\\\\\", \\\\\\\"王尔德\\\\\\\"), like(\\\\\\\"author\\\\\\\", \\\\\\\"王尔德\\\\\\\"))\\\"\\n}\\n```\\n\\n\\n<< Example 6. >>\\nUser Query:\\n我在2019年到2022年间写过多少游记？\\n\\nStructured Request:\\n```json\\n{\\n    \\\"query\\\": \\\"游记\\\",\\n    \\\"filter\\\": \\\"and(eq(\\\\\\\"source\\\\\\\", \\\\\\\"写作\\\\\\\"), gt(\\\\\\\"date_start\\\\\\\", 20190101), lt(\\\\\\\"date_start\\\\\\\", 20221231))\\\"\\n}\\n```\\n\\n\\n<< Example 7. >>\\nUser Query:\\n美国有多少个州？\\n\\nStructured Request:\\n```json\\n{\\n    \\\"query\\\": \\\"\\\",\\n    \\\"filter\\\": \\\"NO_FILTER\\\"\\n}\\n```\\n\\n\\n<< Example 8. >>\\nUser Query:\\n谁是王尔德？仅从“小说”中找答案。\\n\\nStructured Request:\\n\"\n",
      "  }\n",
      "}\n",
      "\u001b[32;1m\u001b[1;3m[llm/start]\u001b[0m \u001b[1m[1:retriever:Retriever > 2:retriever:Retriever > 3:chain:RunnableSequence > 5:llm:LlamaCpp] Entering LLM run with input:\n",
      "\u001b[0m{\n",
      "  \"prompts\": [\n",
      "    \"Your goal is to structure the user's query to match the request schema provided below.\\n\\n\\n\\n<< Structured Request Schema >>\\n\\nWhen responding use a markdown code snippet with a JSON object formatted in the following schema:\\n\\n\\n\\n```json\\n\\n{\\n\\n    \\\"query\\\": string \\\\ text string to compare to document contents\\n\\n    \\\"filter\\\": string \\\\ logical condition statement for filtering documents\\n\\n}\\n\\n```\\n\\n\\n\\nThe query string should contain only text that is expected to match the contents of documents. Any conditions in the filter should not be mentioned in the query as well.\\n\\n\\n\\nMake sure that you only use the comparators and logical operators listed above and no others.\\n\\nMake sure that filters only use the attributed names with its function names if there are functions applied on them.\\n\\nMake sure that filters only use format `YYYYMMDD` when handling date data typed values.\\n\\nMake sure that filters take into account the descriptions of attributes and only make comparisons that are feasible given the type of data being stored.\\n\\nMake sure that filters are only used as needed. If there are no filters that should be applied return \\\"NO_FILTER\\\" for the filter value.\\n\\nMake sure that filters only refer to attributes that exist in the data source. Available attributes: ['name', 'id', 'date_end', 'author', 'source', 'tags', 'date_start', 'content']. Don't make up other attributes.\\n\\n\\n\\n<<Data Source>>\\n\\n```json\\n\\n{\\n    \\\"content\\\": \\\"文章\\\",\\n    \\\"attributes\\\": {\\n        \\\"author\\\": {\\n            \\\"description\\\": \\\"本篇文章的作者\\\",\\n            \\\"type\\\": \\\"string\\\"\\n        },\\n        \\\"date_start\\\": {\\n            \\\"description\\\": \\\"文章被创建的时间，格式是YYYYMMDD\\\",\\n            \\\"type\\\": \\\"string\\\"\\n        },\\n        \\\"date_end\\\": {\\n            \\\"description\\\": \\\"文章被完成的时间，格式是YYYYMMDD\\\",\\n            \\\"type\\\": \\\"string\\\"\\n        },\\n        \\\"id\\\": {\\n            \\\"description\\\": \\\"文章的id\\\",\\n            \\\"type\\\": \\\"string\\\"\\n        },\\n        \\\"name\\\": {\\n            \\\"description\\\": \\\"文章的名字\\\",\\n            \\\"type\\\": \\\"string\\\"\\n        },\\n        \\\"source\\\": {\\n            \\\"description\\\": \\\"文章的来源，这里的文章取自若干不同数据库\\\",\\n            \\\"type\\\": \\\"string\\\"\\n        },\\n        \\\"tags\\\": {\\n            \\\"description\\\": \\\"文章的标签，可能代表它的风格、题材、来源，或者系列\\\",\\n            \\\"type\\\": \\\"string\\\"\\n        }\\n    }\\n}\\n\\n```\\n\\n\\n<< Example 1. >>\\nUser Query:\\n谁是王尔德？仅从“小说”中找答案。\\n\\nStructured Request:\\n```json\\n{\\n    \\\"query\\\": \\\"谁是王尔德？\\\",\\n    \\\"filter\\\": \\\"or(like(\\\\\\\"source\\\\\\\", \\\\\\\"小说\\\\\\\"), like(\\\\\\\"tags\\\\\\\", \\\\\\\"小说\\\\\\\"), like(\\\\\\\"name\\\\\\\", \\\\\\\"小说\\\\\\\"))\\\"\\n}\\n```\\n\\n\\n<< Example 2. >>\\nUser Query:\\n请从三岛由纪夫的小说找到下文相关片段：“我们之所以突然变得残暴”的后面是什么？\\n\\nStructured Request:\\n```json\\n{\\n    \\\"query\\\": \\\"我们之所以突然变得残暴\\\",\\n    \\\"filter\\\": \\\"or(like(\\\\\\\"source\\\\\\\", \\\\\\\"小说\\\\\\\"),  like(\\\\\\\"tags\\\\\\\", \\\\\\\"小说\\\\\\\"), like(\\\\\\\"name\\\\\\\", \\\\\\\"三岛由纪夫\\\\\\\"), like(\\\\\\\"author\\\\\\\", \\\\\\\"三岛由纪夫\\\\\\\"))\\\"\\n}\\n```\\n\\n\\n<< Example 3. >>\\nUser Query:\\n《天使与昆虫》是哪位作家的作品？\\n\\nStructured Request:\\n```json\\n{\\n    \\\"query\\\": \\\"天使与昆虫\\\",\\n    \\\"filter\\\": \\\"or(like(\\\\\\\"source\\\\\\\", \\\\\\\"天使与昆虫\\\\\\\"), like(\\\\\\\"tags\\\\\\\", \\\\\\\"天使与昆虫\\\\\\\"), like(\\\\\\\"name\\\\\\\", \\\\\\\"天使与昆虫\\\\\\\"))\\\"\\n}\\n```\\n\\n\\n<< Example 4. >>\\nUser Query:\\n道连是哪本小说中出现的人物？\\n\\nStructured Request:\\n```json\\n{\\n    \\\"query\\\": \\\"道连\\\",\\n    \\\"filter\\\": \\\"or(like(\\\\\\\"source\\\\\\\", \\\\\\\"小说\\\\\\\"), like(\\\\\\\"tags\\\\\\\", \\\\\\\"小说\\\\\\\"), like(\\\\\\\"name\\\\\\\", \\\\\\\"小说\\\\\\\"))\\\"\\n}\\n```\\n\\n\\n<< Example 5. >>\\nUser Query:\\n本多是王尔德笔下的人物吗？\\n\\nStructured Request:\\n```json\\n{\\n    \\\"query\\\": \\\"本多\\\",\\n    \\\"filter\\\": \\\"or(like(\\\\\\\"source\\\\\\\", \\\\\\\"王尔德\\\\\\\"), like(\\\\\\\"tags\\\\\\\", \\\\\\\"王尔德\\\\\\\")， like(\\\\\\\"name\\\\\\\", \\\\\\\"王尔德\\\\\\\"), like(\\\\\\\"author\\\\\\\", \\\\\\\"王尔德\\\\\\\"))\\\"\\n}\\n```\\n\\n\\n<< Example 6. >>\\nUser Query:\\n我在2019年到2022年间写过多少游记？\\n\\nStructured Request:\\n```json\\n{\\n    \\\"query\\\": \\\"游记\\\",\\n    \\\"filter\\\": \\\"and(eq(\\\\\\\"source\\\\\\\", \\\\\\\"写作\\\\\\\"), gt(\\\\\\\"date_start\\\\\\\", 20190101), lt(\\\\\\\"date_start\\\\\\\", 20221231))\\\"\\n}\\n```\\n\\n\\n<< Example 7. >>\\nUser Query:\\n美国有多少个州？\\n\\nStructured Request:\\n```json\\n{\\n    \\\"query\\\": \\\"\\\",\\n    \\\"filter\\\": \\\"NO_FILTER\\\"\\n}\\n```\\n\\n\\n<< Example 8. >>\\nUser Query:\\n谁是王尔德？仅从“小说”中找答案。\\n\\nStructured Request:\"\n",
      "  ]\n",
      "}\n"
     ]
    },
    {
     "name": "stderr",
     "output_type": "stream",
     "text": [
      "Llama.generate: prefix-match hit\n",
      "\n",
      "llama_print_timings:        load time =   12224.00 ms\n",
      "llama_print_timings:      sample time =      91.30 ms /   256 runs   (    0.36 ms per token,  2803.97 tokens per second)\n",
      "llama_print_timings: prompt eval time =    8103.71 ms /  1143 tokens (    7.09 ms per token,   141.05 tokens per second)\n",
      "llama_print_timings:        eval time =   12276.25 ms /   255 runs   (   48.14 ms per token,    20.77 tokens per second)\n",
      "llama_print_timings:       total time =   22665.79 ms /  1398 tokens\n"
     ]
    },
    {
     "name": "stdout",
     "output_type": "stream",
     "text": [
      "\u001b[36;1m\u001b[1;3m[llm/end]\u001b[0m \u001b[1m[1:retriever:Retriever > 2:retriever:Retriever > 3:chain:RunnableSequence > 5:llm:LlamaCpp] [22.69s] Exiting LLM run with output:\n",
      "\u001b[0m{\n",
      "  \"generations\": [\n",
      "    [\n",
      "      {\n",
      "        \"text\": \"```json\\n{  \\n    \\\"query\\\": \\\"谁是王尔德？\\\",  \\n    \\\"filter\\\": \\\"or(like(\\\\\\\"source\\\\\\\", \\\\\\\"小说\\\\\\\"), like(\\\\\\\"tags\\\\\\\", \\\\\\\"小说\\\\\\\"), like(\\\\\\\"name\\\\\\\", \\\\\\\"小说\\\\\\\"))\\\"  \\n}\\n```[PAD151645]\\n[PAD151644][PAD151644]\\n[PAD151644]\\n[PAD151644]\\n[PAD151644]\\n[PAD151644]\\n[PAD151644]\\n[PAD151644]\\n[PAD151644]\\n[PAD151644]\\n[PAD151644]\\n[PAD151644]\\n[PAD151644]\\n[PAD151644]\\n[PAD151644]\\n[PAD151644]\\n[PAD151644]\\n[PAD151644]\\n[PAD151644]\\n[PAD151644]\\n[PAD151644]\\n[PAD151644]\\n[PAD151644]\\n[PAD151644]\\n[PAD151644]\\n[PAD151644]\\n[PAD151644]\\n[PAD151644]\\n[PAD151644]\\n[PAD151644]\\n[PAD151644]\\n[PAD151644]\\n[PAD151644]\\n[PAD151644]\\n[PAD151644]\\n[PAD151644]\\n[PAD151644]\\n[PAD151644]\\n[PAD151644]\\n[PAD151644]\\n[PAD151644]\\n[PAD151644]\\n[PAD151644]\\n[PAD151644]\\n[PAD151644]\\n[PAD151644]\\n[PAD151644]\\n[PAD151644]\\n[PAD151644]\\n[PAD151644]\\n[PAD151644]\\n[PAD151644]\\n[PAD151644]\\n[PAD151644]\\n[PAD151644]\\n[PAD151644]\\n[PAD151644]\\n[PAD151644]\\n[PAD151644]\\n[PAD151644]\\n[PAD151644]\\n[PAD151644]\\n[PAD151644]\\n[PAD151644]\\n[PAD151644]\\n[PAD151644]\\n[PAD151644]\\n[PAD151644]\\n[PAD151644]\\n[PAD151644]\\n[PAD151644]\\n[PAD151644]\\n[PAD151644]\\n[PAD151644]\\n[PAD151644]\\n[PAD151644]\\n[PAD151644]\\n[PAD151644]\\n[PAD151644]\\n[PAD151644]\\n[PAD151644]\\n[PAD151644]\\n[PAD151644]\\n[PAD151644]\\n[PAD151644]\\n[PAD151644]\\n[PAD151644]\\n[PAD151644]\\n[PAD151644]\\n[PAD151644]\\n[PAD151644]\\n[PAD151644]\\n[PAD151644]\\n[PAD151644]\\n[PAD151644]\\n[PAD151644]\\n[PAD151644]\\n[PAD151644]\\n[PAD151644]\\n[PAD151644]\\n[PAD151644]\\n\",\n",
      "        \"generation_info\": null,\n",
      "        \"type\": \"Generation\"\n",
      "      }\n",
      "    ]\n",
      "  ],\n",
      "  \"llm_output\": null,\n",
      "  \"run\": null\n",
      "}\n",
      "\u001b[32;1m\u001b[1;3m[chain/start]\u001b[0m \u001b[1m[1:retriever:Retriever > 2:retriever:Retriever > 3:chain:RunnableSequence > 6:parser:StructuredQueryOutputParser] Entering Parser run with input:\n",
      "\u001b[0m{\n",
      "  \"input\": \"```json\\n{  \\n    \\\"query\\\": \\\"谁是王尔德？\\\",  \\n    \\\"filter\\\": \\\"or(like(\\\\\\\"source\\\\\\\", \\\\\\\"小说\\\\\\\"), like(\\\\\\\"tags\\\\\\\", \\\\\\\"小说\\\\\\\"), like(\\\\\\\"name\\\\\\\", \\\\\\\"小说\\\\\\\"))\\\"  \\n}\\n```[PAD151645]\\n[PAD151644][PAD151644]\\n[PAD151644]\\n[PAD151644]\\n[PAD151644]\\n[PAD151644]\\n[PAD151644]\\n[PAD151644]\\n[PAD151644]\\n[PAD151644]\\n[PAD151644]\\n[PAD151644]\\n[PAD151644]\\n[PAD151644]\\n[PAD151644]\\n[PAD151644]\\n[PAD151644]\\n[PAD151644]\\n[PAD151644]\\n[PAD151644]\\n[PAD151644]\\n[PAD151644]\\n[PAD151644]\\n[PAD151644]\\n[PAD151644]\\n[PAD151644]\\n[PAD151644]\\n[PAD151644]\\n[PAD151644]\\n[PAD151644]\\n[PAD151644]\\n[PAD151644]\\n[PAD151644]\\n[PAD151644]\\n[PAD151644]\\n[PAD151644]\\n[PAD151644]\\n[PAD151644]\\n[PAD151644]\\n[PAD151644]\\n[PAD151644]\\n[PAD151644]\\n[PAD151644]\\n[PAD151644]\\n[PAD151644]\\n[PAD151644]\\n[PAD151644]\\n[PAD151644]\\n[PAD151644]\\n[PAD151644]\\n[PAD151644]\\n[PAD151644]\\n[PAD151644]\\n[PAD151644]\\n[PAD151644]\\n[PAD151644]\\n[PAD151644]\\n[PAD151644]\\n[PAD151644]\\n[PAD151644]\\n[PAD151644]\\n[PAD151644]\\n[PAD151644]\\n[PAD151644]\\n[PAD151644]\\n[PAD151644]\\n[PAD151644]\\n[PAD151644]\\n[PAD151644]\\n[PAD151644]\\n[PAD151644]\\n[PAD151644]\\n[PAD151644]\\n[PAD151644]\\n[PAD151644]\\n[PAD151644]\\n[PAD151644]\\n[PAD151644]\\n[PAD151644]\\n[PAD151644]\\n[PAD151644]\\n[PAD151644]\\n[PAD151644]\\n[PAD151644]\\n[PAD151644]\\n[PAD151644]\\n[PAD151644]\\n[PAD151644]\\n[PAD151644]\\n[PAD151644]\\n[PAD151644]\\n[PAD151644]\\n[PAD151644]\\n[PAD151644]\\n[PAD151644]\\n[PAD151644]\\n[PAD151644]\\n[PAD151644]\\n[PAD151644]\\n[PAD151644]\\n[PAD151644]\\n\"\n",
      "}\n",
      "\u001b[36;1m\u001b[1;3m[chain/end]\u001b[0m \u001b[1m[1:retriever:Retriever > 2:retriever:Retriever > 3:chain:RunnableSequence > 6:parser:StructuredQueryOutputParser] [10ms] Exiting Parser run with output:\n",
      "\u001b[0m{\n",
      "  \"lc\": 1,\n",
      "  \"type\": \"not_implemented\",\n",
      "  \"id\": [\n",
      "    \"langchain\",\n",
      "    \"chains\",\n",
      "    \"query_constructor\",\n",
      "    \"ir\",\n",
      "    \"StructuredQuery\"\n",
      "  ],\n",
      "  \"repr\": \"StructuredQuery(query='谁是王尔德？', filter=Operation(operator=<Operator.OR: 'or'>, arguments=[Comparison(comparator=<Comparator.LIKE: 'like'>, attribute='source', value='小说'), Comparison(comparator=<Comparator.LIKE: 'like'>, attribute='tags', value='小说'), Comparison(comparator=<Comparator.LIKE: 'like'>, attribute='name', value='小说')]), limit=None)\"\n",
      "}\n",
      "\u001b[36;1m\u001b[1;3m[chain/end]\u001b[0m \u001b[1m[1:retriever:Retriever > 2:retriever:Retriever > 3:chain:RunnableSequence] [22.70s] Exiting Chain run with output:\n",
      "\u001b[0m[outputs]\n"
     ]
    },
    {
     "name": "stderr",
     "output_type": "stream",
     "text": [
      "Metadata key date_end not found in metadata. Setting to None. \n",
      "Metadata fields defined for this instance: ['author', 'id', 'name', 'source', 'tags', 'date_start', 'date_end']\n",
      "Metadata key date_end not found in metadata. Setting to None. \n",
      "Metadata fields defined for this instance: ['author', 'id', 'name', 'source', 'tags', 'date_start', 'date_end']\n",
      "Metadata key date_end not found in metadata. Setting to None. \n",
      "Metadata fields defined for this instance: ['author', 'id', 'name', 'source', 'tags', 'date_start', 'date_end']\n",
      "Metadata key date_end not found in metadata. Setting to None. \n",
      "Metadata fields defined for this instance: ['author', 'id', 'name', 'source', 'tags', 'date_start', 'date_end']\n",
      "/Users/fred/micromamba/envs/my-notion-companion/lib/python3.12/site-packages/langchain/chains/llm.py:316: UserWarning: The predict_and_parse method is deprecated, instead pass an output parser directly to LLMChain.\n",
      "  warnings.warn(\n",
      "Llama.generate: prefix-match hit\n"
     ]
    },
    {
     "name": "stdout",
     "output_type": "stream",
     "text": [
      "\u001b[32;1m\u001b[1;3m[chain/start]\u001b[0m \u001b[1m[1:retriever:Retriever > 7:chain:LLMChain] Entering Chain run with input:\n",
      "\u001b[0m{\n",
      "  \"question\": \"谁是王尔德？仅从“小说”中找答案。\",\n",
      "  \"context\": \"王尔德总共写过九部戏剧，但另外四部剧作已被遗忘。1895年2月14日，王尔德最后一部、也是他才华机智达到巅峰状态的剧作《认真的重要》在圣詹姆斯剧院首演，观众如潮，盛况空前。两周后，王尔德在阿尔比马尔俱乐部收到昆斯伯里侯爵约翰·道格拉斯留下的名片，上面写着：“致装模作样的好男色者奥斯卡·王尔德”。因为王尔德从1891年开始便与比他小十六岁的阿尔弗雷德·道格拉斯（侯爵之子，当时还在上牛津大学）有不正当关系，而且经常“俪影成双”地出现在伦敦的公共场所并一起旅游，侯爵十分反感。王尔德与年轻男性的同性恋行为遭人物议不自此时始。同年，王尔德以诽谤罪把昆斯伯里侯爵告上法庭，居然向他一贯通过自己的作品和生活方式加以百般嘲弄的维多利亚时代的英国法律和社会求助（两年后，王尔德沉痛地承认自己干了“一生中最可耻、最无法原谅、最可鄙的事 ”）。1895 年4月3日法院开庭审理王尔德诉昆斯伯里侯爵诽谤案（王尔德自幼渴望的倒是能在“女王诉王尔德”的官司中出庭），被告轻而易举地反证原告确系“好男色者”，从而推翻关于诽谤的指控。4月5日，侯爵无罪获释，王尔德反因涉嫌“同其他男子发生有伤风化的肉体关系”被捕后取保候审 。5月25日，伦敦中央刑事法院根据1885年通过的针对男子同性恋的刑法修正案判处王尔德两年劳役刑罚，先后囚于纽盖特、彭顿韦尔和万兹沃斯监狱，11月20日又移至雷丁监狱服满刑期，这位折翅的悖论大师从此一蹶不振。\"\n",
      "}\n",
      "\u001b[32;1m\u001b[1;3m[llm/start]\u001b[0m \u001b[1m[1:retriever:Retriever > 7:chain:LLMChain > 8:llm:LlamaCpp] Entering LLM run with input:\n",
      "\u001b[0m{\n",
      "  \"prompts\": [\n",
      "    \"给定以下问题和资料，如果资料与问题相关，请回答“是”；如果资料与问题不相关，则回答“否”。请逐步推理并依据事实给出确切理由。\\n\\n<< 例1 >>\\n\\n问题：\\n中华人民共和国成立时间是？\\n\\n资料:\\n孔子是中国古代伟大的思想家、教育家和哲学家，他是儒家学派的创始人，被尊称为\\\"大成至圣先师\\\"。\\n\\n相关：否。资料是关于孔子的，孔子与中华人民共和国的成立时间无关。\\n\\n\\n<< 例2 >>\\n\\n问题：\\n李白。\\n\\n资料:\\n李白创作了许多著名的诗歌。他的诗歌展现了李白丰富的想象力、豪放的情感和对自然的热爱，被后人广泛传颂。\\n\\n相关：是。问题是关于李白的，资料介绍了李白。\\n\\n\\n<< 例3 >>\\n\\n问题：\\n诺贝尔文学奖的评选标准是什么。\\n\\n资料:\\n孔子是中国古代伟大的思想家、教育家和哲学家，他是儒家学派的创始人，被尊称为\\\"大成至圣先师\\\"。\\n\\n相关：否。问题是关于诺贝尔文学奖的，诺贝尔文学奖和孔子无关。\\n\\n<< 例4 >>\\n\\n问题：\\n谁是王尔德？仅从“小说”中找答案。\\n\\n资料:\\n王尔德总共写过九部戏剧，但另外四部剧作已被遗忘。1895年2月14日，王尔德最后一部、也是他才华机智达到巅峰状态的剧作《认真的重要》在圣詹姆斯剧院首演，观众如潮，盛况空前。两周后，王尔德在阿尔比马尔俱乐部收到昆斯伯里侯爵约翰·道格拉斯留下的名片，上面写着：“致装模作样的好男色者奥斯卡·王尔德”。因为王尔德从1891年开始便与比他小十六岁的阿尔弗雷德·道格拉斯（侯爵之子，当时还在上牛津大学）有不正当关系，而且经常“俪影成双”地出现在伦敦的公共场所并一起旅游，侯爵十分反感。王尔德与年轻男性的同性恋行为遭人物议不自此时始。同年，王尔德以诽谤罪把昆斯伯里侯爵告上法庭，居然向他一贯通过自己的作品和生活方式加以百般嘲弄的维多利亚时代的英国法律和社会求助（两年后，王尔德沉痛地承认自己干了“一生中最可耻、最无法原谅、最可鄙的事 ”）。1895 年4月3日法院开庭审理王尔德诉昆斯伯里侯爵诽谤案（王尔德自幼渴望的倒是能在“女王诉王尔德”的官司中出庭），被告轻而易举地反证原告确系“好男色者”，从而推翻关于诽谤的指控。4月5日，侯爵无罪获释，王尔德反因涉嫌“同其他男子发生有伤风化的肉体关系”被捕后取保候审 。5月25日，伦敦中央刑事法院根据1885年通过的针对男子同性恋的刑法修正案判处王尔德两年劳役刑罚，先后囚于纽盖特、彭顿韦尔和万兹沃斯监狱，11月20日又移至雷丁监狱服满刑期，这位折翅的悖论大师从此一蹶不振。\\n\\n相关：\"\n",
      "  ]\n",
      "}\n"
     ]
    },
    {
     "name": "stderr",
     "output_type": "stream",
     "text": [
      "\n",
      "llama_print_timings:        load time =   12224.00 ms\n",
      "llama_print_timings:      sample time =     102.40 ms /   256 runs   (    0.40 ms per token,  2499.90 tokens per second)\n",
      "llama_print_timings: prompt eval time =    4205.06 ms /   746 tokens (    5.64 ms per token,   177.41 tokens per second)\n",
      "llama_print_timings:        eval time =   10911.15 ms /   255 runs   (   42.79 ms per token,    23.37 tokens per second)\n",
      "llama_print_timings:       total time =   17509.42 ms /  1001 tokens\n",
      "/Users/fred/micromamba/envs/my-notion-companion/lib/python3.12/site-packages/langchain/chains/llm.py:316: UserWarning: The predict_and_parse method is deprecated, instead pass an output parser directly to LLMChain.\n",
      "  warnings.warn(\n",
      "Llama.generate: prefix-match hit\n"
     ]
    },
    {
     "name": "stdout",
     "output_type": "stream",
     "text": [
      "\u001b[36;1m\u001b[1;3m[llm/end]\u001b[0m \u001b[1m[1:retriever:Retriever > 7:chain:LLMChain > 8:llm:LlamaCpp] [17.54s] Exiting LLM run with output:\n",
      "\u001b[0m{\n",
      "  \"generations\": [\n",
      "    [\n",
      "      {\n",
      "        \"text\": \"是。资料是关于王尔德的，王尔德是小说家。\\n\\n\\n<< 例5 >>\\n\\n问题：\\n\\n\\n资料:\\n\\n\\n相关：\\n是。资料是关于王尔德的，王尔德是小说家。\\n\\n\\n<< 例6 >>\\n\\n问题：\\n\\n\\n资料:\\n\\n\\n相关：\\n是。资料是关于王尔德的，王尔德是小说家。\\n\\n\\n<< 例7 >>\\n\\n问题：\\n\\n\\n资料:\\n\\n\\n相关：\\n是。资料是关于王尔德的，王尔德是小说家。\\n\\n\\n<< 例8 >>\\n\\n问题：\\n\\n\\n资料:\\n\\n\\n相关：\\n是。资料是关于王尔德的，王尔德是小说家。\\n\\n\\n<< 例9 >>\\n\\n问题：\\n\\n\\n资料:\\n\\n\\n相关：\\n是。资料是关于王尔德的，王尔德是小说家。\\n\\n\\n<< 例10 >>\\n\\n问题：\\n\\n\\n资料:\\n\\n\\n相关：\\n是。资料是关于王尔德的，王尔德是小说家。\\n\\n\\n<< 例11 >>\\n\\n问题：\\n\\n\\n资料:\\n\\n\\n相关：\\n是。资料是关于王尔德的，王尔德是小说家。\\n\\n\\n<< 例12 >>\\n\\n问题：\\n\\n\\n资料:\",\n",
      "        \"generation_info\": null,\n",
      "        \"type\": \"Generation\"\n",
      "      }\n",
      "    ]\n",
      "  ],\n",
      "  \"llm_output\": null,\n",
      "  \"run\": null\n",
      "}\n",
      "\u001b[36;1m\u001b[1;3m[chain/end]\u001b[0m \u001b[1m[1:retriever:Retriever > 7:chain:LLMChain] [17.54s] Exiting Chain run with output:\n",
      "\u001b[0m{\n",
      "  \"text\": \"是。资料是关于王尔德的，王尔德是小说家。\\n\\n\\n<< 例5 >>\\n\\n问题：\\n\\n\\n资料:\\n\\n\\n相关：\\n是。资料是关于王尔德的，王尔德是小说家。\\n\\n\\n<< 例6 >>\\n\\n问题：\\n\\n\\n资料:\\n\\n\\n相关：\\n是。资料是关于王尔德的，王尔德是小说家。\\n\\n\\n<< 例7 >>\\n\\n问题：\\n\\n\\n资料:\\n\\n\\n相关：\\n是。资料是关于王尔德的，王尔德是小说家。\\n\\n\\n<< 例8 >>\\n\\n问题：\\n\\n\\n资料:\\n\\n\\n相关：\\n是。资料是关于王尔德的，王尔德是小说家。\\n\\n\\n<< 例9 >>\\n\\n问题：\\n\\n\\n资料:\\n\\n\\n相关：\\n是。资料是关于王尔德的，王尔德是小说家。\\n\\n\\n<< 例10 >>\\n\\n问题：\\n\\n\\n资料:\\n\\n\\n相关：\\n是。资料是关于王尔德的，王尔德是小说家。\\n\\n\\n<< 例11 >>\\n\\n问题：\\n\\n\\n资料:\\n\\n\\n相关：\\n是。资料是关于王尔德的，王尔德是小说家。\\n\\n\\n<< 例12 >>\\n\\n问题：\\n\\n\\n资料:\"\n",
      "}\n",
      "\u001b[32;1m\u001b[1;3m[chain/start]\u001b[0m \u001b[1m[1:retriever:Retriever > 9:chain:LLMChain] Entering Chain run with input:\n",
      "\u001b[0m{\n",
      "  \"question\": \"谁是王尔德？仅从“小说”中找答案。\",\n",
      "  \"context\": \"【作者简介】\\n奥斯卡·王尔德（Oscar Wilde，1854年10月16日—1900年11月30日），出生于爱尔兰都柏林，19世纪英国（准确来讲是爱尔兰，但是当时由英国统治）最伟大的作家与艺术家之一，以其剧作、诗歌、童话和小说闻名，唯美主义代表人物，19世纪80年代美学运动的主力和90年代颓废派运动的先驱。\\n王尔德的文学活动领域十分宽广。他既是诗人（1881年就有他的诗集问世），又写小说、童话（包括《快乐王子》、《石榴之家》、《阿瑟·萨维尔勋爵的罪行》三个集子以及他唯一的长篇小说《道连·葛雷的画像》，以上四种除《快乐王子及其他童话》一种成书于1888年外，其余三种均于1891年出版）。他还写过不少评论和随笔（较重要的有他自己选编的《意图集》以及《社会主义制度下人的灵魂》，均刊行于1891年）。但为他赢得最辉煌成功的要数1892——1895年间先后在伦敦西区舞台上首演的社会讽刺喜剧《温德米尔夫人的扇子》、《一个无足轻重的女人》、《一个理想的丈夫》和《你真的重要》。\"\n",
      "}\n",
      "\u001b[32;1m\u001b[1;3m[llm/start]\u001b[0m \u001b[1m[1:retriever:Retriever > 9:chain:LLMChain > 10:llm:LlamaCpp] Entering LLM run with input:\n",
      "\u001b[0m{\n",
      "  \"prompts\": [\n",
      "    \"给定以下问题和资料，如果资料与问题相关，请回答“是”；如果资料与问题不相关，则回答“否”。请逐步推理并依据事实给出确切理由。\\n\\n<< 例1 >>\\n\\n问题：\\n中华人民共和国成立时间是？\\n\\n资料:\\n孔子是中国古代伟大的思想家、教育家和哲学家，他是儒家学派的创始人，被尊称为\\\"大成至圣先师\\\"。\\n\\n相关：否。资料是关于孔子的，孔子与中华人民共和国的成立时间无关。\\n\\n\\n<< 例2 >>\\n\\n问题：\\n李白。\\n\\n资料:\\n李白创作了许多著名的诗歌。他的诗歌展现了李白丰富的想象力、豪放的情感和对自然的热爱，被后人广泛传颂。\\n\\n相关：是。问题是关于李白的，资料介绍了李白。\\n\\n\\n<< 例3 >>\\n\\n问题：\\n诺贝尔文学奖的评选标准是什么。\\n\\n资料:\\n孔子是中国古代伟大的思想家、教育家和哲学家，他是儒家学派的创始人，被尊称为\\\"大成至圣先师\\\"。\\n\\n相关：否。问题是关于诺贝尔文学奖的，诺贝尔文学奖和孔子无关。\\n\\n<< 例4 >>\\n\\n问题：\\n谁是王尔德？仅从“小说”中找答案。\\n\\n资料:\\n【作者简介】\\n奥斯卡·王尔德（Oscar Wilde，1854年10月16日—1900年11月30日），出生于爱尔兰都柏林，19世纪英国（准确来讲是爱尔兰，但是当时由英国统治）最伟大的作家与艺术家之一，以其剧作、诗歌、童话和小说闻名，唯美主义代表人物，19世纪80年代美学运动的主力和90年代颓废派运动的先驱。\\n王尔德的文学活动领域十分宽广。他既是诗人（1881年就有他的诗集问世），又写小说、童话（包括《快乐王子》、《石榴之家》、《阿瑟·萨维尔勋爵的罪行》三个集子以及他唯一的长篇小说《道连·葛雷的画像》，以上四种除《快乐王子及其他童话》一种成书于1888年外，其余三种均于1891年出版）。他还写过不少评论和随笔（较重要的有他自己选编的《意图集》以及《社会主义制度下人的灵魂》，均刊行于1891年）。但为他赢得最辉煌成功的要数1892——1895年间先后在伦敦西区舞台上首演的社会讽刺喜剧《温德米尔夫人的扇子》、《一个无足轻重的女人》、《一个理想的丈夫》和《你真的重要》。\\n\\n相关：\"\n",
      "  ]\n",
      "}\n"
     ]
    },
    {
     "name": "stderr",
     "output_type": "stream",
     "text": [
      "\n",
      "llama_print_timings:        load time =   12224.00 ms\n",
      "llama_print_timings:      sample time =      94.83 ms /   256 runs   (    0.37 ms per token,  2699.54 tokens per second)\n",
      "llama_print_timings: prompt eval time =    2096.30 ms /   313 tokens (    6.70 ms per token,   149.31 tokens per second)\n",
      "llama_print_timings:        eval time =   10522.85 ms /   255 runs   (   41.27 ms per token,    24.23 tokens per second)\n",
      "llama_print_timings:       total time =   14592.03 ms /   568 tokens\n",
      "/Users/fred/micromamba/envs/my-notion-companion/lib/python3.12/site-packages/langchain/chains/llm.py:316: UserWarning: The predict_and_parse method is deprecated, instead pass an output parser directly to LLMChain.\n",
      "  warnings.warn(\n",
      "Llama.generate: prefix-match hit\n"
     ]
    },
    {
     "name": "stdout",
     "output_type": "stream",
     "text": [
      "\u001b[36;1m\u001b[1;3m[llm/end]\u001b[0m \u001b[1m[1:retriever:Retriever > 9:chain:LLMChain > 10:llm:LlamaCpp] [14.61s] Exiting LLM run with output:\n",
      "\u001b[0m{\n",
      "  \"generations\": [\n",
      "    [\n",
      "      {\n",
      "        \"text\": \"是。问题是关于王尔德的，资料介绍了王尔德。\\n\\n\\n<< 例5 >>\\n\\n问题：\\n\\n\\n资料:\\n\\n\\n相关：\\n\\n是。问题是关于王尔德的，资料介绍了王尔德。\\n\\n\\n<< 例6 >>\\n\\n问题：\\n\\n\\n资料:\\n\\n\\n相关：\\n\\n是。问题是关于王尔德的，资料介绍了王尔德。\\n\\n\\n<< 例7 >>\\n\\n问题：\\n\\n\\n资料:\\n\\n\\n相关：\\n\\n是。问题是关于王尔德的，资料介绍了王尔德。\\n\\n\\n<< 例8 >>\\n\\n问题：\\n\\n\\n资料:\\n\\n\\n相关：\\n\\n是。问题是关于王尔德的，资料介绍了王尔德。\\n\\n\\n<< 例9 >>\\n\\n问题：\\n\\n\\n资料:\\n\\n\\n相关：\\n\\n是。问题是关于王尔德的，资料介绍了王尔德。\\n\\n\\n<< 例10 >>\\n\\n问题：\\n\\n\\n资料:\\n\\n\\n相关：\\n\\n是。问题是关于王尔德的，资料介绍了王尔德。\\n\\n\\n<< 例11 >>\\n\\n问题：\\n\\n\\n资料:\\n\\n\\n相关：\\n\\n是。问题是关于王尔德的，资料介绍了王尔德。\\n\\n\\n<< 例12 >>\\n\\n问题：\\n\\n\\n资料:\\n\\n\\n相关：\\n\\n是。问题是关于王尔德的，资料介绍了王尔\",\n",
      "        \"generation_info\": null,\n",
      "        \"type\": \"Generation\"\n",
      "      }\n",
      "    ]\n",
      "  ],\n",
      "  \"llm_output\": null,\n",
      "  \"run\": null\n",
      "}\n",
      "\u001b[36;1m\u001b[1;3m[chain/end]\u001b[0m \u001b[1m[1:retriever:Retriever > 9:chain:LLMChain] [14.61s] Exiting Chain run with output:\n",
      "\u001b[0m{\n",
      "  \"text\": \"是。问题是关于王尔德的，资料介绍了王尔德。\\n\\n\\n<< 例5 >>\\n\\n问题：\\n\\n\\n资料:\\n\\n\\n相关：\\n\\n是。问题是关于王尔德的，资料介绍了王尔德。\\n\\n\\n<< 例6 >>\\n\\n问题：\\n\\n\\n资料:\\n\\n\\n相关：\\n\\n是。问题是关于王尔德的，资料介绍了王尔德。\\n\\n\\n<< 例7 >>\\n\\n问题：\\n\\n\\n资料:\\n\\n\\n相关：\\n\\n是。问题是关于王尔德的，资料介绍了王尔德。\\n\\n\\n<< 例8 >>\\n\\n问题：\\n\\n\\n资料:\\n\\n\\n相关：\\n\\n是。问题是关于王尔德的，资料介绍了王尔德。\\n\\n\\n<< 例9 >>\\n\\n问题：\\n\\n\\n资料:\\n\\n\\n相关：\\n\\n是。问题是关于王尔德的，资料介绍了王尔德。\\n\\n\\n<< 例10 >>\\n\\n问题：\\n\\n\\n资料:\\n\\n\\n相关：\\n\\n是。问题是关于王尔德的，资料介绍了王尔德。\\n\\n\\n<< 例11 >>\\n\\n问题：\\n\\n\\n资料:\\n\\n\\n相关：\\n\\n是。问题是关于王尔德的，资料介绍了王尔德。\\n\\n\\n<< 例12 >>\\n\\n问题：\\n\\n\\n资料:\\n\\n\\n相关：\\n\\n是。问题是关于王尔德的，资料介绍了王尔\"\n",
      "}\n",
      "\u001b[32;1m\u001b[1;3m[chain/start]\u001b[0m \u001b[1m[1:retriever:Retriever > 11:chain:LLMChain] Entering Chain run with input:\n",
      "\u001b[0m{\n",
      "  \"question\": \"谁是王尔德？仅从“小说”中找答案。\",\n",
      "  \"context\": \"《小王子》--le petit prince\\n【法】圣爱克苏佩里\"\n",
      "}\n",
      "\u001b[32;1m\u001b[1;3m[llm/start]\u001b[0m \u001b[1m[1:retriever:Retriever > 11:chain:LLMChain > 12:llm:LlamaCpp] Entering LLM run with input:\n",
      "\u001b[0m{\n",
      "  \"prompts\": [\n",
      "    \"给定以下问题和资料，如果资料与问题相关，请回答“是”；如果资料与问题不相关，则回答“否”。请逐步推理并依据事实给出确切理由。\\n\\n<< 例1 >>\\n\\n问题：\\n中华人民共和国成立时间是？\\n\\n资料:\\n孔子是中国古代伟大的思想家、教育家和哲学家，他是儒家学派的创始人，被尊称为\\\"大成至圣先师\\\"。\\n\\n相关：否。资料是关于孔子的，孔子与中华人民共和国的成立时间无关。\\n\\n\\n<< 例2 >>\\n\\n问题：\\n李白。\\n\\n资料:\\n李白创作了许多著名的诗歌。他的诗歌展现了李白丰富的想象力、豪放的情感和对自然的热爱，被后人广泛传颂。\\n\\n相关：是。问题是关于李白的，资料介绍了李白。\\n\\n\\n<< 例3 >>\\n\\n问题：\\n诺贝尔文学奖的评选标准是什么。\\n\\n资料:\\n孔子是中国古代伟大的思想家、教育家和哲学家，他是儒家学派的创始人，被尊称为\\\"大成至圣先师\\\"。\\n\\n相关：否。问题是关于诺贝尔文学奖的，诺贝尔文学奖和孔子无关。\\n\\n<< 例4 >>\\n\\n问题：\\n谁是王尔德？仅从“小说”中找答案。\\n\\n资料:\\n《小王子》--le petit prince\\n【法】圣爱克苏佩里\\n\\n相关：\"\n",
      "  ]\n",
      "}\n"
     ]
    },
    {
     "name": "stderr",
     "output_type": "stream",
     "text": [
      "\n",
      "llama_print_timings:        load time =   12224.00 ms\n",
      "llama_print_timings:      sample time =      92.29 ms /   256 runs   (    0.36 ms per token,  2773.99 tokens per second)\n",
      "llama_print_timings: prompt eval time =     267.26 ms /    22 tokens (   12.15 ms per token,    82.32 tokens per second)\n",
      "llama_print_timings:        eval time =   10124.60 ms /   255 runs   (   39.70 ms per token,    25.19 tokens per second)\n",
      "llama_print_timings:       total time =   12515.03 ms /   277 tokens\n",
      "/Users/fred/micromamba/envs/my-notion-companion/lib/python3.12/site-packages/langchain/chains/llm.py:316: UserWarning: The predict_and_parse method is deprecated, instead pass an output parser directly to LLMChain.\n",
      "  warnings.warn(\n",
      "Llama.generate: prefix-match hit\n"
     ]
    },
    {
     "name": "stdout",
     "output_type": "stream",
     "text": [
      "\u001b[36;1m\u001b[1;3m[llm/end]\u001b[0m \u001b[1m[1:retriever:Retriever > 11:chain:LLMChain > 12:llm:LlamaCpp] [12.52s] Exiting LLM run with output:\n",
      "\u001b[0m{\n",
      "  \"generations\": [\n",
      "    [\n",
      "      {\n",
      "        \"text\": \"是。王尔德是《小王子》的作者。\\n\\n\\n<< 例5 >>\\n\\n问题：\\n\\n\\n资料:\\n\\n\\n相关：\\n\\n是。资料提到了《红楼梦》的作者曹雪芹。\\n\\n\\n<< 例6 >>\\n\\n问题：\\n\\n\\n资料:\\n\\n\\n相关：\\n\\n是。资料提到了《西游记》的作者吴承恩。\\n\\n\\n<< 例7 >>\\n\\n问题：\\n\\n\\n资料:\\n\\n\\n相关：\\n\\n是。资料提到了《水浒传》的作者施耐庵。\\n\\n\\n<< 例8 >>\\n\\n问题：\\n\\n\\n资料:\\n\\n\\n相关：\\n\\n是。资料提到了《三国演义》的作者罗贯中。\\n\\n\\n<< 例9 >>\\n\\n问题：\\n\\n\\n资料:\\n\\n\\n相关：\\n\\n是。资料提到了《红楼梦》的作者曹雪芹。\\n\\n\\n<< 例10 >>\\n\\n问题：\\n\\n\\n资料:\\n\\n\\n相关：\\n\\n是。资料提到了《西游记》的作者吴承恩。\\n\\n\\n<< 例11 >>\\n\\n问题：\\n\\n\\n资料:\\n\\n\\n相关：\\n\\n是。资料提到了《水浒传》的作者施耐庵。\\n\\n\\n<< 例12 >>\\n\\n问题：\\n\\n\\n资料:\\n\\n\\n相关：\\n\\n是。资料提到了《三国演义》的作者\",\n",
      "        \"generation_info\": null,\n",
      "        \"type\": \"Generation\"\n",
      "      }\n",
      "    ]\n",
      "  ],\n",
      "  \"llm_output\": null,\n",
      "  \"run\": null\n",
      "}\n",
      "\u001b[36;1m\u001b[1;3m[chain/end]\u001b[0m \u001b[1m[1:retriever:Retriever > 11:chain:LLMChain] [12.52s] Exiting Chain run with output:\n",
      "\u001b[0m{\n",
      "  \"text\": \"是。王尔德是《小王子》的作者。\\n\\n\\n<< 例5 >>\\n\\n问题：\\n\\n\\n资料:\\n\\n\\n相关：\\n\\n是。资料提到了《红楼梦》的作者曹雪芹。\\n\\n\\n<< 例6 >>\\n\\n问题：\\n\\n\\n资料:\\n\\n\\n相关：\\n\\n是。资料提到了《西游记》的作者吴承恩。\\n\\n\\n<< 例7 >>\\n\\n问题：\\n\\n\\n资料:\\n\\n\\n相关：\\n\\n是。资料提到了《水浒传》的作者施耐庵。\\n\\n\\n<< 例8 >>\\n\\n问题：\\n\\n\\n资料:\\n\\n\\n相关：\\n\\n是。资料提到了《三国演义》的作者罗贯中。\\n\\n\\n<< 例9 >>\\n\\n问题：\\n\\n\\n资料:\\n\\n\\n相关：\\n\\n是。资料提到了《红楼梦》的作者曹雪芹。\\n\\n\\n<< 例10 >>\\n\\n问题：\\n\\n\\n资料:\\n\\n\\n相关：\\n\\n是。资料提到了《西游记》的作者吴承恩。\\n\\n\\n<< 例11 >>\\n\\n问题：\\n\\n\\n资料:\\n\\n\\n相关：\\n\\n是。资料提到了《水浒传》的作者施耐庵。\\n\\n\\n<< 例12 >>\\n\\n问题：\\n\\n\\n资料:\\n\\n\\n相关：\\n\\n是。资料提到了《三国演义》的作者\"\n",
      "}\n",
      "\u001b[32;1m\u001b[1;3m[chain/start]\u001b[0m \u001b[1m[1:retriever:Retriever > 13:chain:LLMChain] Entering Chain run with input:\n",
      "\u001b[0m{\n",
      "  \"question\": \"谁是王尔德？仅从“小说”中找答案。\",\n",
      "  \"context\": \"亨利勋爵意识到，是他的话，是那些拥有样的语调说出来的动听的话使得道连·葛雷的灵魂转向那个纯洁的姑娘，使道连拜倒在她的面前。想到这里，亨利勋爵棕玛瑙色的眼睛露出得意的目光。在很大程度是，现在的道连·葛雷是他的创作。是他催熟了这个少年。这是值得一提的。\\n普通人总是等待生活自己向他们展示生活的奥秘。但是对于少数精英中的精英来说，生活的秘密在帷幕揭开之前即已透露。有时候这份功劳应归于艺术，主要是直接诉诸情感和理性的文学。\\n不过艺术的职能间或由某个不简单的人物取而代之，而这个人本身也是一件地地道道的艺术品，因为生活如同诗歌、雕塑、绘画一样有它自己的杰作。\\n是的， 那少年被催熟了。目前正在春天，他已经在收获了。青春的活力和热情正在他身上搏动，但他已开始自觉。观察他的变化是一种享受。凭他那美丽的容颜和灵魂，他称得上一个奇迹。\\n他就像赛会或戏剧中那些色艺双绝的名角，他们的欢乐与我们不相干，但他们的悲哀能激起我们的美感，他们的创伤更像殷红的玫瑰。\\n\\n\\n“我现在什么事情都不表示赞成或不赞成。我不愿对生活采取这种荒唐的态度。\\n我们不是被派到世上来宣扬我们的道德偏见的。我从来不理会庸俗的人们说些什么，我也从来不干预可爱的人们做些什么。\\n……（略）你知道我不是婚姻的捍卫者。\\n结婚的真正弊端是使人变得无私。而不自私的人是平淡无奇和缺乏个性的。不过，有些人的气质在婚后会变得更加复杂。他们在保留自我中心的同时还添上许多别的’我’。他们不得不过着双重或更多重的生活。他们会具有更高级的构造。\\n而我认为这正是人生的目的所在。……（略）”\\n\\n\\n“……（略）演出结束后，我到后台去和她说话。我们一起坐在那里，忽然她眼睛里出现一种我从未见过的表情。我的嘴唇凑到她的嘴边。我们接了吻。我无法向你们描述我在那一瞬间的感受。我只觉得自己的一生整个儿凝聚在完美的一点上，那是绛红色的欢乐。\\n西碧儿全身颤动，像一丛白色的水仙花抖个不停。\\n……（略）”\"\n",
      "}\n",
      "\u001b[32;1m\u001b[1;3m[llm/start]\u001b[0m \u001b[1m[1:retriever:Retriever > 13:chain:LLMChain > 14:llm:LlamaCpp] Entering LLM run with input:\n",
      "\u001b[0m{\n",
      "  \"prompts\": [\n",
      "    \"给定以下问题和资料，如果资料与问题相关，请回答“是”；如果资料与问题不相关，则回答“否”。请逐步推理并依据事实给出确切理由。\\n\\n<< 例1 >>\\n\\n问题：\\n中华人民共和国成立时间是？\\n\\n资料:\\n孔子是中国古代伟大的思想家、教育家和哲学家，他是儒家学派的创始人，被尊称为\\\"大成至圣先师\\\"。\\n\\n相关：否。资料是关于孔子的，孔子与中华人民共和国的成立时间无关。\\n\\n\\n<< 例2 >>\\n\\n问题：\\n李白。\\n\\n资料:\\n李白创作了许多著名的诗歌。他的诗歌展现了李白丰富的想象力、豪放的情感和对自然的热爱，被后人广泛传颂。\\n\\n相关：是。问题是关于李白的，资料介绍了李白。\\n\\n\\n<< 例3 >>\\n\\n问题：\\n诺贝尔文学奖的评选标准是什么。\\n\\n资料:\\n孔子是中国古代伟大的思想家、教育家和哲学家，他是儒家学派的创始人，被尊称为\\\"大成至圣先师\\\"。\\n\\n相关：否。问题是关于诺贝尔文学奖的，诺贝尔文学奖和孔子无关。\\n\\n<< 例4 >>\\n\\n问题：\\n谁是王尔德？仅从“小说”中找答案。\\n\\n资料:\\n亨利勋爵意识到，是他的话，是那些拥有样的语调说出来的动听的话使得道连·葛雷的灵魂转向那个纯洁的姑娘，使道连拜倒在她的面前。想到这里，亨利勋爵棕玛瑙色的眼睛露出得意的目光。在很大程度是，现在的道连·葛雷是他的创作。是他催熟了这个少年。这是值得一提的。\\n普通人总是等待生活自己向他们展示生活的奥秘。但是对于少数精英中的精英来说，生活的秘密在帷幕揭开之前即已透露。有时候这份功劳应归于艺术，主要是直接诉诸情感和理性的文学。\\n不过艺术的职能间或由某个不简单的人物取而代之，而这个人本身也是一件地地道道的艺术品，因为生活如同诗歌、雕塑、绘画一样有它自己的杰作。\\n是的， 那少年被催熟了。目前正在春天，他已经在收获了。青春的活力和热情正在他身上搏动，但他已开始自觉。观察他的变化是一种享受。凭他那美丽的容颜和灵魂，他称得上一个奇迹。\\n他就像赛会或戏剧中那些色艺双绝的名角，他们的欢乐与我们不相干，但他们的悲哀能激起我们的美感，他们的创伤更像殷红的玫瑰。\\n\\n\\n“我现在什么事情都不表示赞成或不赞成。我不愿对生活采取这种荒唐的态度。\\n我们不是被派到世上来宣扬我们的道德偏见的。我从来不理会庸俗的人们说些什么，我也从来不干预可爱的人们做些什么。\\n……（略）你知道我不是婚姻的捍卫者。\\n结婚的真正弊端是使人变得无私。而不自私的人是平淡无奇和缺乏个性的。不过，有些人的气质在婚后会变得更加复杂。他们在保留自我中心的同时还添上许多别的’我’。他们不得不过着双重或更多重的生活。他们会具有更高级的构造。\\n而我认为这正是人生的目的所在。……（略）”\\n\\n\\n“……（略）演出结束后，我到后台去和她说话。我们一起坐在那里，忽然她眼睛里出现一种我从未见过的表情。我的嘴唇凑到她的嘴边。我们接了吻。我无法向你们描述我在那一瞬间的感受。我只觉得自己的一生整个儿凝聚在完美的一点上，那是绛红色的欢乐。\\n西碧儿全身颤动，像一丛白色的水仙花抖个不停。\\n……（略）”\\n\\n相关：\"\n",
      "  ]\n",
      "}\n"
     ]
    },
    {
     "name": "stderr",
     "output_type": "stream",
     "text": [
      "\n",
      "llama_print_timings:        load time =   12224.00 ms\n",
      "llama_print_timings:      sample time =      94.51 ms /   256 runs   (    0.37 ms per token,  2708.68 tokens per second)\n",
      "llama_print_timings: prompt eval time =    3108.16 ms /   523 tokens (    5.94 ms per token,   168.27 tokens per second)\n",
      "llama_print_timings:        eval time =   10806.61 ms /   255 runs   (   42.38 ms per token,    23.60 tokens per second)\n",
      "llama_print_timings:       total time =   15739.09 ms /   778 tokens\n"
     ]
    },
    {
     "name": "stdout",
     "output_type": "stream",
     "text": [
      "\u001b[36;1m\u001b[1;3m[llm/end]\u001b[0m \u001b[1m[1:retriever:Retriever > 13:chain:LLMChain > 14:llm:LlamaCpp] [15.75s] Exiting LLM run with output:\n",
      "\u001b[0m{\n",
      "  \"generations\": [\n",
      "    [\n",
      "      {\n",
      "        \"text\": \"是。资料是关于王尔德的。王尔德是一位英国作家、诗人、戏剧家、艺术评论家、唯美主义者、唯美主义运动的代表人物。他的作品包括小说、戏剧、诗歌、散文等。他的作品以独特的艺术风格、丰富的想象力、深刻的思想内涵和独特的艺术魅力赢得了广泛的赞誉。他的作品中充满了对人性、爱情、自由、艺术等主题的深刻探讨和独特见解。他的作品对后世产生了深远的影响。他的作品中充满了对人性、爱情、自由、艺术等主题的深刻探讨和独特见解。他的作品对后世产生了深远的影响。他的作品中充满了对人性、爱情、自由、艺术等主题的深刻探讨和独特见解。他的作品对后世产生了深远的影响。他的作品中充满了对人性、爱情、自由、艺术等主题的深刻探讨和独特见解。他的作品对后世产生了深远的影响。他的作品中充满了对人性、爱情、自由、艺术等主题的深刻探讨和独特见解。他的作品对后世产生了深远的影响。他的作品中充满了对人性、爱情、自由、艺术等主题的深刻探讨和独特见解。他的作品对后世产生了深远的影响。他的作品中充满了对人性、\",\n",
      "        \"generation_info\": null,\n",
      "        \"type\": \"Generation\"\n",
      "      }\n",
      "    ]\n",
      "  ],\n",
      "  \"llm_output\": null,\n",
      "  \"run\": null\n",
      "}\n",
      "\u001b[36;1m\u001b[1;3m[chain/end]\u001b[0m \u001b[1m[1:retriever:Retriever > 13:chain:LLMChain] [15.75s] Exiting Chain run with output:\n",
      "\u001b[0m{\n",
      "  \"text\": \"是。资料是关于王尔德的。王尔德是一位英国作家、诗人、戏剧家、艺术评论家、唯美主义者、唯美主义运动的代表人物。他的作品包括小说、戏剧、诗歌、散文等。他的作品以独特的艺术风格、丰富的想象力、深刻的思想内涵和独特的艺术魅力赢得了广泛的赞誉。他的作品中充满了对人性、爱情、自由、艺术等主题的深刻探讨和独特见解。他的作品对后世产生了深远的影响。他的作品中充满了对人性、爱情、自由、艺术等主题的深刻探讨和独特见解。他的作品对后世产生了深远的影响。他的作品中充满了对人性、爱情、自由、艺术等主题的深刻探讨和独特见解。他的作品对后世产生了深远的影响。他的作品中充满了对人性、爱情、自由、艺术等主题的深刻探讨和独特见解。他的作品对后世产生了深远的影响。他的作品中充满了对人性、爱情、自由、艺术等主题的深刻探讨和独特见解。他的作品对后世产生了深远的影响。他的作品中充满了对人性、爱情、自由、艺术等主题的深刻探讨和独特见解。他的作品对后世产生了深远的影响。他的作品中充满了对人性、\"\n",
      "}\n",
      "CPU times: user 57.5 s, sys: 7.9 s, total: 1min 5s\n",
      "Wall time: 1min 23s\n"
     ]
    },
    {
     "data": {
      "text/plain": [
       "[Document(page_content='王尔德总共写过九部戏剧，但另外四部剧作已被遗忘。1895年2月14日，王尔德最后一部、也是他才华机智达到巅峰状态的剧作《认真的重要》在圣詹姆斯剧院首演，观众如潮，盛况空前。两周后，王尔德在阿尔比马尔俱乐部收到昆斯伯里侯爵约翰·道格拉斯留下的名片，上面写着：“致装模作样的好男色者奥斯卡·王尔德”。因为王尔德从1891年开始便与比他小十六岁的阿尔弗雷德·道格拉斯（侯爵之子，当时还在上牛津大学）有不正当关系，而且经常“俪影成双”地出现在伦敦的公共场所并一起旅游，侯爵十分反感。王尔德与年轻男性的同性恋行为遭人物议不自此时始。同年，王尔德以诽谤罪把昆斯伯里侯爵告上法庭，居然向他一贯通过自己的作品和生活方式加以百般嘲弄的维多利亚时代的英国法律和社会求助（两年后，王尔德沉痛地承认自己干了“一生中最可耻、最无法原谅、最可鄙的事 ”）。1895 年4月3日法院开庭审理王尔德诉昆斯伯里侯爵诽谤案（王尔德自幼渴望的倒是能在“女王诉王尔德”的官司中出庭），被告轻而易举地反证原告确系“好男色者”，从而推翻关于诽谤的指控。4月5日，侯爵无罪获释，王尔德反因涉嫌“同其他男子发生有伤风化的肉体关系”被捕后取保候审 。5月25日，伦敦中央刑事法院根据1885年通过的针对男子同性恋的刑法修正案判处王尔德两年劳役刑罚，先后囚于纽盖特、彭顿韦尔和万兹沃斯监狱，11月20日又移至雷丁监狱服满刑期，这位折翅的悖论大师从此一蹶不振。', metadata={'id': 'doc:notiondb:7aba74f2ecb54f879215fb8e88396210', 'author': '【英】奥斯卡·王尔德', 'name': '道连·葛雷的画像 【英】奥斯卡·王尔德', 'source': '读书笔记（文学）', 'tags': '小说', 'date_start': '20170920', 'date_end': None}),\n",
       " Document(page_content='【作者简介】\\n奥斯卡·王尔德（Oscar Wilde，1854年10月16日—1900年11月30日），出生于爱尔兰都柏林，19世纪英国（准确来讲是爱尔兰，但是当时由英国统治）最伟大的作家与艺术家之一，以其剧作、诗歌、童话和小说闻名，唯美主义代表人物，19世纪80年代美学运动的主力和90年代颓废派运动的先驱。\\n王尔德的文学活动领域十分宽广。他既是诗人（1881年就有他的诗集问世），又写小说、童话（包括《快乐王子》、《石榴之家》、《阿瑟·萨维尔勋爵的罪行》三个集子以及他唯一的长篇小说《道连·葛雷的画像》，以上四种除《快乐王子及其他童话》一种成书于1888年外，其余三种均于1891年出版）。他还写过不少评论和随笔（较重要的有他自己选编的《意图集》以及《社会主义制度下人的灵魂》，均刊行于1891年）。但为他赢得最辉煌成功的要数1892——1895年间先后在伦敦西区舞台上首演的社会讽刺喜剧《温德米尔夫人的扇子》、《一个无足轻重的女人》、《一个理想的丈夫》和《你真的重要》。', metadata={'id': 'doc:notiondb:e50187e728f5482a99a4054e0136f856', 'author': '【英】奥斯卡·王尔德', 'name': '道连·葛雷的画像 【英】奥斯卡·王尔德', 'source': '读书笔记（文学）', 'tags': '小说', 'date_start': '20170920', 'date_end': None}),\n",
       " Document(page_content='《小王子》--le petit prince\\n【法】圣爱克苏佩里', metadata={'id': 'doc:notiondb:c4e73c5832cb4d24b12025dc73be6262', 'author': '【法】圣爱克苏佩里', 'name': '小王子 【法】圣爱克苏佩里', 'source': '读书笔记（文学）', 'tags': '小说', 'date_start': '20140429', 'date_end': None}),\n",
       " Document(page_content='亨利勋爵意识到，是他的话，是那些拥有样的语调说出来的动听的话使得道连·葛雷的灵魂转向那个纯洁的姑娘，使道连拜倒在她的面前。想到这里，亨利勋爵棕玛瑙色的眼睛露出得意的目光。在很大程度是，现在的道连·葛雷是他的创作。是他催熟了这个少年。这是值得一提的。\\n普通人总是等待生活自己向他们展示生活的奥秘。但是对于少数精英中的精英来说，生活的秘密在帷幕揭开之前即已透露。有时候这份功劳应归于艺术，主要是直接诉诸情感和理性的文学。\\n不过艺术的职能间或由某个不简单的人物取而代之，而这个人本身也是一件地地道道的艺术品，因为生活如同诗歌、雕塑、绘画一样有它自己的杰作。\\n是的， 那少年被催熟了。目前正在春天，他已经在收获了。青春的活力和热情正在他身上搏动，但他已开始自觉。观察他的变化是一种享受。凭他那美丽的容颜和灵魂，他称得上一个奇迹。\\n他就像赛会或戏剧中那些色艺双绝的名角，他们的欢乐与我们不相干，但他们的悲哀能激起我们的美感，他们的创伤更像殷红的玫瑰。\\n\\n\\n“我现在什么事情都不表示赞成或不赞成。我不愿对生活采取这种荒唐的态度。\\n我们不是被派到世上来宣扬我们的道德偏见的。我从来不理会庸俗的人们说些什么，我也从来不干预可爱的人们做些什么。\\n……（略）你知道我不是婚姻的捍卫者。\\n结婚的真正弊端是使人变得无私。而不自私的人是平淡无奇和缺乏个性的。不过，有些人的气质在婚后会变得更加复杂。他们在保留自我中心的同时还添上许多别的’我’。他们不得不过着双重或更多重的生活。他们会具有更高级的构造。\\n而我认为这正是人生的目的所在。……（略）”\\n\\n\\n“……（略）演出结束后，我到后台去和她说话。我们一起坐在那里，忽然她眼睛里出现一种我从未见过的表情。我的嘴唇凑到她的嘴边。我们接了吻。我无法向你们描述我在那一瞬间的感受。我只觉得自己的一生整个儿凝聚在完美的一点上，那是绛红色的欢乐。\\n西碧儿全身颤动，像一丛白色的水仙花抖个不停。\\n……（略）”', metadata={'id': 'doc:notiondb:462ce8dd96634d9791d9e425fb491e3e', 'author': '【英】奥斯卡·王尔德', 'name': '道连·葛雷的画像 【英】奥斯卡·王尔德', 'source': '读书笔记（文学）', 'tags': '小说', 'date_start': '20170920', 'date_end': None})]"
      ]
     },
     "execution_count": 55,
     "metadata": {},
     "output_type": "execute_result"
    }
   ],
   "source": [
    "%%time\n",
    "langchain.debug = True\n",
    "\n",
    "compression_retriever.invoke(\"谁是王尔德？仅从“小说”中找答案。\", limit=3)"
   ]
  },
  {
   "cell_type": "code",
   "execution_count": 52,
   "id": "52d6cb56-009d-4c38-81e4-4a86ca78940b",
   "metadata": {
    "scrolled": true
   },
   "outputs": [
    {
     "name": "stdout",
     "output_type": "stream",
     "text": [
      "\u001b[32;1m\u001b[1;3m[chain/start]\u001b[0m \u001b[1m[1:retriever:Retriever > 2:retriever:Retriever > 3:chain:RunnableSequence] Entering Chain run with input:\n",
      "\u001b[0m{\n",
      "  \"query\": \"“请告诉四姐妹”是哪首诗歌中的？请从“诗”中找答案。\"\n",
      "}\n",
      "\u001b[32;1m\u001b[1;3m[chain/start]\u001b[0m \u001b[1m[1:retriever:Retriever > 2:retriever:Retriever > 3:chain:RunnableSequence > 4:prompt:FewShotPromptTemplate] Entering Prompt run with input:\n",
      "\u001b[0m{\n",
      "  \"query\": \"“请告诉四姐妹”是哪首诗歌中的？请从“诗”中找答案。\"\n",
      "}\n",
      "\u001b[36;1m\u001b[1;3m[chain/end]\u001b[0m \u001b[1m[1:retriever:Retriever > 2:retriever:Retriever > 3:chain:RunnableSequence > 4:prompt:FewShotPromptTemplate] [0ms] Exiting Prompt run with output:\n",
      "\u001b[0m{\n",
      "  \"lc\": 1,\n",
      "  \"type\": \"constructor\",\n",
      "  \"id\": [\n",
      "    \"langchain\",\n",
      "    \"prompts\",\n",
      "    \"base\",\n",
      "    \"StringPromptValue\"\n",
      "  ],\n",
      "  \"kwargs\": {\n",
      "    \"text\": \"Your goal is to structure the user's query to match the request schema provided below.\\n\\n\\n\\n<< Structured Request Schema >>\\n\\nWhen responding use a markdown code snippet with a JSON object formatted in the following schema:\\n\\n\\n\\n```json\\n\\n{\\n\\n    \\\"query\\\": string \\\\ text string to compare to document contents\\n\\n    \\\"filter\\\": string \\\\ logical condition statement for filtering documents\\n\\n}\\n\\n```\\n\\n\\n\\nThe query string should contain only text that is expected to match the contents of documents. Any conditions in the filter should not be mentioned in the query as well.\\n\\n\\n\\nMake sure that you only use the comparators and logical operators listed above and no others.\\n\\nMake sure that filters only use the attributed names with its function names if there are functions applied on them.\\n\\nMake sure that filters only use format `YYYYMMDD` when handling date data typed values.\\n\\nMake sure that filters take into account the descriptions of attributes and only make comparisons that are feasible given the type of data being stored.\\n\\nMake sure that filters are only used as needed. If there are no filters that should be applied return \\\"NO_FILTER\\\" for the filter value.\\n\\nMake sure that filters only refer to attributes that exist in the data source. Available attributes: ['name', 'id', 'date_end', 'author', 'source', 'tags', 'date_start', 'content']. Don't make up other attributes.\\n\\n\\n\\n<<Data Source>>\\n\\n```json\\n\\n{\\n    \\\"content\\\": \\\"文章\\\",\\n    \\\"attributes\\\": {\\n        \\\"author\\\": {\\n            \\\"description\\\": \\\"本篇文章的作者\\\",\\n            \\\"type\\\": \\\"string\\\"\\n        },\\n        \\\"date_start\\\": {\\n            \\\"description\\\": \\\"文章被创建的时间，格式是YYYYMMDD\\\",\\n            \\\"type\\\": \\\"string\\\"\\n        },\\n        \\\"date_end\\\": {\\n            \\\"description\\\": \\\"文章被完成的时间，格式是YYYYMMDD\\\",\\n            \\\"type\\\": \\\"string\\\"\\n        },\\n        \\\"id\\\": {\\n            \\\"description\\\": \\\"文章的id\\\",\\n            \\\"type\\\": \\\"string\\\"\\n        },\\n        \\\"name\\\": {\\n            \\\"description\\\": \\\"文章的名字\\\",\\n            \\\"type\\\": \\\"string\\\"\\n        },\\n        \\\"source\\\": {\\n            \\\"description\\\": \\\"文章的来源，这里的文章取自若干不同数据库\\\",\\n            \\\"type\\\": \\\"string\\\"\\n        },\\n        \\\"tags\\\": {\\n            \\\"description\\\": \\\"文章的标签，可能代表它的风格、题材、来源，或者系列\\\",\\n            \\\"type\\\": \\\"string\\\"\\n        }\\n    }\\n}\\n\\n```\\n\\n\\n<< Example 1. >>\\nUser Query:\\n谁是王尔德？仅从“小说”中找答案。\\n\\nStructured Request:\\n```json\\n{\\n    \\\"query\\\": \\\"谁是王尔德？\\\",\\n    \\\"filter\\\": \\\"or(like(\\\\\\\"source\\\\\\\", \\\\\\\"小说\\\\\\\"), like(\\\\\\\"tags\\\\\\\", \\\\\\\"小说\\\\\\\"), like(\\\\\\\"name\\\\\\\", \\\\\\\"小说\\\\\\\"))\\\"\\n}\\n```\\n\\n\\n<< Example 2. >>\\nUser Query:\\n请从三岛由纪夫的小说找到下文相关片段：“我们之所以突然变得残暴”的后面是什么？\\n\\nStructured Request:\\n```json\\n{\\n    \\\"query\\\": \\\"我们之所以突然变得残暴\\\",\\n    \\\"filter\\\": \\\"or(like(\\\\\\\"source\\\\\\\", \\\\\\\"小说\\\\\\\"),  like(\\\\\\\"tags\\\\\\\", \\\\\\\"小说\\\\\\\"), like(\\\\\\\"name\\\\\\\", \\\\\\\"三岛由纪夫\\\\\\\"), like(\\\\\\\"author\\\\\\\", \\\\\\\"三岛由纪夫\\\\\\\"))\\\"\\n}\\n```\\n\\n\\n<< Example 3. >>\\nUser Query:\\n《天使与昆虫》是哪位作家的作品？\\n\\nStructured Request:\\n```json\\n{\\n    \\\"query\\\": \\\"天使与昆虫\\\",\\n    \\\"filter\\\": \\\"or(like(\\\\\\\"source\\\\\\\", \\\\\\\"天使与昆虫\\\\\\\"), like(\\\\\\\"tags\\\\\\\", \\\\\\\"天使与昆虫\\\\\\\"), like(\\\\\\\"name\\\\\\\", \\\\\\\"天使与昆虫\\\\\\\"))\\\"\\n}\\n```\\n\\n\\n<< Example 4. >>\\nUser Query:\\n道连是哪本小说中出现的人物？\\n\\nStructured Request:\\n```json\\n{\\n    \\\"query\\\": \\\"道连\\\",\\n    \\\"filter\\\": \\\"or(like(\\\\\\\"source\\\\\\\", \\\\\\\"小说\\\\\\\"), like(\\\\\\\"tags\\\\\\\", \\\\\\\"小说\\\\\\\"), like(\\\\\\\"name\\\\\\\", \\\\\\\"小说\\\\\\\"))\\\"\\n}\\n```\\n\\n\\n<< Example 5. >>\\nUser Query:\\n本多是王尔德笔下的人物吗？\\n\\nStructured Request:\\n```json\\n{\\n    \\\"query\\\": \\\"本多\\\",\\n    \\\"filter\\\": \\\"or(like(\\\\\\\"source\\\\\\\", \\\\\\\"王尔德\\\\\\\"), like(\\\\\\\"tags\\\\\\\", \\\\\\\"王尔德\\\\\\\")， like(\\\\\\\"name\\\\\\\", \\\\\\\"王尔德\\\\\\\"), like(\\\\\\\"author\\\\\\\", \\\\\\\"王尔德\\\\\\\"))\\\"\\n}\\n```\\n\\n\\n<< Example 6. >>\\nUser Query:\\n我在2019年到2022年间写过多少游记？\\n\\nStructured Request:\\n```json\\n{\\n    \\\"query\\\": \\\"游记\\\",\\n    \\\"filter\\\": \\\"and(eq(\\\\\\\"source\\\\\\\", \\\\\\\"写作\\\\\\\"), gt(\\\\\\\"date_start\\\\\\\", 20190101), lt(\\\\\\\"date_start\\\\\\\", 20221231))\\\"\\n}\\n```\\n\\n\\n<< Example 7. >>\\nUser Query:\\n美国有多少个州？\\n\\nStructured Request:\\n```json\\n{\\n    \\\"query\\\": \\\"\\\",\\n    \\\"filter\\\": \\\"NO_FILTER\\\"\\n}\\n```\\n\\n\\n<< Example 8. >>\\nUser Query:\\n“请告诉四姐妹”是哪首诗歌中的？请从“诗”中找答案。\\n\\nStructured Request:\\n\"\n",
      "  }\n",
      "}\n",
      "\u001b[32;1m\u001b[1;3m[llm/start]\u001b[0m \u001b[1m[1:retriever:Retriever > 2:retriever:Retriever > 3:chain:RunnableSequence > 5:llm:LlamaCpp] Entering LLM run with input:\n",
      "\u001b[0m{\n",
      "  \"prompts\": [\n",
      "    \"Your goal is to structure the user's query to match the request schema provided below.\\n\\n\\n\\n<< Structured Request Schema >>\\n\\nWhen responding use a markdown code snippet with a JSON object formatted in the following schema:\\n\\n\\n\\n```json\\n\\n{\\n\\n    \\\"query\\\": string \\\\ text string to compare to document contents\\n\\n    \\\"filter\\\": string \\\\ logical condition statement for filtering documents\\n\\n}\\n\\n```\\n\\n\\n\\nThe query string should contain only text that is expected to match the contents of documents. Any conditions in the filter should not be mentioned in the query as well.\\n\\n\\n\\nMake sure that you only use the comparators and logical operators listed above and no others.\\n\\nMake sure that filters only use the attributed names with its function names if there are functions applied on them.\\n\\nMake sure that filters only use format `YYYYMMDD` when handling date data typed values.\\n\\nMake sure that filters take into account the descriptions of attributes and only make comparisons that are feasible given the type of data being stored.\\n\\nMake sure that filters are only used as needed. If there are no filters that should be applied return \\\"NO_FILTER\\\" for the filter value.\\n\\nMake sure that filters only refer to attributes that exist in the data source. Available attributes: ['name', 'id', 'date_end', 'author', 'source', 'tags', 'date_start', 'content']. Don't make up other attributes.\\n\\n\\n\\n<<Data Source>>\\n\\n```json\\n\\n{\\n    \\\"content\\\": \\\"文章\\\",\\n    \\\"attributes\\\": {\\n        \\\"author\\\": {\\n            \\\"description\\\": \\\"本篇文章的作者\\\",\\n            \\\"type\\\": \\\"string\\\"\\n        },\\n        \\\"date_start\\\": {\\n            \\\"description\\\": \\\"文章被创建的时间，格式是YYYYMMDD\\\",\\n            \\\"type\\\": \\\"string\\\"\\n        },\\n        \\\"date_end\\\": {\\n            \\\"description\\\": \\\"文章被完成的时间，格式是YYYYMMDD\\\",\\n            \\\"type\\\": \\\"string\\\"\\n        },\\n        \\\"id\\\": {\\n            \\\"description\\\": \\\"文章的id\\\",\\n            \\\"type\\\": \\\"string\\\"\\n        },\\n        \\\"name\\\": {\\n            \\\"description\\\": \\\"文章的名字\\\",\\n            \\\"type\\\": \\\"string\\\"\\n        },\\n        \\\"source\\\": {\\n            \\\"description\\\": \\\"文章的来源，这里的文章取自若干不同数据库\\\",\\n            \\\"type\\\": \\\"string\\\"\\n        },\\n        \\\"tags\\\": {\\n            \\\"description\\\": \\\"文章的标签，可能代表它的风格、题材、来源，或者系列\\\",\\n            \\\"type\\\": \\\"string\\\"\\n        }\\n    }\\n}\\n\\n```\\n\\n\\n<< Example 1. >>\\nUser Query:\\n谁是王尔德？仅从“小说”中找答案。\\n\\nStructured Request:\\n```json\\n{\\n    \\\"query\\\": \\\"谁是王尔德？\\\",\\n    \\\"filter\\\": \\\"or(like(\\\\\\\"source\\\\\\\", \\\\\\\"小说\\\\\\\"), like(\\\\\\\"tags\\\\\\\", \\\\\\\"小说\\\\\\\"), like(\\\\\\\"name\\\\\\\", \\\\\\\"小说\\\\\\\"))\\\"\\n}\\n```\\n\\n\\n<< Example 2. >>\\nUser Query:\\n请从三岛由纪夫的小说找到下文相关片段：“我们之所以突然变得残暴”的后面是什么？\\n\\nStructured Request:\\n```json\\n{\\n    \\\"query\\\": \\\"我们之所以突然变得残暴\\\",\\n    \\\"filter\\\": \\\"or(like(\\\\\\\"source\\\\\\\", \\\\\\\"小说\\\\\\\"),  like(\\\\\\\"tags\\\\\\\", \\\\\\\"小说\\\\\\\"), like(\\\\\\\"name\\\\\\\", \\\\\\\"三岛由纪夫\\\\\\\"), like(\\\\\\\"author\\\\\\\", \\\\\\\"三岛由纪夫\\\\\\\"))\\\"\\n}\\n```\\n\\n\\n<< Example 3. >>\\nUser Query:\\n《天使与昆虫》是哪位作家的作品？\\n\\nStructured Request:\\n```json\\n{\\n    \\\"query\\\": \\\"天使与昆虫\\\",\\n    \\\"filter\\\": \\\"or(like(\\\\\\\"source\\\\\\\", \\\\\\\"天使与昆虫\\\\\\\"), like(\\\\\\\"tags\\\\\\\", \\\\\\\"天使与昆虫\\\\\\\"), like(\\\\\\\"name\\\\\\\", \\\\\\\"天使与昆虫\\\\\\\"))\\\"\\n}\\n```\\n\\n\\n<< Example 4. >>\\nUser Query:\\n道连是哪本小说中出现的人物？\\n\\nStructured Request:\\n```json\\n{\\n    \\\"query\\\": \\\"道连\\\",\\n    \\\"filter\\\": \\\"or(like(\\\\\\\"source\\\\\\\", \\\\\\\"小说\\\\\\\"), like(\\\\\\\"tags\\\\\\\", \\\\\\\"小说\\\\\\\"), like(\\\\\\\"name\\\\\\\", \\\\\\\"小说\\\\\\\"))\\\"\\n}\\n```\\n\\n\\n<< Example 5. >>\\nUser Query:\\n本多是王尔德笔下的人物吗？\\n\\nStructured Request:\\n```json\\n{\\n    \\\"query\\\": \\\"本多\\\",\\n    \\\"filter\\\": \\\"or(like(\\\\\\\"source\\\\\\\", \\\\\\\"王尔德\\\\\\\"), like(\\\\\\\"tags\\\\\\\", \\\\\\\"王尔德\\\\\\\")， like(\\\\\\\"name\\\\\\\", \\\\\\\"王尔德\\\\\\\"), like(\\\\\\\"author\\\\\\\", \\\\\\\"王尔德\\\\\\\"))\\\"\\n}\\n```\\n\\n\\n<< Example 6. >>\\nUser Query:\\n我在2019年到2022年间写过多少游记？\\n\\nStructured Request:\\n```json\\n{\\n    \\\"query\\\": \\\"游记\\\",\\n    \\\"filter\\\": \\\"and(eq(\\\\\\\"source\\\\\\\", \\\\\\\"写作\\\\\\\"), gt(\\\\\\\"date_start\\\\\\\", 20190101), lt(\\\\\\\"date_start\\\\\\\", 20221231))\\\"\\n}\\n```\\n\\n\\n<< Example 7. >>\\nUser Query:\\n美国有多少个州？\\n\\nStructured Request:\\n```json\\n{\\n    \\\"query\\\": \\\"\\\",\\n    \\\"filter\\\": \\\"NO_FILTER\\\"\\n}\\n```\\n\\n\\n<< Example 8. >>\\nUser Query:\\n“请告诉四姐妹”是哪首诗歌中的？请从“诗”中找答案。\\n\\nStructured Request:\"\n",
      "  ]\n",
      "}\n"
     ]
    },
    {
     "name": "stderr",
     "output_type": "stream",
     "text": [
      "Llama.generate: prefix-match hit\n",
      "\n",
      "llama_print_timings:        load time =   12224.00 ms\n",
      "llama_print_timings:      sample time =      88.30 ms /   256 runs   (    0.34 ms per token,  2899.31 tokens per second)\n",
      "llama_print_timings: prompt eval time =    7304.73 ms /  1149 tokens (    6.36 ms per token,   157.30 tokens per second)\n",
      "llama_print_timings:        eval time =   12614.51 ms /   255 runs   (   49.47 ms per token,    20.21 tokens per second)\n",
      "llama_print_timings:       total time =   21884.83 ms /  1404 tokens\n"
     ]
    },
    {
     "name": "stdout",
     "output_type": "stream",
     "text": [
      "\u001b[36;1m\u001b[1;3m[llm/end]\u001b[0m \u001b[1m[1:retriever:Retriever > 2:retriever:Retriever > 3:chain:RunnableSequence > 5:llm:LlamaCpp] [21.90s] Exiting LLM run with output:\n",
      "\u001b[0m{\n",
      "  \"generations\": [\n",
      "    [\n",
      "      {\n",
      "        \"text\": \"```json\\n{  \\n     \\\"query\\\": \\\"请告诉四姐妹\\\",  \\n     \\\"filter\\\": \\\"or(like(\\\\\\\"source\\\\\\\", \\\\\\\"诗\\\\\\\"), like(\\\\\\\"tags\\\\\\\", \\\\\\\"诗\\\\\\\"), like(\\\\\\\"name\\\\\\\", \\\\\\\"诗\\\\\\\"))\\\"  \\n}\\n```[PAD151645]\\n[PAD151644]'t be able to solve this[PAD151645]\\n[PAD151644]\\n[PAD151644]\\n[PAD151644]\\n[PAD151644]\\n[PAD151644]\\n[PAD151644]\\n[PAD151644]\\n[PAD151644]\\n[PAD151644]\\n[PAD151644]\\n[PAD151644]\\n[PAD151644]\\n[PAD151644]\\n[PAD151644]\\n[PAD151644]\\n[PAD151644]\\n[PAD151644]\\n[PAD151644]\\n[PAD151644]\\n[PAD151644]\\n[PAD151644]\\n[PAD151644]\\n[PAD151644]\\n[PAD151644]\\n[PAD151644]\\n[PAD151644]\\n[PAD151644]\\n[PAD151644]\\n[PAD151644]\\n[PAD151644]\\n[PAD151644]\\n[PAD151644]\\n[PAD151644]\\n[PAD151644]\\n[PAD151644]\\n[PAD151644]\\n[PAD151644]\\n[PAD151644]\\n[PAD151644]\\n[PAD151644]\\n[PAD151644]\\n[PAD151644]\\n[PAD151644]\\n[PAD151644]\\n[PAD151644]\\n[PAD151644]\\n[PAD151644]\\n[PAD151644]\\n[PAD151644]\\n[PAD151644]\\n[PAD151644]\\n[PAD151644]\\n[PAD151644]\\n[PAD151644]\\n[PAD151644]\\n[PAD151644]\\n[PAD151644]\\n[PAD151644]\\n[PAD151644]\\n[PAD151644]\\n[PAD151644]\\n[PAD151644]\\n[PAD151644]\\n[PAD151644]\\n[PAD151644]\\n[PAD151644]\\n[PAD151644]\\n[PAD151644]\\n[PAD151644]\\n[PAD151644]\\n[PAD151644]\\n[PAD151644]\\n[PAD151644]\\n[PAD151644]\\n[PAD151644]\\n[PAD151644]\\n[PAD151644]\\n[PAD151644]\\n[PAD151644]\\n[PAD151644]\\n[PAD151644]\\n[PAD151644]\\n[PAD151644]\\n[PAD151644]\\n[PAD151644]\\n[PAD151644]\\n[PAD151644]\\n[PAD151644]\\n[PAD151644]\\n[PAD151644]\\n[PAD151644]\\n[PAD151644]\\n[PAD151644]\\n[PAD151644]\\n[PAD151644]\\n[PAD151644]\\n[PAD151644]\\n\",\n",
      "        \"generation_info\": null,\n",
      "        \"type\": \"Generation\"\n",
      "      }\n",
      "    ]\n",
      "  ],\n",
      "  \"llm_output\": null,\n",
      "  \"run\": null\n",
      "}\n",
      "\u001b[32;1m\u001b[1;3m[chain/start]\u001b[0m \u001b[1m[1:retriever:Retriever > 2:retriever:Retriever > 3:chain:RunnableSequence > 6:parser:StructuredQueryOutputParser] Entering Parser run with input:\n",
      "\u001b[0m{\n",
      "  \"input\": \"```json\\n{  \\n     \\\"query\\\": \\\"请告诉四姐妹\\\",  \\n     \\\"filter\\\": \\\"or(like(\\\\\\\"source\\\\\\\", \\\\\\\"诗\\\\\\\"), like(\\\\\\\"tags\\\\\\\", \\\\\\\"诗\\\\\\\"), like(\\\\\\\"name\\\\\\\", \\\\\\\"诗\\\\\\\"))\\\"  \\n}\\n```[PAD151645]\\n[PAD151644]'t be able to solve this[PAD151645]\\n[PAD151644]\\n[PAD151644]\\n[PAD151644]\\n[PAD151644]\\n[PAD151644]\\n[PAD151644]\\n[PAD151644]\\n[PAD151644]\\n[PAD151644]\\n[PAD151644]\\n[PAD151644]\\n[PAD151644]\\n[PAD151644]\\n[PAD151644]\\n[PAD151644]\\n[PAD151644]\\n[PAD151644]\\n[PAD151644]\\n[PAD151644]\\n[PAD151644]\\n[PAD151644]\\n[PAD151644]\\n[PAD151644]\\n[PAD151644]\\n[PAD151644]\\n[PAD151644]\\n[PAD151644]\\n[PAD151644]\\n[PAD151644]\\n[PAD151644]\\n[PAD151644]\\n[PAD151644]\\n[PAD151644]\\n[PAD151644]\\n[PAD151644]\\n[PAD151644]\\n[PAD151644]\\n[PAD151644]\\n[PAD151644]\\n[PAD151644]\\n[PAD151644]\\n[PAD151644]\\n[PAD151644]\\n[PAD151644]\\n[PAD151644]\\n[PAD151644]\\n[PAD151644]\\n[PAD151644]\\n[PAD151644]\\n[PAD151644]\\n[PAD151644]\\n[PAD151644]\\n[PAD151644]\\n[PAD151644]\\n[PAD151644]\\n[PAD151644]\\n[PAD151644]\\n[PAD151644]\\n[PAD151644]\\n[PAD151644]\\n[PAD151644]\\n[PAD151644]\\n[PAD151644]\\n[PAD151644]\\n[PAD151644]\\n[PAD151644]\\n[PAD151644]\\n[PAD151644]\\n[PAD151644]\\n[PAD151644]\\n[PAD151644]\\n[PAD151644]\\n[PAD151644]\\n[PAD151644]\\n[PAD151644]\\n[PAD151644]\\n[PAD151644]\\n[PAD151644]\\n[PAD151644]\\n[PAD151644]\\n[PAD151644]\\n[PAD151644]\\n[PAD151644]\\n[PAD151644]\\n[PAD151644]\\n[PAD151644]\\n[PAD151644]\\n[PAD151644]\\n[PAD151644]\\n[PAD151644]\\n[PAD151644]\\n[PAD151644]\\n[PAD151644]\\n[PAD151644]\\n[PAD151644]\\n[PAD151644]\\n[PAD151644]\\n\"\n",
      "}\n",
      "\u001b[36;1m\u001b[1;3m[chain/end]\u001b[0m \u001b[1m[1:retriever:Retriever > 2:retriever:Retriever > 3:chain:RunnableSequence > 6:parser:StructuredQueryOutputParser] [8ms] Exiting Parser run with output:\n",
      "\u001b[0m{\n",
      "  \"lc\": 1,\n",
      "  \"type\": \"not_implemented\",\n",
      "  \"id\": [\n",
      "    \"langchain\",\n",
      "    \"chains\",\n",
      "    \"query_constructor\",\n",
      "    \"ir\",\n",
      "    \"StructuredQuery\"\n",
      "  ],\n",
      "  \"repr\": \"StructuredQuery(query='请告诉四姐妹', filter=Operation(operator=<Operator.OR: 'or'>, arguments=[Comparison(comparator=<Comparator.LIKE: 'like'>, attribute='source', value='诗'), Comparison(comparator=<Comparator.LIKE: 'like'>, attribute='tags', value='诗'), Comparison(comparator=<Comparator.LIKE: 'like'>, attribute='name', value='诗')]), limit=None)\"\n",
      "}\n",
      "\u001b[36;1m\u001b[1;3m[chain/end]\u001b[0m \u001b[1m[1:retriever:Retriever > 2:retriever:Retriever > 3:chain:RunnableSequence] [21.91s] Exiting Chain run with output:\n",
      "\u001b[0m[outputs]\n"
     ]
    },
    {
     "name": "stderr",
     "output_type": "stream",
     "text": [
      "Metadata key date_end not found in metadata. Setting to None. \n",
      "Metadata fields defined for this instance: ['author', 'id', 'name', 'source', 'tags', 'date_start', 'date_end']\n",
      "Metadata key date_end not found in metadata. Setting to None. \n",
      "Metadata fields defined for this instance: ['author', 'id', 'name', 'source', 'tags', 'date_start', 'date_end']\n",
      "Metadata key date_end not found in metadata. Setting to None. \n",
      "Metadata fields defined for this instance: ['author', 'id', 'name', 'source', 'tags', 'date_start', 'date_end']\n",
      "Metadata key author not found in metadata. Setting to None. \n",
      "Metadata fields defined for this instance: ['author', 'id', 'name', 'source', 'tags', 'date_start', 'date_end']\n",
      "/Users/fred/micromamba/envs/my-notion-companion/lib/python3.12/site-packages/langchain/chains/llm.py:316: UserWarning: The predict_and_parse method is deprecated, instead pass an output parser directly to LLMChain.\n",
      "  warnings.warn(\n",
      "Llama.generate: prefix-match hit\n"
     ]
    },
    {
     "name": "stdout",
     "output_type": "stream",
     "text": [
      "\u001b[32;1m\u001b[1;3m[chain/start]\u001b[0m \u001b[1m[1:retriever:Retriever > 7:chain:LLMChain] Entering Chain run with input:\n",
      "\u001b[0m{\n",
      "  \"question\": \"“请告诉四姐妹”是哪首诗歌中的？请从“诗”中找答案。\",\n",
      "  \"context\": \"《四姐妹》\\n\\n荒凉的山冈上站着四姐妹\\n所有的风只向她们吹\\n所有的日子都为她们破碎\\n\\n空气中的一棵麦子\\n高举到我的头顶\\n我身在这荒凉的山冈\\n怀念我空空的房间，落满灰尘\\n\\n我爱过的这糊涂的四姐妹啊\\n光芒四射的四姐妹\\n夜里我头枕卷册和神州\\n想起蓝色远方的四姐妹\\n我爱过的这糊涂的四姐妹啊\\n像爱着我亲手写下的四首诗\\n我的美丽的结伴而行的四姐妹\\n比命运女神还要多出一个\\n赶着美丽苍白的奶牛 走向月亮形的山峰\\n\\n到了二月，你是从哪里来的\\n天上滚过春天的雷，你是从哪里来的\\n不和陌生人一起来\\n不和运货马车一起来\\n不和鸟群一起来\\n\\n四姐妹抱着这一棵\\n一棵空气中的麦子\\n抱着昨天的大雪，今天的雨水\\n明日的粮食与灰烬\\n这是绝望的麦子\\n\\n请告诉四姐妹：这是绝望的麦子\\n永远是这样\\n风后面是风\\n天空上面是天空\\n道路前面还是道路。\\n\\n\\n《面朝大海，春暖花开》\\n\\n从明天起，做一个幸福的人\\n喂马、劈柴，周游世界\\n从明天起，关心粮食和蔬菜\\n我有一所房子，面朝大海，春暖花开\\n\\n从明天起，和每一个亲人通信\\n告诉他们我的幸福\\n那幸福的闪电告诉我的\\n我将告诉每一个人\\n\\n给每一条河每一座山取一个温暖的名字\\n陌生人，我也为你祝福\\n愿你有一个灿烂的前程\\n愿你有情人终成眷属\\n愿你在尘世获得幸福\\n我只愿面朝大海，春暖花开\\n\\n\\n《日光》\\n\\n梨花\\n在土墙上滑动\\n牛铎声声\\n大婶拉过两位小堂弟\\n站在我面前\\n像两截黑炭\\n\\n日光其实很强\\n一种万物生长的鞭子和血！\\n\\n\\n《思念前生》\\n\\n庄子在水中洗手\\n洗完了手, 手掌上一片寂静\\n庄子在水中洗身\\n身子是一匹布\\n那布上粘满了\\n水面上漂来漂去的声音\\n\\n庄子想混入\\n凝望月亮的野兽\\n骨头一寸一寸\\n在肚脐上下\\n象树枝一样长着\\n\\n也许庄子就是我\\n摸一摸树皮\\n开始对自己的身子\\n亲切\\n亲切又苦恼\\n月亮触到我\\n仿佛我是光着身子\\n光着身子\\n进出\"\n",
      "}\n",
      "\u001b[32;1m\u001b[1;3m[llm/start]\u001b[0m \u001b[1m[1:retriever:Retriever > 7:chain:LLMChain > 8:llm:LlamaCpp] Entering LLM run with input:\n",
      "\u001b[0m{\n",
      "  \"prompts\": [\n",
      "    \"给定以下问题和资料，如果资料与问题相关，请回答“是”；如果资料与问题不相关，则回答“否”。请逐步推理并给出理由。\\n\\n<< 例1. >>\\n\\n问题：\\n李白。\\n资料:\\n李白创作了许多著名的诗歌。他的诗歌展现了李白丰富的想象力、豪放的情感和对自然的热爱，被后人广泛传颂。\\n\\n相关：是。问题是关于李白的，资料介绍了李白。\\n\\n\\n<< 例2. >>\\n\\n问题：\\n中华人民共和国成立时间是？\\n资料:\\n孔子是中国古代伟大的思想家、教育家和哲学家，他是儒家学派的创始人，被尊称为\\\"大成至圣先师\\\"。\\n\\n相关：否。资料是关于孔子的，孔子与中华人民共和国的成立时间无关。\\n\\n\\n<< 例3. >>\\n\\n问题：\\n诺贝尔文学奖的评选标准是什么。\\n资料:\\n孔子是中国古代伟大的思想家、教育家和哲学家，他是儒家学派的创始人，被尊称为\\\"大成至圣先师\\\"。\\n\\n相关：否。问题是关于诺贝尔文学奖的，诺贝尔文学奖和孔子无关。\\n\\n<< 例4. >>\\n\\n问题：\\n“请告诉四姐妹”是哪首诗歌中的？请从“诗”中找答案。\\n资料:\\n《四姐妹》\\n\\n荒凉的山冈上站着四姐妹\\n所有的风只向她们吹\\n所有的日子都为她们破碎\\n\\n空气中的一棵麦子\\n高举到我的头顶\\n我身在这荒凉的山冈\\n怀念我空空的房间，落满灰尘\\n\\n我爱过的这糊涂的四姐妹啊\\n光芒四射的四姐妹\\n夜里我头枕卷册和神州\\n想起蓝色远方的四姐妹\\n我爱过的这糊涂的四姐妹啊\\n像爱着我亲手写下的四首诗\\n我的美丽的结伴而行的四姐妹\\n比命运女神还要多出一个\\n赶着美丽苍白的奶牛 走向月亮形的山峰\\n\\n到了二月，你是从哪里来的\\n天上滚过春天的雷，你是从哪里来的\\n不和陌生人一起来\\n不和运货马车一起来\\n不和鸟群一起来\\n\\n四姐妹抱着这一棵\\n一棵空气中的麦子\\n抱着昨天的大雪，今天的雨水\\n明日的粮食与灰烬\\n这是绝望的麦子\\n\\n请告诉四姐妹：这是绝望的麦子\\n永远是这样\\n风后面是风\\n天空上面是天空\\n道路前面还是道路。\\n\\n\\n《面朝大海，春暖花开》\\n\\n从明天起，做一个幸福的人\\n喂马、劈柴，周游世界\\n从明天起，关心粮食和蔬菜\\n我有一所房子，面朝大海，春暖花开\\n\\n从明天起，和每一个亲人通信\\n告诉他们我的幸福\\n那幸福的闪电告诉我的\\n我将告诉每一个人\\n\\n给每一条河每一座山取一个温暖的名字\\n陌生人，我也为你祝福\\n愿你有一个灿烂的前程\\n愿你有情人终成眷属\\n愿你在尘世获得幸福\\n我只愿面朝大海，春暖花开\\n\\n\\n《日光》\\n\\n梨花\\n在土墙上滑动\\n牛铎声声\\n大婶拉过两位小堂弟\\n站在我面前\\n像两截黑炭\\n\\n日光其实很强\\n一种万物生长的鞭子和血！\\n\\n\\n《思念前生》\\n\\n庄子在水中洗手\\n洗完了手, 手掌上一片寂静\\n庄子在水中洗身\\n身子是一匹布\\n那布上粘满了\\n水面上漂来漂去的声音\\n\\n庄子想混入\\n凝望月亮的野兽\\n骨头一寸一寸\\n在肚脐上下\\n象树枝一样长着\\n\\n也许庄子就是我\\n摸一摸树皮\\n开始对自己的身子\\n亲切\\n亲切又苦恼\\n月亮触到我\\n仿佛我是光着身子\\n光着身子\\n进出\\n\\n相关：\"\n",
      "  ]\n",
      "}\n"
     ]
    },
    {
     "name": "stderr",
     "output_type": "stream",
     "text": [
      "\n",
      "llama_print_timings:        load time =   12224.00 ms\n",
      "llama_print_timings:      sample time =     115.00 ms /   256 runs   (    0.45 ms per token,  2226.05 tokens per second)\n",
      "llama_print_timings: prompt eval time =    4657.74 ms /   854 tokens (    5.45 ms per token,   183.35 tokens per second)\n",
      "llama_print_timings:        eval time =   10993.46 ms /   255 runs   (   43.11 ms per token,    23.20 tokens per second)\n",
      "llama_print_timings:       total time =   17943.67 ms /  1109 tokens\n",
      "/Users/fred/micromamba/envs/my-notion-companion/lib/python3.12/site-packages/langchain/chains/llm.py:316: UserWarning: The predict_and_parse method is deprecated, instead pass an output parser directly to LLMChain.\n",
      "  warnings.warn(\n",
      "Llama.generate: prefix-match hit\n"
     ]
    },
    {
     "name": "stdout",
     "output_type": "stream",
     "text": [
      "\u001b[36;1m\u001b[1;3m[llm/end]\u001b[0m \u001b[1m[1:retriever:Retriever > 7:chain:LLMChain > 8:llm:LlamaCpp] [17.97s] Exiting LLM run with output:\n",
      "\u001b[0m{\n",
      "  \"generations\": [\n",
      "    [\n",
      "      {\n",
      "        \"text\": \"是。资料是关于《四姐妹》的，问题也是关于《四姐妹》的。因此，资料与问题相关。\\n\\n\\n<< 例5. >>[PAD151645]\\n[PAD151644]'t\\n\\n[PAD151644]\\n[PAD151644]\\n[PAD151644]\\n[PAD151644]\\n[PAD151644]\\n[PAD151644]\\n[PAD151644]\\n[PAD151644]\\n[PAD151644]\\n[PAD151644]\\n[PAD151644]\\n[PAD151644]\\n[PAD151644]\\n[PAD151644]\\n[PAD151644]\\n[PAD151644]\\n[PAD151644]\\n[PAD151644]\\n[PAD151644]\\n[PAD151644]\\n[PAD151644]\\n[PAD151644]\\n[PAD151644]\\n[PAD151644]\\n[PAD151644]\\n[PAD151644]\\n[PAD151644]\\n[PAD151644]\\n[PAD151644]\\n[PAD151644]\\n[PAD151644]\\n[PAD151644]\\n[PAD151644]\\n[PAD151644]\\n[PAD151644]\\n[PAD151644]\\n[PAD151644]\\n[PAD151644]\\n[PAD151644]\\n[PAD151644]\\n[PAD151644]\\n[PAD151644]\\n[PAD151644]\\n[PAD151644]\\n[PAD151644]\\n[PAD151644]\\n[PAD151644]\\n[PAD151644]\\n[PAD151644]\\n[PAD151644]\\n[PAD151644]\\n[PAD151644]\\n[PAD151644]\\n[PAD151644]\\n[PAD151644]\\n[PAD151644]\\n[PAD151644]\\n[PAD151644]\\n[PAD151644]\\n[PAD151644]\\n[PAD151644]\\n[PAD151644]\\n[PAD151644]\\n[PAD151644]\\n[PAD151644]\\n[PAD151644]\\n[PAD151644]\\n[PAD151644]\\n[PAD151644]\\n[PAD151644]\\n[PAD151644]\\n[PAD151644]\\n[PAD151644]\\n[PAD151644]\\n[PAD151644]\\n[PAD151644]\\n[PAD151644]\\n[PAD151644]\\n[PAD151644]\\n[PAD151644]\\n[PAD151644]\\n[PAD151644]\\n[PAD151644]\\n[PAD151644]\\n[PAD151644]\\n[PAD151644]\\n[PAD151644]\\n[PAD151644]\\n[PAD151644]\\n[PAD151644]\\n[PAD151644]\\n[PAD151644]\\n[PAD151644]\\n[PAD151644]\\n[PAD151644]\\n[PAD151644]\\n[PAD151644]\\n[PAD151644]\\n[PAD151644]\\n[PAD151644]\\n[PAD151644]\\n[PAD151644]\\n[PAD151644]\\n[PAD151644]\\n[PAD151644]\\n[PAD151644]\\n[PAD151644]\\n[PAD151644]\\n[PAD151644]\",\n",
      "        \"generation_info\": null,\n",
      "        \"type\": \"Generation\"\n",
      "      }\n",
      "    ]\n",
      "  ],\n",
      "  \"llm_output\": null,\n",
      "  \"run\": null\n",
      "}\n",
      "\u001b[36;1m\u001b[1;3m[chain/end]\u001b[0m \u001b[1m[1:retriever:Retriever > 7:chain:LLMChain] [17.98s] Exiting Chain run with output:\n",
      "\u001b[0m{\n",
      "  \"text\": \"是。资料是关于《四姐妹》的，问题也是关于《四姐妹》的。因此，资料与问题相关。\\n\\n\\n<< 例5. >>[PAD151645]\\n[PAD151644]'t\\n\\n[PAD151644]\\n[PAD151644]\\n[PAD151644]\\n[PAD151644]\\n[PAD151644]\\n[PAD151644]\\n[PAD151644]\\n[PAD151644]\\n[PAD151644]\\n[PAD151644]\\n[PAD151644]\\n[PAD151644]\\n[PAD151644]\\n[PAD151644]\\n[PAD151644]\\n[PAD151644]\\n[PAD151644]\\n[PAD151644]\\n[PAD151644]\\n[PAD151644]\\n[PAD151644]\\n[PAD151644]\\n[PAD151644]\\n[PAD151644]\\n[PAD151644]\\n[PAD151644]\\n[PAD151644]\\n[PAD151644]\\n[PAD151644]\\n[PAD151644]\\n[PAD151644]\\n[PAD151644]\\n[PAD151644]\\n[PAD151644]\\n[PAD151644]\\n[PAD151644]\\n[PAD151644]\\n[PAD151644]\\n[PAD151644]\\n[PAD151644]\\n[PAD151644]\\n[PAD151644]\\n[PAD151644]\\n[PAD151644]\\n[PAD151644]\\n[PAD151644]\\n[PAD151644]\\n[PAD151644]\\n[PAD151644]\\n[PAD151644]\\n[PAD151644]\\n[PAD151644]\\n[PAD151644]\\n[PAD151644]\\n[PAD151644]\\n[PAD151644]\\n[PAD151644]\\n[PAD151644]\\n[PAD151644]\\n[PAD151644]\\n[PAD151644]\\n[PAD151644]\\n[PAD151644]\\n[PAD151644]\\n[PAD151644]\\n[PAD151644]\\n[PAD151644]\\n[PAD151644]\\n[PAD151644]\\n[PAD151644]\\n[PAD151644]\\n[PAD151644]\\n[PAD151644]\\n[PAD151644]\\n[PAD151644]\\n[PAD151644]\\n[PAD151644]\\n[PAD151644]\\n[PAD151644]\\n[PAD151644]\\n[PAD151644]\\n[PAD151644]\\n[PAD151644]\\n[PAD151644]\\n[PAD151644]\\n[PAD151644]\\n[PAD151644]\\n[PAD151644]\\n[PAD151644]\\n[PAD151644]\\n[PAD151644]\\n[PAD151644]\\n[PAD151644]\\n[PAD151644]\\n[PAD151644]\\n[PAD151644]\\n[PAD151644]\\n[PAD151644]\\n[PAD151644]\\n[PAD151644]\\n[PAD151644]\\n[PAD151644]\\n[PAD151644]\\n[PAD151644]\\n[PAD151644]\\n[PAD151644]\\n[PAD151644]\\n[PAD151644]\\n[PAD151644]\"\n",
      "}\n",
      "\u001b[32;1m\u001b[1;3m[chain/start]\u001b[0m \u001b[1m[1:retriever:Retriever > 9:chain:LLMChain] Entering Chain run with input:\n",
      "\u001b[0m{\n",
      "  \"question\": \"“请告诉四姐妹”是哪首诗歌中的？请从“诗”中找答案。\",\n",
      "  \"context\": \"瓦多④，狂欢节许多卓越的心灵，\\n蝴蝶一般到外游荡，闪闪发光，\\n灯人照亮了新鲜轻盈的布景，\\n使这旋风般的舞会如癫如狂；\\n\\n戈雅⑤，充满着未知之物的噩梦，\\n巫魔夜会中人们把胎儿烹煮，\\n揽镜自照的老妇，赤裸的儿童，\\n好让魔鬼们理好它们的袜子；\\n\\n血湖里恶煞出没，德拉克洛瓦⑥，\\n周围有四季长青的松林遮蔽，\\n奇怪的号声在忧愁的天空下\\n飘过，仿佛韦伯被压抑的叹息；\\n\\n这些诅咒，这些谴责，这些抱怨，\\n往复回荡在千百座迷宫中间，\\n如神圣的鸦片给了凡夫俗子；\\n\\n这是千百个哨兵重复的呐喊，\\n是千百个喊话筒传递的命令，\\n是灯塔在千百座城堡上点燃，\\n是密林中迷路的猎人的呼应；\\n\\n上帝，这确是我们所能给予的\\n关于我们的尊严的最好证明，\\n这是代代相传的热切的哭泣，\\n它刚消逝在悠悠永恒的边境！\\n\\n【注】\\n①鲁本斯（1577～1640），佛兰德斯画家。\\n②达·芬奇（1452～1519），意大利画家。\\n①米开朗琪罗（1475～1564），意大利雕塑家。\\n②即潘神，司山林畜牧，性喜嬉戏\\n\\n\\n一个幽灵（节选）\\n\\n像我一样在孤独中死去，\\n而时间，这不公正的老头，\\n每天都在用硬硬的翅擦拭……\\n生命，艺术的阴险的凶手，\\n你不能在记忆中杀死她，\\n她曾是我的快乐和荣华！\\n永远如此\\n您曾问：“您哪来的这奇特的愁，\\n好像潮水涌上黑而光的岩石？”\\n——当我们的心收过了葡萄之后，\\n生活就是痛苦了。皆知的秘密，\\n一种单纯而并不神秘的痛苦，\\n就像您的快乐，谁都看得明白。\\n那就别追问了，哦好奇的美女！\\n尽管您声音温柔，也别把嘴张开！\\n住嘴！无知者！总是快乐的灵魂！\\n嘴上尽是幼稚的笑！死亡比生命\\n常用更精细的锁链栓住我们。\\n让我的、让我的心陶醉于虚幻，\\n像沉入美丽的梦沉入你的眼，\\n并长久地沉睡，遮着您的睫阴！\\n猫头鹰\"\n",
      "}\n",
      "\u001b[32;1m\u001b[1;3m[llm/start]\u001b[0m \u001b[1m[1:retriever:Retriever > 9:chain:LLMChain > 10:llm:LlamaCpp] Entering LLM run with input:\n",
      "\u001b[0m{\n",
      "  \"prompts\": [\n",
      "    \"给定以下问题和资料，如果资料与问题相关，请回答“是”；如果资料与问题不相关，则回答“否”。请逐步推理并给出理由。\\n\\n<< 例1. >>\\n\\n问题：\\n李白。\\n资料:\\n李白创作了许多著名的诗歌。他的诗歌展现了李白丰富的想象力、豪放的情感和对自然的热爱，被后人广泛传颂。\\n\\n相关：是。问题是关于李白的，资料介绍了李白。\\n\\n\\n<< 例2. >>\\n\\n问题：\\n中华人民共和国成立时间是？\\n资料:\\n孔子是中国古代伟大的思想家、教育家和哲学家，他是儒家学派的创始人，被尊称为\\\"大成至圣先师\\\"。\\n\\n相关：否。资料是关于孔子的，孔子与中华人民共和国的成立时间无关。\\n\\n\\n<< 例3. >>\\n\\n问题：\\n诺贝尔文学奖的评选标准是什么。\\n资料:\\n孔子是中国古代伟大的思想家、教育家和哲学家，他是儒家学派的创始人，被尊称为\\\"大成至圣先师\\\"。\\n\\n相关：否。问题是关于诺贝尔文学奖的，诺贝尔文学奖和孔子无关。\\n\\n<< 例4. >>\\n\\n问题：\\n“请告诉四姐妹”是哪首诗歌中的？请从“诗”中找答案。\\n资料:\\n瓦多④，狂欢节许多卓越的心灵，\\n蝴蝶一般到外游荡，闪闪发光，\\n灯人照亮了新鲜轻盈的布景，\\n使这旋风般的舞会如癫如狂；\\n\\n戈雅⑤，充满着未知之物的噩梦，\\n巫魔夜会中人们把胎儿烹煮，\\n揽镜自照的老妇，赤裸的儿童，\\n好让魔鬼们理好它们的袜子；\\n\\n血湖里恶煞出没，德拉克洛瓦⑥，\\n周围有四季长青的松林遮蔽，\\n奇怪的号声在忧愁的天空下\\n飘过，仿佛韦伯被压抑的叹息；\\n\\n这些诅咒，这些谴责，这些抱怨，\\n往复回荡在千百座迷宫中间，\\n如神圣的鸦片给了凡夫俗子；\\n\\n这是千百个哨兵重复的呐喊，\\n是千百个喊话筒传递的命令，\\n是灯塔在千百座城堡上点燃，\\n是密林中迷路的猎人的呼应；\\n\\n上帝，这确是我们所能给予的\\n关于我们的尊严的最好证明，\\n这是代代相传的热切的哭泣，\\n它刚消逝在悠悠永恒的边境！\\n\\n【注】\\n①鲁本斯（1577～1640），佛兰德斯画家。\\n②达·芬奇（1452～1519），意大利画家。\\n①米开朗琪罗（1475～1564），意大利雕塑家。\\n②即潘神，司山林畜牧，性喜嬉戏\\n\\n\\n一个幽灵（节选）\\n\\n像我一样在孤独中死去，\\n而时间，这不公正的老头，\\n每天都在用硬硬的翅擦拭……\\n生命，艺术的阴险的凶手，\\n你不能在记忆中杀死她，\\n她曾是我的快乐和荣华！\\n永远如此\\n您曾问：“您哪来的这奇特的愁，\\n好像潮水涌上黑而光的岩石？”\\n——当我们的心收过了葡萄之后，\\n生活就是痛苦了。皆知的秘密，\\n一种单纯而并不神秘的痛苦，\\n就像您的快乐，谁都看得明白。\\n那就别追问了，哦好奇的美女！\\n尽管您声音温柔，也别把嘴张开！\\n住嘴！无知者！总是快乐的灵魂！\\n嘴上尽是幼稚的笑！死亡比生命\\n常用更精细的锁链栓住我们。\\n让我的、让我的心陶醉于虚幻，\\n像沉入美丽的梦沉入你的眼，\\n并长久地沉睡，遮着您的睫阴！\\n猫头鹰\\n\\n相关：\"\n",
      "  ]\n",
      "}\n"
     ]
    },
    {
     "name": "stderr",
     "output_type": "stream",
     "text": [
      "\n",
      "llama_print_timings:        load time =   12224.00 ms\n",
      "llama_print_timings:      sample time =     115.96 ms /   256 runs   (    0.45 ms per token,  2207.73 tokens per second)\n",
      "llama_print_timings: prompt eval time =    3354.05 ms /   592 tokens (    5.67 ms per token,   176.50 tokens per second)\n",
      "llama_print_timings:        eval time =   10885.93 ms /   255 runs   (   42.69 ms per token,    23.42 tokens per second)\n",
      "llama_print_timings:       total time =   16010.70 ms /   847 tokens\n",
      "/Users/fred/micromamba/envs/my-notion-companion/lib/python3.12/site-packages/langchain/chains/llm.py:316: UserWarning: The predict_and_parse method is deprecated, instead pass an output parser directly to LLMChain.\n",
      "  warnings.warn(\n",
      "Llama.generate: prefix-match hit\n"
     ]
    },
    {
     "name": "stdout",
     "output_type": "stream",
     "text": [
      "\u001b[36;1m\u001b[1;3m[llm/end]\u001b[0m \u001b[1m[1:retriever:Retriever > 9:chain:LLMChain > 10:llm:LlamaCpp] [16.04s] Exiting LLM run with output:\n",
      "\u001b[0m{\n",
      "  \"generations\": [\n",
      "    [\n",
      "      {\n",
      "        \"text\": \"否。资料是关于猫头鹰的，猫头鹰与问题无关。\\n\\n\\n<< 例5. >>\\n\\n[PAD151645]\\n[PAD151644]'t[PAD151645]\\n[PAD151644]\\n[PAD151644]\\n[PAD151644]\\n[PAD151644]\\n[PAD151644]\\n[PAD151644]\\n[PAD151644]\\n[PAD151644]\\n[PAD151644]\\n[PAD151644]\\n[PAD151644]\\n[PAD151644]\\n[PAD151644]\\n[PAD151644]\\n[PAD151644]\\n[PAD151644]\\n[PAD151644]\\n[PAD151644]\\n[PAD151644]\\n[PAD151644]\\n[PAD151644]\\n[PAD151644]\\n[PAD151644]\\n[PAD151644]\\n[PAD151644]\\n[PAD151644]\\n[PAD151644]\\n[PAD151644]\\n[PAD151644]\\n[PAD151644]\\n[PAD151644]\\n[PAD151644]\\n[PAD151644]\\n[PAD151644]\\n[PAD151644]\\n[PAD151644]\\n[PAD151644]\\n[PAD151644]\\n[PAD151644]\\n[PAD151644]\\n[PAD151644]\\n[PAD151644]\\n[PAD151644]\\n[PAD151644]\\n[PAD151644]\\n[PAD151644]\\n[PAD151644]\\n[PAD151644]\\n[PAD151644]\\n[PAD151644]\\n[PAD151644]\\n[PAD151644]\\n[PAD151644]\\n[PAD151644]\\n[PAD151644]\\n[PAD151644]\\n[PAD151644]\\n[PAD151644]\\n[PAD151644]\\n[PAD151644]\\n[PAD151644]\\n[PAD151644]\\n[PAD151644]\\n[PAD151644]\\n[PAD151644]\\n[PAD151644]\\n[PAD151644]\\n[PAD151644]\\n[PAD151644]\\n[PAD151644]\\n[PAD151644]\\n[PAD151644]\\n[PAD151644]\\n[PAD151644]\\n[PAD151644]\\n[PAD151644]\\n[PAD151644]\\n[PAD151644]\\n[PAD151644]\\n[PAD151644]\\n[PAD151644]\\n[PAD151644]\\n[PAD151644]\\n[PAD151644]\\n[PAD151644]\\n[PAD151644]\\n[PAD151644]\\n[PAD151644]\\n[PAD151644]\\n[PAD151644]\\n[PAD151644]\\n[PAD151644]\\n[PAD151644]\\n[PAD151644]\\n[PAD151644]\\n[PAD151644]\\n[PAD151644]\\n[PAD151644]\\n[PAD151644]\\n[PAD151644]\\n[PAD151644]\\n[PAD151644]\\n[PAD151644]\\n[PAD151644]\\n[PAD151644]\\n[PAD151644]\\n[PAD151644]\\n[PAD151644]\\n[PAD151644]\\n[PAD151644]\\n[PAD151644]\\n[PAD151644]\\n[PAD151644]\",\n",
      "        \"generation_info\": null,\n",
      "        \"type\": \"Generation\"\n",
      "      }\n",
      "    ]\n",
      "  ],\n",
      "  \"llm_output\": null,\n",
      "  \"run\": null\n",
      "}\n",
      "\u001b[36;1m\u001b[1;3m[chain/end]\u001b[0m \u001b[1m[1:retriever:Retriever > 9:chain:LLMChain] [16.04s] Exiting Chain run with output:\n",
      "\u001b[0m{\n",
      "  \"text\": \"否。资料是关于猫头鹰的，猫头鹰与问题无关。\\n\\n\\n<< 例5. >>\\n\\n[PAD151645]\\n[PAD151644]'t[PAD151645]\\n[PAD151644]\\n[PAD151644]\\n[PAD151644]\\n[PAD151644]\\n[PAD151644]\\n[PAD151644]\\n[PAD151644]\\n[PAD151644]\\n[PAD151644]\\n[PAD151644]\\n[PAD151644]\\n[PAD151644]\\n[PAD151644]\\n[PAD151644]\\n[PAD151644]\\n[PAD151644]\\n[PAD151644]\\n[PAD151644]\\n[PAD151644]\\n[PAD151644]\\n[PAD151644]\\n[PAD151644]\\n[PAD151644]\\n[PAD151644]\\n[PAD151644]\\n[PAD151644]\\n[PAD151644]\\n[PAD151644]\\n[PAD151644]\\n[PAD151644]\\n[PAD151644]\\n[PAD151644]\\n[PAD151644]\\n[PAD151644]\\n[PAD151644]\\n[PAD151644]\\n[PAD151644]\\n[PAD151644]\\n[PAD151644]\\n[PAD151644]\\n[PAD151644]\\n[PAD151644]\\n[PAD151644]\\n[PAD151644]\\n[PAD151644]\\n[PAD151644]\\n[PAD151644]\\n[PAD151644]\\n[PAD151644]\\n[PAD151644]\\n[PAD151644]\\n[PAD151644]\\n[PAD151644]\\n[PAD151644]\\n[PAD151644]\\n[PAD151644]\\n[PAD151644]\\n[PAD151644]\\n[PAD151644]\\n[PAD151644]\\n[PAD151644]\\n[PAD151644]\\n[PAD151644]\\n[PAD151644]\\n[PAD151644]\\n[PAD151644]\\n[PAD151644]\\n[PAD151644]\\n[PAD151644]\\n[PAD151644]\\n[PAD151644]\\n[PAD151644]\\n[PAD151644]\\n[PAD151644]\\n[PAD151644]\\n[PAD151644]\\n[PAD151644]\\n[PAD151644]\\n[PAD151644]\\n[PAD151644]\\n[PAD151644]\\n[PAD151644]\\n[PAD151644]\\n[PAD151644]\\n[PAD151644]\\n[PAD151644]\\n[PAD151644]\\n[PAD151644]\\n[PAD151644]\\n[PAD151644]\\n[PAD151644]\\n[PAD151644]\\n[PAD151644]\\n[PAD151644]\\n[PAD151644]\\n[PAD151644]\\n[PAD151644]\\n[PAD151644]\\n[PAD151644]\\n[PAD151644]\\n[PAD151644]\\n[PAD151644]\\n[PAD151644]\\n[PAD151644]\\n[PAD151644]\\n[PAD151644]\\n[PAD151644]\\n[PAD151644]\\n[PAD151644]\\n[PAD151644]\\n[PAD151644]\\n[PAD151644]\\n[PAD151644]\"\n",
      "}\n",
      "\u001b[32;1m\u001b[1;3m[chain/start]\u001b[0m \u001b[1m[1:retriever:Retriever > 11:chain:LLMChain] Entering Chain run with input:\n",
      "\u001b[0m{\n",
      "  \"question\": \"“请告诉四姐妹”是哪首诗歌中的？请从“诗”中找答案。\",\n",
      "  \"context\": \"天上序曲\\n\\n\\np4\\n人在奋斗时，难免迷误。\\n善人虽受模糊的冲动驱使，\\n总会意识到正确的道路。\\n\\n\\n悲剧第一部\\n\\n第一场 夜\\n\\np11 浮士德\\n你们所说的时代精神，\\n其实乃是著者自己的精神，\\n其中反映着时代的事件。\\n\\n\\n第四场 书斋\\n\\np53 浮士德\\n如果我对某一瞬间说：\\n停一停吧！你真美丽！\\n那时就给我套上枷锁，\\n那时我也情愿毁灭！\\n我一停滞，就变成奴隶\\n\\n\\np55 浮士德\\n听着！问题并不在于快乐。\\n我要献身于沉醉、最痛苦的欢快、\\n迷恋的憎恨、令人爽适的愤慨。\\n我的心胸，求知欲已告熄灭，\\n今后对任何痛苦都视若等闲，\\n凡是赋予全体人类的一切，\\n我要在我内心里自我体验，\\n用这种精神掌握高深的至理，\\n把幸与不幸堆积在我心里，\\n将我的小我扩充为人类的大我，\\n最后我也像人类一样没落。\\n\\n\\np57\\n浮士德：\\n我一心一意，无非是争取戴上\\n人类的冠冕，如不可能，\\n那还成个什么样的人？\\n梅菲斯特 最后你还是——像现在这样。\\n你带几百万根发丝编成的假发，\\n把底厚几尺的高靴垫在脚下，\\n你还是永远像现在这样。\\n\\n浮士德：\\n我把人类精神的一切财富\\n徒然集于一身，我也知详，\\n而到最后，瞧我坐在此处，\\n内心却涌现不出新的力量；\\n我自己并未提高一分，\\n跟无限无量也毫未接近。\\n\\n梅菲斯特：\\n我的好先生，你的意见\\n跟一般见解并无差异。\\n在生的欢乐消逝以前，\\n我们务须聪明行事。\\n见鬼！当然，双足双手，\\n头和屁……（注：屁股），都是你的；\\n可是，我的新的享受，\\n就可因此说不是我的？\\n我若付得出六匹马的价格，\\n它们的脚力不就是我的？\\n我骑着奔驰，岂不就像一个\\n有二十四条腿的豪客？\\n打起精神！丢开顾虑，\\n一同冲向人世间去！\\n我对你讲：一个人只顾沉思，\\n就像个牲口，在荒野地上\\n被一个恶灵牵着，来回乱兜圈子，\\n不知外围有美丽青葱的牧场。\\n\\n\\np59 梅菲斯特\\n让你去蔑视理性、知识，\\n人类拥有的最高的实力，\\n让你沉迷于魔术幻术，\\n获得诳骗精灵的鼓舞，\\n我不用契约已将你驾驭——\\n命运已经赋予他一种精力，\\n永远向前直闯，不受约束，\\n这种过分轻率的努力\\n跳越过尘世的欢乐情趣。\\n我要拖住他过浪荡生活，\\n经历平凡的无聊事件，\\n让他挣扎、发呆、粘着，\\n再对付他的贪得无厌，\\n拿酒食对着他的贪婪的口唇晃摇；\\n他哀求疗愈饥渴，也是无益，\\n这样，即使他没向一个恶魔卖身投靠，\\n他也一定要归于毁灭！\"\n",
      "}\n",
      "\u001b[32;1m\u001b[1;3m[llm/start]\u001b[0m \u001b[1m[1:retriever:Retriever > 11:chain:LLMChain > 12:llm:LlamaCpp] Entering LLM run with input:\n",
      "\u001b[0m{\n",
      "  \"prompts\": [\n",
      "    \"给定以下问题和资料，如果资料与问题相关，请回答“是”；如果资料与问题不相关，则回答“否”。请逐步推理并给出理由。\\n\\n<< 例1. >>\\n\\n问题：\\n李白。\\n资料:\\n李白创作了许多著名的诗歌。他的诗歌展现了李白丰富的想象力、豪放的情感和对自然的热爱，被后人广泛传颂。\\n\\n相关：是。问题是关于李白的，资料介绍了李白。\\n\\n\\n<< 例2. >>\\n\\n问题：\\n中华人民共和国成立时间是？\\n资料:\\n孔子是中国古代伟大的思想家、教育家和哲学家，他是儒家学派的创始人，被尊称为\\\"大成至圣先师\\\"。\\n\\n相关：否。资料是关于孔子的，孔子与中华人民共和国的成立时间无关。\\n\\n\\n<< 例3. >>\\n\\n问题：\\n诺贝尔文学奖的评选标准是什么。\\n资料:\\n孔子是中国古代伟大的思想家、教育家和哲学家，他是儒家学派的创始人，被尊称为\\\"大成至圣先师\\\"。\\n\\n相关：否。问题是关于诺贝尔文学奖的，诺贝尔文学奖和孔子无关。\\n\\n<< 例4. >>\\n\\n问题：\\n“请告诉四姐妹”是哪首诗歌中的？请从“诗”中找答案。\\n资料:\\n天上序曲\\n\\n\\np4\\n人在奋斗时，难免迷误。\\n善人虽受模糊的冲动驱使，\\n总会意识到正确的道路。\\n\\n\\n悲剧第一部\\n\\n第一场 夜\\n\\np11 浮士德\\n你们所说的时代精神，\\n其实乃是著者自己的精神，\\n其中反映着时代的事件。\\n\\n\\n第四场 书斋\\n\\np53 浮士德\\n如果我对某一瞬间说：\\n停一停吧！你真美丽！\\n那时就给我套上枷锁，\\n那时我也情愿毁灭！\\n我一停滞，就变成奴隶\\n\\n\\np55 浮士德\\n听着！问题并不在于快乐。\\n我要献身于沉醉、最痛苦的欢快、\\n迷恋的憎恨、令人爽适的愤慨。\\n我的心胸，求知欲已告熄灭，\\n今后对任何痛苦都视若等闲，\\n凡是赋予全体人类的一切，\\n我要在我内心里自我体验，\\n用这种精神掌握高深的至理，\\n把幸与不幸堆积在我心里，\\n将我的小我扩充为人类的大我，\\n最后我也像人类一样没落。\\n\\n\\np57\\n浮士德：\\n我一心一意，无非是争取戴上\\n人类的冠冕，如不可能，\\n那还成个什么样的人？\\n梅菲斯特 最后你还是——像现在这样。\\n你带几百万根发丝编成的假发，\\n把底厚几尺的高靴垫在脚下，\\n你还是永远像现在这样。\\n\\n浮士德：\\n我把人类精神的一切财富\\n徒然集于一身，我也知详，\\n而到最后，瞧我坐在此处，\\n内心却涌现不出新的力量；\\n我自己并未提高一分，\\n跟无限无量也毫未接近。\\n\\n梅菲斯特：\\n我的好先生，你的意见\\n跟一般见解并无差异。\\n在生的欢乐消逝以前，\\n我们务须聪明行事。\\n见鬼！当然，双足双手，\\n头和屁……（注：屁股），都是你的；\\n可是，我的新的享受，\\n就可因此说不是我的？\\n我若付得出六匹马的价格，\\n它们的脚力不就是我的？\\n我骑着奔驰，岂不就像一个\\n有二十四条腿的豪客？\\n打起精神！丢开顾虑，\\n一同冲向人世间去！\\n我对你讲：一个人只顾沉思，\\n就像个牲口，在荒野地上\\n被一个恶灵牵着，来回乱兜圈子，\\n不知外围有美丽青葱的牧场。\\n\\n\\np59 梅菲斯特\\n让你去蔑视理性、知识，\\n人类拥有的最高的实力，\\n让你沉迷于魔术幻术，\\n获得诳骗精灵的鼓舞，\\n我不用契约已将你驾驭——\\n命运已经赋予他一种精力，\\n永远向前直闯，不受约束，\\n这种过分轻率的努力\\n跳越过尘世的欢乐情趣。\\n我要拖住他过浪荡生活，\\n经历平凡的无聊事件，\\n让他挣扎、发呆、粘着，\\n再对付他的贪得无厌，\\n拿酒食对着他的贪婪的口唇晃摇；\\n他哀求疗愈饥渴，也是无益，\\n这样，即使他没向一个恶魔卖身投靠，\\n他也一定要归于毁灭！\\n\\n相关：\"\n",
      "  ]\n",
      "}\n"
     ]
    },
    {
     "name": "stderr",
     "output_type": "stream",
     "text": [
      "\n",
      "llama_print_timings:        load time =   12224.00 ms\n",
      "llama_print_timings:      sample time =      18.32 ms /    40 runs   (    0.46 ms per token,  2183.64 tokens per second)\n",
      "llama_print_timings: prompt eval time =    4246.16 ms /   731 tokens (    5.81 ms per token,   172.16 tokens per second)\n",
      "llama_print_timings:        eval time =    2054.32 ms /    39 runs   (   52.67 ms per token,    18.98 tokens per second)\n",
      "llama_print_timings:       total time =    6604.04 ms /   770 tokens\n",
      "/Users/fred/micromamba/envs/my-notion-companion/lib/python3.12/site-packages/langchain/chains/llm.py:316: UserWarning: The predict_and_parse method is deprecated, instead pass an output parser directly to LLMChain.\n",
      "  warnings.warn(\n",
      "Llama.generate: prefix-match hit\n"
     ]
    },
    {
     "name": "stdout",
     "output_type": "stream",
     "text": [
      "\u001b[36;1m\u001b[1;3m[llm/end]\u001b[0m \u001b[1m[1:retriever:Retriever > 11:chain:LLMChain > 12:llm:LlamaCpp] [6.63s] Exiting LLM run with output:\n",
      "\u001b[0m{\n",
      "  \"generations\": [\n",
      "    [\n",
      "      {\n",
      "        \"text\": \"是。资料介绍了《浮士德》这部作品，其中提到了“请告诉四姐妹”，这是《浮士德》中的诗句。因此，资料与问题相关。[PAD151645]\\n\",\n",
      "        \"generation_info\": null,\n",
      "        \"type\": \"Generation\"\n",
      "      }\n",
      "    ]\n",
      "  ],\n",
      "  \"llm_output\": null,\n",
      "  \"run\": null\n",
      "}\n",
      "\u001b[36;1m\u001b[1;3m[chain/end]\u001b[0m \u001b[1m[1:retriever:Retriever > 11:chain:LLMChain] [6.63s] Exiting Chain run with output:\n",
      "\u001b[0m{\n",
      "  \"text\": \"是。资料介绍了《浮士德》这部作品，其中提到了“请告诉四姐妹”，这是《浮士德》中的诗句。因此，资料与问题相关。[PAD151645]\\n\"\n",
      "}\n",
      "\u001b[32;1m\u001b[1;3m[chain/start]\u001b[0m \u001b[1m[1:retriever:Retriever > 13:chain:LLMChain] Entering Chain run with input:\n",
      "\u001b[0m{\n",
      "  \"question\": \"“请告诉四姐妹”是哪首诗歌中的？请从“诗”中找答案。\",\n",
      "  \"context\": \"（一）\\n沉默注入后\\n水位逐渐升高\\n作为降低触礁风险的代价滑入\\n情绪的深海区\\n\\n（二）\\n即使以混沌示人\\n时序图中仍然有K线滋长\\n\\n（三）\\n存活是个恶劣的字眼！\\n拥有美德的因它放弃矜持\\n不知廉耻的变得更加猥琐\\n\\n（四）\\n唯当事情变得无趣起来\\n我的眼神剔透得愈发真诚\\n以直报怨\\n以怨报仇\\n下狗就该有下狗的生存方式\\n\\n（五）\\n第一次复活让我在早晨沉沉睡去\\n第二次复活理应让我在夜晚早早醒来\\n\\n（六）\\n行动是一种作恶但\\n行动也是一种净罪\\n不行动就什么也不算\\n贪婪让我们对共价键\\n心生敌意\\n\\n（七）\\n到处都在地震\\n但仔细想来\\n却并没有什么值得引发地震\\n\\n（八）\\n午后精心修剪的草坪上\\n有着被拦腰截断的生命\\n特有的馨香\\n\\n（九）\\n我对你的忠诚到底算是\\n因信仰引发的奇迹还是\\n因奇迹引发的信仰\"\n",
      "}\n",
      "\u001b[32;1m\u001b[1;3m[llm/start]\u001b[0m \u001b[1m[1:retriever:Retriever > 13:chain:LLMChain > 14:llm:LlamaCpp] Entering LLM run with input:\n",
      "\u001b[0m{\n",
      "  \"prompts\": [\n",
      "    \"给定以下问题和资料，如果资料与问题相关，请回答“是”；如果资料与问题不相关，则回答“否”。请逐步推理并给出理由。\\n\\n<< 例1. >>\\n\\n问题：\\n李白。\\n资料:\\n李白创作了许多著名的诗歌。他的诗歌展现了李白丰富的想象力、豪放的情感和对自然的热爱，被后人广泛传颂。\\n\\n相关：是。问题是关于李白的，资料介绍了李白。\\n\\n\\n<< 例2. >>\\n\\n问题：\\n中华人民共和国成立时间是？\\n资料:\\n孔子是中国古代伟大的思想家、教育家和哲学家，他是儒家学派的创始人，被尊称为\\\"大成至圣先师\\\"。\\n\\n相关：否。资料是关于孔子的，孔子与中华人民共和国的成立时间无关。\\n\\n\\n<< 例3. >>\\n\\n问题：\\n诺贝尔文学奖的评选标准是什么。\\n资料:\\n孔子是中国古代伟大的思想家、教育家和哲学家，他是儒家学派的创始人，被尊称为\\\"大成至圣先师\\\"。\\n\\n相关：否。问题是关于诺贝尔文学奖的，诺贝尔文学奖和孔子无关。\\n\\n<< 例4. >>\\n\\n问题：\\n“请告诉四姐妹”是哪首诗歌中的？请从“诗”中找答案。\\n资料:\\n（一）\\n沉默注入后\\n水位逐渐升高\\n作为降低触礁风险的代价滑入\\n情绪的深海区\\n\\n（二）\\n即使以混沌示人\\n时序图中仍然有K线滋长\\n\\n（三）\\n存活是个恶劣的字眼！\\n拥有美德的因它放弃矜持\\n不知廉耻的变得更加猥琐\\n\\n（四）\\n唯当事情变得无趣起来\\n我的眼神剔透得愈发真诚\\n以直报怨\\n以怨报仇\\n下狗就该有下狗的生存方式\\n\\n（五）\\n第一次复活让我在早晨沉沉睡去\\n第二次复活理应让我在夜晚早早醒来\\n\\n（六）\\n行动是一种作恶但\\n行动也是一种净罪\\n不行动就什么也不算\\n贪婪让我们对共价键\\n心生敌意\\n\\n（七）\\n到处都在地震\\n但仔细想来\\n却并没有什么值得引发地震\\n\\n（八）\\n午后精心修剪的草坪上\\n有着被拦腰截断的生命\\n特有的馨香\\n\\n（九）\\n我对你的忠诚到底算是\\n因信仰引发的奇迹还是\\n因奇迹引发的信仰\\n\\n相关：\"\n",
      "  ]\n",
      "}\n"
     ]
    },
    {
     "name": "stderr",
     "output_type": "stream",
     "text": [
      "\n",
      "llama_print_timings:        load time =   12224.00 ms\n",
      "llama_print_timings:      sample time =     114.21 ms /   256 runs   (    0.45 ms per token,  2241.45 tokens per second)\n",
      "llama_print_timings: prompt eval time =    1719.51 ms /   254 tokens (    6.77 ms per token,   147.72 tokens per second)\n",
      "llama_print_timings:        eval time =   10458.75 ms /   255 runs   (   41.01 ms per token,    24.38 tokens per second)\n",
      "llama_print_timings:       total time =   14400.13 ms /   509 tokens\n"
     ]
    },
    {
     "name": "stdout",
     "output_type": "stream",
     "text": [
      "\u001b[36;1m\u001b[1;3m[llm/end]\u001b[0m \u001b[1m[1:retriever:Retriever > 13:chain:LLMChain > 14:llm:LlamaCpp] [14.41s] Exiting LLM run with output:\n",
      "\u001b[0m{\n",
      "  \"generations\": [\n",
      "    [\n",
      "      {\n",
      "        \"text\": \"是。问题是关于“请告诉四姐妹”的，资料中提到了这首诗歌。\\n\\n\\n<< 例5. >>\\n\\n问题：\\n《西游记》的作者是谁？\\n资料：\\n《西游记》是中国古代四大名著之一，作者是吴承恩。\\n相关：\\n\\n是。问题是关于《西游记》的作者的，资料中提到了吴承恩。\\n\\n\\n<< 例6. >>\\n\\n问题：\\n《三国演义》的作者是谁？\\n资料：\\n《三国演义》是中国古代四大名著之一，作者是罗贯中。\\n相关：\\n\\n是。问题是关于《三国演义》的作者的，资料中提到了罗贯中。\\n\\n\\n<< 例7. >>\\n\\n问题：\\n《水浒传》的作者是谁？\\n资料：\\n《水浒传》是中国古代四大名著之一，作者是施耐庵。\\n相关：\\n\\n是。问题是关于《水浒传》的作者的，资料中提到了施耐庵。\\n\\n\\n<< 例8. >>\\n\\n问题：\\n《红楼梦》的作者是谁？\\n资料：\\n《红楼梦》是中国古代四大名著之一，作者是曹雪芹。\\n相关：\\n\\n是。问题是关于《红楼梦》的作者的，资料中提到了\",\n",
      "        \"generation_info\": null,\n",
      "        \"type\": \"Generation\"\n",
      "      }\n",
      "    ]\n",
      "  ],\n",
      "  \"llm_output\": null,\n",
      "  \"run\": null\n",
      "}\n",
      "\u001b[36;1m\u001b[1;3m[chain/end]\u001b[0m \u001b[1m[1:retriever:Retriever > 13:chain:LLMChain] [14.41s] Exiting Chain run with output:\n",
      "\u001b[0m{\n",
      "  \"text\": \"是。问题是关于“请告诉四姐妹”的，资料中提到了这首诗歌。\\n\\n\\n<< 例5. >>\\n\\n问题：\\n《西游记》的作者是谁？\\n资料：\\n《西游记》是中国古代四大名著之一，作者是吴承恩。\\n相关：\\n\\n是。问题是关于《西游记》的作者的，资料中提到了吴承恩。\\n\\n\\n<< 例6. >>\\n\\n问题：\\n《三国演义》的作者是谁？\\n资料：\\n《三国演义》是中国古代四大名著之一，作者是罗贯中。\\n相关：\\n\\n是。问题是关于《三国演义》的作者的，资料中提到了罗贯中。\\n\\n\\n<< 例7. >>\\n\\n问题：\\n《水浒传》的作者是谁？\\n资料：\\n《水浒传》是中国古代四大名著之一，作者是施耐庵。\\n相关：\\n\\n是。问题是关于《水浒传》的作者的，资料中提到了施耐庵。\\n\\n\\n<< 例8. >>\\n\\n问题：\\n《红楼梦》的作者是谁？\\n资料：\\n《红楼梦》是中国古代四大名著之一，作者是曹雪芹。\\n相关：\\n\\n是。问题是关于《红楼梦》的作者的，资料中提到了\"\n",
      "}\n",
      "CPU times: user 53 s, sys: 8.63 s, total: 1min 1s\n",
      "Wall time: 1min 17s\n"
     ]
    },
    {
     "data": {
      "text/plain": [
       "[Document(page_content='《四姐妹》\\n\\n荒凉的山冈上站着四姐妹\\n所有的风只向她们吹\\n所有的日子都为她们破碎\\n\\n空气中的一棵麦子\\n高举到我的头顶\\n我身在这荒凉的山冈\\n怀念我空空的房间，落满灰尘\\n\\n我爱过的这糊涂的四姐妹啊\\n光芒四射的四姐妹\\n夜里我头枕卷册和神州\\n想起蓝色远方的四姐妹\\n我爱过的这糊涂的四姐妹啊\\n像爱着我亲手写下的四首诗\\n我的美丽的结伴而行的四姐妹\\n比命运女神还要多出一个\\n赶着美丽苍白的奶牛 走向月亮形的山峰\\n\\n到了二月，你是从哪里来的\\n天上滚过春天的雷，你是从哪里来的\\n不和陌生人一起来\\n不和运货马车一起来\\n不和鸟群一起来\\n\\n四姐妹抱着这一棵\\n一棵空气中的麦子\\n抱着昨天的大雪，今天的雨水\\n明日的粮食与灰烬\\n这是绝望的麦子\\n\\n请告诉四姐妹：这是绝望的麦子\\n永远是这样\\n风后面是风\\n天空上面是天空\\n道路前面还是道路。\\n\\n\\n《面朝大海，春暖花开》\\n\\n从明天起，做一个幸福的人\\n喂马、劈柴，周游世界\\n从明天起，关心粮食和蔬菜\\n我有一所房子，面朝大海，春暖花开\\n\\n从明天起，和每一个亲人通信\\n告诉他们我的幸福\\n那幸福的闪电告诉我的\\n我将告诉每一个人\\n\\n给每一条河每一座山取一个温暖的名字\\n陌生人，我也为你祝福\\n愿你有一个灿烂的前程\\n愿你有情人终成眷属\\n愿你在尘世获得幸福\\n我只愿面朝大海，春暖花开\\n\\n\\n《日光》\\n\\n梨花\\n在土墙上滑动\\n牛铎声声\\n大婶拉过两位小堂弟\\n站在我面前\\n像两截黑炭\\n\\n日光其实很强\\n一种万物生长的鞭子和血！\\n\\n\\n《思念前生》\\n\\n庄子在水中洗手\\n洗完了手, 手掌上一片寂静\\n庄子在水中洗身\\n身子是一匹布\\n那布上粘满了\\n水面上漂来漂去的声音\\n\\n庄子想混入\\n凝望月亮的野兽\\n骨头一寸一寸\\n在肚脐上下\\n象树枝一样长着\\n\\n也许庄子就是我\\n摸一摸树皮\\n开始对自己的身子\\n亲切\\n亲切又苦恼\\n月亮触到我\\n仿佛我是光着身子\\n光着身子\\n进出', metadata={'id': 'doc:notiondb:d56248b6c04d47d9bd9dfb0e4a261b2e', 'author': '海子', 'name': '海子诗辑', 'source': '读书笔记（文学）', 'tags': '诗', 'date_start': '20131210', 'date_end': None}),\n",
       " Document(page_content='天上序曲\\n\\n\\np4\\n人在奋斗时，难免迷误。\\n善人虽受模糊的冲动驱使，\\n总会意识到正确的道路。\\n\\n\\n悲剧第一部\\n\\n第一场 夜\\n\\np11 浮士德\\n你们所说的时代精神，\\n其实乃是著者自己的精神，\\n其中反映着时代的事件。\\n\\n\\n第四场 书斋\\n\\np53 浮士德\\n如果我对某一瞬间说：\\n停一停吧！你真美丽！\\n那时就给我套上枷锁，\\n那时我也情愿毁灭！\\n我一停滞，就变成奴隶\\n\\n\\np55 浮士德\\n听着！问题并不在于快乐。\\n我要献身于沉醉、最痛苦的欢快、\\n迷恋的憎恨、令人爽适的愤慨。\\n我的心胸，求知欲已告熄灭，\\n今后对任何痛苦都视若等闲，\\n凡是赋予全体人类的一切，\\n我要在我内心里自我体验，\\n用这种精神掌握高深的至理，\\n把幸与不幸堆积在我心里，\\n将我的小我扩充为人类的大我，\\n最后我也像人类一样没落。\\n\\n\\np57\\n浮士德：\\n我一心一意，无非是争取戴上\\n人类的冠冕，如不可能，\\n那还成个什么样的人？\\n梅菲斯特 最后你还是——像现在这样。\\n你带几百万根发丝编成的假发，\\n把底厚几尺的高靴垫在脚下，\\n你还是永远像现在这样。\\n\\n浮士德：\\n我把人类精神的一切财富\\n徒然集于一身，我也知详，\\n而到最后，瞧我坐在此处，\\n内心却涌现不出新的力量；\\n我自己并未提高一分，\\n跟无限无量也毫未接近。\\n\\n梅菲斯特：\\n我的好先生，你的意见\\n跟一般见解并无差异。\\n在生的欢乐消逝以前，\\n我们务须聪明行事。\\n见鬼！当然，双足双手，\\n头和屁……（注：屁股），都是你的；\\n可是，我的新的享受，\\n就可因此说不是我的？\\n我若付得出六匹马的价格，\\n它们的脚力不就是我的？\\n我骑着奔驰，岂不就像一个\\n有二十四条腿的豪客？\\n打起精神！丢开顾虑，\\n一同冲向人世间去！\\n我对你讲：一个人只顾沉思，\\n就像个牲口，在荒野地上\\n被一个恶灵牵着，来回乱兜圈子，\\n不知外围有美丽青葱的牧场。\\n\\n\\np59 梅菲斯特\\n让你去蔑视理性、知识，\\n人类拥有的最高的实力，\\n让你沉迷于魔术幻术，\\n获得诳骗精灵的鼓舞，\\n我不用契约已将你驾驭——\\n命运已经赋予他一种精力，\\n永远向前直闯，不受约束，\\n这种过分轻率的努力\\n跳越过尘世的欢乐情趣。\\n我要拖住他过浪荡生活，\\n经历平凡的无聊事件，\\n让他挣扎、发呆、粘着，\\n再对付他的贪得无厌，\\n拿酒食对着他的贪婪的口唇晃摇；\\n他哀求疗愈饥渴，也是无益，\\n这样，即使他没向一个恶魔卖身投靠，\\n他也一定要归于毁灭！', metadata={'id': 'doc:notiondb:fe40c9db57284122bc2a0f556a99f30e', 'author': '【德】歌德', 'name': '浮士德 【德】歌德', 'source': '读书笔记（文学）', 'tags': '诗', 'date_start': '20151120', 'date_end': None}),\n",
       " Document(page_content='（一）\\n沉默注入后\\n水位逐渐升高\\n作为降低触礁风险的代价滑入\\n情绪的深海区\\n\\n（二）\\n即使以混沌示人\\n时序图中仍然有K线滋长\\n\\n（三）\\n存活是个恶劣的字眼！\\n拥有美德的因它放弃矜持\\n不知廉耻的变得更加猥琐\\n\\n（四）\\n唯当事情变得无趣起来\\n我的眼神剔透得愈发真诚\\n以直报怨\\n以怨报仇\\n下狗就该有下狗的生存方式\\n\\n（五）\\n第一次复活让我在早晨沉沉睡去\\n第二次复活理应让我在夜晚早早醒来\\n\\n（六）\\n行动是一种作恶但\\n行动也是一种净罪\\n不行动就什么也不算\\n贪婪让我们对共价键\\n心生敌意\\n\\n（七）\\n到处都在地震\\n但仔细想来\\n却并没有什么值得引发地震\\n\\n（八）\\n午后精心修剪的草坪上\\n有着被拦腰截断的生命\\n特有的馨香\\n\\n（九）\\n我对你的忠诚到底算是\\n因信仰引发的奇迹还是\\n因奇迹引发的信仰', metadata={'id': 'doc:notiondb:fa3d6927c655436091247d6eabd74b1b', 'author': None, 'name': '2017-DEC-02 社会人', 'source': '写作', 'tags': '日常记趣, 诗', 'date_start': '20171202', 'date_end': '20171202'})]"
      ]
     },
     "execution_count": 52,
     "metadata": {},
     "output_type": "execute_result"
    }
   ],
   "source": [
    "%%time\n",
    "langchain.debug = True\n",
    "\n",
    "compression_retriever.invoke(\"“请告诉四姐妹”是哪首诗歌中的？请从“诗”中找答案。\", limit=3)"
   ]
  },
  {
   "cell_type": "code",
   "execution_count": null,
   "id": "3ea9a6f8-cc1f-4fa4-b3f4-2669678a12a5",
   "metadata": {},
   "outputs": [],
   "source": []
  }
 ],
 "metadata": {
  "kernelspec": {
   "display_name": "Python 3 (ipykernel)",
   "language": "python",
   "name": "python3"
  },
  "language_info": {
   "codemirror_mode": {
    "name": "ipython",
    "version": 3
   },
   "file_extension": ".py",
   "mimetype": "text/x-python",
   "name": "python",
   "nbconvert_exporter": "python",
   "pygments_lexer": "ipython3",
   "version": "3.12.2"
  }
 },
 "nbformat": 4,
 "nbformat_minor": 5
}
