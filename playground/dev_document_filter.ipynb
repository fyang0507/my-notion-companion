{
 "cells": [
  {
   "cell_type": "code",
   "execution_count": 1,
   "id": "adfa2f55-5501-4e91-8614-eb498e5d1f27",
   "metadata": {},
   "outputs": [],
   "source": [
    "%load_ext autoreload\n",
    "%autoreload 2"
   ]
  },
  {
   "cell_type": "code",
   "execution_count": 2,
   "id": "ac9e45f8-f9f4-4561-a62b-6a3142b65ecf",
   "metadata": {},
   "outputs": [],
   "source": [
    "import sys\n",
    "sys.path.append('../')"
   ]
  },
  {
   "cell_type": "code",
   "execution_count": 3,
   "id": "a24cce9f-470b-488a-aeb4-6456a44f73ed",
   "metadata": {},
   "outputs": [],
   "source": [
    "import pickle\n",
    "with open('../data/notion_offline.pkl', 'rb') as f:\n",
    "    docs_from_notion = pickle.load(f)"
   ]
  },
  {
   "cell_type": "code",
   "execution_count": 4,
   "id": "ba561f64-a2f4-4061-8406-14132d6d6224",
   "metadata": {},
   "outputs": [],
   "source": [
    "from typing import Dict, List\n",
    "from langchain_core.documents.base import Document\n",
    "\n",
    "def process_property(docs_from_notion: Dict[str, List[Document]]) -> List[Document]:\n",
    "    docs_list = list()\n",
    "    \n",
    "    for db_name, docs in docs_from_notion.items():\n",
    "        for doc in docs:\n",
    "            # because our data are gathered from multiple databases\n",
    "            # we are going to throw the database names as one property\n",
    "            # into the docs' metadata field\n",
    "            # and return as a list\n",
    "            doc.metadata['source'] = db_name\n",
    "\n",
    "            # change dates into YYYYMMDD int format to allow GT/LT/EQ comparison\n",
    "            if 'date' in doc.metadata:\n",
    "                if 'start' in doc.metadata['date']:\n",
    "                    doc.metadata['date_start'] = int(doc.metadata['date']['start'].replace(\"-\", \"\"))\n",
    "                if 'end' in doc.metadata['date'] and doc.metadata['date']['end']:\n",
    "                    doc.metadata['date_end'] = int(doc.metadata['date']['end'].replace(\"-\", \"\"))\n",
    "                    \n",
    "                del doc.metadata['date']\n",
    "\n",
    "            if 'tags' in doc.metadata:\n",
    "                doc.metadata['tags'] = \", \".join(doc.metadata['tags'])\n",
    "                \n",
    "\n",
    "        docs_list.extend(docs)\n",
    "        \n",
    "    return docs_list"
   ]
  },
  {
   "cell_type": "code",
   "execution_count": 5,
   "id": "76d61cdc-82d3-4b80-ad04-b8f054c4dea9",
   "metadata": {},
   "outputs": [],
   "source": [
    "docs = process_property(docs_from_notion)"
   ]
  },
  {
   "cell_type": "code",
   "execution_count": 7,
   "id": "9d066ed9-c6c0-4d15-ad63-6a93f94bc0e9",
   "metadata": {},
   "outputs": [],
   "source": [
    "from my_notion_companion.document_filter import DocumentFilter"
   ]
  },
  {
   "cell_type": "code",
   "execution_count": 30,
   "id": "cf6083be-3a13-482c-9c42-ce37226c11e0",
   "metadata": {},
   "outputs": [],
   "source": [
    "x = DocumentFilter(0.6)"
   ]
  },
  {
   "cell_type": "code",
   "execution_count": 31,
   "id": "9d255ddb-a70b-4cff-a60c-d2ec989290b0",
   "metadata": {},
   "outputs": [
    {
     "name": "stderr",
     "output_type": "stream",
     "text": [
      "\u001b[32m2024-03-01 12:41:53.674\u001b[0m | \u001b[1mINFO    \u001b[0m | \u001b[36mmy_notion_companion.document_filter\u001b[0m:\u001b[36mfilter_by_metadata\u001b[0m:\u001b[36m27\u001b[0m - \u001b[1mRemaining doc:  0.609\u001b[0m\n"
     ]
    }
   ],
   "source": [
    "_ = x.filter_by_metadata(\"读书笔记\", docs)"
   ]
  },
  {
   "cell_type": "code",
   "execution_count": null,
   "id": "5bcfaa92-7623-45bb-a8fe-c1f79f257889",
   "metadata": {},
   "outputs": [],
   "source": []
  }
 ],
 "metadata": {
  "kernelspec": {
   "display_name": "Python 3 (ipykernel)",
   "language": "python",
   "name": "python3"
  },
  "language_info": {
   "codemirror_mode": {
    "name": "ipython",
    "version": 3
   },
   "file_extension": ".py",
   "mimetype": "text/x-python",
   "name": "python",
   "nbconvert_exporter": "python",
   "pygments_lexer": "ipython3",
   "version": "3.12.2"
  }
 },
 "nbformat": 4,
 "nbformat_minor": 5
}
