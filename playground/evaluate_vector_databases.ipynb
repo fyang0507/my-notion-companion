{
 "cells": [
  {
   "cell_type": "markdown",
   "id": "67d7d426-16b1-49bc-aeea-27b5536030e3",
   "metadata": {},
   "source": [
    "# Evaluate vector databases"
   ]
  },
  {
   "cell_type": "code",
   "execution_count": 1,
   "id": "6f13607d-272f-4daa-95a9-b4f167b5db3d",
   "metadata": {},
   "outputs": [],
   "source": [
    "from typing import Dict, List\n",
    "from langchain_core.documents.base import Document"
   ]
  },
  {
   "cell_type": "markdown",
   "id": "1e3d8b58-0591-48e7-9f2b-54e57f921652",
   "metadata": {},
   "source": [
    "## Load evaluation dataset and docs"
   ]
  },
  {
   "cell_type": "code",
   "execution_count": 2,
   "id": "ccaca400-cd6b-410b-ab24-be1633f6937a",
   "metadata": {},
   "outputs": [],
   "source": [
    "from langchain_community.document_loaders import NotionDBLoader\n",
    "import tomllib"
   ]
  },
  {
   "cell_type": "code",
   "execution_count": 3,
   "id": "c0079b60-a225-4a6b-adc6-fae9d8b54dbe",
   "metadata": {},
   "outputs": [],
   "source": [
    "with open('../.tokens.toml', 'rb') as f:\n",
    "    _TOKENS = tomllib.load(f)\n",
    "\n",
    "with open('../.notion_databases.toml', 'rb') as f:\n",
    "    _DATABASES_NOTION = tomllib.load(f)\n",
    "\n",
    "with open('../.config.toml', 'rb') as f:\n",
    "    _CONFIGS = tomllib.load(f)\n"
   ]
  },
  {
   "cell_type": "code",
   "execution_count": 4,
   "id": "c41545a3-717a-4836-8af6-f85d34cd5d88",
   "metadata": {},
   "outputs": [],
   "source": [
    "# def load_notion_dbs(dbs, id):\n",
    "#     loader = NotionDBLoader(\n",
    "#         integration_token=_TOKENS['notion'],\n",
    "#         database_id=dbs[id],\n",
    "#         request_timeout_sec=300,  # optional, defaults to 10\n",
    "#     )\n",
    "#     data = loader.load()\n",
    "#     return data"
   ]
  },
  {
   "cell_type": "code",
   "execution_count": 5,
   "id": "69d8cd91-4231-4294-addc-5181f81dc36b",
   "metadata": {},
   "outputs": [],
   "source": [
    "# %%time\n",
    "# from concurrent.futures import ThreadPoolExecutor\n",
    "\n",
    "# te = ThreadPoolExecutor()\n",
    "# results = list(te.map(lambda x: load_notion_dbs(_DATABASES_NOTION, x), _DATABASES_NOTION.keys()))\n",
    "\n",
    "# docs_from_notion: Dict[str, List[Document]] = dict(zip(_DATABASES_NOTION.keys(), results))\n",
    "\n",
    "# # optional pickle step so we don't need to query notionDB again\n",
    "# import pickle\n",
    "\n",
    "# with open('../data/notion_offline.pkl', 'wb') as f:\n",
    "#     pickle.dump(docs_from_notion, f)"
   ]
  },
  {
   "cell_type": "code",
   "execution_count": 6,
   "id": "049f9e94-78dd-4ba4-9e3c-aa37688b6ab4",
   "metadata": {},
   "outputs": [],
   "source": [
    "import pickle\n",
    "with open('../data/notion_offline.pkl', 'rb') as f:\n",
    "    docs_from_notion = pickle.load(f)"
   ]
  },
  {
   "cell_type": "code",
   "execution_count": 7,
   "id": "c9603f28-8f80-46b2-8622-ff6c1e64936b",
   "metadata": {},
   "outputs": [
    {
     "data": {
      "text/plain": [
       "{'date': {'start': '2013-10-26', 'end': '2013-10-26', 'time_zone': None},\n",
       " 'name': '2013-OCT-26 师说',\n",
       " 'tags': ['日常记趣'],\n",
       " 'id': '273ea76f-a35c-474e-bfe0-41a3daae5c96'}"
      ]
     },
     "execution_count": 7,
     "metadata": {},
     "output_type": "execute_result"
    }
   ],
   "source": [
    "docs_from_notion['写作'][0].metadata"
   ]
  },
  {
   "cell_type": "code",
   "execution_count": 8,
   "id": "744edc8d-f8d0-4ca3-9a7e-33ab7792544c",
   "metadata": {},
   "outputs": [],
   "source": [
    "def process_property(docs_from_notion: Dict[str, List[Document]]) -> List[Document]:\n",
    "    docs_list = list()\n",
    "    \n",
    "    for db_name, docs in docs_from_notion.items():\n",
    "        for doc in docs:\n",
    "            # because our data are gathered from multiple databases\n",
    "            # we are going to throw the database names as one property\n",
    "            # into the docs' metadata field\n",
    "            # and return as a list\n",
    "            doc.metadata['source'] = db_name\n",
    "\n",
    "            # change dates into YYYYMMDD int format to allow GT/LT/EQ comparison\n",
    "            if 'date' in doc.metadata:\n",
    "                if 'start' in doc.metadata['date']:\n",
    "                    doc.metadata['date_start'] = int(doc.metadata['date']['start'].replace(\"-\", \"\"))\n",
    "                if 'end' in doc.metadata['date'] and doc.metadata['date']['end']:\n",
    "                    doc.metadata['date_end'] = int(doc.metadata['date']['end'].replace(\"-\", \"\"))\n",
    "                    \n",
    "                del doc.metadata['date']\n",
    "\n",
    "            if 'tags' in doc.metadata:\n",
    "                doc.metadata['tags'] = \", \".join(doc.metadata['tags'])\n",
    "                \n",
    "\n",
    "        docs_list.extend(docs)\n",
    "        \n",
    "    return docs_list"
   ]
  },
  {
   "cell_type": "code",
   "execution_count": 9,
   "id": "7d288c6f-2601-4c60-a546-3f2ef002ac92",
   "metadata": {},
   "outputs": [
    {
     "data": {
      "text/plain": [
       "{'name': '2013-OCT-26 师说',\n",
       " 'tags': '日常记趣',\n",
       " 'id': '273ea76f-a35c-474e-bfe0-41a3daae5c96',\n",
       " 'source': '写作',\n",
       " 'date_start': 20131026,\n",
       " 'date_end': 20131026}"
      ]
     },
     "execution_count": 9,
     "metadata": {},
     "output_type": "execute_result"
    }
   ],
   "source": [
    "docs_from_notion = process_property(docs_from_notion)\n",
    "docs_from_notion[0].metadata"
   ]
  },
  {
   "cell_type": "code",
   "execution_count": 10,
   "id": "af50dd31-37d0-474e-b263-b931716b97c2",
   "metadata": {
    "scrolled": true
   },
   "outputs": [],
   "source": [
    "# Let an automated process takes care the rest\n",
    "from langchain_community.vectorstores.utils import filter_complex_metadata\n",
    "docs_from_notion = filter_complex_metadata(docs_from_notion)"
   ]
  },
  {
   "cell_type": "code",
   "execution_count": 11,
   "id": "956e12db-10e3-46a9-9383-794f3b378c5f",
   "metadata": {},
   "outputs": [],
   "source": [
    "from langchain_community.vectorstores import Redis"
   ]
  },
  {
   "cell_type": "markdown",
   "id": "74e60530-20b3-4536-830b-4dca9d02f39f",
   "metadata": {},
   "source": [
    "## Testing ideas\n",
    "\n",
    "* use langchain.text_splitterRecursiveCharacterTextSplitter\n",
    "* storage: test 2 vector databses: Redis, Superbase"
   ]
  },
  {
   "cell_type": "code",
   "execution_count": 12,
   "id": "58bb7459-2a6b-4e7e-b7d8-7c09b407a2d3",
   "metadata": {},
   "outputs": [],
   "source": [
    "# Presumably docs in NotionDB fits more with MarkdownHeaderTextSplitter\n",
    "# however, most of the documents in my personal databases don't have such header-text structure\n",
    "# and they are not important for my use cases (I won't ask it to reason on a specific section \n",
    "# in a doc). Thus I'll use the regular RecursiveCharacterTextSplitter\n",
    "from langchain.text_splitter import RecursiveCharacterTextSplitter"
   ]
  },
  {
   "cell_type": "code",
   "execution_count": 13,
   "id": "372985ea-0e5b-4413-ab02-3ebfd0abe229",
   "metadata": {},
   "outputs": [
    {
     "data": {
      "text/plain": [
       "(225, 1136)"
      ]
     },
     "execution_count": 13,
     "metadata": {},
     "output_type": "execute_result"
    }
   ],
   "source": [
    "chunk_params = {\n",
    "    # 1 Chinese characters = 2 english character\n",
    "    # most paragraphs/sections are within 500 Chinese words/chars\n",
    "    'chunk_size': 1000, \n",
    "    'chunk_overlap': 250,\n",
    "}\n",
    "\n",
    "rc_splitter = RecursiveCharacterTextSplitter(**chunk_params)\n",
    "\n",
    "splits = rc_splitter.split_documents(docs_from_notion)\n",
    "len(docs_from_notion), len(splits)"
   ]
  },
  {
   "cell_type": "code",
   "execution_count": 14,
   "id": "a3386af4-e73d-4492-abcd-91824ff08888",
   "metadata": {},
   "outputs": [],
   "source": [
    "from langchain_community.embeddings import HuggingFaceInferenceAPIEmbeddings\n",
    "\n",
    "embeddings = HuggingFaceInferenceAPIEmbeddings(\n",
    "    api_key=_TOKENS['huggingface'], \n",
    "    model_name=\"sentence-transformers/distiluse-base-multilingual-cased-v1\"\n",
    ")"
   ]
  },
  {
   "cell_type": "code",
   "execution_count": 15,
   "id": "e769fd4b-08bd-496a-82ce-365b2a743864",
   "metadata": {},
   "outputs": [
    {
     "data": {
      "text/plain": [
       "{'author', 'date_end', 'date_start', 'id', 'name', 'source', 'tags'}"
      ]
     },
     "execution_count": 15,
     "metadata": {},
     "output_type": "execute_result"
    }
   ],
   "source": [
    "metadata_set = set()\n",
    "\n",
    "for x in [x.metadata for x in docs_from_notion]:\n",
    "    metadata_set = metadata_set.union(list(x.keys()))\n",
    "\n",
    "metadata_set"
   ]
  },
  {
   "cell_type": "code",
   "execution_count": 29,
   "id": "82774d12-4e87-427c-93ed-1d672a0251b3",
   "metadata": {},
   "outputs": [],
   "source": [
    "# make sure we defined the schema for all metadata in _CONFIG file\n",
    "assert metadata_set == \\\n",
    "    set([x['name'] for x in _CONFIGS['redis_schema']['text']] + [x['name'] for x in _CONFIGS['redis_schema']['numeric']])"
   ]
  },
  {
   "cell_type": "code",
   "execution_count": 16,
   "id": "4e2ebd6f-5b8c-43d2-8e87-ccce5fb898cb",
   "metadata": {},
   "outputs": [
    {
     "data": {
      "text/plain": [
       "{'name': '2013-OCT-26 师说',\n",
       " 'tags': '日常记趣',\n",
       " 'id': '273ea76f-a35c-474e-bfe0-41a3daae5c96',\n",
       " 'source': '写作',\n",
       " 'date_start': 20131026,\n",
       " 'date_end': 20131026}"
      ]
     },
     "execution_count": 16,
     "metadata": {},
     "output_type": "execute_result"
    }
   ],
   "source": [
    "docs_from_notion[0].metadata"
   ]
  },
  {
   "cell_type": "code",
   "execution_count": 17,
   "id": "a65ddb55-c5d3-470e-8bbd-08ea0f7bd039",
   "metadata": {
    "scrolled": true
   },
   "outputs": [
    {
     "name": "stdout",
     "output_type": "stream",
     "text": [
      "Starting redis-stack-server, database path /opt/homebrew/var/db/redis-stack\n",
      "2581:C 18 Feb 2024 16:57:47.406 * oO0OoO0OoO0Oo Redis is starting oO0OoO0OoO0Oo\n",
      "2581:C 18 Feb 2024 16:57:47.406 * Redis version=7.2.4, bits=64, commit=d2c8a4b9, modified=0, pid=2581, just started\n",
      "2581:C 18 Feb 2024 16:57:47.406 * Configuration loaded\n",
      "2581:M 18 Feb 2024 16:57:47.406 * Increased maximum number of open files to 10032 (it was originally set to 4864).\n",
      "2581:M 18 Feb 2024 16:57:47.406 * monotonic clock: POSIX clock_gettime\n",
      "                _._                                                  \n",
      "           _.-``__ ''-._                                             \n",
      "      _.-``    `.  `_.  ''-._           Redis 7.2.4 (d2c8a4b9/0) 64 bit\n",
      "  .-`` .-```.  ```\\/    _.,_ ''-._                                  \n",
      " (    '      ,       .-`  | `,    )     Running in standalone mode\n",
      " |`-._`-...-` __...-.``-._|'` _.-'|     Port: 6379\n",
      " |    `-._   `._    /     _.-'    |     PID: 2581\n",
      "  `-._    `-._  `-./  _.-'    _.-'                                   \n",
      " |`-._`-._    `-.__.-'    _.-'_.-'|                                  \n",
      " |    `-._`-._        _.-'_.-'    |           https://redis.io       \n",
      "  `-._    `-._`-.__.-'_.-'    _.-'                                   \n",
      " |`-._`-._    `-.__.-'    _.-'_.-'|                                  \n",
      " |    `-._`-._        _.-'_.-'    |                                  \n",
      "  `-._    `-._`-.__.-'_.-'    _.-'                                   \n",
      "      `-._    `-.__.-'    _.-'                                       \n",
      "          `-._        _.-'                                           \n",
      "              `-.__.-'                                               \n",
      "\n",
      "2581:M 18 Feb 2024 16:57:47.407 # WARNING: The TCP backlog setting of 511 cannot be enforced because kern.ipc.somaxconn is set to the lower value of 128.\n",
      "2581:M 18 Feb 2024 16:57:47.407 * Module 'RedisCompat' loaded from /opt/homebrew/Caskroom/redis-stack-server/7.2.0-v8/lib/rediscompat.so\n",
      "2581:M 18 Feb 2024 16:57:47.408 * <search> Redis version found by RedisSearch : 7.2.4 - oss\n",
      "2581:M 18 Feb 2024 16:57:47.408 * <search> RediSearch version 2.8.11 (Git=2.8-652096f2)\n",
      "2581:M 18 Feb 2024 16:57:47.408 * <search> Low level api version 1 initialized successfully\n",
      "2581:M 18 Feb 2024 16:57:47.408 * <search> concurrent writes: OFF, gc: ON, prefix min length: 2, prefix max expansions: 200, query timeout (ms): 500, timeout policy: return, cursor read size: 1000, cursor max idle (ms): 300000, max doctable size: 1000000, max number of search results:  10000, search pool size: 20, index pool size: 8, \n",
      "2581:M 18 Feb 2024 16:57:47.408 * <search> Initialized thread pools!\n",
      "2581:M 18 Feb 2024 16:57:47.408 * <search> Enabled role change notification\n",
      "2581:M 18 Feb 2024 16:57:47.408 * Module 'search' loaded from /opt/homebrew/Caskroom/redis-stack-server/7.2.0-v8/lib/redisearch.so\n",
      "2581:M 18 Feb 2024 16:57:47.409 * <timeseries> RedisTimeSeries version 11011, git_sha=0299ac12a6bf298028859c41ba0f4d8dc842726b\n",
      "2581:M 18 Feb 2024 16:57:47.409 * <timeseries> Redis version found by RedisTimeSeries : 7.2.4 - oss\n",
      "2581:M 18 Feb 2024 16:57:47.409 * <timeseries> loaded default CHUNK_SIZE_BYTES policy: 4096\n",
      "2581:M 18 Feb 2024 16:57:47.409 * <timeseries> loaded server DUPLICATE_POLICY: block\n",
      "2581:M 18 Feb 2024 16:57:47.409 * <timeseries> Setting default series ENCODING to: compressed\n",
      "2581:M 18 Feb 2024 16:57:47.409 * <timeseries> Detected redis oss\n",
      "2581:M 18 Feb 2024 16:57:47.409 * Module 'timeseries' loaded from /opt/homebrew/Caskroom/redis-stack-server/7.2.0-v8/lib/redistimeseries.so\n",
      "2581:M 18 Feb 2024 16:57:47.410 * <ReJSON> Created new data type 'ReJSON-RL'\n",
      "2581:M 18 Feb 2024 16:57:47.410 * <ReJSON> version: 20609 git sha: unknown branch: unknown\n",
      "2581:M 18 Feb 2024 16:57:47.410 * <ReJSON> Exported RedisJSON_V1 API\n",
      "2581:M 18 Feb 2024 16:57:47.410 * <ReJSON> Exported RedisJSON_V2 API\n",
      "2581:M 18 Feb 2024 16:57:47.410 * <ReJSON> Exported RedisJSON_V3 API\n",
      "2581:M 18 Feb 2024 16:57:47.410 * <ReJSON> Exported RedisJSON_V4 API\n",
      "2581:M 18 Feb 2024 16:57:47.410 * <ReJSON> Exported RedisJSON_V5 API\n",
      "2581:M 18 Feb 2024 16:57:47.410 * <ReJSON> Enabled diskless replication\n",
      "2581:M 18 Feb 2024 16:57:47.410 * Module 'ReJSON' loaded from /opt/homebrew/Caskroom/redis-stack-server/7.2.0-v8/lib/rejson.so\n",
      "2581:M 18 Feb 2024 16:57:47.410 * <search> Acquired RedisJSON_V5 API\n",
      "2581:M 18 Feb 2024 16:57:47.411 * <bf> RedisBloom version 2.6.11 (Git=unknown)\n",
      "2581:M 18 Feb 2024 16:57:47.411 * Module 'bf' loaded from /opt/homebrew/Caskroom/redis-stack-server/7.2.0-v8/lib/redisbloom.so\n",
      "2581:M 18 Feb 2024 16:57:47.412 * <redisgears_2> Created new data type 'GearsType'\n",
      "2581:M 18 Feb 2024 16:57:47.412 * <redisgears_2> Detected redis oss\n",
      "2581:M 18 Feb 2024 16:57:47.412 # <redisgears_2> could not initialize RedisAI_InitError\n",
      "\n",
      "2581:M 18 Feb 2024 16:57:47.412 * <redisgears_2> Failed loading RedisAI API.\n",
      "2581:M 18 Feb 2024 16:57:47.412 * <redisgears_2> RedisGears v2.0.16, sha='9559f21d0c3fd6ab4a0edb55d8b89ab125c8cc52', build_type='release', built_for='Macos-mac os12.6.3.arm64v8'.\n",
      "2581:M 18 Feb 2024 16:57:47.413 * <redisgears_2> Registered backend: js.\n",
      "2581:M 18 Feb 2024 16:57:47.413 * Module 'redisgears_2' loaded from /opt/homebrew/Caskroom/redis-stack-server/7.2.0-v8/lib/redisgears.so\n",
      "2581:M 18 Feb 2024 16:57:47.413 # Warning: Could not create server TCP listening socket *:6379: bind: Address already in use\n",
      "2581:M 18 Feb 2024 16:57:47.413 # Failed listening on port 6379 (tcp), aborting.\n"
     ]
    }
   ],
   "source": [
    "!redis-stack-server # init redis-stack server"
   ]
  },
  {
   "cell_type": "code",
   "execution_count": 18,
   "id": "19682880-9a67-42c4-b8be-c96422e3ac63",
   "metadata": {},
   "outputs": [
    {
     "data": {
      "text/plain": [
       "True"
      ]
     },
     "execution_count": 18,
     "metadata": {},
     "output_type": "execute_result"
    }
   ],
   "source": [
    "Redis.drop_index(\n",
    "    redis_url=_CONFIGS['redis_url'],\n",
    "    index_name=_CONFIGS['index_name'], \n",
    "    delete_documents=True\n",
    ")"
   ]
  },
  {
   "cell_type": "code",
   "execution_count": 19,
   "id": "bfdf1bbe-d58c-4dac-80c5-483aedb91f92",
   "metadata": {},
   "outputs": [
    {
     "name": "stderr",
     "output_type": "stream",
     "text": [
      "`index_schema` does not match generated metadata schema.\n",
      "If you meant to manually override the schema, please ignore this message.\n",
      "index_schema: {'text': [{'name': 'author'}, {'name': 'id'}, {'name': 'name'}, {'name': 'source'}, {'name': 'tags'}], 'numeric': [{'name': 'date_start'}, {'name': 'date_end'}]}\n",
      "generated_schema: {'text': [{'name': 'name'}, {'name': 'tags'}, {'name': 'id'}, {'name': 'source'}], 'numeric': [{'name': 'date_start'}, {'name': 'date_end'}], 'tag': []}\n",
      "\n"
     ]
    },
    {
     "name": "stdout",
     "output_type": "stream",
     "text": [
      "CPU times: user 132 ms, sys: 27.9 ms, total: 159 ms\n",
      "Wall time: 1.14 s\n"
     ]
    }
   ],
   "source": [
    "%%time\n",
    "\n",
    "# Redis supports default \"tag\" fields alongside with \"text\" and \"numeric\"\n",
    "# looks like a better match for \"tags\" property at the first glance\n",
    "# but we'll classify it as \"text\" anyway because the to give consistency of \n",
    "# how downstream self-query writes filter queries.\n",
    "# ref: https://redis.io/docs/interact/search-and-query/advanced-concepts/tags\n",
    "\n",
    "vectorstore = Redis.from_documents(\n",
    "    documents=docs_from_notion,\n",
    "    embedding=embeddings,\n",
    "    redis_url=_CONFIGS['redis_url'],\n",
    "    index_name=_CONFIGS['index_name'],\n",
    "    index_schema=_CONFIGS['redis_schema'],\n",
    ")"
   ]
  },
  {
   "cell_type": "code",
   "execution_count": 20,
   "id": "f5f7c918-d5c4-47a2-a68a-076c9385cb72",
   "metadata": {},
   "outputs": [
    {
     "name": "stdout",
     "output_type": "stream",
     "text": [
      "\n",
      "\n",
      "Index Information:\n",
      "╭──────────────┬────────────────┬──────────────────┬─────────────────┬────────────╮\n",
      "│ Index Name   │ Storage Type   │ Prefixes         │ Index Options   │   Indexing │\n",
      "├──────────────┼────────────────┼──────────────────┼─────────────────┼────────────┤\n",
      "│ notiondb     │ HASH           │ ['doc:notiondb'] │ []              │          0 │\n",
      "╰──────────────┴────────────────┴──────────────────┴─────────────────┴────────────╯\n",
      "Index Fields:\n",
      "╭────────────────┬────────────────┬─────────┬────────────────┬────────────────┬────────────────┬────────────────┬────────────────┬────────────────┬─────────────────┬────────────────╮\n",
      "│ Name           │ Attribute      │ Type    │ Field Option   │ Option Value   │ Field Option   │ Option Value   │ Field Option   │   Option Value │ Field Option    │ Option Value   │\n",
      "├────────────────┼────────────────┼─────────┼────────────────┼────────────────┼────────────────┼────────────────┼────────────────┼────────────────┼─────────────────┼────────────────┤\n",
      "│ author         │ author         │ TEXT    │ WEIGHT         │ 1              │                │                │                │                │                 │                │\n",
      "│ id             │ id             │ TEXT    │ WEIGHT         │ 1              │                │                │                │                │                 │                │\n",
      "│ name           │ name           │ TEXT    │ WEIGHT         │ 1              │                │                │                │                │                 │                │\n",
      "│ source         │ source         │ TEXT    │ WEIGHT         │ 1              │                │                │                │                │                 │                │\n",
      "│ tags           │ tags           │ TEXT    │ WEIGHT         │ 1              │                │                │                │                │                 │                │\n",
      "│ content        │ content        │ TEXT    │ WEIGHT         │ 1              │                │                │                │                │                 │                │\n",
      "│ date_start     │ date_start     │ NUMERIC │                │                │                │                │                │                │                 │                │\n",
      "│ date_end       │ date_end       │ NUMERIC │                │                │                │                │                │                │                 │                │\n",
      "│ content_vector │ content_vector │ VECTOR  │ algorithm      │ FLAT           │ data_type      │ FLOAT32        │ dim            │            512 │ distance_metric │ COSINE         │\n",
      "╰────────────────┴────────────────┴─────────┴────────────────┴────────────────┴────────────────┴────────────────┴────────────────┴────────────────┴─────────────────┴────────────────╯\n"
     ]
    }
   ],
   "source": [
    "!rvl index info -i notiondb"
   ]
  },
  {
   "cell_type": "code",
   "execution_count": 21,
   "id": "4d811c7d-6918-4290-bd0e-88e5decd2ce9",
   "metadata": {
    "scrolled": true
   },
   "outputs": [
    {
     "name": "stderr",
     "output_type": "stream",
     "text": [
      "Metadata key date_end not found in metadata. Setting to None. \n",
      "Metadata fields defined for this instance: ['author', 'id', 'name', 'source', 'tags', 'date_start', 'date_end']\n"
     ]
    },
    {
     "data": {
      "text/plain": [
       "[(Document(page_content='中国哲学的精神\\n中国文化的精神基础是\\n伦理\\n（特别是儒家伦理）而不是宗教\\n中国人不以宗教观念和宗教活动为生活中最重要、最迷人的部分。这和其他主要文化（以寺院、僧侣为主导）有根本的重要的不同\\n中国人在哲学里满足了他们对超乎现世的追求，也在哲学里表达、欣赏和体验超道德价值\\n人们习惯于说中国有三教：儒教、道教、佛教。但其实儒教比起宗教更是一种伦理、哲学或者文化；作为一个哲学学派的道家（顺其自然）和以研究方术避免死亡的道教（反乎自然）也有区别；同理，作为哲学的佛学比宗教的佛教在社会上的影响大得多\\n为道 ≠ 为学。在中国哲学的传统中，哲学并不在于增加积极的、实用的知识，而在于提高心灵的境界，获得高于道德价值的价值\\n中国的哲学既是出世的也是入世的\\n“不离日用常行内，直到先天未画前”：中国哲学寻求解决的问题，是把入世和出世这两个对立的命题统一成一个合命题。它是最理想主义的，也是最现实主义的\\n“内圣外王”：中国哲学中，如果一个人不仅在理论而且在行动上能够完成这种统一，他就是圣人，也是最适宜为王之人。这和柏拉图“哲学家-王”的理论很有相似之处\\n中国的哲学和政治思想无法分开：儒家认为，处理日常的人伦世务，不是圣人的分外之事。处理世务，正是圣人人格完全发展的实质所在。他不仅作为社会的公民，而且也作为孟子所谓“天民”，来执行这个任务。正如柏拉图的《理想国》既代表了他的整个哲学，同时也是他的政治思想\\n中国的哲学家以身载道：这个哲学家遵守他的哲学信念而生活，他的生活是他的哲学的组成部分。中国哲学家都是不同程度的苏格拉底，对于他们，哲学从来就不是为人类认识摆设的观念模式，而是内在与他的行动的箴言体系；在极端情况下，他的哲学简直可以说是他的传记\\n中国哲学的阐述多依靠不明晰的比喻论证，而没有正式哲学著作\\n中国哲学家看来，研究哲学不是一种职业，因此中国没有职业哲学家\\n研究中国的哲学，只有看这些人的语录或者写给学生、朋友的信。这些片段来自于他一生的各个时期，语录也不只是一人所记。所以它们不相联系，有时甚至互相矛盾\\n中国哲学家惯用名言隽语、比喻例证来表达自己的思想。这种表达明晰不足而暗示有余。明晰和暗示是不可兼得的，正如一种表达越是散文化就越缺乏诗意；而富于暗示的倾向性是中国一切艺术的理想（“言有尽而意无穷”）\\n郭象是《庄子》的大注释家之一。他的注，本身就是道家文献的经典。庄子的原文暗示，郭象注得明晰。对此，一位禅宗和尚说：“曾见郭象注庄子，识者云：却是庄子注郭象。”\\n中国哲学的背景\\n地理：中国是陆地国家，汉语的“天下”和“四海之内”是一个意思，这对于海洋国家的人可能难以理解。\\n经济：中国是农业国，土地是财富的基础。贯穿中国历史，社会、经济和思想和政策的中心总是围绕着土地的利用和分配。中国哲学思想中的“本末之别”，是农业和商业的关系。区别本末的理由是，农业关系到生产，而商业只关系到交换，但没有生产就没有交换。在中国社会推崇的“上农”的观念中，农业不仅比商业重要，农民也比商人在生活方式上要高尚\\n“反者道之动”：儒道两家都认为，自然界和人类社会的任何事物一旦发展到一个极端，就会反向另一个极端（黑格尔的说法是，一切事物都包含着它自己的否定）。这种观念无疑是受日月运行、农耕的季节交替所启发。这个理论对于中华民族的影响很大，第一是为中庸之道提供了主要论据，第二是这种”黎明即将到来“的心态让中华民族在悠久历史中胜利地克服了许多困难\\n自然的理想化：道家和儒家的不同，是因为他们所理想化的、或理论地表现小农生活的方面不同。小农的生活简朴，思想天真。从这个方面看问题，道家人酒把原始社会的简朴加以理想化，并谴责文化。他们还把儿童的天真加以理想化，并鄙弃知识\\n家族制度、祖先崇拜和等级观念：由于经济原因，农业国的一家几代人都生活在一起，这就发展起来了中国的家族制度。中国的五种传统社会关系：君臣、父子、兄弟、夫妇、朋友中，有三种是家族关系，而另外两种：君臣可以按照父子关系，朋友可以按照兄弟关系来理解。儒家的大部分学说正是论证这种制度的合理，或者是这种社会制度的理论说明。同时，因为父的权威天然高于子的权威，中国以“家邦”为中心的社会制度也天然地拥有等级制度（相较于希腊围绕城邦而组织的社会）\\n出世和入世：《庄子》讲儒家游方之内，道家游方之外。这是说儒家是社会组织、日常生活的哲学；而道家则强调人的内部的自然自发的东西。在公元3、4世纪有些道家的人试图使道家更接近儒家（新道家）；在11、12世纪儒家的人试图使儒家更接近道家（新儒家），正是这些运动使得中国哲学既出世又入世\\n直觉的哲学：诺斯罗普教授把概念分为以直觉得到的和以假设得到的两种。中国的哲学由“农”而生，而“农”相关的概念，例如田地庄稼的知识等，都是直接领悟的。因此，中国的哲学也是以对事物的直接领悟作为哲学的出发点。中国的哲学中，知识论从来没有发展起来（我面前的桌子究竟是一个观念还是占有具体的客观空间），因为知识论问题的提出，只有在强调区别主观和客观的时候。而中国的哲学作为一种审美连续体，其认识者和被认识的事物是一个整体。出于直觉的哲学这一点也可以解释为什么中国哲学的语言总是富于暗示而不明晰：因为它并不表示任何演绎推理，而是哲学家直接把他领悟的道理告诉我们\\n各家的起源\\n司马谈：最初的六家\\n司马谈（司马迁父）是第一个尝试对“百家”试行分类的人。《史记》最后一篇中引用的司马谈的“论六家要旨”，把这些哲学家划分为六个主要流派：\\n阴阳家：以“阴”和“阳”为基础的宇宙生成论，以阴阳的结合和相互作用解释宇宙现象\\n儒家：源自传授古代典籍的教师，是古代文化的保存者。孔子虽然是这一派的领袖人物，但儒家并不仅限于孔子学派的人\\n墨家：在墨子领导下的有严密组织和纪律的团体，它的门徒自称“墨者”\\n名家：着眼于“名”“实”之辩\\n法家：主张政府必须建立在法典，而不是道德惯例的基础上\\n道德家：后来被简称为“道家”，他们的形而上学和社会哲学都围绕“无”展开\\n刘歆：诸子十家和各家起源\\n刘歆是第二个对百家试行分类的历史学家。除了司马谈列举的六家以外，还加入了纵横家，杂家，农家，小说家。刘歆在结论中说：“诸子十家，其可观者，九家而已。”（小说家没有别的九家重要）。\\n刘歆的分类并不比司马谈前进多少，但他是中国历史是第一个尝试系统性追溯各家历史起源的人。\\n\\n官师分离理论：\\n周朝前期的社会制度解体以前，中国社会“官师不分”。这是说某个政府部门的官吏同时也是这个部门有关的一门学术的传授者。因为官吏是世袭的，所以任何一门学术都没有人以私人身份讲授，即当时仅有“官学”，没有“私学”\\n周朝后期因为政权的逐步解体，王室丧失权力，贵族和政府部门的官吏也丧失职位流落民间。这时候他们就转而以私人身份教授他们的专门知识。这个时候官和师的角色就分离了\\n\\n刘歆的尝试是具有开创意义的，但刘歆对各家的解释是不充分，有时甚至是任意地把各家和某一“官”联系起来。冯友兰对此做出一下修正：\\n儒家者流盖出于文士（教授经典和指导礼乐的专家）\\n墨家者流盖出于武士（战争武艺的专家）\\n道家者流盖出于隐者（逃避政治动乱、脱离人类社会的隐居者）\\n名家者流盖出于辩者（说话艺术家）\\n阴阳家者流盖出于方士（巫医、卜筮、占星、术数的专家）\\n法家者流盖出于法术之士（充当封建统治者私人顾问的政治家）\\n孔子：第一位教师\\n中国第一位私学教师\\n“游文于六经之中，留意于仁义之际”：作为儒家创建者，奉《六经》（易、诗、书、礼、乐、春秋；其中《易》是一个例外，它本是一部卜筮之书，但后被儒家解释为形而上学的著作）为经典。六经其实就是六艺，是周代封建制前期数百年中贵族教育的基础\\n“述而不作”：孔子认为自己的任务不是创造，向弟子们讲述、解释和传授传统的制度和观念；当然，孔子并不仅仅是传述，而是由自己的道德观念进行推导并加以解释。这种\\n以述为作\\n的精神被后世儒家传至永久；当经书代代相传时，他们就写出了无数的注疏（在明代形成了“十三经注疏”的成熟、整体性的概念）\\n正名\\n名实相符：“君君，臣臣，父父，子子”\\n孔子认为，一个秩序良好的社会最重要的事就是“正名”，即一切事物与他们理想的本质相符\\n仁与义\\n人在社会中的义务，其形式的本质是它们”应该“，也即”义“，就是指这些义务都是他\\n应该\\n做的事（而不是有利可图的事，经典命题：义利之辨）；具体到行为上这些义务的本质是”仁“，也就是”爱人“\\n孔子认为，真正爱人的人是能够履行社会义务的人，所以，孔子也用“仁”指一切德行的总和(perfect virtue)。”仁人“也即”全德之人“\\n忠与恕\\n实行仁的具体方法就是推己及人（“己欲立而立人，己欲达而达人……可谓仁之方也”）\\n“忠”是推己及人的肯定方面；“恕”是其否定方面\\n忠恕之道是人的道德生活的开端和终结，实行忠恕就是行仁（“夫子之道，忠恕而已矣”）\\n知命\\n“无所为而为”：儒家认为，一个人不可能“无为”，因为每个人都有他应该做的事。然而他做这些事都是“无所为”，因为做这些事的价值在于做的本身之内，而不是在于外在的结果\\n知命是承认世界本来存在的必然性，这样，对于外在的成败也就无所萦怀。在这种意义上，人就永远不会失败，因为如果我们尽了应尽的义务，那么这项义务在道德上就完成了，这与行动的外在成败并不相干\\n孔子的一生正是这种学说的写照。他周游各地，政治上的一切努力都没有得到回报，但他并不气馁（“不知命，无以为君子也。”）\\n超道德：孔子在五六十岁的时候认识“天命”并且顺乎天命，他在这时候认识到了超道德的价值，认为他所做的事是受到了天的支持（“天下之无道也久矣，天将以夫子为木铎。”）孔子的超道德价值仍然是人伦日用的，孔子的超道德价值和道家抛弃理智和目的的混沌、神秘仍然有所区别\\n墨子：孔子的第一个反对者\\n在周代，天子、诸侯、封建主都有他们的军事专家。当时军队的骨干，由世袭的武士组成。随着封建制度的解体，这些武士专家丧失了爵位，流散各地被雇佣，这种人被称为“游侠”。史记《游侠列传》说他们”其言必信，其行必果，已诺必诚，不爱其躯，赴士之厄困。“\\n和源自上层阶层的儒家思想不同，墨家思想是来自下层阶级的人。从平民观点看，礼乐一类的古代文化和社会活动完全限于贵族，毫无实用价值。墨家对这种传统制度及其辩护者（儒家）的批判，加上对本阶级职业道德的发挥，构成了墨家哲学的核心。\\n墨子及其门徒和普通游侠还是有两点不同：第一，普通游侠只要得到酬谢或者恩惠就可以打仗，但墨子强烈反对侵略战争，只参加严格限于自卫的战争；第二，普通游侠只是新手职业道德的条规，而墨子却详细阐明这种道德并论证了其正当性。\\n兼爱\\n“强之劫弱，众之暴寡，诈之谋愚，贵之傲贱：此天下之害也。”\\n兼爱是墨子哲学的中心概念，这种道德是游侠“有福同享有难同当”逻辑的延伸。以这种团体的概念为基础，墨子宣扬天下每个人都应该无差别地爱一切人\\n功利主义：天志和明鬼\\n为了诱导人们实行兼爱，墨子引进了宗教的、政治的制裁\\n墨家相信鬼神的存在，但是反对丧葬和祭祀的缛礼，这是墨家功利主义的体现。墨子对“鬼神”的信仰并不是对超自然的实体有任何真正的兴趣，而是以诱导人们实行兼爱为出发点（儒家虽然并不相信鬼神但却坚持繁复的丧祭礼仪，这也是出于敬孝祖先的感情，而不是宗教）\\n威权和极权\\n墨子的国家起源学说认为，国家的设立是为了结束混乱（“天下之人异义”），因此国家的根本职能是“一同国之义”，因此墨子认为国家必须是极权主义的，国君的权威必须是绝对的\\n墨子的关于游侠的职业道德也是非常强调团体内服从和纪律的，这反应了在混乱政治局面下，人们向往一个中央集权的政权，哪怕它是专制独裁的\\n“上同而不下比”：永远同意上边的，切莫依照下边的\\n“儒之道，足以丧天下者四焉”\\n儒者不相信天鬼的存在\\n儒者坚持的丧葬文化浪费人民的财富和精力\\n儒者强调对现实没有贡献的音乐\\n儒者委身于命运，造成人民的懒惰\\n杨朱：道家的第一阶段\\n道家并不是普通的隐者，他们在理论上为自己隐退的行为辩护，并提出自己的思想体系。这其中最早的代表人物就是杨朱。《列子》是道家的著作，其中有一篇题为“杨朱”，但现代学者认为这一篇文章和杨朱的思想不和，因此杨朱的思想已经没有完整记载了。\\n为我，轻物重生\\n《孟子》中说：“杨子取为我，拔一毛而利天下，不为也。”；《吕氏春秋》中说：“陌生贵己。”；《淮南子》中写：“全性保真，不以物累形：杨子所立也。”这些是同时代的著作中对杨朱思想的记录和反映\\n在道家更后期的《老子》和《庄子》中也有相同的体现。《老子》中写到：“名与身：孰亲？身与货：孰多？”《庄子》中写到：“山木自寇也。膏火自煎也，桂可食，故伐之。漆可用，故割之。”\\n无用是全生的方法。善于全生的人，一定不能多为恶，但也一定不能多为善。他一定要生活在善恶之间，力求无用。到头来，无用却对于他有大用\\n从为我到无我：先秦道家发展三阶段\\n先秦道家都是为我的，但是随着思考的深入，后来的发展使这种为我走向反面，取消了它自身\\n第一阶段杨朱，出发点是全生避害\\n第二阶段老子，开始企图揭示宇宙事物变化的规律。一个人如果懂得了这些规律，并且遵循规律而调整行动，那么他就能够使事物转向对他有利的方向。但即便一个人懂得自然规律，预料之外的因素仍然会发挥作用，并带来可能的危害（“吾所以有大患者，为吾有身，及吾无身，吾有何患！”）\\n第三阶段庄子，因为没有办法避免受到外界事物的影响，庄子转而从一种更高的观点看待事物，产生”齐生死，一物我“的理论\\n孟子：儒家的理想主义派\\n人性本善', metadata={'id': 'doc:notiondb:c02573984b32441a832ac36d584e872f', 'author': '【中】冯友兰', 'name': '中国哲学简史', 'source': '读书笔记（文学）', 'tags': '人文', 'date_start': '20230506', 'date_end': None}),\n",
       "  0.9739)]"
      ]
     },
     "execution_count": 21,
     "metadata": {},
     "output_type": "execute_result"
    }
   ],
   "source": [
    "from langchain.vectorstores.redis import RedisFilter, RedisNum, RedisText\n",
    "\n",
    "# form comparator logic\n",
    "# ref: https://github.com/langchain-ai/langchain/blob/d7c26c89b2d4f5ff676ba7c3ad4f9075d50a8ab7/libs/community/langchain_community/vectorstores/redis/filters.py#L313\n",
    "\n",
    "f = RedisText(\"author\") % \"*冯友兰*\"\n",
    "vectorstore.similarity_search_with_score('谁说过陌生贵己？', filter=f, k=3)"
   ]
  },
  {
   "cell_type": "code",
   "execution_count": 22,
   "id": "2be1b3bb-a022-44df-9cfe-35c4655210db",
   "metadata": {
    "scrolled": true
   },
   "outputs": [
    {
     "name": "stderr",
     "output_type": "stream",
     "text": [
      "Metadata key date_end not found in metadata. Setting to None. \n",
      "Metadata fields defined for this instance: ['author', 'id', 'name', 'source', 'tags', 'date_start', 'date_end']\n",
      "Metadata key date_end not found in metadata. Setting to None. \n",
      "Metadata fields defined for this instance: ['author', 'id', 'name', 'source', 'tags', 'date_start', 'date_end']\n",
      "Metadata key date_end not found in metadata. Setting to None. \n",
      "Metadata fields defined for this instance: ['author', 'id', 'name', 'source', 'tags', 'date_start', 'date_end']\n"
     ]
    },
    {
     "data": {
      "text/plain": [
       "[(Document(page_content='P7\\n从坡道走下来的，原来是一个年轻人。他前后挑着一担粪桶，头缠一条肮脏的手巾，有一张漂亮的红润的脸，和一双炯炯有神的眼，他迈着稳重的脚步从坡道上走了下来。他是个清厕夫——掏大粪的人。年轻人脚蹬胶底布袜子，身穿\\n藏青色紧腿裤\\n。五岁的我，以异常的目光看了看这个姿影。它的意义还不明确，然而这是一种力量的最先的启示、是一种阴暗的不可思议的呼声在召唤着我。第一次显现在清厕夫身影上，是具有寓意的。因为粪尿是大地的象征。召唤我的东西，无疑是伊耶那美命神的带有恶意的爱。\\n我预感到这世上存在一种火辣辣的刺痛似的欲望。我一边抬头仰望着肮脏的小伙子的身影，一边被一种“\\n我想成为他\\n”的欲望、“\\n但愿我就是他\\n”的欲望，紧紧地纠缠着。让人很明显地想到这种欲望有两个重点：一个重点是他的\\n藏青色紧腿裤\\n，另一个重点是他的职业。藏青色紧腿裤把他的下半身的轮廓清楚地勾勒了出来。它使我联想起仿佛有一种东西在优美地活动着，正在向我走近过来。我对这条紧腿裤竟产生一股无可名状的倾倒。究竟为什么，我也不明白。\\n他的职业——这时候，我刚开始懂事，就像其他孩子向往长大当陆军大将的心态一样，我的脑海里就浮现出“想当清厕夫”的憧憬。憧憬的原因可以归咎那条藏青色的紧腿裤，但绝不仅仅在此。这主题本身在我的内心里不断强化，发展，让人看到了一种特异的展现。\\n之所以如此，是因为我对他的职业感受到一种对于尖锐的悲哀、彻身透骨的悲哀的憧憬似的东西。一种极其感觉意义上的“悲剧式的东西”。从他的职业产生一种“挺身”的感觉、一种草率的感觉、一种对危险亲近的感觉，以及虚无和活力惊人混合的感觉。\\n这些感觉洋溢出来，向五岁的我逼将过来，把我俘虏了。也许我误解了清厕夫这种职业。也许我把从别人那里听来的别的什么职业，以他的服装误认为他的职业，硬把它纳入他的职业里，否则就无法加以解释。\\n为什么呢？因为同这种情绪一样的主题，不久就转移到花车的司机和地铁检票员的身上，他们强烈地使我感受到一种我所不了解的、可以说是我永远从那里被排除在外的“悲剧性的生活”。特别是地铁剪票员的情况，当时地铁内弥漫着橡胶般的、薄荷般的气味，与他的绿色制服胸前的成排金扣互相结合，很容易促使我联想起“悲剧性的东西”来。\\n\\n\\nP21\\n渐渐隐约地传来的打夯歌的悲调，贯穿这无序的节日的嘈杂，告知这种表面的无谓的纷扰真正的主题。\\n它仿佛在倾诉人和永恒的极其卑俗的交会，只有通过某种虔诚的乱伦才能成就的交会的悲伤。\\n不觉间，难以分解而纠缠在一起的声音的综合体，已经可以分辨出前驱锡杖的金属声、大鼓低沉的咚咚声，还有抬神舆手们杂乱的吆喝声。我心潮澎湃，喘不过气来，几乎站不住了（从这时候起，\\n强烈的期待与其说是喜悦，不如说是痛苦\\n）。手执锡杖的神官戴着狐狸面具。这种神秘野兽的金色目光，死死地盯视着我从我身边走过，活像要把我吸引住似的。不觉间，我感到自己抓住了身旁的家人的衣服下摆，摆好架势，等待机会从眼前的游行队伍所给予我的近乎恐怖的欢悦中逃脱出来。从这时候起，我对待人生就是采取这样的态度。归根结蒂，只有从过分期待的东西、事前过分修饰的东西中逃脱出来，否则别无他途。\\n片刻后，扛着系上稻草绳的香资箱的壮丁们通过了。乘在神舆上的孩子们欢欣雀跃地通过了。黑金色的庄严的大神舆走近过来了。大神舆通过之前，从远处就可以看见它顶上的金凤凰，恍如荡漾在那里这里的波浪间的鸟，随着众人的呐喊而令人目眩地移动着。\\n目睹这般情景，给我们带来一种灿烂夺目的不安。唯有那神舆的周围，人群拥挤，处在一种充满热带空气似的有毒的无风状态。看来它是一种带有恶意的怠惰。\\n神舆在小伙子们裸露的肩膀上，猛烈地摇晃着。红白相间的粗稻草绳、黑金两色的围栏、菱形饰章和紧闭的泥金门里首，有一漆黑的四尺见方的空间，在万里无云的初夏的正午，不断上下左右摇晃、跳跃着的正四方形的空荡的夜公然君临了。\\n神舆来到了我们的面前。一律身穿夏季单衣、露出大部分肌肤的小伙子，以恍如神舆本身酩酊大醉似的动态蜿蜒行进。他们的腿脚不听使唤，他们的眼睛似乎不是瞧着地面上。\\xa0一个小伙子手持大团扇，一边绕着人群的四周，一边高声呐喊，进行鼓动。有时神舆摇摇晃晃地倾斜了。于是人们又发出疯狂般的吆喝声，重新把神舆抬正了。\\n这时候，不知家里的大人是否直感到乍看是像往常一样迂回游行的这一伙人，仿佛被某种力量所驱动，就凭这种意志，突然间攥住大人的手的我被推向后边，有人喊了一声：“危险！”接着，就不知道是怎么回事了。我被人牵着手，从前院逃走了。然后，从旁门跑回家里来。\\n我不知和谁一起跑上了二楼，走到阳台上，屏住气息，望着正在拥进前院的抬着黑色神舆的一伙人。是什么力量在驱使他们如此冲动呢？我长久思考着这个问题。百思不得其解。几十个年轻人怎么可能不论怎么说也要有计划地企图簇拥进入我家的门内来呢。庭院里的树丛，被他们无情地践踏了。这是真正的节日。我深感厌倦的前院，变成了另一个世界。神舆从那里这里绕了一圈，把灌木全都压毁了。我难以弄清究竟发生什么事了。声音相互中和，简直就像是在那里冻结了的沉默，与毫无意义的轰鸣声交替地传了过来。色彩也是那样，金、红、紫、绿、黄、深蓝和白色在跃动，在沸腾。有时是金色，有时是朱红色，支配着所有地方。\\n然而，唯一鲜明的东西，使我觉醒，使我难受，使我内心充满莫名的苦痛。那就是抬神舆的年轻人那种人世间淫乱的、明目张胆的、陶醉的表情。……\\n\\n\\nP27《圣塞巴斯蒂安》\\n这是一帧收藏在热那亚罗索宫里的雷尼所画的《圣塞巴斯蒂安》。\\n这帧画像以提香式的忧郁的森林和夕空的微暗的远景作为背景，微微倾斜的黑树干就是圣塞巴斯蒂安的刑架。这个英俊青年被赤裸着身体捆绑在那黑树干上，让他的双手高高地交叉着，并将捆绑双手的绳索系在树上。此外看不见绳结。遮掩青年裸体的，只有一块松弛地缠绕在腰身周围的白粗布。\\n连我也能够判断出那是一帧殉教图。但是，文艺复兴时期最后的唯美的折衷派画家所描绘的这副圣塞巴斯蒂安殉教图，毋宁说洋溢着异教的氛围。因为在这堪与安提诺乌斯媲美的肉体桑，没有其他圣者们身上通常所看到的那种布教得艰辛与老朽的痕迹，唯有青春，唯有闪光，唯有美，唯有逸乐。\\n这白皙的无与伦比的裸体被置在薄暮的背景前，熠熠生辉。他身为近卫军而习惯于拉弓挥剑的健壮的臂膀，是在那样合理的角度被抬了起来，他被捆绑的手腕恰好交叉在他头发的正上方。他的脸，微向上仰。望着苍穹荣光的眼睛，深沉而安详地睁大着。无论是挺起的胸膛，紧缩的腹部，还是微微扭曲的身子的腰部周围，都\\n飘逸出一种不是痛苦，而是音乐般的倦怠的逸乐的震颤声。\\n要不是箭头深深射进他的左腋窝和右侧腹的话，他这副模样就像罗马的运动健将，凭依在薄暮的庭院树旁休息，已恢复疲劳的样子。\\n箭头深深地扎进他的紧缩而结实的、四溢香气的、青春的肉体里，欲图以无上的痛苦和欢悦的火焰，从内部燃烧他的肉体。但画家没有画流血，也没有像其他塞巴斯蒂安图那样画无数的箭头，只画了两支箭落在他那大理石般的肌肤上，宛如平静而端丽的枝影投落在石阶上一样。\\n却说所有上述的判断和观察，都是在后来产生的。\\n我看到那帧画的一刹那，我整个存在被一种异教式的欣喜所震撼。我的血液在奔腾，我的器官在浮现出怒色。巨大的、行将胀裂的我的这一部分，前所未有地激烈地等待着我的使用，责怪我的无知，在愤怒地喘息。我的手不知不觉地开始了不能告诉任何人的动作。我感到有一种既阴暗又辉煌的东西，从我的内部迅猛地攻了上来。就在这一瞬间，这种东西伴随着一阵令人晕眩的酩酊醉意迸发了出来。……\\n\\nP30 《圣塞巴斯蒂安》散文诗\\n有一回，我透过教堂的窗口，发现一棵在风中摇曳的不太高大的树。望着望着，我心潮澎湃起来。这是一棵令人震惊的美丽的树\\n。它在草坪上构筑起带圆状的端正的三角形，左右对称地伸展着无数的枝丫，活像一具烛台，支撑着他的沉甸甸的绿。\\n在绿之下，可以窥见纹丝不动的树干，恍若一座发暗的黑檀木台座。其造型完美而精致，然而却不失“自然”的天然优雅的气氛。\\n这棵树本身仿佛就是它自己的创造者，保持明朗的沉默在挺立着。它又的确是一部作品，而且大概是一部音乐作品，是德国乐师为室内乐而创作的作品。这音乐可以称为圣乐的宗教式宁静的逸乐，听起来充满庄严肃穆和眷恋之情，就像葛丝编织的壁挂图案一样。\\n因此，树形和音乐的类似，对我来说具有某种的意义，这两者结合，变成更加强烈而深沉的东西袭击我的时候，这种难以言喻的奇妙的感动，至少不是抒情的，而是类似宗教与音乐之间的联系所看到的那种昏暗的令人陶醉的东西。即使如此，也不足为奇。“不正是这棵树吗？”——我突然暗自问道。\\n“年轻的圣者被反剪双手捆绑在树干上，大量神圣的鲜血像雨后树上的雨滴，滴落在树干上。他粗暴的摩擦折腾在临终的痛苦中熊熊燃烧的年轻肉体（这大概是地面上所有快乐和苦恼的最后证据）都不正是在这罗马的树旁吗？”\\n据殉教史记载的传说，那位戴克里先登基后数年间，梦见犹如无法阻拦鸟的飞翔的无缝的权力时，就想起昔日曾经受阿德里皇帝宠爱的闻名遐迩的近卫军长官的眼神，那是兼备东方奴隶的优美躯体和大海一般无情的叛逆者的眼神。这位近卫军长官因侍奉严禁之神而被问罪，遭到了逮捕。他英俊而傲慢。他的头盔上插着一朵镇上的姑娘每天早晨送来的洁白的百合花。在剧烈的练兵之后休息时，这百合花沿着他浓密的头发流向，优雅的低垂着，这种情景，就好像白天鹅的颈。\\n没有一个人知道他在什么地方出生，从什么地方来。但人们都有预感。他们预感到这个拥有奴隶的躯体和王子的模样的年轻人，是作为已故者而来到这里的。\\n预感到这个恩底弥昂就是牧羊人。预感到它是被选来到这个比任何牧场都更绿韵悠悠的牧场上的牧人。\\n还有好几个姑娘确信，他是从海里来的。 因为在他的胸膛上，可以听到海涛声。因为在他的眼睛里，有生于海边又不得不离开海边的人的瞳眸深处浮现出来的，大海赋予的神秘而又永不消失的水平线。还因为他的叹气像仲夏的海风那样热，带有似被海浪冲上岸的海草气味。\\n塞巴斯蒂昂——年轻的近卫军长官——所显示的美，难道不是被杀害的美吗？五感由沾上罗马血潮的肌肉美味和震动筋骨的美酒香醇培育起来的，健壮的妇女们，不是早已察觉到他自身尚未知晓的可咒命运而才爱他的吗？她们窥见他的白皙的肌肉的内侧，欲图瞄准不远处肌肉被撕裂时从缝隙迸发出来的血潮，比平常的血潮更加汹涌地迅速地向四处流淌。她们怎么可能听不见这种血潮的强烈希望呢？\\n他并非薄命，绝非薄命。他本是最傲慢可咒的人，也可以说是个显赫的人。\\n譬如，就是在甜美的接吻之际，他的眉宇间不知多少回掠过了生活中的死苦。\\n他本人也隐约预感到，等待着他的，就只是殉教了。将他从凡俗中分隔开来的，正是这种悲惨命运的象征。\\n——却说，那天早晨，塞巴斯蒂昂在繁忙的军务追迫下，黎明时分就起床了。他在拂晓做了一个梦——梦见不吉的喜鹊群居在他的胸脯上，搏动的翅膀盖住了他的嘴——这个梦还留在枕边久久不离去。他每天晚上都卧身粗简的被窝，每天晚上都被诱使做海的梦，散发出一股被冲上岸边的海草的芬芳。他站在窗边，一边穿怪讨厌的发出吱吱嘎嘎响的铠甲，一边眺望远方围绕着神殿的森林上空的星座沉落的景象。他眺望这异常壮丽的神殿时，眉宇间浮现出与他最相称的，近乎痛苦的轻蔑表情。他呼了唯一的神的名字，低声念了两三句令人畏惧的圣句。于是，这个细微声竟以数万倍的音量回响。一阵响彻四方的呻吟声，确实从神殿的方向，从一排排把星空隔开的圆柱周围，庄严的传了过来。那里震撼星空，仿佛是某种异样的堆积物崩塌下来的声音。他微笑了。然后，垂下视线，看了看一群姑娘。这些姑娘一个个像平时一样，为了做早祷告。在黎明的昏暗中手举尚在睡眠中的百合花，悄悄地向他的所在走上来……\\n\\n\\nP34\\n“真的，近江这家伙是’过来人’呐。”\\n这是理所当然的。他曾经留级两三次，骨骼出众，脸庞的轮廓也出众，洋溢着一种特权的青春气息。他无故轻蔑的天性是高雅的。在他看来，没有任何一件事是不值得轻蔑的。优秀生因为是优秀生，教师因为是教师，警察因为是警察，大学生因为是大学生，公司职员因为是公司职员，遭他用轻蔑的眼光来评定和嘲笑也是无可奈何的。\\n\\n\\nP39\\n我走过科学教室后面的背阴处，便来到了宽阔的体育场前面的高台上。三百米的椭圆形跑道和许多绕跑道起伏的场地，都毫无区别地被熠熠生辉的雪所包围。运动场的一个角落上，拔地屹立着的两棵紧挨着的巨榉树，伸展着它们那朝阳映照下的长长的影子，给雪景增添了某种意义，\\n似乎是某种伟大的非侵犯不可的明朗的谬误的意义。\\n巨树以塑料般的精致，高耸在冬日的蓝天、地面的雪的反光和在侧面的朝阳之间。金沙般的雪花，偶尔从枯萎的树梢和树干的分叉落了下来。并排在体育场那边的一栋栋少年学生宿舍，以及与之相连的杂木林，一动也不动地还在沉睡中，寂静得甚至连微弱的声音也会激起辽阔的回响。\\n面对这派展现在眼前的令人目眩的景象，我瞬间仿佛什么也没有看见。可以说，雪景原来是一片新鲜的废墟。只有在古代的废墟上才可能有的无边无际的光和辉煌，如今降临在这虚假的丧失之上。\\n\\n\\nP44\\n——可是，对我来说，这种可恶的嗜好（注：对力量、充溢的血的印象、无知、粗野的手势、粗豪的语言、丝毫未受理智腐蚀的肌肉所具备的的野蛮的忧郁），从一开始就已经在道理上包含着不可能。大概再没有比肉体的冲动更有道理的东西了。透过理智的理解一开始出现，我的欲望就马上衰颓。连被对方找出的仅有的理智，也会强迫我作出理性的价值判断。在像爱这样的相互作用上，对对方的要求，理应同时也是对自己的要求。因此希望对方无知的念头，即使暂时也罢，也是要求我绝对的“对理性谋反”。而这无论如何是不可能的。不论什么时候，我都要警惕，不要跟未被理智侵犯过的肉体的所有者，即赌徒、船夫、士兵、渔夫等交谈，并且只能以热烈的冷淡，远远离开他们，仔细凝望他们。也许只有语言不通的热带未开垦地是适宜我居住的地方。如此看来，对未开垦地沸腾般激烈的夏天的憧憬，早在幼年时代就存在于我的心底了……\\n\\n\\nP50\\n初夏的一天，可以说像是夏天做服装样板的一天，又像是夏天的舞台排练的一天。为保证真正的夏天到来的时候万无一失，夏天的先驱只花一天的时间来检查人们的衣柜。\\n\\n\\nP52\\n“是做引体向上吗？”\\n他很有自信地带着生硬的口吻询问了老师一句。\\n“唔，对。”\\n于是，近江带着\\n一副体格健壮者往往表现出来的那种傲慢而懒散的模样\\n，慢腾腾地把手伸向沙地。他用下面的湿沙抹满了手掌。尔后站起来，双掌使劲互相摩擦了几下，便把视线投在头上的单杠上。\\n他的目光闪现出一种渎神者的决心，将瞬间投影在瞳眸里的五月的云朵和蓝天，包藏在轻蔑的冰凉里。\\n他纵身一跃，两只很适合刺上锚形文身的胳膊，立即把他的躯体从单杠上垂吊下来。\\n“嚄！”\\n同学们的赞叹声深沉地飘荡着。谁心中都明白，这并非对他力气大的赞叹。这是对青春、对生、对优越的赞叹。他裸露的腋窝下所看到的丰饶的毛，使他们大吃一惊。\\n它长得如此浓密，甚至令人感到似乎没有必要。\\n可以说，少年们大概都是第一次看到这样茂密的夏季草丛似的腋毛。近江的深深凹陷的腋窝长满了腋毛，连胸脯的两侧都是毛茸茸的，就\\n宛如夏天的杂草把庭院全覆盖住尚嫌不够，还要繁生到石阶上似的。\\n这两处的黑色草丛，在阳光的沐浴下，闪闪烁烁。显出四周的皮肤意外的白，犹如白色的沙地，透着亮的。\\n他的胳膊坚实隆起的肌肉，他的肩膀的肌肉，就像夏天的云朵，腋窝下的草丛被笼罩在暗影中看不见了，胸脯高高挺起，同单杠互相摩擦，微妙地颤抖起来。\\n他这样反复地做了好几个引体向上的动作。\\n生命力，唯有无益的大量的生命力才把少年们镇服了。是生命中过度的感受、暴力性的、简直只有为了生命本身才能说明的无目的感受、这种充沛的不愉快的冷漠，压倒了他们。一个生命在近江本人没有察觉的情况下悄悄地潜入了他的肉体，占领了他，突破了他，从他那里洋溢出来，企图一有机会就凌驾于他。在这一点上，生命这种东西颇似疾病。他那被粗野的生命腐蚀了的肉体，只为了不怕传染的疯狂般的献身，才被置于这个人世间。在害怕传染的人的眼里，他的肉体自然是作为一种责备映现出来的……少年们畏缩地向后退了。\\n\\n\\nP90\\n这样，等于在战争最激烈的时候给我们放了一个月的假，无所事事。我们就像是得到了潮湿的焰火。然而，与其得到一口袋容易用上的干面包，不如得到这种\\n潮湿的焰火\\n的礼物让我更高兴。因为它确实像大学赠给的呆笨的礼物——仅就对这个时代无甚好处来说，这也是件了不起的礼物。\\n\\n\\nP91\\n早晨的天气还寒冷。近几天来未听过警报的笛声。这期间，空气越来越清新，纤细地铺满了眼看就要崩溃的兆头。大气恍如一弹就会发出高雅声音的琴弦。可以说，让人感到再过几个瞬间就将达到音乐境界的、充满丰富的空虚的静寂。就连投射到阒无人影的月台上的冷淡的日光，也震颤着一种音乐的预感似的东西。\\n\\n\\nP114\\n花显得出奇的娇媚。哪儿也没有映衬着花的红白帷幕、茶馆的热闹、赏花的群众、卖气球的卖风车的小贩，所以在常绿树的空隙纵情怒放的樱花，令人感到仿佛是看到了花的裸体。自然的无偿奉献、自然的无益奢侈，还从来不曾美得像今年这个春天那样出奇。难道这不正是大自然再度征服大地吗？我不由得产生了这种不快的疑惑。可不是吗，今年春天的华丽非同寻常。菜花的黄、嫩草的绿、樱花树干水灵灵的黑、压在树梢上沉闷的亭亭如盖的花，这一切在我的眼里映现出某种带有恶意的色彩的妖艳。\\n这也就是色彩的火灾\\n。\\n\\n\\nP123\\n旅馆——是我所幻想的。这是实现我少年时代以来的幻想。同时，也是我埋头阅读恋爱小说受到的坏影响。如此说来，我对事物的思考方法，有堂吉诃德式的地方。\\n迷恋于阅读骑士小说的人，在堂吉诃德的时代为数众多。但是，要彻底地受到骑士故事的毒害，就非得是一个堂吉诃德不可。我的情况与此别无二致。\\n旅馆、密室、钥匙、窗帘、温和的抵抗、战斗开始的意见一致……正是那时候、正是那时候，才表明我是\\n可能\\n的。犹如天生的灵感，我身上的\\n正常性\\n有可能燃烧起来。我简直像着了魔，脱胎换骨变成了另一个人、另一个真正的男人。正是那时候，我毫无顾忌地拥抱园子，我也能竭尽全力地去爱她。疑惑与不安，已经被拂除殆尽，我可以由衷地说“我爱你”了。从这天起，我甚至可以在空袭的大街上大声高呼“她就是我的情人”！\\n在幻想式的性格里，会滋长对精神作用的微妙的不信任感，它往往会导向梦想（注：这个梦想是动词）这种违背人伦的行为。梦想犹如人们所认为的那样，不是精神的作用。毋宁说，它是精神上的逃避。\\n——但是旅馆的梦，作为\\n前提条件\\n未能实现。园子再次给我写信说，结果哪家旅馆都租不到了，你还是住在我家吧。我回信表示了同意。一种似是绝望的安心感，占据了我。我再怎么样也无法把这种安心曲解为绝望。\\n\\n六月十二日\\n我启程了。海军工厂方面，全体人员的士气渐渐消沉。若要请假，任何借口都是可以的。\\n火车很脏，而且空空荡荡。不知怎的，对战争期间火车的回忆（除了那次愉快的一例意外），都是这种凄惨的情状。这回我也像孩子似的受到凄惨的固定观念所折磨，被火车摇得晃晃荡荡。这就是我想直到同园子亲吻之前绝不离开那村庄的理由。\\n然而，这与人同自己的欲望所致的畏缩不前作斗争时充满自豪感的决心是不同的。我觉得自己仿佛是在行窃。仿佛自己是个懦夫，尽管自己不愿意，却在头头强迫下不得不去充当强盗。这种被别人爱着的幸福感，刺痛了我的良心。也许我寻求的，是更具有决定性的不幸吧。\\n\\n\\nP127\\n两棵白桦树恍如一对心地善良的姐妹，把它们的身影投在斜坡上。\\n\\n\\nP131\\n园子！园子！列车每摇晃一次，她的名字就在我的心灵上浮现一次。这个名字像是一个难以形容的神秘的称呼。园子！园子！每重复这个名字一次，我的心就被撞击一次。犹如惩罚似的愈发增加了剧烈的疲劳。纵令我想对自己说明这种透明痛苦的性质，但也是个找不到类似例子的难解的问题。这种痛苦同人类应有的感情轨迹相距甚远，所以在我来说，连把它当做痛苦来感受也是困难的。打个比方来说，这种痛苦，就像某个晴朗的中午，一个在等待鸣午炮的人已过时间仍未见午炮鸣响，欲图在蔚蓝的天空寻觅午炮的沉默一样的痛苦。这是可怕的困惑。因为全世界只有他一个知道午炮没有\\n在正午时\\n分鸣响。\\n\\n\\nP134\\n我认为不可能的事终于发生了。我没有预料到我和那家子人对战争的感受方法和思考方法竟然存在如此巨大的差异。我才二十一岁，还是个学生，去飞机工厂做工，又在绵绵的战争中成长，我将战争的力量想的过分传奇了。即使战争如此激烈，但在战争的悲惨中，人类行为的磁针依然是准确无误地指着一个方向。就说自己吧，迄今自己在恋爱，可为什么竟没有意识到呢？我浮现出奇怪的轻蔑的一笑，又将信重新读了一遍。', metadata={'id': 'doc:notiondb:9c96349fee7a47b5a8af0367ba829256', 'author': '【日】三岛由纪夫', 'name': '假面自白 【日】三岛由纪夫', 'source': '读书笔记（文学）', 'tags': '小说', 'date_start': '20160324', 'date_end': None}),\n",
       "  0.9265),\n",
       " (Document(page_content='【重一郎】\\n在从前的无为之中，比如说观赏树木之时，他会情不自禁地焦虑于树梢为何要比树枝纤细，树叶落尽的枝条又为何如此纤细地刺向蓝天。榉树在冬天的高大身影，总让他联想起地图上河川的纤细支流，恰似天上有着看不见的树木源泉。仿佛在那蓝天的分水岭上流下无数梢枝合为一条黑色的干流，俄而凝固成为树木的形态一般。是不是因为树木是从天上流下的纤细河川的晶体化，所以繁盛枝叶总是伸展向天，梦想着再度溯流回到天上呢？\\n不过这样的幻想并非暗示了他的诗人气质。他时常被现实打得粉碎的世界幻影所烦恼，因而对每一事物的形态和效果都产生了怀疑。他曾经认为剪刀的形状才是永恒。张开的剪刀以支点为中心，分离的尖端形成对立的空间，在人的手中，可以将世界轻易一分为二，每个空间都包容了那一片的山川湖泊。然而剪刀一旦伴着尖锐的金属声合上，广大的世界便将死绝，只剩下剪开的白纸和怪异的器具，仅此而已。\\n这是富于弹性的世界，忽而苏醒，忽而息绝，在众人周围连绵不绝、焦躁不安地变化。重一郎从根本上怀疑日常工具的效用以及它们不断强加于人的卑微目的。下雨天，伞在头上展开不知所云的黑色形态。握在手里的弯曲把手的可憎面目、铁骨逼迫黑色绢布展开的无情的过度紧张、落在伞上淌向八方、永不停息的执拗之雨！\\n大杉家附近有一片空旷的场地，场地的一角有个桶屋，晴天里会把席子一直铺到无人通行的空地上去。几个工匠围着新洗澡桶，发出敲击钉子的声音，重一郎在散步中想到那桶不久之后将被用于某一家人的入浴，不禁生出厌恶之情。蜷身钻进木桶的丈夫妻子孩子们的松弛裸体和稀疏体毛、腰部附近忘记冲洗的白色肥皂泡，还有那可怕的对生活的满足。\\n每次去东京旅游，鳞次栉比的新建高楼、高楼上连白天都亮着荧光灯的窗户，带给重一郎巨大的恐怖感，在那些窗户后面，人人大声喧哗、人人认真工作，却没有任何目的！\\n重一郎看透了，这个世界完全丧失了统一感，所有的一切都处在可怕的分崩离析中，所有的汽车方向盘和车轮都是离散的，所有人类的大脑和胃都是离散的。\\n\\n【重一郎】\\n“赫鲁晓夫和肯尼迪应当尽早会面，共进早餐什么的，不用大餐，吃得太多头脑会迟钝。”重一郎仿佛因注视天空太久而疲惫烦躁，一个人喋喋不休，不停搓动被冷空气冻僵的双手，“就该马上拿起电话，说一声’给我接华盛顿’。丢开无聊的自尊和程序，严肃商讨地球人的未来，还有煮温泉鸡蛋的工具。那些人哪，就是离日常生活的具体事物太远，所以世界才有灾祸。我以前也是那样，正因为是那样，所以我很明白他们的想法。以前哪，剪刀、阳伞．蔬菜色拉．庭院的树木，全像是从我身边逃走一般的感觉，就像星星从人类身边逃走一样。\\n“裁军也好、柏林问题也好、停止核试验也好，应该和温泉蛋啊、苹果派啊、烤面包什么的放在一起讨论。站在宇宙的高度去看，这些东西都具有同等的重要性。他们必须认识到这一点。地球人以为杀人才是大事，所以总受不了诱惑，犯下杀人的罪过。\\n……（略）”\\n\\n\\n【哓子】\\n晓子原本就持有悠然的惬意与超脱，自从得知自己是金星人一来，对自己的品性愈发认同。仔细观察，会发现在晓子的冷傲中有着自足的小动物般的伶俐与悠然的满足。身为无欲的女子，她同时又有一种几近强行拒绝欲望的优点……晓子赞同给予世界和平，正如给予脏兮兮的孩子们面包一样。\\n\\n\\n【哓子】\\n那天早上看到在东方天空肃穆登场的金星，晓子感觉自己真真切切地找到了自身纯洁的根据。\\n说金星是纯洁的这本身是一个悖论。但是，沐浴拂晓的寒气而出现的那个身影，恰如在腓尼基海滨的绿色泡沫中出生的时间女神一样，都有一种对爱欲的厌腻法则茫然无知的模样。……（略）\\n她的纯洁特性与受到卑微道德束缚的地球女人的纯洁不同，是超越了一切伦理的、闪烁着耀眼光芒的星之纯洁。纯洁！纯洁！晓子的内部永远都如音乐般在咏唱着这个词，哪怕是在上学的拥挤电车里、在十六号教室的美国文学史课堂上，这个词都在反复咏唱。\\n……（略）\\n和同学们到不常去的酒吧，看到店里摆放了无数橡胶树，播放着嘈杂的拉丁音乐唱片，昏暗的舞池里男男女女大白天就紧挨在一起，晓子虽然没有立刻起身摔门而出，但一直都紧闭双眼靠在椅子背上。\\n同学问她，“怎么了？”\\n“累了，想闭一会儿眼睛！”\\n如此一来，猥亵的桑巴唱片中激烈叫唤的副歌，忽然就成了清澈悦耳的声音，听上去就像是在叫喊“纯洁！无垢！哦哦，哦哦，无垢！”在晓子紧闭的眼睛里，小小的昏暗咖啡馆忽然间也变了模样，仿佛变成小小的冷飕飕的圣地，充满了拂晓的寒气。墙壁沐浴着拂晓的微光，人人都穿着散发白色光芒的长袍，虔诚地坐着。这一定是金星上的酒吧，晓子想，很快就会有货真价实的金星产咖啡端上来吧……联想是没有限制的。\\n在这年晚春金星大距的时候，透过下班高峰的西武电车的车窗，可以在原野的尽头辨认出金星这颗傍晚时分的明星。被男人们的肮脏体臭压迫、因为活生生的吐息别过脸、拎包的手无法动弹歪着身子、腿随着电车的摇晃东倒西歪……在人类顽固、迟钝并且无礼蠢动的肉体仿佛要压碎躯体的时候，晓子洁白清澄的脸庞犹如睡莲一般从无数污秽的肩膀中冉冉升起，凝望车窗外的远处原野中出现的金星。电车摇晃的时候，金星也随之摇晃，看起来就像就像是追在疾驰的电车后面飞奔而来一般。那份仿佛不可摧毁的纯洁光芒，不停地在晚春的夕空上升起、升起⋯⋯\\n\\n\\n【竹宫】\\n竹宫不是盲目反抗旧习俗与旧习惯的青年。他从少年时代开始就形深深倾倒于美的沉静性质，对于美从不变化也从不拯救自己的事实从未失望。与其他的少年不同，他倾心于时而会来救赎自己的东西。\\n他喜欢孤独，喜欢散步，喜欢北国之海的色彩，预见自己会在这个北方的古老町市默默无闻地度过一生。不为世界所知、埋没于满是尘埃中的美丽，这便是他年轻时的安慰。\\n北国空气的清澈、如这座以陶器闻名的町市所出产的白陶一般孤寂的清净之颓废、还有那釉瓦的恬静反射，全都与这座古老的城下町本身沉淀于时间之水底的身影相契合。他怎么也无法与人接触。人类是遥远而喧嚣的存在。在他的内心逐渐出现了孤独的安乐之核，死之彻悟愈发豪奢，化作金泥与朱色高肉九谷烧茶碗那样的、堆叠的美之沉渣。金泥的炫目光彩。死。美丽的青春之孤独。他十分清楚自己的孤独有多美！并且对于示好的女性向来敬而远之。\\n青年人的热情，北方人的执拗，“进步的”思想，等等，都是猥亵卑俗的琐事，他感兴趣的只有个人的醇化、例外的梦、反时代的确证。他认为应该存在的东西，在这世上绝不存在。但若是不存在某些东西，那便是应该存在的。这应该既是美的逻辑，也是艺术的逻辑。但如果他不是艺术家，又该怎么办才好？给已经存在的东西加上存在之梦，将之化作二重之存在，将一切都进行二重透视，如此即可。\\n孩提时代带着厌烦去学习的谣曲，他却逐渐对其冷淡而奢华的章句产生了北国人一般的喜爱。在北国，那装饰过度的文体与昏暗单调的冬季室内形成鲜明的对比，与过于华丽的九谷烧和高莳绘一起，同昏暗的忧郁感受保持了平衡。\\n金泽又是星星的町市：这里四季空气清澈，除去被霓虹灯污染的香林坊一角，不管町市的哪处檐头，星星都如温柔的点滴一般闪烁光芒。不过竹宫年幼时并没有对星星和天文特别感兴趣。朋友中倒也有人拿星图到学校炫耀展示，但他并没有特别受那些同学的影响。不过后来回想起来的时候，在他内心一定长眠着对星星的关切吧，就像那在他的意识无法回溯的古老时代开始，便在满是浮萍的水池底部沉寂的星之投影一样。再后来，就在这年春天《道成寺》的演出上，星星第一次显现在他的心中。\\n那是四月的事。北路之春正在盛放，花与梅争奇斗艳，蝴蝶兰、杜鹃花、桃花、杏花，齐齐乱放。古老的武家大宅上画着兔子的瓦当与麻叶模样的房瓦也在阳光下闪亮。竹宫在冷飕飕的镜之间换上衣裳，等待出场。充盈心灵的清净之紧张啊！幸福的瞬间几乎要将竹宫的自我存在彻底淹没。音乐的陶醉如涟漪般从织锦的扬幕彼处层层涌来，将他包裹，仿佛要将他从恒久飘浮的存在的二重性中拉开，催促他与自然合而为一。\\n他自己正在成为人们的梦想，因而在他澄明的心中不需要再放入什么梦想。穿着纯白袜子的脚犹如木雕，脚趾踏上擦拭得无比光洁的悬桥。\\n“哎呀喜哉，且容舞尽我身”——随着这句台词，仕手暂且退至后见座更换装束，也即是戴上前折乌帽，然后在桥挂的一之松位置站定，于“喜哉且舞”的乱拍子入场。\\n犹如深渊之吐息的一调小鼓催响，竹宫立住右脚拇指，随后浮起身子，横过扇子，开始了足足二十分钟的乱拍子。在能舞台的空间上，巨大的紫缎子的钟犹如沉重的苦恼一般寂静无声。\\n小鼓再度激烈起来，拍声犹如肆虐旷野的狂风。竹宫从深井面的小小眼孔中看到不确定的外界。对竹宫而言，外界基本上丧失了意义。这场乱拍子留有中世延年舞中乱拍子的遗风，呼吸、动作、小鼓的节拍，全都关联在一起。演者一边整顿呼吸，一边调整关系。\\n古老的假面里侧的木头表面贴在他满是汗水的颊骨上，呼吸笼在深井面的内部，给他的心绪带来苦患的酩酊。眼中虽然充斥着场内的暧昧光芒，他却在面内感觉到深广的黑暗。小鼓枯木般的节拍声在这黑暗的四处肆掠。\\n刚一分辨出假面的内侧与他自身的脸庞之间所存在的黑暗，竹宫便有了一种不可思议的体验。即是说，他产生了这样一种感觉，他自己看不到的美丽的深井面的表面才是他的脸，在那内侧隔着广大黑暗的他自身的本来的脸，失去了脸的身份，变成了他的无意识的“存在”之形，从尚不知晓的深邃记忆底部直面这黑暗的旷野。\\n充满音乐的他的肉体，束缚双脚的清洁的足袜，不断保持身体平衡的努力中生出的心灵的澄明空虚，他的确身在美丽之中。但是骤然间，能面的小小眼孔中窥见的世界变幻了容貌。\\n在空中摇发的紫安子的钟、充满舞台与客席的不确定的光芒，所有这一切都消失了。那时候，从能面的眼孔中，他窥见了别的世界。他感觉自己置身于能面内侧广大的黑暗矿野中，一边听着尖锐的疾风，一边徐缓而坚实地一步步踏出去。路途非常遥远，双腿非常疲惫，但他的存在之内核却预见到在黑暗的远方存在着格外亲切的、犹如故乡一般的地方。他在走。撕裂空气的可怕音乐在鸣响，有时又化作仿佛给灵魂之烙上印记般的笛声……他在走，能面的眼孔伴随他的接近而逐断变大，其中射出的光芒侵蚀了面前的黑暗。\\n如果要问竹宫是在哪里预感到星星的，那必定是从听到这笛声的时候开始的吧。细细的笛声犹如从宇宙的黑暗中传来的一缕星光，而且在竹宫的耳中，那声音间或的嘶哑也恰似星星的明亮光芒在曙光中稀薄一般。既然如此，那笛声必定就是拂晓之明星的光芒。\\n\\n\\n【三人之恶】\\n但是三个人的心依旧被俳句封锁着，封锁在那个微不足道的诗歌的日常的极小的牢笼里。俳人在早春的朝阳映照出遗留下的小小的、无意义的并且是没有要点的、诗一般的恶意。那像是黑色的小飞虫一样，在三个人的鼻子面前挥之不去；像是在漆盒里摆上精巧的干果供奉到三个人面前的小而巧妙的恶意……\\n\\n\\n【三人之默想考察】\\n羽黑\\n感到，在开放暖气的咖啡店里，盆栽的橡胶树一直在用下垂的叶片触碰他的头发。陆地植物那令人不快的艳丽触感……他在梦想杀戮知识分子。\\n全世界的学者、教授、艺术家、宗教人士，一切智慧的选民汇聚一堂，全被剥光衣服，扔进高墙饿死。这些人绝不适合英雄般的死，饿死是最适合的。在上书房养大的他们，裸露出人类最为丑陋的肉体。羽黑知道自己一定会每天都把耳朵贴在高墙上取乐。高墙里时不时响起尖锐的呼叫，随后则是永恒的沉默。日月流逝，被视为人类精神结晶的科学、宗教、哲学、艺术，最终都会在饥饿面前发出崩溃的声响吧。还会听到人类的文化恰如沙城一般逐渐风干崩溃的声音吧。嗜食人肉的美丽风气将会振翅翱翔……尖锐的哀号，永恒的沉默……人类文化的终极之神，也就是嗜食人肉的神，将会身披金缕衣裳，笔直挺立于斯。幸存者们侧耳倾听那神的宣言。人类文化的理想，根据历史的必然性，全都终结于嗜食人肉的宣言。这是在幸存者们耳中回响的最后的诗篇。黑暗的、光辉灿烂的、美丽的风在肆虐。所谓救赎，不就是这种弹琴一般的风、嗜食人肉的风吗？他们头顶上的临死前的蓝天，每天准时的晚霞，映在大腿骨上的抒情的云，牙齿般簌簌而落的实践理性……羽黑贴紧耳朵等待着。终于，完全沉默的一天到来并且持续下去，就这样，人类的一个变种、最为丑陋的种族灭绝了！\\n曾根\\n定不下心，眼睛四处游走，将从前那种既羡慕又嫉妒的感情替换为得知自己是宇宙人之后的无比公正的检察官的感情。曾根有个习惯，喜欢点头发出自言自语的“噗”的唇音。在默想的时候，这习惯愈发频繁了。\\n“噗，名人也好、富人也好，有女人缘的美男也好，噗，这些家伙全都该毁灭。”\\n应该将地球上的所有理发师动员起来，任命为死刑执行人，应该将地球上所有理发师的椅子全都排起来，按顺序让名人、富人、美男子一个个坐下，用白布覆盖身体，用蒸过的毛巾盖住脸，一个个仔仔细细用剃刀割开声门。完全消毒的剃刀是理发店引以为豪的用品，就算在这样的场合也不应该玩忽职守。林立的数十万个蓝色、红色与白色的旋转筒愉快地旋转，将其象征具象化——也就是说，死者脸色的蓝、血液的红、消毒毛巾的洁白……放眼望去，尽是被擦得光辉灿烂的理发店的椅子的行列……然后，在所有的死刑执行完毕之后，曾根的商业对手，也就是全世界的理发师们接受慰问，被领去巨大的共同浴场，在那里畅享泡澡的最后，突然被蒸汽彻底窒息。\\n栗田\\n一直紧盯着坐在对面椅子上的年轻女人的屁股。女人正在吃一份大点心，她的屁股被紧身的淡绿色格子短裙包裹，呈现出一种超越了女性自身的过分野心般的形态。\\n女人都是从某种东西中超越出来的，而那超越出来的东西又切实填满了存在的框架。这成为人类世界的连锁基础。栗田想，自己切断那条连锁就行了。让地球上的所有女人都不孕。不用着急，百年之内，人类必定灭亡……\\n粟田眼中隐约浮现出生殖连锁断裂的人类的清澄身影。未来的幻影、不停重复再生的幻影全被打碎，人类仅为自己而存在，为那艺术品一般的一次性而自足。那样的人类，将会抛却憧憬与渴望，谱写出美丽的终曲，换言之，那时的人类将成为远比现在更可容忍的存在吧。\\n……\\n“好了，规定的时间到了。大家说说刚才默想的内容吧。”羽黑说。\\n于是三个人开始彼此交谈作乐。\\n“让我们的憎恨逐渐升高，”副教授用指导者一般的语气说，“然后我们还要多加磨炼，直到最终呈现出与\\n人类爱\\n无比相似的面貌为止。我们所期盼的终结性的目标，是全体人类的安乐死，我们温柔的心再也无法继续坐视人类的苦恼了。”曾根小心翼翼地插嘴说，“可以允许一个小小的例外吗？”\\n“什么例外？”\\n“也没什么，不同只是我的妻子——妻子和孩子，如您所知，他们和我们不同，是人类——在灭绝人类的时候，可以放过他们吗？地球毁灭之际，我想把妻子带去天鹅座。”\\n“行啊，”羽黑当即回答，“等到灭亡的那一天，如果你还是同样的想法，那没问题。”\\n“哎呀，太感谢了。”理发师感谢道。\\n\\n\\n【羽黑】\\n他一个人的时候总会很热心地照墙上的镜子。那是一张四十五岁的知识分子的削瘦的脸。怎么看都看不够的脸。向镜子呵口气，雾气遮住脸庞。同时间，纠缠了他几十年的口臭也隐约反弹回来刺激他的鼻孔。他如今对自己的口臭也产生了些许的喜爱。这种略显作呕的味，并不涉及旺盛的生命力，而正是那所谓的学究式腐臭吧。\\n就像他这个年纪的独身者通常的情况一样，羽黑没有饲养小猫小狗小鸟什么的。他自己就是他的丑陋的宠物狗、狡猾的宠物猫。自己逗弄自己，自己给自己喂食⋯⋯\\n对面的二房长屋是工学部教授的家。今天晚上也有他家中女儿练钢琴的声音。羽黑凑近窗帘，毫无顾忌地观察对面明亮的“家庭之灯”。灯光落在枯草上，钢琴的稚拙将幸福洒在周围，那是宛如刻意为之的完美稚拙。\\n“人类真是麻烦的东西，把幸福的泥水溅得到处都是，就像下雨天的汽车把泥水溅到路边行人的衣服上一样。行人明明没有过错！”\\n不过羽黑对幸福并没有什么偏见。因为他相信人类苦恼的永恒性。\\n羽黑在孩子般的近乎战栗的欢喜中反刍着一个想法。那是他每天晚上的习惯。\\n“谁会知道，我是如假包换的宇宙人啊！大学里有谁会知道，我不是人类啊！”\\n然后，他拿起指甲刀，坐到书斋一角的古老安乐椅上，开始像女人一样仔细修剪指甲，小心翼翼地锉磨。着手工作之前他总喜欢进行这类无聊的肉体消遣，为了牢记不忘人类的肉体。\\n他的指甲像纸片一样轻松剪下，又被锉刀锉平。羽黑一边愈发精心注视自己苍白的指尖，一边沉湎在人类时代的回忆里。没有爱的青年期，没有爱的少年期，不管回到什么时候，过去都充满了不曾被爱的回忆。\\n他扫了一眼堆在桌上的试卷，因为都还没批，更让他觉得厌烦。新来的、“青春”的、废柴的、毫无独创性的头脑中挤出来的那些雷同的答卷。青春的迷茫和对自身的误解粘着油乎乎的手印，在满满的丑陋字体下蠢动的答案⋯⋯\\n⋯⋯（略）\\n孩提时代，他是个脑袋大、喜欢认死理的苍白孩子。被同学起了个绿豆芽的外号。他母亲梦到过从他脑袋里飞出无数星星的梦。他虽然顽固相信自身的无力，但大家都怀着恶意认定他是秀才。他眺望夜空，幻想有一天自己的灵魂飞上天空与星星交流。一颗颗星星仿佛冰冷闪烁的脑髓。他把木屐内侧涂成银色。那本就是无意义的事，但母亲认为不吉利。位于北六番的陈旧昏暗的家，只有房间数多。表兄弟来家里玩，把没力气的他捆在后院的青桐树上，朝他的脸吐唾沫，开心地笑着在他周围转圈跳舞。母亲已经死了⋯⋯\\n\\n\\n【曾根】\\n曾根回过头，远远看着身材娇小的妻子。他感到自己微胖的身躯浮上了半空，四周的云朵犹如早春的绢丝在身上裹成厚实的外套。他凌驾在家人之上。人类中唯一值得救赎的只有他眼前的家人了。\\n夫人秀子以前除了扁平的狮子鼻以外，还算是个长相讨喜的姑娘，不过年过四十之后就总是一副愁眉苦脸的模样，再也谈不上好看。秀子全心全意地爱自己的丈夫，\\n只不过那种爱有些类似于小孩子的独占的爱，就像他们对待存放在小盒子里的折弯的旧钉子或者过期的收据一样。\\n秀子似乎隐约感到丈夫体内存在一种异乎寻常的嫉妒和憎恶，不过她也知道那股情绪的对象与自己毫无关系。正如世上其他的妻子接受丈夫把玩盆栽、热衷棒球之类无伤大雅的嗜好一样，她丝毫没有把那股情绪放在心上。秀子总是很忙碌，甚至连听曾根说话的时间都没有。家务堆积如山，给店里工作的曾根和学徒们拧干热毛巾递过去的也是她。\\n\\n\\n【三人的青叶城之旅】\\n“用剥核桃器毁灭地球，这个主意太新潮了，在我们这三个人里是最棒的，谁都不可能一下子想到。”\\n醉意渐渐消退，曾根望着前方耸立在星空下的护国神社门前鸟居的横木，感觉自己仿佛从此便参与到宇宙机密中去了，\\n怡人的虚荣心\\n让他不禁绷紧身子。\\n“目前我总结出来的方法， 就是要与和平运动背道而驰。换句话说，和平运动总是搞什么游行示威、签名请愿，这些做法需要一定的人数和集体行动；而战争运动不能照搬这些方法。战争的起因与其说是集体的憎恨情绪，不如说是某个人的一时兴起、精神错乱，或者是所谓‘不幸的’偶然。\\n“你们明白吧？集体时代已经结束了。只不过，对于要将这段表面的规范立为根本原则的现代史而言，集体时代的终结，乃是最可怕的秘密。\\n“我们的做法不依赖集体、不呼吁群众，只需要在冥想中动摇人类罪恶的核心，让人类走上自我毁灭的道路。当代的真正现实是罪恶成为孤独之诗，诗已成为孤独之恶。每个人都认为集体化和规范化的尽头必然是战争，但其实战争存在于个人心中的小小的诗中。这才是现代。\\n“领导世界的政治家、ICBM基地的司令官、按下按钮的下士，总之就是诸如此类的人物，只要某一天犹如花粉颗粒一般的诗潜入他们心中，让他们打个喷嚏就行了。战争就会因此拉开帷幕。', metadata={'id': 'doc:notiondb:9f03fc5852944f769fb17a829bf96554', 'author': '【日】三岛由纪夫', 'name': '美丽之星 【日】三岛由纪夫', 'source': '读书笔记（文学）', 'tags': '小说', 'date_start': '20150818', 'date_end': None}),\n",
       "  0.947),\n",
       " (Document(page_content='奔马 \\xa0ホンバ\\n【日】三岛由纪夫\\n\\n\\n1\\n在繁杂的记忆里，随着时光的流逝，梦境与现实逐渐等价均值，曾经发生之事与似曾发生之事间的界限逐渐淡化。在梦境迅速吞噬掉现实这一点上，过去再一次酷似未来。\\n当人们还年轻时，往往认为现实只有一个，而未来却孕育着种种变化；可随着年龄的增长，现实变得多种多样，而且过去扭曲成无数的变形。而因为过去的变形似乎又连接着一个又一个复杂多样的现实，因此，现实与梦境的界限也就变得越来越模糊不清了。因为，如此易于变迁的现实的记忆，此时早已经变得与梦境相同的维度了。\\n\\n\\n2\\n如同马夫沾染上了马匹的气味一样，三十八岁的他，也早已被这种法律正义的气味所熏染。\\n\\n\\n3\\n“这是一张对人生还一无所知的人类的脸，”本多想到，“这张脸这时还无法相信，刚刚堆积的白雪不久就要融化，就要遭受污染。”\\n\\n\\n4\\n他曾对清显说起，大正初年的我们正值青春年少，可几十年过去后，那些细腻的情感皱襞（bí）就会被遗忘得一干二净，我们也将会和那些时的剑道部成员一样，统归入时代的“愚神信仰者”行列。这一点，果然被他言中。然而使他感到意外的是，那个愚神现如今却使他怀念不已。比起自己曾糊里糊涂笃信过的高尚的神明，倒是愚神看上去显得更美丽——这种情感萌发于不知不觉间。准确地说，本多眼下被推落进的少年时代的洞穴，并不是和往昔处在相同位置的同一个洞穴。\\n……（略）\\n这正是时间这个东西所赋予人心的一种不可思议的、认真的演技。这也是一个尝试：不强剥过去的记忆中那些银上的微妙的谎言锈斑，而是重新演示包括梦想和愿望在内的整体形象，依靠时间所赋予的演技，努力发现过去的自我未曾认识到的、更深层次的本质的自我形象。就好比从遥远的山顶眺望曾经住过的村庄，即使牺牲掉在那里居住时体验的细节，曾经在那里居住过的意义却会变得明晰，居住期间曾认为是大问题的那个广场石板地上的凹坑，远远望去，却因为水洼中的一点闪耀，成为美丽的、不拘一格的一种美。\\n\\n\\n5\\n本多对于剑道一无所知，可就连他也看得出少年饭沼所摆架势的端正。无论动作多么剧烈，在每一个瞬间，他的形体都宛如粘贴在空间里的藏青色纸型，纹丝不乱。少年的身体绝不会跌入空气的泥土中而失去平衡。因此，唯独他周围的空气看上去不是热乎乎的黏腻的泥土，而像是清澈自如的水。\\n……（略）\\n两柄竹剑几乎直立地搅在了一起。如同停泊着的船只上的桅杆那样在微微摇晃。护胸就像船体一般闪现出光泽，好似敌对双方正奋力共同支撑起一片绝望的蓝天。\\n\\n\\n6\\n在熏风呜呜作响的间隙，静谧宛如雨点一般洒落下来，耳边响起了牛虻飞过时发出的振翅声。杉树树梢如同许多长矛的矛尖直刺明亮的天空。漂浮、移动着的白云。在阳光的照耀下显得浓淡不均的樱树树冠上嫩叶的团团翠绿……不知不觉间，本多沉醉在了幸福里。他认为，只有这种幸福，这种把那些不明缘由的淡淡悲哀当做薄荷糖一样含放在口里的的幸福，才是真正的、永恒的幸福。\\n\\n\\n7\\n时至今日，本多不由得意识到残留在自己青春时代的清显那生命之羽的猛烈搏击。本多从未打算要像别人那样度过自己的人生，可清显那迅疾而逝的、美丽的人生，却宛如开放出淡紫色花瓣的寄生兰，在本多的人生之树最为重要的那几年间扎下了根，于是，清显的人生代表着本多的人生意义，让本多也孕育出原本不可能开放的花苞。\\n\\n\\n8\\n我只是认为，在学习历史时，不能只着眼于某一时代的某一局部，而是必须仔细研究那个时代诸多相互矛盾的复杂因素，通过对局部的研究来把握全局，对赋予局部以以特殊性的各种因素细加琢磨，并把它置于均衡、整体的观察之中。\\n我认为这才是学习历史的意义之所在。因为不论在哪时代，当代的事物映入到个人眼睛里的范围都是有限的，因而把握它的全貌也是非常困难的。只有这样参考和借鉴历史的全貌，生活在当代每时每刻的局部世界的人们，才有可能通过时隔久远的历史来观察整体世界，并因此而得以匡正自己的―管之见。这就是当代人对历史所拥有的一种令人高兴的特权。\\n学习历史，决不是援引过去的局部特殊性，来使现代的局部性的特殊事物合理化。也不是从过去某一时代的拼图玩中，取出一定形式的模块套用在现代的某一局部上，然后再大喝一声“快哉”。那只是把历史当做玩具，当做孩子们的游戏。我们应该知道，昨天的纯粹和今天的纯粹不论如何相似，它们的种种历史性条件却不尽相同。假如你想找出纯粹之间的亲缘关系，就应该找到历史条件相同的、现代的“对立的思想”，这才是只占特殊极小部分的“现代的我”所应该采取的谦虚态度。在这里，历史问题在抽象中被舍去，而只把“纯粹性”这一人类的、超历史的因素当做研究对象。这时，同一时代所共有的历史性条件也就仅仅成了方程式的定数。\\n年轻人尤其需要避讳的，是把纯粹性与历史混同起来。我所感到的危险，正是你对《神风连史话》的倾倒这一点。我认为，最好把历史始终作为整体来把握，把纯粹性看做超历史性的东西。\\n\\n\\n9\\n“那位审判员不敢接触灼热的火钳，只想碰一下火盆。可是火钳和火盆却是两种完全不同质的东西呀，火钳是金属的，而火盆则是陶瓷的。他虽然是一个纯粹的人，但却属于陶瓷派。”\\n\\n\\n10\\n时至今日，饭沼还在为政治信仰与构成信仰源泉的灼热感间长期存在的龃龉而苦恼。因为从少年时代起，饭沼就把一种坚不二的忠诚献给了清显。这种忠诚是那么热烈和温柔，时而蕴含着愤怒和轻蔑，时而如瀑布般从天而降，时而又似火山喷射而出。从更微妙的意义上来说，这种忠诚其实是献给了清显的美。这是与背叛相差无几的忠诚，也是不断孕育着忧愤至情的忠诚。因而它是一种无须赋以任何其他名称的感情。\\n他把这种感情称之为忠诚。好吧！可这种感情离为理想而献身还很遥远。而那难以言喻的美却在诱惑着他，使他距自己的理想更加遥远。他在抗争着这一切，内心里充满了想要把理想与美巧妙结合起来的焦灼不安。而想要把它们结合起来这一想法的本身，就是一种强烈的需要派生出来的感情。从一开始，这种忠诚就带有孤独忠义的影子，它是宿命般地放在他这位少年前面的一柄感情的短刀。\\n饭沼在训诫门生时，爱用“眷恋皇室之情”这句话。那时，他可以口若悬河地把这句话讲得非常生动，甚至使听讲的人感动得双眼发亮，浑身颤抖不已。很显然，他的这种感动的源泉，来自于少年时代自己的体验。在其他任何地方，都是不可能获得这种体验的。\\n饭沼不是那种所谓有自知之明的人，因而他能够时常忘记源于远方的自己感情的实质。他还可以随心所欲地让火焰超越时空地移动，在自己认为合适的地方燃烧起来，从而把自身也暂时置身于火焰的簇拥之中，品味着同样的热烈和陶醉。饭沼并没有因此而感受过什么内疚，但他倘若对自己稍微严厉一些，就一定会察觉到自己过度地使用了感情的比喻。过去，他生活在本歌（注：被作为典范的正规的和歌）的世界里，而如今则生活在对本歌的模仿之中，竭力要把早年曾见过的风、花、雪、月无限度地套用到逐年变化的风物中去。可以说，他是在不自觉地使用着双重语言。\\n在他对皇室的敬爱中，在这种与怀疑自己敬爱之心的人誓不两立的信念中，那宛若从玻璃屋顶流下的雨水一般，总是在他心头摇曳着的凉冰冰的阴影，正是洞院宫的御名。\\n“是谁带你到洞院宫殿下那里去的？”\\n饭沼略微平静地迂回着问道。少年沉默不语。\\n“是谁？为什么不说？”\\n“这个，我不能说！”\\n“为什么不能说？”\\n少年再次沉默不语。饭沼激动了起来。自己说了不让拜谒宫殿下，就是老子对儿子的命令，没有有述说理由的必要。可勋却连介绍者的名字都不肯说出来，这不啻对老子的背叛。\\n其实，身为父亲，饭沼也不是不可以把自己避讳宫殿下的原因，简扼易懂地告诉儿子。本来他可以这样告诉儿子：不要去见宫殿下！把自己曾侍奉过的公子置于死地的元凶，就是这位洞院宫殿下。然而，如同灼热的红色岩石一般的羞耻，却梗塞在饭沼的咽喉，使得他怎么也说不出这句话来。\\n勋过去从未这样顶撞过父亲。平常在父亲面前，他是一个寡言而又温顺的儿子。饭沼第一次发现，在自己孩子的身上，有一种难以冒犯的硬核一样的东西。饭沼感到十分悲哀，自己对清显的教育失败后，时隔数年，这次又从相反的方面，对儿子的教育也感到束手无策。\\n……房间里，这对父子就这么相视而坐，外面的庭院则沐浴在骤雨后的夕照下。一处处积水发出光亮，把庭院树的浓绿映衬得宛若极乐净土。风很凉爽，头脑开始清醒过来，愤怒如同置身于澄澈的水底一般清晰可见。勋觉得，这愤怒像是围棋的棋子，可以在棋盘上随心所欲地挪动。而对正在父亲内心深处翻腾、喧嚣着的感情的不透明，勋却仍然无法理解。蝉儿在庄严地鸣叫着。\\n桌上放着用铁锈红和墨绿色织锦装帧起来的《神风连史话》，勋突然站起身来伸手向那本书抓去，他想默不做声地把书带回房间里去。\\n父亲却抢先抓到了书，接着站了起来。\\n在父子俩一刹那的对视中，勋从父亲的眼里看出，他非常胆怯和缺乏勇气。但是，从他内心里升腾上来的怒火，却正在他的眼中熊熊燃烧。\\n“无论怎么和你说，你都不听吗？”\\n说着，饭沼便把《神风连史话》扔到了院子里。辉耀着橙色光亮的积水迸裂开来，呈献本在泥水中翻了几个身后，就躺在了那里。当自己视为最神圣的东西被浸在泥水中的那个瞬间，勋感到一种好像眼前的墙壁突然坍塌下来似的愤怒。这种新鲜的愤怒使他下意识地攥紧了自己的拳头。父亲战栗着，把他的巴掌狠狠地打在儿子的面颊上。\\n母亲闻声赶了过来。峰觉得站在房间里的两个男人的身影是那样高大。在这刹那间，她看到打人的饭沼身上的单和服下摆凌乱不堪，而被打的儿子身上的下摆，却纹丝不乱。峰看着洒满灿烂晚霞的庭院，回想起丈夫把自己打得半死时的那副亢奋的神情。\\n峰在铺席上像滑行一般插进两个男人之间，喊叫着：\\n“勋！你要干什么？快向爸爸认错！你对老人这样气势汹汹的想干什么？快！快在这里跪下，向爸爸认错！”\\n“你看那里！”\\n勋没有去捂被打的面颊，刚在铺席上跪下一条腿，就扯着母亲的衣袖，让她扭头去看院子里的情景。峰听到了头顶上传来丈夫那狗一般的喘息。院子里这时还比较明亮，屋里却早已一片昏暗。峰感到，在这昏暗的空间里，有一种奇怪的物体在到处浮游，一定要遮住她仰视的眼睛。她觉得自己恍若置身于梦境之中，想起了从前侯爵府邸里的那座书库。\\n因而她梦呓般地低声说道：\\n“快认错吧！快！”\\n一面说着，她一面缓缓睁开了眼睛。清晰地映入她眼帘的物象，是半浸在泥水中的那个粲然发光的铁锈红和墨绿色织锦的形状。峰不禁愕然了。她感到，那个被晚霞映照得闪闪发光、却又浸泡在泥水里的织锦，像是她自身正在遭受着惩罚。在这一瞬间，峰甚至都忘了那是一本什么样的书。\\n\\n\\n11\\n只是想一想自己整日无所事事、游手好子闲的模样，勋便好像看到自己染上麻风病时那样毛骨悚然。因而，很容易把这种状态视为普遍意义的犯罪，恰似我们脚踏着的大地和呼吸着的空气一般，是不可避免的、命中注定的犯罪。一个人要想在这其中保持自己的纯粹，就泌须借助罪的其他形式，甚至不得不从最本源的罪之中摄取养分。只有这时，罪和死、切腹和光荣，才能在松涛阵阵的崖头和冉冉上升的旭日之中结合起来。勋之所以没有报考陆军士官学校和海军学校，正是因为那里已经准备好了既成的光荣，可以用这种光荣拭去无为之罪。也许为了到达自己所憧憬着的那个光荣，勋甚至也有些爱上了罪本身。\\n\\n\\n12\\n在灯光下，他取出的那枝百合花形同木乃伊一般。花瓣已变成茶褐色，只需用手指轻轻一碰，便一定会立即成为粉末，飘离还带着些许绿色的花茎。\\n它已经不能再叫做百合花了，它只是百合花残留下的记忆，是百合花的影子，是娇艳和不朽的百合花飞走后的茧壳。\\n\\n\\n13\\n勋稍稍闭上眼睛，在内心里贪婪地回忆着刚才出现在眼前的槙子的姿容。他想小心翼翼地把那白皙而美丽的笑颜，完好无缺地尽快装进自己的心里。可是越着急，那美好的面容便越是像落到地上的镜子一般，七零八落。\\n\\n\\n14\\n冷淡，从这个小个子男人那白皙皮肤的每一处分泌了出来。\\n\\n\\n15\\n难道说，人们的内心接近到一定程度就要使彼此的想法一致起来，在这短暂的幻想闪现过后，则肯定会发生反作用，而且这种反作用不仅是简单的背离，而且是导致瓦解一切的背叛？或许，人与人之间确实存在着某种不成文的惯例，禁止志同道合的同伴结成盟约？他，果真敢于触犯这个戒律吗？\\n在一般的人际关系中，善恶信疑都以浑浊的形态少量地掺混在一起；然而，也许有一定数量的人，一旦结成这个世界上最为纯洁的人际关系，从他们每个人身上析出后又聚集到到一处的恶，便作为纯粹的结晶体而留存下来；也许在一堆纯白的玉石中肯定会掺有一块黑玉。\\n假如把这想法再发展一步，便会发现，人在这个世界上也会撞上黑暗的思想。与其说恶的本质在于背叛，倒莫如说在于血盟本身。背叛只是同一种恶的派生部分，而恶的根源则正是血盟。也就是说，人类所能够达到的最为纯粹的恶，或许就在于志同道合的人看着完全相同的世界，及反叛而生的多样性，用精神来打破个体的肉体那自然的壁障，使那堵为防止相互侵蚀而特意建造的壁障化为乌有，并以精神来完成肉体所无法完成的事业。协力和协同则属人类特有的柔和的词汇。然而，血盟就是……在自己的精神里轻易地加上别人的精神。这种事的本身，就像在冥河河滩上垒石塔一样，是对人类行为的出色的侮辱。它是永远周而复始于个体发生之中的系统发生，在眼看就要到达真理时，却因为死亡而遭受挫折，于是又必须从羊水中的睡眠重新开始。也许像这样试图通过背叛人性来弥补纯粹的血盟，却又招致了它自身的背叛，原本就是这人世上自然的演变结果。\\n\\n', metadata={'id': 'doc:notiondb:d692a424dcea4fc491b0b3802fa3ae54', 'author': '【日】三岛由纪夫', 'name': '奔马 【日】三岛由纪夫', 'source': '读书笔记（文学）', 'tags': '小说', 'date_start': '20140526', 'date_end': None}),\n",
       "  0.9776)]"
      ]
     },
     "execution_count": 22,
     "metadata": {},
     "output_type": "execute_result"
    }
   ],
   "source": [
    "f = RedisText(\"name\") % \"*三岛由纪夫*\"\n",
    "vectorstore.similarity_search_with_score('清显与本多', filter=f, k=3)"
   ]
  },
  {
   "cell_type": "code",
   "execution_count": 23,
   "id": "a901e40f-cf76-4431-a402-778528416ab6",
   "metadata": {
    "scrolled": true
   },
   "outputs": [
    {
     "name": "stderr",
     "output_type": "stream",
     "text": [
      "Metadata key date_end not found in metadata. Setting to None. \n",
      "Metadata fields defined for this instance: ['author', 'id', 'name', 'source', 'tags', 'date_start', 'date_end']\n",
      "Metadata key date_end not found in metadata. Setting to None. \n",
      "Metadata fields defined for this instance: ['author', 'id', 'name', 'source', 'tags', 'date_start', 'date_end']\n"
     ]
    },
    {
     "data": {
      "text/plain": [
       "[(Document(page_content='一个人可以想象的最崇高的生活方式，就是将他自己的身体挡在荒芜的战场和可爱的家园之间。当然，你也知道，这些话不是我说的。基本的真理不会改变，一旦一个有洞察力的人表达了它们，那么无论这个世界怎么改变，都没有必要再对它们做出更改。它们是不变的，无论何时何地，无论对于谁，对于哪个国家来说都是真的。\\n\\n横行在大街上的小流氓是一个外部症状，表明那个文明已经身患重病：其公民只知道称颂“权利”的神话，却忘记了他们的责任。由这样的公民组成的国家是不可能国运长久的。', metadata={'id': 'doc:notiondb:b37803b5579a405abe698a39ee98cb72', 'author': '【美】罗伯特·海因莱因', 'name': '星船伞兵 【美】罗伯特·海因莱因', 'source': '读书笔记（文学）', 'tags': '小说, 科幻', 'date_start': '20210911', 'date_end': None}),\n",
       "  0.9743),\n",
       " (Document(page_content='Rites of Passage at $100,000+\\nThe insider’s lifetime guide to executive job-changing and faster career progress | John Lucht\\n\\nSqueaky wheel gets the grease\\nRealizing that you can move effectively if and when you decide to do so, you’ll feel a lot freer to have period frank discussion with your recent superiors, letting them know that you feel ready to step ahead, and drawing out their unvarnished reactions to your self-appraisal.\\nThe self-confident person asking company’s timetable for his own promotion is much likely to get the next higher-echelon position opens up than his equally fine but silent co-worker. The reason: “We felt we \\nhad\\n to do something for him pretty soon, or we might lose him.”\\nNever\\n come in with an outside offer you hope your company will meet or beat. If you would like to remind your boss, gentle tap on the shoulder will do far more good than one big dramatic hit. Try this approach:\\nYou: Got a call today from an executive recruiter, who was looking for a VP, Marketing for a $150 million food specialty company. I told him I wasn\\'t interested, but I\\'d call back with some suggestions. He didn\\'t name the company, who do you think it might be?\\n\\nBoss: Maybe Calico COuntry. Who called you?\\n\\nYou: A guy named Hunter Probe, at Randall Radley Associates. I liked it here, and I haven\\'t personally been interested in anything he\\'s had so far. But I\\'ve pointed him towawrd some other people, so he keeps calling.\\n\\nBoss: I didn\\'t know anyone at Randell. How\\'d you meet Hunter Probe?\\n\\nYou: Oh he just called one day last fall. He was looking for a head of Brand Management, and some people mentioned my name. I told him I like this company, however they were offering a bushel of money... about $20,000 more than I\\'m making now.\\n\\nBoss: You never told me any of this!\\n\\nYou: I didn\\'t see any need to, Bill. I knew you were doing everything you could to fix the salary situation. No point in trying to put pressure on you. What I\\'m really hoping, is for you to get Sally\\'s job when she retires next summer, so maybe I can have your job.\\nPersonal Contact: pursuing people you know\\nDetermine priority: who to contact eariler and spend more time with is a trade-off between 1. relevance: how likely to control, or at least know of appropriate jobs 2. knowledgeable enthusiasm: how likely to react favorably to your availability And remember, you can make a relevant contact more enthusiastic, but you can’t make an enthusiastic one more relevant.\\nAsk for a \\nreference\\n instead of a job. * When you ask about a reference, you got 2 answers: the job answer (possibly a No), plus a resounding Yes on serving as a reference. * It’s a positive and open-ended frame of question, so follow-ups are welcoming. * When you ask for a job and people don’t have it for you, they will think “Bill, you are great! But here’s the proof that I have NO job”; but when you ask for a reference, people will think “Bill, you are great! And here’s how great I think you are.”\\nTry saying this:\\n\"So frankly, Jim, my reason for wanting this lunch with you is to ask a favor. I\\'ve decided to leave the corporation within the next few months or so... as soon as I can line up something worth moving for. I\\'m already putting out feelers. And at some point I\\'ll need some confidential references. Would you be willing to talk to a few people about what I did for you at First Corp?\"\\nNetworking: pursuing people you don’t know\\nDon’t use force to generate appointment because it offends the people you are trying to impress.\\ndeal lightly and politely with lots of contacts (and keep records), and don’t bulley a few key contacts.\\nRetainer and Contingency Recruiters: how to deal with each\\nTwo types of recruiters\\ncontingency recruiters: they are paid by employers only if the people they submit is actually hired;\\nretainer recruiters: they are paid by the employers regardless of whether anyone they submit is actually hired\\nThey are basically 2 types of businesses: contingency is brokerage, retainer is consulting.\\ncontingency firms must act quickly\\nContingency recruiters don’t put large amounts of time screening candidates, because the more candidates any employer is shown, the more chance of achieving a placement\\nContingency recruiters compete with their counterparts, so they are compelled to send out candidates quickly\\nContingency recruiters try to put “price tags” on the heads of all candidates, even if the opening has not yet been listed (i.e.\\xa0they desire candidate pools)\\nretainer firms need to obey “two years rule”\\nretainers bill employers for finding the best people, thus they makea living by their professional services\\nretainers never offer the same candidate to more than one client at a times; which means, a candidate won’t be contacted with more than one opportunities at a time\\nretainers have don’t-bite-the-hand-that-feeds considerations, thus there’s indutry-wide “2 years rule” such that any ethical retainers won’t recruit away any people from the client in 2 years\\nretainers don’t necessarily provide candidates with the most suitable positions. Their primary goal is to get a job filled for the employer who pays them (a desparate candidate can be assigned with an Alaska opening even if there is actually an opening exists in his neighborhood, since the retainer clearly sense his urgency of accepting any job offered).\\nDeal with contingency recruiters\\nThe only time you gain from an introduction by a contingency firm is when 1. there is a legitimate listing, 2. the contract/assignment is exclusive, and 3. it’s from a company you wouldn’t have contacted, if the contingency firm hadn’t persuaded you\\nIn other cases, you should 1. decline the offer, say “thank you but I’d prefer to represent myself”, and 2. ask the recruiter not to send your resume unless you give him explicit endorsement in the future\\nDeal with retainer recruiters\\nThough hard to accomplish, the best case is \\ngoing directly to the employers\\n before engaging with any recruiters. This is because: * the employers are more open-minded and flexible. You may not fit precisely to the JD, but you may still appear attractive. On the other hand, recruiters sort and screen candidates solely based on relevance and background. * there maybe jobs tailored for you. If you arrive early when the employer is only beginning to analyze the business problems, he may include your availability into her planning\\nWhen you have to go through the route of the retainer, then know and contact as many retainers as possible. No two retainers will work on the same assignments (and retainers don’t share information across), so it won’t make you seem too hungry for a job or too readily available.\\nWhen you call recruiters\\nBeaware of the recruiter who tells you what you want to hear (this is a sign your resume to be circulated to all possible employers \\nwith price tag attached\\n)\\nYou should say:\\nWe\\'ve talked about a lot of companies. I hope you don\\'t intend to send those companies my resume, when you don\\'t have a specific assignment from them. I am not authorizing you, or anyone else, to submit me to any companies without letting me know what company you\\'ve been engaged to represent, and what job that company has asked you to fill. You must check with me first, and get my go-ahead for any particular jobs.\\nWhen you are in a courtesy interview with a recruiter, the limited goal is not getting a job, but to kick off a to-be-continued conversation that shows your effective communication skills.\\nAnd four really bad things to avoid: 1. let me buy your lunch - don’t assume a recruiter can be manipulatd with a free lunch 2. what do you think of my resume - a loser’s question 3. can you give me career counselling - not a recruiter’s job 4. how’s the job market - the recruiter will always tell you the market is elusive (that’s why you need his help)\\nWhen the recuiter calls you\\nYou’ll want to cooperate if its a true retainer assignment; may wish to cooperate if the caller has a contingency listing directly from the employer; and decline (say “I’d rather handle it myself”) otherwise.\\nTake care of your self-interest\\nRecruiter’s priorities: 1. are you qualified? 2. are you interested? Your priorities: 1. am I interested? 2. am I qualified?\\nObviously, the recruiter want to know evreything about you and convey nothing specific to the information of the job. So, you should probe the opportunity proactively:\\nI am interested. But I\\'m also in a very good shape here at XX Corporation. Before we go to our background, why don\\'t we just see if the situation you have is something that I ought to think about.And if it\\'s not for me, I\\'ll try to suggest some other people who\\'d be more appropriate.\\nIf the opportunity is wrong for you, it’ll probably be one of the three reasons: wrong responsibility, wrong location, or wrong money. You should find them out as soon as possible, and if you encounter any one of them, you should say no immediately; if you don’t find any disqualifying negatives, let the recruiter sell and ask for more information by mail.\\nBeaware of recuiters who still want to meet you after you’ve said “No” (sign of abnormality)\\nOccassionally recruiters have to hide the name of employer, but still too many times they withold the name simply because they want to reserve for future opportunities to float around your resume. So, you have to ask:\\nWe\\'re perfectly free to go ahead, but I can\\'t tell you whether I\\'m interested in interviewing for a job unless I know what the job is, and of course that includes knowing what company I\\'d be working for. What you\\'ve suggested does sound interesting... at least on the surface. Is there something more you\\'d like to know about me, in order to see whether we should go any further.\\nMass direct mail campaign\\nBe realistic about response rate.\\nYou should send at least 1,000 letters, and on average you can solicit \\n3-5 responses from every 1000 mails\\n you sent out.\\nadress to the person 2 levels above the job you want\\nthe boss of your ; not your boss, has the hiring power\\nskip level knows potential appropriate positions in other business units\\nyour letter gains “clout” by being passed downward, rather than upward\\nResume\\nLong\\n copy sells. Contrary to a very brief one-page CV, long resume contains many more factual information. The resume should also be \\nscannable\\n, and allow readers to quickly orient himself.\\nUse narrative paragraphs, rather than “bullets” to tell the story. Either style is acceptable, but paragraphs are easier to comprehend and believe.\\nAvoid using empty words and statements like “major, significant,substantial, outstanding”. Never make over-generalized statements like “responsible for managing the strategic technical issues impacting the company’s on-going core businesses.”\\nSee the following example:\\nSAMUEL P.Sage\\n2019 Waring Drive\\nDenton, New Jersey, 07299\\n\\nHome: (201)719-0932\\nOffice: (201)121-3000\\n\\n-----------------------------------------\\n1993-Present\\nFARRINGTON LABORATORIES\\nNew York, New York\\nVice President - Chief Marketing Officer\\n\\nRecruited to this privately-owned $500 million maker of prescription drugs as Vice President by Blair Farrington, Founder/Owner/CEO in 1993, when sales were $224 million.\\nMr.Farrington doubled what I\\'d been making in the same posiition at the much larger Swiss-owned Medica Suisse USA Ltd. But the primary incentive was this 72 year old gentleman\\'s plan to take the business public with me as his successor, after we worked a few years together to increase volume and improve profitability. Instead, the company has been purchased by and merged into Pan Global Pharmaceuticals. With their acquisition, I\\'m seeking a new challenge, hopefully a Presidency; otherwise Chief Marketing Officer with early transition to general managment.\\n\\nThe product line was reduced from 618 SKU\\'s in \\'93 to 309 profitable items in \\'96. The 109-person sales force was reorganized into 11 regions in \\'94 and expanded to 225 people by \\'98.\\nNine profitable new drugs were introduced via cross-licensing agreements with other manufacturers ($31 pre-tax net), and $11.7 million pre-tax was generted by granting licenses to other companies.\\nPhysicians\\' top-of-mind brand-name awareness of our three largest-selling drugs was raised from 18% in \\'93 to 62% in \\'98 by a massive sampling, and professional advertising campaign.\\n\\n-----------------------------------------\\n1990-1993\\nMEDICA SUISSE USA LTD.\\nMarshall Plains, New Jersey\\nVice President - Pharmaceutical Marketing\\n\\nJoined this $1.8 billion Zurich-based maker of prescription drugs, veterinary biologicals, and fine chemicals as Director of Pharmaceutical Marketing, reporting to the Managing Director - USA, and heading all marketing and sales for all North American pharmaceutical lines (total \\'90 sales, $315 million) after a two-year hiatus to aid my family\\'s automobile business in Ohio.\\n\\nBy 1993 sales were nearly double ($590 million) 1990 volume, and ROI had increased from 17% to 24%. Market share of U.S. prescription tranquilizer market rose from 11.6% to 19.2%.\\n\\nI helped identify and purchase in \\'90 and \\'91 three small companies: BioTRITON, Radio-Tra-Chem and Synestical Lab, which have all grown and prospered under Medica Suisse ownership.\\n\\n\\'91 Vice President - Pharmaceutical Marketing. Promotion in title, no change in duties\\n\\'90 Director -  Pharmaceutical Marketing. In charge of corporate marketing, marketing research, telemarketing, and sales promotion departments (total 41 people); plus 2 sales forces: Ethical Drug (135-person) and Veterinary (32-person).\\n\\n-----------------------------------------\\n19XX-1990\\n...\\nCover letter\\nYour cover letter shoud convey 2 essential messages: 1. this is a \\nfine person\\n, absolutely desirable as an employee 2. He or she might be \\nfor me\\n, possibly the executive I need right now\\nMake your cover letter customer-oriented. Be sure the cover letter: 1. is not too long. Brevity is essential 2. has a central theme. 3. offers benefit to the reader 4. deals with compensation (with a range)\\nExample as follows:\\nSamual P.Sage\\n219 Warning Drive\\nDenton, New Jersey 07299\\n(201)719-0932\\n\\nMr.Sherman J. Summit\\nChairman and Chief Executive\\nIntegrated Standard Corporation\\n4225 Scenic Parkway\\nLovelytown, New York 10591\\n\\nDear Mr.Summit,\\n\\nCould I help you as a divisional president... or corporate chief marketing officer?\\n\\nThe $500 million company I\\'ve helped build over the past five years as Chief Marketing Officer has more than doubled sales, increased profits nine-fold, and raise ROI from 3.6% in \\'93 to over 28% in \\'98.\\n\\nWe\\'ve done so well, in fact, that we\\'ve just been bought out at 30 times our estimated \\'99 earnings by a company that\\'s absorbing us into their own operations.\\n\\nAlthough I\\'m far more interested in a fine company and an intriguing challenge than merely in money, you should know that in recent years my total compensation has been in the range of $195,000 to $285,000.\\n\\nPlease keep my inquiry confidential, Mr. Summit. I don\\'t want to disturb either my staff or the rest of the company just by considering alternatives.\\n\\nMay we talk?/If you have a need, I could do an excellent job for you.\\n\\nSincerely\\n{signature}\\nSamuel P.Sage\\nSome important point: 1. omit all cliches like “enclosed please find…”, “I would like to take this opportunity to…” or “here’s a copy of my resume for your review and consideration”, “thank you in advance for your interest”, “I would appreciate hearing from you” etc. 2. avoid self-evaluation like “intelligent, analytical, hardworking” etc. 3. provode salary ranges: the low end will be the least take-home pay you are willing to consider; the high end will be the total compensation in recent years plus estimated raise\\nSend all your letters once, at the beginning of your job search\\nDetermine the mailing list is an exercise to force you to think about your career aspiration, prospective employers and prepare your pitching.\\nCordial rejection can be the starting point of networking campaign\\nThe Interview\\nnewspaper-style communication\\nbe brief, don’t talk longer than 2 minutes\\nuse big-picture-first format to organize the answers. summary + supporting facts (STAR)\\nprepare some topical capsules\\nTell me about yourself\\nKey segments of experience and achievement\\nAchievements/talents in rank order\\nStrengths and weaknesses\\nReason for leaving\\nYour management style\\nWhat attracts you to our company\\nCurrent status and long-range trends of your specialty and overall industry\\nWhat would you like to know about us\\nanswer the questions that are designed to give you troubles\\nQ: how do you feel about your current/last job? * wrong ans: There’s more bad than good. * correct ans: you see far more advantages relative to disadvantages. You can correctly analyze and balance opportunities and challenges\\nQ: If you could be anyone other than yourself, if you could restart your career, what would you change? * wrong ans: you’d live a different life if you could * correct ans: you are happy and highly functional, who is busy producing and enjoying, not fretting or regretting.\\nQ: tell me your greatest achievement and talent. * wrong ans: not job-related, or happened long ago * correct ans: mention the latest and most relevant one\\nQ: What do you do in your free time? What’re your interests? * wrong ans: you are too busy to develop non-business interest; or you spend too much time on non-business interest. * correct ans: mention one or two. Active sports, intellectual and artistic interests are respectable.\\nQ: How do you see yourself in X years? * wrong ans: the trajactory is not representing the progress along the path you’re on right now * correct ans: your objective should be consistent wit the job\\nQ: Tell me 3 strongest talent. * wrong ans: you mentioned 4 talents * correct ans: you should be revealed as someone who listen and follow instruction alertly. Given the exact number of answers.\\nExpand your career by expanding yourself\\nleverage the opportunity to represent the company in trade association activity.\\naccept invitations to appear in forums and panel discussions\\nfollow up with president of association or chairman of a meeting, discuss what you thought were this year’s hightlights, and then suggest a unique new subject area, or a new twist for a traditional event', metadata={'id': 'doc:notiondb:ad5e2db4993c4e15a240c8bdbb81c15d', 'author': 'John Lucht', 'name': 'Rites of Passage', 'source': '笔记（非文学）', 'tags': '职场', 'date_start': '20210515', 'date_end': None}),\n",
       "  0.9811)]"
      ]
     },
     "execution_count": 23,
     "metadata": {},
     "output_type": "execute_result"
    }
   ],
   "source": [
    "f = (RedisNum(\"date_start\") > 20201231) & (RedisNum(\"date_start\") < 20211231)\n",
    "vectorstore.similarity_search_with_score(\"\", filter=f, k=2)"
   ]
  },
  {
   "cell_type": "code",
   "execution_count": 24,
   "id": "0af5eb2c-ab2a-4743-8f24-3c4288804945",
   "metadata": {
    "scrolled": true
   },
   "outputs": [
    {
     "name": "stderr",
     "output_type": "stream",
     "text": [
      "Metadata key date_end not found in metadata. Setting to None. \n",
      "Metadata fields defined for this instance: ['author', 'id', 'name', 'source', 'tags', 'date_start', 'date_end']\n",
      "Metadata key date_end not found in metadata. Setting to None. \n",
      "Metadata fields defined for this instance: ['author', 'id', 'name', 'source', 'tags', 'date_start', 'date_end']\n",
      "Metadata key date_end not found in metadata. Setting to None. \n",
      "Metadata fields defined for this instance: ['author', 'id', 'name', 'source', 'tags', 'date_start', 'date_end']\n",
      "Metadata key date_end not found in metadata. Setting to None. \n",
      "Metadata fields defined for this instance: ['author', 'id', 'name', 'source', 'tags', 'date_start', 'date_end']\n",
      "Metadata key date_end not found in metadata. Setting to None. \n",
      "Metadata fields defined for this instance: ['author', 'id', 'name', 'source', 'tags', 'date_start', 'date_end']\n",
      "Metadata key date_end not found in metadata. Setting to None. \n",
      "Metadata fields defined for this instance: ['author', 'id', 'name', 'source', 'tags', 'date_start', 'date_end']\n",
      "Metadata key date_end not found in metadata. Setting to None. \n",
      "Metadata fields defined for this instance: ['author', 'id', 'name', 'source', 'tags', 'date_start', 'date_end']\n",
      "Metadata key date_end not found in metadata. Setting to None. \n",
      "Metadata fields defined for this instance: ['author', 'id', 'name', 'source', 'tags', 'date_start', 'date_end']\n"
     ]
    },
    {
     "data": {
      "text/plain": [
       "[Document(page_content='P7\\n从坡道走下来的，原来是一个年轻人。他前后挑着一担粪桶，头缠一条肮脏的手巾，有一张漂亮的红润的脸，和一双炯炯有神的眼，他迈着稳重的脚步从坡道上走了下来。他是个清厕夫——掏大粪的人。年轻人脚蹬胶底布袜子，身穿\\n藏青色紧腿裤\\n。五岁的我，以异常的目光看了看这个姿影。它的意义还不明确，然而这是一种力量的最先的启示、是一种阴暗的不可思议的呼声在召唤着我。第一次显现在清厕夫身影上，是具有寓意的。因为粪尿是大地的象征。召唤我的东西，无疑是伊耶那美命神的带有恶意的爱。\\n我预感到这世上存在一种火辣辣的刺痛似的欲望。我一边抬头仰望着肮脏的小伙子的身影，一边被一种“\\n我想成为他\\n”的欲望、“\\n但愿我就是他\\n”的欲望，紧紧地纠缠着。让人很明显地想到这种欲望有两个重点：一个重点是他的\\n藏青色紧腿裤\\n，另一个重点是他的职业。藏青色紧腿裤把他的下半身的轮廓清楚地勾勒了出来。它使我联想起仿佛有一种东西在优美地活动着，正在向我走近过来。我对这条紧腿裤竟产生一股无可名状的倾倒。究竟为什么，我也不明白。\\n他的职业——这时候，我刚开始懂事，就像其他孩子向往长大当陆军大将的心态一样，我的脑海里就浮现出“想当清厕夫”的憧憬。憧憬的原因可以归咎那条藏青色的紧腿裤，但绝不仅仅在此。这主题本身在我的内心里不断强化，发展，让人看到了一种特异的展现。\\n之所以如此，是因为我对他的职业感受到一种对于尖锐的悲哀、彻身透骨的悲哀的憧憬似的东西。一种极其感觉意义上的“悲剧式的东西”。从他的职业产生一种“挺身”的感觉、一种草率的感觉、一种对危险亲近的感觉，以及虚无和活力惊人混合的感觉。\\n这些感觉洋溢出来，向五岁的我逼将过来，把我俘虏了。也许我误解了清厕夫这种职业。也许我把从别人那里听来的别的什么职业，以他的服装误认为他的职业，硬把它纳入他的职业里，否则就无法加以解释。\\n为什么呢？因为同这种情绪一样的主题，不久就转移到花车的司机和地铁检票员的身上，他们强烈地使我感受到一种我所不了解的、可以说是我永远从那里被排除在外的“悲剧性的生活”。特别是地铁剪票员的情况，当时地铁内弥漫着橡胶般的、薄荷般的气味，与他的绿色制服胸前的成排金扣互相结合，很容易促使我联想起“悲剧性的东西”来。\\n\\n\\nP21\\n渐渐隐约地传来的打夯歌的悲调，贯穿这无序的节日的嘈杂，告知这种表面的无谓的纷扰真正的主题。\\n它仿佛在倾诉人和永恒的极其卑俗的交会，只有通过某种虔诚的乱伦才能成就的交会的悲伤。\\n不觉间，难以分解而纠缠在一起的声音的综合体，已经可以分辨出前驱锡杖的金属声、大鼓低沉的咚咚声，还有抬神舆手们杂乱的吆喝声。我心潮澎湃，喘不过气来，几乎站不住了（从这时候起，\\n强烈的期待与其说是喜悦，不如说是痛苦\\n）。手执锡杖的神官戴着狐狸面具。这种神秘野兽的金色目光，死死地盯视着我从我身边走过，活像要把我吸引住似的。不觉间，我感到自己抓住了身旁的家人的衣服下摆，摆好架势，等待机会从眼前的游行队伍所给予我的近乎恐怖的欢悦中逃脱出来。从这时候起，我对待人生就是采取这样的态度。归根结蒂，只有从过分期待的东西、事前过分修饰的东西中逃脱出来，否则别无他途。\\n片刻后，扛着系上稻草绳的香资箱的壮丁们通过了。乘在神舆上的孩子们欢欣雀跃地通过了。黑金色的庄严的大神舆走近过来了。大神舆通过之前，从远处就可以看见它顶上的金凤凰，恍如荡漾在那里这里的波浪间的鸟，随着众人的呐喊而令人目眩地移动着。\\n目睹这般情景，给我们带来一种灿烂夺目的不安。唯有那神舆的周围，人群拥挤，处在一种充满热带空气似的有毒的无风状态。看来它是一种带有恶意的怠惰。\\n神舆在小伙子们裸露的肩膀上，猛烈地摇晃着。红白相间的粗稻草绳、黑金两色的围栏、菱形饰章和紧闭的泥金门里首，有一漆黑的四尺见方的空间，在万里无云的初夏的正午，不断上下左右摇晃、跳跃着的正四方形的空荡的夜公然君临了。\\n神舆来到了我们的面前。一律身穿夏季单衣、露出大部分肌肤的小伙子，以恍如神舆本身酩酊大醉似的动态蜿蜒行进。他们的腿脚不听使唤，他们的眼睛似乎不是瞧着地面上。\\xa0一个小伙子手持大团扇，一边绕着人群的四周，一边高声呐喊，进行鼓动。有时神舆摇摇晃晃地倾斜了。于是人们又发出疯狂般的吆喝声，重新把神舆抬正了。\\n这时候，不知家里的大人是否直感到乍看是像往常一样迂回游行的这一伙人，仿佛被某种力量所驱动，就凭这种意志，突然间攥住大人的手的我被推向后边，有人喊了一声：“危险！”接着，就不知道是怎么回事了。我被人牵着手，从前院逃走了。然后，从旁门跑回家里来。\\n我不知和谁一起跑上了二楼，走到阳台上，屏住气息，望着正在拥进前院的抬着黑色神舆的一伙人。是什么力量在驱使他们如此冲动呢？我长久思考着这个问题。百思不得其解。几十个年轻人怎么可能不论怎么说也要有计划地企图簇拥进入我家的门内来呢。庭院里的树丛，被他们无情地践踏了。这是真正的节日。我深感厌倦的前院，变成了另一个世界。神舆从那里这里绕了一圈，把灌木全都压毁了。我难以弄清究竟发生什么事了。声音相互中和，简直就像是在那里冻结了的沉默，与毫无意义的轰鸣声交替地传了过来。色彩也是那样，金、红、紫、绿、黄、深蓝和白色在跃动，在沸腾。有时是金色，有时是朱红色，支配着所有地方。\\n然而，唯一鲜明的东西，使我觉醒，使我难受，使我内心充满莫名的苦痛。那就是抬神舆的年轻人那种人世间淫乱的、明目张胆的、陶醉的表情。……\\n\\n\\nP27《圣塞巴斯蒂安》\\n这是一帧收藏在热那亚罗索宫里的雷尼所画的《圣塞巴斯蒂安》。\\n这帧画像以提香式的忧郁的森林和夕空的微暗的远景作为背景，微微倾斜的黑树干就是圣塞巴斯蒂安的刑架。这个英俊青年被赤裸着身体捆绑在那黑树干上，让他的双手高高地交叉着，并将捆绑双手的绳索系在树上。此外看不见绳结。遮掩青年裸体的，只有一块松弛地缠绕在腰身周围的白粗布。\\n连我也能够判断出那是一帧殉教图。但是，文艺复兴时期最后的唯美的折衷派画家所描绘的这副圣塞巴斯蒂安殉教图，毋宁说洋溢着异教的氛围。因为在这堪与安提诺乌斯媲美的肉体桑，没有其他圣者们身上通常所看到的那种布教得艰辛与老朽的痕迹，唯有青春，唯有闪光，唯有美，唯有逸乐。\\n这白皙的无与伦比的裸体被置在薄暮的背景前，熠熠生辉。他身为近卫军而习惯于拉弓挥剑的健壮的臂膀，是在那样合理的角度被抬了起来，他被捆绑的手腕恰好交叉在他头发的正上方。他的脸，微向上仰。望着苍穹荣光的眼睛，深沉而安详地睁大着。无论是挺起的胸膛，紧缩的腹部，还是微微扭曲的身子的腰部周围，都\\n飘逸出一种不是痛苦，而是音乐般的倦怠的逸乐的震颤声。\\n要不是箭头深深射进他的左腋窝和右侧腹的话，他这副模样就像罗马的运动健将，凭依在薄暮的庭院树旁休息，已恢复疲劳的样子。\\n箭头深深地扎进他的紧缩而结实的、四溢香气的、青春的肉体里，欲图以无上的痛苦和欢悦的火焰，从内部燃烧他的肉体。但画家没有画流血，也没有像其他塞巴斯蒂安图那样画无数的箭头，只画了两支箭落在他那大理石般的肌肤上，宛如平静而端丽的枝影投落在石阶上一样。\\n却说所有上述的判断和观察，都是在后来产生的。\\n我看到那帧画的一刹那，我整个存在被一种异教式的欣喜所震撼。我的血液在奔腾，我的器官在浮现出怒色。巨大的、行将胀裂的我的这一部分，前所未有地激烈地等待着我的使用，责怪我的无知，在愤怒地喘息。我的手不知不觉地开始了不能告诉任何人的动作。我感到有一种既阴暗又辉煌的东西，从我的内部迅猛地攻了上来。就在这一瞬间，这种东西伴随着一阵令人晕眩的酩酊醉意迸发了出来。……\\n\\nP30 《圣塞巴斯蒂安》散文诗\\n有一回，我透过教堂的窗口，发现一棵在风中摇曳的不太高大的树。望着望着，我心潮澎湃起来。这是一棵令人震惊的美丽的树\\n。它在草坪上构筑起带圆状的端正的三角形，左右对称地伸展着无数的枝丫，活像一具烛台，支撑着他的沉甸甸的绿。\\n在绿之下，可以窥见纹丝不动的树干，恍若一座发暗的黑檀木台座。其造型完美而精致，然而却不失“自然”的天然优雅的气氛。\\n这棵树本身仿佛就是它自己的创造者，保持明朗的沉默在挺立着。它又的确是一部作品，而且大概是一部音乐作品，是德国乐师为室内乐而创作的作品。这音乐可以称为圣乐的宗教式宁静的逸乐，听起来充满庄严肃穆和眷恋之情，就像葛丝编织的壁挂图案一样。\\n因此，树形和音乐的类似，对我来说具有某种的意义，这两者结合，变成更加强烈而深沉的东西袭击我的时候，这种难以言喻的奇妙的感动，至少不是抒情的，而是类似宗教与音乐之间的联系所看到的那种昏暗的令人陶醉的东西。即使如此，也不足为奇。“不正是这棵树吗？”——我突然暗自问道。\\n“年轻的圣者被反剪双手捆绑在树干上，大量神圣的鲜血像雨后树上的雨滴，滴落在树干上。他粗暴的摩擦折腾在临终的痛苦中熊熊燃烧的年轻肉体（这大概是地面上所有快乐和苦恼的最后证据）都不正是在这罗马的树旁吗？”\\n据殉教史记载的传说，那位戴克里先登基后数年间，梦见犹如无法阻拦鸟的飞翔的无缝的权力时，就想起昔日曾经受阿德里皇帝宠爱的闻名遐迩的近卫军长官的眼神，那是兼备东方奴隶的优美躯体和大海一般无情的叛逆者的眼神。这位近卫军长官因侍奉严禁之神而被问罪，遭到了逮捕。他英俊而傲慢。他的头盔上插着一朵镇上的姑娘每天早晨送来的洁白的百合花。在剧烈的练兵之后休息时，这百合花沿着他浓密的头发流向，优雅的低垂着，这种情景，就好像白天鹅的颈。\\n没有一个人知道他在什么地方出生，从什么地方来。但人们都有预感。他们预感到这个拥有奴隶的躯体和王子的模样的年轻人，是作为已故者而来到这里的。\\n预感到这个恩底弥昂就是牧羊人。预感到它是被选来到这个比任何牧场都更绿韵悠悠的牧场上的牧人。\\n还有好几个姑娘确信，他是从海里来的。 因为在他的胸膛上，可以听到海涛声。因为在他的眼睛里，有生于海边又不得不离开海边的人的瞳眸深处浮现出来的，大海赋予的神秘而又永不消失的水平线。还因为他的叹气像仲夏的海风那样热，带有似被海浪冲上岸的海草气味。\\n塞巴斯蒂昂——年轻的近卫军长官——所显示的美，难道不是被杀害的美吗？五感由沾上罗马血潮的肌肉美味和震动筋骨的美酒香醇培育起来的，健壮的妇女们，不是早已察觉到他自身尚未知晓的可咒命运而才爱他的吗？她们窥见他的白皙的肌肉的内侧，欲图瞄准不远处肌肉被撕裂时从缝隙迸发出来的血潮，比平常的血潮更加汹涌地迅速地向四处流淌。她们怎么可能听不见这种血潮的强烈希望呢？\\n他并非薄命，绝非薄命。他本是最傲慢可咒的人，也可以说是个显赫的人。\\n譬如，就是在甜美的接吻之际，他的眉宇间不知多少回掠过了生活中的死苦。\\n他本人也隐约预感到，等待着他的，就只是殉教了。将他从凡俗中分隔开来的，正是这种悲惨命运的象征。\\n——却说，那天早晨，塞巴斯蒂昂在繁忙的军务追迫下，黎明时分就起床了。他在拂晓做了一个梦——梦见不吉的喜鹊群居在他的胸脯上，搏动的翅膀盖住了他的嘴——这个梦还留在枕边久久不离去。他每天晚上都卧身粗简的被窝，每天晚上都被诱使做海的梦，散发出一股被冲上岸边的海草的芬芳。他站在窗边，一边穿怪讨厌的发出吱吱嘎嘎响的铠甲，一边眺望远方围绕着神殿的森林上空的星座沉落的景象。他眺望这异常壮丽的神殿时，眉宇间浮现出与他最相称的，近乎痛苦的轻蔑表情。他呼了唯一的神的名字，低声念了两三句令人畏惧的圣句。于是，这个细微声竟以数万倍的音量回响。一阵响彻四方的呻吟声，确实从神殿的方向，从一排排把星空隔开的圆柱周围，庄严的传了过来。那里震撼星空，仿佛是某种异样的堆积物崩塌下来的声音。他微笑了。然后，垂下视线，看了看一群姑娘。这些姑娘一个个像平时一样，为了做早祷告。在黎明的昏暗中手举尚在睡眠中的百合花，悄悄地向他的所在走上来……\\n\\n\\nP34\\n“真的，近江这家伙是’过来人’呐。”\\n这是理所当然的。他曾经留级两三次，骨骼出众，脸庞的轮廓也出众，洋溢着一种特权的青春气息。他无故轻蔑的天性是高雅的。在他看来，没有任何一件事是不值得轻蔑的。优秀生因为是优秀生，教师因为是教师，警察因为是警察，大学生因为是大学生，公司职员因为是公司职员，遭他用轻蔑的眼光来评定和嘲笑也是无可奈何的。\\n\\n\\nP39\\n我走过科学教室后面的背阴处，便来到了宽阔的体育场前面的高台上。三百米的椭圆形跑道和许多绕跑道起伏的场地，都毫无区别地被熠熠生辉的雪所包围。运动场的一个角落上，拔地屹立着的两棵紧挨着的巨榉树，伸展着它们那朝阳映照下的长长的影子，给雪景增添了某种意义，\\n似乎是某种伟大的非侵犯不可的明朗的谬误的意义。\\n巨树以塑料般的精致，高耸在冬日的蓝天、地面的雪的反光和在侧面的朝阳之间。金沙般的雪花，偶尔从枯萎的树梢和树干的分叉落了下来。并排在体育场那边的一栋栋少年学生宿舍，以及与之相连的杂木林，一动也不动地还在沉睡中，寂静得甚至连微弱的声音也会激起辽阔的回响。\\n面对这派展现在眼前的令人目眩的景象，我瞬间仿佛什么也没有看见。可以说，雪景原来是一片新鲜的废墟。只有在古代的废墟上才可能有的无边无际的光和辉煌，如今降临在这虚假的丧失之上。\\n\\n\\nP44\\n——可是，对我来说，这种可恶的嗜好（注：对力量、充溢的血的印象、无知、粗野的手势、粗豪的语言、丝毫未受理智腐蚀的肌肉所具备的的野蛮的忧郁），从一开始就已经在道理上包含着不可能。大概再没有比肉体的冲动更有道理的东西了。透过理智的理解一开始出现，我的欲望就马上衰颓。连被对方找出的仅有的理智，也会强迫我作出理性的价值判断。在像爱这样的相互作用上，对对方的要求，理应同时也是对自己的要求。因此希望对方无知的念头，即使暂时也罢，也是要求我绝对的“对理性谋反”。而这无论如何是不可能的。不论什么时候，我都要警惕，不要跟未被理智侵犯过的肉体的所有者，即赌徒、船夫、士兵、渔夫等交谈，并且只能以热烈的冷淡，远远离开他们，仔细凝望他们。也许只有语言不通的热带未开垦地是适宜我居住的地方。如此看来，对未开垦地沸腾般激烈的夏天的憧憬，早在幼年时代就存在于我的心底了……\\n\\n\\nP50\\n初夏的一天，可以说像是夏天做服装样板的一天，又像是夏天的舞台排练的一天。为保证真正的夏天到来的时候万无一失，夏天的先驱只花一天的时间来检查人们的衣柜。\\n\\n\\nP52\\n“是做引体向上吗？”\\n他很有自信地带着生硬的口吻询问了老师一句。\\n“唔，对。”\\n于是，近江带着\\n一副体格健壮者往往表现出来的那种傲慢而懒散的模样\\n，慢腾腾地把手伸向沙地。他用下面的湿沙抹满了手掌。尔后站起来，双掌使劲互相摩擦了几下，便把视线投在头上的单杠上。\\n他的目光闪现出一种渎神者的决心，将瞬间投影在瞳眸里的五月的云朵和蓝天，包藏在轻蔑的冰凉里。\\n他纵身一跃，两只很适合刺上锚形文身的胳膊，立即把他的躯体从单杠上垂吊下来。\\n“嚄！”\\n同学们的赞叹声深沉地飘荡着。谁心中都明白，这并非对他力气大的赞叹。这是对青春、对生、对优越的赞叹。他裸露的腋窝下所看到的丰饶的毛，使他们大吃一惊。\\n它长得如此浓密，甚至令人感到似乎没有必要。\\n可以说，少年们大概都是第一次看到这样茂密的夏季草丛似的腋毛。近江的深深凹陷的腋窝长满了腋毛，连胸脯的两侧都是毛茸茸的，就\\n宛如夏天的杂草把庭院全覆盖住尚嫌不够，还要繁生到石阶上似的。\\n这两处的黑色草丛，在阳光的沐浴下，闪闪烁烁。显出四周的皮肤意外的白，犹如白色的沙地，透着亮的。\\n他的胳膊坚实隆起的肌肉，他的肩膀的肌肉，就像夏天的云朵，腋窝下的草丛被笼罩在暗影中看不见了，胸脯高高挺起，同单杠互相摩擦，微妙地颤抖起来。\\n他这样反复地做了好几个引体向上的动作。\\n生命力，唯有无益的大量的生命力才把少年们镇服了。是生命中过度的感受、暴力性的、简直只有为了生命本身才能说明的无目的感受、这种充沛的不愉快的冷漠，压倒了他们。一个生命在近江本人没有察觉的情况下悄悄地潜入了他的肉体，占领了他，突破了他，从他那里洋溢出来，企图一有机会就凌驾于他。在这一点上，生命这种东西颇似疾病。他那被粗野的生命腐蚀了的肉体，只为了不怕传染的疯狂般的献身，才被置于这个人世间。在害怕传染的人的眼里，他的肉体自然是作为一种责备映现出来的……少年们畏缩地向后退了。\\n\\n\\nP90\\n这样，等于在战争最激烈的时候给我们放了一个月的假，无所事事。我们就像是得到了潮湿的焰火。然而，与其得到一口袋容易用上的干面包，不如得到这种\\n潮湿的焰火\\n的礼物让我更高兴。因为它确实像大学赠给的呆笨的礼物——仅就对这个时代无甚好处来说，这也是件了不起的礼物。\\n\\n\\nP91\\n早晨的天气还寒冷。近几天来未听过警报的笛声。这期间，空气越来越清新，纤细地铺满了眼看就要崩溃的兆头。大气恍如一弹就会发出高雅声音的琴弦。可以说，让人感到再过几个瞬间就将达到音乐境界的、充满丰富的空虚的静寂。就连投射到阒无人影的月台上的冷淡的日光，也震颤着一种音乐的预感似的东西。\\n\\n\\nP114\\n花显得出奇的娇媚。哪儿也没有映衬着花的红白帷幕、茶馆的热闹、赏花的群众、卖气球的卖风车的小贩，所以在常绿树的空隙纵情怒放的樱花，令人感到仿佛是看到了花的裸体。自然的无偿奉献、自然的无益奢侈，还从来不曾美得像今年这个春天那样出奇。难道这不正是大自然再度征服大地吗？我不由得产生了这种不快的疑惑。可不是吗，今年春天的华丽非同寻常。菜花的黄、嫩草的绿、樱花树干水灵灵的黑、压在树梢上沉闷的亭亭如盖的花，这一切在我的眼里映现出某种带有恶意的色彩的妖艳。\\n这也就是色彩的火灾\\n。\\n\\n\\nP123\\n旅馆——是我所幻想的。这是实现我少年时代以来的幻想。同时，也是我埋头阅读恋爱小说受到的坏影响。如此说来，我对事物的思考方法，有堂吉诃德式的地方。\\n迷恋于阅读骑士小说的人，在堂吉诃德的时代为数众多。但是，要彻底地受到骑士故事的毒害，就非得是一个堂吉诃德不可。我的情况与此别无二致。\\n旅馆、密室、钥匙、窗帘、温和的抵抗、战斗开始的意见一致……正是那时候、正是那时候，才表明我是\\n可能\\n的。犹如天生的灵感，我身上的\\n正常性\\n有可能燃烧起来。我简直像着了魔，脱胎换骨变成了另一个人、另一个真正的男人。正是那时候，我毫无顾忌地拥抱园子，我也能竭尽全力地去爱她。疑惑与不安，已经被拂除殆尽，我可以由衷地说“我爱你”了。从这天起，我甚至可以在空袭的大街上大声高呼“她就是我的情人”！\\n在幻想式的性格里，会滋长对精神作用的微妙的不信任感，它往往会导向梦想（注：这个梦想是动词）这种违背人伦的行为。梦想犹如人们所认为的那样，不是精神的作用。毋宁说，它是精神上的逃避。\\n——但是旅馆的梦，作为\\n前提条件\\n未能实现。园子再次给我写信说，结果哪家旅馆都租不到了，你还是住在我家吧。我回信表示了同意。一种似是绝望的安心感，占据了我。我再怎么样也无法把这种安心曲解为绝望。\\n\\n六月十二日\\n我启程了。海军工厂方面，全体人员的士气渐渐消沉。若要请假，任何借口都是可以的。\\n火车很脏，而且空空荡荡。不知怎的，对战争期间火车的回忆（除了那次愉快的一例意外），都是这种凄惨的情状。这回我也像孩子似的受到凄惨的固定观念所折磨，被火车摇得晃晃荡荡。这就是我想直到同园子亲吻之前绝不离开那村庄的理由。\\n然而，这与人同自己的欲望所致的畏缩不前作斗争时充满自豪感的决心是不同的。我觉得自己仿佛是在行窃。仿佛自己是个懦夫，尽管自己不愿意，却在头头强迫下不得不去充当强盗。这种被别人爱着的幸福感，刺痛了我的良心。也许我寻求的，是更具有决定性的不幸吧。\\n\\n\\nP127\\n两棵白桦树恍如一对心地善良的姐妹，把它们的身影投在斜坡上。\\n\\n\\nP131\\n园子！园子！列车每摇晃一次，她的名字就在我的心灵上浮现一次。这个名字像是一个难以形容的神秘的称呼。园子！园子！每重复这个名字一次，我的心就被撞击一次。犹如惩罚似的愈发增加了剧烈的疲劳。纵令我想对自己说明这种透明痛苦的性质，但也是个找不到类似例子的难解的问题。这种痛苦同人类应有的感情轨迹相距甚远，所以在我来说，连把它当做痛苦来感受也是困难的。打个比方来说，这种痛苦，就像某个晴朗的中午，一个在等待鸣午炮的人已过时间仍未见午炮鸣响，欲图在蔚蓝的天空寻觅午炮的沉默一样的痛苦。这是可怕的困惑。因为全世界只有他一个知道午炮没有\\n在正午时\\n分鸣响。\\n\\n\\nP134\\n我认为不可能的事终于发生了。我没有预料到我和那家子人对战争的感受方法和思考方法竟然存在如此巨大的差异。我才二十一岁，还是个学生，去飞机工厂做工，又在绵绵的战争中成长，我将战争的力量想的过分传奇了。即使战争如此激烈，但在战争的悲惨中，人类行为的磁针依然是准确无误地指着一个方向。就说自己吧，迄今自己在恋爱，可为什么竟没有意识到呢？我浮现出奇怪的轻蔑的一笑，又将信重新读了一遍。', metadata={'id': 'doc:notiondb:9c96349fee7a47b5a8af0367ba829256', 'author': '【日】三岛由纪夫', 'name': '假面自白 【日】三岛由纪夫', 'source': '读书笔记（文学）', 'tags': '小说', 'date_start': '20160324', 'date_end': None}),\n",
       " Document(page_content='春雪 春の雪\\n【日】三岛由纪夫\\n\\n小说简介：\\n川端康成把《春雪》誉为现代的《源氏物语》，是作者“绚丽才华的升华”。三岛本人曾总结说：“《春雪》是王朝式的恋爱小说，即写所谓‘柔弱纤细’或‘和魂’”。作者的这部作品在纯爱中也贯穿了“优雅的犯禁”和“亵渎的快乐”的对立，并在这种对立中发现美、创造美，又毁灭了美。\\n《春潮》是三岛由纪夫超长篇巨作“丰饶之海（ほうじょうのうみ）”四部曲的第一部，其他三部分别是《奔马》、《晓寺》以及《天人五衰》。“丰饶之海”取自一个月海的名称，虽名为“丰饶”，其实是匮乏。这部“大河小说 （Roman-fleuve）*”将三岛崇尚唯美与古典主义的三岛美学发挥到了尽美之境，为三岛的文学生涯画上了句号。\\n\\n*大河小说指多部有共同的主题、人物或环境，但又各自独立的长篇小说。小说的各部分不一定按时间或情节排列，但具有浓厚的历史意识，通常以一个家族或时代为主题。\\n\\n\\n1\\n也许，清显和本多分别是同一植物上的花和叶，同根生，外在表现却全然不同。清显将自己的资质毫不设防地暴露无遗，赤裸裸，易受伤。\\n他就像是一条淋了初春细雨的小狗\\n，让尚不成为自己的行为动机的欲望，成滴地留在眼睛和鼻子上。与此相反，本多在人生之初便早早地察觉到了那样做的危险性，故选择了避开过分明亮的雨滴，而把身子畏缩在屋檐下。\\n\\n\\n2\\n清显有个不好的倾向，那就是他轻蔑爱慕自己的人，起止轻蔑，甚至近于冷酷。这一点，本多早就察觉出来了。他的友人当中再没有谁比本多更敏锐的了。本多估计，这种倨傲，就是从清显十三岁那年知道别人对自己的俊美喝彩以后，从心底里悄悄地培育起来的好像霉菌一样的感情。\\n那是一朵银白色的霉菌花，一碰，仿佛就会响起铃声来。\\n\\n\\n3\\n本多突然从正面问道：“松枝，你近来怎么搞的？我说什么，你都心不在焉。”\\n“哪儿的话。”清显猝不及防含糊其辞地回答了一句。他用美丽而明亮的眼睛望了望他的朋友。被友人知道自己傲慢倒并不难为情，最怕就是被他了解自己的苦恼。\\n清显知道，这时他若敞开胸怀，本多就会鲁莽地闯进自己的心房，这种作为无论是谁都绝对不能容许的。这么一来，清显很可能转瞬间就会失去唯一的挚友。\\n但是，这时候本多马上理解了清显的内心活动。他知道要继续维持他同清显的友谊，就必须舍弃卑俗的关系，不应该一不留神就触摸刚涂上油漆的墙而留下手痕。必要时，连友人的死苦也必须视而不见。\\n特别是，倘若这是一种特殊的死苦，通过隐藏已然达成优雅的话。\\n\\n\\n4\\n“因为神圣的东西全部是由与梦和回忆相同的要素形成的，会使由于时间和空间的关系而与我们相隔的东西奇迹般地呈现在我们眼前。而且，这三种东西的共同的特点是：无论哪一种都是用手触摸不到的。手触摸得到的东西，一旦离开它一步，它就可能变成神圣的东西，变成奇迹，变成不可能有的美的东西。一切事物都具有其神圣性，可是我们的手指触摸了它，它就变成污浊的了。我们人类真是个不可思议的存在啊。一方面玷污手指触摸得到的所有东西，一方面自己内里又偏偏具备能成为神圣的东西的素质。”\\n\\n\\n5\\n现实不同于梦境，是多么缺乏可塑性的素材啊。现实不是模模糊糊、飘飘忽忽的感觉，\\n它就像一颗黑色的药丸，一旦痛快地凝缩起来，便会立即发挥效力。\\n\\n\\n6\\n……他对早就被吸引住的欧洲自然法思想开始不那么感到满足了。从苏格拉底开始，经过亚里士多德，他牢固地统治着罗马法；在中世纪，通过基督教，被精确地予以系统化，在启蒙时代，又被成为自然法时代而盛极一时，如今暂时无声无息，胆量千年的变迁时代思潮的波浪，每回复兴都披上新装，再没有什么思想比这种不屈的思想更有生命力了。恐怕在这里保持着欧洲的理性信仰最古老的的传统。然而，这种思想越顽强地表现，本多就越发觉得这种明朗的人生观具有一种阿波罗神式的力量，这种力量再近两千年间总是受到黑暗势力的威胁。\\n不，岂止是黑暗势力，光明也受到更加令人目眩的亮光的威胁，于是就要不断排除比自己更加光亮的思想。莫非这种包括黑暗在内的更加强烈的光明，终于没有能够被吸收到法秩序的世界里吗？\\n……\\n这的确是青年人的一种危险的思考。但是，\\n罗马法的世界就像把浮在空中的几何学式的建筑物的影子，清晰地投在明亮的土地上。\\n\\n\\n7\\n那是房子的身躯、衣衫以及腰带的分量全部压下来，但不知怎的，繁邦能想起来的，只是那美丽而复杂的头部的分量。披\\n着女子丰盈黑发的头，宛如一具香炉压在他的膝盖上\\n，而且他感到这具香炉，透过自己的藏青哔叽裤在不断的燃烧，恍如远方失火所感受到的一样的炽热。这种炽热究竟是什么东西呢？房子是在用这具陶器中的火，来倾诉她那股无法形容的炽烈的情谊。尽管如此，她头部的重量，又像是某种严酷的谴责。\\n房子的眼睛呢？\\n她侧着脸伏在他的膝上，所以他一低头就能看到她的那双大眼睛。这是一双容易受伤的、湿润的、黑溜溜的眼睛。这双眼睛活似一只蝴蝶轻盈而短暂地停留在上面一样。长睫毛的眼睛一眨巴，就像蝴蝶在扑翅。眸子恍如翅膀上的不可思议的斑纹……\\n繁邦从来没有见过这样一双眼睛：它是那样不诚实，那样近在咫尺却又那样冷漠，仿佛马上就要飞去，带着一种不安、浮动，像水平仪的气泡那样，从倾斜到平衡，从精神恍惚到精神集中，不停地来回转动着。\\n这决不是一双献媚的眼睛。比起方才笑着说话的时候，眼神更显得孤独。那双眼睛只能让人看出：它如实地、无意义地反映出她内心漫无边际的闪烁和变化。\\n\\n\\n8\\n“前些时候我就个性问题做了一番思考，我想，自己至少要在这个时代、这个社会、这个学校里做一个不同凡响的人，你也是这样吧？”\\n……（略）\\n“然而，再过一百年会怎么样呢？不管我们愿意不愿意，都会被卷入一个时代思潮之中。只能这样看待，别无他法啰。美术史各个时代的不同样式，无情地证明了这点。在一个时代的样式中生活，谁都不能不通过这个样式去看待事物。”\\n“可是，现在时代有什么样式呢？”\\n“你只是想说明明治的样式已经快消亡是吗？但是，人生活在一种样式中，是绝对看不见这种样式的。所以我们肯定也是被这种样式所包围。\\n就像金鱼生活在金鱼缸里，它自己不能自觉一样。\\n“你只生活在感情的世界里，在别人看来，你正在发生变化，你自己也认为自己是忠实于个性而生活的吧。不过，没有任何东西足以证明你的个性。同时代的人的证言一句也没有。也许你的感情世界本身就表现了时代样式的最纯粹的形式……可是，这也是没有任何东西可以证明的。”\\n“那么，什么才能证明呢？”\\n“时间，只有时间。时间的流逝，把你我也包含在内，我们在不觉之中，残酷地把时代的共性拽了出来……于是把我们完全都混在一起，当做‘大正初年的青年，是这样地思考问题，这样地穿着，这样地说话的’那样。……（略）”\\n……（略）\\n“于是，在这基础上，如今我们生活的时代概括的真实，就轻易地被捕捉了。\\n就像刚刚被搅混的水平静下来，旋即在水面上鲜明地泛起油的彩虹一样。\\n不错，我们的时代的真实，要在我们死后才容易分离，这是谁都看得一清二楚的。这个所谓‘真实’，一百年之后，人们才会明白它完全是一种错误的想法，我们就将被当做一个时代的具有某种错误思想的人，包括在人们的这种概观之中。\\n“你认为这种概观中，以什么作为基准呢？是这个时代的天才的思想吗？是伟大人物的思想吗？不对。后来给这个时代下定义的标准，就是我们和剑道部那帮家伙的无意识的共性，也就是我们最通俗的最一般的信仰。所谓时代，总是被包括在一种愚神信仰之中的。”\\n……（略）\\n“这就是历史吧。”清显说。每次发表议论的时候，他总是遗憾地感到自己的腔调显得比本多幼稚得多，但他还是想挤进本多的思考中。“那么说，不管我们想什么，希望什么，感慨什么，都丝毫动不了历史的一根毫毛啰。”\\n“对啊。正如西方人总是以为拿破仑的意志推动了历史一样，人们总是以为是你祖父他们的意志创造了明治维新。\\n“可是，果真是这样吗？历史曾有过哪一次是按着人们的意志转移的吗？看到你，我总不免会这样想：你既不是伟人，也不是天才，你却具有异样的特色。在你的身上，完全缺乏意志。一想到这样一个你和历史之间的关系，我就总感到饶有兴趣。”\\n“你在嘲讽我吗？”\\n“不，不是嘲讽。我是在思索有关干预完全无意志的历史的事。例如。倘使我抱着某种意志……”\\n“你的确是抱着意志的呀。”\\n“倘使我抱着要改变历史的意志，那么我就要献出我的一生，拿出全副精力和全部财产，努力按照自己的意志去扭转历史。同时，也要攫取能实现这目的的尽可能高的地位和权力。即使如此，历史也未必按照我的意志发展成美满的形状。\\n“一百年、二百年或者三百年之后，也许历史突然\\n和我毫无关系\\n地，呈现出正是我的梦、理想和意志所追求的摸样。也许历史就会采取正如我在一百年前、二百年前梦寐以求的形状出现。就像以我的眼睛认为的美的美丽和微笑，冷淡地在轻视我、嘲讽我的意志那样。”\\n“这就是人们常说的所谓历史吧。”\\n“这不是一个时机问题吗？不是时间终于成熟了吗？不说一百年，就说三十年、五十年，这种事业将会经常发生的。也许历史采取这种形式出现的时候，你的意识也就丧失，而后变成一根肉眼看不见的潜在的细丝，帮助了历史的成就。倘若你一次也没有获得在这个世界上生存的机会，那么，即使你再。历史也不会采取这种形式出现的。”\\n……（略）\\n“到那时候，”本多接着说，“一百年后，假使历史采取我所想象的形式，你把它叫做什么样的‘成就’呢？”\\n“那无疑就是一种成就吧。”\\n“那么是谁的呢？”\\n“是你的意志呗。”\\n“别开玩笑，那时候我早已归天，刚才我也说过了嘛。那是在和我毫无关系中发展起来的。”\\n“你不认为那是历史的意志的成就吗？”\\n“历史有意志吗？把历史拟人化总是危险的啊。依我的想法，历史是没有意志的，同我的意志也是毫无关系。因此，结果并非是从任何意志产生的。这种结果绝不能说是‘成就’。证据就是，历史的虚假成就，从转眼的瞬间就开始崩溃了。\\n“历史总是要崩溃的。同时它又在准备下一个徒有虚名的结晶。\\n历史的形成和崩溃，仿佛只具有同一的意义。\\n“这种事我很清楚。虽然很清楚，但我和你不同，我不能不做一个有意义的人。就说意志吧，它也许就是我的被强制的性格的一部分。这确实的事，对谁也不能说。但是似乎可以说，人的意志本质上是‘企图与历史发生关系的意志’。我并不是说它是‘与历史发生关系的意志’。意志与历史发生关系几乎是不可能的事，它只是‘企图发生关系’而已。这又是所有意志都具备的宿命。当然，意志是不愿意承认一切的宿命。\\n“以长远的目光来看，所有人的意志都将遭到挫折。不能如愿以偿，这是人之常情。这种时候，西方人是这样考虑的呢？他们认为‘我的意志就是意志，失败是偶然的’。所谓偶然就是排除所有因果规律、自由意志所能承认的唯一非合目的性。\\n“因此，\\n西方的意志哲学，不承认‘偶然’就不能成立。所谓偶然，就是意志最后逃遁的场所，是赌博的胜败\\n……没有这个，就无法说明西方人的意志一再受挫折和失败。我认为这种偶然、这种赌博，才是西方的神的本质。既然意志哲学最后逃遁的场所是作为偶然的神的话，那么就只有这样的神才能鼓舞人的意志。\\n“倘若这个偶然都全被否定了，将会怎么样呢？假若任何胜利和任何失败都被认为没有任何偶然的作用余地，又将会怎么样呢？这样一来，所有自由意志逃遁的场所就会丧失殆尽。没有偶然的存在，意志就将失去赖以支撑自己身体站立的支柱。”\\n“你试想想这种局面好啰。”\\n“那里是白昼的广场，意志独立站立，佯装着依靠自己力量站立，且其自身也有这样的错觉。在洒满阳光的没有花草树木的大广场上，它所拥有的只是它自己的影子。\\n“这时候，万里无云的晴空，不知从哪里传来了震耳的轰鸣。\\n“‘偶然死了，偶然这个玩意儿时没有的。意志啊！从此你就永远失去自我辩解了吧。’\\n“听到这声音的同时，意志的躯体也在开始衰颓，在开始融解。肉体腐烂脱落，眼看着骨头裸露。流出透明的浆液，连这骨头也开始软化、融解了。意志用双脚牢固地踩踏着大地，然而这种努力丝毫无济于事。\\n“充满白光的天空，发出可怕的声音崩裂了。正是在这时候，\\n必然之神\\n就从裂缝中探出头来……\\n“……无论如何我也只能这样相信\\n必然之神的面孔是可怕的，不吉利的\\n。这肯定是我意志的性格的弱点。但是，\\n倘使毫无偶然，意志也就变得无意义，历史也就变成只不过时因果规律的隐约可见的大锁上所长的铁锈\\n，干预历史的东西就变得只有一个，那就是光辉的、永远不变的、美丽的粒子般的无意志的作用。只有在那里，人的存在才会有意义。\\n……（略）\\n\\n\\n9\\n那钥匙多么像一只\\n裸露的被揪了翅膀的蜻蜓\\n，以一种残酷的姿势躺在自己的掌心上！\\n\\n\\n10\\n只是为了感情而生活，犹如迎风招展的旗帜的生活方式，\\n说来也奇怪，使人容易逃避自然的发展趋势。因为自然的发展趋势，会给人以受到自然的牵制的感觉，而遇事总讨厌被人牵制的感情，就总想从中摆脱出来。这次，反而连自己本能的自由都要被束缚住了。', metadata={'id': 'doc:notiondb:d63fc30e9d86458b9ecadb12e17719d3', 'author': '【日】三岛由纪夫', 'name': '春雪 【日】三岛由纪夫', 'source': '读书笔记（文学）', 'tags': '小说', 'date_start': '20140304', 'date_end': None}),\n",
       " Document(page_content='金阁寺 キンカクジ\\n【日】三岛由纪夫\\n\\n\\n1.\\n我迄今不曾见过一张那样充满拒绝感的脸。我认为自己的脸是被世界拒绝的脸，可是有为子的脸却是拒绝世界的脸。月光无情地流泻在她的额头、眼睛、鼻梁和脸颊上，可是这张坚定的脸只是被月光荡涤着。她只要稍微动一动眼睛、稍微动一动嘴巴，她企图拒绝的世界就会以此为信号，一拥而入吧。\\n我屏住呼吸看她的脸看得出神。历史在那里中断了。这张脸无论对未来还是对过去都搭不上一句话。\\n我们在刚砍伐的树墩上可以看到这样的不可思议的脸。这张不可思议的脸，带着新鲜而娇嫩的色泽，但是成长在那里已经停止，它沐浴着不该沐浴的风与日光，突然被暴露在本不属于自己的世界的横断面上，画出美丽的木纹。只是因为拒绝，它就被发落到这个世界上来……\\n\\n\\n2.\\n我半绝望地等待着。这早春的天空正像闪亮的玻璃窗，不让人窥见其内部，但我相信其内部隐藏着火和破灭。如前所述，我对人的关心是淡薄的。父亲的死、母亲的贫穷，几乎没有左右我的内心生活。\\n我只幻想有着一种巨大的天做成的压榨机似的东西，它将在同一条件下把灾难、悲惨结局、惨绝人寰的悲剧、人和物质、丑陋的美好的，统统压得粉碎。我动辄将早春天空异乎寻常的璀璨，想做是覆盖大地的巨斧斧刃的寒光。\\n我就等待它落下，不予人思索时间。\\n至今我仍然觉得有些事情是不可思议的。本来我并没有被黑暗的思想所束缚。我所关心的、让我感到是个难题的，理应只有美。但是，我并不打算认为是战争作用于我，使我抱有黑暗的思想。\\n如果人只顾钻牛角尖思虑美的问题，那么人将会不知不觉地碰到这个世间最黑暗的思想。\\n人大概生来就是这样吧。\\n\\n\\n3.\\n我们站在小桥上，毫无意义地凝望着水面。这样短暂而无意义的时间在有关战争期间的回忆的各处，以鲜明的印象残存着。\\n这种无所事事、茫然若失的短暂时间，就像偶尔从云隙露出的蓝天那样处处可见。这种时间，简直像痛切的快乐记忆那样鲜明，这是难以想象的。\\n\\n\\n4.\\n我是三宫市近郊的禅寺弟子，天生一双内翻足……瞧，我就这样开始了自白，也许你以为我是个不择对象就随便讲自己遭遇的可怜的病人，可我不是对谁都说这番话的。我本人也觉得这是很难为情的，从一开始就选择你作为我倾吐衷肠的对象。因为我总觉得我的经历对你最有价值，假使你按照我经历过的道路走，也许是最好的途径。你大概也知道吧，宗教家就是这样嗅出他的信徒，禁酒家就是这样嗅出他的同伙的。\\n不错，我自愧于自己存在的条件。我觉得同这种条件和解并融洽地生活，是一种失败。如果要埋怨，是可以埋怨的。我的双亲本应在我幼时给我施以矫正手术。如今为时已晚了。但我对双亲是不关心的，也就懒得去埋怨他们了。\\n我确信我绝对不会博得女子的爱。也许你知道，这种确信比人们所想像的更安乐、更平和。\\n不同自己的存在条件和解的决心和这种确信并不一定矛盾。因为假如我相信以我这样的状态能够博得女人的爱，那光凭这一点就足以说明我已同自己的存在条件和解了。\\n我知道正确判断的勇气，以及同这种判断做斗争的勇气，是很容易互相适应的。尽管我存在，但总觉得是在斗争。\\n这样一个我，当然不会像朋友们的作为那样被烟花女破了身。这是因为烟花女并非出于爱客而接客。无论是老人、乞丐、独眼还是美男子，只要事先不知道，甚至连麻风病人她们也都接待。要是普通人，也许会安于这种平等性，花钱招来第一个女人吧。然而，对我来说，这种平等性是不符合我的性格的。\\n四肢健全的男子同这样一个我，都以同样的资格受到欢迎，这是我所不能容忍的。对我来说，这是可怕的自我冒渎。假使忽视甚至无视我的内翻足这一条件，那么我的存在也就全然消失了。\\n就是说，我也被你如今所抱有的恐惧所俘虏了。为了全面承认我的条件，我当然需要数倍于普通人的更多的筹划。我觉得人生也必须如此。\\n只要世界或我们的任何一方发生变化，将我们和世界置于对立状态的可怕的不满，就应该可以消除。但是，我憎恨幻想变化的梦想，我讨厌非同寻常的梦想。\\n然而钻“假如世界变化，我就不存在；假如我变化，世界也就不存在”这种理论式的牛角尖所获得的确信，反而会似是一种和解、一种融洽。因为实事求是的我不会被人爱的这种思考，与世界是不能共存的。于是，残疾人最后落入的陷讲，不是消除对立状态，而是以全面承认对立状态的形式出现。这样，残疾就是不治之症了。\\n……\\n这时，我处在青春期（我非常坦率地使用这种语言），在我的境遇中发生了一桩令人难以置信的事。一个施主的女儿，美貌闻名遐迩，是毕业于神户女校的富家千金，一天她忽然向我表白了爱慕之情。我久久无法相信自己的耳朵。\\n多亏我的不幸，使我擅长于洞察人的心理，所以我不会简单地在同情中寻找她的爱的动机。因为我深深地懂得她不会只是出于同情才爱我的。根据我的猜测，她爱的原因是出于她那非凡的自尊心。她很懂得无比的艳美对于女人的价值，所以她无法接受很有自信的求爱者。她不能把自己的自尊与求爱者的自负放在同一天平上。没有什么比所谓良缘使她感到更厌恶的了。\\n她终于洁癖地拒绝爱情上的所有平衡（在这一点上，她是诚实的）而相中了我。\\n我的回答是符合惯例的。也许你会笑我，不过我冲着这个女子回答说：“我不爱你。”除此以外，难道还能有别的回答吗？这个回答是诚实的，毫无夸耀的意思。面对着女子的表白，假使我觉得奇货可居而回答说“我也爱你”，那就未免太滑稽，也近乎悲剧了吧。\\n一个外形滑稽的男人，是知道采取高明的方法来回避别人错误地把自己看成悲剧的。因为他知道，倘使让别人看成悲剧，那么人家就不能放心地与自己交往了。\\n要不让别人把自己看得很凄惨，首先就要为别人的灵魂着想，这是至关重要的。因此，我才敢干脆地说：“我不爱你！”\\n女子并不畏缩。她说我的回答是撒谎。尔后值得提及的是，她小心翼翼地试图说服我，而又不伤害我的自尊心。对她来说，竟有男人不爱她，是出乎意料的。倘使有这种男人，也是他在欺骗他自己。于是，她对我做了一番大胆的精细分析，终于认定我实际上早就爱上了她。她很聪明。假定她真的爱我，那么她就是爱上了一个手足无措的对象。她计算过，倘使把我的并不美的脸蛋说成是美，就会让我生气；倘使把我的内翻足说成是美，就会使我恼火；倘使她爱的不是我的外表，而是我的内在美，就会引起我更大的愤怒。因此，她只是继续说她“爱着”我，并且通过对我内心所做的分析，找出了与之相应的感情来。\\n对于这种不合理性，我是无法接受的。事实上，我的欲望愈发强烈了。但这种欲望并不是希望她与我结合。\\n假使她不爱别人而只爱我，那么就必须有将我从别人区别开来的个别因素。这不是别的，正是我生就的内翻足。尽管她嘴里没说出来，但她是爱着我的内翻足的。这种爱在我的思考里是不可能的。如果说，我的个别性不是内翻足，而是其他，也许爱是可能的。然而，倘使我承认内翻足以外的我的个别性和我的存在理由，那么，我就得补充地承认这种东西。相应也得相互补充地承认他人的存在理由，进而承认被包围在世界之中的自己。\\n爱是不可能的。她以为她是爱着我，这也是一种错觉，我是不可能爱她的。因此，我反复地说：“我不爱你。”\\n奇怪的是，我越说：“我不爱你”，她就越发深深地沉溺在爱我的错觉中。于是，一天晚上，她终于大胆地委身在我的面前。她的身体实在美到了极点。但是，我却是个没有性功能的人。\\n这样的大失败，将所有问题都简单地解决了。她好不容易证实了我并“不爱”她。她离开了我。\\n我感到羞耻。但比起羞于内翻足来，任何羞耻都不足挂齿了。令我狼狈的是另一件事。我明白了我没有性能力的原因。那种场合我一想到自己的内翻足即将接触到她的美丽的腿时，我就变得没有性能力了。\\n这一发现，使我确信我决不会被人爱而拥有的平安感从内部世界完全崩溃了。\\n因为那时候，我产生了一种不严肃的喜悦，企图通过欲望或这种欲望的完成，来证实爱的不可能，可是，肉体却背叛了它，肉体扮演了我企图以精神来做的事情。我遇到矛盾了。如果说不怕庸俗的表现，那么我就可以以不会被人爱的确信来梦见爱，在最后阶段我把欲望作为爱的代理上而安心了。可是，我完全明白，欲望本身要求我忘却我的存在的条件，要求我放弃我的爱的惟一难关——即不会被人爱这样一种确信。由于我相信欲望这种东西是更加明晰的东西，所以我并不认为它有必要梦见自己，哪怕是一星半点。\\n从这时候起，我关心肉体忽然有甚于关心精神。但是，自己不能化身为纯粹的欲望，只是梦幻而已。仿佛成了一阵风，成了从对面也看不见的存在，而从这面则看到一切，并轻而易举地靠近对象，全身抚爱对象，最终悄然潜入其内部……当肉体觉醒的时候，你可能会想像到一种具有一定质量的、不透明的、坚定的“东西”在觉醒。不过，我并不是这样。一个肉体、一个欲望的完成，就是我成了透明的。看不见的东西，也就是成了风。\\n但是，内翻足会突然出来制止我。只有这双腿决不会变成透明的。与其说它是腿，莫如说是一种顽固的精神。它作为比肉体更为坚定的“东西”而在那里存在着。\\n人们也许会认为不借助镜子就看不见自己，残疾人总是被迫在鼻子尖上挂着一面镜子。这面镜子昼夜都映现着我的全身。不可能忘却。因此，对于我来说，人世间所说的不安，看起来类似儿戏，这是没有法子的。我没有不安。我就是这样存在着，如同太阳、地球、美丽的鸟儿和丑陋的鳄鱼一样地存在着。这是千真万确的。世界宛如一座墓碑，屹立不动。\\n我没有任何不安，没有任何门路，我从这里开始了独创的生活方式。我为什么而活着？这种问题会使人感到不安，甚至想要自杀。我算不了什么。内翻足是我生的条件、生的理由、生的目的和生的理想……这就是生的本身。光存在这一点，对我就足够了。本来所谓存在的不安，难道不正是由自己没有充分地存在这种过分的不满而产生的吗？\\n在自己的村子里，我注意到了一个孀居的老妇人。有人说她六十岁，也有人说她六十多岁。她亡夫忌辰那天，我代表父亲前去诵经，佛前只有老寡妇和我，并无一个亲戚。时值夏季，诵毕，她在另一房间招待我喝茶，我请求她让我洗个澡。老妇人替我冲洗了赤裸的背。她像怜恤似地出神望着我的腿，我内心便生起了一种企图。\\n折回方才的房间后，我一边揩试身体，一边板着面孔开始说道：我出世时，佛祖托梦于我母亲，并告诉她这孩子成人后，如果有女人衷心崇拜他的脚，她就定能极乐往生了。虔诚的寡妇手捻念珠，定睛望着我眼睛在听我的讲述。我信口念经，然后将挂着念珠的手合在胸前，活像一具死尸似地赤裸着身体仰躺了下来。我会上双眼，嘴里依然念念有词。\\n可以想像我是怎样强忍住笑的。我心里洋溢着笑。我丝毫也没有幻想我自己。我知道，老寡妇一边念经，一边一个劲地膜拜我的脚。我只顾思考着自己这双被地膜拜的脚，心里觉得几乎被这几分滑稽所窒息。内翻足、内翻足，我只想着它，脑子里只充塞着它。它是奇形怪状的。它是处在极其丑陋的状况。它是荒谬的丑剧。事实上，连连叩头的老寡妇的散发，触及了我的脚心，那几分痒劲愈发使我感到滑稽可笑了。\\n以前，从接触到那双美丽的腿而成为没有性功能的时候起，我就觉得自己对欲望产生了一种误解。因为这时候，处在这种丑恶的膜拜的最高潮，我察觉自己很亢奋。在对自己没有丝毫幻想的情况下！在这种最不可宽恕的状态下！\\n我站起身来，冷不防地把老寡妇撞倒了。实是令人不可思议。老寡妇似乎无暇思及惊愕了。被撞倒以后，她依然平静地闭上双目在继续念经。\\n实在太奇怪了，我还清楚地记得，那时老寡妇所念的经，就是大悲心陀罗尼的一节。\\n伊醯伊醯。室那室那。阿罗嘇。佛罗舍利。罚沙罚嘇。 佛罗舍耶。\\n正如你所知道的，根据“解释”，它的意思是这样的：“请来供奉。请来供奉。毁灭贪婪、怒恨、牢骚三毒，保持无垢的清净的神体。”\\n出现在我眼前的，是一个闭着双目欢迎我的六十开外的女人，地挂着一张没有化妆的、被太阳晒得过黑的脸。我的亢奋一点都没有消失。于是，丑恶剧发展到了高峰，我不知不觉地接受了诱惑……\\n但是，在文学上恐怕不能使用“不知不觉”的字眼吧。我看到了所有的一切。我清晰地看到了地狱的特色布满每个角落，而且是在黑暗之中！\\n老寡妇那张皱巴巴的脸，既不美也不神圣。但是，在我心中没有梦幻任何事物的状态下，她的丑陋和老朽仿佛给了我不断的确实证据。谁敢说在没有一点梦幻的情况下观看时，任何一个美女的容貌，它不会变形为这个老寡妇的险呢。我的内翻足和这张脸……不错，观看这些实像，好歹支撑着我的肉体的亢奋。我第一次以和睦的感情，相信了自己的欲望。而且，我知道问题不在于如何缩小我和对象之间的距离，而在于为了巧骗对象，如何同对象保持距离。\\n请看吧，当时我从残疾人停止在那里同时也到达了那里的理论，和绝对不会招来不安的理论，发明了我自己的情欲的理论，发明了类似人世间称做“耽溺”的一种虚构。对于我来说，这类似隐身革或风的被望的结合，只是一种梦。我做梦的同时，还必须全面而一无遗漏地梦见！这时候，我的内翻足、女人都与我保持着相同的距离。实像摆在那里，欲望只不过是虚像。于是，望着实像的我，无限地堕落在虚像中，并冲着实像射精。我的内翻足和我的女人，互相绝对不接触，互相绝对不结合，而互相依然被抛弃在世界之外……欲望无止地昂进。这是因为那双美丽的腿与我的内翻足已经永远不会再接触了。\\n我的想法也许是很难理解。也许需要做些说明。不过，从那以后，我安下心来，相信“爱是不可能的”。这一点，你也许会理解的吧。就是说，没有不安，也没有爱。世界永久地处在停止状态，同时也达到目标。有没有必要给这个世界注为“我们的世界”呢？我过去可以用一句话来给人世间的“爱”的迷惘下一个定义。这就是虚像与实像企图相结合的迷惘……不久，我知道我绝不会被人爱，我的这种境信就是人类存在的根本状态。这就是我失去重贞的来龙去脉。\\n\\n\\n5.\\n有时，我几个小时坐在草地上，观察着蚂蚁搬运细红土去造窝的情形。并非蚂蚁引起了我的兴趣。有时，我长时间地呆望着学校后面的工厂的烟囱冒出的缕缕轻烟。也并非烟雾引起我的兴趣……我觉得我全然地，甚至连生命都沉浸在自己的存在中。外界到处都是忽冷忽热。是啊，怎么说才好呢？外界时而呈现斑驳，时而又呈现条纹状。自己的内在和外界不规则地缓慢地轮流转化，四周无意义的风景映在我的眼帘里，风景闯入了我的心，而且没有闯入的部分在彼方活泼地闪烁着。这闪烁的东西，有时是工厂的旗帜，有时是土墙上微不足道的污点，有时又是被抛弃在草丛中的一只旧木屐。所有这些东西，都是一瞬间在我心中产生，又一瞬间在我心中消失。可以说，这是没有形成所有形态的思想吧……我觉得重要的事物总与微不足道的事物联系在一起，今天报上刊登的欧洲政治事件，似乎同眼前的旧木屐有着不可分割的联系。\\n我曾就一片草叶尖端的锐角进行过长时间的思考。说思考是不恰当的。这种奇怪的琐碎的念头绝不会持久，在我的感觉里，它似是活着，又似是死去，实在难以捕捉，犹如乐曲的副歌那样执拗地反复出现。为什么这片草叶的尖端其锐角必须是这样尖锐的呢？倘使是钝角，难道就会失去草的种别，自然就得从这一角整个崩溃么？倘使拆掉大自然齿轮中的极小的东西，不就可以使整个大自然颠覆么？我想入非非，徒然地思考这种方法。\\n\\n\\n6.\\n我忽然想起初次与柏木相会时他对我说过的一句话：“\\n我们之所以突然变得残暴，那是在这样一瞬间，即一个明媚春天的下午，在精心修剪过的草坪上茫然地眺望着从树叶缝隙筛落下来的阳光戏耍的一瞬间。\\n”\\n\\n\\n7.\\n一般来说，有生命的东西不像金阁那样具备严密的一次性。人类只不过是承担大自然诸多属性的一部分，用有效的代替方法来传播并繁殖它罢了。假如杀人是为了消灭被杀对象的一次性的话，那么杀人就是永远的误算。我就是这样认为的。这样，金阁和人类的存在就愈发显示它们鲜明的对比。一方面，人类容易毁灭的形象反而浮现出永生的幻想，而金阁坚固的美反而暴露出毁灭的可能性。像人类那样有能力致死的东西是不会根绝的，而像金阁那样不灭的东西却是可以消灭的。为什么人们竟没有察觉到这一点呢？我的独创性是没有什么可怀疑的。假如我把十九世纪末二十世纪初被指定为国宝的金阁烧毁，那就是纯粹地破坏，是无法挽回的破灭，那就是确实减少人类创造的美的总分量。\\n\\n\\n8.\\n我一边望着母亲系着腰带、迈着碎步、无精打采的背影，一边在寻思：是什么东西让母亲变的格外丑陋呢？让母亲变得丑陋的……原来就是希望。\\n这种希望如顽固的皮癣，潮乎乎呈淡红色、不断使人发痒、不输给世上任何东西地盘踞在肮脏的皮肤上，就是一种不治之症的希望。\\n\\n\\n9.\\n“你太孩子气，不要不服输嘛。”柏木嘲笑我说，“我想让你知道，认识是能够使这个世界变形的。你听好，其他任何东西都不能改变世界分毫。只有认识，才能使世界保持不变，在原来的状态下变形。从认识的眼光来看，世界是永久不变的，又是永久变形的。也许你会说这又有什么用吧，但是可以说，人类是为了能够忍受这种生，才拿起了认识这一武器。动物就不需要这种玩意儿。因为动物没有什么忍受生的意识啊。认识就是生的难以忍受性原封不动地变成了人类的武器。尽管如此，那种难以忍受性也丝毫未能减轻。如此而已。”\\n“你不认为忍受生还有别的办法吗？”\\n“没有啊。除非发疯，或者死去。”\\n\\n\\n10.\\n对于有为子来说，也许死是微不足道的事件。\\n她在金刚院的渡殿上留下的血，也许不过是像早晨打开窗户时飞进来的蝴蝶落在窗框上的翅瓣一样。\\n\\n\\n11.\\n尽管如此，在轰鸣声大声说话的禅海和尚身上，有着一种震颤我心灵的慈祥。\\n这不是人世间常见的那种慈祥，而是宛如村外大树下的粗壮树根，给过往旅人提供在树荫下歇息的条件的那种慈祥。是用手触摸很粗糙的那种慈祥。\\n\\n\\n12.\\n我尝试在口腔内结巴。一如既往，说一个词，简直就像将手插入口袋摸东西，物品被别的东西挂住怎么也掏不出来，等把我欺负得狼狈万分，这才出现在唇上。我内心世界的沉重和浓度，恰似今晚的黑夜，语言就像沉重的吊桶似的，从那深夜的水井里发出咯吱吱的声音升了上来。\\n\\n\\n13.\\n“柏木所说的事或许是真的，他说，改变世界的，不是行动而是认识。而且还有一味模仿行动到了极限的认识。我的认识就是属于这种类型的，并且是一种使行动变成无效的认识。如此看来，我长期以来的精心准备，岂不完全为了‘无需行动也行’的这种最后的认识吗？”\\n“请看看吧，如今，对我来说，行动不过是一种剩余的物资。这是从人生中挤出来的，是从我的意志中溢出来的，就像另一种冰凉的铁制机械似的放在我的面前，等待着启动。这种行动和我简直毫无关系。至此，我还是我。从此以后，我就不是我了……我为什么一定要把自己变成非我呢？”\\n\\n\\n14.\\n美概括了各部分的争执、矛盾和一切的走调，并且君临其上！它如同用金粉一字一字准确地抄录在深藏青色底册页上的纳经一样，是一幢在无明的长夜里用金粉筑成的建筑物。然而，我不知道美究竟是金阁本身，还是与笼罩着金阁的这虚无之夜同一性质的东西！恐怕两者都是美。美既是细部，也是整体；既是金阁，也是笼罩金阁之夜。这么一想，过去曾令我苦恼的金阁之美的不可解，仿佛解了一半。因为倘使审视其细部的美，诸如其柱子、栏杆、板窗、板门、花格子窗、宝形造型的屋顶……法水院、潮音洞、究竟顶、漱清亭……地面的投影、池心的小岛群、松村乃至泊舟石等等细部的美，就知道美决不是在细部终了、在细部完结的，任何一部分的美都包含着另一种美的预兆。细部的美，其本身就充满着不安。它梦想着完整却不知完结，被唆使去追寻下一个美、未知的美。而且，预兆联系着预兆，一个一个不存在于这里的美的预兆，可谓形成了金阁的主题。这种预兆，原来就是虚无的兆头。虚无，原来就是这个美的结构。因而，美的这些细部的未完成便自然而然地蕴含着虚无的预兆，各部分木材比例精细的这座纤巧的建筑物，就像璎珞在风中飘荡似的，在虚无的预感中颤栗。\\n尽管如此，金阁的美从没有中断过的时候！它的美总是在某处回响。我有如患耳鸣疾的人，到处听见金阁的美的回响，习以为常了。以声音来做比喻的话，这座建筑物犹如历经了五个多世纪、响声不绝的小金铃或小琴吧。倘使它们的声音中断……\\n\\n\\n【我的思考】本书试图讨论三个问题：\\n1. 人的存在感的产生，人存在的条件即区别于他人的特色（通过结巴和内翻足两个残疾的极端例子试图阐释）\\n2. 探讨美的形成和美的意义（金阁寺）。', metadata={'id': 'doc:notiondb:41516307f6bd41058dc8df085a3f66d9', 'author': '【日】三岛由纪夫', 'name': '金阁寺 【日】三岛由纪夫', 'source': '读书笔记（文学）', 'tags': '小说', 'date_start': '20130906', 'date_end': None})]"
      ]
     },
     "execution_count": 24,
     "metadata": {},
     "output_type": "execute_result"
    }
   ],
   "source": [
    "f = RedisText(\"name\") % \"*三岛由纪夫*\"\n",
    "vectorstore.max_marginal_relevance_search('清显与本多', filter=f, k=3)"
   ]
  },
  {
   "cell_type": "code",
   "execution_count": null,
   "id": "cc07a554-ed12-4cdd-ab57-cde415c96e0f",
   "metadata": {},
   "outputs": [],
   "source": []
  }
 ],
 "metadata": {
  "kernelspec": {
   "display_name": "Python 3 (ipykernel)",
   "language": "python",
   "name": "python3"
  },
  "language_info": {
   "codemirror_mode": {
    "name": "ipython",
    "version": 3
   },
   "file_extension": ".py",
   "mimetype": "text/x-python",
   "name": "python",
   "nbconvert_exporter": "python",
   "pygments_lexer": "ipython3",
   "version": "3.12.2"
  }
 },
 "nbformat": 4,
 "nbformat_minor": 5
}
