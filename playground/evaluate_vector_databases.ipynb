{
 "cells": [
  {
   "cell_type": "markdown",
   "id": "67d7d426-16b1-49bc-aeea-27b5536030e3",
   "metadata": {},
   "source": [
    "# Evaluate vector databases"
   ]
  },
  {
   "cell_type": "code",
   "execution_count": 9,
   "id": "6f13607d-272f-4daa-95a9-b4f167b5db3d",
   "metadata": {},
   "outputs": [],
   "source": [
    "from typing import Dict, List\n",
    "from langchain_core.documents.base import Document"
   ]
  },
  {
   "cell_type": "markdown",
   "id": "1e3d8b58-0591-48e7-9f2b-54e57f921652",
   "metadata": {},
   "source": [
    "## Load evaluation dataset and docs"
   ]
  },
  {
   "cell_type": "code",
   "execution_count": 10,
   "id": "ccaca400-cd6b-410b-ab24-be1633f6937a",
   "metadata": {},
   "outputs": [],
   "source": [
    "from langchain_community.document_loaders import NotionDBLoader\n",
    "import tomllib"
   ]
  },
  {
   "cell_type": "code",
   "execution_count": 11,
   "id": "c0079b60-a225-4a6b-adc6-fae9d8b54dbe",
   "metadata": {},
   "outputs": [],
   "source": [
    "with open('../.tokens.toml', 'rb') as f:\n",
    "    _TOKENS = tomllib.load(f)\n",
    "\n",
    "with open('../.notion_databases.toml', 'rb') as f:\n",
    "    _DATABASES_NOTION = tomllib.load(f)"
   ]
  },
  {
   "cell_type": "code",
   "execution_count": 12,
   "id": "c41545a3-717a-4836-8af6-f85d34cd5d88",
   "metadata": {},
   "outputs": [],
   "source": [
    "# def load_notion_dbs(dbs, id):\n",
    "#     loader = NotionDBLoader(\n",
    "#         integration_token=_TOKENS['notion'],\n",
    "#         database_id=dbs[id],\n",
    "#         request_timeout_sec=300,  # optional, defaults to 10\n",
    "#     )\n",
    "#     data = loader.load()\n",
    "#     return data"
   ]
  },
  {
   "cell_type": "code",
   "execution_count": 13,
   "id": "69d8cd91-4231-4294-addc-5181f81dc36b",
   "metadata": {},
   "outputs": [],
   "source": [
    "# %%time\n",
    "# from concurrent.futures import ThreadPoolExecutor\n",
    "\n",
    "# te = ThreadPoolExecutor()\n",
    "# results = list(te.map(lambda x: load_notion_dbs(_DATABASES_NOTION, x), _DATABASES_NOTION.keys()))\n",
    "\n",
    "# docs_from_notion: Dict[str, List[Document]] = dict(zip(_DATABASES_NOTION.keys(), results))\n",
    "\n",
    "# # optional pickle step so we don't need to query notionDB again\n",
    "# import pickle\n",
    "\n",
    "# with open('../data/notion_offline.pkl', 'wb') as f:\n",
    "#     pickle.dump(docs_from_notion, f)"
   ]
  },
  {
   "cell_type": "code",
   "execution_count": 14,
   "id": "049f9e94-78dd-4ba4-9e3c-aa37688b6ab4",
   "metadata": {},
   "outputs": [],
   "source": [
    "import pickle\n",
    "with open('../data/notion_offline.pkl', 'rb') as f:\n",
    "    docs_from_notion = pickle.load(f)"
   ]
  },
  {
   "cell_type": "code",
   "execution_count": 15,
   "id": "c9603f28-8f80-46b2-8622-ff6c1e64936b",
   "metadata": {},
   "outputs": [
    {
     "data": {
      "text/plain": [
       "{'date': {'start': '2013-10-26', 'end': '2013-10-26', 'time_zone': None},\n",
       " 'name': '2013-OCT-26 师说',\n",
       " 'tags': ['日常记趣'],\n",
       " 'id': '273ea76f-a35c-474e-bfe0-41a3daae5c96'}"
      ]
     },
     "execution_count": 15,
     "metadata": {},
     "output_type": "execute_result"
    }
   ],
   "source": [
    "docs_from_notion['写作'][0].metadata"
   ]
  },
  {
   "cell_type": "code",
   "execution_count": 16,
   "id": "744edc8d-f8d0-4ca3-9a7e-33ab7792544c",
   "metadata": {},
   "outputs": [],
   "source": [
    "def add_source_property(docs_from_notion: Dict[str, List[Document]]) -> List[Document]:\n",
    "    docs_list = list()\n",
    "    \n",
    "    for db_name, docs in docs_from_notion.items():\n",
    "        for doc in docs:\n",
    "            # because our data are gathered from multiple databases\n",
    "            # we are going to throw the database names as one property\n",
    "            # into the docs' metadata field\n",
    "            # and return as a list\n",
    "            doc.metadata['source'] = db_name\n",
    "\n",
    "            # vector dbs don't allow complex metadata types like dict and list\n",
    "            # chroma is explicity about this, faiss is implicit about it\n",
    "            # but both \"filter\" arg assumes simple string match\n",
    "            # we'll convert into flattened date\n",
    "            if 'date' in doc.metadata:\n",
    "                if 'start' in doc.metadata['date']:\n",
    "                    doc.metadata['date_start'] = doc.metadata['date']['start']\n",
    "                if 'end' in doc.metadata['date']:\n",
    "                    doc.metadata['date_end'] = doc.metadata['date']['end']\n",
    "                    del doc.metadata['date']\n",
    "\n",
    "            if 'tags' in doc.metadata:\n",
    "                doc.metadata['tags'] = \", \".join(doc.metadata['tags'])\n",
    "                \n",
    "\n",
    "        docs_list.extend(docs)\n",
    "        \n",
    "    return docs_list"
   ]
  },
  {
   "cell_type": "code",
   "execution_count": 17,
   "id": "7d288c6f-2601-4c60-a546-3f2ef002ac92",
   "metadata": {},
   "outputs": [
    {
     "data": {
      "text/plain": [
       "{'name': '2013-OCT-26 师说',\n",
       " 'tags': '日常记趣',\n",
       " 'id': '273ea76f-a35c-474e-bfe0-41a3daae5c96',\n",
       " 'source': '写作',\n",
       " 'date_start': '2013-10-26',\n",
       " 'date_end': '2013-10-26'}"
      ]
     },
     "execution_count": 17,
     "metadata": {},
     "output_type": "execute_result"
    }
   ],
   "source": [
    "docs_from_notion = add_source_property(docs_from_notion)\n",
    "docs_from_notion[0].metadata"
   ]
  },
  {
   "cell_type": "code",
   "execution_count": 18,
   "id": "af50dd31-37d0-474e-b263-b931716b97c2",
   "metadata": {
    "scrolled": true
   },
   "outputs": [],
   "source": [
    "# Let an automated process takes care the rest\n",
    "from langchain_community.vectorstores.utils import filter_complex_metadata\n",
    "docs_from_notion = filter_complex_metadata(docs_from_notion)"
   ]
  },
  {
   "cell_type": "code",
   "execution_count": 20,
   "id": "956e12db-10e3-46a9-9383-794f3b378c5f",
   "metadata": {},
   "outputs": [],
   "source": [
    "from langchain_community.vectorstores import Redis"
   ]
  },
  {
   "cell_type": "markdown",
   "id": "74e60530-20b3-4536-830b-4dca9d02f39f",
   "metadata": {},
   "source": [
    "## Testing ideas\n",
    "\n",
    "* use langchain.text_splitterRecursiveCharacterTextSplitter\n",
    "* storage: test 2 vector databses: Redis, Superbase"
   ]
  },
  {
   "cell_type": "code",
   "execution_count": 21,
   "id": "58bb7459-2a6b-4e7e-b7d8-7c09b407a2d3",
   "metadata": {},
   "outputs": [],
   "source": [
    "# Presumably docs in NotionDB fits more with MarkdownHeaderTextSplitter\n",
    "# however, most of the documents in my personal databases don't have such header-text structure\n",
    "# and they are not important for my use cases (I won't ask it to reason on a specific section \n",
    "# in a doc). Thus I'll use the regular RecursiveCharacterTextSplitter\n",
    "from langchain.text_splitter import RecursiveCharacterTextSplitter"
   ]
  },
  {
   "cell_type": "code",
   "execution_count": 22,
   "id": "372985ea-0e5b-4413-ab02-3ebfd0abe229",
   "metadata": {},
   "outputs": [
    {
     "data": {
      "text/plain": [
       "(225, 1136)"
      ]
     },
     "execution_count": 22,
     "metadata": {},
     "output_type": "execute_result"
    }
   ],
   "source": [
    "chunk_params = {\n",
    "    # 1 Chinese characters = 2 english character\n",
    "    # most paragraphs/sections are within 500 Chinese words/chars\n",
    "    'chunk_size': 1000, \n",
    "    'chunk_overlap': 250,\n",
    "}\n",
    "\n",
    "rc_splitter = RecursiveCharacterTextSplitter(**chunk_params)\n",
    "\n",
    "splits = rc_splitter.split_documents(docs_from_notion)\n",
    "len(docs_from_notion), len(splits)"
   ]
  },
  {
   "cell_type": "code",
   "execution_count": 23,
   "id": "a3386af4-e73d-4492-abcd-91824ff08888",
   "metadata": {},
   "outputs": [],
   "source": [
    "from langchain_community.embeddings import HuggingFaceInferenceAPIEmbeddings\n",
    "\n",
    "embeddings = HuggingFaceInferenceAPIEmbeddings(\n",
    "    api_key=_TOKENS['huggingface'], \n",
    "    model_name=\"sentence-transformers/distiluse-base-multilingual-cased-v1\"\n",
    ")"
   ]
  },
  {
   "cell_type": "code",
   "execution_count": 32,
   "id": "e769fd4b-08bd-496a-82ce-365b2a743864",
   "metadata": {},
   "outputs": [
    {
     "data": {
      "text/plain": [
       "{'author', 'date_end', 'date_start', 'id', 'name', 'source', 'tags'}"
      ]
     },
     "execution_count": 32,
     "metadata": {},
     "output_type": "execute_result"
    }
   ],
   "source": [
    "metadata_set = set()\n",
    "\n",
    "for x in [x.metadata for x in docs_from_notion]:\n",
    "    metadata_set = metadata_set.union(list(x.keys()))\n",
    "\n",
    "metadata_set"
   ]
  },
  {
   "cell_type": "code",
   "execution_count": null,
   "id": "a65ddb55-c5d3-470e-8bbd-08ea0f7bd039",
   "metadata": {},
   "outputs": [],
   "source": [
    "!redis-stack-server"
   ]
  },
  {
   "cell_type": "code",
   "execution_count": 33,
   "id": "bfdf1bbe-d58c-4dac-80c5-483aedb91f92",
   "metadata": {
    "scrolled": true
   },
   "outputs": [
    {
     "name": "stderr",
     "output_type": "stream",
     "text": [
      "`index_schema` does not match generated metadata schema.\n",
      "If you meant to manually override the schema, please ignore this message.\n",
      "index_schema: {'text': [{'name': 'author'}, {'name': 'date_end'}, {'name': 'date_start'}, {'name': 'id'}, {'name': 'name'}, {'name': 'source'}, {'name': 'tags'}]}\n",
      "generated_schema: {'text': [{'name': 'name'}, {'name': 'tags'}, {'name': 'id'}, {'name': 'source'}, {'name': 'date_start'}, {'name': 'date_end'}], 'numeric': [], 'tag': []}\n",
      "\n"
     ]
    },
    {
     "name": "stdout",
     "output_type": "stream",
     "text": [
      "CPU times: user 112 ms, sys: 21.6 ms, total: 134 ms\n",
      "Wall time: 1.11 s\n"
     ]
    }
   ],
   "source": [
    "%%time\n",
    "\n",
    "index_schema = {\n",
    "    # \"tag\": [{\"name\": \"genre\"}],\n",
    "    \"text\": [\n",
    "        {\"name\": \"author\"},\n",
    "        {\"name\": \"date_end\"},\n",
    "        {\"name\": \"date_start\"},\n",
    "        {\"name\": \"id\"},\n",
    "        {\"name\": \"name\"},\n",
    "        {\"name\": \"source\"},\n",
    "        {\"name\": \"tags\"},\n",
    "    ],\n",
    "}\n",
    "\n",
    "vectorstore = Redis.from_documents(\n",
    "    documents=docs_from_notion,\n",
    "    embedding=embeddings,\n",
    "    redis_url=\"redis://localhost:6379\",\n",
    "    index_name=\"notiondb\",\n",
    "    index_schema=index_schema,\n",
    ")"
   ]
  },
  {
   "cell_type": "code",
   "execution_count": 35,
   "id": "a1c0b901-31b3-466a-86d6-b4e525fad68b",
   "metadata": {},
   "outputs": [
    {
     "name": "stdout",
     "output_type": "stream",
     "text": [
      "Name: langchain\n",
      "Version: 0.1.7\n",
      "Summary: Building applications with LLMs through composability\n",
      "Home-page: https://github.com/langchain-ai/langchain\n",
      "Author: \n",
      "Author-email: \n",
      "License: MIT\n",
      "Location: /Users/fred/micromamba/envs/my-notion-companion/lib/python3.12/site-packages\n",
      "Requires: aiohttp, dataclasses-json, jsonpatch, langchain-community, langchain-core, langsmith, numpy, pydantic, PyYAML, requests, SQLAlchemy, tenacity\n",
      "Required-by: \n"
     ]
    }
   ],
   "source": [
    "!pip show langchain"
   ]
  },
  {
   "cell_type": "code",
   "execution_count": 37,
   "id": "b15e2ea6-1511-4e2a-b814-da1a548a00a2",
   "metadata": {
    "scrolled": true
   },
   "outputs": [
    {
     "name": "stderr",
     "output_type": "stream",
     "text": [
      "Metadata key date_end not found in metadata. Setting to None. \n",
      "Metadata fields defined for this instance: ['author', 'date_end', 'date_start', 'id', 'name', 'source', 'tags']\n",
      "Metadata key date_end not found in metadata. Setting to None. \n",
      "Metadata fields defined for this instance: ['author', 'date_end', 'date_start', 'id', 'name', 'source', 'tags']\n",
      "Metadata key author not found in metadata. Setting to None. \n",
      "Metadata fields defined for this instance: ['author', 'date_end', 'date_start', 'id', 'name', 'source', 'tags']\n",
      "Metadata key author not found in metadata. Setting to None. \n",
      "Metadata fields defined for this instance: ['author', 'date_end', 'date_start', 'id', 'name', 'source', 'tags']\n"
     ]
    },
    {
     "data": {
      "text/plain": [
       "[(Document(page_content='第一次阅读：2019.05.19 杨伯峻《论语译注》\\n第二次阅读：2023.12.01 罗晓晖《论语译释》\\n\\n\\n学而第一\\n\\n1.1 子曰：“学而时习之，不亦说乎？有朋自远方来，不亦乐乎？人不知而不愠，不亦君子乎？\\n【”说“和“乐”的区别——《说文》：“说，释也。”因此”说“有”说开“、”开解“的意思，”说“通”悦“时，表示心情舒张。而”乐“是乐器，因此这种情绪是被音乐激发的、感动于物的。】\\n\\n1.2 有子曰：“其为人也孝弟，而好犯上者，鲜矣；不好犯上，而好作乱者，未之有也。君子务本，本立而道生。孝弟也者，其为仁之本与！\\n\\n1.3\\xa0子曰：“巧言令色，鲜矣仁！”\\n\\n1.4 曾子曰：“吾日三省吾身：为人谋而不忠乎？与朋友交而不信乎？传不习乎？“\\n【曾子对修身的理解谈到了品德和学习。而孔子论学（1.1）的站位更高，指向生命的愉悦和不假外求的自我圆满（“人不知而不愠”）】\\n\\n1.6 子曰：“弟子入则孝，出则弟，谨而信，泛爱众，而亲仁。行有余力，则以学文。”\\n\\n1.7 子夏曰：“贤贤易色；事父母，能竭其力；事君，能致其身；与朋友交，言而有信。虽曰未学，吾必谓之学矣。”\\n\\n1.8 子曰：“君子不重则不威，学则不固。主忠信，无友不如己者，过则勿惮改。”\\n【不如己者：与自己志趣不同的人，而不应理解为不如自己的人。这五句话没有什么联系，可能是孔子在不同场合说的。】\\n\\n1.10 子禽问于子贡曰：“夫子至于是邦也，必闻其政，求之与，抑与之与？”子贡曰：“夫子温、良、恭、俭、让以得之。夫子之求之也，其诸异乎人之求之与？”\\n\\n1.12 有子曰：“礼之用，和为贵。先王之道，斯为美，小大由之。有所不行，知和而和，不以礼节之，亦不可行也。”\\n\\n1.14 子曰：“君子食无求饱，居无求安，敏于事而慎于言，就有道而正焉。可谓好学也已。”\\n\\n1.15 子贡曰：“贫而无谄，富而无骄，何如？”子曰：“可也。未若贫而乐，富而好礼者也。”子贡曰：“《诗》云：‘如切如磋，如琢如磨’，其斯之谓与？”子曰：“赐也，始可与言《诗》已矣，告诸往而知来者。”\\n【“贫而无谄，富而无骄”属于自我节制，其中还有贫富的差异；“贫而乐，富而好礼”则是建设性的精神发展，这种人对贫富不以为意。从前者到后者就需要提升境界，向加工器物越来越精细。】\\n\\n1.16 子曰：“不患人之不己知，患不知人也。”\\n\\n为政第二\\n\\n2.1 子曰：“为政以德，譬如北辰，居其所而众星共之。”\\n\\n2.2 子曰：“《诗》三百，一言以蔽之，曰：‘思无邪’。”\\n\\n2.3 子曰：“道之以政，齐之以刑，民免而无耻。道之以德，齐之以礼，有耻且格。”\\n\\n2.4 子曰：“吾十有五而志于学，三十而立，四十而不惑，五十而知天命，六十而耳顺，七十而从心所欲，不逾矩。”\\n【“从心所欲，不逾矩”：从必然王国进入自由王国】\\n\\n2.6 孟武伯问孝。子曰：“父母唯其疾之忧。”\\n\\n2.7 子游问孝，子曰：“今之孝者，是谓能养。至于犬马，皆能有养。不敬，何以别乎？”\\n\\n2.8 子夏问孝。子曰：“色难。有事，弟子服其劳；有酒食，先生馔——曾是以为孝乎？”\\n\\n2.9\\xa0子曰：“吾与回言终日，不违，如愚。退而省其私，亦足以发，回也不愚。”\\n\\n2.10 子曰：“视其所以，观其所由，察其所安。人焉廋哉？人焉廋哉？”\\n【所以：采取的手段；所由：遵循的路径；所安：感到心安】\\n\\n2.11 子曰：“温故而知新，可以为师矣。”\\n\\n2.12\\xa0子曰：“君子不器。”\\n\\n2.13 子贡问君子。子曰：“先行其言而后从之。”\\n\\n2.14 子曰：“君子周而不比，小人比而不周。”\\n【周：周遍、密合，指待人亲切有礼；比：勾结。小人出于私心谋求私利，因此不可能真正顾及和维护他人】\\n\\n2.15 子曰：“学而不思则罔，思而不学则殆。”\\n\\n2.17 子曰：“由，诲汝，知之乎！知之为知之，不知为不知，是知也。”\\n\\n2.18\\xa0子张学干禄。子曰：“多闻阙疑，慎言其馀，则寡尤。多见阙殆，慎行其馀，则寡悔。言寡尤，行寡悔，禄在其中矣。”\\n\\n2.19 哀公问曰：“何为则民服？”孔子对曰：“举直错诸枉（把正直的人提拔出来，放在曲邪的人之上），则民服；举枉错诸直，则民不服。”\\n\\n2.22 子曰：“人而无信，不知其可也。大车无輗，小车无軏，其何以行之哉？”\\n\\n2.24\\xa0子曰：“非其鬼而祭之（不是自己应该祭祀的鬼神），谄也。见义不为，无勇也。”\\n\\n\\n八佾第三\\n\\n3.1\\xa0孔子谓季氏：“八佾舞于庭，是可忍也，孰不可忍也？”\\n\\n3.3 子曰：“人而不仁，如礼何？人而不仁，如乐何？”\\n\\n3.4 林放问礼之本,子曰：“大哉问！礼，与其奢也，宁俭；丧，与其易也，宁戚。”\\n【礼的根本在于抑制虚浮的欲望和表达真实情感，而在形式上讲究礼仪是次要的】\\n\\n3.5 子曰：“夷狄之有君，不如诸夏之亡（无）也。”\\n\\n3.8 子夏问曰：“‘巧笑倩兮，美目盼兮，素以为绚兮’何谓也？”子曰：“绘事后素。”曰：“礼后乎？”子曰：“起予者商也，始可与言《诗》已矣。”\\n【绘事后素：先有本色的底子，然后才能在上面绘画】\\n\\n3.19 定公问：“君使臣，臣事君，如之何？”孔子对曰：“君使臣以礼，臣事君以忠。”\\n\\n3.20\\xa0子曰：“《关雎》，乐而不淫，哀而不伤。”\\n\\n3.21\\xa0哀公问社于宰我。宰我对曰：“夏后氏以松，殷人以柏，周人以栗，曰，使民战栗。”子闻之，曰：“成事不说，遂事不谏，既往不咎。”\\n\\n3.24 仪封人请见，曰：“君子之至于斯也，吾未尝不得见也。”从者见之。出曰：“二三子何患于丧乎？天下之无道也久矣，天将以夫子为木铎。”\\n【仪封人：仪地管理边界的官员；丧：失去，这里指失位，流亡在外；木】\\n\\n3.25 子谓《韶》：“尽美矣，又尽善也。”谓《武》：“尽美矣，未尽善也。”\\n\\n3.26 子曰：“居上不宽，为礼不敬，临丧不哀，吾何以观之哉？”\\n\\n', metadata={'id': 'doc:notiondb:13937b81bc844d1ba91444b0f0e5f60f', 'author': '孔子', 'date_end': None, 'date_start': '2019-05-16', 'name': '论语', 'source': '读书笔记（文学）', 'tags': '古文'}),\n",
       "  0.7535),\n",
       " (Document(page_content='第一次阅读：2019.05.19 杨伯峻《论语译注》\\n第二次阅读：2023.12.01 罗晓晖《论语译释》\\n\\n\\n学而第一\\n\\n1.1 子曰：“学而时习之，不亦说乎？有朋自远方来，不亦乐乎？人不知而不愠，不亦君子乎？\\n【”说“和“乐”的区别——《说文》：“说，释也。”因此”说“有”说开“、”开解“的意思，”说“通”悦“时，表示心情舒张。而”乐“是乐器，因此这种情绪是被音乐激发的、感动于物的。】\\n\\n1.2 有子曰：“其为人也孝弟，而好犯上者，鲜矣；不好犯上，而好作乱者，未之有也。君子务本，本立而道生。孝弟也者，其为仁之本与！\\n\\n1.3\\xa0子曰：“巧言令色，鲜矣仁！”\\n\\n1.4 曾子曰：“吾日三省吾身：为人谋而不忠乎？与朋友交而不信乎？传不习乎？“\\n【曾子对修身的理解谈到了品德和学习。而孔子论学（1.1）的站位更高，指向生命的愉悦和不假外求的自我圆满（“人不知而不愠”）】\\n\\n1.6 子曰：“弟子入则孝，出则弟，谨而信，泛爱众，而亲仁。行有余力，则以学文。”\\n\\n1.7 子夏曰：“贤贤易色；事父母，能竭其力；事君，能致其身；与朋友交，言而有信。虽曰未学，吾必谓之学矣。”\\n\\n1.8 子曰：“君子不重则不威，学则不固。主忠信，无友不如己者，过则勿惮改。”\\n【不如己者：与自己志趣不同的人，而不应理解为不如自己的人。这五句话没有什么联系，可能是孔子在不同场合说的。】\\n\\n1.10 子禽问于子贡曰：“夫子至于是邦也，必闻其政，求之与，抑与之与？”子贡曰：“夫子温、良、恭、俭、让以得之。夫子之求之也，其诸异乎人之求之与？”\\n\\n1.12 有子曰：“礼之用，和为贵。先王之道，斯为美，小大由之。有所不行，知和而和，不以礼节之，亦不可行也。”\\n\\n1.14 子曰：“君子食无求饱，居无求安，敏于事而慎于言，就有道而正焉。可谓好学也已。”\\n\\n1.15 子贡曰：“贫而无谄，富而无骄，何如？”子曰：“可也。未若贫而乐，富而好礼者也。”子贡曰：“《诗》云：‘如切如磋，如琢如磨’，其斯之谓与？”子曰：“赐也，始可与言《诗》已矣，告诸往而知来者。”\\n【“贫而无谄，富而无骄”属于自我节制，其中还有贫富的差异；“贫而乐，富而好礼”则是建设性的精神发展，这种人对贫富不以为意。从前者到后者就需要提升境界，向加工器物越来越精细。】\\n\\n1.16 子曰：“不患人之不己知，患不知人也。”\\n\\n为政第二\\n\\n2.1 子曰：“为政以德，譬如北辰，居其所而众星共之。”\\n\\n2.2 子曰：“《诗》三百，一言以蔽之，曰：‘思无邪’。”\\n\\n2.3 子曰：“道之以政，齐之以刑，民免而无耻。道之以德，齐之以礼，有耻且格。”\\n\\n2.4 子曰：“吾十有五而志于学，三十而立，四十而不惑，五十而知天命，六十而耳顺，七十而从心所欲，不逾矩。”\\n【“从心所欲，不逾矩”：从必然王国进入自由王国】\\n\\n2.6 孟武伯问孝。子曰：“父母唯其疾之忧。”\\n\\n2.7 子游问孝，子曰：“今之孝者，是谓能养。至于犬马，皆能有养。不敬，何以别乎？”\\n\\n2.8 子夏问孝。子曰：“色难。有事，弟子服其劳；有酒食，先生馔——曾是以为孝乎？”\\n\\n2.9\\xa0子曰：“吾与回言终日，不违，如愚。退而省其私，亦足以发，回也不愚。”\\n\\n2.10 子曰：“视其所以，观其所由，察其所安。人焉廋哉？人焉廋哉？”\\n【所以：采取的手段；所由：遵循的路径；所安：感到心安】\\n\\n2.11 子曰：“温故而知新，可以为师矣。”\\n\\n2.12\\xa0子曰：“君子不器。”\\n\\n2.13 子贡问君子。子曰：“先行其言而后从之。”\\n\\n2.14 子曰：“君子周而不比，小人比而不周。”\\n【周：周遍、密合，指待人亲切有礼；比：勾结。小人出于私心谋求私利，因此不可能真正顾及和维护他人】\\n\\n2.15 子曰：“学而不思则罔，思而不学则殆。”\\n\\n2.17 子曰：“由，诲汝，知之乎！知之为知之，不知为不知，是知也。”\\n\\n2.18\\xa0子张学干禄。子曰：“多闻阙疑，慎言其馀，则寡尤。多见阙殆，慎行其馀，则寡悔。言寡尤，行寡悔，禄在其中矣。”\\n\\n2.19 哀公问曰：“何为则民服？”孔子对曰：“举直错诸枉（把正直的人提拔出来，放在曲邪的人之上），则民服；举枉错诸直，则民不服。”\\n\\n2.22 子曰：“人而无信，不知其可也。大车无輗，小车无軏，其何以行之哉？”\\n\\n2.24\\xa0子曰：“非其鬼而祭之（不是自己应该祭祀的鬼神），谄也。见义不为，无勇也。”\\n\\n\\n八佾第三\\n\\n3.1\\xa0孔子谓季氏：“八佾舞于庭，是可忍也，孰不可忍也？”\\n\\n3.3 子曰：“人而不仁，如礼何？人而不仁，如乐何？”\\n\\n3.4 林放问礼之本,子曰：“大哉问！礼，与其奢也，宁俭；丧，与其易也，宁戚。”\\n【礼的根本在于抑制虚浮的欲望和表达真实情感，而在形式上讲究礼仪是次要的】\\n\\n3.5 子曰：“夷狄之有君，不如诸夏之亡（无）也。”\\n\\n3.8 子夏问曰：“‘巧笑倩兮，美目盼兮，素以为绚兮’何谓也？”子曰：“绘事后素。”曰：“礼后乎？”子曰：“起予者商也，始可与言《诗》已矣。”\\n【绘事后素：先有本色的底子，然后才能在上面绘画】\\n\\n3.19 定公问：“君使臣，臣事君，如之何？”孔子对曰：“君使臣以礼，臣事君以忠。”\\n\\n3.20\\xa0子曰：“《关雎》，乐而不淫，哀而不伤。”\\n\\n3.21\\xa0哀公问社于宰我。宰我对曰：“夏后氏以松，殷人以柏，周人以栗，曰，使民战栗。”子闻之，曰：“成事不说，遂事不谏，既往不咎。”\\n\\n3.24 仪封人请见，曰：“君子之至于斯也，吾未尝不得见也。”从者见之。出曰：“二三子何患于丧乎？天下之无道也久矣，天将以夫子为木铎。”\\n【仪封人：仪地管理边界的官员；丧：失去，这里指失位，流亡在外；木】\\n\\n3.25 子谓《韶》：“尽美矣，又尽善也。”谓《武》：“尽美矣，未尽善也。”\\n\\n3.26 子曰：“居上不宽，为礼不敬，临丧不哀，吾何以观之哉？”\\n\\n', metadata={'id': 'doc:notiondb:ded9c7e2d47240a68047124560e3755e', 'author': '孔子', 'date_end': None, 'date_start': '2019-05-16', 'name': '论语', 'source': '读书笔记（文学）', 'tags': '古文'}),\n",
       "  0.7535),\n",
       " (Document(page_content='孟一催我帮他写一首七律，据说他语文课的作业是对诗。\\n本来对古语就生疏，又很久不读古书，自然费力不少——当然我自有自知之明，不矜夸这诗的用典。本来也就只看了浮生六记，借鉴不少词句，大方之家会以为是抄做的。\\n\\n无题\\n夜半闻笛声婉转，\\n自矜花月影缠绵。\\n才如遣电黄粱梦，\\n情似剩烟露水缘。\\n行列今古不甚解，\\n纵横笔墨谐亦痴。\\n知己晨星盟散雪，\\n寒月清酒不狭诗。', metadata={'id': 'doc:notiondb:b4ad286409ce4fcc8a5e08793e5ae0dc', 'author': None, 'date_end': '2013-12-10', 'date_start': '2013-12-10', 'name': '2013-DEC-10 七律小诗', 'source': '写作', 'tags': '日常记趣, 诗'}),\n",
       "  0.7797),\n",
       " (Document(page_content='孟一催我帮他写一首七律，据说他语文课的作业是对诗。\\n本来对古语就生疏，又很久不读古书，自然费力不少——当然我自有自知之明，不矜夸这诗的用典。本来也就只看了浮生六记，借鉴不少词句，大方之家会以为是抄做的。\\n\\n无题\\n夜半闻笛声婉转，\\n自矜花月影缠绵。\\n才如遣电黄粱梦，\\n情似剩烟露水缘。\\n行列今古不甚解，\\n纵横笔墨谐亦痴。\\n知己晨星盟散雪，\\n寒月清酒不狭诗。', metadata={'id': 'doc:notiondb:374c264001244afba439d40daaa672f4', 'author': None, 'date_end': '2013-12-10', 'date_start': '2013-12-10', 'name': '2013-DEC-10 七律小诗', 'source': '写作', 'tags': '日常记趣, 诗'}),\n",
       "  0.7797)]"
      ]
     },
     "execution_count": 37,
     "metadata": {},
     "output_type": "execute_result"
    }
   ],
   "source": [
    "# the 'filter' keyword assumes exact match\n",
    "f = {'author': '*冯友兰*',}\n",
    "\n",
    "vectorstore.similarity_search_with_score(\n",
    "    '谁说过陌生贵己？', \n",
    "    # filter=f\n",
    ")"
   ]
  },
  {
   "cell_type": "code",
   "execution_count": 28,
   "id": "69b86b7b-f05d-413c-8893-b4e1f5af3814",
   "metadata": {
    "scrolled": true
   },
   "outputs": [
    {
     "ename": "ValueError",
     "evalue": "Query failed with syntax error. This is likely due to malformation of filter, vector, or query argument",
     "output_type": "error",
     "traceback": [
      "\u001b[0;31m---------------------------------------------------------------------------\u001b[0m",
      "\u001b[0;31mResponseError\u001b[0m                             Traceback (most recent call last)",
      "File \u001b[0;32m~/micromamba/envs/my-notion-companion/lib/python3.12/site-packages/langchain_community/vectorstores/redis/base.py:831\u001b[0m, in \u001b[0;36mRedis.similarity_search_with_score\u001b[0;34m(self, query, k, filter, return_metadata, **kwargs)\u001b[0m\n\u001b[1;32m    830\u001b[0m \u001b[38;5;28;01mtry\u001b[39;00m:\n\u001b[0;32m--> 831\u001b[0m     results \u001b[38;5;241m=\u001b[39m \u001b[38;5;28;43mself\u001b[39;49m\u001b[38;5;241;43m.\u001b[39;49m\u001b[43mclient\u001b[49m\u001b[38;5;241;43m.\u001b[39;49m\u001b[43mft\u001b[49m\u001b[43m(\u001b[49m\u001b[38;5;28;43mself\u001b[39;49m\u001b[38;5;241;43m.\u001b[39;49m\u001b[43mindex_name\u001b[49m\u001b[43m)\u001b[49m\u001b[38;5;241;43m.\u001b[39;49m\u001b[43msearch\u001b[49m\u001b[43m(\u001b[49m\u001b[43mredis_query\u001b[49m\u001b[43m,\u001b[49m\u001b[43m \u001b[49m\u001b[43mparams_dict\u001b[49m\u001b[43m)\u001b[49m  \u001b[38;5;66;03m# type: ignore  # noqa: E501\u001b[39;00m\n\u001b[1;32m    832\u001b[0m \u001b[38;5;28;01mexcept\u001b[39;00m redis\u001b[38;5;241m.\u001b[39mexceptions\u001b[38;5;241m.\u001b[39mResponseError \u001b[38;5;28;01mas\u001b[39;00m e:\n\u001b[1;32m    833\u001b[0m     \u001b[38;5;66;03m# split error message and see if it starts with \"Syntax\"\u001b[39;00m\n",
      "File \u001b[0;32m~/micromamba/envs/my-notion-companion/lib/python3.12/site-packages/redis/commands/search/commands.py:501\u001b[0m, in \u001b[0;36mSearchCommands.search\u001b[0;34m(self, query, query_params)\u001b[0m\n\u001b[1;32m    500\u001b[0m st \u001b[38;5;241m=\u001b[39m time\u001b[38;5;241m.\u001b[39mtime()\n\u001b[0;32m--> 501\u001b[0m res \u001b[38;5;241m=\u001b[39m \u001b[38;5;28;43mself\u001b[39;49m\u001b[38;5;241;43m.\u001b[39;49m\u001b[43mexecute_command\u001b[49m\u001b[43m(\u001b[49m\u001b[43mSEARCH_CMD\u001b[49m\u001b[43m,\u001b[49m\u001b[43m \u001b[49m\u001b[38;5;241;43m*\u001b[39;49m\u001b[43margs\u001b[49m\u001b[43m)\u001b[49m\n\u001b[1;32m    503\u001b[0m \u001b[38;5;28;01mif\u001b[39;00m \u001b[38;5;28misinstance\u001b[39m(res, Pipeline):\n",
      "File \u001b[0;32m~/micromamba/envs/my-notion-companion/lib/python3.12/site-packages/redis/client.py:536\u001b[0m, in \u001b[0;36mRedis.execute_command\u001b[0;34m(self, *args, **options)\u001b[0m\n\u001b[1;32m    535\u001b[0m \u001b[38;5;28;01mtry\u001b[39;00m:\n\u001b[0;32m--> 536\u001b[0m     \u001b[38;5;28;01mreturn\u001b[39;00m \u001b[43mconn\u001b[49m\u001b[38;5;241;43m.\u001b[39;49m\u001b[43mretry\u001b[49m\u001b[38;5;241;43m.\u001b[39;49m\u001b[43mcall_with_retry\u001b[49m\u001b[43m(\u001b[49m\n\u001b[1;32m    537\u001b[0m \u001b[43m        \u001b[49m\u001b[38;5;28;43;01mlambda\u001b[39;49;00m\u001b[43m:\u001b[49m\u001b[43m \u001b[49m\u001b[38;5;28;43mself\u001b[39;49m\u001b[38;5;241;43m.\u001b[39;49m\u001b[43m_send_command_parse_response\u001b[49m\u001b[43m(\u001b[49m\n\u001b[1;32m    538\u001b[0m \u001b[43m            \u001b[49m\u001b[43mconn\u001b[49m\u001b[43m,\u001b[49m\u001b[43m \u001b[49m\u001b[43mcommand_name\u001b[49m\u001b[43m,\u001b[49m\u001b[43m \u001b[49m\u001b[38;5;241;43m*\u001b[39;49m\u001b[43margs\u001b[49m\u001b[43m,\u001b[49m\u001b[43m \u001b[49m\u001b[38;5;241;43m*\u001b[39;49m\u001b[38;5;241;43m*\u001b[39;49m\u001b[43moptions\u001b[49m\n\u001b[1;32m    539\u001b[0m \u001b[43m        \u001b[49m\u001b[43m)\u001b[49m\u001b[43m,\u001b[49m\n\u001b[1;32m    540\u001b[0m \u001b[43m        \u001b[49m\u001b[38;5;28;43;01mlambda\u001b[39;49;00m\u001b[43m \u001b[49m\u001b[43merror\u001b[49m\u001b[43m:\u001b[49m\u001b[43m \u001b[49m\u001b[38;5;28;43mself\u001b[39;49m\u001b[38;5;241;43m.\u001b[39;49m\u001b[43m_disconnect_raise\u001b[49m\u001b[43m(\u001b[49m\u001b[43mconn\u001b[49m\u001b[43m,\u001b[49m\u001b[43m \u001b[49m\u001b[43merror\u001b[49m\u001b[43m)\u001b[49m\u001b[43m,\u001b[49m\n\u001b[1;32m    541\u001b[0m \u001b[43m    \u001b[49m\u001b[43m)\u001b[49m\n\u001b[1;32m    542\u001b[0m \u001b[38;5;28;01mfinally\u001b[39;00m:\n",
      "File \u001b[0;32m~/micromamba/envs/my-notion-companion/lib/python3.12/site-packages/redis/retry.py:46\u001b[0m, in \u001b[0;36mRetry.call_with_retry\u001b[0;34m(self, do, fail)\u001b[0m\n\u001b[1;32m     45\u001b[0m \u001b[38;5;28;01mtry\u001b[39;00m:\n\u001b[0;32m---> 46\u001b[0m     \u001b[38;5;28;01mreturn\u001b[39;00m \u001b[43mdo\u001b[49m\u001b[43m(\u001b[49m\u001b[43m)\u001b[49m\n\u001b[1;32m     47\u001b[0m \u001b[38;5;28;01mexcept\u001b[39;00m \u001b[38;5;28mself\u001b[39m\u001b[38;5;241m.\u001b[39m_supported_errors \u001b[38;5;28;01mas\u001b[39;00m error:\n",
      "File \u001b[0;32m~/micromamba/envs/my-notion-companion/lib/python3.12/site-packages/redis/client.py:537\u001b[0m, in \u001b[0;36mRedis.execute_command.<locals>.<lambda>\u001b[0;34m()\u001b[0m\n\u001b[1;32m    535\u001b[0m \u001b[38;5;28;01mtry\u001b[39;00m:\n\u001b[1;32m    536\u001b[0m     \u001b[38;5;28;01mreturn\u001b[39;00m conn\u001b[38;5;241m.\u001b[39mretry\u001b[38;5;241m.\u001b[39mcall_with_retry(\n\u001b[0;32m--> 537\u001b[0m         \u001b[38;5;28;01mlambda\u001b[39;00m: \u001b[38;5;28;43mself\u001b[39;49m\u001b[38;5;241;43m.\u001b[39;49m\u001b[43m_send_command_parse_response\u001b[49m\u001b[43m(\u001b[49m\n\u001b[1;32m    538\u001b[0m \u001b[43m            \u001b[49m\u001b[43mconn\u001b[49m\u001b[43m,\u001b[49m\u001b[43m \u001b[49m\u001b[43mcommand_name\u001b[49m\u001b[43m,\u001b[49m\u001b[43m \u001b[49m\u001b[38;5;241;43m*\u001b[39;49m\u001b[43margs\u001b[49m\u001b[43m,\u001b[49m\u001b[43m \u001b[49m\u001b[38;5;241;43m*\u001b[39;49m\u001b[38;5;241;43m*\u001b[39;49m\u001b[43moptions\u001b[49m\n\u001b[1;32m    539\u001b[0m \u001b[43m        \u001b[49m\u001b[43m)\u001b[49m,\n\u001b[1;32m    540\u001b[0m         \u001b[38;5;28;01mlambda\u001b[39;00m error: \u001b[38;5;28mself\u001b[39m\u001b[38;5;241m.\u001b[39m_disconnect_raise(conn, error),\n\u001b[1;32m    541\u001b[0m     )\n\u001b[1;32m    542\u001b[0m \u001b[38;5;28;01mfinally\u001b[39;00m:\n",
      "File \u001b[0;32m~/micromamba/envs/my-notion-companion/lib/python3.12/site-packages/redis/client.py:513\u001b[0m, in \u001b[0;36mRedis._send_command_parse_response\u001b[0;34m(self, conn, command_name, *args, **options)\u001b[0m\n\u001b[1;32m    512\u001b[0m conn\u001b[38;5;241m.\u001b[39msend_command(\u001b[38;5;241m*\u001b[39margs)\n\u001b[0;32m--> 513\u001b[0m \u001b[38;5;28;01mreturn\u001b[39;00m \u001b[38;5;28;43mself\u001b[39;49m\u001b[38;5;241;43m.\u001b[39;49m\u001b[43mparse_response\u001b[49m\u001b[43m(\u001b[49m\u001b[43mconn\u001b[49m\u001b[43m,\u001b[49m\u001b[43m \u001b[49m\u001b[43mcommand_name\u001b[49m\u001b[43m,\u001b[49m\u001b[43m \u001b[49m\u001b[38;5;241;43m*\u001b[39;49m\u001b[38;5;241;43m*\u001b[39;49m\u001b[43moptions\u001b[49m\u001b[43m)\u001b[49m\n",
      "File \u001b[0;32m~/micromamba/envs/my-notion-companion/lib/python3.12/site-packages/redis/client.py:553\u001b[0m, in \u001b[0;36mRedis.parse_response\u001b[0;34m(self, connection, command_name, **options)\u001b[0m\n\u001b[1;32m    552\u001b[0m     \u001b[38;5;28;01melse\u001b[39;00m:\n\u001b[0;32m--> 553\u001b[0m         response \u001b[38;5;241m=\u001b[39m \u001b[43mconnection\u001b[49m\u001b[38;5;241;43m.\u001b[39;49m\u001b[43mread_response\u001b[49m\u001b[43m(\u001b[49m\u001b[43m)\u001b[49m\n\u001b[1;32m    554\u001b[0m \u001b[38;5;28;01mexcept\u001b[39;00m ResponseError:\n",
      "File \u001b[0;32m~/micromamba/envs/my-notion-companion/lib/python3.12/site-packages/redis/connection.py:524\u001b[0m, in \u001b[0;36mAbstractConnection.read_response\u001b[0;34m(self, disable_decoding, disconnect_on_error, push_request)\u001b[0m\n\u001b[1;32m    523\u001b[0m \u001b[38;5;28;01mtry\u001b[39;00m:\n\u001b[0;32m--> 524\u001b[0m     \u001b[38;5;28;01mraise\u001b[39;00m response\n\u001b[1;32m    525\u001b[0m \u001b[38;5;28;01mfinally\u001b[39;00m:\n",
      "\u001b[0;31mResponseError\u001b[0m: Syntax error at offset 1 near ",
      "\nThe above exception was the direct cause of the following exception:\n",
      "\u001b[0;31mValueError\u001b[0m                                Traceback (most recent call last)",
      "Cell \u001b[0;32mIn[28], line 3\u001b[0m\n\u001b[1;32m      1\u001b[0m \u001b[38;5;66;03m# faiss applies filter after semantic search\u001b[39;00m\n\u001b[1;32m      2\u001b[0m \u001b[38;5;66;03m# it also has an additional fetch_k arg for senmantic search\u001b[39;00m\n\u001b[0;32m----> 3\u001b[0m \u001b[43mvectorstore\u001b[49m\u001b[38;5;241;43m.\u001b[39;49m\u001b[43msimilarity_search_with_score\u001b[49m\u001b[43m(\u001b[49m\n\u001b[1;32m      4\u001b[0m \u001b[43m    \u001b[49m\u001b[38;5;124;43m'\u001b[39;49m\u001b[38;5;124;43m谁说过陌生贵己？\u001b[39;49m\u001b[38;5;124;43m'\u001b[39;49m\u001b[43m,\u001b[49m\u001b[43m \u001b[49m\n\u001b[1;32m      5\u001b[0m \u001b[43m    \u001b[49m\u001b[38;5;28;43mfilter\u001b[39;49m\u001b[38;5;241;43m=\u001b[39;49m\u001b[43m{\u001b[49m\n\u001b[1;32m      6\u001b[0m \u001b[43m        \u001b[49m\u001b[38;5;124;43m'\u001b[39;49m\u001b[38;5;124;43mauthor\u001b[39;49m\u001b[38;5;124;43m'\u001b[39;49m\u001b[43m:\u001b[49m\u001b[43m \u001b[49m\u001b[38;5;124;43m'\u001b[39;49m\u001b[38;5;124;43m【中】冯友兰\u001b[39;49m\u001b[38;5;124;43m'\u001b[39;49m\u001b[43m,\u001b[49m\n\u001b[1;32m      7\u001b[0m \u001b[43m    \u001b[49m\u001b[43m}\u001b[49m\u001b[43m,\u001b[49m\n\u001b[1;32m      8\u001b[0m \u001b[43m    \u001b[49m\u001b[43mk\u001b[49m\u001b[38;5;241;43m=\u001b[39;49m\u001b[38;5;241;43m2\u001b[39;49m\u001b[43m,\u001b[49m\n\u001b[1;32m      9\u001b[0m \u001b[43m)\u001b[49m\n",
      "File \u001b[0;32m~/micromamba/envs/my-notion-companion/lib/python3.12/site-packages/langchain_community/vectorstores/redis/base.py:835\u001b[0m, in \u001b[0;36mRedis.similarity_search_with_score\u001b[0;34m(self, query, k, filter, return_metadata, **kwargs)\u001b[0m\n\u001b[1;32m    832\u001b[0m \u001b[38;5;28;01mexcept\u001b[39;00m redis\u001b[38;5;241m.\u001b[39mexceptions\u001b[38;5;241m.\u001b[39mResponseError \u001b[38;5;28;01mas\u001b[39;00m e:\n\u001b[1;32m    833\u001b[0m     \u001b[38;5;66;03m# split error message and see if it starts with \"Syntax\"\u001b[39;00m\n\u001b[1;32m    834\u001b[0m     \u001b[38;5;28;01mif\u001b[39;00m \u001b[38;5;28mstr\u001b[39m(e)\u001b[38;5;241m.\u001b[39msplit(\u001b[38;5;124m\"\u001b[39m\u001b[38;5;124m \u001b[39m\u001b[38;5;124m\"\u001b[39m)[\u001b[38;5;241m0\u001b[39m] \u001b[38;5;241m==\u001b[39m \u001b[38;5;124m\"\u001b[39m\u001b[38;5;124mSyntax\u001b[39m\u001b[38;5;124m\"\u001b[39m:\n\u001b[0;32m--> 835\u001b[0m         \u001b[38;5;28;01mraise\u001b[39;00m \u001b[38;5;167;01mValueError\u001b[39;00m(\n\u001b[1;32m    836\u001b[0m             \u001b[38;5;124m\"\u001b[39m\u001b[38;5;124mQuery failed with syntax error. \u001b[39m\u001b[38;5;124m\"\u001b[39m\n\u001b[1;32m    837\u001b[0m             \u001b[38;5;241m+\u001b[39m \u001b[38;5;124m\"\u001b[39m\u001b[38;5;124mThis is likely due to malformation of \u001b[39m\u001b[38;5;124m\"\u001b[39m\n\u001b[1;32m    838\u001b[0m             \u001b[38;5;241m+\u001b[39m \u001b[38;5;124m\"\u001b[39m\u001b[38;5;124mfilter, vector, or query argument\u001b[39m\u001b[38;5;124m\"\u001b[39m\n\u001b[1;32m    839\u001b[0m         ) \u001b[38;5;28;01mfrom\u001b[39;00m \u001b[38;5;21;01me\u001b[39;00m\n\u001b[1;32m    840\u001b[0m     \u001b[38;5;28;01mraise\u001b[39;00m e\n\u001b[1;32m    842\u001b[0m \u001b[38;5;66;03m# Prepare document results\u001b[39;00m\n",
      "\u001b[0;31mValueError\u001b[0m: Query failed with syntax error. This is likely due to malformation of filter, vector, or query argument"
     ]
    }
   ],
   "source": [
    "# faiss applies filter after semantic search\n",
    "# it also has an additional fetch_k arg for senmantic search\n",
    "vectorstore.similarity_search_with_score(\n",
    "    '谁说过陌生贵己？', \n",
    "    filter={\n",
    "        'author': '【中】冯友兰',\n",
    "    },\n",
    "    k=2,\n",
    ")"
   ]
  },
  {
   "cell_type": "code",
   "execution_count": null,
   "id": "a901e40f-cf76-4431-a402-778528416ab6",
   "metadata": {},
   "outputs": [],
   "source": []
  },
  {
   "cell_type": "code",
   "execution_count": null,
   "id": "5c733eff-df9e-4447-a692-140ff8c81c08",
   "metadata": {},
   "outputs": [],
   "source": [
    "# TODO: use SelfQueryRetriever to allow in metadata context\n",
    "# https://python.langchain.com/docs/modules/data_connection/retrievers/self_query/\n",
    "retriever = vectorstore.as_retriever()"
   ]
  }
 ],
 "metadata": {
  "kernelspec": {
   "display_name": "Python 3 (ipykernel)",
   "language": "python",
   "name": "python3"
  },
  "language_info": {
   "codemirror_mode": {
    "name": "ipython",
    "version": 3
   },
   "file_extension": ".py",
   "mimetype": "text/x-python",
   "name": "python",
   "nbconvert_exporter": "python",
   "pygments_lexer": "ipython3",
   "version": "3.12.2"
  }
 },
 "nbformat": 4,
 "nbformat_minor": 5
}
