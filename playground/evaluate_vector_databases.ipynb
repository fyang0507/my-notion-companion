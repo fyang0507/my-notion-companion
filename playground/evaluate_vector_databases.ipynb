{
 "cells": [
  {
   "cell_type": "markdown",
   "id": "67d7d426-16b1-49bc-aeea-27b5536030e3",
   "metadata": {},
   "source": [
    "# Evaluate vector databases"
   ]
  },
  {
   "cell_type": "code",
   "execution_count": 1,
   "id": "6f13607d-272f-4daa-95a9-b4f167b5db3d",
   "metadata": {},
   "outputs": [],
   "source": [
    "from typing import Dict, List\n",
    "from langchain_core.documents.base import Document"
   ]
  },
  {
   "cell_type": "markdown",
   "id": "1e3d8b58-0591-48e7-9f2b-54e57f921652",
   "metadata": {},
   "source": [
    "## Load evaluation dataset and docs"
   ]
  },
  {
   "cell_type": "code",
   "execution_count": 2,
   "id": "ccaca400-cd6b-410b-ab24-be1633f6937a",
   "metadata": {},
   "outputs": [],
   "source": [
    "from langchain_community.document_loaders import NotionDBLoader\n",
    "import tomllib"
   ]
  },
  {
   "cell_type": "code",
   "execution_count": 3,
   "id": "c0079b60-a225-4a6b-adc6-fae9d8b54dbe",
   "metadata": {},
   "outputs": [],
   "source": [
    "with open('../.tokens.toml', 'rb') as f:\n",
    "    _TOKENS = tomllib.load(f)\n",
    "\n",
    "with open('../.notion_databases.toml', 'rb') as f:\n",
    "    _DATABASES_NOTION = tomllib.load(f)\n",
    "\n",
    "with open('../.config.toml', 'rb') as f:\n",
    "    _CONFIGS = tomllib.load(f)\n"
   ]
  },
  {
   "cell_type": "code",
   "execution_count": 4,
   "id": "c41545a3-717a-4836-8af6-f85d34cd5d88",
   "metadata": {},
   "outputs": [],
   "source": [
    "# def load_notion_dbs(dbs, id):\n",
    "#     loader = NotionDBLoader(\n",
    "#         integration_token=_TOKENS['notion'],\n",
    "#         database_id=dbs[id],\n",
    "#         request_timeout_sec=300,  # optional, defaults to 10\n",
    "#     )\n",
    "#     data = loader.load()\n",
    "#     return data"
   ]
  },
  {
   "cell_type": "code",
   "execution_count": 5,
   "id": "69d8cd91-4231-4294-addc-5181f81dc36b",
   "metadata": {},
   "outputs": [],
   "source": [
    "# %%time\n",
    "# from concurrent.futures import ThreadPoolExecutor\n",
    "\n",
    "# te = ThreadPoolExecutor()\n",
    "# results = list(te.map(lambda x: load_notion_dbs(_DATABASES_NOTION, x), _DATABASES_NOTION.keys()))\n",
    "\n",
    "# docs_from_notion: Dict[str, List[Document]] = dict(zip(_DATABASES_NOTION.keys(), results))\n",
    "\n",
    "# # optional pickle step so we don't need to query notionDB again\n",
    "# import pickle\n",
    "\n",
    "# with open('../data/notion_offline.pkl', 'wb') as f:\n",
    "#     pickle.dump(docs_from_notion, f)"
   ]
  },
  {
   "cell_type": "code",
   "execution_count": 6,
   "id": "049f9e94-78dd-4ba4-9e3c-aa37688b6ab4",
   "metadata": {},
   "outputs": [],
   "source": [
    "import pickle\n",
    "with open('../data/notion_offline.pkl', 'rb') as f:\n",
    "    docs_from_notion = pickle.load(f)"
   ]
  },
  {
   "cell_type": "code",
   "execution_count": 7,
   "id": "c9603f28-8f80-46b2-8622-ff6c1e64936b",
   "metadata": {},
   "outputs": [
    {
     "data": {
      "text/plain": [
       "{'date': {'start': '2013-10-26', 'end': '2013-10-26', 'time_zone': None},\n",
       " 'name': '2013-OCT-26 师说',\n",
       " 'tags': ['日常记趣'],\n",
       " 'id': '273ea76f-a35c-474e-bfe0-41a3daae5c96'}"
      ]
     },
     "execution_count": 7,
     "metadata": {},
     "output_type": "execute_result"
    }
   ],
   "source": [
    "docs_from_notion['写作'][0].metadata"
   ]
  },
  {
   "cell_type": "code",
   "execution_count": 8,
   "id": "744edc8d-f8d0-4ca3-9a7e-33ab7792544c",
   "metadata": {},
   "outputs": [],
   "source": [
    "def process_property(docs_from_notion: Dict[str, List[Document]]) -> List[Document]:\n",
    "    docs_list = list()\n",
    "    \n",
    "    for db_name, docs in docs_from_notion.items():\n",
    "        for doc in docs:\n",
    "            # because our data are gathered from multiple databases\n",
    "            # we are going to throw the database names as one property\n",
    "            # into the docs' metadata field\n",
    "            # and return as a list\n",
    "            doc.metadata['source'] = db_name\n",
    "\n",
    "            # change dates into YYYYMMDD int format to allow GT/LT/EQ comparison\n",
    "            if 'date' in doc.metadata:\n",
    "                if 'start' in doc.metadata['date']:\n",
    "                    doc.metadata['date_start'] = int(doc.metadata['date']['start'].replace(\"-\", \"\"))\n",
    "                if 'end' in doc.metadata['date'] and doc.metadata['date']['end']:\n",
    "                    doc.metadata['date_end'] = int(doc.metadata['date']['end'].replace(\"-\", \"\"))\n",
    "                    \n",
    "                del doc.metadata['date']\n",
    "\n",
    "            if 'tags' in doc.metadata:\n",
    "                doc.metadata['tags'] = \", \".join(doc.metadata['tags'])\n",
    "                \n",
    "\n",
    "        docs_list.extend(docs)\n",
    "        \n",
    "    return docs_list"
   ]
  },
  {
   "cell_type": "code",
   "execution_count": 9,
   "id": "7d288c6f-2601-4c60-a546-3f2ef002ac92",
   "metadata": {},
   "outputs": [
    {
     "data": {
      "text/plain": [
       "{'name': '2013-OCT-26 师说',\n",
       " 'tags': '日常记趣',\n",
       " 'id': '273ea76f-a35c-474e-bfe0-41a3daae5c96',\n",
       " 'source': '写作',\n",
       " 'date_start': 20131026,\n",
       " 'date_end': 20131026}"
      ]
     },
     "execution_count": 9,
     "metadata": {},
     "output_type": "execute_result"
    }
   ],
   "source": [
    "docs_from_notion = process_property(docs_from_notion)\n",
    "docs_from_notion[0].metadata"
   ]
  },
  {
   "cell_type": "code",
   "execution_count": 10,
   "id": "af50dd31-37d0-474e-b263-b931716b97c2",
   "metadata": {
    "scrolled": true
   },
   "outputs": [],
   "source": [
    "# Let an automated process takes care the rest\n",
    "from langchain_community.vectorstores.utils import filter_complex_metadata\n",
    "docs_from_notion = filter_complex_metadata(docs_from_notion)"
   ]
  },
  {
   "cell_type": "code",
   "execution_count": 11,
   "id": "956e12db-10e3-46a9-9383-794f3b378c5f",
   "metadata": {},
   "outputs": [],
   "source": [
    "from langchain_community.vectorstores import Redis"
   ]
  },
  {
   "cell_type": "markdown",
   "id": "74e60530-20b3-4536-830b-4dca9d02f39f",
   "metadata": {},
   "source": [
    "## Testing ideas\n",
    "\n",
    "* use langchain.text_splitterRecursiveCharacterTextSplitter\n",
    "* storage: test 2 vector databses: Redis, Superbase"
   ]
  },
  {
   "cell_type": "code",
   "execution_count": 12,
   "id": "58bb7459-2a6b-4e7e-b7d8-7c09b407a2d3",
   "metadata": {},
   "outputs": [],
   "source": [
    "# Presumably docs in NotionDB fits more with MarkdownHeaderTextSplitter\n",
    "# however, most of the documents in my personal databases don't have such header-text structure\n",
    "# and they are not important for my use cases (I won't ask it to reason on a specific section \n",
    "# in a doc). Thus I'll use the regular RecursiveCharacterTextSplitter\n",
    "from langchain.text_splitter import RecursiveCharacterTextSplitter"
   ]
  },
  {
   "cell_type": "code",
   "execution_count": 13,
   "id": "372985ea-0e5b-4413-ab02-3ebfd0abe229",
   "metadata": {},
   "outputs": [
    {
     "data": {
      "text/plain": [
       "(225, 1136)"
      ]
     },
     "execution_count": 13,
     "metadata": {},
     "output_type": "execute_result"
    }
   ],
   "source": [
    "chunk_params = {\n",
    "    # 1 Chinese characters = 2 english character\n",
    "    # most paragraphs/sections are within 500 Chinese words/chars\n",
    "    'chunk_size': 1000, \n",
    "    'chunk_overlap': 250,\n",
    "}\n",
    "\n",
    "rc_splitter = RecursiveCharacterTextSplitter(**chunk_params)\n",
    "\n",
    "splits = rc_splitter.split_documents(docs_from_notion)\n",
    "len(docs_from_notion), len(splits)"
   ]
  },
  {
   "cell_type": "code",
   "execution_count": 14,
   "id": "a3386af4-e73d-4492-abcd-91824ff08888",
   "metadata": {},
   "outputs": [],
   "source": [
    "from langchain_community.embeddings import HuggingFaceInferenceAPIEmbeddings\n",
    "\n",
    "embeddings = HuggingFaceInferenceAPIEmbeddings(\n",
    "    api_key=_TOKENS['huggingface'], \n",
    "    model_name=\"sentence-transformers/distiluse-base-multilingual-cased-v1\"\n",
    ")"
   ]
  },
  {
   "cell_type": "code",
   "execution_count": 15,
   "id": "e769fd4b-08bd-496a-82ce-365b2a743864",
   "metadata": {},
   "outputs": [
    {
     "data": {
      "text/plain": [
       "{'author', 'date_end', 'date_start', 'id', 'name', 'source', 'tags'}"
      ]
     },
     "execution_count": 15,
     "metadata": {},
     "output_type": "execute_result"
    }
   ],
   "source": [
    "metadata_set = set()\n",
    "\n",
    "for x in [x.metadata for x in docs_from_notion]:\n",
    "    metadata_set = metadata_set.union(list(x.keys()))\n",
    "\n",
    "metadata_set"
   ]
  },
  {
   "cell_type": "code",
   "execution_count": 16,
   "id": "82774d12-4e87-427c-93ed-1d672a0251b3",
   "metadata": {},
   "outputs": [],
   "source": [
    "# make sure we defined the schema for all metadata in _CONFIG file\n",
    "assert metadata_set == \\\n",
    "    set([x['name'] for x in _CONFIGS['redis_schema']['text']] + [x['name'] for x in _CONFIGS['redis_schema']['numeric']])"
   ]
  },
  {
   "cell_type": "code",
   "execution_count": 17,
   "id": "4e2ebd6f-5b8c-43d2-8e87-ccce5fb898cb",
   "metadata": {},
   "outputs": [
    {
     "data": {
      "text/plain": [
       "{'name': '2013-OCT-26 师说',\n",
       " 'tags': '日常记趣',\n",
       " 'id': '273ea76f-a35c-474e-bfe0-41a3daae5c96',\n",
       " 'source': '写作',\n",
       " 'date_start': 20131026,\n",
       " 'date_end': 20131026}"
      ]
     },
     "execution_count": 17,
     "metadata": {},
     "output_type": "execute_result"
    }
   ],
   "source": [
    "docs_from_notion[0].metadata"
   ]
  },
  {
   "cell_type": "code",
   "execution_count": 17,
   "id": "a65ddb55-c5d3-470e-8bbd-08ea0f7bd039",
   "metadata": {
    "scrolled": true
   },
   "outputs": [
    {
     "name": "stdout",
     "output_type": "stream",
     "text": [
      "Starting redis-stack-server, database path /opt/homebrew/var/db/redis-stack\n",
      "2581:C 18 Feb 2024 16:57:47.406 * oO0OoO0OoO0Oo Redis is starting oO0OoO0OoO0Oo\n",
      "2581:C 18 Feb 2024 16:57:47.406 * Redis version=7.2.4, bits=64, commit=d2c8a4b9, modified=0, pid=2581, just started\n",
      "2581:C 18 Feb 2024 16:57:47.406 * Configuration loaded\n",
      "2581:M 18 Feb 2024 16:57:47.406 * Increased maximum number of open files to 10032 (it was originally set to 4864).\n",
      "2581:M 18 Feb 2024 16:57:47.406 * monotonic clock: POSIX clock_gettime\n",
      "                _._                                                  \n",
      "           _.-``__ ''-._                                             \n",
      "      _.-``    `.  `_.  ''-._           Redis 7.2.4 (d2c8a4b9/0) 64 bit\n",
      "  .-`` .-```.  ```\\/    _.,_ ''-._                                  \n",
      " (    '      ,       .-`  | `,    )     Running in standalone mode\n",
      " |`-._`-...-` __...-.``-._|'` _.-'|     Port: 6379\n",
      " |    `-._   `._    /     _.-'    |     PID: 2581\n",
      "  `-._    `-._  `-./  _.-'    _.-'                                   \n",
      " |`-._`-._    `-.__.-'    _.-'_.-'|                                  \n",
      " |    `-._`-._        _.-'_.-'    |           https://redis.io       \n",
      "  `-._    `-._`-.__.-'_.-'    _.-'                                   \n",
      " |`-._`-._    `-.__.-'    _.-'_.-'|                                  \n",
      " |    `-._`-._        _.-'_.-'    |                                  \n",
      "  `-._    `-._`-.__.-'_.-'    _.-'                                   \n",
      "      `-._    `-.__.-'    _.-'                                       \n",
      "          `-._        _.-'                                           \n",
      "              `-.__.-'                                               \n",
      "\n",
      "2581:M 18 Feb 2024 16:57:47.407 # WARNING: The TCP backlog setting of 511 cannot be enforced because kern.ipc.somaxconn is set to the lower value of 128.\n",
      "2581:M 18 Feb 2024 16:57:47.407 * Module 'RedisCompat' loaded from /opt/homebrew/Caskroom/redis-stack-server/7.2.0-v8/lib/rediscompat.so\n",
      "2581:M 18 Feb 2024 16:57:47.408 * <search> Redis version found by RedisSearch : 7.2.4 - oss\n",
      "2581:M 18 Feb 2024 16:57:47.408 * <search> RediSearch version 2.8.11 (Git=2.8-652096f2)\n",
      "2581:M 18 Feb 2024 16:57:47.408 * <search> Low level api version 1 initialized successfully\n",
      "2581:M 18 Feb 2024 16:57:47.408 * <search> concurrent writes: OFF, gc: ON, prefix min length: 2, prefix max expansions: 200, query timeout (ms): 500, timeout policy: return, cursor read size: 1000, cursor max idle (ms): 300000, max doctable size: 1000000, max number of search results:  10000, search pool size: 20, index pool size: 8, \n",
      "2581:M 18 Feb 2024 16:57:47.408 * <search> Initialized thread pools!\n",
      "2581:M 18 Feb 2024 16:57:47.408 * <search> Enabled role change notification\n",
      "2581:M 18 Feb 2024 16:57:47.408 * Module 'search' loaded from /opt/homebrew/Caskroom/redis-stack-server/7.2.0-v8/lib/redisearch.so\n",
      "2581:M 18 Feb 2024 16:57:47.409 * <timeseries> RedisTimeSeries version 11011, git_sha=0299ac12a6bf298028859c41ba0f4d8dc842726b\n",
      "2581:M 18 Feb 2024 16:57:47.409 * <timeseries> Redis version found by RedisTimeSeries : 7.2.4 - oss\n",
      "2581:M 18 Feb 2024 16:57:47.409 * <timeseries> loaded default CHUNK_SIZE_BYTES policy: 4096\n",
      "2581:M 18 Feb 2024 16:57:47.409 * <timeseries> loaded server DUPLICATE_POLICY: block\n",
      "2581:M 18 Feb 2024 16:57:47.409 * <timeseries> Setting default series ENCODING to: compressed\n",
      "2581:M 18 Feb 2024 16:57:47.409 * <timeseries> Detected redis oss\n",
      "2581:M 18 Feb 2024 16:57:47.409 * Module 'timeseries' loaded from /opt/homebrew/Caskroom/redis-stack-server/7.2.0-v8/lib/redistimeseries.so\n",
      "2581:M 18 Feb 2024 16:57:47.410 * <ReJSON> Created new data type 'ReJSON-RL'\n",
      "2581:M 18 Feb 2024 16:57:47.410 * <ReJSON> version: 20609 git sha: unknown branch: unknown\n",
      "2581:M 18 Feb 2024 16:57:47.410 * <ReJSON> Exported RedisJSON_V1 API\n",
      "2581:M 18 Feb 2024 16:57:47.410 * <ReJSON> Exported RedisJSON_V2 API\n",
      "2581:M 18 Feb 2024 16:57:47.410 * <ReJSON> Exported RedisJSON_V3 API\n",
      "2581:M 18 Feb 2024 16:57:47.410 * <ReJSON> Exported RedisJSON_V4 API\n",
      "2581:M 18 Feb 2024 16:57:47.410 * <ReJSON> Exported RedisJSON_V5 API\n",
      "2581:M 18 Feb 2024 16:57:47.410 * <ReJSON> Enabled diskless replication\n",
      "2581:M 18 Feb 2024 16:57:47.410 * Module 'ReJSON' loaded from /opt/homebrew/Caskroom/redis-stack-server/7.2.0-v8/lib/rejson.so\n",
      "2581:M 18 Feb 2024 16:57:47.410 * <search> Acquired RedisJSON_V5 API\n",
      "2581:M 18 Feb 2024 16:57:47.411 * <bf> RedisBloom version 2.6.11 (Git=unknown)\n",
      "2581:M 18 Feb 2024 16:57:47.411 * Module 'bf' loaded from /opt/homebrew/Caskroom/redis-stack-server/7.2.0-v8/lib/redisbloom.so\n",
      "2581:M 18 Feb 2024 16:57:47.412 * <redisgears_2> Created new data type 'GearsType'\n",
      "2581:M 18 Feb 2024 16:57:47.412 * <redisgears_2> Detected redis oss\n",
      "2581:M 18 Feb 2024 16:57:47.412 # <redisgears_2> could not initialize RedisAI_InitError\n",
      "\n",
      "2581:M 18 Feb 2024 16:57:47.412 * <redisgears_2> Failed loading RedisAI API.\n",
      "2581:M 18 Feb 2024 16:57:47.412 * <redisgears_2> RedisGears v2.0.16, sha='9559f21d0c3fd6ab4a0edb55d8b89ab125c8cc52', build_type='release', built_for='Macos-mac os12.6.3.arm64v8'.\n",
      "2581:M 18 Feb 2024 16:57:47.413 * <redisgears_2> Registered backend: js.\n",
      "2581:M 18 Feb 2024 16:57:47.413 * Module 'redisgears_2' loaded from /opt/homebrew/Caskroom/redis-stack-server/7.2.0-v8/lib/redisgears.so\n",
      "2581:M 18 Feb 2024 16:57:47.413 # Warning: Could not create server TCP listening socket *:6379: bind: Address already in use\n",
      "2581:M 18 Feb 2024 16:57:47.413 # Failed listening on port 6379 (tcp), aborting.\n"
     ]
    }
   ],
   "source": [
    "!redis-stack-server # init redis-stack server"
   ]
  },
  {
   "cell_type": "code",
   "execution_count": 18,
   "id": "19682880-9a67-42c4-b8be-c96422e3ac63",
   "metadata": {},
   "outputs": [
    {
     "data": {
      "text/plain": [
       "True"
      ]
     },
     "execution_count": 18,
     "metadata": {},
     "output_type": "execute_result"
    }
   ],
   "source": [
    "Redis.drop_index(\n",
    "    redis_url=_CONFIGS['redis_url'],\n",
    "    index_name=_CONFIGS['index_name'], \n",
    "    delete_documents=True\n",
    ")"
   ]
  },
  {
   "cell_type": "code",
   "execution_count": 19,
   "id": "bfdf1bbe-d58c-4dac-80c5-483aedb91f92",
   "metadata": {},
   "outputs": [
    {
     "name": "stderr",
     "output_type": "stream",
     "text": [
      "`index_schema` does not match generated metadata schema.\n",
      "If you meant to manually override the schema, please ignore this message.\n",
      "index_schema: {'text': [{'name': 'author'}, {'name': 'id'}, {'name': 'name'}, {'name': 'source'}, {'name': 'tags'}], 'numeric': [{'name': 'date_start'}, {'name': 'date_end'}]}\n",
      "generated_schema: {'text': [{'name': 'name'}, {'name': 'tags'}, {'name': 'id'}, {'name': 'source'}], 'numeric': [{'name': 'date_start'}, {'name': 'date_end'}], 'tag': []}\n",
      "\n"
     ]
    },
    {
     "name": "stdout",
     "output_type": "stream",
     "text": [
      "CPU times: user 295 ms, sys: 55 ms, total: 350 ms\n",
      "Wall time: 1min 4s\n"
     ]
    }
   ],
   "source": [
    "%%time\n",
    "\n",
    "# Redis supports default \"tag\" fields alongside with \"text\" and \"numeric\"\n",
    "# looks like a better match for \"tags\" property at the first glance\n",
    "# but we'll classify it as \"text\" anyway because the to give consistency of \n",
    "# how downstream self-query writes filter queries.\n",
    "# ref: https://redis.io/docs/interact/search-and-query/advanced-concepts/tags\n",
    "\n",
    "vectorstore = Redis.from_documents(\n",
    "    documents=splits,\n",
    "    embedding=embeddings,\n",
    "    redis_url=_CONFIGS['redis_url'],\n",
    "    index_name=_CONFIGS['index_name'],\n",
    "    index_schema=_CONFIGS['redis_schema'],\n",
    ")"
   ]
  },
  {
   "cell_type": "code",
   "execution_count": 20,
   "id": "f5f7c918-d5c4-47a2-a68a-076c9385cb72",
   "metadata": {},
   "outputs": [
    {
     "name": "stdout",
     "output_type": "stream",
     "text": [
      "\n",
      "\n",
      "Index Information:\n",
      "╭──────────────┬────────────────┬──────────────────┬─────────────────┬────────────╮\n",
      "│ Index Name   │ Storage Type   │ Prefixes         │ Index Options   │   Indexing │\n",
      "├──────────────┼────────────────┼──────────────────┼─────────────────┼────────────┤\n",
      "│ notiondb     │ HASH           │ ['doc:notiondb'] │ []              │          0 │\n",
      "╰──────────────┴────────────────┴──────────────────┴─────────────────┴────────────╯\n",
      "Index Fields:\n",
      "╭────────────────┬────────────────┬─────────┬────────────────┬────────────────┬────────────────┬────────────────┬────────────────┬────────────────┬─────────────────┬────────────────╮\n",
      "│ Name           │ Attribute      │ Type    │ Field Option   │ Option Value   │ Field Option   │ Option Value   │ Field Option   │   Option Value │ Field Option    │ Option Value   │\n",
      "├────────────────┼────────────────┼─────────┼────────────────┼────────────────┼────────────────┼────────────────┼────────────────┼────────────────┼─────────────────┼────────────────┤\n",
      "│ author         │ author         │ TEXT    │ WEIGHT         │ 1              │                │                │                │                │                 │                │\n",
      "│ id             │ id             │ TEXT    │ WEIGHT         │ 1              │                │                │                │                │                 │                │\n",
      "│ name           │ name           │ TEXT    │ WEIGHT         │ 1              │                │                │                │                │                 │                │\n",
      "│ source         │ source         │ TEXT    │ WEIGHT         │ 1              │                │                │                │                │                 │                │\n",
      "│ tags           │ tags           │ TEXT    │ WEIGHT         │ 1              │                │                │                │                │                 │                │\n",
      "│ content        │ content        │ TEXT    │ WEIGHT         │ 1              │                │                │                │                │                 │                │\n",
      "│ date_start     │ date_start     │ NUMERIC │                │                │                │                │                │                │                 │                │\n",
      "│ date_end       │ date_end       │ NUMERIC │                │                │                │                │                │                │                 │                │\n",
      "│ content_vector │ content_vector │ VECTOR  │ algorithm      │ FLAT           │ data_type      │ FLOAT32        │ dim            │            512 │ distance_metric │ COSINE         │\n",
      "╰────────────────┴────────────────┴─────────┴────────────────┴────────────────┴────────────────┴────────────────┴────────────────┴────────────────┴─────────────────┴────────────────╯\n"
     ]
    }
   ],
   "source": [
    "!rvl index info -i notiondb"
   ]
  },
  {
   "cell_type": "code",
   "execution_count": 22,
   "id": "4d811c7d-6918-4290-bd0e-88e5decd2ce9",
   "metadata": {
    "scrolled": true
   },
   "outputs": [
    {
     "name": "stderr",
     "output_type": "stream",
     "text": [
      "Metadata key date_end not found in metadata. Setting to None. \n",
      "Metadata fields defined for this instance: ['author', 'id', 'name', 'source', 'tags', 'date_start', 'date_end']\n",
      "Metadata key date_end not found in metadata. Setting to None. \n",
      "Metadata fields defined for this instance: ['author', 'id', 'name', 'source', 'tags', 'date_start', 'date_end']\n",
      "Metadata key date_end not found in metadata. Setting to None. \n",
      "Metadata fields defined for this instance: ['author', 'id', 'name', 'source', 'tags', 'date_start', 'date_end']\n"
     ]
    },
    {
     "data": {
      "text/plain": [
       "[(Document(page_content='为我，轻物重生\\n《孟子》中说：“杨子取为我，拔一毛而利天下，不为也。”；《吕氏春秋》中说：“陌生贵己。”；《淮南子》中写：“全性保真，不以物累形：杨子所立也。”这些是同时代的著作中对杨朱思想的记录和反映\\n在道家更后期的《老子》和《庄子》中也有相同的体现。《老子》中写到：“名与身：孰亲？身与货：孰多？”《庄子》中写到：“山木自寇也。膏火自煎也，桂可食，故伐之。漆可用，故割之。”\\n无用是全生的方法。善于全生的人，一定不能多为恶，但也一定不能多为善。他一定要生活在善恶之间，力求无用。到头来，无用却对于他有大用\\n从为我到无我：先秦道家发展三阶段\\n先秦道家都是为我的，但是随着思考的深入，后来的发展使这种为我走向反面，取消了它自身\\n第一阶段杨朱，出发点是全生避害\\n第二阶段老子，开始企图揭示宇宙事物变化的规律。一个人如果懂得了这些规律，并且遵循规律而调整行动，那么他就能够使事物转向对他有利的方向。但即便一个人懂得自然规律，预料之外的因素仍然会发挥作用，并带来可能的危害（“吾所以有大患者，为吾有身，及吾无身，吾有何患！”）\\n第三阶段庄子，因为没有办法避免受到外界事物的影响，庄子转而从一种更高的观点看待事物，产生”齐生死，一物我“的理论\\n孟子：儒家的理想主义派\\n人性本善', metadata={'id': 'doc:notiondb:85ff8b7811ba4274a12a5033fd705ed6', 'author': '【中】冯友兰', 'name': '中国哲学简史', 'source': '读书笔记（文学）', 'tags': '人文', 'date_start': '20230506', 'date_end': None}),\n",
       "  0.703),\n",
       " (Document(page_content='忠与恕\\n实行仁的具体方法就是推己及人（“己欲立而立人，己欲达而达人……可谓仁之方也”）\\n“忠”是推己及人的肯定方面；“恕”是其否定方面\\n忠恕之道是人的道德生活的开端和终结，实行忠恕就是行仁（“夫子之道，忠恕而已矣”）\\n知命\\n“无所为而为”：儒家认为，一个人不可能“无为”，因为每个人都有他应该做的事。然而他做这些事都是“无所为”，因为做这些事的价值在于做的本身之内，而不是在于外在的结果\\n知命是承认世界本来存在的必然性，这样，对于外在的成败也就无所萦怀。在这种意义上，人就永远不会失败，因为如果我们尽了应尽的义务，那么这项义务在道德上就完成了，这与行动的外在成败并不相干\\n孔子的一生正是这种学说的写照。他周游各地，政治上的一切努力都没有得到回报，但他并不气馁（“不知命，无以为君子也。”）\\n超道德：孔子在五六十岁的时候认识“天命”并且顺乎天命，他在这时候认识到了超道德的价值，认为他所做的事是受到了天的支持（“天下之无道也久矣，天将以夫子为木铎。”）孔子的超道德价值仍然是人伦日用的，孔子的超道德价值和道家抛弃理智和目的的混沌、神秘仍然有所区别\\n墨子：孔子的第一个反对者\\n在周代，天子、诸侯、封建主都有他们的军事专家。当时军队的骨干，由世袭的武士组成。随着封建制度的解体，这些武士专家丧失了爵位，流散各地被雇佣，这种人被称为“游侠”。史记《游侠列传》说他们”其言必信，其行必果，已诺必诚，不爱其躯，赴士之厄困。“\\n和源自上层阶层的儒家思想不同，墨家思想是来自下层阶级的人。从平民观点看，礼乐一类的古代文化和社会活动完全限于贵族，毫无实用价值。墨家对这种传统制度及其辩护者（儒家）的批判，加上对本阶级职业道德的发挥，构成了墨家哲学的核心。\\n墨子及其门徒和普通游侠还是有两点不同：第一，普通游侠只要得到酬谢或者恩惠就可以打仗，但墨子强烈反对侵略战争，只参加严格限于自卫的战争；第二，普通游侠只是新手职业道德的条规，而墨子却详细阐明这种道德并论证了其正当性。\\n兼爱\\n“强之劫弱，众之暴寡，诈之谋愚，贵之傲贱：此天下之害也。”\\n兼爱是墨子哲学的中心概念，这种道德是游侠“有福同享有难同当”逻辑的延伸。以这种团体的概念为基础，墨子宣扬天下每个人都应该无差别地爱一切人\\n功利主义：天志和明鬼\\n为了诱导人们实行兼爱，墨子引进了宗教的、政治的制裁', metadata={'id': 'doc:notiondb:c9585a8304cd4ce4a8e2d043b5d90a86', 'author': '【中】冯友兰', 'name': '中国哲学简史', 'source': '读书笔记（文学）', 'tags': '人文', 'date_start': '20230506', 'date_end': None}),\n",
       "  0.8248),\n",
       " (Document(page_content='官师分离理论：\\n周朝前期的社会制度解体以前，中国社会“官师不分”。这是说某个政府部门的官吏同时也是这个部门有关的一门学术的传授者。因为官吏是世袭的，所以任何一门学术都没有人以私人身份讲授，即当时仅有“官学”，没有“私学”\\n周朝后期因为政权的逐步解体，王室丧失权力，贵族和政府部门的官吏也丧失职位流落民间。这时候他们就转而以私人身份教授他们的专门知识。这个时候官和师的角色就分离了', metadata={'id': 'doc:notiondb:a399c8eb3fd74d5f905d12ef7ba1dd67', 'author': '【中】冯友兰', 'name': '中国哲学简史', 'source': '读书笔记（文学）', 'tags': '人文', 'date_start': '20230506', 'date_end': None}),\n",
       "  0.8727)]"
      ]
     },
     "execution_count": 22,
     "metadata": {},
     "output_type": "execute_result"
    }
   ],
   "source": [
    "from langchain.vectorstores.redis import RedisFilter, RedisNum, RedisText\n",
    "\n",
    "# form comparator logic\n",
    "# ref: https://github.com/langchain-ai/langchain/blob/d7c26c89b2d4f5ff676ba7c3ad4f9075d50a8ab7/libs/community/langchain_community/vectorstores/redis/filters.py#L313\n",
    "\n",
    "f = RedisText(\"author\") % \"*冯友兰*\"\n",
    "vectorstore.similarity_search_with_score('谁说过陌生贵己？', filter=f, k=3)"
   ]
  },
  {
   "cell_type": "code",
   "execution_count": 23,
   "id": "2be1b3bb-a022-44df-9cfe-35c4655210db",
   "metadata": {
    "scrolled": true
   },
   "outputs": [
    {
     "name": "stderr",
     "output_type": "stream",
     "text": [
      "Metadata key date_end not found in metadata. Setting to None. \n",
      "Metadata fields defined for this instance: ['author', 'id', 'name', 'source', 'tags', 'date_start', 'date_end']\n",
      "Metadata key date_end not found in metadata. Setting to None. \n",
      "Metadata fields defined for this instance: ['author', 'id', 'name', 'source', 'tags', 'date_start', 'date_end']\n",
      "Metadata key date_end not found in metadata. Setting to None. \n",
      "Metadata fields defined for this instance: ['author', 'id', 'name', 'source', 'tags', 'date_start', 'date_end']\n"
     ]
    },
    {
     "data": {
      "text/plain": [
       "[(Document(page_content='2\\n清显有个不好的倾向，那就是他轻蔑爱慕自己的人，起止轻蔑，甚至近于冷酷。这一点，本多早就察觉出来了。他的友人当中再没有谁比本多更敏锐的了。本多估计，这种倨傲，就是从清显十三岁那年知道别人对自己的俊美喝彩以后，从心底里悄悄地培育起来的好像霉菌一样的感情。\\n那是一朵银白色的霉菌花，一碰，仿佛就会响起铃声来。\\n\\n\\n3\\n本多突然从正面问道：“松枝，你近来怎么搞的？我说什么，你都心不在焉。”\\n“哪儿的话。”清显猝不及防含糊其辞地回答了一句。他用美丽而明亮的眼睛望了望他的朋友。被友人知道自己傲慢倒并不难为情，最怕就是被他了解自己的苦恼。\\n清显知道，这时他若敞开胸怀，本多就会鲁莽地闯进自己的心房，这种作为无论是谁都绝对不能容许的。这么一来，清显很可能转瞬间就会失去唯一的挚友。\\n但是，这时候本多马上理解了清显的内心活动。他知道要继续维持他同清显的友谊，就必须舍弃卑俗的关系，不应该一不留神就触摸刚涂上油漆的墙而留下手痕。必要时，连友人的死苦也必须视而不见。\\n特别是，倘若这是一种特殊的死苦，通过隐藏已然达成优雅的话。\\n\\n\\n4\\n“因为神圣的东西全部是由与梦和回忆相同的要素形成的，会使由于时间和空间的关系而与我们相隔的东西奇迹般地呈现在我们眼前。而且，这三种东西的共同的特点是：无论哪一种都是用手触摸不到的。手触摸得到的东西，一旦离开它一步，它就可能变成神圣的东西，变成奇迹，变成不可能有的美的东西。一切事物都具有其神圣性，可是我们的手指触摸了它，它就变成污浊的了。我们人类真是个不可思议的存在啊。一方面玷污手指触摸得到的所有东西，一方面自己内里又偏偏具备能成为神圣的东西的素质。”\\n\\n\\n5\\n现实不同于梦境，是多么缺乏可塑性的素材啊。现实不是模模糊糊、飘飘忽忽的感觉，\\n它就像一颗黑色的药丸，一旦痛快地凝缩起来，便会立即发挥效力。', metadata={'id': 'doc:notiondb:ab062d1e9e614654837ed93756778692', 'author': '【日】三岛由纪夫', 'name': '春雪 【日】三岛由纪夫', 'source': '读书笔记（文学）', 'tags': '小说', 'date_start': '20140304', 'date_end': None}),\n",
       "  0.7352),\n",
       " (Document(page_content='7\\n时至今日，本多不由得意识到残留在自己青春时代的清显那生命之羽的猛烈搏击。本多从未打算要像别人那样度过自己的人生，可清显那迅疾而逝的、美丽的人生，却宛如开放出淡紫色花瓣的寄生兰，在本多的人生之树最为重要的那几年间扎下了根，于是，清显的人生代表着本多的人生意义，让本多也孕育出原本不可能开放的花苞。\\n\\n\\n8\\n我只是认为，在学习历史时，不能只着眼于某一时代的某一局部，而是必须仔细研究那个时代诸多相互矛盾的复杂因素，通过对局部的研究来把握全局，对赋予局部以以特殊性的各种因素细加琢磨，并把它置于均衡、整体的观察之中。\\n我认为这才是学习历史的意义之所在。因为不论在哪时代，当代的事物映入到个人眼睛里的范围都是有限的，因而把握它的全貌也是非常困难的。只有这样参考和借鉴历史的全貌，生活在当代每时每刻的局部世界的人们，才有可能通过时隔久远的历史来观察整体世界，并因此而得以匡正自己的―管之见。这就是当代人对历史所拥有的一种令人高兴的特权。\\n学习历史，决不是援引过去的局部特殊性，来使现代的局部性的特殊事物合理化。也不是从过去某一时代的拼图玩中，取出一定形式的模块套用在现代的某一局部上，然后再大喝一声“快哉”。那只是把历史当做玩具，当做孩子们的游戏。我们应该知道，昨天的纯粹和今天的纯粹不论如何相似，它们的种种历史性条件却不尽相同。假如你想找出纯粹之间的亲缘关系，就应该找到历史条件相同的、现代的“对立的思想”，这才是只占特殊极小部分的“现代的我”所应该采取的谦虚态度。在这里，历史问题在抽象中被舍去，而只把“纯粹性”这一人类的、超历史的因素当做研究对象。这时，同一时代所共有的历史性条件也就仅仅成了方程式的定数。\\n年轻人尤其需要避讳的，是把纯粹性与历史混同起来。我所感到的危险，正是你对《神风连史话》的倾倒这一点。我认为，最好把历史始终作为整体来把握，把纯粹性看做超历史性的东西。\\n\\n\\n9\\n“那位审判员不敢接触灼热的火钳，只想碰一下火盆。可是火钳和火盆却是两种完全不同质的东西呀，火钳是金属的，而火盆则是陶瓷的。他虽然是一个纯粹的人，但却属于陶瓷派。”', metadata={'id': 'doc:notiondb:e83a53136c714d7cb9b01ea5b8437b7d', 'author': '【日】三岛由纪夫', 'name': '奔马 【日】三岛由纪夫', 'source': '读书笔记（文学）', 'tags': '小说', 'date_start': '20140526', 'date_end': None}),\n",
       "  0.8147),\n",
       " (Document(page_content='……（略）\\n“这就是历史吧。”清显说。每次发表议论的时候，他总是遗憾地感到自己的腔调显得比本多幼稚得多，但他还是想挤进本多的思考中。“那么说，不管我们想什么，希望什么，感慨什么，都丝毫动不了历史的一根毫毛啰。”\\n“对啊。正如西方人总是以为拿破仑的意志推动了历史一样，人们总是以为是你祖父他们的意志创造了明治维新。\\n“可是，果真是这样吗？历史曾有过哪一次是按着人们的意志转移的吗？看到你，我总不免会这样想：你既不是伟人，也不是天才，你却具有异样的特色。在你的身上，完全缺乏意志。一想到这样一个你和历史之间的关系，我就总感到饶有兴趣。”\\n“你在嘲讽我吗？”\\n“不，不是嘲讽。我是在思索有关干预完全无意志的历史的事。例如。倘使我抱着某种意志……”\\n“你的确是抱着意志的呀。”\\n“倘使我抱着要改变历史的意志，那么我就要献出我的一生，拿出全副精力和全部财产，努力按照自己的意志去扭转历史。同时，也要攫取能实现这目的的尽可能高的地位和权力。即使如此，历史也未必按照我的意志发展成美满的形状。\\n“一百年、二百年或者三百年之后，也许历史突然\\n和我毫无关系\\n地，呈现出正是我的梦、理想和意志所追求的摸样。也许历史就会采取正如我在一百年前、二百年前梦寐以求的形状出现。就像以我的眼睛认为的美的美丽和微笑，冷淡地在轻视我、嘲讽我的意志那样。”\\n“这就是人们常说的所谓历史吧。”\\n“这不是一个时机问题吗？不是时间终于成熟了吗？不说一百年，就说三十年、五十年，这种事业将会经常发生的。也许历史采取这种形式出现的时候，你的意识也就丧失，而后变成一根肉眼看不见的潜在的细丝，帮助了历史的成就。倘若你一次也没有获得在这个世界上生存的机会，那么，即使你再。历史也不会采取这种形式出现的。”\\n……（略）\\n“到那时候，”本多接着说，“一百年后，假使历史采取我所想象的形式，你把它叫做什么样的‘成就’呢？”\\n“那无疑就是一种成就吧。”\\n“那么是谁的呢？”\\n“是你的意志呗。”\\n“别开玩笑，那时候我早已归天，刚才我也说过了嘛。那是在和我毫无关系中发展起来的。”\\n“你不认为那是历史的意志的成就吗？”\\n“历史有意志吗？把历史拟人化总是危险的啊。依我的想法，历史是没有意志的，同我的意志也是毫无关系。因此，结果并非是从任何意志产生的。这种结果绝不能说是‘成就’。证据就是，历史的虚假成就，从转眼的瞬间就开始崩溃了。', metadata={'id': 'doc:notiondb:dd5d5474023a447399adb04fad812657', 'author': '【日】三岛由纪夫', 'name': '春雪 【日】三岛由纪夫', 'source': '读书笔记（文学）', 'tags': '小说', 'date_start': '20140304', 'date_end': None}),\n",
       "  0.8733)]"
      ]
     },
     "execution_count": 23,
     "metadata": {},
     "output_type": "execute_result"
    }
   ],
   "source": [
    "f = RedisText(\"name\") % \"*三岛由纪夫*\"\n",
    "vectorstore.similarity_search_with_score('清显与本多', filter=f, k=3)"
   ]
  },
  {
   "cell_type": "code",
   "execution_count": 24,
   "id": "a901e40f-cf76-4431-a402-778528416ab6",
   "metadata": {
    "scrolled": true
   },
   "outputs": [
    {
     "name": "stderr",
     "output_type": "stream",
     "text": [
      "Metadata key date_end not found in metadata. Setting to None. \n",
      "Metadata fields defined for this instance: ['author', 'id', 'name', 'source', 'tags', 'date_start', 'date_end']\n",
      "Metadata key date_end not found in metadata. Setting to None. \n",
      "Metadata fields defined for this instance: ['author', 'id', 'name', 'source', 'tags', 'date_start', 'date_end']\n"
     ]
    },
    {
     "data": {
      "text/plain": [
       "[(Document(page_content='他又想起阿切尔·斯隆，回忆起将近二十年前，那种渐渐强大到盖过那张喜欢冷嘲热讽的脸的慢性痛苦，以及驱散了那种严峻本身的慢慢腐蚀的绝望——他想，他现在明白了，说来微不足道，斯隆忧虑的某种徒劳感。\\n\\n\\n格蕾丝满满胖起来。在那年冬天喝十三岁生日这段时间，她体重增加了五十磅，脸蛋满满鼓起来，而且很干燥，就像正在发酵的面团，四肢也渐渐柔软，动作变得缓慢、笨拙。她吃得比以前还少，但非常喜欢甜食，房间里总放着一盒糖果，好像体内的某种东西开始松弛、柔软和绝望了，好像体内某种没有形体的东西在搏斗着，忽然松懈了，现在说服她的肉体明确指定过那种阴暗和隐秘的生活。\\n斯通纳心怀伤感地眼睁睁看着这种变化。这种伤感掩饰了他显现给世人的那张冷漠的脸。他不允许自己产生那种轻松、奢侈的内疚感。考虑到他的天性和伊迪斯生活的环境，他完全束手无策。这种想法强化了他的悲伤，这种悲伤是内疚都无法引发的，让他对女儿的爱更加彻底、更加深刻。\\n斯通纳知道——而且很早就知道，他认为——女儿属于那种极其稀有而且永远那么漂亮可爱的人类中的一员，这种人的道德质地是那么娇柔，必须认真养护和关心，这样它才能称心如意。由于跟这个世界格格不入，它只好生存在一个不可能是自己家园的地方。渴望温柔和安静、不得已要生存的地方，也没有蛮力击退反对它的残暴势力，只有退缩到一个静谧之地，那里荒凉、狭小而柔静。', metadata={'id': 'doc:notiondb:b47804cf0d1f4214aaa03fb7e7fc4f9d', 'author': '【美】约翰·威廉斯', 'name': '斯通纳 【美】约翰·威廉斯', 'source': '读书笔记（文学）', 'tags': '小说', 'date_start': '20210828', 'date_end': None}),\n",
       "  0.9503),\n",
       " (Document(page_content='retainers have don’t-bite-the-hand-that-feeds considerations, thus there’s indutry-wide “2 years rule” such that any ethical retainers won’t recruit away any people from the client in 2 years\\nretainers don’t necessarily provide candidates with the most suitable positions. Their primary goal is to get a job filled for the employer who pays them (a desparate candidate can be assigned with an Alaska opening even if there is actually an opening exists in his neighborhood, since the retainer clearly sense his urgency of accepting any job offered).\\nDeal with contingency recruiters\\nThe only time you gain from an introduction by a contingency firm is when 1. there is a legitimate listing, 2. the contract/assignment is exclusive, and 3. it’s from a company you wouldn’t have contacted, if the contingency firm hadn’t persuaded you', metadata={'id': 'doc:notiondb:95a4573f648b44eeb88fa227397d1a21', 'author': 'John Lucht', 'name': 'Rites of Passage', 'source': '笔记（非文学）', 'tags': '职场', 'date_start': '20210515', 'date_end': None}),\n",
       "  0.9537)]"
      ]
     },
     "execution_count": 24,
     "metadata": {},
     "output_type": "execute_result"
    }
   ],
   "source": [
    "f = (RedisNum(\"date_start\") > 20201231) & (RedisNum(\"date_start\") < 20211231)\n",
    "vectorstore.similarity_search_with_score(\"\", filter=f, k=2)"
   ]
  },
  {
   "cell_type": "code",
   "execution_count": null,
   "id": "cc07a554-ed12-4cdd-ab57-cde415c96e0f",
   "metadata": {},
   "outputs": [],
   "source": []
  }
 ],
 "metadata": {
  "kernelspec": {
   "display_name": "Python 3 (ipykernel)",
   "language": "python",
   "name": "python3"
  },
  "language_info": {
   "codemirror_mode": {
    "name": "ipython",
    "version": 3
   },
   "file_extension": ".py",
   "mimetype": "text/x-python",
   "name": "python",
   "nbconvert_exporter": "python",
   "pygments_lexer": "ipython3",
   "version": "3.12.2"
  }
 },
 "nbformat": 4,
 "nbformat_minor": 5
}
