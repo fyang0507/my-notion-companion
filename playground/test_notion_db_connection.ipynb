{
 "cells": [
  {
   "cell_type": "markdown",
   "id": "53cda038-5245-4158-b294-4d94537d56ac",
   "metadata": {},
   "source": [
    "# Test NotionDB connection\n",
    "ref: https://python.langchain.com/docs/integrations/document_loaders/notiondb"
   ]
  },
  {
   "cell_type": "code",
   "execution_count": 15,
   "id": "f15b8721-7393-4b7d-adb4-fa380c0d225b",
   "metadata": {},
   "outputs": [],
   "source": [
    "from langchain_community.document_loaders import NotionDBLoader"
   ]
  },
  {
   "cell_type": "code",
   "execution_count": 3,
   "id": "7e9d590a-4679-47df-b2d3-cb1fe5263882",
   "metadata": {},
   "outputs": [],
   "source": [
    "import tomllib"
   ]
  },
  {
   "cell_type": "code",
   "execution_count": 12,
   "id": "8cad0dd5-3811-4982-b4fe-c8a184cd8169",
   "metadata": {},
   "outputs": [],
   "source": [
    "with open('../.tokens.toml', 'rb') as f:\n",
    "    _TOKEN_NOTION = tomllib.load(f)['notion']\n",
    "\n",
    "with open('../.notion_databases.toml', 'rb') as f:\n",
    "    _DATABASES_NOTION = tomllib.load(f)"
   ]
  },
  {
   "cell_type": "code",
   "execution_count": 14,
   "id": "554c9352-2bec-4bb7-884c-f6c38b1e82dc",
   "metadata": {},
   "outputs": [
    {
     "data": {
      "text/plain": [
       "{'笔记（非文学）': '7443174d151342458fb7e47acdbb0c64',\n",
       " '读书笔记（文学）': '808e50735cce4c66a151f3e8b79c8d9d',\n",
       " '写作': '8b81c07089344d8d95ddba22bafb8c12',\n",
       " '格言小集': '04d75f24b9544f3f8b220d5e7d87b7c3'}"
      ]
     },
     "execution_count": 14,
     "metadata": {},
     "output_type": "execute_result"
    }
   ],
   "source": [
    "_DATABASES_NOTION"
   ]
  },
  {
   "cell_type": "code",
   "execution_count": 18,
   "id": "5dfcbbcb-1739-4065-95b6-57a7fa592e6f",
   "metadata": {},
   "outputs": [],
   "source": [
    "loader = NotionDBLoader(\n",
    "    integration_token=_TOKEN_NOTION,\n",
    "    database_id=_DATABASES_NOTION['格言小集'],\n",
    "    request_timeout_sec=30,  # optional, defaults to 10\n",
    ")"
   ]
  },
  {
   "cell_type": "code",
   "execution_count": 20,
   "id": "7f8775f5-201b-451f-a6fd-89db127a3d8d",
   "metadata": {},
   "outputs": [
    {
     "name": "stdout",
     "output_type": "stream",
     "text": [
      "CPU times: user 268 ms, sys: 21.9 ms, total: 290 ms\n",
      "Wall time: 5.87 s\n"
     ]
    }
   ],
   "source": [
    "%%time\n",
    "docs = loader.load()"
   ]
  },
  {
   "cell_type": "code",
   "execution_count": 24,
   "id": "001cc04c-7342-495f-8fd3-1c99ce5716f6",
   "metadata": {},
   "outputs": [
    {
     "name": "stdout",
     "output_type": "stream",
     "text": [
      "[Document(page_content='人生四不捡：塔吊下边冰红茶，铁轨上边牛肉干，过山车下八宝粥，课桌后边葡萄干', metadata={'name': '笑死', 'id': '2303056b-72f1-4f9a-b377-cf6b12a0d424'}), Document(page_content='\\n名为太阳的溶剂\\n\\n楼群之中\\n乌鸦堕落为一种失去预言性的可厌生物\\n\\n对大多数人来说，他们所抱定的观念只是为他们生存方式做辩护的使用说明书而已\\n\\n颤抖的彩虹其实是光的边角余料。\\n\\n以前的建筑是不透明的甲壳类，现在的建筑是透光的腔肠类。\\n\\n射电望远镜就是宇宙射线的向日葵。\\n\\n电线像静脉一样生长着。\\n\\n绝望的尽头并非对绝望感到绝望，而是对绝望感到厌烦。相对地，希望的尽头也只是对希望的疲倦而已。与一般的见解不同，绝望和希望是生活的激发态。\\n', metadata={'name': '沃滋集朔德', 'id': '340f4781-1042-4534-b286-b758b0ca09a4'})]\n"
     ]
    }
   ],
   "source": [
    "print(docs[:2])"
   ]
  },
  {
   "cell_type": "code",
   "execution_count": null,
   "id": "1971984b-04b8-4b93-9379-814a5acf2b8b",
   "metadata": {},
   "outputs": [],
   "source": []
  }
 ],
 "metadata": {
  "kernelspec": {
   "display_name": "Python 3 (ipykernel)",
   "language": "python",
   "name": "python3"
  },
  "language_info": {
   "codemirror_mode": {
    "name": "ipython",
    "version": 3
   },
   "file_extension": ".py",
   "mimetype": "text/x-python",
   "name": "python",
   "nbconvert_exporter": "python",
   "pygments_lexer": "ipython3",
   "version": "3.12.1"
  }
 },
 "nbformat": 4,
 "nbformat_minor": 5
}
