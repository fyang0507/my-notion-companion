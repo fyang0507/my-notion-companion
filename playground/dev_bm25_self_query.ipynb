{
 "cells": [
  {
   "cell_type": "code",
   "execution_count": 1,
   "id": "c9b7ab91-3e89-4007-80d2-40fe8d656435",
   "metadata": {},
   "outputs": [],
   "source": [
    "%load_ext autoreload\n",
    "%autoreload 2"
   ]
  },
  {
   "cell_type": "code",
   "execution_count": 2,
   "id": "895db0a4-71c3-4c84-8c31-973666cdd262",
   "metadata": {},
   "outputs": [],
   "source": [
    "import sys\n",
    "sys.path.append('../')"
   ]
  },
  {
   "cell_type": "code",
   "execution_count": 3,
   "id": "00d62766-8a7e-48fb-b7d8-be66620bd909",
   "metadata": {},
   "outputs": [],
   "source": [
    "import tomllib\n",
    "\n",
    "with open('../.notion_databases.toml', 'rb') as f:\n",
    "    _DATABASES_NOTION = tomllib.load(f)\n",
    "\n",
    "with open('../.tokens.toml', 'rb') as f:\n",
    "    _TOKENS = tomllib.load(f)"
   ]
  },
  {
   "cell_type": "code",
   "execution_count": 4,
   "id": "1d183425-4df0-49af-8273-2830bcbabb7c",
   "metadata": {},
   "outputs": [],
   "source": [
    "# from my_notion_companion.notion_loader import NotionLoader\n",
    "\n",
    "# notion_loader = NotionLoader(tokens=_TOKENS, notion_dbs=_DATABASES_NOTION)\n",
    "# docs = notion_loader.load()"
   ]
  },
  {
   "cell_type": "code",
   "execution_count": 4,
   "id": "58ab2297-c53c-4246-a859-087d5fc660a7",
   "metadata": {},
   "outputs": [],
   "source": [
    "import pickle\n",
    "\n",
    "with open('../data/notion.pkl', 'rb') as f:\n",
    "    docs = pickle.load(f)"
   ]
  },
  {
   "cell_type": "code",
   "execution_count": 6,
   "id": "d2f9038d-032f-4d8e-8bd1-0cc8f22d560b",
   "metadata": {},
   "outputs": [
    {
     "data": {
      "text/plain": [
       "225"
      ]
     },
     "execution_count": 6,
     "metadata": {},
     "output_type": "execute_result"
    }
   ],
   "source": [
    "len(docs)"
   ]
  },
  {
   "cell_type": "code",
   "execution_count": 7,
   "id": "97c92a9d-cecf-4b64-a3bd-421a44e88c39",
   "metadata": {},
   "outputs": [],
   "source": [
    "a = [False, True]\n",
    "b = [True, True]"
   ]
  },
  {
   "cell_type": "code",
   "execution_count": 8,
   "id": "0e8fd26d-7ed2-4d79-a927-d92a396a4bfe",
   "metadata": {},
   "outputs": [
    {
     "data": {
      "text/plain": [
       "[False, True]"
      ]
     },
     "execution_count": 8,
     "metadata": {},
     "output_type": "execute_result"
    }
   ],
   "source": []
  },
  {
   "cell_type": "code",
   "execution_count": null,
   "id": "840ab9ad-9ef2-4153-a93b-94985e570337",
   "metadata": {},
   "outputs": [],
   "source": []
  }
 ],
 "metadata": {
  "kernelspec": {
   "display_name": "Python 3 (ipykernel)",
   "language": "python",
   "name": "python3"
  },
  "language_info": {
   "codemirror_mode": {
    "name": "ipython",
    "version": 3
   },
   "file_extension": ".py",
   "mimetype": "text/x-python",
   "name": "python",
   "nbconvert_exporter": "python",
   "pygments_lexer": "ipython3",
   "version": "3.12.2"
  }
 },
 "nbformat": 4,
 "nbformat_minor": 5
}
