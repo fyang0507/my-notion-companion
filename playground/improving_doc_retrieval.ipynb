{
 "cells": [
  {
   "cell_type": "markdown",
   "id": "06d9187e-75b7-4c96-a499-9e9702f70e59",
   "metadata": {},
   "source": [
    "# Improving document retrieval"
   ]
  },
  {
   "cell_type": "markdown",
   "id": "54eefcd0-02f5-4fea-939d-29444a5bc5cd",
   "metadata": {},
   "source": [
    "## load and format test cases"
   ]
  },
  {
   "cell_type": "code",
   "execution_count": 1,
   "id": "53753ff6-f8ad-458e-b3e1-7b2413b2088c",
   "metadata": {},
   "outputs": [],
   "source": [
    "import re"
   ]
  },
  {
   "cell_type": "code",
   "execution_count": 2,
   "id": "2ccda418-6b14-4cb8-a5f6-ddb15f0a9110",
   "metadata": {},
   "outputs": [],
   "source": [
    "with open('../data/test_cases.txt') as f:\n",
    "    test_cases_raw = f.readlines()"
   ]
  },
  {
   "cell_type": "code",
   "execution_count": 3,
   "id": "228305c8-8cfd-4c4f-9607-354ea36d5adc",
   "metadata": {},
   "outputs": [
    {
     "data": {
      "text/plain": [
       "['什么是我国第一部编年史著作？\\n答：《左传》。\\n资料：附：《左传》是我国第一部编年史著作。\\n',\n",
       " '什么是我国第一部编年国别史？\\n答：《国语》。\\n资料：附：《国语》是我国第一部编年国别史。\\n',\n",
       " '“寡人之于国也”下一句是什么？来自哪里？\\n答：“寡人之于国也”下一句是“尽心焉耳矣”。这个句子来自《孟子》。\\n资料：梁惠王曰：“寡人之于国也，尽心焉耳矣。河内凶，则移其民于河东，移其粟于河内；河东凶亦然。察邻国之政，无如寡人之用心者。邻国之民不加少，寡人之民不加多，何也？”\\n资料：《寡人之于国也》（孟子）\\n']"
      ]
     },
     "execution_count": 3,
     "metadata": {},
     "output_type": "execute_result"
    }
   ],
   "source": [
    "test_cases_raw = \"\".join(test_cases_raw[0:-1:2]).split('问：')[1:]\n",
    "test_cases_raw[:3]"
   ]
  },
  {
   "cell_type": "code",
   "execution_count": 4,
   "id": "c6fadacb-7f46-48fb-9ca2-7f58018c234b",
   "metadata": {},
   "outputs": [
    {
     "data": {
      "text/plain": [
       "[['什么是我国第一部编年史著作？', '《左传》。', '附：《左传》是我国第一部编年史著作。\\n'],\n",
       " ['什么是我国第一部编年国别史？', '《国语》。', '附：《国语》是我国第一部编年国别史。\\n'],\n",
       " ['“寡人之于国也”下一句是什么？来自哪里？',\n",
       "  '“寡人之于国也”下一句是“尽心焉耳矣”。这个句子来自《孟子》。',\n",
       "  '梁惠王曰：“寡人之于国也，尽心焉耳矣。河内凶，则移其民于河东，移其粟于河内；河东凶亦然。察邻国之政，无如寡人之用心者。邻国之民不加少，寡人之民不加多，何也？”',\n",
       "  '《寡人之于国也》（孟子）\\n']]"
      ]
     },
     "execution_count": 4,
     "metadata": {},
     "output_type": "execute_result"
    }
   ],
   "source": [
    "test_cases_raw = [re.split(r'\\n答：|\\n资料：', x) for x in test_cases_raw]\n",
    "test_cases_raw[:3]"
   ]
  },
  {
   "cell_type": "code",
   "execution_count": 5,
   "id": "fcca5387-3ffb-4a74-bf70-7f6ab1bae528",
   "metadata": {},
   "outputs": [
    {
     "data": {
      "text/plain": [
       "[{'q': '什么是我国第一部编年史著作？', 'a': '《左传》。', 'docs': ['附：《左传》是我国第一部编年史著作。\\n']},\n",
       " {'q': '什么是我国第一部编年国别史？', 'a': '《国语》。', 'docs': ['附：《国语》是我国第一部编年国别史。\\n']},\n",
       " {'q': '“寡人之于国也”下一句是什么？来自哪里？',\n",
       "  'a': '“寡人之于国也”下一句是“尽心焉耳矣”。这个句子来自《孟子》。',\n",
       "  'docs': ['梁惠王曰：“寡人之于国也，尽心焉耳矣。河内凶，则移其民于河东，移其粟于河内；河东凶亦然。察邻国之政，无如寡人之用心者。邻国之民不加少，寡人之民不加多，何也？”',\n",
       "   '《寡人之于国也》（孟子）\\n']}]"
      ]
     },
     "execution_count": 5,
     "metadata": {},
     "output_type": "execute_result"
    }
   ],
   "source": [
    "test_cases = [{'q': x[0], 'a': x[1], 'docs': x[2:]} for x in test_cases_raw]\n",
    "test_cases[:3]"
   ]
  },
  {
   "cell_type": "code",
   "execution_count": 6,
   "id": "e59d925f-2503-4a6c-b129-2fdea95bfdda",
   "metadata": {},
   "outputs": [
    {
     "data": {
      "text/plain": [
       "[{'q': '“我相信某一天，在某个人的生命中，他头顶天空中所有云朵的形状将会片刻地与他相似。”出自哪里？',\n",
       "  'a': '原文来自“我们生活的故事 【美】马克·斯特兰德”中《纪念碑》的节选。',\n",
       "  'docs': ['《纪念碑》（节选）\\n']},\n",
       " {'q': '有一个诗人曾经写过类似“有人把国家带进沟里，但这些人说统治是一门艺术”的话。请找到出处。',\n",
       "  'a': '在“致后代 【德】贝托尔特·布莱希特”的“那些把肉从桌上拿走的人【1937】”中，作者写道：\\\\n那些把肉从桌上拿走的人\\\\n教导人们满足。\\\\n那些获得进贡的人\\\\n要求人们牺牲。\\\\n那些吃饱喝够的人向饥饿者\\\\n描绘将来的美好时代。\\\\n那些把国家带到深渊里的人\\\\n说统治太难，普通人\\\\n不能胜任。',\n",
       "  'docs': ['那些把肉从桌上拿走的人\\\\n教导人们满足。\\\\n那些获得进贡的人\\\\n要求人们牺牲。\\\\n那些吃饱喝够的人向饥饿者\\\\n描绘将来的美好时代。\\\\n那些把国家带到深渊里的人\\\\n说统治太难，普通人\\\\n不能胜任。',\n",
       "   '那些把肉从桌上拿走的人【1937】',\n",
       "   '致后代 【德】贝托尔特·布莱希特\\n']}]"
      ]
     },
     "execution_count": 6,
     "metadata": {},
     "output_type": "execute_result"
    }
   ],
   "source": [
    "test_cases[-3:-1]"
   ]
  },
  {
   "cell_type": "markdown",
   "id": "9acfc474-3c29-4b58-b59c-27b26af6c6a3",
   "metadata": {},
   "source": [
    "## load Notion DB"
   ]
  },
  {
   "cell_type": "code",
   "execution_count": 7,
   "id": "b992cd91-08cd-491c-a714-e315620647fa",
   "metadata": {},
   "outputs": [],
   "source": [
    "from langchain_community.document_loaders import NotionDBLoader\n",
    "import tomllib"
   ]
  },
  {
   "cell_type": "code",
   "execution_count": 15,
   "id": "c8807343-9eef-427c-8bc3-543598eb02ae",
   "metadata": {},
   "outputs": [],
   "source": [
    "with open('../.tokens.toml', 'rb') as f:\n",
    "    _TOKENS = tomllib.load(f)\n",
    "\n",
    "with open('../.notion_databases.toml', 'rb') as f:\n",
    "    _DATABASES_NOTION = tomllib.load(f)"
   ]
  },
  {
   "cell_type": "code",
   "execution_count": 16,
   "id": "1bfa1e64-c22e-4919-91b1-957704267eec",
   "metadata": {},
   "outputs": [
    {
     "data": {
      "text/plain": [
       "{'写作': '8b81c07089344d8d95ddba22bafb8c12',\n",
       " '笔记（非文学）': '7443174d151342458fb7e47acdbb0c64',\n",
       " '读书笔记（文学）': '808e50735cce4c66a151f3e8b79c8d9d',\n",
       " '格言小集': '04d75f24b9544f3f8b220d5e7d87b7c3'}"
      ]
     },
     "execution_count": 16,
     "metadata": {},
     "output_type": "execute_result"
    }
   ],
   "source": [
    "_DATABASES_NOTION"
   ]
  },
  {
   "cell_type": "code",
   "execution_count": 55,
   "id": "097a68ec-9e72-4d8b-8e5d-ee0116468b9d",
   "metadata": {
    "scrolled": true
   },
   "outputs": [
    {
     "ename": "HTTPError",
     "evalue": "400 Client Error: Bad Request for url: https://api.notion.com/v1/databases/8b81c07089344d8d95ddba22bafb8c12/query",
     "output_type": "error",
     "traceback": [
      "\u001b[0;31m---------------------------------------------------------------------------\u001b[0m",
      "\u001b[0;31mHTTPError\u001b[0m                                 Traceback (most recent call last)",
      "File \u001b[0;32m<timed exec>:12\u001b[0m\n",
      "File \u001b[0;32m<timed exec>:7\u001b[0m, in \u001b[0;36mload_notion_dbs\u001b[0;34m(dbs, id)\u001b[0m\n",
      "File \u001b[0;32m~/micromamba/envs/my-notion-companion/lib/python3.11/site-packages/langchain_community/document_loaders/notiondb.py:51\u001b[0m, in \u001b[0;36mNotionDBLoader.load\u001b[0;34m(self)\u001b[0m\n\u001b[1;32m     46\u001b[0m \u001b[38;5;28;01mdef\u001b[39;00m \u001b[38;5;21mload\u001b[39m(\u001b[38;5;28mself\u001b[39m) \u001b[38;5;241m-\u001b[39m\u001b[38;5;241m>\u001b[39m List[Document]:\n\u001b[1;32m     47\u001b[0m \u001b[38;5;250m    \u001b[39m\u001b[38;5;124;03m\"\"\"Load documents from the Notion database.\u001b[39;00m\n\u001b[1;32m     48\u001b[0m \u001b[38;5;124;03m    Returns:\u001b[39;00m\n\u001b[1;32m     49\u001b[0m \u001b[38;5;124;03m        List[Document]: List of documents.\u001b[39;00m\n\u001b[1;32m     50\u001b[0m \u001b[38;5;124;03m    \"\"\"\u001b[39;00m\n\u001b[0;32m---> 51\u001b[0m     page_summaries \u001b[38;5;241m=\u001b[39m \u001b[38;5;28;43mself\u001b[39;49m\u001b[38;5;241;43m.\u001b[39;49m\u001b[43m_retrieve_page_summaries\u001b[49m\u001b[43m(\u001b[49m\u001b[43m)\u001b[49m\n\u001b[1;32m     53\u001b[0m     \u001b[38;5;28;01mreturn\u001b[39;00m \u001b[38;5;28mlist\u001b[39m(\u001b[38;5;28mself\u001b[39m\u001b[38;5;241m.\u001b[39mload_page(page_summary) \u001b[38;5;28;01mfor\u001b[39;00m page_summary \u001b[38;5;129;01min\u001b[39;00m page_summaries)\n",
      "File \u001b[0;32m~/micromamba/envs/my-notion-companion/lib/python3.11/site-packages/langchain_community/document_loaders/notiondb.py:62\u001b[0m, in \u001b[0;36mNotionDBLoader._retrieve_page_summaries\u001b[0;34m(self, query_dict)\u001b[0m\n\u001b[1;32m     59\u001b[0m pages: List[Dict[\u001b[38;5;28mstr\u001b[39m, Any]] \u001b[38;5;241m=\u001b[39m []\n\u001b[1;32m     61\u001b[0m \u001b[38;5;28;01mwhile\u001b[39;00m \u001b[38;5;28;01mTrue\u001b[39;00m:\n\u001b[0;32m---> 62\u001b[0m     data \u001b[38;5;241m=\u001b[39m \u001b[38;5;28;43mself\u001b[39;49m\u001b[38;5;241;43m.\u001b[39;49m\u001b[43m_request\u001b[49m\u001b[43m(\u001b[49m\n\u001b[1;32m     63\u001b[0m \u001b[43m        \u001b[49m\u001b[43mDATABASE_URL\u001b[49m\u001b[38;5;241;43m.\u001b[39;49m\u001b[43mformat\u001b[49m\u001b[43m(\u001b[49m\u001b[43mdatabase_id\u001b[49m\u001b[38;5;241;43m=\u001b[39;49m\u001b[38;5;28;43mself\u001b[39;49m\u001b[38;5;241;43m.\u001b[39;49m\u001b[43mdatabase_id\u001b[49m\u001b[43m)\u001b[49m\u001b[43m,\u001b[49m\n\u001b[1;32m     64\u001b[0m \u001b[43m        \u001b[49m\u001b[43mmethod\u001b[49m\u001b[38;5;241;43m=\u001b[39;49m\u001b[38;5;124;43m\"\u001b[39;49m\u001b[38;5;124;43mPOST\u001b[39;49m\u001b[38;5;124;43m\"\u001b[39;49m\u001b[43m,\u001b[49m\n\u001b[1;32m     65\u001b[0m \u001b[43m        \u001b[49m\u001b[43mquery_dict\u001b[49m\u001b[38;5;241;43m=\u001b[39;49m\u001b[43mquery_dict\u001b[49m\u001b[43m,\u001b[49m\n\u001b[1;32m     66\u001b[0m \u001b[43m    \u001b[49m\u001b[43m)\u001b[49m\n\u001b[1;32m     68\u001b[0m     pages\u001b[38;5;241m.\u001b[39mextend(data\u001b[38;5;241m.\u001b[39mget(\u001b[38;5;124m\"\u001b[39m\u001b[38;5;124mresults\u001b[39m\u001b[38;5;124m\"\u001b[39m))\n\u001b[1;32m     70\u001b[0m     \u001b[38;5;28;01mif\u001b[39;00m \u001b[38;5;129;01mnot\u001b[39;00m data\u001b[38;5;241m.\u001b[39mget(\u001b[38;5;124m\"\u001b[39m\u001b[38;5;124mhas_more\u001b[39m\u001b[38;5;124m\"\u001b[39m):\n",
      "File \u001b[0;32m~/micromamba/envs/my-notion-companion/lib/python3.11/site-packages/langchain_community/document_loaders/notiondb.py:194\u001b[0m, in \u001b[0;36mNotionDBLoader._request\u001b[0;34m(self, url, method, query_dict)\u001b[0m\n\u001b[1;32m    184\u001b[0m \u001b[38;5;28;01mdef\u001b[39;00m \u001b[38;5;21m_request\u001b[39m(\n\u001b[1;32m    185\u001b[0m     \u001b[38;5;28mself\u001b[39m, url: \u001b[38;5;28mstr\u001b[39m, method: \u001b[38;5;28mstr\u001b[39m \u001b[38;5;241m=\u001b[39m \u001b[38;5;124m\"\u001b[39m\u001b[38;5;124mGET\u001b[39m\u001b[38;5;124m\"\u001b[39m, query_dict: Dict[\u001b[38;5;28mstr\u001b[39m, Any] \u001b[38;5;241m=\u001b[39m {}\n\u001b[1;32m    186\u001b[0m ) \u001b[38;5;241m-\u001b[39m\u001b[38;5;241m>\u001b[39m Any:\n\u001b[1;32m    187\u001b[0m     res \u001b[38;5;241m=\u001b[39m requests\u001b[38;5;241m.\u001b[39mrequest(\n\u001b[1;32m    188\u001b[0m         method,\n\u001b[1;32m    189\u001b[0m         url,\n\u001b[0;32m   (...)\u001b[0m\n\u001b[1;32m    192\u001b[0m         timeout\u001b[38;5;241m=\u001b[39m\u001b[38;5;28mself\u001b[39m\u001b[38;5;241m.\u001b[39mrequest_timeout_sec,\n\u001b[1;32m    193\u001b[0m     )\n\u001b[0;32m--> 194\u001b[0m     \u001b[43mres\u001b[49m\u001b[38;5;241;43m.\u001b[39;49m\u001b[43mraise_for_status\u001b[49m\u001b[43m(\u001b[49m\u001b[43m)\u001b[49m\n\u001b[1;32m    195\u001b[0m     \u001b[38;5;28;01mreturn\u001b[39;00m res\u001b[38;5;241m.\u001b[39mjson()\n",
      "File \u001b[0;32m~/micromamba/envs/my-notion-companion/lib/python3.11/site-packages/requests/models.py:1021\u001b[0m, in \u001b[0;36mResponse.raise_for_status\u001b[0;34m(self)\u001b[0m\n\u001b[1;32m   1016\u001b[0m     http_error_msg \u001b[38;5;241m=\u001b[39m (\n\u001b[1;32m   1017\u001b[0m         \u001b[38;5;124mf\u001b[39m\u001b[38;5;124m\"\u001b[39m\u001b[38;5;132;01m{\u001b[39;00m\u001b[38;5;28mself\u001b[39m\u001b[38;5;241m.\u001b[39mstatus_code\u001b[38;5;132;01m}\u001b[39;00m\u001b[38;5;124m Server Error: \u001b[39m\u001b[38;5;132;01m{\u001b[39;00mreason\u001b[38;5;132;01m}\u001b[39;00m\u001b[38;5;124m for url: \u001b[39m\u001b[38;5;132;01m{\u001b[39;00m\u001b[38;5;28mself\u001b[39m\u001b[38;5;241m.\u001b[39murl\u001b[38;5;132;01m}\u001b[39;00m\u001b[38;5;124m\"\u001b[39m\n\u001b[1;32m   1018\u001b[0m     )\n\u001b[1;32m   1020\u001b[0m \u001b[38;5;28;01mif\u001b[39;00m http_error_msg:\n\u001b[0;32m-> 1021\u001b[0m     \u001b[38;5;28;01mraise\u001b[39;00m HTTPError(http_error_msg, response\u001b[38;5;241m=\u001b[39m\u001b[38;5;28mself\u001b[39m)\n",
      "\u001b[0;31mHTTPError\u001b[0m: 400 Client Error: Bad Request for url: https://api.notion.com/v1/databases/8b81c07089344d8d95ddba22bafb8c12/query"
     ]
    }
   ],
   "source": [
    "%%time\n",
    "\n",
    "def load_notion_dbs(dbs, id):\n",
    "    loader = NotionDBLoader(\n",
    "        integration_token=_TOKENS['notion'],\n",
    "        database_id=dbs[id],\n",
    "        request_timeout_sec=150,  # optional, defaults to 10\n",
    "    )\n",
    "    return loader.load()\n",
    "\n",
    "docs = dict()\n",
    "\n",
    "for k in _DATABASES_NOTION:\n",
    "    docs[k] = load_notion_dbs(_DATABASES_NOTION, k)"
   ]
  },
  {
   "cell_type": "markdown",
   "id": "3b4f3c93-27b1-4684-a9ab-18839b05c7a8",
   "metadata": {},
   "source": [
    "## Testing ideas\n",
    "\n",
    "\n",
    "* langchain.text_splitter w/ params\n",
    "* langchain_community.embeddings\n",
    "* langchain_community.vectorstores\n",
    "* retrieval methods: cos/dot; llm-aided; MMR (Maximum marginal relevance)"
   ]
  },
  {
   "cell_type": "code",
   "execution_count": null,
   "id": "ecfb1475-5690-4cf6-a3b4-dda50253846c",
   "metadata": {},
   "outputs": [],
   "source": []
  }
 ],
 "metadata": {
  "kernelspec": {
   "display_name": "Python 3 (ipykernel)",
   "language": "python",
   "name": "python3"
  },
  "language_info": {
   "codemirror_mode": {
    "name": "ipython",
    "version": 3
   },
   "file_extension": ".py",
   "mimetype": "text/x-python",
   "name": "python",
   "nbconvert_exporter": "python",
   "pygments_lexer": "ipython3",
   "version": "3.11.7"
  }
 },
 "nbformat": 4,
 "nbformat_minor": 5
}
