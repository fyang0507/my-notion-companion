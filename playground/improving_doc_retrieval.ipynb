{
 "cells": [
  {
   "cell_type": "markdown",
   "id": "06d9187e-75b7-4c96-a499-9e9702f70e59",
   "metadata": {},
   "source": [
    "# Improving document retrieval"
   ]
  },
  {
   "cell_type": "code",
   "execution_count": null,
   "id": "b992cd91-08cd-491c-a714-e315620647fa",
   "metadata": {},
   "outputs": [],
   "source": []
  }
 ],
 "metadata": {
  "kernelspec": {
   "display_name": "Python 3 (ipykernel)",
   "language": "python",
   "name": "python3"
  },
  "language_info": {
   "codemirror_mode": {
    "name": "ipython",
    "version": 3
   },
   "file_extension": ".py",
   "mimetype": "text/x-python",
   "name": "python",
   "nbconvert_exporter": "python",
   "pygments_lexer": "ipython3",
   "version": "3.11.7"
  }
 },
 "nbformat": 4,
 "nbformat_minor": 5
}
