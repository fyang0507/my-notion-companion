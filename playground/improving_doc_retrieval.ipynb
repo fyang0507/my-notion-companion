{
 "cells": [
  {
   "cell_type": "markdown",
   "id": "06d9187e-75b7-4c96-a499-9e9702f70e59",
   "metadata": {},
   "source": [
    "# Improving document retrieval"
   ]
  },
  {
   "cell_type": "markdown",
   "id": "54eefcd0-02f5-4fea-939d-29444a5bc5cd",
   "metadata": {},
   "source": [
    "## load and format test cases"
   ]
  },
  {
   "cell_type": "code",
   "execution_count": 1,
   "id": "53753ff6-f8ad-458e-b3e1-7b2413b2088c",
   "metadata": {},
   "outputs": [],
   "source": [
    "import re"
   ]
  },
  {
   "cell_type": "code",
   "execution_count": 2,
   "id": "2ccda418-6b14-4cb8-a5f6-ddb15f0a9110",
   "metadata": {},
   "outputs": [],
   "source": [
    "with open('../data/test_cases.txt') as f:\n",
    "    test_cases_raw = f.readlines()"
   ]
  },
  {
   "cell_type": "code",
   "execution_count": 3,
   "id": "228305c8-8cfd-4c4f-9607-354ea36d5adc",
   "metadata": {},
   "outputs": [
    {
     "data": {
      "text/plain": [
       "['什么是我国第一部编年史著作？\\n答：《左传》。\\n资料：附：《左传》是我国第一部编年史著作。\\n',\n",
       " '什么是我国第一部编年国别史？\\n答：《国语》。\\n资料：附：《国语》是我国第一部编年国别史。\\n',\n",
       " '“寡人之于国也”下一句是什么？来自哪里？\\n答：“寡人之于国也”下一句是“尽心焉耳矣”。这个句子来自《孟子》。\\n资料：梁惠王曰：“寡人之于国也，尽心焉耳矣。河内凶，则移其民于河东，移其粟于河内；河东凶亦然。察邻国之政，无如寡人之用心者。邻国之民不加少，寡人之民不加多，何也？”\\n资料：《寡人之于国也》（孟子）\\n']"
      ]
     },
     "execution_count": 3,
     "metadata": {},
     "output_type": "execute_result"
    }
   ],
   "source": [
    "test_cases_raw = \"\".join(test_cases_raw[0:-1:2]).split('问：')[1:]\n",
    "test_cases_raw[:3]"
   ]
  },
  {
   "cell_type": "code",
   "execution_count": 4,
   "id": "c6fadacb-7f46-48fb-9ca2-7f58018c234b",
   "metadata": {},
   "outputs": [
    {
     "data": {
      "text/plain": [
       "[['什么是我国第一部编年史著作？', '《左传》。', '附：《左传》是我国第一部编年史著作。\\n'],\n",
       " ['什么是我国第一部编年国别史？', '《国语》。', '附：《国语》是我国第一部编年国别史。\\n'],\n",
       " ['“寡人之于国也”下一句是什么？来自哪里？',\n",
       "  '“寡人之于国也”下一句是“尽心焉耳矣”。这个句子来自《孟子》。',\n",
       "  '梁惠王曰：“寡人之于国也，尽心焉耳矣。河内凶，则移其民于河东，移其粟于河内；河东凶亦然。察邻国之政，无如寡人之用心者。邻国之民不加少，寡人之民不加多，何也？”',\n",
       "  '《寡人之于国也》（孟子）\\n']]"
      ]
     },
     "execution_count": 4,
     "metadata": {},
     "output_type": "execute_result"
    }
   ],
   "source": [
    "test_cases_raw = [re.split(r'\\n答：|\\n资料：', x) for x in test_cases_raw]\n",
    "test_cases_raw[:3]"
   ]
  },
  {
   "cell_type": "code",
   "execution_count": 5,
   "id": "fcca5387-3ffb-4a74-bf70-7f6ab1bae528",
   "metadata": {},
   "outputs": [
    {
     "data": {
      "text/plain": [
       "[{'q': '什么是我国第一部编年史著作？', 'a': '《左传》。', 'docs': ['附：《左传》是我国第一部编年史著作。\\n']},\n",
       " {'q': '什么是我国第一部编年国别史？', 'a': '《国语》。', 'docs': ['附：《国语》是我国第一部编年国别史。\\n']},\n",
       " {'q': '“寡人之于国也”下一句是什么？来自哪里？',\n",
       "  'a': '“寡人之于国也”下一句是“尽心焉耳矣”。这个句子来自《孟子》。',\n",
       "  'docs': ['梁惠王曰：“寡人之于国也，尽心焉耳矣。河内凶，则移其民于河东，移其粟于河内；河东凶亦然。察邻国之政，无如寡人之用心者。邻国之民不加少，寡人之民不加多，何也？”',\n",
       "   '《寡人之于国也》（孟子）\\n']}]"
      ]
     },
     "execution_count": 5,
     "metadata": {},
     "output_type": "execute_result"
    }
   ],
   "source": [
    "test_cases = [{'q': x[0], 'a': x[1], 'docs': x[2:]} for x in test_cases_raw]\n",
    "test_cases[:3]"
   ]
  },
  {
   "cell_type": "code",
   "execution_count": 6,
   "id": "e59d925f-2503-4a6c-b129-2fdea95bfdda",
   "metadata": {
    "scrolled": true
   },
   "outputs": [
    {
     "data": {
      "text/plain": [
       "[{'q': '“我相信某一天，在某个人的生命中，他头顶天空中所有云朵的形状将会片刻地与他相似。”出自哪里？',\n",
       "  'a': '原文来自“我们生活的故事 【美】马克·斯特兰德”中《纪念碑》的节选。',\n",
       "  'docs': ['《纪念碑》（节选）\\n']},\n",
       " {'q': '有一个诗人曾经写过类似“有人把国家带进沟里，但这些人说统治是一门艺术”的话。请找到出处。',\n",
       "  'a': '在“致后代 【德】贝托尔特·布莱希特”的“那些把肉从桌上拿走的人【1937】”中，作者写道：\\\\n那些把肉从桌上拿走的人\\\\n教导人们满足。\\\\n那些获得进贡的人\\\\n要求人们牺牲。\\\\n那些吃饱喝够的人向饥饿者\\\\n描绘将来的美好时代。\\\\n那些把国家带到深渊里的人\\\\n说统治太难，普通人\\\\n不能胜任。',\n",
       "  'docs': ['那些把肉从桌上拿走的人\\\\n教导人们满足。\\\\n那些获得进贡的人\\\\n要求人们牺牲。\\\\n那些吃饱喝够的人向饥饿者\\\\n描绘将来的美好时代。\\\\n那些把国家带到深渊里的人\\\\n说统治太难，普通人\\\\n不能胜任。',\n",
       "   '那些把肉从桌上拿走的人【1937】',\n",
       "   '致后代 【德】贝托尔特·布莱希特\\n']}]"
      ]
     },
     "execution_count": 6,
     "metadata": {},
     "output_type": "execute_result"
    }
   ],
   "source": [
    "test_cases[-3:-1]"
   ]
  },
  {
   "cell_type": "markdown",
   "id": "9acfc474-3c29-4b58-b59c-27b26af6c6a3",
   "metadata": {},
   "source": [
    "## load Notion DB"
   ]
  },
  {
   "cell_type": "code",
   "execution_count": 1,
   "id": "b992cd91-08cd-491c-a714-e315620647fa",
   "metadata": {},
   "outputs": [],
   "source": [
    "from langchain_community.document_loaders import NotionDBLoader\n",
    "import tomllib"
   ]
  },
  {
   "cell_type": "code",
   "execution_count": 2,
   "id": "c8807343-9eef-427c-8bc3-543598eb02ae",
   "metadata": {},
   "outputs": [],
   "source": [
    "with open('../.tokens.toml', 'rb') as f:\n",
    "    _TOKENS = tomllib.load(f)\n",
    "\n",
    "with open('../.notion_databases.toml', 'rb') as f:\n",
    "    _DATABASES_NOTION = tomllib.load(f)"
   ]
  },
  {
   "cell_type": "code",
   "execution_count": 3,
   "id": "1bfa1e64-c22e-4919-91b1-957704267eec",
   "metadata": {},
   "outputs": [
    {
     "data": {
      "text/plain": [
       "{'写作': '8b81c07089344d8d95ddba22bafb8c12',\n",
       " '笔记（非文学）': '7443174d151342458fb7e47acdbb0c64',\n",
       " '读书笔记（文学）': '808e50735cce4c66a151f3e8b79c8d9d',\n",
       " '格言小集': '04d75f24b9544f3f8b220d5e7d87b7c3'}"
      ]
     },
     "execution_count": 3,
     "metadata": {},
     "output_type": "execute_result"
    }
   ],
   "source": [
    "_DATABASES_NOTION"
   ]
  },
  {
   "cell_type": "code",
   "execution_count": 4,
   "id": "234c46e9-ee4b-4435-ba0b-c6591151117b",
   "metadata": {},
   "outputs": [],
   "source": [
    "# # for testing, only use 2 with test cases\n",
    "# del _DATABASES_NOTION['写作']\n",
    "# del _DATABASES_NOTION['笔记（非文学）']"
   ]
  },
  {
   "cell_type": "code",
   "execution_count": 5,
   "id": "5562e1f0-8dfb-43b9-8332-dec0d4f0be48",
   "metadata": {},
   "outputs": [
    {
     "data": {
      "text/plain": [
       "{'写作': '8b81c07089344d8d95ddba22bafb8c12',\n",
       " '笔记（非文学）': '7443174d151342458fb7e47acdbb0c64',\n",
       " '读书笔记（文学）': '808e50735cce4c66a151f3e8b79c8d9d',\n",
       " '格言小集': '04d75f24b9544f3f8b220d5e7d87b7c3'}"
      ]
     },
     "execution_count": 5,
     "metadata": {},
     "output_type": "execute_result"
    }
   ],
   "source": [
    "_DATABASES_NOTION"
   ]
  },
  {
   "cell_type": "code",
   "execution_count": 6,
   "id": "c1260fcb-a38d-49bd-ba2e-c35970b4ab2c",
   "metadata": {},
   "outputs": [],
   "source": [
    "def load_notion_dbs(dbs, id):\n",
    "    loader = NotionDBLoader(\n",
    "        integration_token=_TOKENS['notion'],\n",
    "        database_id=dbs[id],\n",
    "        request_timeout_sec=300,  # optional, defaults to 10\n",
    "    )\n",
    "    data = loader.load()\n",
    "    return data"
   ]
  },
  {
   "cell_type": "code",
   "execution_count": 15,
   "id": "dff815f9-d575-49b6-8b58-7f99aeb71522",
   "metadata": {},
   "outputs": [
    {
     "ename": "HTTPError",
     "evalue": "400 Client Error: Bad Request for url: https://api.notion.com/v1/databases/8b81c07089344d8d95ddba22bafb8c12/query",
     "output_type": "error",
     "traceback": [
      "\u001b[0;31m---------------------------------------------------------------------------\u001b[0m",
      "\u001b[0;31mHTTPError\u001b[0m                                 Traceback (most recent call last)",
      "Cell \u001b[0;32mIn[15], line 2\u001b[0m\n\u001b[1;32m      1\u001b[0m \u001b[38;5;28;01mfor\u001b[39;00m k \u001b[38;5;129;01min\u001b[39;00m _DATABASES_NOTION:\n\u001b[0;32m----> 2\u001b[0m     _ \u001b[38;5;241m=\u001b[39m \u001b[43mload_notion_dbs\u001b[49m\u001b[43m(\u001b[49m\u001b[43m_DATABASES_NOTION\u001b[49m\u001b[43m,\u001b[49m\u001b[43m \u001b[49m\u001b[43mk\u001b[49m\u001b[43m)\u001b[49m\n",
      "Cell \u001b[0;32mIn[6], line 7\u001b[0m, in \u001b[0;36mload_notion_dbs\u001b[0;34m(dbs, id)\u001b[0m\n\u001b[1;32m      1\u001b[0m \u001b[38;5;28;01mdef\u001b[39;00m \u001b[38;5;21mload_notion_dbs\u001b[39m(dbs, \u001b[38;5;28mid\u001b[39m):\n\u001b[1;32m      2\u001b[0m     loader \u001b[38;5;241m=\u001b[39m NotionDBLoader(\n\u001b[1;32m      3\u001b[0m         integration_token\u001b[38;5;241m=\u001b[39m_TOKENS[\u001b[38;5;124m'\u001b[39m\u001b[38;5;124mnotion\u001b[39m\u001b[38;5;124m'\u001b[39m],\n\u001b[1;32m      4\u001b[0m         database_id\u001b[38;5;241m=\u001b[39mdbs[\u001b[38;5;28mid\u001b[39m],\n\u001b[1;32m      5\u001b[0m         request_timeout_sec\u001b[38;5;241m=\u001b[39m\u001b[38;5;241m300\u001b[39m,  \u001b[38;5;66;03m# optional, defaults to 10\u001b[39;00m\n\u001b[1;32m      6\u001b[0m     )\n\u001b[0;32m----> 7\u001b[0m     data \u001b[38;5;241m=\u001b[39m \u001b[43mloader\u001b[49m\u001b[38;5;241;43m.\u001b[39;49m\u001b[43mload\u001b[49m\u001b[43m(\u001b[49m\u001b[43m)\u001b[49m\n\u001b[1;32m      8\u001b[0m     \u001b[38;5;28;01mreturn\u001b[39;00m data\n",
      "File \u001b[0;32m~/micromamba/envs/my-notion-companion/lib/python3.11/site-packages/langchain_community/document_loaders/notiondb.py:51\u001b[0m, in \u001b[0;36mNotionDBLoader.load\u001b[0;34m(self)\u001b[0m\n\u001b[1;32m     46\u001b[0m \u001b[38;5;28;01mdef\u001b[39;00m \u001b[38;5;21mload\u001b[39m(\u001b[38;5;28mself\u001b[39m) \u001b[38;5;241m-\u001b[39m\u001b[38;5;241m>\u001b[39m List[Document]:\n\u001b[1;32m     47\u001b[0m \u001b[38;5;250m    \u001b[39m\u001b[38;5;124;03m\"\"\"Load documents from the Notion database.\u001b[39;00m\n\u001b[1;32m     48\u001b[0m \u001b[38;5;124;03m    Returns:\u001b[39;00m\n\u001b[1;32m     49\u001b[0m \u001b[38;5;124;03m        List[Document]: List of documents.\u001b[39;00m\n\u001b[1;32m     50\u001b[0m \u001b[38;5;124;03m    \"\"\"\u001b[39;00m\n\u001b[0;32m---> 51\u001b[0m     page_summaries \u001b[38;5;241m=\u001b[39m \u001b[38;5;28;43mself\u001b[39;49m\u001b[38;5;241;43m.\u001b[39;49m\u001b[43m_retrieve_page_summaries\u001b[49m\u001b[43m(\u001b[49m\u001b[43m)\u001b[49m\n\u001b[1;32m     53\u001b[0m     \u001b[38;5;28;01mreturn\u001b[39;00m \u001b[38;5;28mlist\u001b[39m(\u001b[38;5;28mself\u001b[39m\u001b[38;5;241m.\u001b[39mload_page(page_summary) \u001b[38;5;28;01mfor\u001b[39;00m page_summary \u001b[38;5;129;01min\u001b[39;00m page_summaries)\n",
      "File \u001b[0;32m~/micromamba/envs/my-notion-companion/lib/python3.11/site-packages/langchain_community/document_loaders/notiondb.py:62\u001b[0m, in \u001b[0;36mNotionDBLoader._retrieve_page_summaries\u001b[0;34m(self, query_dict)\u001b[0m\n\u001b[1;32m     59\u001b[0m pages: List[Dict[\u001b[38;5;28mstr\u001b[39m, Any]] \u001b[38;5;241m=\u001b[39m []\n\u001b[1;32m     61\u001b[0m \u001b[38;5;28;01mwhile\u001b[39;00m \u001b[38;5;28;01mTrue\u001b[39;00m:\n\u001b[0;32m---> 62\u001b[0m     data \u001b[38;5;241m=\u001b[39m \u001b[38;5;28;43mself\u001b[39;49m\u001b[38;5;241;43m.\u001b[39;49m\u001b[43m_request\u001b[49m\u001b[43m(\u001b[49m\n\u001b[1;32m     63\u001b[0m \u001b[43m        \u001b[49m\u001b[43mDATABASE_URL\u001b[49m\u001b[38;5;241;43m.\u001b[39;49m\u001b[43mformat\u001b[49m\u001b[43m(\u001b[49m\u001b[43mdatabase_id\u001b[49m\u001b[38;5;241;43m=\u001b[39;49m\u001b[38;5;28;43mself\u001b[39;49m\u001b[38;5;241;43m.\u001b[39;49m\u001b[43mdatabase_id\u001b[49m\u001b[43m)\u001b[49m\u001b[43m,\u001b[49m\n\u001b[1;32m     64\u001b[0m \u001b[43m        \u001b[49m\u001b[43mmethod\u001b[49m\u001b[38;5;241;43m=\u001b[39;49m\u001b[38;5;124;43m\"\u001b[39;49m\u001b[38;5;124;43mPOST\u001b[39;49m\u001b[38;5;124;43m\"\u001b[39;49m\u001b[43m,\u001b[49m\n\u001b[1;32m     65\u001b[0m \u001b[43m        \u001b[49m\u001b[43mquery_dict\u001b[49m\u001b[38;5;241;43m=\u001b[39;49m\u001b[43mquery_dict\u001b[49m\u001b[43m,\u001b[49m\n\u001b[1;32m     66\u001b[0m \u001b[43m    \u001b[49m\u001b[43m)\u001b[49m\n\u001b[1;32m     68\u001b[0m     pages\u001b[38;5;241m.\u001b[39mextend(data\u001b[38;5;241m.\u001b[39mget(\u001b[38;5;124m\"\u001b[39m\u001b[38;5;124mresults\u001b[39m\u001b[38;5;124m\"\u001b[39m))\n\u001b[1;32m     70\u001b[0m     \u001b[38;5;28;01mif\u001b[39;00m \u001b[38;5;129;01mnot\u001b[39;00m data\u001b[38;5;241m.\u001b[39mget(\u001b[38;5;124m\"\u001b[39m\u001b[38;5;124mhas_more\u001b[39m\u001b[38;5;124m\"\u001b[39m):\n",
      "File \u001b[0;32m~/micromamba/envs/my-notion-companion/lib/python3.11/site-packages/langchain_community/document_loaders/notiondb.py:194\u001b[0m, in \u001b[0;36mNotionDBLoader._request\u001b[0;34m(self, url, method, query_dict)\u001b[0m\n\u001b[1;32m    184\u001b[0m \u001b[38;5;28;01mdef\u001b[39;00m \u001b[38;5;21m_request\u001b[39m(\n\u001b[1;32m    185\u001b[0m     \u001b[38;5;28mself\u001b[39m, url: \u001b[38;5;28mstr\u001b[39m, method: \u001b[38;5;28mstr\u001b[39m \u001b[38;5;241m=\u001b[39m \u001b[38;5;124m\"\u001b[39m\u001b[38;5;124mGET\u001b[39m\u001b[38;5;124m\"\u001b[39m, query_dict: Dict[\u001b[38;5;28mstr\u001b[39m, Any] \u001b[38;5;241m=\u001b[39m {}\n\u001b[1;32m    186\u001b[0m ) \u001b[38;5;241m-\u001b[39m\u001b[38;5;241m>\u001b[39m Any:\n\u001b[1;32m    187\u001b[0m     res \u001b[38;5;241m=\u001b[39m requests\u001b[38;5;241m.\u001b[39mrequest(\n\u001b[1;32m    188\u001b[0m         method,\n\u001b[1;32m    189\u001b[0m         url,\n\u001b[0;32m   (...)\u001b[0m\n\u001b[1;32m    192\u001b[0m         timeout\u001b[38;5;241m=\u001b[39m\u001b[38;5;28mself\u001b[39m\u001b[38;5;241m.\u001b[39mrequest_timeout_sec,\n\u001b[1;32m    193\u001b[0m     )\n\u001b[0;32m--> 194\u001b[0m     \u001b[43mres\u001b[49m\u001b[38;5;241;43m.\u001b[39;49m\u001b[43mraise_for_status\u001b[49m\u001b[43m(\u001b[49m\u001b[43m)\u001b[49m\n\u001b[1;32m    195\u001b[0m     \u001b[38;5;28;01mreturn\u001b[39;00m res\u001b[38;5;241m.\u001b[39mjson()\n",
      "File \u001b[0;32m~/micromamba/envs/my-notion-companion/lib/python3.11/site-packages/requests/models.py:1021\u001b[0m, in \u001b[0;36mResponse.raise_for_status\u001b[0;34m(self)\u001b[0m\n\u001b[1;32m   1016\u001b[0m     http_error_msg \u001b[38;5;241m=\u001b[39m (\n\u001b[1;32m   1017\u001b[0m         \u001b[38;5;124mf\u001b[39m\u001b[38;5;124m\"\u001b[39m\u001b[38;5;132;01m{\u001b[39;00m\u001b[38;5;28mself\u001b[39m\u001b[38;5;241m.\u001b[39mstatus_code\u001b[38;5;132;01m}\u001b[39;00m\u001b[38;5;124m Server Error: \u001b[39m\u001b[38;5;132;01m{\u001b[39;00mreason\u001b[38;5;132;01m}\u001b[39;00m\u001b[38;5;124m for url: \u001b[39m\u001b[38;5;132;01m{\u001b[39;00m\u001b[38;5;28mself\u001b[39m\u001b[38;5;241m.\u001b[39murl\u001b[38;5;132;01m}\u001b[39;00m\u001b[38;5;124m\"\u001b[39m\n\u001b[1;32m   1018\u001b[0m     )\n\u001b[1;32m   1020\u001b[0m \u001b[38;5;28;01mif\u001b[39;00m http_error_msg:\n\u001b[0;32m-> 1021\u001b[0m     \u001b[38;5;28;01mraise\u001b[39;00m HTTPError(http_error_msg, response\u001b[38;5;241m=\u001b[39m\u001b[38;5;28mself\u001b[39m)\n",
      "\u001b[0;31mHTTPError\u001b[0m: 400 Client Error: Bad Request for url: https://api.notion.com/v1/databases/8b81c07089344d8d95ddba22bafb8c12/query"
     ]
    }
   ],
   "source": [
    "for k in _DATABASES_NOTION:\n",
    "    _ = load_notion_dbs(_DATABASES_NOTION, k)"
   ]
  },
  {
   "cell_type": "code",
   "execution_count": 7,
   "id": "a4dd3f4d-e9a3-4550-8669-ea92c45375d4",
   "metadata": {},
   "outputs": [
    {
     "name": "stdout",
     "output_type": "stream",
     "text": [
      "CPU times: user 8.77 s, sys: 806 ms, total: 9.57 s\n",
      "Wall time: 1min 28s\n"
     ]
    }
   ],
   "source": [
    "%%time\n",
    "from concurrent.futures import ThreadPoolExecutor\n",
    "\n",
    "e = ThreadPoolExecutor()\n",
    "results = list(e.map(lambda x: load_notion_dbs(_DATABASES_NOTION, x), _DATABASES_NOTION.keys()))"
   ]
  },
  {
   "cell_type": "code",
   "execution_count": 8,
   "id": "fd9a46d2-35a5-43ec-b581-030f2b0aefb4",
   "metadata": {},
   "outputs": [
    {
     "data": {
      "text/plain": [
       "4"
      ]
     },
     "execution_count": 8,
     "metadata": {},
     "output_type": "execute_result"
    }
   ],
   "source": [
    "len(results)"
   ]
  },
  {
   "cell_type": "code",
   "execution_count": 13,
   "id": "b312a555-6c40-45e3-b78b-e78afff674ef",
   "metadata": {
    "scrolled": true
   },
   "outputs": [
    {
     "data": {
      "text/plain": [
       "Document(page_content='中国哲学的精神\\n中国文化的精神基础是\\n伦理\\n（特别是儒家伦理）而不是宗教\\n中国人不以宗教观念和宗教活动为生活中最重要、最迷人的部分。这和其他主要文化（以寺院、僧侣为主导）有根本的重要的不同\\n中国人在哲学里满足了他们对超乎现世的追求，也在哲学里表达、欣赏和体验超道德价值\\n人们习惯于说中国有三教：儒教、道教、佛教。但其实儒教比起宗教更是一种伦理、哲学或者文化；作为一个哲学学派的道家（顺其自然）和以研究方术避免死亡的道教（反乎自然）也有区别；同理，作为哲学的佛学比宗教的佛教在社会上的影响大得多\\n为道 ≠ 为学。在中国哲学的传统中，哲学并不在于增加积极的、实用的知识，而在于提高心灵的境界，获得高于道德价值的价值\\n中国的哲学既是出世的也是入世的\\n“不离日用常行内，直到先天未画前”：中国哲学寻求解决的问题，是把入世和出世这两个对立的命题统一成一个合命题。它是最理想主义的，也是最现实主义的\\n“内圣外王”：中国哲学中，如果一个人不仅在理论而且在行动上能够完成这种统一，他就是圣人，也是最适宜为王之人。这和柏拉图“哲学家-王”的理论很有相似之处\\n中国的哲学和政治思想无法分开：儒家认为，处理日常的人伦世务，不是圣人的分外之事。处理世务，正是圣人人格完全发展的实质所在。他不仅作为社会的公民，而且也作为孟子所谓“天民”，来执行这个任务。正如柏拉图的《理想国》既代表了他的整个哲学，同时也是他的政治思想\\n中国的哲学家以身载道：这个哲学家遵守他的哲学信念而生活，他的生活是他的哲学的组成部分。中国哲学家都是不同程度的苏格拉底，对于他们，哲学从来就不是为人类认识摆设的观念模式，而是内在与他的行动的箴言体系；在极端情况下，他的哲学简直可以说是他的传记\\n中国哲学的阐述多依靠不明晰的比喻论证，而没有正式哲学著作\\n中国哲学家看来，研究哲学不是一种职业，因此中国没有职业哲学家\\n研究中国的哲学，只有看这些人的语录或者写给学生、朋友的信。这些片段来自于他一生的各个时期，语录也不只是一人所记。所以它们不相联系，有时甚至互相矛盾\\n中国哲学家惯用名言隽语、比喻例证来表达自己的思想。这种表达明晰不足而暗示有余。明晰和暗示是不可兼得的，正如一种表达越是散文化就越缺乏诗意；而富于暗示的倾向性是中国一切艺术的理想（“言有尽而意无穷”）\\n郭象是《庄子》的大注释家之一。他的注，本身就是道家文献的经典。庄子的原文暗示，郭象注得明晰。对此，一位禅宗和尚说：“曾见郭象注庄子，识者云：却是庄子注郭象。”\\n中国哲学的背景\\n地理：中国是陆地国家，汉语的“天下”和“四海之内”是一个意思，这对于海洋国家的人可能难以理解。\\n经济：中国是农业国，土地是财富的基础。贯穿中国历史，社会、经济和思想和政策的中心总是围绕着土地的利用和分配。中国哲学思想中的“本末之别”，是农业和商业的关系。区别本末的理由是，农业关系到生产，而商业只关系到交换，但没有生产就没有交换。在中国社会推崇的“上农”的观念中，农业不仅比商业重要，农民也比商人在生活方式上要高尚\\n“反者道之动”：儒道两家都认为，自然界和人类社会的任何事物一旦发展到一个极端，就会反向另一个极端（黑格尔的说法是，一切事物都包含着它自己的否定）。这种观念无疑是受日月运行、农耕的季节交替所启发。这个理论对于中华民族的影响很大，第一是为中庸之道提供了主要论据，第二是这种”黎明即将到来“的心态让中华民族在悠久历史中胜利地克服了许多困难\\n自然的理想化：道家和儒家的不同，是因为他们所理想化的、或理论地表现小农生活的方面不同。小农的生活简朴，思想天真。从这个方面看问题，道家人酒把原始社会的简朴加以理想化，并谴责文化。他们还把儿童的天真加以理想化，并鄙弃知识\\n家族制度、祖先崇拜和等级观念：由于经济原因，农业国的一家几代人都生活在一起，这就发展起来了中国的家族制度。中国的五种传统社会关系：君臣、父子、兄弟、夫妇、朋友中，有三种是家族关系，而另外两种：君臣可以按照父子关系，朋友可以按照兄弟关系来理解。儒家的大部分学说正是论证这种制度的合理，或者是这种社会制度的理论说明。同时，因为父的权威天然高于子的权威，中国以“家邦”为中心的社会制度也天然地拥有等级制度（相较于希腊围绕城邦而组织的社会）\\n出世和入世：《庄子》讲儒家游方之内，道家游方之外。这是说儒家是社会组织、日常生活的哲学；而道家则强调人的内部的自然自发的东西。在公元3、4世纪有些道家的人试图使道家更接近儒家（新道家）；在11、12世纪儒家的人试图使儒家更接近道家（新儒家），正是这些运动使得中国哲学既出世又入世\\n直觉的哲学：诺斯罗普教授把概念分为以直觉得到的和以假设得到的两种。中国的哲学由“农”而生，而“农”相关的概念，例如田地庄稼的知识等，都是直接领悟的。因此，中国的哲学也是以对事物的直接领悟作为哲学的出发点。中国的哲学中，知识论从来没有发展起来（我面前的桌子究竟是一个观念还是占有具体的客观空间），因为知识论问题的提出，只有在强调区别主观和客观的时候。而中国的哲学作为一种审美连续体，其认识者和被认识的事物是一个整体。出于直觉的哲学这一点也可以解释为什么中国哲学的语言总是富于暗示而不明晰：因为它并不表示任何演绎推理，而是哲学家直接把他领悟的道理告诉我们\\n各家的起源\\n司马谈：最初的六家\\n司马谈（司马迁父）是第一个尝试对“百家”试行分类的人。《史记》最后一篇中引用的司马谈的“论六家要旨”，把这些哲学家划分为六个主要流派：\\n阴阳家：以“阴”和“阳”为基础的宇宙生成论，以阴阳的结合和相互作用解释宇宙现象\\n儒家：源自传授古代典籍的教师，是古代文化的保存者。孔子虽然是这一派的领袖人物，但儒家并不仅限于孔子学派的人\\n墨家：在墨子领导下的有严密组织和纪律的团体，它的门徒自称“墨者”\\n名家：着眼于“名”“实”之辩\\n法家：主张政府必须建立在法典，而不是道德惯例的基础上\\n道德家：后来被简称为“道家”，他们的形而上学和社会哲学都围绕“无”展开\\n刘歆：诸子十家和各家起源\\n刘歆是第二个对百家试行分类的历史学家。除了司马谈列举的六家以外，还加入了纵横家，杂家，农家，小说家。刘歆在结论中说：“诸子十家，其可观者，九家而已。”（小说家没有别的九家重要）。\\n刘歆的分类并不比司马谈前进多少，但他是中国历史是第一个尝试系统性追溯各家历史起源的人。\\n\\n官师分离理论：\\n周朝前期的社会制度解体以前，中国社会“官师不分”。这是说某个政府部门的官吏同时也是这个部门有关的一门学术的传授者。因为官吏是世袭的，所以任何一门学术都没有人以私人身份讲授，即当时仅有“官学”，没有“私学”\\n周朝后期因为政权的逐步解体，王室丧失权力，贵族和政府部门的官吏也丧失职位流落民间。这时候他们就转而以私人身份教授他们的专门知识。这个时候官和师的角色就分离了\\n\\n刘歆的尝试是具有开创意义的，但刘歆对各家的解释是不充分，有时甚至是任意地把各家和某一“官”联系起来。冯友兰对此做出一下修正：\\n儒家者流盖出于文士（教授经典和指导礼乐的专家）\\n墨家者流盖出于武士（战争武艺的专家）\\n道家者流盖出于隐者（逃避政治动乱、脱离人类社会的隐居者）\\n名家者流盖出于辩者（说话艺术家）\\n阴阳家者流盖出于方士（巫医、卜筮、占星、术数的专家）\\n法家者流盖出于法术之士（充当封建统治者私人顾问的政治家）\\n孔子：第一位教师\\n中国第一位私学教师\\n“游文于六经之中，留意于仁义之际”：作为儒家创建者，奉《六经》（易、诗、书、礼、乐、春秋；其中《易》是一个例外，它本是一部卜筮之书，但后被儒家解释为形而上学的著作）为经典。六经其实就是六艺，是周代封建制前期数百年中贵族教育的基础\\n“述而不作”：孔子认为自己的任务不是创造，向弟子们讲述、解释和传授传统的制度和观念；当然，孔子并不仅仅是传述，而是由自己的道德观念进行推导并加以解释。这种\\n以述为作\\n的精神被后世儒家传至永久；当经书代代相传时，他们就写出了无数的注疏（在明代形成了“十三经注疏”的成熟、整体性的概念）\\n正名\\n名实相符：“君君，臣臣，父父，子子”\\n孔子认为，一个秩序良好的社会最重要的事就是“正名”，即一切事物与他们理想的本质相符\\n仁与义\\n人在社会中的义务，其形式的本质是它们”应该“，也即”义“，就是指这些义务都是他\\n应该\\n做的事（而不是有利可图的事，经典命题：义利之辨）；具体到行为上这些义务的本质是”仁“，也就是”爱人“\\n孔子认为，真正爱人的人是能够履行社会义务的人，所以，孔子也用“仁”指一切德行的总和(perfect virtue)。”仁人“也即”全德之人“\\n忠与恕\\n实行仁的具体方法就是推己及人（“己欲立而立人，己欲达而达人……可谓仁之方也”）\\n“忠”是推己及人的肯定方面；“恕”是其否定方面\\n忠恕之道是人的道德生活的开端和终结，实行忠恕就是行仁（“夫子之道，忠恕而已矣”）\\n知命\\n“无所为而为”：儒家认为，一个人不可能“无为”，因为每个人都有他应该做的事。然而他做这些事都是“无所为”，因为做这些事的价值在于做的本身之内，而不是在于外在的结果\\n知命是承认世界本来存在的必然性，这样，对于外在的成败也就无所萦怀。在这种意义上，人就永远不会失败，因为如果我们尽了应尽的义务，那么这项义务在道德上就完成了，这与行动的外在成败并不相干\\n孔子的一生正是这种学说的写照。他周游各地，政治上的一切努力都没有得到回报，但他并不气馁（“不知命，无以为君子也。”）\\n超道德：孔子在五六十岁的时候认识“天命”并且顺乎天命，他在这时候认识到了超道德的价值，认为他所做的事是受到了天的支持（“天下之无道也久矣，天将以夫子为木铎。”）孔子的超道德价值仍然是人伦日用的，孔子的超道德价值和道家抛弃理智和目的的混沌、神秘仍然有所区别\\n墨子：孔子的第一个反对者\\n在周代，天子、诸侯、封建主都有他们的军事专家。当时军队的骨干，由世袭的武士组成。随着封建制度的解体，这些武士专家丧失了爵位，流散各地被雇佣，这种人被称为“游侠”。史记《游侠列传》说他们”其言必信，其行必果，已诺必诚，不爱其躯，赴士之厄困。“\\n和源自上层阶层的儒家思想不同，墨家思想是来自下层阶级的人。从平民观点看，礼乐一类的古代文化和社会活动完全限于贵族，毫无实用价值。墨家对这种传统制度及其辩护者（儒家）的批判，加上对本阶级职业道德的发挥，构成了墨家哲学的核心。\\n墨子及其门徒和普通游侠还是有两点不同：第一，普通游侠只要得到酬谢或者恩惠就可以打仗，但墨子强烈反对侵略战争，只参加严格限于自卫的战争；第二，普通游侠只是新手职业道德的条规，而墨子却详细阐明这种道德并论证了其正当性。\\n兼爱\\n“强之劫弱，众之暴寡，诈之谋愚，贵之傲贱：此天下之害也。”\\n兼爱是墨子哲学的中心概念，这种道德是游侠“有福同享有难同当”逻辑的延伸。以这种团体的概念为基础，墨子宣扬天下每个人都应该无差别地爱一切人\\n功利主义：天志和明鬼\\n为了诱导人们实行兼爱，墨子引进了宗教的、政治的制裁\\n墨家相信鬼神的存在，但是反对丧葬和祭祀的缛礼，这是墨家功利主义的体现。墨子对“鬼神”的信仰并不是对超自然的实体有任何真正的兴趣，而是以诱导人们实行兼爱为出发点（儒家虽然并不相信鬼神但却坚持繁复的丧祭礼仪，这也是出于敬孝祖先的感情，而不是宗教）\\n威权和极权\\n墨子的国家起源学说认为，国家的设立是为了结束混乱（“天下之人异义”），因此国家的根本职能是“一同国之义”，因此墨子认为国家必须是极权主义的，国君的权威必须是绝对的\\n墨子的关于游侠的职业道德也是非常强调团体内服从和纪律的，这反应了在混乱政治局面下，人们向往一个中央集权的政权，哪怕它是专制独裁的\\n“上同而不下比”：永远同意上边的，切莫依照下边的\\n“儒之道，足以丧天下者四焉”\\n儒者不相信天鬼的存在\\n儒者坚持的丧葬文化浪费人民的财富和精力\\n儒者强调对现实没有贡献的音乐\\n儒者委身于命运，造成人民的懒惰\\n杨朱：道家的第一阶段\\n道家并不是普通的隐者，他们在理论上为自己隐退的行为辩护，并提出自己的思想体系。这其中最早的代表人物就是杨朱。《列子》是道家的著作，其中有一篇题为“杨朱”，但现代学者认为这一篇文章和杨朱的思想不和，因此杨朱的思想已经没有完整记载了。\\n为我，轻物重生\\n《孟子》中说：“杨子取为我，拔一毛而利天下，不为也。”；《吕氏春秋》中说：“陌生贵己。”；《淮南子》中写：“全性保真，不以物累形：杨子所立也。”这些是同时代的著作中对杨朱思想的记录和反映\\n在道家更后期的《老子》和《庄子》中也有相同的体现。《老子》中写到：“名与身：孰亲？身与货：孰多？”《庄子》中写到：“山木自寇也。膏火自煎也，桂可食，故伐之。漆可用，故割之。”\\n无用是全生的方法。善于全生的人，一定不能多为恶，但也一定不能多为善。他一定要生活在善恶之间，力求无用。到头来，无用却对于他有大用\\n从为我到无我：先秦道家发展三阶段\\n先秦道家都是为我的，但是随着思考的深入，后来的发展使这种为我走向反面，取消了它自身\\n第一阶段杨朱，出发点是全生避害\\n第二阶段老子，开始企图揭示宇宙事物变化的规律。一个人如果懂得了这些规律，并且遵循规律而调整行动，那么他就能够使事物转向对他有利的方向。但即便一个人懂得自然规律，预料之外的因素仍然会发挥作用，并带来可能的危害（“吾所以有大患者，为吾有身，及吾无身，吾有何患！”）\\n第三阶段庄子，因为没有办法避免受到外界事物的影响，庄子转而从一种更高的观点看待事物，产生”齐生死，一物我“的理论\\n孟子：儒家的理想主义派\\n人性本善', metadata={'author': '【中】冯友兰', 'date': {'start': '2023-05-06', 'end': None, 'time_zone': None}, 'type': ['人文'], 'name': '中国哲学简史', 'id': '0419517a-59be-47a2-a4b9-bb6f21630614'})"
      ]
     },
     "execution_count": 13,
     "metadata": {},
     "output_type": "execute_result"
    }
   ],
   "source": [
    "results[2][1]"
   ]
  },
  {
   "cell_type": "code",
   "execution_count": null,
   "id": "59b2d7e4-4570-4121-8640-6f846dde00b0",
   "metadata": {},
   "outputs": [],
   "source": []
  },
  {
   "cell_type": "code",
   "execution_count": 9,
   "id": "376d450c-e46d-4854-87b3-2263a5f31d9b",
   "metadata": {
    "scrolled": true
   },
   "outputs": [
    {
     "ename": "TypeError",
     "evalue": "NotionDBLoader.__init__() got an unexpected keyword argument 'verbose'",
     "output_type": "error",
     "traceback": [
      "\u001b[0;31m---------------------------------------------------------------------------\u001b[0m",
      "\u001b[0;31mTypeError\u001b[0m                                 Traceback (most recent call last)",
      "Cell \u001b[0;32mIn[9], line 3\u001b[0m\n\u001b[1;32m      1\u001b[0m \u001b[38;5;28;01mimport\u001b[39;00m \u001b[38;5;21;01mlangchain\u001b[39;00m\n\u001b[0;32m----> 3\u001b[0m loader \u001b[38;5;241m=\u001b[39m \u001b[43mNotionDBLoader\u001b[49m\u001b[43m(\u001b[49m\n\u001b[1;32m      4\u001b[0m \u001b[43m    \u001b[49m\u001b[43mintegration_token\u001b[49m\u001b[38;5;241;43m=\u001b[39;49m\u001b[43m_TOKENS\u001b[49m\u001b[43m[\u001b[49m\u001b[38;5;124;43m'\u001b[39;49m\u001b[38;5;124;43mnotion\u001b[39;49m\u001b[38;5;124;43m'\u001b[39;49m\u001b[43m]\u001b[49m\u001b[43m,\u001b[49m\n\u001b[1;32m      5\u001b[0m \u001b[43m    \u001b[49m\u001b[43mdatabase_id\u001b[49m\u001b[38;5;241;43m=\u001b[39;49m\u001b[43m_DATABASES_NOTION\u001b[49m\u001b[43m[\u001b[49m\u001b[38;5;124;43m'\u001b[39;49m\u001b[38;5;124;43m格言小集\u001b[39;49m\u001b[38;5;124;43m'\u001b[39;49m\u001b[43m]\u001b[49m\u001b[43m,\u001b[49m\n\u001b[1;32m      6\u001b[0m \u001b[43m    \u001b[49m\u001b[43mverbose\u001b[49m\u001b[38;5;241;43m=\u001b[39;49m\u001b[38;5;28;43;01mTrue\u001b[39;49;00m\n\u001b[1;32m      7\u001b[0m \u001b[43m)\u001b[49m\n\u001b[1;32m      8\u001b[0m _ \u001b[38;5;241m=\u001b[39m loader\u001b[38;5;241m.\u001b[39mload()\u001b[38;5;241m.\u001b[39mcopy()\n",
      "\u001b[0;31mTypeError\u001b[0m: NotionDBLoader.__init__() got an unexpected keyword argument 'verbose'"
     ]
    }
   ],
   "source": [
    "loader = NotionDBLoader(\n",
    "    integration_token=_TOKENS['notion'],\n",
    "    database_id=_DATABASES_NOTION['格言小集'],\n",
    ")\n",
    "_ = loader.load().copy()"
   ]
  },
  {
   "cell_type": "code",
   "execution_count": 19,
   "id": "1e1f781d-502a-44e5-80d8-7818c5ca3870",
   "metadata": {},
   "outputs": [
    {
     "data": {
      "text/plain": [
       "list"
      ]
     },
     "execution_count": 19,
     "metadata": {},
     "output_type": "execute_result"
    }
   ],
   "source": [
    "type(_)"
   ]
  },
  {
   "cell_type": "code",
   "execution_count": 10,
   "id": "5d8eefb1-0b08-4daa-a329-715f284ce3b2",
   "metadata": {},
   "outputs": [],
   "source": [
    "loader = NotionDBLoader(\n",
    "    integration_token=_TOKENS['notion'],\n",
    "    database_id=_DATABASES_NOTION['读书笔记（文学）'],\n",
    ")\n",
    "_ = loader.load().copy()"
   ]
  },
  {
   "cell_type": "code",
   "execution_count": 9,
   "id": "100f36fe-df0c-4228-a17e-778a1488b600",
   "metadata": {},
   "outputs": [
    {
     "data": {
      "text/plain": [
       "[Document(page_content='人生四不捡：塔吊下边冰红茶，铁轨上边牛肉干，过山车下八宝粥，课桌后边葡萄干', metadata={'name': '笑死', 'id': '2303056b-72f1-4f9a-b377-cf6b12a0d424'}),\n",
       " Document(page_content='\\n名为太阳的溶剂\\n\\n楼群之中，乌鸦堕落为一种失去预言性的可厌生物\\n\\n对大多数人来说，他们所抱定的观念只是为他们生存方式做辩护的使用说明书而已。\\n\\n颤抖的彩虹其实是光的边角余料。\\n\\n以前的建筑是不透明的甲壳类，现在的建筑是透光的腔肠类。\\n\\n射电望远镜就是宇宙射线的向日葵。\\n\\n电线像静脉一样生长着。\\n\\n绝望的尽头并非对绝望感到绝望，而是对绝望感到厌烦。相对地，希望的尽头也只是对希望的疲倦而已。与一般的见解不同，绝望和希望是生活的激发态。\\n', metadata={'name': '沃滋集朔德', 'id': '340f4781-1042-4534-b286-b758b0ca09a4'})]"
      ]
     },
     "execution_count": 9,
     "metadata": {},
     "output_type": "execute_result"
    }
   ],
   "source": [
    "_[:2]"
   ]
  },
  {
   "cell_type": "code",
   "execution_count": 9,
   "id": "097a68ec-9e72-4d8b-8e5d-ee0116468b9d",
   "metadata": {
    "scrolled": true
   },
   "outputs": [],
   "source": []
  },
  {
   "cell_type": "code",
   "execution_count": 10,
   "id": "bbe44f78-0e06-448d-aadb-77cc5da6217e",
   "metadata": {},
   "outputs": [],
   "source": []
  },
  {
   "cell_type": "markdown",
   "id": "3b4f3c93-27b1-4684-a9ab-18839b05c7a8",
   "metadata": {},
   "source": [
    "## Testing ideas\n",
    "\n",
    "\n",
    "* langchain.text_splitter --> MarkdownHeaderTextSplitter\n",
    "    * only one choice of splitter because we are dealing with markdown files\n",
    "    * parameters to game:\n",
    "        * strip_headers: True vs. False (hunch should keep True)\n",
    "        * chunk_size = 128, 256, 512\n",
    "        * chunk_overlap  = 50, 100, 200\n",
    "* langchain_community.embeddings\n",
    "    * from langchain_openai import OpenAIEmbeddings\n",
    "    * model = SentenceTransformer('intfloat/e5-large-v2') This model has 24 layers and the embedding size is 1024.\n",
    "    * sentence-transformers/paraphrase-multilingual-MiniLM-L12-v2\n",
    "    * from langchain_community.embeddings import OllamaEmbeddings\n",
    "    * from langchain_community.embeddings import LlamaCppEmbeddings\n",
    "    * from langchain_community.embeddings import GPT4AllEmbeddings\n",
    "    * from langchain_google_vertexai import VertexAIEmbeddings\n",
    "    * from langchain_community.embeddings import CohereEmbeddings\n",
    "    * from langchain_community.embeddings import QianfanEmbeddingsEndpoint\n",
    "* langchain_community.vectorstores\n",
    "* retrieval methods: cos/dot; llm-aided; MMR (Maximum marginal relevance)"
   ]
  },
  {
   "cell_type": "code",
   "execution_count": null,
   "id": "ecfb1475-5690-4cf6-a3b4-dda50253846c",
   "metadata": {},
   "outputs": [],
   "source": [
    "from langchain.text_splitter import MarkdownHeaderTextSplitter"
   ]
  }
 ],
 "metadata": {
  "kernelspec": {
   "display_name": "Python 3 (ipykernel)",
   "language": "python",
   "name": "python3"
  },
  "language_info": {
   "codemirror_mode": {
    "name": "ipython",
    "version": 3
   },
   "file_extension": ".py",
   "mimetype": "text/x-python",
   "name": "python",
   "nbconvert_exporter": "python",
   "pygments_lexer": "ipython3",
   "version": "3.11.7"
  }
 },
 "nbformat": 4,
 "nbformat_minor": 5
}
